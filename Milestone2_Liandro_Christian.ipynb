{
 "cells": [
  {
   "cell_type": "markdown",
   "id": "977b33fb-842e-497e-b62c-da859ae806b8",
   "metadata": {},
   "source": [
    "### Part NLP"
   ]
  },
  {
   "cell_type": "markdown",
   "id": "8eaeff7b-501e-41bd-a513-3d182aaf0c9e",
   "metadata": {
    "tags": []
   },
   "source": [
    "Imports"
   ]
  },
  {
   "cell_type": "code",
   "execution_count": null,
   "id": "dbe2c94b-b213-4f52-8e5b-50bdd3b09a68",
   "metadata": {
    "tags": []
   },
   "outputs": [],
   "source": [
    "import gzip\n",
    "import pandas as pd\n",
    "import re\n",
    "import wikitextparser as wtp\n",
    "from textblob import TextBlob\n",
    "import matplotlib.pyplot as plt\n",
    "import seaborn as sns\n",
    "import spacy\n",
    "import string\n",
    "import nltk\n",
    "from collections import Counter\n",
    "from sklearn.feature_extraction.text import CountVectorizer\n",
    "from sklearn.decomposition import LatentDirichletAllocation\n",
    "from sklearn.feature_extraction.text import TfidfVectorizer"
   ]
  },
  {
   "cell_type": "code",
   "execution_count": 13,
   "id": "472b4d11-624b-4c45-a0b9-4d05d622133f",
   "metadata": {
    "tags": []
   },
   "outputs": [],
   "source": [
    "# Mettre ici tous les imports\n",
    "import importlib\n",
    "import pandas as pd\n",
    "import modules.data_processing\n",
    "import seaborn as sns\n",
    "import matplotlib.pyplot as plt"
   ]
  },
  {
   "cell_type": "code",
   "execution_count": 14,
   "id": "ff67b8d6-21cb-4357-82dc-7d1d58e7fbd1",
   "metadata": {
    "tags": []
   },
   "outputs": [],
   "source": [
    "## Reloading, relancer cette cell si vous modifiez les fonctions\n",
    "\n",
    "importlib.reload(modules.data_processing)\n",
    "from modules.data_processing import *"
   ]
  },
  {
   "cell_type": "code",
   "execution_count": 15,
   "id": "385d573d-d1cc-44ea-ac44-11069e69446d",
   "metadata": {
    "tags": []
   },
   "outputs": [],
   "source": [
    "DATA_PATH = './data/wiki-RfA.txt'\n",
    "wiki_df = extract_data(DATA_PATH)\n",
    "process_dataframe(wiki_df)"
   ]
  },
  {
   "cell_type": "markdown",
   "id": "b8637f35-253f-4df6-9f30-fce90676181c",
   "metadata": {},
   "source": [
    "imports data from folder :"
   ]
  },
  {
   "cell_type": "markdown",
   "id": "81795dc7-b004-4678-a6dd-9663aee026eb",
   "metadata": {},
   "source": [
    "Filtering comments"
   ]
  },
  {
   "cell_type": "code",
   "execution_count": 16,
   "id": "f40dea8b-ae7b-45b8-b54a-f2670eb6a950",
   "metadata": {
    "tags": []
   },
   "outputs": [],
   "source": [
    "#extract plain text\n",
    "def parse_text(text):\n",
    "    parsed_text = wtp.parse(text)\n",
    "    plain_text = parsed_text.plain_text()\n",
    "    return plain_text"
   ]
  },
  {
   "cell_type": "code",
   "execution_count": 18,
   "id": "001641e6-c20b-470a-a613-ab5eca869d59",
   "metadata": {
    "tags": []
   },
   "outputs": [],
   "source": [
    "df = wiki_df"
   ]
  },
  {
   "cell_type": "code",
   "execution_count": 17,
   "id": "01224d13-4a13-46eb-8cfb-8094181917b0",
   "metadata": {
    "tags": []
   },
   "outputs": [],
   "source": [
    "#NLP pipeline perform several text preprocessing steps\n",
    "def nlp_pipeline(text):\n",
    "\n",
    "    text = text.lower()\n",
    "    text = text.replace('\\n', ' ').replace('\\r', '')\n",
    "    text = ' '.join(text.split())\n",
    "    text = re.sub(r\"[A-Za-z\\.]*[0-9]+[A-Za-z%°\\.]*\", \"\", text)\n",
    "    text = re.sub(r\"(\\s\\-\\s|-$)\", \"\", text)\n",
    "    text = re.sub(r\"[,\\!\\?\\%\\(\\)\\/\\\"]\", \"\", text)\n",
    "    text = re.sub(r\"\\&\\S*\\s\", \"\", text)\n",
    "    text = re.sub(r\"\\&\", \"\", text)\n",
    "    text = re.sub(r\"\\+\", \"\", text)\n",
    "    text = re.sub(r\"\\#\", \"\", text)\n",
    "    text = re.sub(r\"\\$\", \"\", text)\n",
    "    text = re.sub(r\"\\£\", \"\", text)\n",
    "    text = re.sub(r\"\\%\", \"\", text)\n",
    "    text = re.sub(r\"\\:\", \"\", text)\n",
    "    text = re.sub(r\"\\@\", \"\", text)\n",
    "    text = re.sub(r\"\\-\", \"\", text)\n",
    "\n",
    "    return text"
   ]
  },
  {
   "cell_type": "code",
   "execution_count": 19,
   "id": "36e1b92f-50a6-409f-97d6-fb5b06d47122",
   "metadata": {
    "tags": []
   },
   "outputs": [
    {
     "data": {
      "text/html": [
       "<div>\n",
       "<style scoped>\n",
       "    .dataframe tbody tr th:only-of-type {\n",
       "        vertical-align: middle;\n",
       "    }\n",
       "\n",
       "    .dataframe tbody tr th {\n",
       "        vertical-align: top;\n",
       "    }\n",
       "\n",
       "    .dataframe thead th {\n",
       "        text-align: right;\n",
       "    }\n",
       "</style>\n",
       "<table border=\"1\" class=\"dataframe\">\n",
       "  <thead>\n",
       "    <tr style=\"text-align: right;\">\n",
       "      <th></th>\n",
       "      <th>SRC</th>\n",
       "      <th>TGT</th>\n",
       "      <th>VOT</th>\n",
       "      <th>RES</th>\n",
       "      <th>YEA</th>\n",
       "      <th>DAT</th>\n",
       "      <th>TXT</th>\n",
       "      <th>ELECTION_ID</th>\n",
       "      <th>CLE</th>\n",
       "    </tr>\n",
       "  </thead>\n",
       "  <tbody>\n",
       "    <tr>\n",
       "      <th>0</th>\n",
       "      <td>Steel1943</td>\n",
       "      <td>BDD</td>\n",
       "      <td>1</td>\n",
       "      <td>1</td>\n",
       "      <td>2013</td>\n",
       "      <td>2013-04-19 23:13:00</td>\n",
       "      <td>'''Support''' as co-nom.</td>\n",
       "      <td>1</td>\n",
       "      <td>Support as co-nom.</td>\n",
       "    </tr>\n",
       "    <tr>\n",
       "      <th>1</th>\n",
       "      <td>Cuchullain</td>\n",
       "      <td>BDD</td>\n",
       "      <td>1</td>\n",
       "      <td>1</td>\n",
       "      <td>2013</td>\n",
       "      <td>2013-04-20 01:04:00</td>\n",
       "      <td>'''Support''' as nominator.--</td>\n",
       "      <td>1</td>\n",
       "      <td>Support as nominator.--</td>\n",
       "    </tr>\n",
       "    <tr>\n",
       "      <th>2</th>\n",
       "      <td>INeverCry</td>\n",
       "      <td>BDD</td>\n",
       "      <td>1</td>\n",
       "      <td>1</td>\n",
       "      <td>2013</td>\n",
       "      <td>2013-04-19 23:43:00</td>\n",
       "      <td>'''Support''' per noms.</td>\n",
       "      <td>1</td>\n",
       "      <td>Support per noms.</td>\n",
       "    </tr>\n",
       "    <tr>\n",
       "      <th>3</th>\n",
       "      <td>Cncmaster</td>\n",
       "      <td>BDD</td>\n",
       "      <td>1</td>\n",
       "      <td>1</td>\n",
       "      <td>2013</td>\n",
       "      <td>2013-04-20 00:11:00</td>\n",
       "      <td>'''Support''' per noms. BDD is a strong contri...</td>\n",
       "      <td>1</td>\n",
       "      <td>Support per noms. BDD is a strong contributor ...</td>\n",
       "    </tr>\n",
       "    <tr>\n",
       "      <th>4</th>\n",
       "      <td>Miniapolis</td>\n",
       "      <td>BDD</td>\n",
       "      <td>1</td>\n",
       "      <td>1</td>\n",
       "      <td>2013</td>\n",
       "      <td>2013-04-20 00:56:00</td>\n",
       "      <td>'''Support''', with great pleasure. I work wit...</td>\n",
       "      <td>1</td>\n",
       "      <td>Support, with great pleasure. I work with BDD ...</td>\n",
       "    </tr>\n",
       "  </tbody>\n",
       "</table>\n",
       "</div>"
      ],
      "text/plain": [
       "          SRC  TGT  VOT  RES   YEA                 DAT  \\\n",
       "0   Steel1943  BDD    1    1  2013 2013-04-19 23:13:00   \n",
       "1  Cuchullain  BDD    1    1  2013 2013-04-20 01:04:00   \n",
       "2   INeverCry  BDD    1    1  2013 2013-04-19 23:43:00   \n",
       "3   Cncmaster  BDD    1    1  2013 2013-04-20 00:11:00   \n",
       "4  Miniapolis  BDD    1    1  2013 2013-04-20 00:56:00   \n",
       "\n",
       "                                                 TXT  ELECTION_ID  \\\n",
       "0                           '''Support''' as co-nom.            1   \n",
       "1                      '''Support''' as nominator.--            1   \n",
       "2                            '''Support''' per noms.            1   \n",
       "3  '''Support''' per noms. BDD is a strong contri...            1   \n",
       "4  '''Support''', with great pleasure. I work wit...            1   \n",
       "\n",
       "                                                 CLE  \n",
       "0                                 Support as co-nom.  \n",
       "1                            Support as nominator.--  \n",
       "2                                  Support per noms.  \n",
       "3  Support per noms. BDD is a strong contributor ...  \n",
       "4  Support, with great pleasure. I work with BDD ...  "
      ]
     },
     "execution_count": 19,
     "metadata": {},
     "output_type": "execute_result"
    }
   ],
   "source": [
    "#create a CLE (clear text) column\n",
    "df['CLE'] = df['TXT'].apply(parse_text)\n",
    "df.head()"
   ]
  },
  {
   "cell_type": "code",
   "execution_count": 20,
   "id": "44398255-5877-481b-b402-060d9a301373",
   "metadata": {
    "tags": []
   },
   "outputs": [
    {
     "data": {
      "text/html": [
       "<div>\n",
       "<style scoped>\n",
       "    .dataframe tbody tr th:only-of-type {\n",
       "        vertical-align: middle;\n",
       "    }\n",
       "\n",
       "    .dataframe tbody tr th {\n",
       "        vertical-align: top;\n",
       "    }\n",
       "\n",
       "    .dataframe thead th {\n",
       "        text-align: right;\n",
       "    }\n",
       "</style>\n",
       "<table border=\"1\" class=\"dataframe\">\n",
       "  <thead>\n",
       "    <tr style=\"text-align: right;\">\n",
       "      <th></th>\n",
       "      <th>SRC</th>\n",
       "      <th>TGT</th>\n",
       "      <th>VOT</th>\n",
       "      <th>RES</th>\n",
       "      <th>YEA</th>\n",
       "      <th>DAT</th>\n",
       "      <th>TXT</th>\n",
       "      <th>ELECTION_ID</th>\n",
       "      <th>CLE</th>\n",
       "    </tr>\n",
       "  </thead>\n",
       "  <tbody>\n",
       "    <tr>\n",
       "      <th>0</th>\n",
       "      <td>Steel1943</td>\n",
       "      <td>BDD</td>\n",
       "      <td>1</td>\n",
       "      <td>1</td>\n",
       "      <td>2013</td>\n",
       "      <td>2013-04-19 23:13:00</td>\n",
       "      <td>'''Support''' as co-nom.</td>\n",
       "      <td>1</td>\n",
       "      <td>as conom.</td>\n",
       "    </tr>\n",
       "    <tr>\n",
       "      <th>1</th>\n",
       "      <td>Cuchullain</td>\n",
       "      <td>BDD</td>\n",
       "      <td>1</td>\n",
       "      <td>1</td>\n",
       "      <td>2013</td>\n",
       "      <td>2013-04-20 01:04:00</td>\n",
       "      <td>'''Support''' as nominator.--</td>\n",
       "      <td>1</td>\n",
       "      <td>as nominator.</td>\n",
       "    </tr>\n",
       "    <tr>\n",
       "      <th>2</th>\n",
       "      <td>INeverCry</td>\n",
       "      <td>BDD</td>\n",
       "      <td>1</td>\n",
       "      <td>1</td>\n",
       "      <td>2013</td>\n",
       "      <td>2013-04-19 23:43:00</td>\n",
       "      <td>'''Support''' per noms.</td>\n",
       "      <td>1</td>\n",
       "      <td>per noms.</td>\n",
       "    </tr>\n",
       "    <tr>\n",
       "      <th>3</th>\n",
       "      <td>Cncmaster</td>\n",
       "      <td>BDD</td>\n",
       "      <td>1</td>\n",
       "      <td>1</td>\n",
       "      <td>2013</td>\n",
       "      <td>2013-04-20 00:11:00</td>\n",
       "      <td>'''Support''' per noms. BDD is a strong contri...</td>\n",
       "      <td>1</td>\n",
       "      <td>per noms. bdd is a strong contributor with tho...</td>\n",
       "    </tr>\n",
       "    <tr>\n",
       "      <th>4</th>\n",
       "      <td>Miniapolis</td>\n",
       "      <td>BDD</td>\n",
       "      <td>1</td>\n",
       "      <td>1</td>\n",
       "      <td>2013</td>\n",
       "      <td>2013-04-20 00:56:00</td>\n",
       "      <td>'''Support''', with great pleasure. I work wit...</td>\n",
       "      <td>1</td>\n",
       "      <td>with great pleasure. i work with bdd at the gu...</td>\n",
       "    </tr>\n",
       "  </tbody>\n",
       "</table>\n",
       "</div>"
      ],
      "text/plain": [
       "          SRC  TGT  VOT  RES   YEA                 DAT  \\\n",
       "0   Steel1943  BDD    1    1  2013 2013-04-19 23:13:00   \n",
       "1  Cuchullain  BDD    1    1  2013 2013-04-20 01:04:00   \n",
       "2   INeverCry  BDD    1    1  2013 2013-04-19 23:43:00   \n",
       "3   Cncmaster  BDD    1    1  2013 2013-04-20 00:11:00   \n",
       "4  Miniapolis  BDD    1    1  2013 2013-04-20 00:56:00   \n",
       "\n",
       "                                                 TXT  ELECTION_ID  \\\n",
       "0                           '''Support''' as co-nom.            1   \n",
       "1                      '''Support''' as nominator.--            1   \n",
       "2                            '''Support''' per noms.            1   \n",
       "3  '''Support''' per noms. BDD is a strong contri...            1   \n",
       "4  '''Support''', with great pleasure. I work wit...            1   \n",
       "\n",
       "                                                 CLE  \n",
       "0                                          as conom.  \n",
       "1                                      as nominator.  \n",
       "2                                          per noms.  \n",
       "3  per noms. bdd is a strong contributor with tho...  \n",
       "4  with great pleasure. i work with bdd at the gu...  "
      ]
     },
     "execution_count": 20,
     "metadata": {},
     "output_type": "execute_result"
    }
   ],
   "source": [
    "df[\"CLE\"] = df[\"CLE\"].apply(nlp_pipeline)\n",
    "#remove the first word on the list, to avoid a bias on the algorithm\n",
    "df['CLE'] = df['CLE'].str.replace('^(support|oppose|neutral|strong support|weak support|happy support|unfortunate oppose) ', '', regex=True)\n",
    "df.head()"
   ]
  },
  {
   "cell_type": "code",
   "execution_count": 21,
   "id": "d83c3641-9636-4dab-8d2b-9c65a9f10abe",
   "metadata": {
    "tags": []
   },
   "outputs": [
    {
     "name": "stdout",
     "output_type": "stream",
     "text": [
      "0                                                                                                                                                                                                                                                                                                                                                                                                                                                                                                                                                                                                                                                             as conom.\n",
      "1                                                                                                                                                                                                                                                                                                                                                                                                                                                                                                                                                                                                                                                         as nominator.\n",
      "2                                                                                                                                                                                                                                                                                                                                                                                                                                                                                                                                                                                                                                                             per noms.\n",
      "3                                                                                                                                                                                                                                                                                                                                                                                                                                                                                                                                                  per noms. bdd is a strong contributor with thousands of edits and years of experience. i have no problem supporting.\n",
      "4                                                                                                                                                                                                                                                                                                                                                                                                                                                                                      with great pleasure. i work with bdd at the guild of copy editors where we're both coordinators and have seen their good work at rm and afd. a fine addition to the admin corps.\n",
      "5                                                                                                                                                                                                                                                                                                                                                                                                                                                 there are plenty of important roles on this project of which content creator is only one of them. bdd has done good work over a number of years. that his primary activity is not content creation is not of concern.\n",
      "6                                                                                                                                                                                                                                                                                                                                                                                                                                                                                                                                                                                                                                per noms. i don't see a reason not to.\n",
      "7                                                                                bdd already wields a broom pretty well so why not formalize it i'm not too concerned about the lack of indepth experience in developing articles because he has contributed so much to the guild of copy editors backlog drives as his his barnstars attest he has often been on the leaderboard. we don't all need to take the same route to adminship. my only quibble is a very minor onewhat's with all the edits to his user talk archives i hope that he will keep any current discussions involving administration on his main talk page so other editors can find them easily.\n",
      "8    barring a completely unexpected answer to proforma question  above. the heads up about the old  user page is a good one; someone that right on at age  is certainly worthy of support after the better part of a decade of additional seasoning sporting a clean block log and no indications of assholery over that time unsurprisingly. concerns about relative lack of content creation are misplaced; administrative functions are only tangential to content writing which is the reason that some of the best writers are not administrators and some of the best administrators do little in the way of mainspace content creation. an excellent candidate.\n",
      "9                                                                                                                                                                                                                                                                                                                                                                                                                                                                                                                                                                                                                                  because i see no good reason not to.\n",
      "Name: CLE, dtype: object\n"
     ]
    }
   ],
   "source": [
    "#show the first 10 comments completely\n",
    "pd.set_option('display.max_colwidth', None)\n",
    "print(df['CLE'].head(10))\n",
    "pd.reset_option('display.max_colwidth')"
   ]
  },
  {
   "cell_type": "markdown",
   "id": "d2292a15-1d2d-4a5f-82a7-1a3a7927f0c4",
   "metadata": {},
   "source": [
    "## Sentiment analysis"
   ]
  },
  {
   "cell_type": "markdown",
   "id": "d8cb7b9c-364f-4aad-aea9-514552628ba2",
   "metadata": {},
   "source": [
    "We use TextBlob library to get the sentiment polarity and subjectivity of each comment. Polarity between -1 (bad) and +1 (good) and subjectivity between 0 (objective) and 1 (subjective)"
   ]
  },
  {
   "cell_type": "code",
   "execution_count": 22,
   "id": "783edc3a-eb2d-47b4-9d48-a16957a14756",
   "metadata": {
    "tags": []
   },
   "outputs": [],
   "source": [
    "#get the polarity of the sentiment analysis\n",
    "def polarity(text):\n",
    "    pol = TextBlob(text)\n",
    "    return pol.sentiment.polarity\n",
    "\n",
    "#get the subjectivity of the sentiment\n",
    "def subjectivity(text):\n",
    "    pol = TextBlob(text)\n",
    "    return pol.sentiment.subjectivity"
   ]
  },
  {
   "cell_type": "code",
   "execution_count": 23,
   "id": "191f5107-db4b-4572-9ed0-392354841270",
   "metadata": {
    "tags": []
   },
   "outputs": [
    {
     "data": {
      "text/html": [
       "<div>\n",
       "<style scoped>\n",
       "    .dataframe tbody tr th:only-of-type {\n",
       "        vertical-align: middle;\n",
       "    }\n",
       "\n",
       "    .dataframe tbody tr th {\n",
       "        vertical-align: top;\n",
       "    }\n",
       "\n",
       "    .dataframe thead th {\n",
       "        text-align: right;\n",
       "    }\n",
       "</style>\n",
       "<table border=\"1\" class=\"dataframe\">\n",
       "  <thead>\n",
       "    <tr style=\"text-align: right;\">\n",
       "      <th></th>\n",
       "      <th>SRC</th>\n",
       "      <th>TGT</th>\n",
       "      <th>VOT</th>\n",
       "      <th>RES</th>\n",
       "      <th>YEA</th>\n",
       "      <th>DAT</th>\n",
       "      <th>TXT</th>\n",
       "      <th>ELECTION_ID</th>\n",
       "      <th>CLE</th>\n",
       "      <th>polarity</th>\n",
       "      <th>subjectivity</th>\n",
       "    </tr>\n",
       "  </thead>\n",
       "  <tbody>\n",
       "    <tr>\n",
       "      <th>0</th>\n",
       "      <td>Steel1943</td>\n",
       "      <td>BDD</td>\n",
       "      <td>1</td>\n",
       "      <td>1</td>\n",
       "      <td>2013</td>\n",
       "      <td>2013-04-19 23:13:00</td>\n",
       "      <td>'''Support''' as co-nom.</td>\n",
       "      <td>1</td>\n",
       "      <td>as conom.</td>\n",
       "      <td>0.000000</td>\n",
       "      <td>0.000000</td>\n",
       "    </tr>\n",
       "    <tr>\n",
       "      <th>1</th>\n",
       "      <td>Cuchullain</td>\n",
       "      <td>BDD</td>\n",
       "      <td>1</td>\n",
       "      <td>1</td>\n",
       "      <td>2013</td>\n",
       "      <td>2013-04-20 01:04:00</td>\n",
       "      <td>'''Support''' as nominator.--</td>\n",
       "      <td>1</td>\n",
       "      <td>as nominator.</td>\n",
       "      <td>0.000000</td>\n",
       "      <td>0.000000</td>\n",
       "    </tr>\n",
       "    <tr>\n",
       "      <th>2</th>\n",
       "      <td>INeverCry</td>\n",
       "      <td>BDD</td>\n",
       "      <td>1</td>\n",
       "      <td>1</td>\n",
       "      <td>2013</td>\n",
       "      <td>2013-04-19 23:43:00</td>\n",
       "      <td>'''Support''' per noms.</td>\n",
       "      <td>1</td>\n",
       "      <td>per noms.</td>\n",
       "      <td>0.000000</td>\n",
       "      <td>0.000000</td>\n",
       "    </tr>\n",
       "    <tr>\n",
       "      <th>3</th>\n",
       "      <td>Cncmaster</td>\n",
       "      <td>BDD</td>\n",
       "      <td>1</td>\n",
       "      <td>1</td>\n",
       "      <td>2013</td>\n",
       "      <td>2013-04-20 00:11:00</td>\n",
       "      <td>'''Support''' per noms. BDD is a strong contri...</td>\n",
       "      <td>1</td>\n",
       "      <td>per noms. bdd is a strong contributor with tho...</td>\n",
       "      <td>0.341667</td>\n",
       "      <td>0.491667</td>\n",
       "    </tr>\n",
       "    <tr>\n",
       "      <th>4</th>\n",
       "      <td>Miniapolis</td>\n",
       "      <td>BDD</td>\n",
       "      <td>1</td>\n",
       "      <td>1</td>\n",
       "      <td>2013</td>\n",
       "      <td>2013-04-20 00:56:00</td>\n",
       "      <td>'''Support''', with great pleasure. I work wit...</td>\n",
       "      <td>1</td>\n",
       "      <td>with great pleasure. i work with bdd at the gu...</td>\n",
       "      <td>0.638889</td>\n",
       "      <td>0.616667</td>\n",
       "    </tr>\n",
       "  </tbody>\n",
       "</table>\n",
       "</div>"
      ],
      "text/plain": [
       "          SRC  TGT  VOT  RES   YEA                 DAT  \\\n",
       "0   Steel1943  BDD    1    1  2013 2013-04-19 23:13:00   \n",
       "1  Cuchullain  BDD    1    1  2013 2013-04-20 01:04:00   \n",
       "2   INeverCry  BDD    1    1  2013 2013-04-19 23:43:00   \n",
       "3   Cncmaster  BDD    1    1  2013 2013-04-20 00:11:00   \n",
       "4  Miniapolis  BDD    1    1  2013 2013-04-20 00:56:00   \n",
       "\n",
       "                                                 TXT  ELECTION_ID  \\\n",
       "0                           '''Support''' as co-nom.            1   \n",
       "1                      '''Support''' as nominator.--            1   \n",
       "2                            '''Support''' per noms.            1   \n",
       "3  '''Support''' per noms. BDD is a strong contri...            1   \n",
       "4  '''Support''', with great pleasure. I work wit...            1   \n",
       "\n",
       "                                                 CLE  polarity  subjectivity  \n",
       "0                                          as conom.  0.000000      0.000000  \n",
       "1                                      as nominator.  0.000000      0.000000  \n",
       "2                                          per noms.  0.000000      0.000000  \n",
       "3  per noms. bdd is a strong contributor with tho...  0.341667      0.491667  \n",
       "4  with great pleasure. i work with bdd at the gu...  0.638889      0.616667  "
      ]
     },
     "execution_count": 23,
     "metadata": {},
     "output_type": "execute_result"
    }
   ],
   "source": [
    "#add the two columns in the dataframe\n",
    "df['polarity'] = df['CLE'].apply(polarity)\n",
    "df['subjectivity'] = df['CLE'].apply(subjectivity)\n",
    "df.head()"
   ]
  },
  {
   "cell_type": "markdown",
   "id": "059ed129-f8bd-4b15-a7f5-6ab38ff51f45",
   "metadata": {
    "tags": []
   },
   "source": [
    "When we look at the 3 firsts comments, they have a polarity of 0 and a subjectivity of 0. The algorithm does not get any information with comments that are too short or if they have no meaning. This is why we are going to show the distribution of the polarity for different subjectivities"
   ]
  },
  {
   "cell_type": "code",
   "execution_count": 24,
   "id": "b05e746b-d4ce-4eb4-93aa-53481abad7c6",
   "metadata": {
    "tags": []
   },
   "outputs": [
    {
     "data": {
      "image/png": "[encoded data removed]",
      "text/plain": [
       "<Figure size 640x480 with 1 Axes>"
      ]
     },
     "metadata": {},
     "output_type": "display_data"
    }
   ],
   "source": [
    "fig,ax = plt.subplots()\n",
    "ax.hist(df[\"polarity\"],bins=20, histtype=\"step\", label='all',color='b')\n",
    "df_subjectif = df[df['subjectivity'] > 0.2] \n",
    "ax.hist(df_subjectif[\"polarity\"],bins=20, histtype=\"step\", label='subjectivity > 0.2',color='g')\n",
    "df_subjectif = df[df['subjectivity'] > 0.5] \n",
    "ax.hist(df_subjectif[\"polarity\"],bins=20, histtype=\"step\", label='subjectivity > 0.5',color='r')\n",
    "plt.xlabel('polarity')\n",
    "plt.ylabel('nb of comments')\n",
    "plt.title('polarity of the comments')\n",
    "plt.legend()\n",
    "plt.show()"
   ]
  },
  {
   "cell_type": "markdown",
   "id": "62d367d0-8390-4b55-9e94-f0aa4e2814a6",
   "metadata": {},
   "source": [
    "We can see that a lot of comment have 0 polarity because they are not subjective. We suppose that a lot of comments are too short to get any interesting information so we need to display the comments length for each subjectivity."
   ]
  },
  {
   "cell_type": "code",
   "execution_count": 25,
   "id": "5d05c629-ea50-4412-ad4c-3a9e1e75769f",
   "metadata": {
    "tags": []
   },
   "outputs": [
    {
     "data": {
      "image/png": "[encoded data removed]",
      "text/plain": [
       "<Figure size 640x480 with 1 Axes>"
      ]
     },
     "metadata": {},
     "output_type": "display_data"
    }
   ],
   "source": [
    "# graph of the length of the comments for all the comments (blue) and for the subjective comments (with more than 0.2 in green and 0.5 in red)\n",
    "fig,ax = plt.subplots() \n",
    "ax.hist(df[df['subjectivity'] > 0.5]['CLE'].str.len(),bins=1000, histtype=\"step\", label='Subjectivity > 0.5',color='r')\n",
    "ax.hist(df[df['subjectivity'] > 0.2]['CLE'].str.len(),bins=1000, histtype=\"step\", label='Subjectivity > 0.2',color='g')\n",
    "ax.hist(df['CLE'].str.len(),bins=1000, histtype=\"step\", label='All',color='b')\n",
    "plt.xlabel('length of the comments')\n",
    "plt.ylabel('nb of comments')\n",
    "plt.title('length of the comments with different subjectivity')\n",
    "plt.xscale('log')\n",
    "plt.legend()\n",
    "plt.show()"
   ]
  },
  {
   "cell_type": "markdown",
   "id": "cdf34519-e92b-4066-af9a-57018a24bb0c",
   "metadata": {},
   "source": [
    "Many comments appear too brief to provide substantial information. To ensure meaningful insights, we have established a subjectivity threshold of 0.2. Consequently, during our comment exploration, we exclusively utilize the subjective dataframe. This approach aims to enhance the quality of our results by retaining only those comments deemed to be more interesting and informative."
   ]
  },
  {
   "cell_type": "code",
   "execution_count": 28,
   "id": "49f47290-7089-4e51-b176-ff8729cd94ed",
   "metadata": {
    "tags": []
   },
   "outputs": [],
   "source": [
    "#new df with only subjective comments for the rest of the code\n",
    "df_subjectiv = df[df['subjectivity'] > 0.2] "
   ]
  },
  {
   "cell_type": "code",
   "execution_count": 30,
   "id": "7ba11fff-4646-47f7-914d-4e8b57aea1ae",
   "metadata": {
    "tags": []
   },
   "outputs": [
    {
     "data": {
      "text/html": [
       "<div>\n",
       "<style scoped>\n",
       "    .dataframe tbody tr th:only-of-type {\n",
       "        vertical-align: middle;\n",
       "    }\n",
       "\n",
       "    .dataframe tbody tr th {\n",
       "        vertical-align: top;\n",
       "    }\n",
       "\n",
       "    .dataframe thead th {\n",
       "        text-align: right;\n",
       "    }\n",
       "</style>\n",
       "<table border=\"1\" class=\"dataframe\">\n",
       "  <thead>\n",
       "    <tr style=\"text-align: right;\">\n",
       "      <th></th>\n",
       "      <th>SRC</th>\n",
       "      <th>TGT</th>\n",
       "      <th>VOT</th>\n",
       "      <th>RES</th>\n",
       "      <th>YEA</th>\n",
       "      <th>DAT</th>\n",
       "      <th>TXT</th>\n",
       "      <th>ELECTION_ID</th>\n",
       "      <th>CLE</th>\n",
       "      <th>polarity</th>\n",
       "      <th>subjectivity</th>\n",
       "    </tr>\n",
       "  </thead>\n",
       "  <tbody>\n",
       "    <tr>\n",
       "      <th>3</th>\n",
       "      <td>Cncmaster</td>\n",
       "      <td>BDD</td>\n",
       "      <td>1</td>\n",
       "      <td>1</td>\n",
       "      <td>2013</td>\n",
       "      <td>2013-04-20 00:11:00</td>\n",
       "      <td>'''Support''' per noms. BDD is a strong contri...</td>\n",
       "      <td>1</td>\n",
       "      <td>per noms. bdd is a strong contributor with tho...</td>\n",
       "      <td>0.341667</td>\n",
       "      <td>0.491667</td>\n",
       "    </tr>\n",
       "    <tr>\n",
       "      <th>4</th>\n",
       "      <td>Miniapolis</td>\n",
       "      <td>BDD</td>\n",
       "      <td>1</td>\n",
       "      <td>1</td>\n",
       "      <td>2013</td>\n",
       "      <td>2013-04-20 00:56:00</td>\n",
       "      <td>'''Support''', with great pleasure. I work wit...</td>\n",
       "      <td>1</td>\n",
       "      <td>with great pleasure. i work with bdd at the gu...</td>\n",
       "      <td>0.638889</td>\n",
       "      <td>0.616667</td>\n",
       "    </tr>\n",
       "    <tr>\n",
       "      <th>5</th>\n",
       "      <td>Sven Manguard</td>\n",
       "      <td>BDD</td>\n",
       "      <td>1</td>\n",
       "      <td>1</td>\n",
       "      <td>2013</td>\n",
       "      <td>2013-04-20 01:53:00</td>\n",
       "      <td>'''Support''' There are plenty of important ro...</td>\n",
       "      <td>1</td>\n",
       "      <td>there are plenty of important roles on this pr...</td>\n",
       "      <td>0.375000</td>\n",
       "      <td>0.775000</td>\n",
       "    </tr>\n",
       "    <tr>\n",
       "      <th>7</th>\n",
       "      <td>RockMagnetist</td>\n",
       "      <td>BDD</td>\n",
       "      <td>1</td>\n",
       "      <td>1</td>\n",
       "      <td>2013</td>\n",
       "      <td>2013-04-20 02:18:00</td>\n",
       "      <td>'''Support'''  BDD already wields a broom pret...</td>\n",
       "      <td>1</td>\n",
       "      <td>bdd already wields a broom pretty well so why ...</td>\n",
       "      <td>0.095556</td>\n",
       "      <td>0.502963</td>\n",
       "    </tr>\n",
       "    <tr>\n",
       "      <th>8</th>\n",
       "      <td>Carrite</td>\n",
       "      <td>BDD</td>\n",
       "      <td>1</td>\n",
       "      <td>1</td>\n",
       "      <td>2013</td>\n",
       "      <td>2013-04-20 02:22:00</td>\n",
       "      <td>'''Support''' barring a completely unexpected ...</td>\n",
       "      <td>1</td>\n",
       "      <td>barring a completely unexpected answer to prof...</td>\n",
       "      <td>0.333214</td>\n",
       "      <td>0.529048</td>\n",
       "    </tr>\n",
       "  </tbody>\n",
       "</table>\n",
       "</div>"
      ],
      "text/plain": [
       "             SRC  TGT  VOT  RES   YEA                 DAT  \\\n",
       "3      Cncmaster  BDD    1    1  2013 2013-04-20 00:11:00   \n",
       "4     Miniapolis  BDD    1    1  2013 2013-04-20 00:56:00   \n",
       "5  Sven Manguard  BDD    1    1  2013 2013-04-20 01:53:00   \n",
       "7  RockMagnetist  BDD    1    1  2013 2013-04-20 02:18:00   \n",
       "8        Carrite  BDD    1    1  2013 2013-04-20 02:22:00   \n",
       "\n",
       "                                                 TXT  ELECTION_ID  \\\n",
       "3  '''Support''' per noms. BDD is a strong contri...            1   \n",
       "4  '''Support''', with great pleasure. I work wit...            1   \n",
       "5  '''Support''' There are plenty of important ro...            1   \n",
       "7  '''Support'''  BDD already wields a broom pret...            1   \n",
       "8  '''Support''' barring a completely unexpected ...            1   \n",
       "\n",
       "                                                 CLE  polarity  subjectivity  \n",
       "3  per noms. bdd is a strong contributor with tho...  0.341667      0.491667  \n",
       "4  with great pleasure. i work with bdd at the gu...  0.638889      0.616667  \n",
       "5  there are plenty of important roles on this pr...  0.375000      0.775000  \n",
       "7  bdd already wields a broom pretty well so why ...  0.095556      0.502963  \n",
       "8  barring a completely unexpected answer to prof...  0.333214      0.529048  "
      ]
     },
     "execution_count": 30,
     "metadata": {},
     "output_type": "execute_result"
    }
   ],
   "source": [
    "df_subjectiv.head(5)"
   ]
  },
  {
   "cell_type": "markdown",
   "id": "54e4d2ce-e6d3-4b75-94db-5193c07d227a",
   "metadata": {
    "tags": []
   },
   "source": [
    "We want to see the distribution of the polarity across the vote results"
   ]
  },
  {
   "cell_type": "code",
   "execution_count": 31,
   "id": "d5d2be67-6dc0-435b-b43a-e8c5681a12ee",
   "metadata": {
    "tags": []
   },
   "outputs": [
    {
     "name": "stderr",
     "output_type": "stream",
     "text": [
      "C:\\Users\\Akram\\anaconda\\anaconda3\\envs\\ADA\\Lib\\site-packages\\numpy\\lib\\histograms.py:885: RuntimeWarning: invalid value encountered in divide\n",
      "  return n/db/n.sum(), bin_edges\n"
     ]
    },
    {
     "data": {
      "image/png": "[encoded data removed]",
      "text/plain": [
       "<Figure size 640x480 with 1 Axes>"
      ]
     },
     "metadata": {},
     "output_type": "display_data"
    }
   ],
   "source": [
    "# graph show the density of the polarity for the vote \"yes\"-green, \"neutral\"-blue and \"no\"-red\n",
    "fig,ax = plt.subplots() \n",
    "ax.hist(df_subjectiv[df_subjectiv['VOT'] == '1'][\"polarity\"],bins=20, histtype=\"step\", label='Vote YES',color='g', density=True)\n",
    "ax.hist(df_subjectiv[df_subjectiv['VOT'] == '-1'][\"polarity\"],bins=20, histtype=\"step\", label='Vote NO',color='r', density=True)\n",
    "ax.hist(df_subjectiv[df_subjectiv['VOT'] == '0'][\"polarity\"],bins=20, histtype=\"step\", label='Do not vote',color='b', density=True)\n",
    "plt.xlabel('polarity')\n",
    "plt.ylabel('density of comments')\n",
    "plt.title('density of polarity with different vote')\n",
    "plt.legend()\n",
    "plt.show()"
   ]
  },
  {
   "cell_type": "markdown",
   "id": "b8ab4e9e-57fa-429d-bf32-c0f394f4edad",
   "metadata": {},
   "source": [
    "Those who cast positive votes exhibit higher polarity scores compared to those who vote neutrally, and subsequently, individuals who vote negatively tend to have lower polarity scores."
   ]
  },
  {
   "cell_type": "markdown",
   "id": "a5029eab-3cfe-4b68-b264-0d97e0236d34",
   "metadata": {},
   "source": [
    "## Length of the comments"
   ]
  },
  {
   "cell_type": "markdown",
   "id": "40403d35-e80e-4a81-a947-e3ef93e87c2b",
   "metadata": {},
   "source": [
    "In this part, we want to see the correlation between the length of the comment and the subjectivity."
   ]
  },
  {
   "cell_type": "code",
   "execution_count": 16,
   "id": "20dd3799-6814-4dc4-8445-b4443b5afd7e",
   "metadata": {
    "tags": []
   },
   "outputs": [
    {
     "data": {
      "image/png": "[encoded data removed]",
      "text/plain": [
       "<Figure size 640x480 with 1 Axes>"
      ]
     },
     "metadata": {},
     "output_type": "display_data"
    }
   ],
   "source": [
    "#lenght of all the comments (blue), length of all the subjective comments (green) and all the comments who are not subjective (red)\n",
    "fig,ax = plt.subplots() \n",
    "ax.hist(df['TXT'].str.len(),bins=500, histtype=\"step\", label='All',color='b')\n",
    "ax.hist(df[df['subjectivity'] < 0.2]['TXT'].str.len(),bins=500, histtype=\"step\", label='objective comments',color='r')\n",
    "ax.hist(df[df['subjectivity'] > 0.2]['TXT'].str.len(),bins=500, histtype=\"step\", label='subjective comments',color='g')\n",
    "plt.xlabel('length of comments')\n",
    "plt.ylabel('nb of comments')\n",
    "plt.xscale('log')\n",
    "plt.legend()\n",
    "plt.title('Length of the comments')\n",
    "plt.show()"
   ]
  },
  {
   "cell_type": "markdown",
   "id": "be873efd-7654-4ef6-9eaf-d4a66556e9de",
   "metadata": {},
   "source": [
    "We note that typically, when a comment is excessively brief, it tends to be objective. Conversely, when a comment is more extensive in terms of characters, it is likely to be subjective."
   ]
  },
  {
   "cell_type": "markdown",
   "id": "ec7854f4-7899-443e-84ca-aacd946c4954",
   "metadata": {},
   "source": [
    "## Topic of the comments"
   ]
  },
  {
   "cell_type": "markdown",
   "id": "685cafba-cfd2-43ac-93ed-08fcbf13e932",
   "metadata": {},
   "source": [
    "In this part, we are going to use the latent dirichlet allocation who can help us to cluster the comments in various topics. The main idea is to extract some interesting keywords to know more about the comments. With that, we can understand what are the criteria for a succesful election."
   ]
  },
  {
   "cell_type": "markdown",
   "id": "0b6c1742-972d-4a11-a5a8-3ce30a07dfdb",
   "metadata": {},
   "source": [
    "We start with processing text with spacy"
   ]
  },
  {
   "cell_type": "code",
   "execution_count": 37,
   "id": "d79e6f9e-befd-4b4c-ab0a-0aa5f8beb632",
   "metadata": {
    "tags": []
   },
   "outputs": [],
   "source": [
    "nlp = spacy.load(\"en_core_web_sm\")"
   ]
  },
  {
   "cell_type": "code",
   "execution_count": null,
   "id": "48da0b21-44c0-4e81-97a9-6325b7622202",
   "metadata": {
    "tags": []
   },
   "outputs": [],
   "source": [
    "# preprocess text with lemmatization\n",
    "def preprocess_text(text):\n",
    "    doc = nlp(text)\n",
    "    tokens = [token.lemma_ for token in doc if token.is_alpha and not token.is_stop]\n",
    "    return \" \".join(tokens)"
   ]
  },
  {
   "cell_type": "code",
   "execution_count": 39,
   "id": "53c23bc5-3182-4feb-9af1-98b6029f79e6",
   "metadata": {
    "tags": []
   },
   "outputs": [],
   "source": [
    "# remove stop words\n",
    "def process_stop_word(text, stem=\"None\"):\n",
    "    # Remove stop words\n",
    "    text = text.split()\n",
    "    useless_words = nltk.corpus.stopwords.words(\"english\")\n",
    "    useless_words = useless_words + ['hi', 'im']\n",
    "    text_filtered = [word for word in text if not word in useless_words]\n",
    "        # Stem or Lemmatize\n",
    "    if stem == 'Stem':\n",
    "        stemmer = PorterStemmer() \n",
    "        text_stemmed = [stemmer.stem(y) for y in text_filtered]\n",
    "    elif stem == 'Lem':\n",
    "        lem = WordNetLemmatizer()\n",
    "        text_stemmed = [lem.lemmatize(y) for y in text_filtered]\n",
    "    elif stem == 'Spacy':\n",
    "        text_filtered = nlp(' '.join(text_filtered))\n",
    "        text_stemmed = [y.lemma_ for y in text_filtered]\n",
    "    else:\n",
    "        text_stemmed = text_filtered\n",
    "\n",
    "    final_string = ' '.join(text_stemmed)\n",
    "\n",
    "    return final_string"
   ]
  },
  {
   "cell_type": "code",
   "execution_count": 40,
   "id": "e8aac67e-960c-4cc9-a67e-9a09900a279f",
   "metadata": {
    "tags": []
   },
   "outputs": [
    {
     "name": "stderr",
     "output_type": "stream",
     "text": [
      "C:\\Users\\Akram\\AppData\\Local\\Temp\\ipykernel_5560\\2594979675.py:2: SettingWithCopyWarning: \n",
      "A value is trying to be set on a copy of a slice from a DataFrame.\n",
      "Try using .loc[row_indexer,col_indexer] = value instead\n",
      "\n",
      "See the caveats in the documentation: https://pandas.pydata.org/pandas-docs/stable/user_guide/indexing.html#returning-a-view-versus-a-copy\n",
      "  df_subjectiv['preprocessed_txt'] = df_subjectiv['CLE'].apply(preprocess_text)\n"
     ]
    },
    {
     "ename": "LookupError",
     "evalue": "\n**********************************************************************\n  Resource \u001b[93mstopwords\u001b[0m not found.\n  Please use the NLTK Downloader to obtain the resource:\n\n  \u001b[31m>>> import nltk\n  >>> nltk.download('stopwords')\n  \u001b[0m\n  For more information see: https://www.nltk.org/data.html\n\n  Attempted to load \u001b[93mcorpora/stopwords\u001b[0m\n\n  Searched in:\n    - 'C:\\\\Users\\\\Akram/nltk_data'\n    - 'C:\\\\Users\\\\Akram\\\\anaconda\\\\anaconda3\\\\envs\\\\ADA\\\\nltk_data'\n    - 'C:\\\\Users\\\\Akram\\\\anaconda\\\\anaconda3\\\\envs\\\\ADA\\\\share\\\\nltk_data'\n    - 'C:\\\\Users\\\\Akram\\\\anaconda\\\\anaconda3\\\\envs\\\\ADA\\\\lib\\\\nltk_data'\n    - 'C:\\\\Users\\\\Akram\\\\AppData\\\\Roaming\\\\nltk_data'\n    - 'C:\\\\nltk_data'\n    - 'D:\\\\nltk_data'\n    - 'E:\\\\nltk_data'\n**********************************************************************\n",
     "output_type": "error",
     "traceback": [
      "\u001b[1;31m---------------------------------------------------------------------------\u001b[0m",
      "\u001b[1;31mLookupError\u001b[0m                               Traceback (most recent call last)",
      "File \u001b[1;32m~\\anaconda\\anaconda3\\envs\\ADA\\Lib\\site-packages\\nltk\\corpus\\util.py:84\u001b[0m, in \u001b[0;36mLazyCorpusLoader.__load\u001b[1;34m(self)\u001b[0m\n\u001b[0;32m     83\u001b[0m \u001b[38;5;28;01mtry\u001b[39;00m:\n\u001b[1;32m---> 84\u001b[0m     root \u001b[38;5;241m=\u001b[39m nltk\u001b[38;5;241m.\u001b[39mdata\u001b[38;5;241m.\u001b[39mfind(\u001b[38;5;124mf\u001b[39m\u001b[38;5;124m\"\u001b[39m\u001b[38;5;132;01m{\u001b[39;00m\u001b[38;5;28mself\u001b[39m\u001b[38;5;241m.\u001b[39msubdir\u001b[38;5;132;01m}\u001b[39;00m\u001b[38;5;124m/\u001b[39m\u001b[38;5;132;01m{\u001b[39;00mzip_name\u001b[38;5;132;01m}\u001b[39;00m\u001b[38;5;124m\"\u001b[39m)\n\u001b[0;32m     85\u001b[0m \u001b[38;5;28;01mexcept\u001b[39;00m \u001b[38;5;167;01mLookupError\u001b[39;00m:\n",
      "File \u001b[1;32m~\\anaconda\\anaconda3\\envs\\ADA\\Lib\\site-packages\\nltk\\data.py:583\u001b[0m, in \u001b[0;36mfind\u001b[1;34m(resource_name, paths)\u001b[0m\n\u001b[0;32m    582\u001b[0m resource_not_found \u001b[38;5;241m=\u001b[39m \u001b[38;5;124mf\u001b[39m\u001b[38;5;124m\"\u001b[39m\u001b[38;5;130;01m\\n\u001b[39;00m\u001b[38;5;132;01m{\u001b[39;00msep\u001b[38;5;132;01m}\u001b[39;00m\u001b[38;5;130;01m\\n\u001b[39;00m\u001b[38;5;132;01m{\u001b[39;00mmsg\u001b[38;5;132;01m}\u001b[39;00m\u001b[38;5;130;01m\\n\u001b[39;00m\u001b[38;5;132;01m{\u001b[39;00msep\u001b[38;5;132;01m}\u001b[39;00m\u001b[38;5;130;01m\\n\u001b[39;00m\u001b[38;5;124m\"\u001b[39m\n\u001b[1;32m--> 583\u001b[0m \u001b[38;5;28;01mraise\u001b[39;00m \u001b[38;5;167;01mLookupError\u001b[39;00m(resource_not_found)\n",
      "\u001b[1;31mLookupError\u001b[0m: \n**********************************************************************\n  Resource \u001b[93mstopwords\u001b[0m not found.\n  Please use the NLTK Downloader to obtain the resource:\n\n  \u001b[31m>>> import nltk\n  >>> nltk.download('stopwords')\n  \u001b[0m\n  For more information see: https://www.nltk.org/data.html\n\n  Attempted to load \u001b[93mcorpora/stopwords.zip/stopwords/\u001b[0m\n\n  Searched in:\n    - 'C:\\\\Users\\\\Akram/nltk_data'\n    - 'C:\\\\Users\\\\Akram\\\\anaconda\\\\anaconda3\\\\envs\\\\ADA\\\\nltk_data'\n    - 'C:\\\\Users\\\\Akram\\\\anaconda\\\\anaconda3\\\\envs\\\\ADA\\\\share\\\\nltk_data'\n    - 'C:\\\\Users\\\\Akram\\\\anaconda\\\\anaconda3\\\\envs\\\\ADA\\\\lib\\\\nltk_data'\n    - 'C:\\\\Users\\\\Akram\\\\AppData\\\\Roaming\\\\nltk_data'\n    - 'C:\\\\nltk_data'\n    - 'D:\\\\nltk_data'\n    - 'E:\\\\nltk_data'\n**********************************************************************\n",
      "\nDuring handling of the above exception, another exception occurred:\n",
      "\u001b[1;31mLookupError\u001b[0m                               Traceback (most recent call last)",
      "Cell \u001b[1;32mIn[40], line 3\u001b[0m\n\u001b[0;32m      1\u001b[0m \u001b[38;5;66;03m#clean the text for the LDA algorithm\u001b[39;00m\n\u001b[0;32m      2\u001b[0m df_subjectiv[\u001b[38;5;124m'\u001b[39m\u001b[38;5;124mpreprocessed_txt\u001b[39m\u001b[38;5;124m'\u001b[39m] \u001b[38;5;241m=\u001b[39m df_subjectiv[\u001b[38;5;124m'\u001b[39m\u001b[38;5;124mCLE\u001b[39m\u001b[38;5;124m'\u001b[39m]\u001b[38;5;241m.\u001b[39mapply(preprocess_text)\n\u001b[1;32m----> 3\u001b[0m df_subjectiv[\u001b[38;5;124m'\u001b[39m\u001b[38;5;124mpreprocessed_txt\u001b[39m\u001b[38;5;124m'\u001b[39m] \u001b[38;5;241m=\u001b[39m df_subjectiv[\u001b[38;5;124m'\u001b[39m\u001b[38;5;124mpreprocessed_txt\u001b[39m\u001b[38;5;124m'\u001b[39m]\u001b[38;5;241m.\u001b[39mapply(process_stop_word)\n",
      "File \u001b[1;32m~\\anaconda\\anaconda3\\envs\\ADA\\Lib\\site-packages\\pandas\\core\\series.py:4630\u001b[0m, in \u001b[0;36mSeries.apply\u001b[1;34m(self, func, convert_dtype, args, **kwargs)\u001b[0m\n\u001b[0;32m   4520\u001b[0m \u001b[38;5;28;01mdef\u001b[39;00m \u001b[38;5;21mapply\u001b[39m(\n\u001b[0;32m   4521\u001b[0m     \u001b[38;5;28mself\u001b[39m,\n\u001b[0;32m   4522\u001b[0m     func: AggFuncType,\n\u001b[1;32m   (...)\u001b[0m\n\u001b[0;32m   4525\u001b[0m     \u001b[38;5;241m*\u001b[39m\u001b[38;5;241m*\u001b[39mkwargs,\n\u001b[0;32m   4526\u001b[0m ) \u001b[38;5;241m-\u001b[39m\u001b[38;5;241m>\u001b[39m DataFrame \u001b[38;5;241m|\u001b[39m Series:\n\u001b[0;32m   4527\u001b[0m \u001b[38;5;250m    \u001b[39m\u001b[38;5;124;03m\"\"\"\u001b[39;00m\n\u001b[0;32m   4528\u001b[0m \u001b[38;5;124;03m    Invoke function on values of Series.\u001b[39;00m\n\u001b[0;32m   4529\u001b[0m \n\u001b[1;32m   (...)\u001b[0m\n\u001b[0;32m   4628\u001b[0m \u001b[38;5;124;03m    dtype: float64\u001b[39;00m\n\u001b[0;32m   4629\u001b[0m \u001b[38;5;124;03m    \"\"\"\u001b[39;00m\n\u001b[1;32m-> 4630\u001b[0m     \u001b[38;5;28;01mreturn\u001b[39;00m SeriesApply(\u001b[38;5;28mself\u001b[39m, func, convert_dtype, args, kwargs)\u001b[38;5;241m.\u001b[39mapply()\n",
      "File \u001b[1;32m~\\anaconda\\anaconda3\\envs\\ADA\\Lib\\site-packages\\pandas\\core\\apply.py:1025\u001b[0m, in \u001b[0;36mSeriesApply.apply\u001b[1;34m(self)\u001b[0m\n\u001b[0;32m   1022\u001b[0m     \u001b[38;5;28;01mreturn\u001b[39;00m \u001b[38;5;28mself\u001b[39m\u001b[38;5;241m.\u001b[39mapply_str()\n\u001b[0;32m   1024\u001b[0m \u001b[38;5;66;03m# self.f is Callable\u001b[39;00m\n\u001b[1;32m-> 1025\u001b[0m \u001b[38;5;28;01mreturn\u001b[39;00m \u001b[38;5;28mself\u001b[39m\u001b[38;5;241m.\u001b[39mapply_standard()\n",
      "File \u001b[1;32m~\\anaconda\\anaconda3\\envs\\ADA\\Lib\\site-packages\\pandas\\core\\apply.py:1076\u001b[0m, in \u001b[0;36mSeriesApply.apply_standard\u001b[1;34m(self)\u001b[0m\n\u001b[0;32m   1074\u001b[0m     \u001b[38;5;28;01melse\u001b[39;00m:\n\u001b[0;32m   1075\u001b[0m         values \u001b[38;5;241m=\u001b[39m obj\u001b[38;5;241m.\u001b[39mastype(\u001b[38;5;28mobject\u001b[39m)\u001b[38;5;241m.\u001b[39m_values\n\u001b[1;32m-> 1076\u001b[0m         mapped \u001b[38;5;241m=\u001b[39m lib\u001b[38;5;241m.\u001b[39mmap_infer(\n\u001b[0;32m   1077\u001b[0m             values,\n\u001b[0;32m   1078\u001b[0m             f,\n\u001b[0;32m   1079\u001b[0m             convert\u001b[38;5;241m=\u001b[39m\u001b[38;5;28mself\u001b[39m\u001b[38;5;241m.\u001b[39mconvert_dtype,\n\u001b[0;32m   1080\u001b[0m         )\n\u001b[0;32m   1082\u001b[0m \u001b[38;5;28;01mif\u001b[39;00m \u001b[38;5;28mlen\u001b[39m(mapped) \u001b[38;5;129;01mand\u001b[39;00m \u001b[38;5;28misinstance\u001b[39m(mapped[\u001b[38;5;241m0\u001b[39m], ABCSeries):\n\u001b[0;32m   1083\u001b[0m     \u001b[38;5;66;03m# GH#43986 Need to do list(mapped) in order to get treated as nested\u001b[39;00m\n\u001b[0;32m   1084\u001b[0m     \u001b[38;5;66;03m#  See also GH#25959 regarding EA support\u001b[39;00m\n\u001b[0;32m   1085\u001b[0m     \u001b[38;5;28;01mreturn\u001b[39;00m obj\u001b[38;5;241m.\u001b[39m_constructor_expanddim(\u001b[38;5;28mlist\u001b[39m(mapped), index\u001b[38;5;241m=\u001b[39mobj\u001b[38;5;241m.\u001b[39mindex)\n",
      "File \u001b[1;32m~\\anaconda\\anaconda3\\envs\\ADA\\Lib\\site-packages\\pandas\\_libs\\lib.pyx:2834\u001b[0m, in \u001b[0;36mpandas._libs.lib.map_infer\u001b[1;34m()\u001b[0m\n",
      "Cell \u001b[1;32mIn[39], line 5\u001b[0m, in \u001b[0;36mprocess_stop_word\u001b[1;34m(text, stem)\u001b[0m\n\u001b[0;32m      2\u001b[0m \u001b[38;5;28;01mdef\u001b[39;00m \u001b[38;5;21mprocess_stop_word\u001b[39m(text, stem\u001b[38;5;241m=\u001b[39m\u001b[38;5;124m\"\u001b[39m\u001b[38;5;124mNone\u001b[39m\u001b[38;5;124m\"\u001b[39m):\n\u001b[0;32m      3\u001b[0m     \u001b[38;5;66;03m# Remove stop words\u001b[39;00m\n\u001b[0;32m      4\u001b[0m     text \u001b[38;5;241m=\u001b[39m text\u001b[38;5;241m.\u001b[39msplit()\n\u001b[1;32m----> 5\u001b[0m     useless_words \u001b[38;5;241m=\u001b[39m nltk\u001b[38;5;241m.\u001b[39mcorpus\u001b[38;5;241m.\u001b[39mstopwords\u001b[38;5;241m.\u001b[39mwords(\u001b[38;5;124m\"\u001b[39m\u001b[38;5;124menglish\u001b[39m\u001b[38;5;124m\"\u001b[39m)\n\u001b[0;32m      6\u001b[0m     useless_words \u001b[38;5;241m=\u001b[39m useless_words \u001b[38;5;241m+\u001b[39m [\u001b[38;5;124m'\u001b[39m\u001b[38;5;124mhi\u001b[39m\u001b[38;5;124m'\u001b[39m, \u001b[38;5;124m'\u001b[39m\u001b[38;5;124mim\u001b[39m\u001b[38;5;124m'\u001b[39m]\n\u001b[0;32m      7\u001b[0m     text_filtered \u001b[38;5;241m=\u001b[39m [word \u001b[38;5;28;01mfor\u001b[39;00m word \u001b[38;5;129;01min\u001b[39;00m text \u001b[38;5;28;01mif\u001b[39;00m \u001b[38;5;129;01mnot\u001b[39;00m word \u001b[38;5;129;01min\u001b[39;00m useless_words]\n",
      "File \u001b[1;32m~\\anaconda\\anaconda3\\envs\\ADA\\Lib\\site-packages\\nltk\\corpus\\util.py:121\u001b[0m, in \u001b[0;36mLazyCorpusLoader.__getattr__\u001b[1;34m(self, attr)\u001b[0m\n\u001b[0;32m    118\u001b[0m \u001b[38;5;28;01mif\u001b[39;00m attr \u001b[38;5;241m==\u001b[39m \u001b[38;5;124m\"\u001b[39m\u001b[38;5;124m__bases__\u001b[39m\u001b[38;5;124m\"\u001b[39m:\n\u001b[0;32m    119\u001b[0m     \u001b[38;5;28;01mraise\u001b[39;00m \u001b[38;5;167;01mAttributeError\u001b[39;00m(\u001b[38;5;124m\"\u001b[39m\u001b[38;5;124mLazyCorpusLoader object has no attribute \u001b[39m\u001b[38;5;124m'\u001b[39m\u001b[38;5;124m__bases__\u001b[39m\u001b[38;5;124m'\u001b[39m\u001b[38;5;124m\"\u001b[39m)\n\u001b[1;32m--> 121\u001b[0m \u001b[38;5;28mself\u001b[39m\u001b[38;5;241m.\u001b[39m__load()\n\u001b[0;32m    122\u001b[0m \u001b[38;5;66;03m# This looks circular, but its not, since __load() changes our\u001b[39;00m\n\u001b[0;32m    123\u001b[0m \u001b[38;5;66;03m# __class__ to something new:\u001b[39;00m\n\u001b[0;32m    124\u001b[0m \u001b[38;5;28;01mreturn\u001b[39;00m \u001b[38;5;28mgetattr\u001b[39m(\u001b[38;5;28mself\u001b[39m, attr)\n",
      "File \u001b[1;32m~\\anaconda\\anaconda3\\envs\\ADA\\Lib\\site-packages\\nltk\\corpus\\util.py:86\u001b[0m, in \u001b[0;36mLazyCorpusLoader.__load\u001b[1;34m(self)\u001b[0m\n\u001b[0;32m     84\u001b[0m             root \u001b[38;5;241m=\u001b[39m nltk\u001b[38;5;241m.\u001b[39mdata\u001b[38;5;241m.\u001b[39mfind(\u001b[38;5;124mf\u001b[39m\u001b[38;5;124m\"\u001b[39m\u001b[38;5;132;01m{\u001b[39;00m\u001b[38;5;28mself\u001b[39m\u001b[38;5;241m.\u001b[39msubdir\u001b[38;5;132;01m}\u001b[39;00m\u001b[38;5;124m/\u001b[39m\u001b[38;5;132;01m{\u001b[39;00mzip_name\u001b[38;5;132;01m}\u001b[39;00m\u001b[38;5;124m\"\u001b[39m)\n\u001b[0;32m     85\u001b[0m         \u001b[38;5;28;01mexcept\u001b[39;00m \u001b[38;5;167;01mLookupError\u001b[39;00m:\n\u001b[1;32m---> 86\u001b[0m             \u001b[38;5;28;01mraise\u001b[39;00m e\n\u001b[0;32m     88\u001b[0m \u001b[38;5;66;03m# Load the corpus.\u001b[39;00m\n\u001b[0;32m     89\u001b[0m corpus \u001b[38;5;241m=\u001b[39m \u001b[38;5;28mself\u001b[39m\u001b[38;5;241m.\u001b[39m__reader_cls(root, \u001b[38;5;241m*\u001b[39m\u001b[38;5;28mself\u001b[39m\u001b[38;5;241m.\u001b[39m__args, \u001b[38;5;241m*\u001b[39m\u001b[38;5;241m*\u001b[39m\u001b[38;5;28mself\u001b[39m\u001b[38;5;241m.\u001b[39m__kwargs)\n",
      "File \u001b[1;32m~\\anaconda\\anaconda3\\envs\\ADA\\Lib\\site-packages\\nltk\\corpus\\util.py:81\u001b[0m, in \u001b[0;36mLazyCorpusLoader.__load\u001b[1;34m(self)\u001b[0m\n\u001b[0;32m     79\u001b[0m \u001b[38;5;28;01melse\u001b[39;00m:\n\u001b[0;32m     80\u001b[0m     \u001b[38;5;28;01mtry\u001b[39;00m:\n\u001b[1;32m---> 81\u001b[0m         root \u001b[38;5;241m=\u001b[39m nltk\u001b[38;5;241m.\u001b[39mdata\u001b[38;5;241m.\u001b[39mfind(\u001b[38;5;124mf\u001b[39m\u001b[38;5;124m\"\u001b[39m\u001b[38;5;132;01m{\u001b[39;00m\u001b[38;5;28mself\u001b[39m\u001b[38;5;241m.\u001b[39msubdir\u001b[38;5;132;01m}\u001b[39;00m\u001b[38;5;124m/\u001b[39m\u001b[38;5;132;01m{\u001b[39;00m\u001b[38;5;28mself\u001b[39m\u001b[38;5;241m.\u001b[39m__name\u001b[38;5;132;01m}\u001b[39;00m\u001b[38;5;124m\"\u001b[39m)\n\u001b[0;32m     82\u001b[0m     \u001b[38;5;28;01mexcept\u001b[39;00m \u001b[38;5;167;01mLookupError\u001b[39;00m \u001b[38;5;28;01mas\u001b[39;00m e:\n\u001b[0;32m     83\u001b[0m         \u001b[38;5;28;01mtry\u001b[39;00m:\n",
      "File \u001b[1;32m~\\anaconda\\anaconda3\\envs\\ADA\\Lib\\site-packages\\nltk\\data.py:583\u001b[0m, in \u001b[0;36mfind\u001b[1;34m(resource_name, paths)\u001b[0m\n\u001b[0;32m    581\u001b[0m sep \u001b[38;5;241m=\u001b[39m \u001b[38;5;124m\"\u001b[39m\u001b[38;5;124m*\u001b[39m\u001b[38;5;124m\"\u001b[39m \u001b[38;5;241m*\u001b[39m \u001b[38;5;241m70\u001b[39m\n\u001b[0;32m    582\u001b[0m resource_not_found \u001b[38;5;241m=\u001b[39m \u001b[38;5;124mf\u001b[39m\u001b[38;5;124m\"\u001b[39m\u001b[38;5;130;01m\\n\u001b[39;00m\u001b[38;5;132;01m{\u001b[39;00msep\u001b[38;5;132;01m}\u001b[39;00m\u001b[38;5;130;01m\\n\u001b[39;00m\u001b[38;5;132;01m{\u001b[39;00mmsg\u001b[38;5;132;01m}\u001b[39;00m\u001b[38;5;130;01m\\n\u001b[39;00m\u001b[38;5;132;01m{\u001b[39;00msep\u001b[38;5;132;01m}\u001b[39;00m\u001b[38;5;130;01m\\n\u001b[39;00m\u001b[38;5;124m\"\u001b[39m\n\u001b[1;32m--> 583\u001b[0m \u001b[38;5;28;01mraise\u001b[39;00m \u001b[38;5;167;01mLookupError\u001b[39;00m(resource_not_found)\n",
      "\u001b[1;31mLookupError\u001b[0m: \n**********************************************************************\n  Resource \u001b[93mstopwords\u001b[0m not found.\n  Please use the NLTK Downloader to obtain the resource:\n\n  \u001b[31m>>> import nltk\n  >>> nltk.download('stopwords')\n  \u001b[0m\n  For more information see: https://www.nltk.org/data.html\n\n  Attempted to load \u001b[93mcorpora/stopwords\u001b[0m\n\n  Searched in:\n    - 'C:\\\\Users\\\\Akram/nltk_data'\n    - 'C:\\\\Users\\\\Akram\\\\anaconda\\\\anaconda3\\\\envs\\\\ADA\\\\nltk_data'\n    - 'C:\\\\Users\\\\Akram\\\\anaconda\\\\anaconda3\\\\envs\\\\ADA\\\\share\\\\nltk_data'\n    - 'C:\\\\Users\\\\Akram\\\\anaconda\\\\anaconda3\\\\envs\\\\ADA\\\\lib\\\\nltk_data'\n    - 'C:\\\\Users\\\\Akram\\\\AppData\\\\Roaming\\\\nltk_data'\n    - 'C:\\\\nltk_data'\n    - 'D:\\\\nltk_data'\n    - 'E:\\\\nltk_data'\n**********************************************************************\n"
     ]
    }
   ],
   "source": [
    "#clean the text for the LDA algorithm\n",
    "df_subjectiv['preprocessed_txt'] = df_subjectiv['CLE'].apply(preprocess_text)\n",
    "df_subjectiv['preprocessed_txt'] = df_subjectiv['preprocessed_txt'].apply(process_stop_word)"
   ]
  },
  {
   "cell_type": "markdown",
   "id": "cf9e2fde-c0af-4cfd-985c-73f301d89a7e",
   "metadata": {},
   "source": [
    "Transform the preprocessed comments into a structured representation that captures the importance of terms within each comment using TF-IDF (Term Frequency-Inverse Document Frequency)."
   ]
  },
  {
   "cell_type": "code",
   "execution_count": 21,
   "id": "a4033d92-7be4-494b-a195-0318bc209329",
   "metadata": {
    "tags": []
   },
   "outputs": [
    {
     "data": {
      "text/html": [
       "<style>#sk-container-id-1 {color: black;}#sk-container-id-1 pre{padding: 0;}#sk-container-id-1 div.sk-toggleable {background-color: white;}#sk-container-id-1 label.sk-toggleable__label {cursor: pointer;display: block;width: 100%;margin-bottom: 0;padding: 0.3em;box-sizing: border-box;text-align: center;}#sk-container-id-1 label.sk-toggleable__label-arrow:before {content: \"▸\";float: left;margin-right: 0.25em;color: #696969;}#sk-container-id-1 label.sk-toggleable__label-arrow:hover:before {color: black;}#sk-container-id-1 div.sk-estimator:hover label.sk-toggleable__label-arrow:before {color: black;}#sk-container-id-1 div.sk-toggleable__content {max-height: 0;max-width: 0;overflow: hidden;text-align: left;background-color: #f0f8ff;}#sk-container-id-1 div.sk-toggleable__content pre {margin: 0.2em;color: black;border-radius: 0.25em;background-color: #f0f8ff;}#sk-container-id-1 input.sk-toggleable__control:checked~div.sk-toggleable__content {max-height: 200px;max-width: 100%;overflow: auto;}#sk-container-id-1 input.sk-toggleable__control:checked~label.sk-toggleable__label-arrow:before {content: \"▾\";}#sk-container-id-1 div.sk-estimator input.sk-toggleable__control:checked~label.sk-toggleable__label {background-color: #d4ebff;}#sk-container-id-1 div.sk-label input.sk-toggleable__control:checked~label.sk-toggleable__label {background-color: #d4ebff;}#sk-container-id-1 input.sk-hidden--visually {border: 0;clip: rect(1px 1px 1px 1px);clip: rect(1px, 1px, 1px, 1px);height: 1px;margin: -1px;overflow: hidden;padding: 0;position: absolute;width: 1px;}#sk-container-id-1 div.sk-estimator {font-family: monospace;background-color: #f0f8ff;border: 1px dotted black;border-radius: 0.25em;box-sizing: border-box;margin-bottom: 0.5em;}#sk-container-id-1 div.sk-estimator:hover {background-color: #d4ebff;}#sk-container-id-1 div.sk-parallel-item::after {content: \"\";width: 100%;border-bottom: 1px solid gray;flex-grow: 1;}#sk-container-id-1 div.sk-label:hover label.sk-toggleable__label {background-color: #d4ebff;}#sk-container-id-1 div.sk-serial::before {content: \"\";position: absolute;border-left: 1px solid gray;box-sizing: border-box;top: 0;bottom: 0;left: 50%;z-index: 0;}#sk-container-id-1 div.sk-serial {display: flex;flex-direction: column;align-items: center;background-color: white;padding-right: 0.2em;padding-left: 0.2em;position: relative;}#sk-container-id-1 div.sk-item {position: relative;z-index: 1;}#sk-container-id-1 div.sk-parallel {display: flex;align-items: stretch;justify-content: center;background-color: white;position: relative;}#sk-container-id-1 div.sk-item::before, #sk-container-id-1 div.sk-parallel-item::before {content: \"\";position: absolute;border-left: 1px solid gray;box-sizing: border-box;top: 0;bottom: 0;left: 50%;z-index: -1;}#sk-container-id-1 div.sk-parallel-item {display: flex;flex-direction: column;z-index: 1;position: relative;background-color: white;}#sk-container-id-1 div.sk-parallel-item:first-child::after {align-self: flex-end;width: 50%;}#sk-container-id-1 div.sk-parallel-item:last-child::after {align-self: flex-start;width: 50%;}#sk-container-id-1 div.sk-parallel-item:only-child::after {width: 0;}#sk-container-id-1 div.sk-dashed-wrapped {border: 1px dashed gray;margin: 0 0.4em 0.5em 0.4em;box-sizing: border-box;padding-bottom: 0.4em;background-color: white;}#sk-container-id-1 div.sk-label label {font-family: monospace;font-weight: bold;display: inline-block;line-height: 1.2em;}#sk-container-id-1 div.sk-label-container {text-align: center;}#sk-container-id-1 div.sk-container {/* jupyter's `normalize.less` sets `[hidden] { display: none; }` but bootstrap.min.css set `[hidden] { display: none !important; }` so we also need the `!important` here to be able to override the default hidden behavior on the sphinx rendered scikit-learn.org. See: https://github.com/scikit-learn/scikit-learn/issues/21755 */display: inline-block !important;position: relative;}#sk-container-id-1 div.sk-text-repr-fallback {display: none;}</style><div id=\"sk-container-id-1\" class=\"sk-top-container\"><div class=\"sk-text-repr-fallback\"><pre>LatentDirichletAllocation(n_components=20, random_state=42)</pre><b>In a Jupyter environment, please rerun this cell to show the HTML representation or trust the notebook. <br />On GitHub, the HTML representation is unable to render, please try loading this page with nbviewer.org.</b></div><div class=\"sk-container\" hidden><div class=\"sk-item\"><div class=\"sk-estimator sk-toggleable\"><input class=\"sk-toggleable__control sk-hidden--visually\" id=\"sk-estimator-id-1\" type=\"checkbox\" checked><label for=\"sk-estimator-id-1\" class=\"sk-toggleable__label sk-toggleable__label-arrow\">LatentDirichletAllocation</label><div class=\"sk-toggleable__content\"><pre>LatentDirichletAllocation(n_components=20, random_state=42)</pre></div></div></div></div></div>"
      ],
      "text/plain": [
       "LatentDirichletAllocation(n_components=20, random_state=42)"
      ]
     },
     "execution_count": 21,
     "metadata": {},
     "output_type": "execute_result"
    }
   ],
   "source": [
    "# TF-IDF vectorization\n",
    "vectorizer = TfidfVectorizer(max_df=0.95, min_df=2, max_features=1000, stop_words='english')\n",
    "# Apply TF-IDF vectorization to the preprocessed text\n",
    "dtm = vectorizer.fit_transform(df_subjectiv['preprocessed_txt'])\n",
    "\n",
    "# LDA model\n",
    "num_topics = 20 #separation in 20 topics to visualize some positive or negative topics\n",
    "lda = LatentDirichletAllocation(n_components=num_topics, random_state=42)\n",
    "lda.fit(dtm)  # Fit the LDA model to the TF-IDF matrix"
   ]
  },
  {
   "cell_type": "code",
   "execution_count": 22,
   "id": "e1ae5887-11db-4e4d-aca3-33b2d7e7160f",
   "metadata": {
    "tags": []
   },
   "outputs": [],
   "source": [
    "#print the 10 words who represent the best each topics\n",
    "def print_top_words(model, vectorizer, n_words=10):\n",
    "    feature_names = vectorizer.get_feature_names_out()\n",
    "    for topic_idx, topic in enumerate(model.components_):\n",
    "        top_words_idx = topic.argsort()[:-n_words - 1:-1]\n",
    "        top_words = [feature_names[i] for i in top_words_idx]\n",
    "        print(f\"Topic #{topic_idx + 1}: {' | '.join(top_words)}\")"
   ]
  },
  {
   "cell_type": "code",
   "execution_count": 23,
   "id": "4e20fcf2-c09a-43e2-89aa-b1b6b33a2701",
   "metadata": {
    "tags": []
   },
   "outputs": [
    {
     "name": "stdout",
     "output_type": "stream",
     "text": [
      "Topic #1: oppose | admin | article | user | support | candidate | editor | think | afd | policy\n",
      "Topic #2: sorry | oppose | month | support | rfa | time | vote | think | good | neutral\n",
      "Topic #3: answer | question | experience | good | ready | sound | oppose | support | need | major\n",
      "Topic #4: good | look | excellent | editor | candidate | support | admin | like | contributor | nice\n",
      "Topic #5: impressed | record | good | supportlook | track | impress | support | faith | levelheade | mean\n",
      "Topic #6: great | user | good | work | admin | support | editor | guy | job | ok\n",
      "Topic #7: strong | support | luck | tool | good | abuse | unlikely | admin | use | responsible\n",
      "Topic #8: positive | net | interaction | project | helpful | friendly | support | asset | user | benefit\n",
      "Topic #9: policy | content | knowledge | admin | good | work | support | understanding | experience | wikipedia\n",
      "Topic #10: meet | big | deal | criterion | article | delete | support | standard | certainly | edit\n",
      "Topic #11: impressive | wrong | quality | choice | support | seriously | good | admin | high | controversial\n",
      "Topic #12: absolutely | nominator | obviously | support | write | article | encyclopedia | admin | bot | say\n",
      "Topic #13: qualified | support | easy | glad | love | late | wow | wisely | majorly | tool\n",
      "Topic #14: vandalism | yes | block | edit | revert | user | admin | aiv | good | vandal\n",
      "Topic #15: nom | vandal | experienced | cool | fighter | reason | good | head | supporta | support\n",
      "Topic #16: experience | rfa | support | admin | time | good | suggest | sensible | edit | withdraw\n",
      "Topic #17: edit | summary | low | experience | count | oppose | mainspace | weak | talk | space\n",
      "Topic #18: concern | oppose | support | admin | raise | issue | rfa | think | good | candidate\n",
      "Topic #19: fine | admin | support | look | wikipedian | good | cheer | worthy | solid | problem\n",
      "Topic #20: sure | definitely | long | right | time | support | good | admin | supportseem | thing\n"
     ]
    }
   ],
   "source": [
    "print_top_words(lda, vectorizer)"
   ]
  },
  {
   "cell_type": "markdown",
   "id": "38acf4da-a8d3-45d9-9953-d1c1b7682886",
   "metadata": {},
   "source": [
    "We can now had a topic number in the dataframe for all the comments :"
   ]
  },
  {
   "cell_type": "code",
   "execution_count": 24,
   "id": "e98d8e2a-2ba7-4445-9eaf-71d12091efe3",
   "metadata": {
    "tags": []
   },
   "outputs": [
    {
     "name": "stderr",
     "output_type": "stream",
     "text": [
      "C:\\Users\\liand\\AppData\\Local\\Temp\\ipykernel_16320\\3148027325.py:3: SettingWithCopyWarning: \n",
      "A value is trying to be set on a copy of a slice from a DataFrame.\n",
      "Try using .loc[row_indexer,col_indexer] = value instead\n",
      "\n",
      "See the caveats in the documentation: https://pandas.pydata.org/pandas-docs/stable/user_guide/indexing.html#returning-a-view-versus-a-copy\n",
      "  df_subjectiv['Topic'] = df_subjectiv.index.map(lambda i: lda.transform(dtm[i]).argmax())\n"
     ]
    },
    {
     "data": {
      "text/html": [
       "<div>\n",
       "<style scoped>\n",
       "    .dataframe tbody tr th:only-of-type {\n",
       "        vertical-align: middle;\n",
       "    }\n",
       "\n",
       "    .dataframe tbody tr th {\n",
       "        vertical-align: top;\n",
       "    }\n",
       "\n",
       "    .dataframe thead th {\n",
       "        text-align: right;\n",
       "    }\n",
       "</style>\n",
       "<table border=\"1\" class=\"dataframe\">\n",
       "  <thead>\n",
       "    <tr style=\"text-align: right;\">\n",
       "      <th></th>\n",
       "      <th>SRC</th>\n",
       "      <th>TGT</th>\n",
       "      <th>VOT</th>\n",
       "      <th>RES</th>\n",
       "      <th>YEA</th>\n",
       "      <th>DAT</th>\n",
       "      <th>TXT</th>\n",
       "      <th>CLE</th>\n",
       "      <th>polarity</th>\n",
       "      <th>subjectivity</th>\n",
       "      <th>preprocessed_txt</th>\n",
       "      <th>Topic</th>\n",
       "    </tr>\n",
       "  </thead>\n",
       "  <tbody>\n",
       "    <tr>\n",
       "      <th>0</th>\n",
       "      <td>Cncmaster</td>\n",
       "      <td>BDD</td>\n",
       "      <td>1</td>\n",
       "      <td>1</td>\n",
       "      <td>2013</td>\n",
       "      <td>2013-04-20 00:11:00</td>\n",
       "      <td>'''Support''' per noms. BDD is a strong contri...</td>\n",
       "      <td>per noms. bdd is a strong contributor with tho...</td>\n",
       "      <td>0.341667</td>\n",
       "      <td>0.491667</td>\n",
       "      <td>nom bdd strong contributor thousand edit year ...</td>\n",
       "      <td>16</td>\n",
       "    </tr>\n",
       "    <tr>\n",
       "      <th>1</th>\n",
       "      <td>Miniapolis</td>\n",
       "      <td>BDD</td>\n",
       "      <td>1</td>\n",
       "      <td>1</td>\n",
       "      <td>2013</td>\n",
       "      <td>2013-04-20 00:56:00</td>\n",
       "      <td>'''Support''', with great pleasure. I work wit...</td>\n",
       "      <td>with great pleasure. i work with bdd at the gu...</td>\n",
       "      <td>0.638889</td>\n",
       "      <td>0.616667</td>\n",
       "      <td>great pleasure work bdd guild copy editor coor...</td>\n",
       "      <td>5</td>\n",
       "    </tr>\n",
       "    <tr>\n",
       "      <th>2</th>\n",
       "      <td>Sven Manguard</td>\n",
       "      <td>BDD</td>\n",
       "      <td>1</td>\n",
       "      <td>1</td>\n",
       "      <td>2013</td>\n",
       "      <td>2013-04-20 01:53:00</td>\n",
       "      <td>'''Support''' There are plenty of important ro...</td>\n",
       "      <td>there are plenty of important roles on this pr...</td>\n",
       "      <td>0.375000</td>\n",
       "      <td>0.775000</td>\n",
       "      <td>plenty important role project content creator ...</td>\n",
       "      <td>8</td>\n",
       "    </tr>\n",
       "    <tr>\n",
       "      <th>3</th>\n",
       "      <td>RockMagnetist</td>\n",
       "      <td>BDD</td>\n",
       "      <td>1</td>\n",
       "      <td>1</td>\n",
       "      <td>2013</td>\n",
       "      <td>2013-04-20 02:18:00</td>\n",
       "      <td>'''Support'''  BDD already wields a broom pret...</td>\n",
       "      <td>bdd already wields a broom pretty well so why ...</td>\n",
       "      <td>0.095556</td>\n",
       "      <td>0.502963</td>\n",
       "      <td>bdd wield broom pretty formalize concerned lac...</td>\n",
       "      <td>16</td>\n",
       "    </tr>\n",
       "    <tr>\n",
       "      <th>4</th>\n",
       "      <td>Carrite</td>\n",
       "      <td>BDD</td>\n",
       "      <td>1</td>\n",
       "      <td>1</td>\n",
       "      <td>2013</td>\n",
       "      <td>2013-04-20 02:22:00</td>\n",
       "      <td>'''Support''' barring a completely unexpected ...</td>\n",
       "      <td>barring a completely unexpected answer to prof...</td>\n",
       "      <td>0.333214</td>\n",
       "      <td>0.529048</td>\n",
       "      <td>bar completely unexpected answer proforma ques...</td>\n",
       "      <td>8</td>\n",
       "    </tr>\n",
       "  </tbody>\n",
       "</table>\n",
       "</div>"
      ],
      "text/plain": [
       "             SRC  TGT VOT RES   YEA                 DAT  \\\n",
       "0      Cncmaster  BDD   1   1  2013 2013-04-20 00:11:00   \n",
       "1     Miniapolis  BDD   1   1  2013 2013-04-20 00:56:00   \n",
       "2  Sven Manguard  BDD   1   1  2013 2013-04-20 01:53:00   \n",
       "3  RockMagnetist  BDD   1   1  2013 2013-04-20 02:18:00   \n",
       "4        Carrite  BDD   1   1  2013 2013-04-20 02:22:00   \n",
       "\n",
       "                                                 TXT  \\\n",
       "0  '''Support''' per noms. BDD is a strong contri...   \n",
       "1  '''Support''', with great pleasure. I work wit...   \n",
       "2  '''Support''' There are plenty of important ro...   \n",
       "3  '''Support'''  BDD already wields a broom pret...   \n",
       "4  '''Support''' barring a completely unexpected ...   \n",
       "\n",
       "                                                 CLE  polarity  subjectivity  \\\n",
       "0  per noms. bdd is a strong contributor with tho...  0.341667      0.491667   \n",
       "1  with great pleasure. i work with bdd at the gu...  0.638889      0.616667   \n",
       "2  there are plenty of important roles on this pr...  0.375000      0.775000   \n",
       "3  bdd already wields a broom pretty well so why ...  0.095556      0.502963   \n",
       "4  barring a completely unexpected answer to prof...  0.333214      0.529048   \n",
       "\n",
       "                                    preprocessed_txt  Topic  \n",
       "0  nom bdd strong contributor thousand edit year ...     16  \n",
       "1  great pleasure work bdd guild copy editor coor...      5  \n",
       "2  plenty important role project content creator ...      8  \n",
       "3  bdd wield broom pretty formalize concerned lac...     16  \n",
       "4  bar completely unexpected answer proforma ques...      8  "
      ]
     },
     "execution_count": 24,
     "metadata": {},
     "output_type": "execute_result"
    }
   ],
   "source": [
    "#add a column with the number of the topic for each comment\n",
    "df_subjectiv.reset_index(drop=True, inplace=True)\n",
    "df_subjectiv['Topic'] = df_subjectiv.index.map(lambda i: lda.transform(dtm[i]).argmax())\n",
    "df_subjectiv.head()"
   ]
  },
  {
   "cell_type": "markdown",
   "id": "8879b8b3-a59e-4b97-ace9-35bb734dd3a9",
   "metadata": {
    "tags": []
   },
   "source": [
    "We can visualize the polarity of each topics :"
   ]
  },
  {
   "cell_type": "code",
   "execution_count": 42,
   "id": "73f3a4eb-6b60-4ce6-ab64-8112933f4725",
   "metadata": {
    "tags": []
   },
   "outputs": [
    {
     "name": "stderr",
     "output_type": "stream",
     "text": [
      "C:\\Users\\liand\\anaconda3\\envs\\ada\\lib\\site-packages\\seaborn\\axisgrid.py:118: UserWarning: The figure layout has changed to tight\n",
      "  self._figure.tight_layout(*args, **kwargs)\n"
     ]
    },
    {
     "data": {
      "text/plain": [
       "Text(0.5, 0.98, 'Polarity of Different Topics')"
      ]
     },
     "execution_count": 42,
     "metadata": {},
     "output_type": "execute_result"
    },
    {
     "data": {
      "image/png": "[encoded data removed]",
      "text/plain": [
       "<Figure size 800x400 with 1 Axes>"
      ]
     },
     "metadata": {},
     "output_type": "display_data"
    }
   ],
   "source": [
    "plot = sns.catplot(x='Topic', y='polarity', kind=\"box\", data=df_subjectiv, errorbar='sd', height=4, aspect=2)\n",
    "plot.fig.suptitle('Polarity of Different Topics')"
   ]
  },
  {
   "cell_type": "markdown",
   "id": "c1ab37f2-508c-4194-97b0-12902ef635b6",
   "metadata": {},
   "source": [
    "By examining this plot, it becomes evident that topic 8 exhibits a higher polarity compared to the others. To delve deeper into the positive comments within this topic, we can inspect the list of prevalent words. Notable keywords include:\n",
    "- positive\n",
    "- interaction\n",
    "- experienced\n",
    "- helpful\n",
    "- friendly\n",
    "- project\n",
    "\n",
    "After reflection, we anticipate uncovering more insights by filtering comments exclusively for positive or negative sentiments."
   ]
  },
  {
   "cell_type": "markdown",
   "id": "3638032d-f946-4612-8437-ec2b07934664",
   "metadata": {},
   "source": [
    "## Repeat the same with the positive/negative comments"
   ]
  },
  {
   "cell_type": "markdown",
   "id": "48f90e68-40f3-4f8f-82ea-5aa639c5560f",
   "metadata": {},
   "source": [
    "In this part, we are gonna use only the subjective comments with a polarity greater than 0,5. The goal is to extract the topics and keywords to gives us an idea of the positive comments."
   ]
  },
  {
   "cell_type": "code",
   "execution_count": 26,
   "id": "0a45f6ae-dcdd-42a6-8a7f-0e4f82ce966d",
   "metadata": {
    "tags": []
   },
   "outputs": [
    {
     "data": {
      "text/html": [
       "<style>#sk-container-id-2 {color: black;}#sk-container-id-2 pre{padding: 0;}#sk-container-id-2 div.sk-toggleable {background-color: white;}#sk-container-id-2 label.sk-toggleable__label {cursor: pointer;display: block;width: 100%;margin-bottom: 0;padding: 0.3em;box-sizing: border-box;text-align: center;}#sk-container-id-2 label.sk-toggleable__label-arrow:before {content: \"▸\";float: left;margin-right: 0.25em;color: #696969;}#sk-container-id-2 label.sk-toggleable__label-arrow:hover:before {color: black;}#sk-container-id-2 div.sk-estimator:hover label.sk-toggleable__label-arrow:before {color: black;}#sk-container-id-2 div.sk-toggleable__content {max-height: 0;max-width: 0;overflow: hidden;text-align: left;background-color: #f0f8ff;}#sk-container-id-2 div.sk-toggleable__content pre {margin: 0.2em;color: black;border-radius: 0.25em;background-color: #f0f8ff;}#sk-container-id-2 input.sk-toggleable__control:checked~div.sk-toggleable__content {max-height: 200px;max-width: 100%;overflow: auto;}#sk-container-id-2 input.sk-toggleable__control:checked~label.sk-toggleable__label-arrow:before {content: \"▾\";}#sk-container-id-2 div.sk-estimator input.sk-toggleable__control:checked~label.sk-toggleable__label {background-color: #d4ebff;}#sk-container-id-2 div.sk-label input.sk-toggleable__control:checked~label.sk-toggleable__label {background-color: #d4ebff;}#sk-container-id-2 input.sk-hidden--visually {border: 0;clip: rect(1px 1px 1px 1px);clip: rect(1px, 1px, 1px, 1px);height: 1px;margin: -1px;overflow: hidden;padding: 0;position: absolute;width: 1px;}#sk-container-id-2 div.sk-estimator {font-family: monospace;background-color: #f0f8ff;border: 1px dotted black;border-radius: 0.25em;box-sizing: border-box;margin-bottom: 0.5em;}#sk-container-id-2 div.sk-estimator:hover {background-color: #d4ebff;}#sk-container-id-2 div.sk-parallel-item::after {content: \"\";width: 100%;border-bottom: 1px solid gray;flex-grow: 1;}#sk-container-id-2 div.sk-label:hover label.sk-toggleable__label {background-color: #d4ebff;}#sk-container-id-2 div.sk-serial::before {content: \"\";position: absolute;border-left: 1px solid gray;box-sizing: border-box;top: 0;bottom: 0;left: 50%;z-index: 0;}#sk-container-id-2 div.sk-serial {display: flex;flex-direction: column;align-items: center;background-color: white;padding-right: 0.2em;padding-left: 0.2em;position: relative;}#sk-container-id-2 div.sk-item {position: relative;z-index: 1;}#sk-container-id-2 div.sk-parallel {display: flex;align-items: stretch;justify-content: center;background-color: white;position: relative;}#sk-container-id-2 div.sk-item::before, #sk-container-id-2 div.sk-parallel-item::before {content: \"\";position: absolute;border-left: 1px solid gray;box-sizing: border-box;top: 0;bottom: 0;left: 50%;z-index: -1;}#sk-container-id-2 div.sk-parallel-item {display: flex;flex-direction: column;z-index: 1;position: relative;background-color: white;}#sk-container-id-2 div.sk-parallel-item:first-child::after {align-self: flex-end;width: 50%;}#sk-container-id-2 div.sk-parallel-item:last-child::after {align-self: flex-start;width: 50%;}#sk-container-id-2 div.sk-parallel-item:only-child::after {width: 0;}#sk-container-id-2 div.sk-dashed-wrapped {border: 1px dashed gray;margin: 0 0.4em 0.5em 0.4em;box-sizing: border-box;padding-bottom: 0.4em;background-color: white;}#sk-container-id-2 div.sk-label label {font-family: monospace;font-weight: bold;display: inline-block;line-height: 1.2em;}#sk-container-id-2 div.sk-label-container {text-align: center;}#sk-container-id-2 div.sk-container {/* jupyter's `normalize.less` sets `[hidden] { display: none; }` but bootstrap.min.css set `[hidden] { display: none !important; }` so we also need the `!important` here to be able to override the default hidden behavior on the sphinx rendered scikit-learn.org. See: https://github.com/scikit-learn/scikit-learn/issues/21755 */display: inline-block !important;position: relative;}#sk-container-id-2 div.sk-text-repr-fallback {display: none;}</style><div id=\"sk-container-id-2\" class=\"sk-top-container\"><div class=\"sk-text-repr-fallback\"><pre>LatentDirichletAllocation(n_components=20, random_state=42)</pre><b>In a Jupyter environment, please rerun this cell to show the HTML representation or trust the notebook. <br />On GitHub, the HTML representation is unable to render, please try loading this page with nbviewer.org.</b></div><div class=\"sk-container\" hidden><div class=\"sk-item\"><div class=\"sk-estimator sk-toggleable\"><input class=\"sk-toggleable__control sk-hidden--visually\" id=\"sk-estimator-id-2\" type=\"checkbox\" checked><label for=\"sk-estimator-id-2\" class=\"sk-toggleable__label sk-toggleable__label-arrow\">LatentDirichletAllocation</label><div class=\"sk-toggleable__content\"><pre>LatentDirichletAllocation(n_components=20, random_state=42)</pre></div></div></div></div></div>"
      ],
      "text/plain": [
       "LatentDirichletAllocation(n_components=20, random_state=42)"
      ]
     },
     "execution_count": 26,
     "metadata": {},
     "output_type": "execute_result"
    }
   ],
   "source": [
    "# TF-IDF vectorization\n",
    "vectorizer = TfidfVectorizer(max_df=0.95, min_df=2, max_features=1000, stop_words='english')\n",
    "# Apply TF-IDF vectorization to the preprocessed text\n",
    "dtm = vectorizer.fit_transform(df_subjectiv[df_subjectiv['polarity'] > 0.5]['preprocessed_txt'])\n",
    "\n",
    "# LDA model\n",
    "num_topics = 20 #separation in 20 topics to visualize some positive or negative topics\n",
    "lda = LatentDirichletAllocation(n_components=num_topics, random_state=42)\n",
    "lda.fit(dtm)  # Fit the LDA model to the TF-IDF matrix"
   ]
  },
  {
   "cell_type": "code",
   "execution_count": 27,
   "id": "03d9b755-ff52-4b2c-8eea-50b63e2d7bcd",
   "metadata": {
    "tags": []
   },
   "outputs": [
    {
     "name": "stdout",
     "output_type": "stream",
     "text": [
      "Topic #1: deserve | abuse | tool | good | supporti | admin | user | know | editor | great\n",
      "Topic #2: user | experienced | good | great | support | sure | excellent | admin | helpful | experience\n",
      "Topic #3: supporta | good | believe | afd | issue | admin | editor | intelligent | levelheade | support\n",
      "Topic #4: editor | good | excellent | great | admin | support | impressive | time | honest | mop\n",
      "Topic #5: answer | question | good | contribution | support | perfect | supportgood | response | great | judgement\n",
      "Topic #6: work | great | admin | vandal | good | support | fighter | wikipedian | think | lot\n",
      "Topic #7: impressed | administrator | good | person | support | kind | faith | great | way | excellent\n",
      "Topic #8: edit | job | good | contribution | support | great | summary | history | vandalism | count\n",
      "Topic #9: nice | guy | happy | support | addition | superb | good | great | vandalfighter | like\n",
      "Topic #10: policy | impress | good | knowledge | understanding | support | brilliant | welcome | editor | point\n",
      "Topic #11: luck | good | problem | contrib | support | definitely | admin | friendly | honestly | impression\n",
      "Topic #12: contributor | nom | great | good | support | yes | excellent | project | course | wonderful\n",
      "Topic #13: supportlook | good | talk | stuff | page | dedicated | mainspace | edit | great | user\n",
      "Topic #14: look | good | like | support | admin | choice | great | builder | pedia | excellent\n",
      "Topic #15: trustworthy | nomination | nominator | support | good | excellent | sensible | editor | plenty | great\n",
      "Topic #16: awesome | support | good | level | qualified | work | great | head | feel | number\n",
      "Topic #17: reason | oppose | good | tere | supportseem | user | editor | misuse | admin | great\n",
      "Topic #18: candidate | good | excellent | great | support | track | record | like | adminship | appear\n",
      "Topic #19: fine | sound | good | interaction | admin | say | support | user | worry | come\n",
      "Topic #20: tool | use | trust | good | concern | mop | doubt | wisely | editor | admin\n"
     ]
    }
   ],
   "source": [
    "print_top_words(lda, vectorizer)"
   ]
  },
  {
   "cell_type": "markdown",
   "id": "73fe3184-5cf1-4e7e-a269-b197b4608957",
   "metadata": {
    "tags": []
   },
   "source": [
    "Some other interesting positive words :\n",
    "- qualified\n",
    "- thrustworthy\n",
    "- contribution\n",
    "- experience\n",
    "- levelheaded\n",
    "- asset\n",
    "- friendly\n",
    "- contribution\n",
    "\n",
    "These terms serve as valuable criterias to the acceptance of a person."
   ]
  },
  {
   "cell_type": "markdown",
   "id": "b2b194d8-4121-456a-a92b-8ed795ea5340",
   "metadata": {},
   "source": [
    "Then with the negative comments, with polarity smaller than -0,5."
   ]
  },
  {
   "cell_type": "code",
   "execution_count": 28,
   "id": "bd0006ee-612c-43fc-9599-0e63ba21917b",
   "metadata": {
    "tags": []
   },
   "outputs": [
    {
     "data": {
      "text/html": [
       "<style>#sk-container-id-3 {color: black;}#sk-container-id-3 pre{padding: 0;}#sk-container-id-3 div.sk-toggleable {background-color: white;}#sk-container-id-3 label.sk-toggleable__label {cursor: pointer;display: block;width: 100%;margin-bottom: 0;padding: 0.3em;box-sizing: border-box;text-align: center;}#sk-container-id-3 label.sk-toggleable__label-arrow:before {content: \"▸\";float: left;margin-right: 0.25em;color: #696969;}#sk-container-id-3 label.sk-toggleable__label-arrow:hover:before {color: black;}#sk-container-id-3 div.sk-estimator:hover label.sk-toggleable__label-arrow:before {color: black;}#sk-container-id-3 div.sk-toggleable__content {max-height: 0;max-width: 0;overflow: hidden;text-align: left;background-color: #f0f8ff;}#sk-container-id-3 div.sk-toggleable__content pre {margin: 0.2em;color: black;border-radius: 0.25em;background-color: #f0f8ff;}#sk-container-id-3 input.sk-toggleable__control:checked~div.sk-toggleable__content {max-height: 200px;max-width: 100%;overflow: auto;}#sk-container-id-3 input.sk-toggleable__control:checked~label.sk-toggleable__label-arrow:before {content: \"▾\";}#sk-container-id-3 div.sk-estimator input.sk-toggleable__control:checked~label.sk-toggleable__label {background-color: #d4ebff;}#sk-container-id-3 div.sk-label input.sk-toggleable__control:checked~label.sk-toggleable__label {background-color: #d4ebff;}#sk-container-id-3 input.sk-hidden--visually {border: 0;clip: rect(1px 1px 1px 1px);clip: rect(1px, 1px, 1px, 1px);height: 1px;margin: -1px;overflow: hidden;padding: 0;position: absolute;width: 1px;}#sk-container-id-3 div.sk-estimator {font-family: monospace;background-color: #f0f8ff;border: 1px dotted black;border-radius: 0.25em;box-sizing: border-box;margin-bottom: 0.5em;}#sk-container-id-3 div.sk-estimator:hover {background-color: #d4ebff;}#sk-container-id-3 div.sk-parallel-item::after {content: \"\";width: 100%;border-bottom: 1px solid gray;flex-grow: 1;}#sk-container-id-3 div.sk-label:hover label.sk-toggleable__label {background-color: #d4ebff;}#sk-container-id-3 div.sk-serial::before {content: \"\";position: absolute;border-left: 1px solid gray;box-sizing: border-box;top: 0;bottom: 0;left: 50%;z-index: 0;}#sk-container-id-3 div.sk-serial {display: flex;flex-direction: column;align-items: center;background-color: white;padding-right: 0.2em;padding-left: 0.2em;position: relative;}#sk-container-id-3 div.sk-item {position: relative;z-index: 1;}#sk-container-id-3 div.sk-parallel {display: flex;align-items: stretch;justify-content: center;background-color: white;position: relative;}#sk-container-id-3 div.sk-item::before, #sk-container-id-3 div.sk-parallel-item::before {content: \"\";position: absolute;border-left: 1px solid gray;box-sizing: border-box;top: 0;bottom: 0;left: 50%;z-index: -1;}#sk-container-id-3 div.sk-parallel-item {display: flex;flex-direction: column;z-index: 1;position: relative;background-color: white;}#sk-container-id-3 div.sk-parallel-item:first-child::after {align-self: flex-end;width: 50%;}#sk-container-id-3 div.sk-parallel-item:last-child::after {align-self: flex-start;width: 50%;}#sk-container-id-3 div.sk-parallel-item:only-child::after {width: 0;}#sk-container-id-3 div.sk-dashed-wrapped {border: 1px dashed gray;margin: 0 0.4em 0.5em 0.4em;box-sizing: border-box;padding-bottom: 0.4em;background-color: white;}#sk-container-id-3 div.sk-label label {font-family: monospace;font-weight: bold;display: inline-block;line-height: 1.2em;}#sk-container-id-3 div.sk-label-container {text-align: center;}#sk-container-id-3 div.sk-container {/* jupyter's `normalize.less` sets `[hidden] { display: none; }` but bootstrap.min.css set `[hidden] { display: none !important; }` so we also need the `!important` here to be able to override the default hidden behavior on the sphinx rendered scikit-learn.org. See: https://github.com/scikit-learn/scikit-learn/issues/21755 */display: inline-block !important;position: relative;}#sk-container-id-3 div.sk-text-repr-fallback {display: none;}</style><div id=\"sk-container-id-3\" class=\"sk-top-container\"><div class=\"sk-text-repr-fallback\"><pre>LatentDirichletAllocation(n_components=20, random_state=42)</pre><b>In a Jupyter environment, please rerun this cell to show the HTML representation or trust the notebook. <br />On GitHub, the HTML representation is unable to render, please try loading this page with nbviewer.org.</b></div><div class=\"sk-container\" hidden><div class=\"sk-item\"><div class=\"sk-estimator sk-toggleable\"><input class=\"sk-toggleable__control sk-hidden--visually\" id=\"sk-estimator-id-3\" type=\"checkbox\" checked><label for=\"sk-estimator-id-3\" class=\"sk-toggleable__label sk-toggleable__label-arrow\">LatentDirichletAllocation</label><div class=\"sk-toggleable__content\"><pre>LatentDirichletAllocation(n_components=20, random_state=42)</pre></div></div></div></div></div>"
      ],
      "text/plain": [
       "LatentDirichletAllocation(n_components=20, random_state=42)"
      ]
     },
     "execution_count": 28,
     "metadata": {},
     "output_type": "execute_result"
    }
   ],
   "source": [
    "# TF-IDF vectorization\n",
    "vectorizer = TfidfVectorizer(max_df=0.95, min_df=2, max_features=1000, stop_words='english')\n",
    "# Apply TF-IDF vectorization to the preprocessed text\n",
    "dtm = vectorizer.fit_transform(df_subjectiv[df_subjectiv['polarity'] < 0]['preprocessed_txt'])\n",
    "\n",
    "# LDA model\n",
    "num_topics = 20 #separation in 20 topics to visualize some positive or negative topics\n",
    "lda = LatentDirichletAllocation(n_components=num_topics, random_state=42)\n",
    "lda.fit(dtm)  # Fit the LDA model to the TF-IDF matrix"
   ]
  },
  {
   "cell_type": "code",
   "execution_count": 29,
   "id": "210bed1b-d0a2-4559-a261-1650634b05c5",
   "metadata": {
    "tags": []
   },
   "outputs": [
    {
     "name": "stdout",
     "output_type": "stream",
     "text": [
      "Topic #1: ready | sorry | suggest | black | usual | early | experience | policy | oppose | close\n",
      "Topic #2: oppose | mistake | pile | stupid | support | admin | learn | user | irc | candidate\n",
      "Topic #3: weak | oppose | little | edit | experience | answer | support | sorry | mainspace | real\n",
      "Topic #4: sure | positive | net | support | ridiculous | admin | think | editor | oppose | user\n",
      "Topic #5: long | bad | support | time | overdue | oh | ago | moral | wait | faith\n",
      "Topic #6: good | content | reason | interaction | negative | edit | oppose | creation | vandal | vague\n",
      "Topic #7: vote | silly | support | oppose | ago | year | rfa | nt | month | track\n",
      "Topic #8: sorry | support | oppose | soon | unnecessary | qualified | joke | thank | pileon | section\n",
      "Topic #9: concern | major | issue | raise | oppose | sorry | csd | civility | past | support\n",
      "Topic #10: deal | admin | big | oppose | user | editor | candidate | adminship | situation | article\n",
      "Topic #11: wrong | edit | summary | low | count | support | number | far | nominate | user\n",
      "Topic #12: support | extreme | absolutely | criterion | guy | crazy | deserve | fail | nominator | inexperience\n",
      "Topic #13: mean | vandalism | edit | page | admin | seriously | user | support | talk | revert\n",
      "Topic #14: deletion | article | speedy | oppose | delete | admin | answer | question | tag | candidate\n",
      "Topic #15: edit | experience | lack | month | sorry | area | article | wikipedia | namespace | little\n",
      "Topic #16: sense | common | fail | yes | editcountitis | test | fuck | new | head | oppose\n",
      "Topic #17: inexperienced | oppose | support | answer | hate | candidate | rfas | lean | selfnom | comfortable\n",
      "Topic #18: abuse | unlikely | tool | admin | late | misuse | support | user | administrator | solid\n",
      "Topic #19: answer | duh | hard | question | standard | support | opposeper | work | meet | comment\n",
      "Topic #20: active | user | admin | trustworthy | trust | supporti | support | editor | helpful | tool\n"
     ]
    }
   ],
   "source": [
    "print_top_words(lda, vectorizer)"
   ]
  },
  {
   "cell_type": "markdown",
   "id": "6a3e8781-8ccf-4d62-a3b8-4f6727d9288f",
   "metadata": {},
   "source": [
    "From this word list, we can infer certain criteria indicative of non-acceptance:\n",
    "- uncivil\n",
    "- dangerous\n",
    "- idiot\n",
    "- stupid\n",
    "- immature\n",
    "\n"
   ]
  },
  {
   "cell_type": "markdown",
   "id": "b07aef01-35df-46dc-8f4f-edeee1376a0d",
   "metadata": {},
   "source": [
    "## Which words are most frequently utilized in the comments?"
   ]
  },
  {
   "cell_type": "code",
   "execution_count": 30,
   "id": "815a3da1-29eb-46b3-aa9a-bae1f52d1e4a",
   "metadata": {
    "tags": []
   },
   "outputs": [
    {
     "name": "stdout",
     "output_type": "stream",
     "text": [
      "most common words in all the comments : \n",
      " [('good', 45056), ('support', 42443), ('admin', 35350), ('edit', 26957), ('user', 25202), ('oppose', 24113), ('editor', 22283), ('candidate', 18422), ('work', 18105), ('think', 17157), ('tool', 16284), ('experience', 16140), ('like', 15166), ('time', 14377), ('answer', 14362), ('article', 14052), ('need', 13377), ('rfa', 13286), ('great', 12446), ('wikipedia', 12326)] \n",
      "\n",
      "most common words the positive comments : \n",
      " [('good', 18075), ('support', 7442), ('great', 5913), ('admin', 5390), ('editor', 4835), ('user', 4233), ('excellent', 3767), ('candidate', 3079), ('work', 2910), ('look', 2738), ('answer', 2303), ('like', 2076), ('tool', 2048), ('luck', 1903), ('edit', 1710), ('question', 1567), ('see', 1553), ('contribution', 1553), ('think', 1467), ('experience', 1441)] \n",
      "\n",
      "most common words the negative comments : \n",
      " [('bad', 174), ('support', 125), ('oppose', 101), ('admin', 87), ('hate', 51), ('user', 49), ('think', 43), ('tool', 41), ('reason', 39), ('like', 37), ('need', 36), ('edit', 35), ('answer', 35), ('rfa', 33), ('candidate', 31), ('vote', 27), ('question', 26), ('afraid', 26), ('see', 25), ('stupid', 23)] \n",
      "\n"
     ]
    }
   ],
   "source": [
    "all_text = ' '.join(df_subjectiv['preprocessed_txt'].astype(str))\n",
    "all_text_p = ' '.join(df_subjectiv[df_subjectiv['polarity'] > 0.5]['preprocessed_txt'].astype(str))\n",
    "all_text_n = ' '.join(df_subjectiv[df_subjectiv['polarity'] < -0.5]['preprocessed_txt'].astype(str))\n",
    "\n",
    "# Tokenize the text into words\n",
    "words = re.findall(r'\\b\\w+\\b', all_text.lower())\n",
    "words_p = re.findall(r'\\b\\w+\\b', all_text_p.lower())\n",
    "words_n = re.findall(r'\\b\\w+\\b', all_text_n.lower())\n",
    "\n",
    "\n",
    "# count occurrences of each word\n",
    "word_counts = Counter(words)\n",
    "word_counts_p = Counter(words_p)\n",
    "word_counts_n = Counter(words_n)\n",
    "\n",
    "# Print the most common words and their counts for all/positive/negative comments\n",
    "print('most common words in all the comments : \\n', word_counts.most_common(20),'\\n')\n",
    "print('most common words the positive comments : \\n', word_counts_p.most_common(20),'\\n')\n",
    "print('most common words the negative comments : \\n', word_counts_n.most_common(20),'\\n')"
   ]
  },
  {
   "cell_type": "code",
   "execution_count": null,
   "id": "9303c786-a505-4510-89b0-a0325dd356a6",
   "metadata": {},
   "outputs": [],
   "source": []
  }
 ],
 "metadata": {
  "kernelspec": {
   "display_name": "Python 3 (ipykernel)",
   "language": "python",
   "name": "python3"
  },
  "language_info": {
   "codemirror_mode": {
    "name": "ipython",
    "version": 3
   },
   "file_extension": ".py",
   "mimetype": "text/x-python",
   "name": "python",
   "nbconvert_exporter": "python",
   "pygments_lexer": "ipython3",
   "version": "3.11.5"
  }
 },
 "nbformat": 4,
 "nbformat_minor": 5
}
