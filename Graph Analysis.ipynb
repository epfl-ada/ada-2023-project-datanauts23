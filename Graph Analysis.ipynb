{
 "cells": [
  {
   "cell_type": "markdown",
   "id": "f8bfda5c-9967-42ed-9ee8-d58cf512dede",
   "metadata": {},
   "source": [
    "## Table of Contents:\n",
    "1. [Imports / Loading](#imports-loading)\n",
    "2. [Voting Graph](#voting-graph)\n",
    "3. [Agreement Graph](#agreement-graph)\n",
    "4. [Similarity Graph](#similarity-graph)"
   ]
  },
  {
   "cell_type": "markdown",
   "id": "8b203bfe-2694-4d15-ae68-9a03d30ed82f",
   "metadata": {
    "jp-MarkdownHeadingCollapsed": true,
    "tags": []
   },
   "source": [
    "### Imports / Loading <a class=\"anchor\" id=\"imports-loading\"></a>"
   ]
  },
  {
   "cell_type": "code",
   "execution_count": 1,
   "id": "e5f2b932-56b5-47ca-89c3-7334d2c38921",
   "metadata": {
    "tags": []
   },
   "outputs": [],
   "source": [
    "# Put all imports here\n",
    "import importlib\n",
    "import pandas as pd\n",
    "import modules.data_processing\n",
    "import matplotlib.pyplot as plt\n",
    "import networkx as nx\n",
    "import random\n",
    "from tqdm import tqdm\n",
    "import seaborn as sns\n",
    "from scipy.stats import f_oneway"
   ]
  },
  {
   "cell_type": "code",
   "execution_count": 2,
   "id": "58d08582-c298-4a48-93f6-6970c3f62345",
   "metadata": {
    "tags": []
   },
   "outputs": [],
   "source": [
    "## Reloading, rerun this cell if you change any function\n",
    "\n",
    "importlib.reload(modules.data_processing)\n",
    "from modules.data_processing import *"
   ]
  },
  {
   "cell_type": "code",
   "execution_count": 3,
   "id": "776ad7e6-2dd5-4393-a8a2-6bd266e9894f",
   "metadata": {
    "tags": []
   },
   "outputs": [],
   "source": [
    "DATA_PATH = './data/wiki-RfA.txt'\n",
    "EDITORS_PATH = './data/top_editors.txt'\n",
    "AUTHORS_PATH = './data/top_authors.txt'\n",
    "CREATORS_PATH = './data/top_creators.txt'\n",
    "TALKS_DF = './data/talks_df.csv'"
   ]
  },
  {
   "cell_type": "code",
   "execution_count": 4,
   "id": "e818f2bd-6f87-4d4d-b6ec-570645231bcd",
   "metadata": {
    "tags": []
   },
   "outputs": [],
   "source": [
    "wiki_df = extract_data(DATA_PATH)\n",
    "process_dataframe(wiki_df)"
   ]
  },
  {
   "cell_type": "code",
   "execution_count": 5,
   "id": "3e14016f-7346-4ae7-a1be-5761bb4e647f",
   "metadata": {
    "tags": []
   },
   "outputs": [],
   "source": [
    "voters_df = create_voters_df(wiki_df)"
   ]
  },
  {
   "cell_type": "markdown",
   "id": "f6e7bcdd-bab3-4bf2-96e5-0181d6769045",
   "metadata": {
    "tags": []
   },
   "source": [
    "### Voting Graph <a class=\"anchor\" id=\"voting-graph\"></a>"
   ]
  },
  {
   "cell_type": "markdown",
   "id": "f7a3c330-e400-48ea-b092-7168ab45b9c5",
   "metadata": {
    "tags": []
   },
   "source": [
    "Within our dataset, we observe three distinct types of votes: Positive (+1), Neutral (0), and Negative (-1). As a result, it's important to distinguish between the three types of votes.\n",
    "\n",
    "Another important thing is that we have seen that the nature of voters change from year to year, therefore, instead of creating a single graph for all the years, we create a graph for each successive two-year period.\n",
    "\n",
    "At first, we only look at positive votes."
   ]
  },
  {
   "cell_type": "code",
   "execution_count": 6,
   "id": "320c2f57-91b0-4d0b-a9d4-4ee6521c55d1",
   "metadata": {
    "tags": []
   },
   "outputs": [
    {
     "name": "stderr",
     "output_type": "stream",
     "text": [
      "C:\\Users\\Akram\\AppData\\Local\\Temp\\ipykernel_50688\\1941898036.py:2: SettingWithCopyWarning: \n",
      "A value is trying to be set on a copy of a slice from a DataFrame.\n",
      "Try using .loc[row_indexer,col_indexer] = value instead\n",
      "\n",
      "See the caveats in the documentation: https://pandas.pydata.org/pandas-docs/stable/user_guide/indexing.html#returning-a-view-versus-a-copy\n",
      "  filtered_wiki_df['YEA'] = pd.to_datetime(filtered_wiki_df['YEA'], format='%Y')\n"
     ]
    }
   ],
   "source": [
    "filtered_wiki_df = wiki_df[wiki_df['VOT'] == 1]\n",
    "filtered_wiki_df['YEA'] = pd.to_datetime(filtered_wiki_df['YEA'], format='%Y')\n",
    "filtered_wiki_df = filtered_wiki_df.sort_values(by='YEA', ascending=False)\n",
    "\n",
    "#Create graphs for successive three-year periods\n",
    "years = filtered_wiki_df['YEA'].dt.year.unique()\n",
    "graphs = []\n",
    "\n",
    "for i in range(len(years) - 1):\n",
    "    current_years = years[i:i + 2]  #Get three successive years\n",
    "    \n",
    "    #Filter dataframe for the current three-year period\n",
    "    current_period_df = filtered_wiki_df[filtered_wiki_df['YEA'].dt.year.isin(current_years)]\n",
    "    \n",
    "    #Create graph\n",
    "    G = nx.from_pandas_edgelist(current_period_df, 'SRC', 'TGT', edge_attr=None, create_using= nx.Graph())\n",
    "        \n",
    "    graphs.append(G)"
   ]
  },
  {
   "cell_type": "code",
   "execution_count": 7,
   "id": "e3134e56-ca3f-4039-b36b-2e8de5f8d4a8",
   "metadata": {
    "tags": []
   },
   "outputs": [
    {
     "name": "stdout",
     "output_type": "stream",
     "text": [
      "Year : [2013 2012]\n",
      "Number of nodes: 1221\n",
      "Number of edges: 6909\n",
      "Graph density: 0.009276191243404359\n",
      "Average clustering coefficient: 0.21527580336621377\n",
      "Graph Transitivity: 0.1227589077487161\n",
      "\n",
      "Year : [2012 2011]\n",
      "Number of nodes: 1658\n",
      "Number of edges: 10479\n",
      "Graph density: 0.007628564127912944\n",
      "Average clustering coefficient: 0.2281381925942787\n",
      "Graph Transitivity: 0.13635027288900503\n",
      "\n",
      "Year : [2011 2010]\n",
      "Number of nodes: 2014\n",
      "Number of edges: 15425\n",
      "Graph density: 0.0076094265131659115\n",
      "Average clustering coefficient: 0.20303031231985688\n",
      "Graph Transitivity: 0.15948296655952038\n",
      "\n",
      "Year : [2010 2009]\n",
      "Number of nodes: 2617\n",
      "Number of edges: 23191\n",
      "Graph density: 0.0067749798716694775\n",
      "Average clustering coefficient: 0.16993916380314503\n",
      "Graph Transitivity: 0.15688589389597027\n",
      "\n",
      "Year : [2009 2008]\n",
      "Number of nodes: 3493\n",
      "Number of edges: 34445\n",
      "Graph density: 0.00564785273377716\n",
      "Average clustering coefficient: 0.14822090195057416\n",
      "Graph Transitivity: 0.1455719877303305\n",
      "\n",
      "Year : [2008 2007]\n",
      "Number of nodes: 4671\n",
      "Number of edges: 49708\n",
      "Graph density: 0.0045575300145734975\n",
      "Average clustering coefficient: 0.1372587307630182\n",
      "Graph Transitivity: 0.135881042223373\n",
      "\n",
      "Year : [2007 2006]\n",
      "Number of nodes: 5201\n",
      "Number of edges: 58949\n",
      "Graph density: 0.004359294810169642\n",
      "Average clustering coefficient: 0.14643827238755167\n",
      "Graph Transitivity: 0.14598361470067997\n",
      "\n",
      "Year : [2006 2005]\n",
      "Number of nodes: 3998\n",
      "Number of edges: 44755\n",
      "Graph density: 0.005601374617756714\n",
      "Average clustering coefficient: 0.16226721964601304\n",
      "Graph Transitivity: 0.16288074822932033\n",
      "\n",
      "Year : [2005 2004]\n",
      "Number of nodes: 2051\n",
      "Number of edges: 20215\n",
      "Graph density: 0.009615773388353094\n",
      "Average clustering coefficient: 0.1655300249402909\n",
      "Graph Transitivity: 0.16342284371242943\n",
      "\n",
      "Year : [2004 2003]\n",
      "Number of nodes: 685\n",
      "Number of edges: 5242\n",
      "Graph density: 0.022375891065864174\n",
      "Average clustering coefficient: 0.17155181019348134\n",
      "Graph Transitivity: 0.1927253507591774\n",
      "\n"
     ]
    }
   ],
   "source": [
    "for i in range(len(years) - 1):\n",
    "    current_years = years[i:i + 2]\n",
    "    current_graph = graphs[i]\n",
    "    \n",
    "    print('Year :', current_years)\n",
    "    \n",
    "    print('Number of nodes:', current_graph.number_of_nodes())\n",
    "    print('Number of edges:', current_graph.number_of_edges())\n",
    "    print('Graph density:', nx.density(current_graph))\n",
    "    print('Average clustering coefficient:', nx.average_clustering(current_graph))\n",
    "    print('Graph Transitivity:', nx.transitivity(current_graph))\n",
    "    \n",
    "    \n",
    "    \n",
    "    print()"
   ]
  },
  {
   "cell_type": "markdown",
   "id": "e0674fb0-b554-4642-9b9a-4b99a59eafbe",
   "metadata": {},
   "source": [
    "The graph density and transitivity values being close to 0 suggest that the networks are very sparse."
   ]
  },
  {
   "cell_type": "code",
   "execution_count": 8,
   "id": "87a3a2f9-928e-47fa-ba53-24e2a3d930d7",
   "metadata": {
    "tags": []
   },
   "outputs": [
    {
     "name": "stderr",
     "output_type": "stream",
     "text": [
      "Calculating centrality measures: 100%|█████████████████████████████████████████████████| 10/10 [11:00<00:00, 66.05s/it]\n"
     ]
    }
   ],
   "source": [
    "user_nodes = []\n",
    "degree_centrality = []\n",
    "betweenness_centrality = []\n",
    "\n",
    "for G in tqdm(graphs, desc='Calculating centrality measures'):\n",
    "    #Calculate centrality measures for each graph\n",
    "    degree = nx.degree_centrality(G)\n",
    "    betweenness = nx.betweenness_centrality(G)\n",
    "    \n",
    "    #Update lists with maximum centrality values for each user node\n",
    "    for user in G.nodes():\n",
    "        user_nodes.append(user)\n",
    "        degree_centrality.append(degree[user])\n",
    "        betweenness_centrality.append(betweenness[user])\n",
    "\n",
    "data = {\n",
    "    'User': user_nodes,\n",
    "    'Max_Degree_Centrality': degree_centrality,\n",
    "    'Max_Betweenness_Centrality': betweenness_centrality\n",
    "}\n",
    "\n",
    "centrality_df = pd.DataFrame(data)\n",
    "\n",
    "#Group by 'User' and get the maximum centrality values\n",
    "centrality_df = centrality_df.groupby('User').max().reset_index()"
   ]
  },
  {
   "cell_type": "code",
   "execution_count": 9,
   "id": "d63369a7-7add-418a-943c-f6a8f16bd8ca",
   "metadata": {
    "tags": []
   },
   "outputs": [
    {
     "data": {
      "text/html": [
       "<div>\n",
       "<style scoped>\n",
       "    .dataframe tbody tr th:only-of-type {\n",
       "        vertical-align: middle;\n",
       "    }\n",
       "\n",
       "    .dataframe tbody tr th {\n",
       "        vertical-align: top;\n",
       "    }\n",
       "\n",
       "    .dataframe thead th {\n",
       "        text-align: right;\n",
       "    }\n",
       "</style>\n",
       "<table border=\"1\" class=\"dataframe\">\n",
       "  <thead>\n",
       "    <tr style=\"text-align: right;\">\n",
       "      <th></th>\n",
       "      <th>User</th>\n",
       "      <th>Max_Degree_Centrality</th>\n",
       "      <th>Max_Betweenness_Centrality</th>\n",
       "    </tr>\n",
       "  </thead>\n",
       "  <tbody>\n",
       "    <tr>\n",
       "      <th>0</th>\n",
       "      <td>!---slappdash---!</td>\n",
       "      <td>0.000382</td>\n",
       "      <td>0.000000</td>\n",
       "    </tr>\n",
       "    <tr>\n",
       "      <th>1</th>\n",
       "      <td>%D0%90</td>\n",
       "      <td>0.003002</td>\n",
       "      <td>0.000004</td>\n",
       "    </tr>\n",
       "    <tr>\n",
       "      <th>2</th>\n",
       "      <td>'sed</td>\n",
       "      <td>0.000751</td>\n",
       "      <td>0.000004</td>\n",
       "    </tr>\n",
       "    <tr>\n",
       "      <th>3</th>\n",
       "      <td>(.Y.)</td>\n",
       "      <td>0.000250</td>\n",
       "      <td>0.000000</td>\n",
       "    </tr>\n",
       "    <tr>\n",
       "      <th>4</th>\n",
       "      <td>(:Julien:)</td>\n",
       "      <td>0.000488</td>\n",
       "      <td>0.000000</td>\n",
       "    </tr>\n",
       "    <tr>\n",
       "      <th>...</th>\n",
       "      <td>...</td>\n",
       "      <td>...</td>\n",
       "      <td>...</td>\n",
       "    </tr>\n",
       "    <tr>\n",
       "      <th>10014</th>\n",
       "      <td>‎Jetijonez</td>\n",
       "      <td>0.000820</td>\n",
       "      <td>0.000000</td>\n",
       "    </tr>\n",
       "    <tr>\n",
       "      <th>10015</th>\n",
       "      <td>とある白い猫</td>\n",
       "      <td>0.000820</td>\n",
       "      <td>0.000000</td>\n",
       "    </tr>\n",
       "    <tr>\n",
       "      <th>10016</th>\n",
       "      <td>シ</td>\n",
       "      <td>0.001987</td>\n",
       "      <td>0.000005</td>\n",
       "    </tr>\n",
       "    <tr>\n",
       "      <th>10017</th>\n",
       "      <td>石</td>\n",
       "      <td>0.000820</td>\n",
       "      <td>0.000000</td>\n",
       "    </tr>\n",
       "    <tr>\n",
       "      <th>10018</th>\n",
       "      <td>龗</td>\n",
       "      <td>0.000382</td>\n",
       "      <td>0.000000</td>\n",
       "    </tr>\n",
       "  </tbody>\n",
       "</table>\n",
       "<p>10019 rows × 3 columns</p>\n",
       "</div>"
      ],
      "text/plain": [
       "                    User  Max_Degree_Centrality  Max_Betweenness_Centrality\n",
       "0      !---slappdash---!               0.000382                    0.000000\n",
       "1                 %D0%90               0.003002                    0.000004\n",
       "2                   'sed               0.000751                    0.000004\n",
       "3                  (.Y.)               0.000250                    0.000000\n",
       "4             (:Julien:)               0.000488                    0.000000\n",
       "...                  ...                    ...                         ...\n",
       "10014         ‎Jetijonez               0.000820                    0.000000\n",
       "10015             とある白い猫               0.000820                    0.000000\n",
       "10016                  シ               0.001987                    0.000005\n",
       "10017                  石               0.000820                    0.000000\n",
       "10018                  龗               0.000382                    0.000000\n",
       "\n",
       "[10019 rows x 3 columns]"
      ]
     },
     "execution_count": 9,
     "metadata": {},
     "output_type": "execute_result"
    }
   ],
   "source": [
    "centrality_df"
   ]
  },
  {
   "cell_type": "code",
   "execution_count": 10,
   "id": "bbc8cdc4-1dc9-48b2-84c5-60df5cc931bd",
   "metadata": {
    "tags": []
   },
   "outputs": [
    {
     "data": {
      "text/html": [
       "<div>\n",
       "<style scoped>\n",
       "    .dataframe tbody tr th:only-of-type {\n",
       "        vertical-align: middle;\n",
       "    }\n",
       "\n",
       "    .dataframe tbody tr th {\n",
       "        vertical-align: top;\n",
       "    }\n",
       "\n",
       "    .dataframe thead th {\n",
       "        text-align: right;\n",
       "    }\n",
       "</style>\n",
       "<table border=\"1\" class=\"dataframe\">\n",
       "  <thead>\n",
       "    <tr style=\"text-align: right;\">\n",
       "      <th></th>\n",
       "      <th>Max_Degree_Centrality</th>\n",
       "      <th>Max_Betweenness_Centrality</th>\n",
       "    </tr>\n",
       "  </thead>\n",
       "  <tbody>\n",
       "    <tr>\n",
       "      <th>count</th>\n",
       "      <td>10019.000000</td>\n",
       "      <td>10019.000000</td>\n",
       "    </tr>\n",
       "    <tr>\n",
       "      <th>mean</th>\n",
       "      <td>0.009077</td>\n",
       "      <td>0.001261</td>\n",
       "    </tr>\n",
       "    <tr>\n",
       "      <th>std</th>\n",
       "      <td>0.018144</td>\n",
       "      <td>0.004729</td>\n",
       "    </tr>\n",
       "    <tr>\n",
       "      <th>min</th>\n",
       "      <td>0.000214</td>\n",
       "      <td>0.000000</td>\n",
       "    </tr>\n",
       "    <tr>\n",
       "      <th>25%</th>\n",
       "      <td>0.000428</td>\n",
       "      <td>0.000000</td>\n",
       "    </tr>\n",
       "    <tr>\n",
       "      <th>50%</th>\n",
       "      <td>0.001207</td>\n",
       "      <td>0.000001</td>\n",
       "    </tr>\n",
       "    <tr>\n",
       "      <th>75%</th>\n",
       "      <td>0.009636</td>\n",
       "      <td>0.000392</td>\n",
       "    </tr>\n",
       "    <tr>\n",
       "      <th>max</th>\n",
       "      <td>0.244878</td>\n",
       "      <td>0.167773</td>\n",
       "    </tr>\n",
       "  </tbody>\n",
       "</table>\n",
       "</div>"
      ],
      "text/plain": [
       "       Max_Degree_Centrality  Max_Betweenness_Centrality\n",
       "count           10019.000000                10019.000000\n",
       "mean                0.009077                    0.001261\n",
       "std                 0.018144                    0.004729\n",
       "min                 0.000214                    0.000000\n",
       "25%                 0.000428                    0.000000\n",
       "50%                 0.001207                    0.000001\n",
       "75%                 0.009636                    0.000392\n",
       "max                 0.244878                    0.167773"
      ]
     },
     "execution_count": 10,
     "metadata": {},
     "output_type": "execute_result"
    }
   ],
   "source": [
    "centrality_df.describe()"
   ]
  },
  {
   "cell_type": "code",
   "execution_count": 11,
   "id": "96b14754-d3de-448d-b84b-6180ccbb33bb",
   "metadata": {
    "tags": []
   },
   "outputs": [],
   "source": [
    "louvain_communities = [nx.community.louvain_communities(G) for G in graphs]"
   ]
  },
  {
   "cell_type": "code",
   "execution_count": 12,
   "id": "d2427c81-d369-46aa-aeaa-680f2cf0d6ad",
   "metadata": {
    "tags": []
   },
   "outputs": [
    {
     "data": {
      "image/png": "[encoded data removed]",
      "text/plain": [
       "<Figure size 800x400 with 1 Axes>"
      ]
     },
     "metadata": {},
     "output_type": "display_data"
    }
   ],
   "source": [
    "num_communities = [len(communities) for communities in louvain_communities]\n",
    "\n",
    "plt.figure(figsize=(8, 4))\n",
    "plt.bar(years[:-1], num_communities, color='darkblue')\n",
    "plt.xlabel('Year')\n",
    "plt.ylabel('Number of Communities')\n",
    "plt.title('Number of Communities Detected by Louvain Algorithm for Each Year')\n",
    "plt.xticks(years[:-1], rotation=45)\n",
    "plt.tight_layout()\n",
    "\n",
    "plt.show()"
   ]
  },
  {
   "cell_type": "code",
   "execution_count": 13,
   "id": "450b756a-c6fd-4f07-a5d4-521ae5bd366a",
   "metadata": {
    "tags": []
   },
   "outputs": [
    {
     "data": {
      "image/png": "[encoded data removed]",
      "text/plain": [
       "<Figure size 800x400 with 1 Axes>"
      ]
     },
     "metadata": {},
     "output_type": "display_data"
    }
   ],
   "source": [
    "mean_size_communities = [np.mean([len(community) for community in communities]) for communities in louvain_communities]\n",
    "\n",
    "plt.figure(figsize=(8, 4))\n",
    "plt.bar(years[:-1], mean_size_communities, color='darkblue')\n",
    "plt.xlabel('Year')\n",
    "plt.ylabel('Number of Communities')\n",
    "plt.title('Number of Communities Detected by Louvain Algorithm for Each Year')\n",
    "plt.xticks(years[:-1], rotation=45)\n",
    "plt.tight_layout()\n",
    "\n",
    "plt.show()"
   ]
  },
  {
   "cell_type": "markdown",
   "id": "0a75de57-8fe4-433d-ae30-9915f169324d",
   "metadata": {},
   "source": [
    "We notice a great number of communities in our graph. To be able to more precisely explore those communities, we need tangible metrics to group users with, for this, we construct two types of graphs:<br>\n",
    "\n",
    "-An Agreement Graph: This graph will represent the agreement between users within the DataFrame, meaning the similarity of their voting patterns in the election. This will allow us to understand whether there are communities of users who always vote similarly and whether those users tend to positively vote for each other.\n",
    "\n",
    "-A Similarity Graph: This graph will represent how similarly users interact with Wikipedia content. We will build it using comments users write on articles' discussion pages. This will allow us to understand whether users who interact with the same type of content are more likely to vote positively for each other."
   ]
  },
  {
   "cell_type": "markdown",
   "id": "2db10abf-de8d-49e1-8629-b15ece418b7b",
   "metadata": {
    "tags": []
   },
   "source": [
    "### Agreement Graph <a class=\"anchor\" id=\"agreement-graph\"></a>"
   ]
  },
  {
   "cell_type": "markdown",
   "id": "3b0cbd26-585c-4b1d-ad56-c327b64c345f",
   "metadata": {},
   "source": [
    "We create a DataFrame containing the agreement between users. This agreement is calculated by first eliminating the neutral votes, and calculating the number of times two users voted in the same election, and extract the percentage of times they agreed.\n",
    "\n",
    "We only keep pairs of users who voted in the same elections more than 10 times to have significant data and avoid outliers.\n",
    "\n",
    "As the function takes too much time, we store its result in a '.csv' file that we directly load."
   ]
  },
  {
   "cell_type": "code",
   "execution_count": 14,
   "id": "5a8b62ad-f1b9-4045-b479-d66ca4b429c8",
   "metadata": {
    "tags": []
   },
   "outputs": [],
   "source": [
    "agreement_df_before_election = pd.read_csv('./data/agreement_before_election.csv')"
   ]
  },
  {
   "cell_type": "code",
   "execution_count": 15,
   "id": "125a494c-36c4-4d3b-913e-54d98f6352b8",
   "metadata": {
    "tags": []
   },
   "outputs": [],
   "source": [
    "filtered_agreement_df = agreement_df_before_election[agreement_df_before_election['Total Votes'] >= 10]"
   ]
  },
  {
   "cell_type": "code",
   "execution_count": 16,
   "id": "203c5749-db96-4c1d-9fe7-43533532fae8",
   "metadata": {},
   "outputs": [
    {
     "data": {
      "text/html": [
       "<div>\n",
       "<style scoped>\n",
       "    .dataframe tbody tr th:only-of-type {\n",
       "        vertical-align: middle;\n",
       "    }\n",
       "\n",
       "    .dataframe tbody tr th {\n",
       "        vertical-align: top;\n",
       "    }\n",
       "\n",
       "    .dataframe thead th {\n",
       "        text-align: right;\n",
       "    }\n",
       "</style>\n",
       "<table border=\"1\" class=\"dataframe\">\n",
       "  <thead>\n",
       "    <tr style=\"text-align: right;\">\n",
       "      <th></th>\n",
       "      <th>USR1</th>\n",
       "      <th>USR2</th>\n",
       "      <th>Total Votes</th>\n",
       "      <th>Agreed</th>\n",
       "      <th>Total Votes before USR1 election</th>\n",
       "      <th>Total Votes before USR2 election</th>\n",
       "      <th>Agreed before USR1 election</th>\n",
       "      <th>Agreed before USR2 election</th>\n",
       "      <th>Agreement Ratio</th>\n",
       "      <th>Agreement Ratio before USR1 election</th>\n",
       "      <th>Agreement Ratio before USR2 election</th>\n",
       "    </tr>\n",
       "  </thead>\n",
       "  <tbody>\n",
       "    <tr>\n",
       "      <th>263</th>\n",
       "      <td>INeverCry</td>\n",
       "      <td>Cncmaster</td>\n",
       "      <td>12</td>\n",
       "      <td>11</td>\n",
       "      <td>0</td>\n",
       "      <td>0</td>\n",
       "      <td>0</td>\n",
       "      <td>0</td>\n",
       "      <td>0.916667</td>\n",
       "      <td>NaN</td>\n",
       "      <td>NaN</td>\n",
       "    </tr>\n",
       "    <tr>\n",
       "      <th>264</th>\n",
       "      <td>INeverCry</td>\n",
       "      <td>Miniapolis</td>\n",
       "      <td>23</td>\n",
       "      <td>20</td>\n",
       "      <td>8</td>\n",
       "      <td>8</td>\n",
       "      <td>6</td>\n",
       "      <td>6</td>\n",
       "      <td>0.869565</td>\n",
       "      <td>0.750</td>\n",
       "      <td>0.750000</td>\n",
       "    </tr>\n",
       "    <tr>\n",
       "      <th>268</th>\n",
       "      <td>INeverCry</td>\n",
       "      <td>Carrite</td>\n",
       "      <td>19</td>\n",
       "      <td>16</td>\n",
       "      <td>8</td>\n",
       "      <td>7</td>\n",
       "      <td>6</td>\n",
       "      <td>5</td>\n",
       "      <td>0.842105</td>\n",
       "      <td>0.750</td>\n",
       "      <td>0.714286</td>\n",
       "    </tr>\n",
       "    <tr>\n",
       "      <th>269</th>\n",
       "      <td>INeverCry</td>\n",
       "      <td>Someguy1221</td>\n",
       "      <td>21</td>\n",
       "      <td>19</td>\n",
       "      <td>2</td>\n",
       "      <td>5</td>\n",
       "      <td>2</td>\n",
       "      <td>4</td>\n",
       "      <td>0.904762</td>\n",
       "      <td>1.000</td>\n",
       "      <td>0.800000</td>\n",
       "    </tr>\n",
       "    <tr>\n",
       "      <th>270</th>\n",
       "      <td>INeverCry</td>\n",
       "      <td>Secret</td>\n",
       "      <td>19</td>\n",
       "      <td>16</td>\n",
       "      <td>8</td>\n",
       "      <td>6</td>\n",
       "      <td>7</td>\n",
       "      <td>5</td>\n",
       "      <td>0.842105</td>\n",
       "      <td>0.875</td>\n",
       "      <td>0.833333</td>\n",
       "    </tr>\n",
       "    <tr>\n",
       "      <th>...</th>\n",
       "      <td>...</td>\n",
       "      <td>...</td>\n",
       "      <td>...</td>\n",
       "      <td>...</td>\n",
       "      <td>...</td>\n",
       "      <td>...</td>\n",
       "      <td>...</td>\n",
       "      <td>...</td>\n",
       "      <td>...</td>\n",
       "      <td>...</td>\n",
       "      <td>...</td>\n",
       "    </tr>\n",
       "    <tr>\n",
       "      <th>2387820</th>\n",
       "      <td>VeryVerily</td>\n",
       "      <td>Acegikmo1</td>\n",
       "      <td>11</td>\n",
       "      <td>4</td>\n",
       "      <td>0</td>\n",
       "      <td>0</td>\n",
       "      <td>0</td>\n",
       "      <td>0</td>\n",
       "      <td>0.363636</td>\n",
       "      <td>NaN</td>\n",
       "      <td>NaN</td>\n",
       "    </tr>\n",
       "    <tr>\n",
       "      <th>2388252</th>\n",
       "      <td>Cyp</td>\n",
       "      <td>Angela</td>\n",
       "      <td>10</td>\n",
       "      <td>9</td>\n",
       "      <td>0</td>\n",
       "      <td>0</td>\n",
       "      <td>0</td>\n",
       "      <td>0</td>\n",
       "      <td>0.900000</td>\n",
       "      <td>NaN</td>\n",
       "      <td>NaN</td>\n",
       "    </tr>\n",
       "    <tr>\n",
       "      <th>2388667</th>\n",
       "      <td>Dori</td>\n",
       "      <td>Texture</td>\n",
       "      <td>10</td>\n",
       "      <td>9</td>\n",
       "      <td>0</td>\n",
       "      <td>0</td>\n",
       "      <td>0</td>\n",
       "      <td>0</td>\n",
       "      <td>0.900000</td>\n",
       "      <td>NaN</td>\n",
       "      <td>NaN</td>\n",
       "    </tr>\n",
       "    <tr>\n",
       "      <th>2388979</th>\n",
       "      <td>Bcorr</td>\n",
       "      <td>Wile E. Heresiarch</td>\n",
       "      <td>10</td>\n",
       "      <td>6</td>\n",
       "      <td>0</td>\n",
       "      <td>1</td>\n",
       "      <td>0</td>\n",
       "      <td>1</td>\n",
       "      <td>0.600000</td>\n",
       "      <td>NaN</td>\n",
       "      <td>1.000000</td>\n",
       "    </tr>\n",
       "    <tr>\n",
       "      <th>2389460</th>\n",
       "      <td>Cribcage</td>\n",
       "      <td>SWAdair</td>\n",
       "      <td>11</td>\n",
       "      <td>8</td>\n",
       "      <td>2</td>\n",
       "      <td>3</td>\n",
       "      <td>1</td>\n",
       "      <td>3</td>\n",
       "      <td>0.727273</td>\n",
       "      <td>0.500</td>\n",
       "      <td>1.000000</td>\n",
       "    </tr>\n",
       "  </tbody>\n",
       "</table>\n",
       "<p>178504 rows × 11 columns</p>\n",
       "</div>"
      ],
      "text/plain": [
       "               USR1                USR2  Total Votes  Agreed  \\\n",
       "263       INeverCry           Cncmaster           12      11   \n",
       "264       INeverCry          Miniapolis           23      20   \n",
       "268       INeverCry             Carrite           19      16   \n",
       "269       INeverCry         Someguy1221           21      19   \n",
       "270       INeverCry              Secret           19      16   \n",
       "...             ...                 ...          ...     ...   \n",
       "2387820  VeryVerily           Acegikmo1           11       4   \n",
       "2388252         Cyp              Angela           10       9   \n",
       "2388667        Dori             Texture           10       9   \n",
       "2388979       Bcorr  Wile E. Heresiarch           10       6   \n",
       "2389460    Cribcage             SWAdair           11       8   \n",
       "\n",
       "         Total Votes before USR1 election  Total Votes before USR2 election  \\\n",
       "263                                     0                                 0   \n",
       "264                                     8                                 8   \n",
       "268                                     8                                 7   \n",
       "269                                     2                                 5   \n",
       "270                                     8                                 6   \n",
       "...                                   ...                               ...   \n",
       "2387820                                 0                                 0   \n",
       "2388252                                 0                                 0   \n",
       "2388667                                 0                                 0   \n",
       "2388979                                 0                                 1   \n",
       "2389460                                 2                                 3   \n",
       "\n",
       "         Agreed before USR1 election  Agreed before USR2 election  \\\n",
       "263                                0                            0   \n",
       "264                                6                            6   \n",
       "268                                6                            5   \n",
       "269                                2                            4   \n",
       "270                                7                            5   \n",
       "...                              ...                          ...   \n",
       "2387820                            0                            0   \n",
       "2388252                            0                            0   \n",
       "2388667                            0                            0   \n",
       "2388979                            0                            1   \n",
       "2389460                            1                            3   \n",
       "\n",
       "         Agreement Ratio  Agreement Ratio before USR1 election  \\\n",
       "263             0.916667                                   NaN   \n",
       "264             0.869565                                 0.750   \n",
       "268             0.842105                                 0.750   \n",
       "269             0.904762                                 1.000   \n",
       "270             0.842105                                 0.875   \n",
       "...                  ...                                   ...   \n",
       "2387820         0.363636                                   NaN   \n",
       "2388252         0.900000                                   NaN   \n",
       "2388667         0.900000                                   NaN   \n",
       "2388979         0.600000                                   NaN   \n",
       "2389460         0.727273                                 0.500   \n",
       "\n",
       "         Agreement Ratio before USR2 election  \n",
       "263                                       NaN  \n",
       "264                                  0.750000  \n",
       "268                                  0.714286  \n",
       "269                                  0.800000  \n",
       "270                                  0.833333  \n",
       "...                                       ...  \n",
       "2387820                                   NaN  \n",
       "2388252                                   NaN  \n",
       "2388667                                   NaN  \n",
       "2388979                              1.000000  \n",
       "2389460                              1.000000  \n",
       "\n",
       "[178504 rows x 11 columns]"
      ]
     },
     "execution_count": 16,
     "metadata": {},
     "output_type": "execute_result"
    }
   ],
   "source": [
    "filtered_agreement_df"
   ]
  },
  {
   "cell_type": "markdown",
   "id": "32ca35c5-10e8-4643-8318-433b72229317",
   "metadata": {},
   "source": [
    "We merge the obtained agreement DataFrame with the original wiki_df in order to study the correlation between the agreement ratio and the nature of the vote."
   ]
  },
  {
   "cell_type": "code",
   "execution_count": 17,
   "id": "e21cd55e-c353-4189-b1d1-18604c8d911e",
   "metadata": {
    "tags": []
   },
   "outputs": [],
   "source": [
    "merged_wiki_df_1 = pd.merge(wiki_df, filtered_agreement_df, how='left', left_on=['SRC', 'TGT'], right_on=['USR1', 'USR2'])\n",
    "merged_wiki_df_2 = pd.merge(wiki_df, filtered_agreement_df, how='left', left_on=['SRC', 'TGT'], right_on=['USR2', 'USR1'])"
   ]
  },
  {
   "cell_type": "code",
   "execution_count": 18,
   "id": "f150bd1e-6fea-40a6-9e2d-53d614bffe42",
   "metadata": {
    "tags": []
   },
   "outputs": [],
   "source": [
    "columns_to_keep = ['SRC', 'TGT', 'VOT', 'ELECTION_ID', 'Total Votes', 'Agreement Ratio',\n",
    "                    'Total Votes before election', 'Agreement Ratio before election']\n",
    "\n",
    "#Renaming columns\n",
    "new_column_names_1 = {'Total Votes before USR1 election': 'Total Votes before election',\n",
    "                    'Agreement Ratio before USR1 election': 'Agreement Ratio before election'}\n",
    "\n",
    "new_column_names_2 = {'Total Votes before USR2 election': 'Total Votes before election',\n",
    "                    'Agreement Ratio before USR2 election': 'Agreement Ratio before election'}\n",
    "\n",
    "selected_df_1 = merged_wiki_df_1.rename(columns=new_column_names_1)\n",
    "selected_df_2 = merged_wiki_df_2.rename(columns=new_column_names_2)\n",
    "\n",
    "final_df_1 = selected_df_1.drop(selected_df_1.columns.difference(columns_to_keep), axis=1)\n",
    "final_df_2 = selected_df_2.drop(selected_df_2.columns.difference(columns_to_keep), axis=1)"
   ]
  },
  {
   "cell_type": "code",
   "execution_count": 19,
   "id": "813b5bd0-1cee-46bd-818e-eca5cbbb6ba7",
   "metadata": {
    "tags": []
   },
   "outputs": [],
   "source": [
    "final_df = pd.concat([final_df_1, final_df_2])"
   ]
  },
  {
   "cell_type": "code",
   "execution_count": 20,
   "id": "eac7e0b4-6de0-4a8b-878a-1f39f4036398",
   "metadata": {
    "tags": []
   },
   "outputs": [],
   "source": [
    "final_df = final_df[final_df['Total Votes'] >= 10]"
   ]
  },
  {
   "cell_type": "code",
   "execution_count": 21,
   "id": "4f64a52c-98a3-4a15-a689-d54fb2efc127",
   "metadata": {
    "tags": []
   },
   "outputs": [
    {
     "data": {
      "text/html": [
       "<div>\n",
       "<style scoped>\n",
       "    .dataframe tbody tr th:only-of-type {\n",
       "        vertical-align: middle;\n",
       "    }\n",
       "\n",
       "    .dataframe tbody tr th {\n",
       "        vertical-align: top;\n",
       "    }\n",
       "\n",
       "    .dataframe thead th {\n",
       "        text-align: right;\n",
       "    }\n",
       "</style>\n",
       "<table border=\"1\" class=\"dataframe\">\n",
       "  <thead>\n",
       "    <tr style=\"text-align: right;\">\n",
       "      <th></th>\n",
       "      <th>SRC</th>\n",
       "      <th>TGT</th>\n",
       "      <th>VOT</th>\n",
       "      <th>ELECTION_ID</th>\n",
       "      <th>Total Votes</th>\n",
       "      <th>Total Votes before election</th>\n",
       "      <th>Agreement Ratio</th>\n",
       "      <th>Agreement Ratio before election</th>\n",
       "    </tr>\n",
       "  </thead>\n",
       "  <tbody>\n",
       "    <tr>\n",
       "      <th>422</th>\n",
       "      <td>Morning Sunshine</td>\n",
       "      <td>INeverCry</td>\n",
       "      <td>1</td>\n",
       "      <td>4</td>\n",
       "      <td>16.0</td>\n",
       "      <td>2.0</td>\n",
       "      <td>0.812500</td>\n",
       "      <td>1.000</td>\n",
       "    </tr>\n",
       "    <tr>\n",
       "      <th>424</th>\n",
       "      <td>Torreslfchero</td>\n",
       "      <td>INeverCry</td>\n",
       "      <td>1</td>\n",
       "      <td>4</td>\n",
       "      <td>17.0</td>\n",
       "      <td>2.0</td>\n",
       "      <td>0.882353</td>\n",
       "      <td>1.000</td>\n",
       "    </tr>\n",
       "    <tr>\n",
       "      <th>450</th>\n",
       "      <td>Vacation9</td>\n",
       "      <td>INeverCry</td>\n",
       "      <td>1</td>\n",
       "      <td>4</td>\n",
       "      <td>12.0</td>\n",
       "      <td>8.0</td>\n",
       "      <td>0.833333</td>\n",
       "      <td>0.875</td>\n",
       "    </tr>\n",
       "    <tr>\n",
       "      <th>471</th>\n",
       "      <td>Joe Decker</td>\n",
       "      <td>INeverCry</td>\n",
       "      <td>1</td>\n",
       "      <td>4</td>\n",
       "      <td>19.0</td>\n",
       "      <td>1.0</td>\n",
       "      <td>0.894737</td>\n",
       "      <td>1.000</td>\n",
       "    </tr>\n",
       "    <tr>\n",
       "      <th>526</th>\n",
       "      <td>Inka 888</td>\n",
       "      <td>INeverCry</td>\n",
       "      <td>-1</td>\n",
       "      <td>4</td>\n",
       "      <td>10.0</td>\n",
       "      <td>0.0</td>\n",
       "      <td>0.800000</td>\n",
       "      <td>NaN</td>\n",
       "    </tr>\n",
       "    <tr>\n",
       "      <th>...</th>\n",
       "      <td>...</td>\n",
       "      <td>...</td>\n",
       "      <td>...</td>\n",
       "      <td>...</td>\n",
       "      <td>...</td>\n",
       "      <td>...</td>\n",
       "      <td>...</td>\n",
       "      <td>...</td>\n",
       "    </tr>\n",
       "    <tr>\n",
       "      <th>197997</th>\n",
       "      <td>Ambi</td>\n",
       "      <td>Squash</td>\n",
       "      <td>-1</td>\n",
       "      <td>3865</td>\n",
       "      <td>17.0</td>\n",
       "      <td>0.0</td>\n",
       "      <td>0.823529</td>\n",
       "      <td>NaN</td>\n",
       "    </tr>\n",
       "    <tr>\n",
       "      <th>198104</th>\n",
       "      <td>Hephaestos</td>\n",
       "      <td>Bcorr</td>\n",
       "      <td>1</td>\n",
       "      <td>3876</td>\n",
       "      <td>13.0</td>\n",
       "      <td>0.0</td>\n",
       "      <td>0.846154</td>\n",
       "      <td>NaN</td>\n",
       "    </tr>\n",
       "    <tr>\n",
       "      <th>198107</th>\n",
       "      <td>Ugen64</td>\n",
       "      <td>Bcorr</td>\n",
       "      <td>-1</td>\n",
       "      <td>3876</td>\n",
       "      <td>23.0</td>\n",
       "      <td>0.0</td>\n",
       "      <td>0.608696</td>\n",
       "      <td>NaN</td>\n",
       "    </tr>\n",
       "    <tr>\n",
       "      <th>198136</th>\n",
       "      <td>Angela</td>\n",
       "      <td>Dori</td>\n",
       "      <td>1</td>\n",
       "      <td>3885</td>\n",
       "      <td>18.0</td>\n",
       "      <td>0.0</td>\n",
       "      <td>0.944444</td>\n",
       "      <td>NaN</td>\n",
       "    </tr>\n",
       "    <tr>\n",
       "      <th>198159</th>\n",
       "      <td>Secretlondon</td>\n",
       "      <td>Finlay McWalter</td>\n",
       "      <td>1</td>\n",
       "      <td>3891</td>\n",
       "      <td>10.0</td>\n",
       "      <td>0.0</td>\n",
       "      <td>0.700000</td>\n",
       "      <td>NaN</td>\n",
       "    </tr>\n",
       "  </tbody>\n",
       "</table>\n",
       "<p>51775 rows × 8 columns</p>\n",
       "</div>"
      ],
      "text/plain": [
       "                     SRC              TGT  VOT  ELECTION_ID  Total Votes  \\\n",
       "422     Morning Sunshine        INeverCry    1            4         16.0   \n",
       "424        Torreslfchero        INeverCry    1            4         17.0   \n",
       "450            Vacation9        INeverCry    1            4         12.0   \n",
       "471           Joe Decker        INeverCry    1            4         19.0   \n",
       "526             Inka 888        INeverCry   -1            4         10.0   \n",
       "...                  ...              ...  ...          ...          ...   \n",
       "197997              Ambi           Squash   -1         3865         17.0   \n",
       "198104        Hephaestos            Bcorr    1         3876         13.0   \n",
       "198107            Ugen64            Bcorr   -1         3876         23.0   \n",
       "198136            Angela             Dori    1         3885         18.0   \n",
       "198159      Secretlondon  Finlay McWalter    1         3891         10.0   \n",
       "\n",
       "        Total Votes before election  Agreement Ratio  \\\n",
       "422                             2.0         0.812500   \n",
       "424                             2.0         0.882353   \n",
       "450                             8.0         0.833333   \n",
       "471                             1.0         0.894737   \n",
       "526                             0.0         0.800000   \n",
       "...                             ...              ...   \n",
       "197997                          0.0         0.823529   \n",
       "198104                          0.0         0.846154   \n",
       "198107                          0.0         0.608696   \n",
       "198136                          0.0         0.944444   \n",
       "198159                          0.0         0.700000   \n",
       "\n",
       "        Agreement Ratio before election  \n",
       "422                               1.000  \n",
       "424                               1.000  \n",
       "450                               0.875  \n",
       "471                               1.000  \n",
       "526                                 NaN  \n",
       "...                                 ...  \n",
       "197997                              NaN  \n",
       "198104                              NaN  \n",
       "198107                              NaN  \n",
       "198136                              NaN  \n",
       "198159                              NaN  \n",
       "\n",
       "[51775 rows x 8 columns]"
      ]
     },
     "execution_count": 21,
     "metadata": {},
     "output_type": "execute_result"
    }
   ],
   "source": [
    "final_df"
   ]
  },
  {
   "cell_type": "markdown",
   "id": "5eda1e8f-9ba6-4acb-951e-ee0ea9c92c46",
   "metadata": {},
   "source": [
    "We investigate the distribution of the agreement ratio depending on the nature of the vote."
   ]
  },
  {
   "cell_type": "code",
   "execution_count": 26,
   "id": "3f032ea6-7e40-48fb-bd20-61d9f6636d78",
   "metadata": {
    "tags": []
   },
   "outputs": [
    {
     "data": {
      "image/png": "[encoded data removed]",
      "text/plain": [
       "<Figure size 800x600 with 1 Axes>"
      ]
     },
     "metadata": {},
     "output_type": "display_data"
    }
   ],
   "source": [
    "vot_values = [-1, 0, 1]\n",
    "vot_data = [final_df[final_df['VOT'] == vot]['Agreement Ratio'] for vot in vot_values]\n",
    "\n",
    "# Create box plot\n",
    "plt.figure(figsize=(8, 6))\n",
    "sns.boxplot(data=vot_data, palette='viridis')\n",
    "\n",
    "# Set labels and title\n",
    "plt.xlabel('VOT Values')\n",
    "plt.ylabel('Agreement Ratio')\n",
    "plt.title('Box Plot of Agreement Ratio for Different VOT Values')\n",
    "\n",
    "# Set x-axis tick labels\n",
    "plt.xticks(range(len(vot_values)), vot_values)\n",
    "\n",
    "# Show plot\n",
    "plt.grid(True)\n",
    "plt.show()"
   ]
  },
  {
   "cell_type": "code",
   "execution_count": 27,
   "id": "e7fe9553-f49d-44bb-b922-8db0dc49d11b",
   "metadata": {
    "tags": []
   },
   "outputs": [
    {
     "data": {
      "image/png": "[encoded data removed]",
      "text/plain": [
       "<Figure size 800x600 with 1 Axes>"
      ]
     },
     "metadata": {},
     "output_type": "display_data"
    }
   ],
   "source": [
    "vot_values = [-1, 0, 1]\n",
    "vot_data = [final_df[(final_df['VOT'] == vot) & (final_df['Total Votes before election'] >= 10)]['Agreement Ratio before election'] for vot in vot_values]\n",
    "\n",
    "# Create box plot\n",
    "plt.figure(figsize=(8, 6))\n",
    "sns.boxplot(data=vot_data, palette='viridis')\n",
    "\n",
    "# Set labels and title\n",
    "plt.xlabel('VOT Values')\n",
    "plt.ylabel('Agreement Ratio')\n",
    "plt.title('Box Plot of Agreement Ratio for Different VOT Values')\n",
    "\n",
    "# Set x-axis tick labels\n",
    "plt.xticks(range(len(vot_values)), vot_values)\n",
    "\n",
    "# Show plot\n",
    "plt.grid(True)\n",
    "plt.show()"
   ]
  },
  {
   "cell_type": "code",
   "execution_count": null,
   "id": "8a1e2807-7fd4-40aa-af28-50881e9b377c",
   "metadata": {
    "tags": []
   },
   "outputs": [],
   "source": [
    "vot_0 = final_df[final_df['VOT'] == 0]['Agreement Ratio']\n",
    "vot_neg_1 = final_df[final_df['VOT'] == -1]['Agreement Ratio']\n",
    "vot_1 = final_df[final_df['VOT'] == 1]['Agreement Ratio']\n",
    "\n",
    "# Perform one-way ANOVA\n",
    "f_statistic, p_value = f_oneway(vot_0, vot_neg_1, vot_1)\n",
    "\n",
    "# Display results\n",
    "print(\"F-Statistic:\", f_statistic)\n",
    "print(\"P-value:\", p_value)\n",
    "\n",
    "if p_value < 0.05:\n",
    "    print(\"The differences between groups are statistically significant.\")\n",
    "else:\n",
    "    print(\"There is no significant difference between groups.\")"
   ]
  },
  {
   "cell_type": "markdown",
   "id": "a3557d7d-04b7-4239-a609-573e31e86a2f",
   "metadata": {},
   "source": [
    "We can see that there are statistically significant differences between the three categories, positive votes have higher agreement ratios between the source and the target than neutral and negative votes."
   ]
  },
  {
   "cell_type": "markdown",
   "id": "d85ab47e-9645-4a15-835b-97e3a32ea70b",
   "metadata": {},
   "source": [
    "We create an agreement graph: an edge exists between two users if they have voted in at least 10 elections together and have a higher agreement ratio than 0.9.\n",
    "\n",
    "This will allows us to investigate whether there are communities who always vote similarly and whether members of those communities tend to positively vote for each other."
   ]
  },
  {
   "cell_type": "code",
   "execution_count": null,
   "id": "e768b4f9-2b77-4583-8e32-ab68bbcac0bc",
   "metadata": {
    "tags": []
   },
   "outputs": [],
   "source": [
    "graph_df = filtered_agreement_df[filtered_agreement_df['Agreement Ratio'] >= 0.9]"
   ]
  },
  {
   "cell_type": "code",
   "execution_count": null,
   "id": "bc34447e-98b8-446c-af15-e2523fc3b57c",
   "metadata": {
    "tags": []
   },
   "outputs": [],
   "source": [
    "G = nx.from_pandas_edgelist(graph_df, source='USR1', target='USR2')"
   ]
  },
  {
   "cell_type": "code",
   "execution_count": null,
   "id": "8e2dc917-70b7-4d44-baca-7c0bb37c2cc7",
   "metadata": {
    "tags": []
   },
   "outputs": [],
   "source": [
    "degrees = [G.degree(node) for node in G.nodes()]\n",
    "\n",
    "#Plot the degree distribution\n",
    "plt.hist(degrees, bins=40, alpha=0.7, color='darkblue', edgecolor='black')\n",
    "plt.title('Degree Distribution of Agreement Graph')\n",
    "plt.xlabel('Degree')\n",
    "plt.ylabel('Frequency')\n",
    "plt.grid(True)\n",
    "plt.show()"
   ]
  },
  {
   "cell_type": "markdown",
   "id": "fa8fb872-d6dd-4408-a3f9-f4db04a1f59f",
   "metadata": {},
   "source": [
    "The structure of the agreement graph is similar to the structure of our initial graph, with most of the nodes having very low degrees while a minority of nodes has very high degrees.\n",
    "\n",
    "Indeed, the presence of a node between two users is directly correlated to their number of votes, as we only select pairs that have voted together in at least 10 distinct elections, this makes users who have a very high number of votes more likely to have a very high degree."
   ]
  },
  {
   "cell_type": "code",
   "execution_count": null,
   "id": "0edd4641-90b6-4503-87bf-fdd7f9372050",
   "metadata": {
    "tags": []
   },
   "outputs": [],
   "source": [
    "degrees = dict(G.degree())\n",
    "\n",
    "sorted_degrees = sorted(degrees.items(), key=lambda x: x[1], reverse=True)\n",
    "top_users = [user for user, _ in sorted_degrees[:5]]\n",
    "\n",
    "print(\"Top 5 users with highest degrees:\")\n",
    "for node, degree in sorted_degrees[:5]:\n",
    "    print(f\"User {node}: Degree = {degree}\")"
   ]
  },
  {
   "cell_type": "code",
   "execution_count": null,
   "id": "d4e8f889-8b36-4c90-be77-fa798bfce919",
   "metadata": {
    "tags": []
   },
   "outputs": [],
   "source": [
    "voters_df[voters_df['USER'].isin(top_users)]"
   ]
  },
  {
   "cell_type": "markdown",
   "id": "a7930bdc-d85d-463f-8baa-d7ef25f63b87",
   "metadata": {},
   "source": [
    "We can see the users with the highest number of degrees have very high number of votes and are active through many years. This suggests they are more influential."
   ]
  },
  {
   "cell_type": "code",
   "execution_count": null,
   "id": "1ae6171f-b750-4fc6-8606-9b132bed4abc",
   "metadata": {
    "tags": []
   },
   "outputs": [],
   "source": [
    "betweenness_centrality = nx.betweenness_centrality(G)\n",
    "\n",
    "sorted_betweenness = sorted(betweenness_centrality.items(), key=lambda x: x[1], reverse=True)\n",
    "print(\"Top 5 nodes with highest betweenness centrality:\")\n",
    "for node, betweenness in sorted_betweenness[:5]:\n",
    "    print(f\"Node {node}: Betweenness Centrality = {betweenness}\")"
   ]
  },
  {
   "cell_type": "markdown",
   "id": "d4a1e829-aaa4-4059-a6d9-7962784649c3",
   "metadata": {},
   "source": [
    "We notice that the same users have the highest Betweenness Centrality measure, indicating that those candidates are the most influential in the graph."
   ]
  },
  {
   "cell_type": "markdown",
   "id": "24fdd10a-5707-4af6-bdc4-52839937282c",
   "metadata": {},
   "source": [
    "Using Louvain's algorithm, we try to detect communities in our graph and analyse the voting behavior and the agreement between the communities."
   ]
  },
  {
   "cell_type": "code",
   "execution_count": null,
   "id": "a47be22c-c8f1-4440-9274-7ba27c04d8bf",
   "metadata": {
    "tags": []
   },
   "outputs": [],
   "source": [
    "communities = nx.community.louvain_communities(G)"
   ]
  },
  {
   "cell_type": "code",
   "execution_count": null,
   "id": "8612ec83-a430-40ba-88eb-8b3d19ec29ab",
   "metadata": {
    "tags": []
   },
   "outputs": [],
   "source": [
    "votes_received = []\n",
    "votes_emitted = []\n",
    "\n",
    "#Loop through each community\n",
    "for community in communities:\n",
    "    #Extract data for votes received and emitted by the community\n",
    "    received_data = wiki_df[wiki_df['TGT'].isin(community)]\n",
    "    emitted_data = wiki_df[wiki_df['SRC'].isin(community)]\n",
    "    \n",
    "    #Calculate the total number of votes received and emitted\n",
    "    total_received = len(received_data)\n",
    "    total_emitted = len(emitted_data)\n",
    "    \n",
    "    votes_received.append(total_received)\n",
    "    votes_emitted.append(total_emitted)\n",
    "\n",
    "#Create a bar plot for votes received and emitted for each community\n",
    "plt.figure(figsize=(14, 6))\n",
    "community_labels = [f'Community {i+1}' for i in range(len(communities))]\n",
    "\n",
    "bar_width = 0.35\n",
    "index = range(len(communities))\n",
    "\n",
    "plt.bar(index, votes_received, bar_width, label='Votes Received')\n",
    "plt.bar([i + bar_width for i in index], votes_emitted, bar_width, label='Votes Emitted')\n",
    "\n",
    "plt.xlabel('Community')\n",
    "plt.ylabel('Number of Votes')\n",
    "plt.title('Total Votes Received and Emitted per Community')\n",
    "plt.xticks([i + bar_width / 2 for i in index], community_labels)\n",
    "plt.legend()\n",
    "\n",
    "plt.tight_layout()\n",
    "plt.show()"
   ]
  },
  {
   "cell_type": "markdown",
   "id": "1a15296b-2f04-4361-943d-0052b2587fc8",
   "metadata": {},
   "source": [
    "We notice that there are communities with a very low number of votes received and emitted, we eliminate those communities and only keep those with a significant number of votes emitted and received."
   ]
  },
  {
   "cell_type": "code",
   "execution_count": null,
   "id": "29b0afe1-a32d-4fb7-92f7-aa34281dff2b",
   "metadata": {
    "tags": []
   },
   "outputs": [],
   "source": [
    "communities = [communities[0], communities[5], communities[6], communities[8], communities[9]]"
   ]
  },
  {
   "cell_type": "code",
   "execution_count": null,
   "id": "07447551-2705-43c4-82d5-c0679047b0c8",
   "metadata": {},
   "outputs": [],
   "source": [
    "pos_percentages = []\n",
    "neg_percentages = []\n",
    "neu_percentages = []\n",
    "\n",
    "#Iterate through communities and calculate percentages for each vote type\n",
    "for community in communities:\n",
    "    community_votes = wiki_df[(wiki_df['SRC'].isin(community)) & (wiki_df['TGT'].isin(community))]\n",
    "    \n",
    "    total_count = len(community_votes)\n",
    "    if total_count > 0:\n",
    "        pos_count = len(community_votes[community_votes['VOT'] == 1]) / total_count * 100\n",
    "        neg_count = len(community_votes[community_votes['VOT'] == -1]) / total_count * 100\n",
    "        neu_count = len(community_votes[community_votes['VOT'] == 0]) / total_count * 100\n",
    "    else:\n",
    "        pos_count = 0\n",
    "        neg_count = 0\n",
    "        neu_count = 0\n",
    "    \n",
    "    #Append percentages for each vote type to respective lists\n",
    "    pos_percentages.append(pos_count)\n",
    "    neg_percentages.append(neg_count)\n",
    "    neu_percentages.append(neu_count)\n",
    "    \n",
    "total_pos_percentage = len(wiki_df[wiki_df['VOT'] == 1]) / len(wiki_df) * 100\n",
    "total_neg_percentage = len(wiki_df[wiki_df['VOT'] == -1]) / len(wiki_df) * 100\n",
    "total_neu_percentage = len(wiki_df[wiki_df['VOT'] == 0]) / len(wiki_df) * 100\n",
    "    \n",
    "pos_percentages.append(total_pos_percentage)\n",
    "neg_percentages.append(total_neg_percentage)\n",
    "neu_percentages.append(total_neu_percentage)\n",
    "\n",
    "#Create labels for the bar plot\n",
    "labels = [f'Community {i+1}' for i in range(len(communities))]\n",
    "labels.append('Total Votes')\n",
    "\n",
    "#Create stacked bar plots for each community\n",
    "plt.figure(figsize=(14, 8))\n",
    "\n",
    "bar_width = 0.35\n",
    "index = range(len(communities) + 1)\n",
    "\n",
    "# Plotting stacked bars for each sentiment\n",
    "plt.bar(index, pos_percentages, bar_width, label='Positive', color='green')\n",
    "plt.bar(index, neu_percentages, bar_width, label='Neutral', color='blue', bottom=pos_percentages)\n",
    "plt.bar(index, neg_percentages, bar_width, label='Negative', color='red', bottom=[pos + neu for pos, neu in zip(pos_percentages, neu_percentages)])\n",
    "\n",
    "# Set x-axis ticks and labels\n",
    "plt.xlabel('Community')\n",
    "plt.ylim(0, 105)\n",
    "plt.ylabel('Percentage')\n",
    "plt.title('Vote Distribution for Each Community')\n",
    "plt.xticks(index, [f'Community {i+1}' for i in range(len(communities))] + ['Total Votes'])\n",
    "plt.legend()\n",
    "plt.tight_layout()\n",
    "plt.show()"
   ]
  },
  {
   "cell_type": "code",
   "execution_count": null,
   "id": "859c7059-b270-470a-b3f0-3bb8a5639bb8",
   "metadata": {
    "tags": []
   },
   "outputs": [],
   "source": [
    "votes_received = []\n",
    "votes_emitted = []\n",
    "\n",
    "#Loop through each community\n",
    "for community in communities:\n",
    "    #Extract data for votes received and emitted by the community\n",
    "    received_data = wiki_df[wiki_df['TGT'].isin(community)]\n",
    "    emitted_data = wiki_df[wiki_df['SRC'].isin(community)]\n",
    "    \n",
    "    #Calculate the total number of votes received and emitted\n",
    "    total_received = len(received_data)\n",
    "    total_emitted = len(emitted_data)\n",
    "    \n",
    "    votes_received.append(total_received)\n",
    "    votes_emitted.append(total_emitted)\n",
    "\n",
    "#Create a bar plot for votes received and emitted for each community\n",
    "plt.figure(figsize=(14, 6))\n",
    "community_labels = [f'Community {i+1}' for i in range(len(communities))]\n",
    "\n",
    "bar_width = 0.35\n",
    "index = range(len(communities))\n",
    "\n",
    "plt.bar(index, votes_received, bar_width, label='Votes Received')\n",
    "plt.bar([i + bar_width for i in index], votes_emitted, bar_width, label='Votes Emitted')\n",
    "\n",
    "plt.xlabel('Community')\n",
    "plt.ylabel('Number of Votes')\n",
    "plt.title('Total Votes Received and Emitted per Community')\n",
    "plt.xticks([i + bar_width / 2 for i in index], community_labels)\n",
    "plt.legend()\n",
    "\n",
    "plt.tight_layout()\n",
    "plt.show()"
   ]
  },
  {
   "cell_type": "code",
   "execution_count": null,
   "id": "cdd1d408-ee7d-4e05-874f-fd2060077ac2",
   "metadata": {
    "tags": []
   },
   "outputs": [],
   "source": [
    "positive_votes = []\n",
    "negative_votes = []\n",
    "neutral_votes = []\n",
    "total_votes_received = []\n",
    "\n",
    "#Loop through each combination of communities\n",
    "for community1 in communities:\n",
    "    pos_row = []\n",
    "    neg_row = []\n",
    "    neu_row = []\n",
    "    total_votes_row = []\n",
    "    \n",
    "    for community2 in communities:\n",
    "        #Extract data based on community1 and community2\n",
    "        src_data = wiki_df[wiki_df['SRC'].isin(community1)]\n",
    "        tgt_data = wiki_df[wiki_df['TGT'].isin(community2)]\n",
    "        filtered_data = src_data[src_data['TGT'].isin(community2)]\n",
    "        \n",
    "        total_count = len(filtered_data)\n",
    "        if total_count > 0:\n",
    "            #Calculate percentages of positive, negative, and neutral votes\n",
    "            pos_count = len(filtered_data[filtered_data['VOT'] == 1]) / total_count * 100\n",
    "            neg_count = len(filtered_data[filtered_data['VOT'] == -1]) / total_count * 100\n",
    "            neu_count = len(filtered_data[filtered_data['VOT'] == 0]) / total_count * 100\n",
    "        else:\n",
    "            pos_count = 0\n",
    "            neg_count = 0\n",
    "            neu_count = 0\n",
    "        \n",
    "        pos_row.append(pos_count)\n",
    "        neg_row.append(neg_count)\n",
    "        neu_row.append(neu_count)\n",
    "        \n",
    "        # Calculate the total number of votes received by community1 from community2\n",
    "        total_votes_row.append(total_count)\n",
    "    \n",
    "    positive_votes.append(pos_row)\n",
    "    negative_votes.append(neg_row)\n",
    "    neutral_votes.append(neu_row)\n",
    "    total_votes_received.append(total_votes_row)"
   ]
  },
  {
   "cell_type": "code",
   "execution_count": null,
   "id": "98892310-9e85-4e53-ae86-573f941e1b5e",
   "metadata": {
    "tags": []
   },
   "outputs": [],
   "source": [
    "agreement = []\n",
    "\n",
    "#Loop through each combination of communities\n",
    "for community1 in communities:\n",
    "    agreement_row = []\n",
    "    \n",
    "    for community2 in communities:\n",
    "        \n",
    "        community1_agreement = filtered_agreement_df['USR1'].isin(community1) | filtered_agreement_df['USR2'].isin(community1)\n",
    "        community2_agreement = filtered_agreement_df['USR1'].isin(community2) | filtered_agreement_df['USR2'].isin(community2)\n",
    "        \n",
    "        communities_agreement = filtered_agreement_df[community1_agreement & community2_agreement]\n",
    "        \n",
    "        agreement_row.append(np.mean(communities_agreement['Agreement Ratio']))\n",
    "    \n",
    "    \n",
    "    agreement.append(agreement_row)"
   ]
  },
  {
   "cell_type": "markdown",
   "id": "dfff308a-98a3-4f75-bd04-8cd980089565",
   "metadata": {},
   "source": [
    "We plot heatmaps showing the distribution of positive, negative and neutral votes emitted from one community to another"
   ]
  },
  {
   "cell_type": "code",
   "execution_count": null,
   "id": "342c03de-1418-4ffc-8d20-9881302b2968",
   "metadata": {
    "tags": []
   },
   "outputs": [],
   "source": [
    "fig, axes = plt.subplots(2, 2, figsize=(16, 12))\n",
    "\n",
    "# Plotting the heatmaps\n",
    "sns.heatmap(positive_votes, annot=True, cmap='Greens', fmt='.2f', ax=axes[0, 0])\n",
    "axes[0, 0].set_title('Percentage of Positive Votes')\n",
    "axes[0, 0].set_xlabel('Community 2')\n",
    "axes[0, 0].set_ylabel('Community 1')\n",
    "\n",
    "sns.heatmap(negative_votes, annot=True, cmap='Reds', fmt='.2f', ax=axes[0, 1])\n",
    "axes[0, 1].set_title('Percentage of Negative Votes')\n",
    "axes[0, 1].set_xlabel('Community 2')\n",
    "axes[0, 1].set_ylabel('Community 1')\n",
    "\n",
    "sns.heatmap(neutral_votes, annot=True, cmap='YlGnBu', fmt='.2f', ax=axes[1, 0])\n",
    "axes[1, 0].set_title('Percentage of Neutral Votes')\n",
    "axes[1, 0].set_xlabel('Community 2')\n",
    "axes[1, 0].set_ylabel('Community 1')\n",
    "\n",
    "sns.heatmap(total_votes_received, annot=True, cmap='YlGnBu', fmt='.2f', ax=axes[1, 1])\n",
    "axes[1, 1].set_title('Number of Votes Received')\n",
    "axes[1, 1].set_xlabel('Community 2')\n",
    "axes[1, 1].set_ylabel('Community 1')\n",
    "\n",
    "plt.tight_layout()\n",
    "plt.show()"
   ]
  },
  {
   "cell_type": "markdown",
   "id": "e09213d5-2d74-4d9f-b667-b756fa559035",
   "metadata": {},
   "source": [
    "We notice a higher than average (>72.8%) percentage of positive votes in the diagonal, suggesting members of a community are more likely to positively vote for another member of the same community. We notice a higher percentage of positive votes between the community 0 and the community 1. We also notice a lower than average percentage of positive votes emitted from community 3 and 4 to community 0 and a high percentage of negative votes emitted between these communities.\n",
    "\n",
    "We now plot the agreement between communities."
   ]
  },
  {
   "cell_type": "code",
   "execution_count": null,
   "id": "1984d535-b571-42a4-ae52-17c3f44a5c4c",
   "metadata": {
    "tags": []
   },
   "outputs": [],
   "source": [
    "plt.figure(figsize=(12, 8))\n",
    "sns.heatmap(agreement, annot=True, cmap='Greens', fmt='.2f')\n",
    "plt.title('Number of votes received')\n",
    "plt.xlabel('Community 2')\n",
    "plt.ylabel('Community 1')"
   ]
  },
  {
   "cell_type": "markdown",
   "id": "70485976-5710-42b0-84e2-4405f4b62b30",
   "metadata": {
    "tags": []
   },
   "source": [
    "We notice a very low agreement between community 3 and 4."
   ]
  },
  {
   "cell_type": "markdown",
   "id": "a8a5c6e4-6186-4481-b218-16b68e5c262e",
   "metadata": {
    "tags": []
   },
   "source": [
    "### Similarity Graph <a class=\"anchor\" id=\"similarity-graph\"></a>"
   ]
  },
  {
   "cell_type": "markdown",
   "id": "cf06b084-921f-412b-8495-c793a83152d7",
   "metadata": {},
   "source": [
    "We extract data corresponding to edits of discussion pages attached to each Wikipedia article) (https://snap.stanford.edu/data/wiki-meta.html) and group for each users the categories of articles they edited."
   ]
  },
  {
   "cell_type": "code",
   "execution_count": null,
   "id": "0fb97a95-1e1b-4247-abfe-90865fd863d4",
   "metadata": {
    "tags": []
   },
   "outputs": [],
   "source": [
    "import ast\n",
    "###Data in stored as a text in .csv file, we need to cast it to a set\n",
    "def set_converter(string):\n",
    "    try:\n",
    "        return ast.literal_eval(string) if isinstance(string, str) else set()\n",
    "    except (ValueError, SyntaxError):\n",
    "        return set()\n",
    "\n",
    "talks_df = pd.read_csv(TALKS_DF, converters={'Categories': set_converter})"
   ]
  },
  {
   "cell_type": "code",
   "execution_count": null,
   "id": "6e47af80-4710-4fe6-b548-6fcd9870f118",
   "metadata": {
    "tags": []
   },
   "outputs": [],
   "source": [
    "talks_df['Article'] = talks_df['Article'].str.replace('Talk:', '')\n",
    "talks_df_no_minor = talks_df[talks_df['Minor'] == 0]"
   ]
  },
  {
   "cell_type": "code",
   "execution_count": null,
   "id": "5815e41d-acfd-45cf-b6d3-d77baa6c0be9",
   "metadata": {
    "tags": []
   },
   "outputs": [],
   "source": [
    "talks_df"
   ]
  },
  {
   "cell_type": "code",
   "execution_count": null,
   "id": "e933ae1b-ca22-486b-870b-2e8199d6285b",
   "metadata": {
    "tags": []
   },
   "outputs": [],
   "source": [
    "grouped_talks = talks_df.groupby(['User']).agg({\n",
    "    'Article': lambda x: set(x),\n",
    "    'Categories': lambda x: set.union(*x)\n",
    "}).reset_index()\n",
    "\n",
    "grouped_talks_no_minor = talks_df_no_minor.groupby(['User']).agg({\n",
    "    'Article': lambda x: set(x),\n",
    "    'Categories': lambda x: set.union(*x)\n",
    "}).reset_index()"
   ]
  },
  {
   "cell_type": "code",
   "execution_count": null,
   "id": "7a184917-1eb9-4279-a4d5-2dcb43702d01",
   "metadata": {
    "tags": []
   },
   "outputs": [],
   "source": [
    "grouped_talks"
   ]
  },
  {
   "cell_type": "markdown",
   "id": "41b3bf85-960c-40b9-b98a-155a70fcb50e",
   "metadata": {},
   "source": [
    "We only look at non minor edits as they are more informative than minor edits that could only consist of a small modification (such as correcting a small error).\n",
    "\n",
    "We also only consider users who have casted at least 20 votes as this would give the most robust conclusions."
   ]
  },
  {
   "cell_type": "code",
   "execution_count": null,
   "id": "362e4bc0-4ac5-4d45-891b-6afcb1abfcd6",
   "metadata": {
    "tags": []
   },
   "outputs": [],
   "source": [
    "more_than_20_votes_users = set(voters_df[voters_df['Votes Count'] > 20]['USER'])\n",
    "grouped_talks_no_minor = grouped_talks_no_minor[grouped_talks_no_minor['User'].isin(more_than_20_votes_users)]"
   ]
  },
  {
   "cell_type": "code",
   "execution_count": null,
   "id": "e260fb80-f4b0-4db8-b35d-00c0931330fa",
   "metadata": {
    "tags": []
   },
   "outputs": [],
   "source": [
    "grouped_talks_no_minor"
   ]
  },
  {
   "cell_type": "markdown",
   "id": "7f14fd62-f162-4e75-bb13-d39083ad84c1",
   "metadata": {},
   "source": [
    "We compute the Jaccard similarity between each pair of users' categories and articles."
   ]
  },
  {
   "cell_type": "code",
   "execution_count": null,
   "id": "208313b8-e4a4-4209-a9d2-42c535a06b8d",
   "metadata": {
    "tags": []
   },
   "outputs": [],
   "source": [
    "from tqdm import tqdm\n",
    "\n",
    "user_pairs = []\n",
    "articles_similarities = []\n",
    "categories_similarities = []\n",
    "articles_intersections = []\n",
    "categories_intersections = []\n",
    "\n",
    "\n",
    "def calculate_jaccard_similarity(set1, set2):\n",
    "    intersection = len(set1.intersection(set2))\n",
    "    union = len(set1.union(set2))\n",
    "    return intersection / union if union > 0 else 0\n",
    "\n",
    "\n",
    "for user1, user2 in tqdm(combinations(grouped_talks_no_minor['User'], 2), total=len(list(combinations(grouped_talks_no_minor['User'], 2)))):\n",
    "    user1_entry = grouped_talks_no_minor[grouped_talks_no_minor['User'] == user1]\n",
    "    user2_entry = grouped_talks_no_minor[grouped_talks_no_minor['User'] == user2]\n",
    "    \n",
    "    articles_user1 = user1_entry['Article'].iloc[0]\n",
    "    articles_user2 = user2_entry['Article'].iloc[0]\n",
    "        \n",
    "    categories_user1 = user1_entry['Categories'].iloc[0]\n",
    "    categories_user2 = user2_entry['Categories'].iloc[0]\n",
    "        \n",
    "    articles_similarity = calculate_jaccard_similarity(articles_user1, articles_user2)\n",
    "    categories_similarity = calculate_jaccard_similarity(categories_user1, categories_user2)\n",
    "    articles_intersection = len(articles_user1.intersection(articles_user2))\n",
    "    categories_intersection = len(categories_user1.intersection(categories_user2))\n",
    "    \n",
    "        \n",
    "    articles_intersections.append(articles_intersection)\n",
    "    categories_intersections.append(categories_intersection)\n",
    "    user_pairs.append((user1, user2))\n",
    "    articles_similarities.append(articles_similarity)\n",
    "    categories_similarities.append(categories_similarity)\n",
    "        \n",
    "# Create a DataFrame for Jaccard similarities\n",
    "df_jaccard_similarity = pd.DataFrame({\n",
    "    'User1': [pair[0] for pair in user_pairs],\n",
    "    'User2': [pair[1] for pair in user_pairs],\n",
    "    'Article Similarity': articles_similarities,\n",
    "    'Categories Similarity': categories_similarities,\n",
    "    'Categories Intersection': categories_intersections,\n",
    "    'Articles Intersection': articles_intersections\n",
    "})"
   ]
  },
  {
   "cell_type": "code",
   "execution_count": null,
   "id": "df414323-8c32-461b-bf79-9b4e78fe1c47",
   "metadata": {
    "tags": []
   },
   "outputs": [],
   "source": [
    "df_jaccard_similarity"
   ]
  },
  {
   "cell_type": "markdown",
   "id": "0d47bbd1-e372-49fc-a4b4-df3cc27312dc",
   "metadata": {},
   "source": [
    "We first create a graph where edges between users are weighted by the number of common articles they have."
   ]
  },
  {
   "cell_type": "code",
   "execution_count": null,
   "id": "017c01d9-6abc-4fa9-b511-6c6c1c5a5708",
   "metadata": {
    "tags": []
   },
   "outputs": [],
   "source": [
    "similarity_graph = nx.from_pandas_edgelist(df_jaccard_similarity[df_jaccard_similarity['Articles Intersection'] > 10], 'User1', 'User2', edge_attr='Articles Intersection', create_using= nx.Graph())"
   ]
  },
  {
   "cell_type": "code",
   "execution_count": null,
   "id": "e8cba3b5-6fca-4a9f-b4cb-1d473d8f82cd",
   "metadata": {
    "tags": []
   },
   "outputs": [],
   "source": [
    "print('Number of nodes:', similarity_graph.number_of_nodes())\n",
    "print('Number of edges:', similarity_graph.number_of_edges())\n",
    "print('Graph density:', nx.density(similarity_graph))"
   ]
  },
  {
   "cell_type": "code",
   "execution_count": null,
   "id": "b533f98e-5382-4df4-9461-18af67e826dc",
   "metadata": {
    "tags": []
   },
   "outputs": [],
   "source": [
    "degrees = [similarity_graph.degree(node) for node in similarity_graph.nodes()]\n",
    "\n",
    "#Plot the degree distribution\n",
    "plt.hist(degrees, bins=40, alpha=0.7, color='darkblue', edgecolor='black')\n",
    "plt.title('Degree Distribution of Similarity Graph')\n",
    "plt.xlabel('Degree')\n",
    "plt.ylabel('Frequency')\n",
    "plt.grid(True)\n",
    "plt.show()"
   ]
  },
  {
   "cell_type": "code",
   "execution_count": null,
   "id": "10c99d38-b0bf-424e-a998-442ca8f76988",
   "metadata": {
    "tags": []
   },
   "outputs": [],
   "source": [
    "communities = nx.community.louvain_communities(similarity_graph)"
   ]
  },
  {
   "cell_type": "code",
   "execution_count": null,
   "id": "6974d322-2510-4eef-931d-1a6f48a58889",
   "metadata": {
    "tags": []
   },
   "outputs": [],
   "source": [
    "len(communities)"
   ]
  },
  {
   "cell_type": "code",
   "execution_count": null,
   "id": "c86d99a9-414a-4936-9915-fe64e61a068d",
   "metadata": {
    "tags": []
   },
   "outputs": [],
   "source": [
    "from collections import Counter\n",
    "\n",
    "community_category_counts = {}\n",
    "\n",
    "for idx, community in enumerate(communities):\n",
    "    community_category_counts[idx] = Counter()\n",
    "    for user in community:\n",
    "        user_categories = grouped_talks_no_minor[grouped_talks_no_minor['User'] == user]['Article'].iloc[0]\n",
    "        community_category_counts[idx] += Counter(user_categories)\n",
    "\n",
    "    #Print top 10 categories for this community\n",
    "    print(f\"Community {idx + 1}:\")\n",
    "    top_categories = community_category_counts[idx].most_common(15)\n",
    "    for category, count in top_categories:\n",
    "        print(f\"Category: {category}, Count: {count}\")\n",
    "    print()"
   ]
  },
  {
   "cell_type": "markdown",
   "id": "59722acb-975d-4637-a2a7-a47a7f986dec",
   "metadata": {},
   "source": [
    "We can see that there are themes we can associate to each community. <br>\n",
    "Community 1: Music <br>\n",
    "Community 2: World History <br>\n",
    "Community 3: American History <br>\n",
    "Community 4: India <br>\n",
    "Community 5: Religion / Conspiracionism <br>\n",
    "Community 6: Judaism <br>\n",
    "Community 7: Sport <br>\n",
    "Community 8: Pop Culture / Video Games <br>\n",
    "Community 9: American Hurricanes / Disasters <br>\n",
    "Community 10: Poker <br>"
   ]
  },
  {
   "cell_type": "markdown",
   "id": "eede1ed3-46d7-494f-b8f8-2373752f13d4",
   "metadata": {},
   "source": [
    "Let's analyze voting patterns and agreement between each community, similar to what we did before."
   ]
  },
  {
   "cell_type": "code",
   "execution_count": null,
   "id": "2b66a839-d43f-4257-adf6-691d960f9bb0",
   "metadata": {
    "tags": []
   },
   "outputs": [],
   "source": [
    "votes_received = []\n",
    "votes_emitted = []\n",
    "\n",
    "#Loop through each community\n",
    "for community in communities:\n",
    "    #Extract data for votes received and emitted by the community\n",
    "    received_data = wiki_df[wiki_df['TGT'].isin(community)]\n",
    "    emitted_data = wiki_df[wiki_df['SRC'].isin(community)]\n",
    "    \n",
    "    #Calculate the total number of votes received and emitted\n",
    "    total_received = len(received_data)\n",
    "    total_emitted = len(emitted_data)\n",
    "    \n",
    "    votes_received.append(total_received)\n",
    "    votes_emitted.append(total_emitted)\n",
    "\n",
    "#Create a bar plot for votes received and emitted for each community\n",
    "plt.figure(figsize=(14, 6))\n",
    "community_labels = [f'Community {i+1}' for i in range(len(communities))]\n",
    "\n",
    "bar_width = 0.35\n",
    "index = range(len(communities))\n",
    "\n",
    "plt.bar(index, votes_received, bar_width, label='Votes Received')\n",
    "plt.bar([i + bar_width for i in index], votes_emitted, bar_width, label='Votes Emitted')\n",
    "\n",
    "plt.xlabel('Community')\n",
    "plt.ylabel('Number of Votes')\n",
    "plt.title('Total Votes Received and Emitted per Community')\n",
    "plt.xticks([i + bar_width / 2 for i in index], community_labels)\n",
    "plt.legend()\n",
    "\n",
    "plt.tight_layout()\n",
    "plt.show()"
   ]
  },
  {
   "cell_type": "code",
   "execution_count": null,
   "id": "aeabd3d9-3bbb-4eb4-be38-d5ed8c472580",
   "metadata": {
    "tags": []
   },
   "outputs": [],
   "source": [
    "pos_percentages = []\n",
    "neg_percentages = []\n",
    "neu_percentages = []\n",
    "\n",
    "#Iterate through communities and calculate percentages for each vote type\n",
    "for community in communities:\n",
    "    community_votes = wiki_df[(wiki_df['SRC'].isin(community)) & (wiki_df['TGT'].isin(community))]\n",
    "    \n",
    "    total_count = len(community_votes)\n",
    "    if total_count > 0:\n",
    "        pos_count = len(community_votes[community_votes['VOT'] == 1]) / total_count * 100\n",
    "        neg_count = len(community_votes[community_votes['VOT'] == -1]) / total_count * 100\n",
    "        neu_count = len(community_votes[community_votes['VOT'] == 0]) / total_count * 100\n",
    "    else:\n",
    "        pos_count = 0\n",
    "        neg_count = 0\n",
    "        neu_count = 0\n",
    "    \n",
    "    #Append percentages for each vote type to respective lists\n",
    "    pos_percentages.append(pos_count)\n",
    "    neg_percentages.append(neg_count)\n",
    "    neu_percentages.append(neu_count)\n",
    "    \n",
    "total_pos_percentage = len(wiki_df[wiki_df['VOT'] == 1]) / len(wiki_df) * 100\n",
    "total_neg_percentage = len(wiki_df[wiki_df['VOT'] == -1]) / len(wiki_df) * 100\n",
    "total_neu_percentage = len(wiki_df[wiki_df['VOT'] == 0]) / len(wiki_df) * 100\n",
    "    \n",
    "pos_percentages.append(total_pos_percentage)\n",
    "neg_percentages.append(total_neg_percentage)\n",
    "neu_percentages.append(total_neu_percentage)\n",
    "\n",
    "labels = [f'Community {i+1}' for i in range(len(communities))]\n",
    "labels.append('Total Votes')\n",
    "\n",
    "plt.figure(figsize=(14, 8))\n",
    "\n",
    "index = range(len(communities) + 1)\n",
    "\n",
    "plt.bar(index, pos_percentages, bar_width, label='Positive', color='green')\n",
    "plt.bar(index, neu_percentages, bar_width, label='Neutral', color='blue', bottom=pos_percentages)\n",
    "plt.bar(index, neg_percentages, bar_width, label='Negative', color='red', bottom=[pos + neu for pos, neu in zip(pos_percentages, neu_percentages)])\n",
    "\n",
    "plt.xlabel('Community')\n",
    "plt.ylim(0, 105)\n",
    "plt.ylabel('Percentage')\n",
    "plt.title('Vote Distribution for Each Community')\n",
    "plt.xticks(index, [f'Community {i+1}' for i in range(len(communities))] + ['Total Votes'])\n",
    "plt.legend()\n",
    "plt.tight_layout()\n",
    "\n",
    "# Show plot\n",
    "plt.show()"
   ]
  },
  {
   "cell_type": "markdown",
   "id": "731f6f13-03f4-4b47-a9f6-605deaed0221",
   "metadata": {},
   "source": [
    "We notice that within a community, there are higher positive votes than average. Howerver, this should be taken with a grain of salt as the number of candidates, and therefore the number of votes received by a candidate from other members of its community, vary from one community to the other."
   ]
  },
  {
   "cell_type": "markdown",
   "id": "295026d6-0166-4a85-aa62-5f4508ddd36a",
   "metadata": {
    "tags": []
   },
   "source": [
    "### Conclusion"
   ]
  },
  {
   "cell_type": "markdown",
   "id": "fce2101d-5810-4913-8e56-852f6b06addb",
   "metadata": {},
   "source": [
    "Our graph analysis shows that voter behavior toward a candidate is influenced by more than just their work or achievements. Affinity plays a crucial role in shaping these voting patterns. When a candidate aligns closely with a voter's voting behavior, it significantly increases the likelihood of receiving a positive vote from that individual, and conversely, dissimilarity often leads to negative votes.\n",
    "\n",
    "Moreover, our analysis highlights the existence of distinct user communities. These communities tend to engage more with specific content types, either for personal interests or expertise in certain domains like sports, politics, or video games. Within these communities, there's a heightened tendency for individuals to support one another by casting positive votes, creating an environment where mutual affinity strongly influences voting tendencies."
   ]
  }
 ],
 "metadata": {
  "kernelspec": {
   "display_name": "Python 3 (ipykernel)",
   "language": "python",
   "name": "python3"
  },
  "language_info": {
   "codemirror_mode": {
    "name": "ipython",
    "version": 3
   },
   "file_extension": ".py",
   "mimetype": "text/x-python",
   "name": "python",
   "nbconvert_exporter": "python",
   "pygments_lexer": "ipython3",
   "version": "3.11.5"
  }
 },
 "nbformat": 4,
 "nbformat_minor": 5
}
