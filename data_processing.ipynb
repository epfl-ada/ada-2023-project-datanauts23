{
 "cells": [
  {
   "cell_type": "markdown",
   "id": "e8aa5d91-cf53-4a18-a80f-c77271375f95",
   "metadata": {},
   "source": [
    "### Imports"
   ]
  },
  {
   "cell_type": "code",
   "execution_count": 83,
   "id": "ff61dde9-8d59-4db8-b2fa-cc4f522f87de",
   "metadata": {
    "tags": []
   },
   "outputs": [],
   "source": [
    "import importlib\n",
    "import numpy as np\n",
    "import seaborn as sns\n",
    "import pandas as pd\n",
    "import matplotlib.pyplot as plt\n",
    "import modules.data_processing"
   ]
  },
  {
   "cell_type": "code",
   "execution_count": 81,
   "id": "1dca74ea-9d48-4c41-904e-da71a3a8ff4d",
   "metadata": {
    "tags": []
   },
   "outputs": [],
   "source": [
    "importlib.reload(modules.data_processing)\n",
    "from modules.data_processing import *"
   ]
  },
  {
   "cell_type": "code",
   "execution_count": 82,
   "id": "380dd7e7-ef42-4508-92a2-0a8d4d4d7658",
   "metadata": {
    "tags": []
   },
   "outputs": [],
   "source": [
    "DATA_PATH = './data/wiki-RfA.txt'"
   ]
  },
  {
   "cell_type": "markdown",
   "id": "abb10b62-16df-4a64-a21c-a88aaa0d4e3f",
   "metadata": {
    "jp-MarkdownHeadingCollapsed": true,
    "tags": []
   },
   "source": [
    "### Extracting Dataset"
   ]
  },
  {
   "cell_type": "code",
   "execution_count": 4,
   "id": "f99a4cd1-58c6-4074-b9cf-a878194e4274",
   "metadata": {
    "tags": []
   },
   "outputs": [],
   "source": [
    "wiki_df = extract_data(DATA_PATH)"
   ]
  },
  {
   "cell_type": "code",
   "execution_count": 5,
   "id": "e957dc57-c79d-4b1b-871f-2969a9e98db2",
   "metadata": {
    "tags": []
   },
   "outputs": [
    {
     "data": {
      "text/html": [
       "<div>\n",
       "<style scoped>\n",
       "    .dataframe tbody tr th:only-of-type {\n",
       "        vertical-align: middle;\n",
       "    }\n",
       "\n",
       "    .dataframe tbody tr th {\n",
       "        vertical-align: top;\n",
       "    }\n",
       "\n",
       "    .dataframe thead th {\n",
       "        text-align: right;\n",
       "    }\n",
       "</style>\n",
       "<table border=\"1\" class=\"dataframe\">\n",
       "  <thead>\n",
       "    <tr style=\"text-align: right;\">\n",
       "      <th></th>\n",
       "      <th>SRC</th>\n",
       "      <th>TGT</th>\n",
       "      <th>VOT</th>\n",
       "      <th>RES</th>\n",
       "      <th>YEA</th>\n",
       "      <th>DAT</th>\n",
       "      <th>TXT</th>\n",
       "    </tr>\n",
       "  </thead>\n",
       "  <tbody>\n",
       "    <tr>\n",
       "      <th>0</th>\n",
       "      <td>Steel1943</td>\n",
       "      <td>BDD</td>\n",
       "      <td>1</td>\n",
       "      <td>1</td>\n",
       "      <td>2013</td>\n",
       "      <td>23:13, 19 April 2013</td>\n",
       "      <td>'''Support''' as co-nom.</td>\n",
       "    </tr>\n",
       "    <tr>\n",
       "      <th>1</th>\n",
       "      <td>Cuchullain</td>\n",
       "      <td>BDD</td>\n",
       "      <td>1</td>\n",
       "      <td>1</td>\n",
       "      <td>2013</td>\n",
       "      <td>01:04, 20 April 2013</td>\n",
       "      <td>'''Support''' as nominator.--</td>\n",
       "    </tr>\n",
       "    <tr>\n",
       "      <th>2</th>\n",
       "      <td>INeverCry</td>\n",
       "      <td>BDD</td>\n",
       "      <td>1</td>\n",
       "      <td>1</td>\n",
       "      <td>2013</td>\n",
       "      <td>23:43, 19 April 2013</td>\n",
       "      <td>'''Support''' per noms.</td>\n",
       "    </tr>\n",
       "    <tr>\n",
       "      <th>3</th>\n",
       "      <td>Cncmaster</td>\n",
       "      <td>BDD</td>\n",
       "      <td>1</td>\n",
       "      <td>1</td>\n",
       "      <td>2013</td>\n",
       "      <td>00:11, 20 April 2013</td>\n",
       "      <td>'''Support''' per noms. BDD is a strong contri...</td>\n",
       "    </tr>\n",
       "    <tr>\n",
       "      <th>4</th>\n",
       "      <td>Miniapolis</td>\n",
       "      <td>BDD</td>\n",
       "      <td>1</td>\n",
       "      <td>1</td>\n",
       "      <td>2013</td>\n",
       "      <td>00:56, 20 April 2013</td>\n",
       "      <td>'''Support''', with great pleasure. I work wit...</td>\n",
       "    </tr>\n",
       "  </tbody>\n",
       "</table>\n",
       "</div>"
      ],
      "text/plain": [
       "          SRC  TGT VOT RES   YEA                   DAT  \\\n",
       "0   Steel1943  BDD   1   1  2013  23:13, 19 April 2013   \n",
       "1  Cuchullain  BDD   1   1  2013  01:04, 20 April 2013   \n",
       "2   INeverCry  BDD   1   1  2013  23:43, 19 April 2013   \n",
       "3   Cncmaster  BDD   1   1  2013  00:11, 20 April 2013   \n",
       "4  Miniapolis  BDD   1   1  2013  00:56, 20 April 2013   \n",
       "\n",
       "                                                 TXT  \n",
       "0                           '''Support''' as co-nom.  \n",
       "1                      '''Support''' as nominator.--  \n",
       "2                            '''Support''' per noms.  \n",
       "3  '''Support''' per noms. BDD is a strong contri...  \n",
       "4  '''Support''', with great pleasure. I work wit...  "
      ]
     },
     "execution_count": 5,
     "metadata": {},
     "output_type": "execute_result"
    }
   ],
   "source": [
    "wiki_df.head(5)"
   ]
  },
  {
   "cell_type": "markdown",
   "id": "37af3b65-bc9e-43cf-acc4-16851a699da3",
   "metadata": {
    "jp-MarkdownHeadingCollapsed": true,
    "tags": []
   },
   "source": [
    "### Data Pre-processing"
   ]
  },
  {
   "cell_type": "markdown",
   "id": "e1cf8cb4-a742-4157-9fda-dc0faec54aae",
   "metadata": {},
   "source": [
    "Before we start processing data, we need to look at what our parsed dataset looks like in order to use the correct types and to fix any noticebly inconsistent values."
   ]
  },
  {
   "cell_type": "code",
   "execution_count": 6,
   "id": "0cbe80cc-35a4-464b-9200-66a410b9f8ce",
   "metadata": {
    "tags": []
   },
   "outputs": [
    {
     "data": {
      "text/plain": [
       "(198275, 7)"
      ]
     },
     "execution_count": 6,
     "metadata": {},
     "output_type": "execute_result"
    }
   ],
   "source": [
    "wiki_df.shape"
   ]
  },
  {
   "cell_type": "code",
   "execution_count": 7,
   "id": "c641ab72-a4b5-47af-969a-76b4889c8167",
   "metadata": {
    "tags": []
   },
   "outputs": [
    {
     "data": {
      "text/plain": [
       "array(['SRC', 'TGT', 'VOT', 'RES', 'YEA', 'DAT', 'TXT'], dtype=object)"
      ]
     },
     "execution_count": 7,
     "metadata": {},
     "output_type": "execute_result"
    }
   ],
   "source": [
    "wiki_df.columns.values"
   ]
  },
  {
   "cell_type": "code",
   "execution_count": 8,
   "id": "49a5ad65-714e-483c-b245-4a0bdaf45a40",
   "metadata": {
    "tags": []
   },
   "outputs": [
    {
     "data": {
      "text/html": [
       "<div>\n",
       "<style scoped>\n",
       "    .dataframe tbody tr th:only-of-type {\n",
       "        vertical-align: middle;\n",
       "    }\n",
       "\n",
       "    .dataframe tbody tr th {\n",
       "        vertical-align: top;\n",
       "    }\n",
       "\n",
       "    .dataframe thead th {\n",
       "        text-align: right;\n",
       "    }\n",
       "</style>\n",
       "<table border=\"1\" class=\"dataframe\">\n",
       "  <thead>\n",
       "    <tr style=\"text-align: right;\">\n",
       "      <th></th>\n",
       "      <th>SRC</th>\n",
       "      <th>TGT</th>\n",
       "      <th>VOT</th>\n",
       "      <th>RES</th>\n",
       "      <th>YEA</th>\n",
       "      <th>DAT</th>\n",
       "      <th>TXT</th>\n",
       "    </tr>\n",
       "  </thead>\n",
       "  <tbody>\n",
       "    <tr>\n",
       "      <th>707</th>\n",
       "      <td></td>\n",
       "      <td>Jason Quinn</td>\n",
       "      <td>0</td>\n",
       "      <td>1</td>\n",
       "      <td>2013</td>\n",
       "      <td></td>\n",
       "      <td></td>\n",
       "    </tr>\n",
       "    <tr>\n",
       "      <th>708</th>\n",
       "      <td></td>\n",
       "      <td>Jason Quinn</td>\n",
       "      <td>0</td>\n",
       "      <td>1</td>\n",
       "      <td>2013</td>\n",
       "      <td></td>\n",
       "      <td></td>\n",
       "    </tr>\n",
       "    <tr>\n",
       "      <th>793</th>\n",
       "      <td></td>\n",
       "      <td>Legoktm</td>\n",
       "      <td>1</td>\n",
       "      <td>1</td>\n",
       "      <td>2013</td>\n",
       "      <td></td>\n",
       "      <td></td>\n",
       "    </tr>\n",
       "    <tr>\n",
       "      <th>1126</th>\n",
       "      <td></td>\n",
       "      <td>Mattythewhite</td>\n",
       "      <td>-1</td>\n",
       "      <td>1</td>\n",
       "      <td>2013</td>\n",
       "      <td></td>\n",
       "      <td></td>\n",
       "    </tr>\n",
       "    <tr>\n",
       "      <th>1128</th>\n",
       "      <td></td>\n",
       "      <td>Mattythewhite</td>\n",
       "      <td>-1</td>\n",
       "      <td>1</td>\n",
       "      <td>2013</td>\n",
       "      <td></td>\n",
       "      <td></td>\n",
       "    </tr>\n",
       "  </tbody>\n",
       "</table>\n",
       "</div>"
      ],
      "text/plain": [
       "     SRC            TGT VOT RES   YEA DAT TXT\n",
       "707         Jason Quinn   0   1  2013        \n",
       "708         Jason Quinn   0   1  2013        \n",
       "793             Legoktm   1   1  2013        \n",
       "1126      Mattythewhite  -1   1  2013        \n",
       "1128      Mattythewhite  -1   1  2013        "
      ]
     },
     "execution_count": 8,
     "metadata": {},
     "output_type": "execute_result"
    }
   ],
   "source": [
    "wiki_df[wiki_df['SRC'] == ''].head(5)"
   ]
  },
  {
   "cell_type": "markdown",
   "id": "4ed89cdf-eeaa-479e-86bf-2baf08767270",
   "metadata": {},
   "source": [
    "We notice there are occurences where the SRC is empty, we replace those occurences by null values."
   ]
  },
  {
   "cell_type": "code",
   "execution_count": 9,
   "id": "1c2653b3-2390-4d1c-bd17-c09659dfabd3",
   "metadata": {
    "tags": []
   },
   "outputs": [],
   "source": [
    "wiki_df['DAT'].replace('', np.nan, inplace=True)\n",
    "wiki_df['SRC'].replace('', np.nan, inplace=True)"
   ]
  },
  {
   "cell_type": "markdown",
   "id": "8c87ef95-d9f7-4240-acca-18d1a2b631fc",
   "metadata": {},
   "source": [
    "Now, let us appropriately format the data in the different columns."
   ]
  },
  {
   "cell_type": "code",
   "execution_count": 10,
   "id": "0461f26d-c812-439f-bd48-f034a2084788",
   "metadata": {
    "tags": []
   },
   "outputs": [],
   "source": [
    "wiki_df[['VOT', 'RES', 'YEA']] = wiki_df[['VOT', 'RES', 'YEA']].apply(lambda x: pd.to_numeric(x, errors='coerce'))\n",
    "# To make it easy to manipulate (summing the ones to get number of votes)\n",
    "wiki_df['RES'] = wiki_df['RES'].apply(lambda x: 1 if x == 1 else 0 )\n"
   ]
  },
  {
   "cell_type": "markdown",
   "id": "0ddb60e5-2c65-47bb-ac1e-d9a5423bcbba",
   "metadata": {},
   "source": [
    "Before formatting the date column, we need to look at which columns do not have a consistent date."
   ]
  },
  {
   "cell_type": "code",
   "execution_count": 11,
   "id": "5bc5db2a-f8b9-482f-972b-3718b93b5fd3",
   "metadata": {
    "tags": []
   },
   "outputs": [
    {
     "data": {
      "text/html": [
       "<div>\n",
       "<style scoped>\n",
       "    .dataframe tbody tr th:only-of-type {\n",
       "        vertical-align: middle;\n",
       "    }\n",
       "\n",
       "    .dataframe tbody tr th {\n",
       "        vertical-align: top;\n",
       "    }\n",
       "\n",
       "    .dataframe thead th {\n",
       "        text-align: right;\n",
       "    }\n",
       "</style>\n",
       "<table border=\"1\" class=\"dataframe\">\n",
       "  <thead>\n",
       "    <tr style=\"text-align: right;\">\n",
       "      <th></th>\n",
       "      <th>SRC</th>\n",
       "      <th>TGT</th>\n",
       "      <th>VOT</th>\n",
       "      <th>RES</th>\n",
       "      <th>YEA</th>\n",
       "      <th>DAT</th>\n",
       "      <th>TXT</th>\n",
       "    </tr>\n",
       "  </thead>\n",
       "  <tbody>\n",
       "    <tr>\n",
       "      <th>6821</th>\n",
       "      <td>JonasEncyclopedia</td>\n",
       "      <td>Zagalejo</td>\n",
       "      <td>1</td>\n",
       "      <td>1</td>\n",
       "      <td>2012</td>\n",
       "      <td>14:47, 1 Julu 2012</td>\n",
       "      <td>'''Support'''. A versatile editor and active c...</td>\n",
       "    </tr>\n",
       "    <tr>\n",
       "      <th>27608</th>\n",
       "      <td>HJ Mitchell</td>\n",
       "      <td>Alan16</td>\n",
       "      <td>0</td>\n",
       "      <td>0</td>\n",
       "      <td>2010</td>\n",
       "      <td>20:44, 3 Janry 2010</td>\n",
       "      <td>'''Neutral'''. Answers to the questions aren't...</td>\n",
       "    </tr>\n",
       "    <tr>\n",
       "      <th>70591</th>\n",
       "      <td>Pathoschild</td>\n",
       "      <td>Werdna</td>\n",
       "      <td>1</td>\n",
       "      <td>1</td>\n",
       "      <td>2008</td>\n",
       "      <td>31:29, 24 May 2008</td>\n",
       "      <td>Support because Shanel told me too. &lt;small&gt;(Gi...</td>\n",
       "    </tr>\n",
       "    <tr>\n",
       "      <th>116963</th>\n",
       "      <td>QuasyBoy</td>\n",
       "      <td>Imdanumber1</td>\n",
       "      <td>1</td>\n",
       "      <td>0</td>\n",
       "      <td>2007</td>\n",
       "      <td>17:44, 26 Mya 2007</td>\n",
       "      <td>'''Support''' You've been doing a great job wi...</td>\n",
       "    </tr>\n",
       "  </tbody>\n",
       "</table>\n",
       "</div>"
      ],
      "text/plain": [
       "                      SRC          TGT  VOT  RES   YEA                  DAT  \\\n",
       "6821    JonasEncyclopedia     Zagalejo    1    1  2012   14:47, 1 Julu 2012   \n",
       "27608         HJ Mitchell       Alan16    0    0  2010  20:44, 3 Janry 2010   \n",
       "70591         Pathoschild       Werdna    1    1  2008   31:29, 24 May 2008   \n",
       "116963           QuasyBoy  Imdanumber1    1    0  2007   17:44, 26 Mya 2007   \n",
       "\n",
       "                                                      TXT  \n",
       "6821    '''Support'''. A versatile editor and active c...  \n",
       "27608   '''Neutral'''. Answers to the questions aren't...  \n",
       "70591   Support because Shanel told me too. <small>(Gi...  \n",
       "116963  '''Support''' You've been doing a great job wi...  "
      ]
     },
     "execution_count": 11,
     "metadata": {},
     "output_type": "execute_result"
    }
   ],
   "source": [
    "inconsistent_dates = pd.to_datetime(wiki_df['DAT'], format='mixed', errors='coerce').isna() & (~wiki_df['DAT'].isna())\n",
    "\n",
    "wiki_df[inconsistent_dates]"
   ]
  },
  {
   "cell_type": "markdown",
   "id": "386b4581-9491-4f0f-8722-f7ceb197bab2",
   "metadata": {
    "tags": []
   },
   "source": [
    "We will fix these dates one by one."
   ]
  },
  {
   "cell_type": "code",
   "execution_count": 12,
   "id": "1b265db5-677a-4afd-930e-d56a497b5e31",
   "metadata": {
    "tags": []
   },
   "outputs": [],
   "source": [
    "wiki_df['DAT'] = pd.to_datetime(wiki_df['DAT'], format='mixed', errors='coerce')\n",
    "wiki_df.at[6821, 'DAT'] = pd.to_datetime('2012-07-01 14:47')\n",
    "wiki_df.at[27608, 'DAT'] = pd.to_datetime('2010-01-03 20:44')\n",
    "wiki_df.at[116963, 'DAT'] = pd.to_datetime('2007-05-26 14:47')"
   ]
  },
  {
   "cell_type": "code",
   "execution_count": 13,
   "id": "f4be7e15-bd9e-4c28-9c6e-00ce5756c7e2",
   "metadata": {
    "tags": []
   },
   "outputs": [
    {
     "data": {
      "text/html": [
       "<div>\n",
       "<style scoped>\n",
       "    .dataframe tbody tr th:only-of-type {\n",
       "        vertical-align: middle;\n",
       "    }\n",
       "\n",
       "    .dataframe tbody tr th {\n",
       "        vertical-align: top;\n",
       "    }\n",
       "\n",
       "    .dataframe thead th {\n",
       "        text-align: right;\n",
       "    }\n",
       "</style>\n",
       "<table border=\"1\" class=\"dataframe\">\n",
       "  <thead>\n",
       "    <tr style=\"text-align: right;\">\n",
       "      <th></th>\n",
       "      <th>SRC</th>\n",
       "      <th>TGT</th>\n",
       "      <th>VOT</th>\n",
       "      <th>RES</th>\n",
       "      <th>YEA</th>\n",
       "      <th>DAT</th>\n",
       "      <th>TXT</th>\n",
       "    </tr>\n",
       "  </thead>\n",
       "  <tbody>\n",
       "    <tr>\n",
       "      <th>6821</th>\n",
       "      <td>JonasEncyclopedia</td>\n",
       "      <td>Zagalejo</td>\n",
       "      <td>1</td>\n",
       "      <td>1</td>\n",
       "      <td>2012</td>\n",
       "      <td>2012-07-01 14:47:00</td>\n",
       "      <td>'''Support'''. A versatile editor and active c...</td>\n",
       "    </tr>\n",
       "    <tr>\n",
       "      <th>27608</th>\n",
       "      <td>HJ Mitchell</td>\n",
       "      <td>Alan16</td>\n",
       "      <td>0</td>\n",
       "      <td>0</td>\n",
       "      <td>2010</td>\n",
       "      <td>2010-01-03 20:44:00</td>\n",
       "      <td>'''Neutral'''. Answers to the questions aren't...</td>\n",
       "    </tr>\n",
       "    <tr>\n",
       "      <th>70591</th>\n",
       "      <td>Pathoschild</td>\n",
       "      <td>Werdna</td>\n",
       "      <td>1</td>\n",
       "      <td>1</td>\n",
       "      <td>2008</td>\n",
       "      <td>NaT</td>\n",
       "      <td>Support because Shanel told me too. &lt;small&gt;(Gi...</td>\n",
       "    </tr>\n",
       "    <tr>\n",
       "      <th>116963</th>\n",
       "      <td>QuasyBoy</td>\n",
       "      <td>Imdanumber1</td>\n",
       "      <td>1</td>\n",
       "      <td>0</td>\n",
       "      <td>2007</td>\n",
       "      <td>2007-05-26 14:47:00</td>\n",
       "      <td>'''Support''' You've been doing a great job wi...</td>\n",
       "    </tr>\n",
       "  </tbody>\n",
       "</table>\n",
       "</div>"
      ],
      "text/plain": [
       "                      SRC          TGT  VOT  RES   YEA                 DAT  \\\n",
       "6821    JonasEncyclopedia     Zagalejo    1    1  2012 2012-07-01 14:47:00   \n",
       "27608         HJ Mitchell       Alan16    0    0  2010 2010-01-03 20:44:00   \n",
       "70591         Pathoschild       Werdna    1    1  2008                 NaT   \n",
       "116963           QuasyBoy  Imdanumber1    1    0  2007 2007-05-26 14:47:00   \n",
       "\n",
       "                                                      TXT  \n",
       "6821    '''Support'''. A versatile editor and active c...  \n",
       "27608   '''Neutral'''. Answers to the questions aren't...  \n",
       "70591   Support because Shanel told me too. <small>(Gi...  \n",
       "116963  '''Support''' You've been doing a great job wi...  "
      ]
     },
     "execution_count": 13,
     "metadata": {},
     "output_type": "execute_result"
    }
   ],
   "source": [
    "wiki_df[inconsistent_dates]"
   ]
  },
  {
   "cell_type": "markdown",
   "id": "3436ff7f-e32c-49d2-9107-b1790d7a39a6",
   "metadata": {},
   "source": [
    "The only remaining issue is with the row n° 70591, the date shows \"31:29\" which is an invalid hour, in order to fix this issue, we need to look at neighboring votes, as they're sorted mainly chronologically, to infer the correct value."
   ]
  },
  {
   "cell_type": "code",
   "execution_count": 14,
   "id": "0f24e0d1-2368-4863-8e41-4a7aaa89b6bf",
   "metadata": {
    "tags": []
   },
   "outputs": [
    {
     "data": {
      "text/html": [
       "<div>\n",
       "<style scoped>\n",
       "    .dataframe tbody tr th:only-of-type {\n",
       "        vertical-align: middle;\n",
       "    }\n",
       "\n",
       "    .dataframe tbody tr th {\n",
       "        vertical-align: top;\n",
       "    }\n",
       "\n",
       "    .dataframe thead th {\n",
       "        text-align: right;\n",
       "    }\n",
       "</style>\n",
       "<table border=\"1\" class=\"dataframe\">\n",
       "  <thead>\n",
       "    <tr style=\"text-align: right;\">\n",
       "      <th></th>\n",
       "      <th>SRC</th>\n",
       "      <th>TGT</th>\n",
       "      <th>VOT</th>\n",
       "      <th>RES</th>\n",
       "      <th>YEA</th>\n",
       "      <th>DAT</th>\n",
       "      <th>TXT</th>\n",
       "    </tr>\n",
       "  </thead>\n",
       "  <tbody>\n",
       "    <tr>\n",
       "      <th>70589</th>\n",
       "      <td>Bhadani</td>\n",
       "      <td>Werdna</td>\n",
       "      <td>1</td>\n",
       "      <td>1</td>\n",
       "      <td>2008</td>\n",
       "      <td>2008-05-24 03:13:00</td>\n",
       "      <td>'''Support''': --</td>\n",
       "    </tr>\n",
       "    <tr>\n",
       "      <th>70590</th>\n",
       "      <td>Shanel</td>\n",
       "      <td>Werdna</td>\n",
       "      <td>1</td>\n",
       "      <td>1</td>\n",
       "      <td>2008</td>\n",
       "      <td>2008-05-24 03:18:00</td>\n",
       "      <td>'''Support'''. I have known Werdna for about 1...</td>\n",
       "    </tr>\n",
       "    <tr>\n",
       "      <th>70591</th>\n",
       "      <td>Pathoschild</td>\n",
       "      <td>Werdna</td>\n",
       "      <td>1</td>\n",
       "      <td>1</td>\n",
       "      <td>2008</td>\n",
       "      <td>NaT</td>\n",
       "      <td>Support because Shanel told me too. &lt;small&gt;(Gi...</td>\n",
       "    </tr>\n",
       "    <tr>\n",
       "      <th>70592</th>\n",
       "      <td>Swatjester</td>\n",
       "      <td>Werdna</td>\n",
       "      <td>1</td>\n",
       "      <td>1</td>\n",
       "      <td>2008</td>\n",
       "      <td>2008-05-24 03:37:00</td>\n",
       "      <td>'''Support''' per lolcat.</td>\n",
       "    </tr>\n",
       "    <tr>\n",
       "      <th>70593</th>\n",
       "      <td>KnowledgeOfSelf</td>\n",
       "      <td>Werdna</td>\n",
       "      <td>1</td>\n",
       "      <td>1</td>\n",
       "      <td>2008</td>\n",
       "      <td>2008-05-24 04:37:00</td>\n",
       "      <td>'''Support''' Yes please.</td>\n",
       "    </tr>\n",
       "  </tbody>\n",
       "</table>\n",
       "</div>"
      ],
      "text/plain": [
       "                   SRC     TGT  VOT  RES   YEA                 DAT  \\\n",
       "70589          Bhadani  Werdna    1    1  2008 2008-05-24 03:13:00   \n",
       "70590           Shanel  Werdna    1    1  2008 2008-05-24 03:18:00   \n",
       "70591      Pathoschild  Werdna    1    1  2008                 NaT   \n",
       "70592       Swatjester  Werdna    1    1  2008 2008-05-24 03:37:00   \n",
       "70593  KnowledgeOfSelf  Werdna    1    1  2008 2008-05-24 04:37:00   \n",
       "\n",
       "                                                     TXT  \n",
       "70589                                  '''Support''': --  \n",
       "70590  '''Support'''. I have known Werdna for about 1...  \n",
       "70591  Support because Shanel told me too. <small>(Gi...  \n",
       "70592                          '''Support''' per lolcat.  \n",
       "70593                          '''Support''' Yes please.  "
      ]
     },
     "execution_count": 14,
     "metadata": {},
     "output_type": "execute_result"
    }
   ],
   "source": [
    "wiki_df.loc[70589:70593]"
   ]
  },
  {
   "cell_type": "markdown",
   "id": "dfc8153b-5c8c-4e40-be60-97757e3e9e06",
   "metadata": {},
   "source": [
    "Looking at this, it seems that \"31:29\" most likely was supposed to be \"03:29\", we will manually fix this error."
   ]
  },
  {
   "cell_type": "code",
   "execution_count": 15,
   "id": "98aa92f3-3c20-4993-811b-ecc39ac1aa45",
   "metadata": {
    "tags": []
   },
   "outputs": [],
   "source": [
    "wiki_df.at[70591, 'DAT'] = pd.to_datetime('2008-05-24 03:29')"
   ]
  },
  {
   "cell_type": "markdown",
   "id": "7d526fbb-5473-4046-b3be-4d26d0f6d5e1",
   "metadata": {},
   "source": [
    "Finally :"
   ]
  },
  {
   "cell_type": "code",
   "execution_count": 16,
   "id": "13c1a51a-82df-4466-98a5-9bf5880be595",
   "metadata": {
    "tags": []
   },
   "outputs": [
    {
     "data": {
      "text/html": [
       "<div>\n",
       "<style scoped>\n",
       "    .dataframe tbody tr th:only-of-type {\n",
       "        vertical-align: middle;\n",
       "    }\n",
       "\n",
       "    .dataframe tbody tr th {\n",
       "        vertical-align: top;\n",
       "    }\n",
       "\n",
       "    .dataframe thead th {\n",
       "        text-align: right;\n",
       "    }\n",
       "</style>\n",
       "<table border=\"1\" class=\"dataframe\">\n",
       "  <thead>\n",
       "    <tr style=\"text-align: right;\">\n",
       "      <th></th>\n",
       "      <th>SRC</th>\n",
       "      <th>TGT</th>\n",
       "      <th>VOT</th>\n",
       "      <th>RES</th>\n",
       "      <th>YEA</th>\n",
       "      <th>DAT</th>\n",
       "      <th>TXT</th>\n",
       "    </tr>\n",
       "  </thead>\n",
       "  <tbody>\n",
       "    <tr>\n",
       "      <th>6821</th>\n",
       "      <td>JonasEncyclopedia</td>\n",
       "      <td>Zagalejo</td>\n",
       "      <td>1</td>\n",
       "      <td>1</td>\n",
       "      <td>2012</td>\n",
       "      <td>2012-07-01 14:47:00</td>\n",
       "      <td>'''Support'''. A versatile editor and active c...</td>\n",
       "    </tr>\n",
       "    <tr>\n",
       "      <th>27608</th>\n",
       "      <td>HJ Mitchell</td>\n",
       "      <td>Alan16</td>\n",
       "      <td>0</td>\n",
       "      <td>0</td>\n",
       "      <td>2010</td>\n",
       "      <td>2010-01-03 20:44:00</td>\n",
       "      <td>'''Neutral'''. Answers to the questions aren't...</td>\n",
       "    </tr>\n",
       "    <tr>\n",
       "      <th>70591</th>\n",
       "      <td>Pathoschild</td>\n",
       "      <td>Werdna</td>\n",
       "      <td>1</td>\n",
       "      <td>1</td>\n",
       "      <td>2008</td>\n",
       "      <td>2008-05-24 03:29:00</td>\n",
       "      <td>Support because Shanel told me too. &lt;small&gt;(Gi...</td>\n",
       "    </tr>\n",
       "    <tr>\n",
       "      <th>116963</th>\n",
       "      <td>QuasyBoy</td>\n",
       "      <td>Imdanumber1</td>\n",
       "      <td>1</td>\n",
       "      <td>0</td>\n",
       "      <td>2007</td>\n",
       "      <td>2007-05-26 14:47:00</td>\n",
       "      <td>'''Support''' You've been doing a great job wi...</td>\n",
       "    </tr>\n",
       "  </tbody>\n",
       "</table>\n",
       "</div>"
      ],
      "text/plain": [
       "                      SRC          TGT  VOT  RES   YEA                 DAT  \\\n",
       "6821    JonasEncyclopedia     Zagalejo    1    1  2012 2012-07-01 14:47:00   \n",
       "27608         HJ Mitchell       Alan16    0    0  2010 2010-01-03 20:44:00   \n",
       "70591         Pathoschild       Werdna    1    1  2008 2008-05-24 03:29:00   \n",
       "116963           QuasyBoy  Imdanumber1    1    0  2007 2007-05-26 14:47:00   \n",
       "\n",
       "                                                      TXT  \n",
       "6821    '''Support'''. A versatile editor and active c...  \n",
       "27608   '''Neutral'''. Answers to the questions aren't...  \n",
       "70591   Support because Shanel told me too. <small>(Gi...  \n",
       "116963  '''Support''' You've been doing a great job wi...  "
      ]
     },
     "execution_count": 16,
     "metadata": {},
     "output_type": "execute_result"
    }
   ],
   "source": [
    "wiki_df[inconsistent_dates]"
   ]
  },
  {
   "cell_type": "markdown",
   "id": "c191774b-bb72-44a1-8b3e-cb9826bceaef",
   "metadata": {
    "jp-MarkdownHeadingCollapsed": true,
    "tags": []
   },
   "source": [
    "### Exploring Dataset and fixing inconsistencies"
   ]
  },
  {
   "cell_type": "markdown",
   "id": "a3a64f4e-7499-4c5d-b8ec-bbb61fb22c12",
   "metadata": {},
   "source": [
    "Our dataset contains 7 columns for now, we will explore each columns seperately to try to find inconsistencies and to adopt the relevant way of fixing them."
   ]
  },
  {
   "cell_type": "markdown",
   "id": "1cd77e1f-c571-4acf-84d3-0ff6e67a0b2f",
   "metadata": {
    "tags": []
   },
   "source": [
    "#### SRC & TGT"
   ]
  },
  {
   "cell_type": "markdown",
   "id": "5d312676-a0b2-407f-bec1-ea6507617f4e",
   "metadata": {
    "tags": []
   },
   "source": [
    "In this section, we respond to multiple questions about the data that may help us later on when dealing with it."
   ]
  },
  {
   "cell_type": "markdown",
   "id": "da3cf4b8-6474-4848-9c20-87700634c073",
   "metadata": {
    "tags": []
   },
   "source": [
    "##### Missing data"
   ]
  },
  {
   "cell_type": "markdown",
   "id": "28120cb0-5408-417c-9cde-64c8db2f5a21",
   "metadata": {},
   "source": [
    "The first question is whether there is any missing data in those columns, and what is the reason for the data being missing? If we can answer those questions, we'll be able to more effectively process the data and thus will avoid encountering problems later on when using the data."
   ]
  },
  {
   "cell_type": "code",
   "execution_count": 17,
   "id": "3cf899e8-0c77-4eb0-a6b8-876a49ca2598",
   "metadata": {
    "tags": []
   },
   "outputs": [
    {
     "data": {
      "text/html": [
       "<div>\n",
       "<style scoped>\n",
       "    .dataframe tbody tr th:only-of-type {\n",
       "        vertical-align: middle;\n",
       "    }\n",
       "\n",
       "    .dataframe tbody tr th {\n",
       "        vertical-align: top;\n",
       "    }\n",
       "\n",
       "    .dataframe thead th {\n",
       "        text-align: right;\n",
       "    }\n",
       "</style>\n",
       "<table border=\"1\" class=\"dataframe\">\n",
       "  <thead>\n",
       "    <tr style=\"text-align: right;\">\n",
       "      <th></th>\n",
       "      <th>SRC</th>\n",
       "      <th>TGT</th>\n",
       "      <th>VOT</th>\n",
       "      <th>RES</th>\n",
       "      <th>YEA</th>\n",
       "      <th>DAT</th>\n",
       "      <th>TXT</th>\n",
       "    </tr>\n",
       "  </thead>\n",
       "  <tbody>\n",
       "    <tr>\n",
       "      <th>707</th>\n",
       "      <td>NaN</td>\n",
       "      <td>Jason Quinn</td>\n",
       "      <td>0</td>\n",
       "      <td>1</td>\n",
       "      <td>2013</td>\n",
       "      <td>NaT</td>\n",
       "      <td></td>\n",
       "    </tr>\n",
       "    <tr>\n",
       "      <th>708</th>\n",
       "      <td>NaN</td>\n",
       "      <td>Jason Quinn</td>\n",
       "      <td>0</td>\n",
       "      <td>1</td>\n",
       "      <td>2013</td>\n",
       "      <td>NaT</td>\n",
       "      <td></td>\n",
       "    </tr>\n",
       "    <tr>\n",
       "      <th>793</th>\n",
       "      <td>NaN</td>\n",
       "      <td>Legoktm</td>\n",
       "      <td>1</td>\n",
       "      <td>1</td>\n",
       "      <td>2013</td>\n",
       "      <td>NaT</td>\n",
       "      <td></td>\n",
       "    </tr>\n",
       "    <tr>\n",
       "      <th>1126</th>\n",
       "      <td>NaN</td>\n",
       "      <td>Mattythewhite</td>\n",
       "      <td>-1</td>\n",
       "      <td>1</td>\n",
       "      <td>2013</td>\n",
       "      <td>NaT</td>\n",
       "      <td></td>\n",
       "    </tr>\n",
       "    <tr>\n",
       "      <th>1128</th>\n",
       "      <td>NaN</td>\n",
       "      <td>Mattythewhite</td>\n",
       "      <td>-1</td>\n",
       "      <td>1</td>\n",
       "      <td>2013</td>\n",
       "      <td>NaT</td>\n",
       "      <td></td>\n",
       "    </tr>\n",
       "    <tr>\n",
       "      <th>...</th>\n",
       "      <td>...</td>\n",
       "      <td>...</td>\n",
       "      <td>...</td>\n",
       "      <td>...</td>\n",
       "      <td>...</td>\n",
       "      <td>...</td>\n",
       "      <td>...</td>\n",
       "    </tr>\n",
       "    <tr>\n",
       "      <th>198052</th>\n",
       "      <td>NaN</td>\n",
       "      <td>Yelyos</td>\n",
       "      <td>1</td>\n",
       "      <td>0</td>\n",
       "      <td>2004</td>\n",
       "      <td>NaT</td>\n",
       "      <td></td>\n",
       "    </tr>\n",
       "    <tr>\n",
       "      <th>198116</th>\n",
       "      <td>NaN</td>\n",
       "      <td>Christopher Mahan</td>\n",
       "      <td>1</td>\n",
       "      <td>1</td>\n",
       "      <td>2003</td>\n",
       "      <td>NaT</td>\n",
       "      <td></td>\n",
       "    </tr>\n",
       "    <tr>\n",
       "      <th>198171</th>\n",
       "      <td>NaN</td>\n",
       "      <td>Jwrosenzweig</td>\n",
       "      <td>1</td>\n",
       "      <td>1</td>\n",
       "      <td>2003</td>\n",
       "      <td>NaT</td>\n",
       "      <td></td>\n",
       "    </tr>\n",
       "    <tr>\n",
       "      <th>198217</th>\n",
       "      <td>NaN</td>\n",
       "      <td>Patrick</td>\n",
       "      <td>1</td>\n",
       "      <td>1</td>\n",
       "      <td>2003</td>\n",
       "      <td>NaT</td>\n",
       "      <td></td>\n",
       "    </tr>\n",
       "    <tr>\n",
       "      <th>198247</th>\n",
       "      <td>NaN</td>\n",
       "      <td>Stevertigo</td>\n",
       "      <td>1</td>\n",
       "      <td>1</td>\n",
       "      <td>2003</td>\n",
       "      <td>NaT</td>\n",
       "      <td></td>\n",
       "    </tr>\n",
       "  </tbody>\n",
       "</table>\n",
       "<p>1661 rows × 7 columns</p>\n",
       "</div>"
      ],
      "text/plain": [
       "        SRC                TGT  VOT  RES   YEA DAT TXT\n",
       "707     NaN        Jason Quinn    0    1  2013 NaT    \n",
       "708     NaN        Jason Quinn    0    1  2013 NaT    \n",
       "793     NaN            Legoktm    1    1  2013 NaT    \n",
       "1126    NaN      Mattythewhite   -1    1  2013 NaT    \n",
       "1128    NaN      Mattythewhite   -1    1  2013 NaT    \n",
       "...     ...                ...  ...  ...   ...  ..  ..\n",
       "198052  NaN             Yelyos    1    0  2004 NaT    \n",
       "198116  NaN  Christopher Mahan    1    1  2003 NaT    \n",
       "198171  NaN       Jwrosenzweig    1    1  2003 NaT    \n",
       "198217  NaN            Patrick    1    1  2003 NaT    \n",
       "198247  NaN         Stevertigo    1    1  2003 NaT    \n",
       "\n",
       "[1661 rows x 7 columns]"
      ]
     },
     "metadata": {},
     "output_type": "display_data"
    }
   ],
   "source": [
    "empty_or_null_src = wiki_df[pd.isna(wiki_df['SRC'])]\n",
    "non_empty_or_null_src = wiki_df[~pd.isna(wiki_df['SRC'])]\n",
    "display(empty_or_null_src)"
   ]
  },
  {
   "cell_type": "code",
   "execution_count": 18,
   "id": "cfe94888-007d-4e2c-befe-76f4ce44a716",
   "metadata": {
    "tags": []
   },
   "outputs": [
    {
     "data": {
      "text/html": [
       "<div>\n",
       "<style scoped>\n",
       "    .dataframe tbody tr th:only-of-type {\n",
       "        vertical-align: middle;\n",
       "    }\n",
       "\n",
       "    .dataframe tbody tr th {\n",
       "        vertical-align: top;\n",
       "    }\n",
       "\n",
       "    .dataframe thead th {\n",
       "        text-align: right;\n",
       "    }\n",
       "</style>\n",
       "<table border=\"1\" class=\"dataframe\">\n",
       "  <thead>\n",
       "    <tr style=\"text-align: right;\">\n",
       "      <th></th>\n",
       "      <th>SRC</th>\n",
       "      <th>TGT</th>\n",
       "      <th>VOT</th>\n",
       "      <th>RES</th>\n",
       "      <th>YEA</th>\n",
       "      <th>DAT</th>\n",
       "      <th>TXT</th>\n",
       "    </tr>\n",
       "  </thead>\n",
       "  <tbody>\n",
       "  </tbody>\n",
       "</table>\n",
       "</div>"
      ],
      "text/plain": [
       "Empty DataFrame\n",
       "Columns: [SRC, TGT, VOT, RES, YEA, DAT, TXT]\n",
       "Index: []"
      ]
     },
     "metadata": {},
     "output_type": "display_data"
    }
   ],
   "source": [
    "empty_or_null_tgt = wiki_df[pd.isna(wiki_df['TGT']) | (wiki_df['TGT'] == '')]\n",
    "display(empty_or_null_tgt)"
   ]
  },
  {
   "cell_type": "code",
   "execution_count": 19,
   "id": "69a03539-2e30-4410-a78f-e99f1a42268a",
   "metadata": {
    "tags": []
   },
   "outputs": [
    {
     "name": "stdout",
     "output_type": "stream",
     "text": [
      "Number of missing data for SRC column: 1661\n",
      "Number of missing data for TGT column: 0\n"
     ]
    }
   ],
   "source": [
    "print(f'Number of missing data for SRC column: {len(empty_or_null_src)}')\n",
    "print(f'Number of missing data for TGT column: {len(empty_or_null_tgt)}')"
   ]
  },
  {
   "cell_type": "markdown",
   "id": "e0caebd7-2ec6-4f10-8381-30fc6b494b29",
   "metadata": {},
   "source": [
    "We notice that for rows where the SRC value is missing, the TXT value seems to also be missing, let's see if this is the case for all the rows."
   ]
  },
  {
   "cell_type": "code",
   "execution_count": 20,
   "id": "7e57ab3b-d0f6-495b-a192-5f4fc1cb604e",
   "metadata": {
    "tags": []
   },
   "outputs": [
    {
     "name": "stdout",
     "output_type": "stream",
     "text": [
      "Number of missing data for TXT column when SRC is missing: 1661\n"
     ]
    }
   ],
   "source": [
    "empty_or_null_src_txt = empty_or_null_src[pd.isna(empty_or_null_src['TXT']) | (empty_or_null_src['TXT'] == '')]\n",
    "print(f'Number of missing data for TXT column when SRC is missing: {len(empty_or_null_src_txt)}')"
   ]
  },
  {
   "cell_type": "markdown",
   "id": "e5625c6c-88ee-414b-a8c1-c2f5df2431fd",
   "metadata": {},
   "source": [
    "We thus find that all the rows where the SRC value is missing, also have the TXT value as missing. Let's now see if the same holds for the DAT value."
   ]
  },
  {
   "cell_type": "code",
   "execution_count": 21,
   "id": "fee63136-a2ad-4d7f-89a4-3f5c308476ce",
   "metadata": {
    "tags": []
   },
   "outputs": [
    {
     "name": "stdout",
     "output_type": "stream",
     "text": [
      "Number of missing data for DAT column when SRC is missing: 1661\n"
     ]
    }
   ],
   "source": [
    "empty_or_null_src_dat = empty_or_null_src[pd.isna(empty_or_null_src['DAT'])]\n",
    "print(f'Number of missing data for DAT column when SRC is missing: {len(empty_or_null_src_dat)}')"
   ]
  },
  {
   "cell_type": "markdown",
   "id": "d6f1cf83-2ca3-44f0-bb8a-1083460e8679",
   "metadata": {},
   "source": [
    "Thus, whenever the SRC value is missing, the DAT and TXT values are also missing.\n",
    "The first answer that comes to mind is that might because of an error in the parsing of the file, however, a manual verification leads to the realisation that there are indeed missing values for the SRC attribute.\n",
    "\n",
    "Let us explore this missing data to see if we can extract any information from it."
   ]
  },
  {
   "cell_type": "markdown",
   "id": "1059e65e-3acc-4df7-8c36-19e38a4e2665",
   "metadata": {},
   "source": [
    "First thing we will do is plot the indexes of the missing data, as this can inform us on when missing data happens and whether it has something to do with the ordering in the file."
   ]
  },
  {
   "cell_type": "code",
   "execution_count": 22,
   "id": "35488b6f-d494-435b-a380-1a486ac0f938",
   "metadata": {
    "tags": []
   },
   "outputs": [
    {
     "data": {
      "image/png": "[encoded data removed]",
      "text/plain": [
       "<Figure size 640x480 with 1 Axes>"
      ]
     },
     "metadata": {},
     "output_type": "display_data"
    }
   ],
   "source": [
    "indexes = empty_or_null_src.index\n",
    "\n",
    "plt.hist(indexes, bins=100, edgecolor='k')\n",
    "plt.xlabel('Index')\n",
    "plt.ylabel('Frequency')\n",
    "plt.title('Distribution of Missing Data by Index')\n",
    "plt.show()"
   ]
  },
  {
   "cell_type": "markdown",
   "id": "66f89680-2b84-4b6c-8b15-d98ca3c273c7",
   "metadata": {},
   "source": [
    "We can see there is a higher concentration of missing data towards the end of the file, between index 150 000 and index 170 000, signaling there might be a problem with the data in that region of the file. However, we cannot draw conclusions as it can be that missing data is more frequent for a certain year, and that that year is located in that region of the file, for instance.\n",
    "\n",
    "Which is why we also need to plot the distribution of the missing data throughout the years the voting happens."
   ]
  },
  {
   "cell_type": "code",
   "execution_count": 23,
   "id": "f7b7aa25-a05e-446f-973e-273d9a4e1bb5",
   "metadata": {
    "tags": []
   },
   "outputs": [
    {
     "data": {
      "image/png": "[encoded data removed]",
      "text/plain": [
       "<Figure size 640x480 with 1 Axes>"
      ]
     },
     "metadata": {},
     "output_type": "display_data"
    }
   ],
   "source": [
    "yea_values = empty_or_null_src['YEA']\n",
    "min_year = min(yea_values)\n",
    "max_year = max(yea_values)\n",
    "\n",
    "\n",
    "year_range = max_year - min_year\n",
    "\n",
    "plt.hist(yea_values, bins=year_range, range=(min_year, max_year), edgecolor='k')\n",
    "plt.xlabel('YEA Values (Year)')\n",
    "plt.ylabel('Frequency')\n",
    "plt.title('Distribution of YEA Values')\n",
    "plt.xticks(range(min_year, max_year + 1), rotation=90)\n",
    "plt.show()"
   ]
  },
  {
   "cell_type": "markdown",
   "id": "f2dc1653-122b-4a51-8d67-8668a6c47113",
   "metadata": {},
   "source": [
    "We can see that the year 2006 has more missing value, however, this could simply be because that year has more data, and thus also more missing data. We need to check the percentage of missing data by year."
   ]
  },
  {
   "cell_type": "code",
   "execution_count": 24,
   "id": "ef22a690-1be9-4e03-8c72-23e857e0a777",
   "metadata": {
    "tags": []
   },
   "outputs": [
    {
     "data": {
      "image/png": "[encoded data removed]",
      "text/plain": [
       "<Figure size 640x480 with 1 Axes>"
      ]
     },
     "metadata": {},
     "output_type": "display_data"
    }
   ],
   "source": [
    "# We get the total number of available (missing or not) data for each year\n",
    "yearly_data_counts = wiki_df['YEA'].value_counts().sort_index()\n",
    "\n",
    "# We calculate the percentages of missing data and non missing data.\n",
    "missing_src_percentages = empty_or_null_src['YEA'].value_counts().sort_index() / yearly_data_counts\n",
    "non_missing_src_percentages = non_empty_or_null_src['YEA'].value_counts().sort_index() / yearly_data_counts\n",
    "\n",
    "# We create a stacked bar plot\n",
    "fig, ax = plt.subplots()\n",
    "bar_width = 0.35\n",
    "years = yearly_data_counts.index\n",
    "\n",
    "\n",
    "plt.bar(years, missing_src_percentages, bar_width, label='Missing SRC Data', edgecolor='k')\n",
    "plt.bar(years, non_missing_src_percentages, bar_width, label='Non-Missing SRC Data', edgecolor='k', bottom=missing_src_percentages)\n",
    "\n",
    "plt.xlabel('Year')\n",
    "plt.ylabel('Count')\n",
    "plt.title('Stacked Bar Plot of Missing and Non-Missing SRC Data by Year')\n",
    "plt.xticks(years)\n",
    "plt.yscale('log')\n",
    "plt.legend()\n",
    "plt.show()"
   ]
  },
  {
   "cell_type": "markdown",
   "id": "61c9a3e9-91b1-49a3-b122-69aafe5cad9f",
   "metadata": {
    "tags": []
   },
   "source": [
    "We see that indeed there is more missing data for the years 2003 and 2005. Now, back to our initial hypothesis, which is that some part of the file might be corrupted, could it be, that for those years, a big part lies between the indexes where most of the missing data happens?"
   ]
  },
  {
   "cell_type": "code",
   "execution_count": 25,
   "id": "a2959d93-fc38-43f3-9f9b-79863aa5273e",
   "metadata": {
    "tags": []
   },
   "outputs": [
    {
     "data": {
      "text/plain": [
       "array([2006], dtype=int64)"
      ]
     },
     "execution_count": 25,
     "metadata": {},
     "output_type": "execute_result"
    }
   ],
   "source": [
    "wiki_df.iloc[150000:170000]['YEA'].unique()"
   ]
  },
  {
   "cell_type": "markdown",
   "id": "6fe942e1-50f7-4198-882e-486914075346",
   "metadata": {
    "tags": []
   },
   "source": [
    "We notice, that in those indexes, there is only votes corresponding to the year 2006, which might explain the number of missing data.\n",
    "\n",
    "In all cases, the fact that missing data happens in all years, seems to suggest that it isn't an error of parsing but simply a reality that comes with our dataset.\n",
    "\n",
    "Now, what do we do with this missing data?\n"
   ]
  },
  {
   "cell_type": "markdown",
   "id": "381ca516-dde1-4f02-b3d3-6eb52aa6d77c",
   "metadata": {},
   "source": [
    "First let's take a look at the amount of missing data"
   ]
  },
  {
   "cell_type": "code",
   "execution_count": 26,
   "id": "eebbbdd5-8a7e-4c3c-8ccd-63421cd22d26",
   "metadata": {
    "tags": []
   },
   "outputs": [
    {
     "data": {
      "text/plain": [
       "YEA\n",
       "2003    1.970443\n",
       "2004    0.779697\n",
       "2005    0.538564\n",
       "2006    1.765030\n",
       "2007    0.570521\n",
       "2008    0.639785\n",
       "2009    0.622222\n",
       "2010    0.450966\n",
       "2011    0.303880\n",
       "2012    0.432499\n",
       "2013    0.419933\n",
       "Name: count, dtype: float64"
      ]
     },
     "execution_count": 26,
     "metadata": {},
     "output_type": "execute_result"
    }
   ],
   "source": [
    "missing_src_percentages * 100"
   ]
  },
  {
   "cell_type": "markdown",
   "id": "333111dd-5f55-41b9-aa74-e3c2d182350c",
   "metadata": {},
   "source": [
    "We have less than 1% of missing data for all the years except for the years 2003 and 2006 where we have less than 2%.\n",
    "\n",
    "What to do with data ? _A voir,\n",
    "mon hypothèse est que la missing data correspond à des utilisateurs qui ont été \"bannis\" ou autre, on garde leur vote pour justifier le résultat de l'élection mais on jette le reste pour RGPD (comme pour le projet PD avec la suppression de l'utilisateur)\n",
    "on pourrait voir si ça influence le résultat d'une élection aka comparer les résultats de l'élections avec et sans missing data, voir si un résultat d'election change et voir lequel est affiché dans la colonne RES.\n",
    "ensuite, j'ai l'impression qu'on pourrait s'en servir pour l'analyse globale des données : nombre de votes, marges de victoire etc..., par contre, pour le reste, ce sera pas utilisable : NLP parce que y'a pas de texte et Graphe psk y'a pas de SRC._"
   ]
  },
  {
   "cell_type": "markdown",
   "id": "207fc4e3-f2bf-438d-b39a-c47a71536e7f",
   "metadata": {
    "tags": []
   },
   "source": [
    "##### Voters Exploration"
   ]
  },
  {
   "cell_type": "markdown",
   "id": "aad34b7a-de28-4d0c-ba68-f4776a7222af",
   "metadata": {},
   "source": [
    "Let's take a look at the number of unique voters in the dataset."
   ]
  },
  {
   "cell_type": "code",
   "execution_count": 27,
   "id": "56ec4226-9b31-4028-acbf-1f2e49ed8a82",
   "metadata": {
    "tags": []
   },
   "outputs": [
    {
     "name": "stdout",
     "output_type": "stream",
     "text": [
      "Number of unique voters : 10416\n"
     ]
    }
   ],
   "source": [
    "print(f'Number of unique voters : {len(non_empty_or_null_src[\"SRC\"].unique())}')"
   ]
  },
  {
   "cell_type": "code",
   "execution_count": 28,
   "id": "0379157a-2f34-4a8e-853e-95306183150f",
   "metadata": {
    "tags": []
   },
   "outputs": [
    {
     "name": "stdout",
     "output_type": "stream",
     "text": [
      "Number of unique members (either voters or candidates) : 11380\n"
     ]
    }
   ],
   "source": [
    "print(f'Number of unique members (either voters or candidates) : {len(pd.concat([non_empty_or_null_src[\"SRC\"], wiki_df[\"TGT\"]]).unique())}')"
   ]
  },
  {
   "cell_type": "markdown",
   "id": "6018df93-351c-443d-850b-fef244e2d4ec",
   "metadata": {},
   "source": [
    "We can be more precise and look at the evolution of the number of voters per year. "
   ]
  },
  {
   "cell_type": "code",
   "execution_count": 29,
   "id": "fdb43874-d5d4-4d13-931c-86e13de9564f",
   "metadata": {
    "tags": []
   },
   "outputs": [
    {
     "data": {
      "image/png": "[encoded data removed]",
      "text/plain": [
       "<Figure size 640x480 with 1 Axes>"
      ]
     },
     "metadata": {},
     "output_type": "display_data"
    }
   ],
   "source": [
    "# Group by YEA and count the number of unique SRC\n",
    "unique_voters_per_year = wiki_df.groupby(wiki_df['YEA'])['SRC'].nunique()\n",
    "\n",
    "plt.plot(unique_voters_per_year.index, unique_voters_per_year.values, marker='o')\n",
    "plt.xlabel('Year')\n",
    "plt.ylabel('Number of Unique Values in SRC')\n",
    "plt.title('Number of Unique Values in SRC for Each YEA')\n",
    "plt.show()"
   ]
  },
  {
   "cell_type": "code",
   "execution_count": 30,
   "id": "4e5f4473-5bc2-4984-96aa-7c05f9aa2215",
   "metadata": {
    "tags": []
   },
   "outputs": [
    {
     "name": "stdout",
     "output_type": "stream",
     "text": [
      "Average number of unique voters per year:  1694\n"
     ]
    }
   ],
   "source": [
    "print(f'Average number of unique voters per year: {unique_voters_per_year.mean(): 0.0f}')"
   ]
  },
  {
   "cell_type": "markdown",
   "id": "ad151177-2070-4dc9-b2dd-abc4a27bddbe",
   "metadata": {},
   "source": [
    "We can see that the number of voters peaks for the years 2006 and 2007 and then slowly decreases again, with an average of 1694 voters per year."
   ]
  },
  {
   "cell_type": "code",
   "execution_count": 31,
   "id": "eab23a93-e8b1-48f1-ac50-4dfbe5afab33",
   "metadata": {
    "tags": []
   },
   "outputs": [
    {
     "data": {
      "image/png": "[encoded data removed]",
      "text/plain": [
       "<Figure size 640x480 with 1 Axes>"
      ]
     },
     "metadata": {},
     "output_type": "display_data"
    }
   ],
   "source": [
    "votes_distribution = non_empty_or_null_src['SRC'].value_counts()\n",
    "\n",
    "plt.hist(votes_distribution, bins=20, edgecolor='k')\n",
    "plt.xlabel('Number of Votes')\n",
    "plt.ylabel('Frequency')\n",
    "plt.yscale('log')\n",
    "plt.title('Distribution of Number of Votes by Person')\n",
    "plt.show()"
   ]
  },
  {
   "cell_type": "code",
   "execution_count": 32,
   "id": "48862efa-77fb-4885-af8b-6e5e7d6751cd",
   "metadata": {
    "tags": []
   },
   "outputs": [
    {
     "data": {
      "text/plain": [
       "SRC\n",
       "Siva1979         1232\n",
       "Mailer diablo     998\n",
       "Merovingian       916\n",
       "Wizardman         810\n",
       "Acalamari         726\n",
       "Xoloz             677\n",
       "Pedro             663\n",
       "Dlohcierekim      661\n",
       "Bearian           635\n",
       "Stifle            628\n",
       "Name: count, dtype: int64"
      ]
     },
     "execution_count": 32,
     "metadata": {},
     "output_type": "execute_result"
    }
   ],
   "source": [
    "# Top voters\n",
    "votes_distribution.head(10)"
   ]
  },
  {
   "cell_type": "code",
   "execution_count": 33,
   "id": "d9844600-b52a-453e-be17-8862bf222938",
   "metadata": {},
   "outputs": [
    {
     "data": {
      "text/plain": [
       "SRC\n",
       "Siva1979         1232\n",
       "Mailer diablo     998\n",
       "Merovingian       916\n",
       "Wizardman         810\n",
       "Acalamari         726\n",
       "Xoloz             677\n",
       "Pedro             663\n",
       "Dlohcierekim      661\n",
       "Bearian           635\n",
       "Stifle            628\n",
       "Jmlk17            567\n",
       "MONGO             548\n",
       "Terence Ong       546\n",
       "Malinaccier       545\n",
       "Wisdom89          512\n",
       "Name: count, dtype: int64"
      ]
     },
     "execution_count": 33,
     "metadata": {},
     "output_type": "execute_result"
    }
   ],
   "source": [
    "votes_distribution[votes_distribution > 500]"
   ]
  },
  {
   "cell_type": "code",
   "execution_count": 34,
   "id": "7f2705e0-0ca4-48c1-b9ad-d4297b2b69d1",
   "metadata": {
    "tags": []
   },
   "outputs": [
    {
     "data": {
      "image/png": "[encoded data removed]",
      "text/plain": [
       "<Figure size 1400x600 with 1 Axes>"
      ]
     },
     "metadata": {},
     "output_type": "display_data"
    }
   ],
   "source": [
    "cdf = votes_distribution.value_counts().sort_index().cumsum() / len(votes_distribution) \n",
    "\n",
    "plt.figure(figsize=(14, 6))\n",
    "plt.plot(cdf.index, cdf, marker='o', linestyle='-')\n",
    "plt.xlabel('Number of Votes')\n",
    "plt.ylabel('CDF (Cumulative Percentage of Voters)')\n",
    "plt.title('CDF of Number of Votes by Person')\n",
    "plt.xscale('log')\n",
    "plt.grid(True)\n",
    "plt.show()"
   ]
  },
  {
   "cell_type": "code",
   "execution_count": 35,
   "id": "03fcbc1d-f1bb-464c-af21-447d1cba373f",
   "metadata": {
    "tags": []
   },
   "outputs": [
    {
     "data": {
      "text/plain": [
       "count\n",
       "1       0.364151\n",
       "2       0.481375\n",
       "3       0.550019\n",
       "4       0.589958\n",
       "5       0.623464\n",
       "          ...   \n",
       "726     0.999616\n",
       "810     0.999712\n",
       "916     0.999808\n",
       "998     0.999904\n",
       "1232    1.000000\n",
       "Name: count, Length: 305, dtype: float64"
      ]
     },
     "execution_count": 35,
     "metadata": {},
     "output_type": "execute_result"
    }
   ],
   "source": [
    "cdf"
   ]
  },
  {
   "cell_type": "code",
   "execution_count": 36,
   "id": "993b04d0-1ec7-4499-8e6d-7e8b7af39b15",
   "metadata": {
    "tags": []
   },
   "outputs": [
    {
     "name": "stdout",
     "output_type": "stream",
     "text": [
      "Median of number of votes per voter: 3.0\n",
      "Mean of number of votes per voter: 34.15081967213115\n"
     ]
    }
   ],
   "source": [
    "print(f'Median of number of votes per voter: {votes_distribution.value_counts().sort_index().median()}')\n",
    "print(f'Mean of number of votes per voter: {votes_distribution.value_counts().sort_index().mean()}')"
   ]
  },
  {
   "cell_type": "markdown",
   "id": "c5b25aea-16d7-4163-befb-6332ccfc2dca",
   "metadata": {
    "tags": []
   },
   "source": [
    "The plot starts at 0.36 as it shows the percentage that have voted more than 1 times, the 36% left are the people who voted only one time.\n",
    "We notice thus that half of the voters have voted less than 3 times, and 36% of the voters have only voted one time.\n",
    "The median of the number of votes per voter is 3 while the mean is 34, showing that our distribution is skewed to the right."
   ]
  },
  {
   "cell_type": "markdown",
   "id": "90b49200-2d33-45f7-9197-1268f1436e81",
   "metadata": {},
   "source": [
    "Let's analyse similarity of voters between each pair of years, this will allow us to see if the nature of voters change throughout the year."
   ]
  },
  {
   "cell_type": "code",
   "execution_count": 37,
   "id": "db1545c3-7d4c-472b-aba8-ec71d5ffb027",
   "metadata": {
    "tags": []
   },
   "outputs": [],
   "source": [
    "# We create a DataFrame with unique voters and their corresponding years\n",
    "voters_years_df = non_empty_or_null_src[['SRC', 'YEA']].drop_duplicates()\n",
    "# We group by the voters and the years they voted in\n",
    "voters_years_grouped = voters_years_df.groupby('SRC')['YEA'].agg(set)\n",
    "unique_years = voters_years_df['YEA'].unique()\n",
    "\n",
    "# Storing the results\n",
    "results_df = pd.DataFrame(index=unique_years, columns=unique_years).astype(float)\n"
   ]
  },
  {
   "cell_type": "code",
   "execution_count": 38,
   "id": "fd1d8dad-0810-4a1b-b90b-688626a6e59b",
   "metadata": {
    "tags": []
   },
   "outputs": [],
   "source": [
    "for y1 in unique_years:\n",
    "    for y2 in unique_years:\n",
    "        if y1 == y2:\n",
    "            results_df.at[y1, y2] = 1\n",
    "        else:\n",
    "            results_df.at[y1, y2] = len(voters_years_grouped[voters_years_grouped.apply(lambda x: y1 in x and y2 in x)].index) / len(voters_years_grouped[voters_years_grouped.apply(lambda x: y1 in x)])\n"
   ]
  },
  {
   "cell_type": "code",
   "execution_count": 39,
   "id": "8b090016-78fa-4fa6-b977-03b5ccf71c8f",
   "metadata": {
    "tags": []
   },
   "outputs": [
    {
     "data": {
      "image/png": "[encoded data removed]",
      "text/plain": [
       "<Figure size 1200x600 with 2 Axes>"
      ]
     },
     "metadata": {},
     "output_type": "display_data"
    }
   ],
   "source": [
    "plt.figure(figsize=(12, 6))\n",
    "sns.heatmap(results_df, cmap=sns.color_palette(\"Greens\",40),annot=True, fmt=\".3f\", cbar_kws={'label': 'Normalized Cases'})\n",
    "\n",
    "plt.xlabel('Year Y2')\n",
    "plt.ylabel('Year Y1')\n",
    "plt.title('Heatmap of Normalized Cases')\n",
    "\n",
    "plt.show()"
   ]
  },
  {
   "cell_type": "markdown",
   "id": "3095b0e6-fcf6-47fa-b200-256addf10d8f",
   "metadata": {},
   "source": [
    "The heatmap reads like this : for a given pair of years ${y}_{i}, y_{j}$, the value in row $i$ and column $j$ is the percentage of voters in year $i$ that have also voted in year $j$.\n",
    "\n",
    "\n",
    "The heatmap shows us that there is a lot of variability in the voters, and there aren't as many voters that are common between years as one would assume. However, this makes sense considering more than 50\\% of voters have voted less than 4 times.\n",
    "\n",
    "We can see higher values around the diagonal which shows the amount of common voters between close years, as the years drift apart, the number of common voters tend to reduce.\n",
    "\n",
    "Such a vizualisation is important to see the correlation between the identities of voters between years. Indeed, if we were ever to analyze text used in 2003 and compare it to the text used in 2013, we must be aware that there are no common voters between the two years, the analysis might thus reveal differences not because the language has changed, but rather because there are different voters using different languages."
   ]
  },
  {
   "cell_type": "markdown",
   "id": "518b3e58-336e-426b-a36c-57d19b0479c0",
   "metadata": {
    "tags": []
   },
   "source": [
    "##### Candidates Exploration"
   ]
  },
  {
   "cell_type": "markdown",
   "id": "c7792857-fda5-442f-8361-fe107e79a47f",
   "metadata": {},
   "source": [
    "We will now proceed with the same data exploration, but for candidates."
   ]
  },
  {
   "cell_type": "code",
   "execution_count": 40,
   "id": "939ca16d-6e47-41a0-af07-b0839c6cd773",
   "metadata": {
    "tags": []
   },
   "outputs": [
    {
     "name": "stdout",
     "output_type": "stream",
     "text": [
      "Number of unique candidates : 3497\n"
     ]
    }
   ],
   "source": [
    "print(f'Number of unique candidates : {len(wiki_df[\"TGT\"].unique())}')"
   ]
  },
  {
   "cell_type": "code",
   "execution_count": 41,
   "id": "b4dc5eba-157f-4bfa-81aa-d1c8fc847592",
   "metadata": {
    "tags": []
   },
   "outputs": [
    {
     "data": {
      "image/png": "[encoded data removed]",
      "text/plain": [
       "<Figure size 640x480 with 1 Axes>"
      ]
     },
     "metadata": {},
     "output_type": "display_data"
    }
   ],
   "source": [
    "# Group by YEA and count the number of unique SRC\n",
    "unique_candidates_per_year = wiki_df.groupby(wiki_df['YEA'])['TGT'].nunique()\n",
    "\n",
    "plt.plot(unique_candidates_per_year.index, unique_candidates_per_year.values, marker='o')\n",
    "plt.xlabel('Year')\n",
    "plt.ylabel('Number of Unique Candidates')\n",
    "plt.title('Number of Unique Candidates for each year')\n",
    "plt.show()"
   ]
  },
  {
   "cell_type": "markdown",
   "id": "afd4bf80-257c-45f6-afca-788c0608a25b",
   "metadata": {},
   "source": [
    "We retrieve a similar distribution to the one for voters. Which means that the number of candidates is correlated to the number of voters. \n",
    "\n",
    "However, in order to explore more this side of the data, we need to draw a line between different elections. Indeed, if we wanted to look at the number of times a candidate is running for elections, we need to separate different elections. Fortunately, it seems that in our dataset, the votes are ordered by election and by time, meaning, when a candidate changes in the data, that means that the vote is for a new election.\n",
    "\n",
    "We use that information to identify different elections."
   ]
  },
  {
   "cell_type": "markdown",
   "id": "957ea72b-b9b8-456f-a86c-a38983a16949",
   "metadata": {
    "tags": []
   },
   "source": [
    "###### Grouping Elections "
   ]
  },
  {
   "cell_type": "code",
   "execution_count": 42,
   "id": "0087cfe5-530c-4d7b-a0c1-974d2aa4a2c4",
   "metadata": {
    "tags": []
   },
   "outputs": [],
   "source": [
    "wiki_df['ELECTION_ID'] = 0\n",
    "current_id = 1\n",
    "\n",
    "for index, row in wiki_df.iterrows():\n",
    "    tgt_value = row['TGT']\n",
    "    \n",
    "    # Check if the 'TGT' value is different from the previous row\n",
    "    if index > 0 and wiki_df.at[index - 1, 'TGT'] != tgt_value:\n",
    "        current_id += 1  # Increment ELECTION_ID for a new 'TGT' value\n",
    "    \n",
    "    wiki_df.at[index, 'ELECTION_ID'] = current_id"
   ]
  },
  {
   "cell_type": "code",
   "execution_count": 43,
   "id": "817ed28f-b5ba-420d-a944-77d95f4de170",
   "metadata": {
    "tags": []
   },
   "outputs": [
    {
     "data": {
      "text/html": [
       "<div>\n",
       "<style scoped>\n",
       "    .dataframe tbody tr th:only-of-type {\n",
       "        vertical-align: middle;\n",
       "    }\n",
       "\n",
       "    .dataframe tbody tr th {\n",
       "        vertical-align: top;\n",
       "    }\n",
       "\n",
       "    .dataframe thead th {\n",
       "        text-align: right;\n",
       "    }\n",
       "</style>\n",
       "<table border=\"1\" class=\"dataframe\">\n",
       "  <thead>\n",
       "    <tr style=\"text-align: right;\">\n",
       "      <th></th>\n",
       "      <th>SRC</th>\n",
       "      <th>TGT</th>\n",
       "      <th>VOT</th>\n",
       "      <th>RES</th>\n",
       "      <th>YEA</th>\n",
       "      <th>DAT</th>\n",
       "      <th>TXT</th>\n",
       "      <th>ELECTION_ID</th>\n",
       "    </tr>\n",
       "  </thead>\n",
       "  <tbody>\n",
       "    <tr>\n",
       "      <th>0</th>\n",
       "      <td>Steel1943</td>\n",
       "      <td>BDD</td>\n",
       "      <td>1</td>\n",
       "      <td>1</td>\n",
       "      <td>2013</td>\n",
       "      <td>2013-04-19 23:13:00</td>\n",
       "      <td>'''Support''' as co-nom.</td>\n",
       "      <td>1</td>\n",
       "    </tr>\n",
       "    <tr>\n",
       "      <th>1</th>\n",
       "      <td>Cuchullain</td>\n",
       "      <td>BDD</td>\n",
       "      <td>1</td>\n",
       "      <td>1</td>\n",
       "      <td>2013</td>\n",
       "      <td>2013-04-20 01:04:00</td>\n",
       "      <td>'''Support''' as nominator.--</td>\n",
       "      <td>1</td>\n",
       "    </tr>\n",
       "    <tr>\n",
       "      <th>2</th>\n",
       "      <td>INeverCry</td>\n",
       "      <td>BDD</td>\n",
       "      <td>1</td>\n",
       "      <td>1</td>\n",
       "      <td>2013</td>\n",
       "      <td>2013-04-19 23:43:00</td>\n",
       "      <td>'''Support''' per noms.</td>\n",
       "      <td>1</td>\n",
       "    </tr>\n",
       "    <tr>\n",
       "      <th>3</th>\n",
       "      <td>Cncmaster</td>\n",
       "      <td>BDD</td>\n",
       "      <td>1</td>\n",
       "      <td>1</td>\n",
       "      <td>2013</td>\n",
       "      <td>2013-04-20 00:11:00</td>\n",
       "      <td>'''Support''' per noms. BDD is a strong contri...</td>\n",
       "      <td>1</td>\n",
       "    </tr>\n",
       "    <tr>\n",
       "      <th>4</th>\n",
       "      <td>Miniapolis</td>\n",
       "      <td>BDD</td>\n",
       "      <td>1</td>\n",
       "      <td>1</td>\n",
       "      <td>2013</td>\n",
       "      <td>2013-04-20 00:56:00</td>\n",
       "      <td>'''Support''', with great pleasure. I work wit...</td>\n",
       "      <td>1</td>\n",
       "    </tr>\n",
       "    <tr>\n",
       "      <th>...</th>\n",
       "      <td>...</td>\n",
       "      <td>...</td>\n",
       "      <td>...</td>\n",
       "      <td>...</td>\n",
       "      <td>...</td>\n",
       "      <td>...</td>\n",
       "      <td>...</td>\n",
       "      <td>...</td>\n",
       "    </tr>\n",
       "    <tr>\n",
       "      <th>198270</th>\n",
       "      <td>172</td>\n",
       "      <td>Vancouverguy</td>\n",
       "      <td>1</td>\n",
       "      <td>1</td>\n",
       "      <td>2003</td>\n",
       "      <td>2003-09-02 02:51:00</td>\n",
       "      <td>Support</td>\n",
       "      <td>3926</td>\n",
       "    </tr>\n",
       "    <tr>\n",
       "      <th>198271</th>\n",
       "      <td>Angela</td>\n",
       "      <td>WhisperToMe</td>\n",
       "      <td>1</td>\n",
       "      <td>1</td>\n",
       "      <td>2003</td>\n",
       "      <td>2003-11-26 23:45:00</td>\n",
       "      <td>Support.</td>\n",
       "      <td>3927</td>\n",
       "    </tr>\n",
       "    <tr>\n",
       "      <th>198272</th>\n",
       "      <td>Jiang</td>\n",
       "      <td>WhisperToMe</td>\n",
       "      <td>1</td>\n",
       "      <td>1</td>\n",
       "      <td>2003</td>\n",
       "      <td>NaT</td>\n",
       "      <td>Support. --</td>\n",
       "      <td>3927</td>\n",
       "    </tr>\n",
       "    <tr>\n",
       "      <th>198273</th>\n",
       "      <td>Pakaran</td>\n",
       "      <td>WhisperToMe</td>\n",
       "      <td>1</td>\n",
       "      <td>1</td>\n",
       "      <td>2003</td>\n",
       "      <td>2003-12-05 05:38:00</td>\n",
       "      <td>Support.  Age has nothing to do with maturity....</td>\n",
       "      <td>3927</td>\n",
       "    </tr>\n",
       "    <tr>\n",
       "      <th>198274</th>\n",
       "      <td>Jimregan</td>\n",
       "      <td>Zanimum</td>\n",
       "      <td>1</td>\n",
       "      <td>1</td>\n",
       "      <td>2003</td>\n",
       "      <td>NaT</td>\n",
       "      <td>Support - anyone who can write so much, and so...</td>\n",
       "      <td>3928</td>\n",
       "    </tr>\n",
       "  </tbody>\n",
       "</table>\n",
       "<p>198275 rows × 8 columns</p>\n",
       "</div>"
      ],
      "text/plain": [
       "               SRC           TGT  VOT  RES   YEA                 DAT  \\\n",
       "0        Steel1943           BDD    1    1  2013 2013-04-19 23:13:00   \n",
       "1       Cuchullain           BDD    1    1  2013 2013-04-20 01:04:00   \n",
       "2        INeverCry           BDD    1    1  2013 2013-04-19 23:43:00   \n",
       "3        Cncmaster           BDD    1    1  2013 2013-04-20 00:11:00   \n",
       "4       Miniapolis           BDD    1    1  2013 2013-04-20 00:56:00   \n",
       "...            ...           ...  ...  ...   ...                 ...   \n",
       "198270         172  Vancouverguy    1    1  2003 2003-09-02 02:51:00   \n",
       "198271      Angela   WhisperToMe    1    1  2003 2003-11-26 23:45:00   \n",
       "198272       Jiang   WhisperToMe    1    1  2003                 NaT   \n",
       "198273     Pakaran   WhisperToMe    1    1  2003 2003-12-05 05:38:00   \n",
       "198274    Jimregan       Zanimum    1    1  2003                 NaT   \n",
       "\n",
       "                                                      TXT  ELECTION_ID  \n",
       "0                                '''Support''' as co-nom.            1  \n",
       "1                           '''Support''' as nominator.--            1  \n",
       "2                                 '''Support''' per noms.            1  \n",
       "3       '''Support''' per noms. BDD is a strong contri...            1  \n",
       "4       '''Support''', with great pleasure. I work wit...            1  \n",
       "...                                                   ...          ...  \n",
       "198270                                            Support         3926  \n",
       "198271                                           Support.         3927  \n",
       "198272                                        Support. --         3927  \n",
       "198273  Support.  Age has nothing to do with maturity....         3927  \n",
       "198274  Support - anyone who can write so much, and so...         3928  \n",
       "\n",
       "[198275 rows x 8 columns]"
      ]
     },
     "metadata": {},
     "output_type": "display_data"
    }
   ],
   "source": [
    "display(wiki_df)"
   ]
  },
  {
   "cell_type": "markdown",
   "id": "03595e94-a4bf-4e6d-aaff-6e51ba29b3ac",
   "metadata": {},
   "source": [
    "We have given consecutive rows with the same \"TGT\" value the same ELECTION_ID value, however, we have not yet verified if there are instances where non-consecutive rows with the same \"TGT\" value belong to the the same election. To identify this, we will group by ELECTION_ID values and look at groups that have less than 5 voters, as this might signify that there is a problem with the grouping, we will then analyze some of these occurences to see if we can draw any conclusions from them."
   ]
  },
  {
   "cell_type": "code",
   "execution_count": 44,
   "id": "927afdad-37f5-4aee-9d27-55bac91af4ea",
   "metadata": {
    "tags": []
   },
   "outputs": [
    {
     "data": {
      "text/plain": [
       "ELECTION_ID\n",
       "70      3\n",
       "71      5\n",
       "117     2\n",
       "125     4\n",
       "127     3\n",
       "       ..\n",
       "3924    5\n",
       "3925    3\n",
       "3926    3\n",
       "3927    3\n",
       "3928    1\n",
       "Length: 335, dtype: int64"
      ]
     },
     "execution_count": 44,
     "metadata": {},
     "output_type": "execute_result"
    }
   ],
   "source": [
    "grouped_elections = wiki_df.groupby('ELECTION_ID').size()\n",
    "grouped_elections[grouped_elections <= 5]"
   ]
  },
  {
   "cell_type": "markdown",
   "id": "56bbefcd-b935-4fd3-bf5b-dae37f626908",
   "metadata": {},
   "source": [
    "Let's take the election with id 70 and see why it has so little voters. We will look at the rows with that Election_ID, and then we will look at all rows with that election 'TGT' to see if we are missing some votes."
   ]
  },
  {
   "cell_type": "code",
   "execution_count": 45,
   "id": "74372aee-85f7-4321-a6ca-41c8a1ef0be8",
   "metadata": {
    "tags": []
   },
   "outputs": [
    {
     "data": {
      "text/html": [
       "<div>\n",
       "<style scoped>\n",
       "    .dataframe tbody tr th:only-of-type {\n",
       "        vertical-align: middle;\n",
       "    }\n",
       "\n",
       "    .dataframe tbody tr th {\n",
       "        vertical-align: top;\n",
       "    }\n",
       "\n",
       "    .dataframe thead th {\n",
       "        text-align: right;\n",
       "    }\n",
       "</style>\n",
       "<table border=\"1\" class=\"dataframe\">\n",
       "  <thead>\n",
       "    <tr style=\"text-align: right;\">\n",
       "      <th></th>\n",
       "      <th>SRC</th>\n",
       "      <th>TGT</th>\n",
       "      <th>VOT</th>\n",
       "      <th>RES</th>\n",
       "      <th>YEA</th>\n",
       "      <th>DAT</th>\n",
       "      <th>TXT</th>\n",
       "      <th>ELECTION_ID</th>\n",
       "    </tr>\n",
       "  </thead>\n",
       "  <tbody>\n",
       "    <tr>\n",
       "      <th>7329</th>\n",
       "      <td>Cyberpower678</td>\n",
       "      <td>Baseballrocks538</td>\n",
       "      <td>-1</td>\n",
       "      <td>0</td>\n",
       "      <td>2012</td>\n",
       "      <td>2012-03-06 23:15:00</td>\n",
       "      <td>'''Strongest Oppose''' This user clearly does ...</td>\n",
       "      <td>70</td>\n",
       "    </tr>\n",
       "    <tr>\n",
       "      <th>7330</th>\n",
       "      <td>Eagles247</td>\n",
       "      <td>Baseballrocks538</td>\n",
       "      <td>-1</td>\n",
       "      <td>0</td>\n",
       "      <td>2012</td>\n",
       "      <td>2012-03-06 23:16:00</td>\n",
       "      <td>'''Oppose''' per warnings on user's talk page....</td>\n",
       "      <td>70</td>\n",
       "    </tr>\n",
       "    <tr>\n",
       "      <th>7331</th>\n",
       "      <td>SarekOfVulcan</td>\n",
       "      <td>Baseballrocks538</td>\n",
       "      <td>-1</td>\n",
       "      <td>0</td>\n",
       "      <td>2012</td>\n",
       "      <td>2012-03-06 23:17:00</td>\n",
       "      <td>Sorry, but [[WP:NOTYET]]. You need a lot more ...</td>\n",
       "      <td>70</td>\n",
       "    </tr>\n",
       "  </tbody>\n",
       "</table>\n",
       "</div>"
      ],
      "text/plain": [
       "                SRC               TGT  VOT  RES   YEA                 DAT  \\\n",
       "7329  Cyberpower678  Baseballrocks538   -1    0  2012 2012-03-06 23:15:00   \n",
       "7330      Eagles247  Baseballrocks538   -1    0  2012 2012-03-06 23:16:00   \n",
       "7331  SarekOfVulcan  Baseballrocks538   -1    0  2012 2012-03-06 23:17:00   \n",
       "\n",
       "                                                    TXT  ELECTION_ID  \n",
       "7329  '''Strongest Oppose''' This user clearly does ...           70  \n",
       "7330  '''Oppose''' per warnings on user's talk page....           70  \n",
       "7331  Sorry, but [[WP:NOTYET]]. You need a lot more ...           70  "
      ]
     },
     "execution_count": 45,
     "metadata": {},
     "output_type": "execute_result"
    }
   ],
   "source": [
    "wiki_df[wiki_df['ELECTION_ID'] == 70]"
   ]
  },
  {
   "cell_type": "code",
   "execution_count": 46,
   "id": "df7691cc-aa54-40ab-892f-da75f8994458",
   "metadata": {
    "tags": []
   },
   "outputs": [
    {
     "data": {
      "text/html": [
       "<div>\n",
       "<style scoped>\n",
       "    .dataframe tbody tr th:only-of-type {\n",
       "        vertical-align: middle;\n",
       "    }\n",
       "\n",
       "    .dataframe tbody tr th {\n",
       "        vertical-align: top;\n",
       "    }\n",
       "\n",
       "    .dataframe thead th {\n",
       "        text-align: right;\n",
       "    }\n",
       "</style>\n",
       "<table border=\"1\" class=\"dataframe\">\n",
       "  <thead>\n",
       "    <tr style=\"text-align: right;\">\n",
       "      <th></th>\n",
       "      <th>SRC</th>\n",
       "      <th>TGT</th>\n",
       "      <th>VOT</th>\n",
       "      <th>RES</th>\n",
       "      <th>YEA</th>\n",
       "      <th>DAT</th>\n",
       "      <th>TXT</th>\n",
       "      <th>ELECTION_ID</th>\n",
       "    </tr>\n",
       "  </thead>\n",
       "  <tbody>\n",
       "    <tr>\n",
       "      <th>7329</th>\n",
       "      <td>Cyberpower678</td>\n",
       "      <td>Baseballrocks538</td>\n",
       "      <td>-1</td>\n",
       "      <td>0</td>\n",
       "      <td>2012</td>\n",
       "      <td>2012-03-06 23:15:00</td>\n",
       "      <td>'''Strongest Oppose''' This user clearly does ...</td>\n",
       "      <td>70</td>\n",
       "    </tr>\n",
       "    <tr>\n",
       "      <th>7330</th>\n",
       "      <td>Eagles247</td>\n",
       "      <td>Baseballrocks538</td>\n",
       "      <td>-1</td>\n",
       "      <td>0</td>\n",
       "      <td>2012</td>\n",
       "      <td>2012-03-06 23:16:00</td>\n",
       "      <td>'''Oppose''' per warnings on user's talk page....</td>\n",
       "      <td>70</td>\n",
       "    </tr>\n",
       "    <tr>\n",
       "      <th>7331</th>\n",
       "      <td>SarekOfVulcan</td>\n",
       "      <td>Baseballrocks538</td>\n",
       "      <td>-1</td>\n",
       "      <td>0</td>\n",
       "      <td>2012</td>\n",
       "      <td>2012-03-06 23:17:00</td>\n",
       "      <td>Sorry, but [[WP:NOTYET]]. You need a lot more ...</td>\n",
       "      <td>70</td>\n",
       "    </tr>\n",
       "  </tbody>\n",
       "</table>\n",
       "</div>"
      ],
      "text/plain": [
       "                SRC               TGT  VOT  RES   YEA                 DAT  \\\n",
       "7329  Cyberpower678  Baseballrocks538   -1    0  2012 2012-03-06 23:15:00   \n",
       "7330      Eagles247  Baseballrocks538   -1    0  2012 2012-03-06 23:16:00   \n",
       "7331  SarekOfVulcan  Baseballrocks538   -1    0  2012 2012-03-06 23:17:00   \n",
       "\n",
       "                                                    TXT  ELECTION_ID  \n",
       "7329  '''Strongest Oppose''' This user clearly does ...           70  \n",
       "7330  '''Oppose''' per warnings on user's talk page....           70  \n",
       "7331  Sorry, but [[WP:NOTYET]]. You need a lot more ...           70  "
      ]
     },
     "execution_count": 46,
     "metadata": {},
     "output_type": "execute_result"
    }
   ],
   "source": [
    "wiki_df[wiki_df['TGT'] == 'Baseballrocks538']"
   ]
  },
  {
   "cell_type": "markdown",
   "id": "dcd006ed-df9e-4e6c-90d7-bd06cec85bb5",
   "metadata": {},
   "source": [
    "As we can see, it seems that the \"Baseballrocks538\" has indeed only received three votes, and that it doesn't come from a problem in our grouping.\n",
    "\n",
    "Let's take an occurence where a same TGT corresponds to more than one ELECTION_ID, and analyse the two election groups."
   ]
  },
  {
   "cell_type": "code",
   "execution_count": 47,
   "id": "338764b7-85c5-4d31-995d-5b738f5ffbab",
   "metadata": {
    "tags": []
   },
   "outputs": [],
   "source": [
    "# We count the number of ELECTION_ID each 'TGT' belongs to\n",
    "unique_election_id_counts = wiki_df.groupby('TGT')['ELECTION_ID'].nunique()"
   ]
  },
  {
   "cell_type": "code",
   "execution_count": 48,
   "id": "053f5999-efe2-4af9-a6b5-1dbdc933e551",
   "metadata": {
    "tags": []
   },
   "outputs": [
    {
     "data": {
      "text/plain": [
       "TGT\n",
       "Carnildo             3\n",
       "Cobi                 3\n",
       "Cool3                3\n",
       "Curtis23             3\n",
       "Elonka               3\n",
       "Enigmaman            3\n",
       "Everyking            6\n",
       "Firefoxman           3\n",
       "Footballfan190       3\n",
       "Geni                 3\n",
       "Guanaco              4\n",
       "HJ Mitchell          3\n",
       "Hex                  3\n",
       "Ironholds            4\n",
       "Juliancolton         3\n",
       "Ktr101               4\n",
       "Kww                  3\n",
       "Leonard^Bloom        3\n",
       "MONGO                3\n",
       "MZMcBride            4\n",
       "MoRsE                3\n",
       "Porchcrop            3\n",
       "Richardcavell        3\n",
       "Robchurch            3\n",
       "ST47                 3\n",
       "Sceptre              3\n",
       "Shoessss             3\n",
       "Slon02               3\n",
       "TenPoundHammer       3\n",
       "The Transhumanist    4\n",
       "Thumperward          3\n",
       "Werdna               3\n",
       "Wikiwoohoo           4\n",
       "ZooPro               3\n",
       "^demon               3\n",
       "Name: ELECTION_ID, dtype: int64"
      ]
     },
     "execution_count": 48,
     "metadata": {},
     "output_type": "execute_result"
    }
   ],
   "source": [
    "unique_election_id_counts[unique_election_id_counts > 2]"
   ]
  },
  {
   "cell_type": "markdown",
   "id": "19569f0f-d861-4197-8b57-82ddf4edb90b",
   "metadata": {
    "tags": []
   },
   "source": [
    "Let's take the user 'Carnildo' for instance and look at the different election groups to which he belongs."
   ]
  },
  {
   "cell_type": "code",
   "execution_count": 49,
   "id": "21dad35a-4f1b-40ac-ac33-61b4fbc4cc37",
   "metadata": {
    "tags": []
   },
   "outputs": [
    {
     "data": {
      "text/plain": [
       "array([2239, 2608, 3064], dtype=int64)"
      ]
     },
     "execution_count": 49,
     "metadata": {},
     "output_type": "execute_result"
    }
   ],
   "source": [
    "carnildo_df = wiki_df[(wiki_df['TGT'] == 'Carnildo')]\n",
    "carnildo_df['ELECTION_ID'].unique()"
   ]
  },
  {
   "cell_type": "code",
   "execution_count": 50,
   "id": "9cd4b6aa-f94d-49b3-88cd-3478b8ff8dc6",
   "metadata": {
    "tags": []
   },
   "outputs": [
    {
     "data": {
      "text/html": [
       "<div>\n",
       "<style scoped>\n",
       "    .dataframe tbody tr th:only-of-type {\n",
       "        vertical-align: middle;\n",
       "    }\n",
       "\n",
       "    .dataframe tbody tr th {\n",
       "        vertical-align: top;\n",
       "    }\n",
       "\n",
       "    .dataframe thead th {\n",
       "        text-align: right;\n",
       "    }\n",
       "</style>\n",
       "<table border=\"1\" class=\"dataframe\">\n",
       "  <thead>\n",
       "    <tr style=\"text-align: right;\">\n",
       "      <th></th>\n",
       "      <th>SRC</th>\n",
       "      <th>TGT</th>\n",
       "      <th>VOT</th>\n",
       "      <th>RES</th>\n",
       "      <th>YEA</th>\n",
       "      <th>DAT</th>\n",
       "      <th>TXT</th>\n",
       "      <th>ELECTION_ID</th>\n",
       "    </tr>\n",
       "  </thead>\n",
       "  <tbody>\n",
       "    <tr>\n",
       "      <th>129888</th>\n",
       "      <td>UninvitedCompany</td>\n",
       "      <td>Carnildo</td>\n",
       "      <td>1</td>\n",
       "      <td>1</td>\n",
       "      <td>2006</td>\n",
       "      <td>2006-08-18 22:48:00</td>\n",
       "      <td></td>\n",
       "      <td>2239</td>\n",
       "    </tr>\n",
       "    <tr>\n",
       "      <th>129889</th>\n",
       "      <td>Chacor</td>\n",
       "      <td>Carnildo</td>\n",
       "      <td>1</td>\n",
       "      <td>1</td>\n",
       "      <td>2006</td>\n",
       "      <td>2006-08-29 03:05:00</td>\n",
       "      <td>This is bound to be a controversial RFA, but e...</td>\n",
       "      <td>2239</td>\n",
       "    </tr>\n",
       "    <tr>\n",
       "      <th>129890</th>\n",
       "      <td>crazytales56297</td>\n",
       "      <td>Carnildo</td>\n",
       "      <td>1</td>\n",
       "      <td>1</td>\n",
       "      <td>2006</td>\n",
       "      <td>2006-08-29 03:07:00</td>\n",
       "      <td>'''Support''' per Chacor. &lt;!--begin crazytales...</td>\n",
       "      <td>2239</td>\n",
       "    </tr>\n",
       "    <tr>\n",
       "      <th>129891</th>\n",
       "      <td>Sean Black</td>\n",
       "      <td>Carnildo</td>\n",
       "      <td>1</td>\n",
       "      <td>1</td>\n",
       "      <td>2006</td>\n",
       "      <td>2006-08-29 03:09:00</td>\n",
       "      <td>--[[Special:Contributions/Sean Black|SB]] |</td>\n",
       "      <td>2239</td>\n",
       "    </tr>\n",
       "    <tr>\n",
       "      <th>129892</th>\n",
       "      <td>Mindspillage</td>\n",
       "      <td>Carnildo</td>\n",
       "      <td>1</td>\n",
       "      <td>1</td>\n",
       "      <td>2006</td>\n",
       "      <td>2006-08-29 03:20:00</td>\n",
       "      <td>'''Support'''. I believe the incident for whic...</td>\n",
       "      <td>2239</td>\n",
       "    </tr>\n",
       "  </tbody>\n",
       "</table>\n",
       "</div>"
      ],
      "text/plain": [
       "                     SRC       TGT  VOT  RES   YEA                 DAT  \\\n",
       "129888  UninvitedCompany  Carnildo    1    1  2006 2006-08-18 22:48:00   \n",
       "129889            Chacor  Carnildo    1    1  2006 2006-08-29 03:05:00   \n",
       "129890   crazytales56297  Carnildo    1    1  2006 2006-08-29 03:07:00   \n",
       "129891        Sean Black  Carnildo    1    1  2006 2006-08-29 03:09:00   \n",
       "129892      Mindspillage  Carnildo    1    1  2006 2006-08-29 03:20:00   \n",
       "\n",
       "                                                      TXT  ELECTION_ID  \n",
       "129888                                                            2239  \n",
       "129889  This is bound to be a controversial RFA, but e...         2239  \n",
       "129890  '''Support''' per Chacor. <!--begin crazytales...         2239  \n",
       "129891        --[[Special:Contributions/Sean Black|SB]] |         2239  \n",
       "129892  '''Support'''. I believe the incident for whic...         2239  "
      ]
     },
     "execution_count": 50,
     "metadata": {},
     "output_type": "execute_result"
    }
   ],
   "source": [
    "carnildo_df[carnildo_df['ELECTION_ID'] == 2239].head(5)"
   ]
  },
  {
   "cell_type": "code",
   "execution_count": 51,
   "id": "0134a3d4-2a11-4530-828e-0d51d3c177e6",
   "metadata": {
    "tags": []
   },
   "outputs": [
    {
     "data": {
      "text/html": [
       "<div>\n",
       "<style scoped>\n",
       "    .dataframe tbody tr th:only-of-type {\n",
       "        vertical-align: middle;\n",
       "    }\n",
       "\n",
       "    .dataframe tbody tr th {\n",
       "        vertical-align: top;\n",
       "    }\n",
       "\n",
       "    .dataframe thead th {\n",
       "        text-align: right;\n",
       "    }\n",
       "</style>\n",
       "<table border=\"1\" class=\"dataframe\">\n",
       "  <thead>\n",
       "    <tr style=\"text-align: right;\">\n",
       "      <th></th>\n",
       "      <th>SRC</th>\n",
       "      <th>TGT</th>\n",
       "      <th>VOT</th>\n",
       "      <th>RES</th>\n",
       "      <th>YEA</th>\n",
       "      <th>DAT</th>\n",
       "      <th>TXT</th>\n",
       "      <th>ELECTION_ID</th>\n",
       "    </tr>\n",
       "  </thead>\n",
       "  <tbody>\n",
       "    <tr>\n",
       "      <th>155749</th>\n",
       "      <td>Jahiegel</td>\n",
       "      <td>Carnildo</td>\n",
       "      <td>1</td>\n",
       "      <td>0</td>\n",
       "      <td>2006</td>\n",
       "      <td>2006-03-20 21:36:00</td>\n",
       "      <td>I've been waiting for Carnildo to accept and a...</td>\n",
       "      <td>2608</td>\n",
       "    </tr>\n",
       "    <tr>\n",
       "      <th>155750</th>\n",
       "      <td>RN</td>\n",
       "      <td>Carnildo</td>\n",
       "      <td>1</td>\n",
       "      <td>0</td>\n",
       "      <td>2006</td>\n",
       "      <td>2006-03-20 22:06:00</td>\n",
       "      <td>[[Image:Symbol support vote.svg|15px]] '''Supp...</td>\n",
       "      <td>2608</td>\n",
       "    </tr>\n",
       "    <tr>\n",
       "      <th>155751</th>\n",
       "      <td>BD2412</td>\n",
       "      <td>Carnildo</td>\n",
       "      <td>1</td>\n",
       "      <td>0</td>\n",
       "      <td>2006</td>\n",
       "      <td>2006-03-20 22:11:00</td>\n",
       "      <td>''NEVER!!!'' Oh, wait, this is ''[[User:Carnil...</td>\n",
       "      <td>2608</td>\n",
       "    </tr>\n",
       "    <tr>\n",
       "      <th>155752</th>\n",
       "      <td>Rune.welsh</td>\n",
       "      <td>Carnildo</td>\n",
       "      <td>1</td>\n",
       "      <td>0</td>\n",
       "      <td>2006</td>\n",
       "      <td>2006-03-20 22:28:00</td>\n",
       "      <td>'''Strong support'''. His work regarding image...</td>\n",
       "      <td>2608</td>\n",
       "    </tr>\n",
       "    <tr>\n",
       "      <th>155753</th>\n",
       "      <td>Alhutch</td>\n",
       "      <td>Carnildo</td>\n",
       "      <td>1</td>\n",
       "      <td>0</td>\n",
       "      <td>2006</td>\n",
       "      <td>2006-03-20 22:43:00</td>\n",
       "      <td>'''Support''' per Rune. good user.--</td>\n",
       "      <td>2608</td>\n",
       "    </tr>\n",
       "  </tbody>\n",
       "</table>\n",
       "</div>"
      ],
      "text/plain": [
       "               SRC       TGT  VOT  RES   YEA                 DAT  \\\n",
       "155749    Jahiegel  Carnildo    1    0  2006 2006-03-20 21:36:00   \n",
       "155750          RN  Carnildo    1    0  2006 2006-03-20 22:06:00   \n",
       "155751      BD2412  Carnildo    1    0  2006 2006-03-20 22:11:00   \n",
       "155752  Rune.welsh  Carnildo    1    0  2006 2006-03-20 22:28:00   \n",
       "155753     Alhutch  Carnildo    1    0  2006 2006-03-20 22:43:00   \n",
       "\n",
       "                                                      TXT  ELECTION_ID  \n",
       "155749  I've been waiting for Carnildo to accept and a...         2608  \n",
       "155750  [[Image:Symbol support vote.svg|15px]] '''Supp...         2608  \n",
       "155751  ''NEVER!!!'' Oh, wait, this is ''[[User:Carnil...         2608  \n",
       "155752  '''Strong support'''. His work regarding image...         2608  \n",
       "155753               '''Support''' per Rune. good user.--         2608  "
      ]
     },
     "execution_count": 51,
     "metadata": {},
     "output_type": "execute_result"
    }
   ],
   "source": [
    "carnildo_df[carnildo_df['ELECTION_ID'] == 2608].head(5)"
   ]
  },
  {
   "cell_type": "code",
   "execution_count": 52,
   "id": "e38825cf-b789-4067-8b00-177ba7a6b2d1",
   "metadata": {
    "tags": []
   },
   "outputs": [
    {
     "data": {
      "text/html": [
       "<div>\n",
       "<style scoped>\n",
       "    .dataframe tbody tr th:only-of-type {\n",
       "        vertical-align: middle;\n",
       "    }\n",
       "\n",
       "    .dataframe tbody tr th {\n",
       "        vertical-align: top;\n",
       "    }\n",
       "\n",
       "    .dataframe thead th {\n",
       "        text-align: right;\n",
       "    }\n",
       "</style>\n",
       "<table border=\"1\" class=\"dataframe\">\n",
       "  <thead>\n",
       "    <tr style=\"text-align: right;\">\n",
       "      <th></th>\n",
       "      <th>SRC</th>\n",
       "      <th>TGT</th>\n",
       "      <th>VOT</th>\n",
       "      <th>RES</th>\n",
       "      <th>YEA</th>\n",
       "      <th>DAT</th>\n",
       "      <th>TXT</th>\n",
       "      <th>ELECTION_ID</th>\n",
       "    </tr>\n",
       "  </thead>\n",
       "  <tbody>\n",
       "    <tr>\n",
       "      <th>173443</th>\n",
       "      <td>Redwolf24</td>\n",
       "      <td>Carnildo</td>\n",
       "      <td>1</td>\n",
       "      <td>1</td>\n",
       "      <td>2005</td>\n",
       "      <td>2005-08-13 01:34:00</td>\n",
       "      <td>&lt;font size=\"+2\"&gt;SUPPORT!&lt;/font&gt;</td>\n",
       "      <td>3064</td>\n",
       "    </tr>\n",
       "    <tr>\n",
       "      <th>173444</th>\n",
       "      <td>Starblind</td>\n",
       "      <td>Carnildo</td>\n",
       "      <td>1</td>\n",
       "      <td>1</td>\n",
       "      <td>2005</td>\n",
       "      <td>NaT</td>\n",
       "      <td>'''Strong Support''' Excellent editor, strong ...</td>\n",
       "      <td>3064</td>\n",
       "    </tr>\n",
       "    <tr>\n",
       "      <th>173445</th>\n",
       "      <td>RN</td>\n",
       "      <td>Carnildo</td>\n",
       "      <td>1</td>\n",
       "      <td>1</td>\n",
       "      <td>2005</td>\n",
       "      <td>2005-08-13 03:57:00</td>\n",
       "      <td>'''Strong Support''' He can be a bit confrenta...</td>\n",
       "      <td>3064</td>\n",
       "    </tr>\n",
       "    <tr>\n",
       "      <th>173446</th>\n",
       "      <td>Denelson83</td>\n",
       "      <td>Carnildo</td>\n",
       "      <td>1</td>\n",
       "      <td>1</td>\n",
       "      <td>2005</td>\n",
       "      <td>2005-08-13 06:06:00</td>\n",
       "      <td>'''Support!''' Support! Support! &lt;span style=\"...</td>\n",
       "      <td>3064</td>\n",
       "    </tr>\n",
       "    <tr>\n",
       "      <th>173447</th>\n",
       "      <td>Merovingian</td>\n",
       "      <td>Carnildo</td>\n",
       "      <td>1</td>\n",
       "      <td>1</td>\n",
       "      <td>2005</td>\n",
       "      <td>NaT</td>\n",
       "      <td></td>\n",
       "      <td>3064</td>\n",
       "    </tr>\n",
       "  </tbody>\n",
       "</table>\n",
       "</div>"
      ],
      "text/plain": [
       "                SRC       TGT  VOT  RES   YEA                 DAT  \\\n",
       "173443    Redwolf24  Carnildo    1    1  2005 2005-08-13 01:34:00   \n",
       "173444    Starblind  Carnildo    1    1  2005                 NaT   \n",
       "173445           RN  Carnildo    1    1  2005 2005-08-13 03:57:00   \n",
       "173446   Denelson83  Carnildo    1    1  2005 2005-08-13 06:06:00   \n",
       "173447  Merovingian  Carnildo    1    1  2005                 NaT   \n",
       "\n",
       "                                                      TXT  ELECTION_ID  \n",
       "173443                    <font size=\"+2\">SUPPORT!</font>         3064  \n",
       "173444  '''Strong Support''' Excellent editor, strong ...         3064  \n",
       "173445  '''Strong Support''' He can be a bit confrenta...         3064  \n",
       "173446  '''Support!''' Support! Support! <span style=\"...         3064  \n",
       "173447                                                            3064  "
      ]
     },
     "execution_count": 52,
     "metadata": {},
     "output_type": "execute_result"
    }
   ],
   "source": [
    "carnildo_df[carnildo_df['ELECTION_ID'] == 3064].head(5)"
   ]
  },
  {
   "cell_type": "markdown",
   "id": "4fb0c395-8b33-4a50-a1c4-371f9b92616f",
   "metadata": {},
   "source": [
    "As we can see, the different ELECTION_ID correspond indeed to different elections.\n",
    "\n",
    "We can also notice that a candidate can run for elections multiple times, even in the same year, which is why it is important to group elections in the order they appear in rather than taking the \"YEA\" column value for instance. Moreover, we notice that a candidate can run another time, even after winning an election, which is an odd occurence as adminship is supposed to be a definitive status, so how can it be that someone can run for adminship again, even after supposedly being elected the first time.\n",
    "\n",
    "Let's see how many times that occur. We first group by elections, and then group by candidate, summing the results of the election. If the value is greater than 1, than means the candidate has won more than 1 election."
   ]
  },
  {
   "cell_type": "code",
   "execution_count": 53,
   "id": "ee657e1e-6b79-4a36-8bf8-c1bd415f3d20",
   "metadata": {
    "tags": []
   },
   "outputs": [],
   "source": [
    "# Step 1 : Grouping the elections\n",
    "grouped_elections = wiki_df[['ELECTION_ID', 'RES', 'TGT']].drop_duplicates()\n",
    "# Step 2 : Summing the 'RES' values\n",
    "won_elections = grouped_elections.groupby('TGT')['RES'].sum()"
   ]
  },
  {
   "cell_type": "code",
   "execution_count": 54,
   "id": "7bd10d37-638e-4aff-9f86-662cd3835836",
   "metadata": {
    "tags": []
   },
   "outputs": [
    {
     "name": "stdout",
     "output_type": "stream",
     "text": [
      "Number of candidates having won more than one election: 18\n",
      "\n"
     ]
    },
    {
     "data": {
      "text/plain": [
       "TGT\n",
       "Carnildo           2\n",
       "Croat Canuck       2\n",
       "Danny              2\n",
       "Evercat            2\n",
       "Everyking          2\n",
       "Geni               2\n",
       "Guanaco            2\n",
       "HJ Mitchell        2\n",
       "MZMcBride          2\n",
       "Nev1               2\n",
       "PMelvilleAustin    2\n",
       "PeterSymonds       2\n",
       "SarekOfVulcan      2\n",
       "Sarge Baldy        2\n",
       "Sean Black         2\n",
       "Ugen64             2\n",
       "W.marsh            2\n",
       "^demon             2\n",
       "Name: RES, dtype: int64"
      ]
     },
     "metadata": {},
     "output_type": "display_data"
    }
   ],
   "source": [
    "print(f'Number of candidates having won more than one election: {len(won_elections[won_elections > 1])}\\n')\n",
    "display(won_elections[won_elections > 1])"
   ]
  },
  {
   "cell_type": "markdown",
   "id": "3073a86c-fbd9-497a-88cb-28865dd2d817",
   "metadata": {},
   "source": [
    "As we can see, there are 18 candidates who have one more than one election (precisely, two elections).\n",
    "\n",
    "A quick look at Carnildo's history, shows us that he has been 'resysopped', meaning reelected (cf: https://en.wikipedia.org/wiki/Wikipedia:Wikipedia_Signpost/2006-09-11/Carnildo_resysopped), which explains the fact that he has won two elections.\n",
    "\n",
    "In fact, we can all the candidates in the list were reelected as well, as their names can be found in Wikipedia's list of resysopped users: \"https://en.wikipedia.org/wiki/Wikipedia:List_of_resysopped_users \"."
   ]
  },
  {
   "cell_type": "markdown",
   "id": "45394085-eabd-4b8c-9542-479efbdfdea2",
   "metadata": {},
   "source": [
    "###### Election Analysis"
   ]
  },
  {
   "cell_type": "markdown",
   "id": "4d22dd31-d268-4ea4-a386-2f46a0ced9ec",
   "metadata": {
    "tags": []
   },
   "source": [
    "Now that we have successfully identified distinct elections, let's look at some statistics about the elections. First, let's group the elections, counting the number and the percentage of positive, negative and neutral votes."
   ]
  },
  {
   "cell_type": "code",
   "execution_count": 55,
   "id": "63a3cf20-9db7-4f18-97d7-1b9e94fb6874",
   "metadata": {
    "tags": []
   },
   "outputs": [],
   "source": [
    "elections_df = wiki_df.groupby(['ELECTION_ID', 'TGT', 'RES', 'YEA']).agg(\n",
    "    positive_votes=('VOT', lambda x: (x == 1).sum()),\n",
    "    neutral_votes=('VOT', lambda x: (x == 0).sum()),\n",
    "    negative_votes=('VOT', lambda x: (x == -1).sum()),\n",
    "    total_votes=('VOT', 'count'),\n",
    ").reset_index()\n",
    "\n",
    "elections_df['positive_percentage'] = (elections_df['positive_votes'] / elections_df['total_votes']) * 100\n",
    "elections_df['neutral_percentage'] = (elections_df['neutral_votes'] / elections_df['total_votes']) * 100\n",
    "elections_df['negative_percentage'] = (elections_df['negative_votes'] / elections_df['total_votes']) * 100"
   ]
  },
  {
   "cell_type": "code",
   "execution_count": 56,
   "id": "f102d382-c7f8-4d5e-a4d7-ac21904cb141",
   "metadata": {
    "tags": []
   },
   "outputs": [
    {
     "data": {
      "text/html": [
       "<div>\n",
       "<style scoped>\n",
       "    .dataframe tbody tr th:only-of-type {\n",
       "        vertical-align: middle;\n",
       "    }\n",
       "\n",
       "    .dataframe tbody tr th {\n",
       "        vertical-align: top;\n",
       "    }\n",
       "\n",
       "    .dataframe thead th {\n",
       "        text-align: right;\n",
       "    }\n",
       "</style>\n",
       "<table border=\"1\" class=\"dataframe\">\n",
       "  <thead>\n",
       "    <tr style=\"text-align: right;\">\n",
       "      <th></th>\n",
       "      <th>ELECTION_ID</th>\n",
       "      <th>TGT</th>\n",
       "      <th>RES</th>\n",
       "      <th>YEA</th>\n",
       "      <th>positive_votes</th>\n",
       "      <th>neutral_votes</th>\n",
       "      <th>negative_votes</th>\n",
       "      <th>total_votes</th>\n",
       "      <th>positive_percentage</th>\n",
       "      <th>neutral_percentage</th>\n",
       "      <th>negative_percentage</th>\n",
       "    </tr>\n",
       "  </thead>\n",
       "  <tbody>\n",
       "    <tr>\n",
       "      <th>0</th>\n",
       "      <td>1</td>\n",
       "      <td>BDD</td>\n",
       "      <td>1</td>\n",
       "      <td>2013</td>\n",
       "      <td>119</td>\n",
       "      <td>4</td>\n",
       "      <td>14</td>\n",
       "      <td>137</td>\n",
       "      <td>86.861314</td>\n",
       "      <td>2.919708</td>\n",
       "      <td>10.218978</td>\n",
       "    </tr>\n",
       "    <tr>\n",
       "      <th>1</th>\n",
       "      <td>2</td>\n",
       "      <td>Bilby</td>\n",
       "      <td>1</td>\n",
       "      <td>2013</td>\n",
       "      <td>134</td>\n",
       "      <td>1</td>\n",
       "      <td>2</td>\n",
       "      <td>137</td>\n",
       "      <td>97.810219</td>\n",
       "      <td>0.729927</td>\n",
       "      <td>1.459854</td>\n",
       "    </tr>\n",
       "    <tr>\n",
       "      <th>2</th>\n",
       "      <td>3</td>\n",
       "      <td>Darkwind</td>\n",
       "      <td>1</td>\n",
       "      <td>2013</td>\n",
       "      <td>108</td>\n",
       "      <td>8</td>\n",
       "      <td>30</td>\n",
       "      <td>146</td>\n",
       "      <td>73.972603</td>\n",
       "      <td>5.479452</td>\n",
       "      <td>20.547945</td>\n",
       "    </tr>\n",
       "    <tr>\n",
       "      <th>3</th>\n",
       "      <td>4</td>\n",
       "      <td>INeverCry</td>\n",
       "      <td>1</td>\n",
       "      <td>2013</td>\n",
       "      <td>101</td>\n",
       "      <td>1</td>\n",
       "      <td>8</td>\n",
       "      <td>110</td>\n",
       "      <td>91.818182</td>\n",
       "      <td>0.909091</td>\n",
       "      <td>7.272727</td>\n",
       "    </tr>\n",
       "    <tr>\n",
       "      <th>4</th>\n",
       "      <td>5</td>\n",
       "      <td>Jason Quinn</td>\n",
       "      <td>1</td>\n",
       "      <td>2013</td>\n",
       "      <td>138</td>\n",
       "      <td>16</td>\n",
       "      <td>29</td>\n",
       "      <td>183</td>\n",
       "      <td>75.409836</td>\n",
       "      <td>8.743169</td>\n",
       "      <td>15.846995</td>\n",
       "    </tr>\n",
       "    <tr>\n",
       "      <th>5</th>\n",
       "      <td>6</td>\n",
       "      <td>Legoktm</td>\n",
       "      <td>1</td>\n",
       "      <td>2013</td>\n",
       "      <td>149</td>\n",
       "      <td>4</td>\n",
       "      <td>3</td>\n",
       "      <td>156</td>\n",
       "      <td>95.512821</td>\n",
       "      <td>2.564103</td>\n",
       "      <td>1.923077</td>\n",
       "    </tr>\n",
       "    <tr>\n",
       "      <th>6</th>\n",
       "      <td>7</td>\n",
       "      <td>Lord Roem</td>\n",
       "      <td>1</td>\n",
       "      <td>2013</td>\n",
       "      <td>138</td>\n",
       "      <td>3</td>\n",
       "      <td>13</td>\n",
       "      <td>154</td>\n",
       "      <td>89.610390</td>\n",
       "      <td>1.948052</td>\n",
       "      <td>8.441558</td>\n",
       "    </tr>\n",
       "    <tr>\n",
       "      <th>7</th>\n",
       "      <td>8</td>\n",
       "      <td>Mattythewhite</td>\n",
       "      <td>1</td>\n",
       "      <td>2013</td>\n",
       "      <td>102</td>\n",
       "      <td>4</td>\n",
       "      <td>8</td>\n",
       "      <td>114</td>\n",
       "      <td>89.473684</td>\n",
       "      <td>3.508772</td>\n",
       "      <td>7.017544</td>\n",
       "    </tr>\n",
       "    <tr>\n",
       "      <th>8</th>\n",
       "      <td>9</td>\n",
       "      <td>Miniapolis</td>\n",
       "      <td>1</td>\n",
       "      <td>2013</td>\n",
       "      <td>84</td>\n",
       "      <td>7</td>\n",
       "      <td>24</td>\n",
       "      <td>115</td>\n",
       "      <td>73.043478</td>\n",
       "      <td>6.086957</td>\n",
       "      <td>20.869565</td>\n",
       "    </tr>\n",
       "    <tr>\n",
       "      <th>9</th>\n",
       "      <td>10</td>\n",
       "      <td>Mkdw</td>\n",
       "      <td>1</td>\n",
       "      <td>2013</td>\n",
       "      <td>104</td>\n",
       "      <td>2</td>\n",
       "      <td>1</td>\n",
       "      <td>107</td>\n",
       "      <td>97.196262</td>\n",
       "      <td>1.869159</td>\n",
       "      <td>0.934579</td>\n",
       "    </tr>\n",
       "  </tbody>\n",
       "</table>\n",
       "</div>"
      ],
      "text/plain": [
       "   ELECTION_ID            TGT  RES   YEA  positive_votes  neutral_votes  \\\n",
       "0            1            BDD    1  2013             119              4   \n",
       "1            2          Bilby    1  2013             134              1   \n",
       "2            3       Darkwind    1  2013             108              8   \n",
       "3            4      INeverCry    1  2013             101              1   \n",
       "4            5    Jason Quinn    1  2013             138             16   \n",
       "5            6        Legoktm    1  2013             149              4   \n",
       "6            7      Lord Roem    1  2013             138              3   \n",
       "7            8  Mattythewhite    1  2013             102              4   \n",
       "8            9     Miniapolis    1  2013              84              7   \n",
       "9           10           Mkdw    1  2013             104              2   \n",
       "\n",
       "   negative_votes  total_votes  positive_percentage  neutral_percentage  \\\n",
       "0              14          137            86.861314            2.919708   \n",
       "1               2          137            97.810219            0.729927   \n",
       "2              30          146            73.972603            5.479452   \n",
       "3               8          110            91.818182            0.909091   \n",
       "4              29          183            75.409836            8.743169   \n",
       "5               3          156            95.512821            2.564103   \n",
       "6              13          154            89.610390            1.948052   \n",
       "7               8          114            89.473684            3.508772   \n",
       "8              24          115            73.043478            6.086957   \n",
       "9               1          107            97.196262            1.869159   \n",
       "\n",
       "   negative_percentage  \n",
       "0            10.218978  \n",
       "1             1.459854  \n",
       "2            20.547945  \n",
       "3             7.272727  \n",
       "4            15.846995  \n",
       "5             1.923077  \n",
       "6             8.441558  \n",
       "7             7.017544  \n",
       "8            20.869565  \n",
       "9             0.934579  "
      ]
     },
     "execution_count": 56,
     "metadata": {},
     "output_type": "execute_result"
    }
   ],
   "source": [
    "elections_df.head(10)"
   ]
  },
  {
   "cell_type": "code",
   "execution_count": 57,
   "id": "be7c5d5c-0f1d-4420-ba13-b51ba3401a48",
   "metadata": {
    "tags": []
   },
   "outputs": [
    {
     "data": {
      "image/png": "[encoded data removed]",
      "text/plain": [
       "<Figure size 1200x800 with 1 Axes>"
      ]
     },
     "metadata": {},
     "output_type": "display_data"
    }
   ],
   "source": [
    "# Assuming 'total_votes', 'positive_percentage', and 'RES' are the columns in elections_df\n",
    "plt.figure(figsize=(12, 8))\n",
    "\n",
    "# Scatter plot with points colored by the percentage of positive votes\n",
    "scatter = sns.scatterplot(x='total_votes', y='positive_percentage', hue='RES', data=elections_df, palette={0: 'red', 1: 'green'}, s=15, alpha=0.6)\n",
    "\n",
    "plt.axhspan(75, 105, color='green', alpha=0.2, label='Positive Votes > 75%')\n",
    "plt.axhspan(-5, 75, color='red', alpha=0.2, label='Positive Votes <= 75%')\n",
    "\n",
    "plt.title('Scatter Plot by Total Votes and Percentage of Positive Votes')\n",
    "plt.xlabel('Number of Total Votes')\n",
    "plt.ylabel('Percentage of Positive Votes')\n",
    "plt.ylim(-5, 105)\n",
    "plt.xscale('log')\n",
    "plt.legend(title='Result of Election', loc='upper right', labels=['Not Elected', 'Elected'])\n",
    "\n",
    "# Adjust the legend\n",
    "handles, labels = scatter.get_legend_handles_labels()\n",
    "labels[0] = 'Not Elected'\n",
    "labels[1] = 'Elected'\n",
    "scatter.legend(handles, labels, title='Result of Election', loc='lower right')\n",
    "\n",
    "plt.show()"
   ]
  },
  {
   "cell_type": "markdown",
   "id": "b7c27fd4-4e03-4ec5-b393-3579cc7f48a3",
   "metadata": {},
   "source": [
    "The wikipedia article about RfA elections states : \"Consensus at RfA is not determined by surpassing a numerical threshold, but by the strength of rationales presented. In practice, most RfAs above 75% support pass.\" (https://en.wikipedia.org/wiki/Wikipedia:Requests_for_adminship).\n",
    "\n",
    "The treshold is indeed noticeable, however, the plot shows that it is a bit below 75%. We can also notice that there are some exceptions that have a very high positive votes percentage, yet end up not being elected, and vice-versa. Which echoes the fact that a certain percentage of votes is not a guarantee of a successful election. However, the opposite seems to be true, indeed, for the vast majority of cases, it seems that having less than 50% of positive votes is a guarantee of failing the election.\n",
    "\n",
    "Let's look at two points that particularly stand out in the plot : the one in the lower left corner, having 0% of positive votes yet being elected, and the red dot having a 100% of positive votes and being rejected."
   ]
  },
  {
   "cell_type": "code",
   "execution_count": 58,
   "id": "6551ffa9-4b15-43e5-8d94-be82389193a1",
   "metadata": {
    "tags": []
   },
   "outputs": [
    {
     "data": {
      "text/html": [
       "<div>\n",
       "<style scoped>\n",
       "    .dataframe tbody tr th:only-of-type {\n",
       "        vertical-align: middle;\n",
       "    }\n",
       "\n",
       "    .dataframe tbody tr th {\n",
       "        vertical-align: top;\n",
       "    }\n",
       "\n",
       "    .dataframe thead th {\n",
       "        text-align: right;\n",
       "    }\n",
       "</style>\n",
       "<table border=\"1\" class=\"dataframe\">\n",
       "  <thead>\n",
       "    <tr style=\"text-align: right;\">\n",
       "      <th></th>\n",
       "      <th>ELECTION_ID</th>\n",
       "      <th>TGT</th>\n",
       "      <th>RES</th>\n",
       "      <th>YEA</th>\n",
       "      <th>positive_votes</th>\n",
       "      <th>neutral_votes</th>\n",
       "      <th>negative_votes</th>\n",
       "      <th>total_votes</th>\n",
       "      <th>positive_percentage</th>\n",
       "      <th>neutral_percentage</th>\n",
       "      <th>negative_percentage</th>\n",
       "    </tr>\n",
       "  </thead>\n",
       "  <tbody>\n",
       "    <tr>\n",
       "      <th>1193</th>\n",
       "      <td>1194</td>\n",
       "      <td>matt037291</td>\n",
       "      <td>0</td>\n",
       "      <td>2008</td>\n",
       "      <td>1</td>\n",
       "      <td>0</td>\n",
       "      <td>0</td>\n",
       "      <td>1</td>\n",
       "      <td>100.0</td>\n",
       "      <td>0.0</td>\n",
       "      <td>0.0</td>\n",
       "    </tr>\n",
       "    <tr>\n",
       "      <th>2003</th>\n",
       "      <td>2004</td>\n",
       "      <td>Moralis</td>\n",
       "      <td>0</td>\n",
       "      <td>2007</td>\n",
       "      <td>1</td>\n",
       "      <td>0</td>\n",
       "      <td>0</td>\n",
       "      <td>1</td>\n",
       "      <td>100.0</td>\n",
       "      <td>0.0</td>\n",
       "      <td>0.0</td>\n",
       "    </tr>\n",
       "    <tr>\n",
       "      <th>2787</th>\n",
       "      <td>2788</td>\n",
       "      <td>LtPowers</td>\n",
       "      <td>0</td>\n",
       "      <td>2006</td>\n",
       "      <td>1</td>\n",
       "      <td>0</td>\n",
       "      <td>0</td>\n",
       "      <td>1</td>\n",
       "      <td>100.0</td>\n",
       "      <td>0.0</td>\n",
       "      <td>0.0</td>\n",
       "    </tr>\n",
       "    <tr>\n",
       "      <th>2793</th>\n",
       "      <td>2794</td>\n",
       "      <td>madcowpoo</td>\n",
       "      <td>0</td>\n",
       "      <td>2006</td>\n",
       "      <td>14</td>\n",
       "      <td>0</td>\n",
       "      <td>0</td>\n",
       "      <td>14</td>\n",
       "      <td>100.0</td>\n",
       "      <td>0.0</td>\n",
       "      <td>0.0</td>\n",
       "    </tr>\n",
       "    <tr>\n",
       "      <th>2950</th>\n",
       "      <td>2951</td>\n",
       "      <td>The Fish</td>\n",
       "      <td>0</td>\n",
       "      <td>2006</td>\n",
       "      <td>13</td>\n",
       "      <td>0</td>\n",
       "      <td>0</td>\n",
       "      <td>13</td>\n",
       "      <td>100.0</td>\n",
       "      <td>0.0</td>\n",
       "      <td>0.0</td>\n",
       "    </tr>\n",
       "    <tr>\n",
       "      <th>2988</th>\n",
       "      <td>2989</td>\n",
       "      <td>Weyes3</td>\n",
       "      <td>0</td>\n",
       "      <td>2006</td>\n",
       "      <td>1</td>\n",
       "      <td>0</td>\n",
       "      <td>0</td>\n",
       "      <td>1</td>\n",
       "      <td>100.0</td>\n",
       "      <td>0.0</td>\n",
       "      <td>0.0</td>\n",
       "    </tr>\n",
       "    <tr>\n",
       "      <th>3478</th>\n",
       "      <td>3479</td>\n",
       "      <td>Ilmari Karonen</td>\n",
       "      <td>0</td>\n",
       "      <td>2005</td>\n",
       "      <td>1</td>\n",
       "      <td>0</td>\n",
       "      <td>0</td>\n",
       "      <td>1</td>\n",
       "      <td>100.0</td>\n",
       "      <td>0.0</td>\n",
       "      <td>0.0</td>\n",
       "    </tr>\n",
       "    <tr>\n",
       "      <th>3483</th>\n",
       "      <td>3484</td>\n",
       "      <td>Just zis Guy, you know?</td>\n",
       "      <td>0</td>\n",
       "      <td>2005</td>\n",
       "      <td>1</td>\n",
       "      <td>0</td>\n",
       "      <td>0</td>\n",
       "      <td>1</td>\n",
       "      <td>100.0</td>\n",
       "      <td>0.0</td>\n",
       "      <td>0.0</td>\n",
       "    </tr>\n",
       "    <tr>\n",
       "      <th>3494</th>\n",
       "      <td>3495</td>\n",
       "      <td>MarkGallagher</td>\n",
       "      <td>0</td>\n",
       "      <td>2005</td>\n",
       "      <td>2</td>\n",
       "      <td>0</td>\n",
       "      <td>0</td>\n",
       "      <td>2</td>\n",
       "      <td>100.0</td>\n",
       "      <td>0.0</td>\n",
       "      <td>0.0</td>\n",
       "    </tr>\n",
       "    <tr>\n",
       "      <th>3526</th>\n",
       "      <td>3527</td>\n",
       "      <td>Robchurch</td>\n",
       "      <td>0</td>\n",
       "      <td>2005</td>\n",
       "      <td>60</td>\n",
       "      <td>0</td>\n",
       "      <td>0</td>\n",
       "      <td>60</td>\n",
       "      <td>100.0</td>\n",
       "      <td>0.0</td>\n",
       "      <td>0.0</td>\n",
       "    </tr>\n",
       "    <tr>\n",
       "      <th>3561</th>\n",
       "      <td>3562</td>\n",
       "      <td>Weyes</td>\n",
       "      <td>0</td>\n",
       "      <td>2005</td>\n",
       "      <td>9</td>\n",
       "      <td>0</td>\n",
       "      <td>0</td>\n",
       "      <td>9</td>\n",
       "      <td>100.0</td>\n",
       "      <td>0.0</td>\n",
       "      <td>0.0</td>\n",
       "    </tr>\n",
       "  </tbody>\n",
       "</table>\n",
       "</div>"
      ],
      "text/plain": [
       "      ELECTION_ID                      TGT  RES   YEA  positive_votes  \\\n",
       "1193         1194               matt037291    0  2008               1   \n",
       "2003         2004                  Moralis    0  2007               1   \n",
       "2787         2788                 LtPowers    0  2006               1   \n",
       "2793         2794                madcowpoo    0  2006              14   \n",
       "2950         2951                 The Fish    0  2006              13   \n",
       "2988         2989                   Weyes3    0  2006               1   \n",
       "3478         3479           Ilmari Karonen    0  2005               1   \n",
       "3483         3484  Just zis Guy, you know?    0  2005               1   \n",
       "3494         3495            MarkGallagher    0  2005               2   \n",
       "3526         3527                Robchurch    0  2005              60   \n",
       "3561         3562                    Weyes    0  2005               9   \n",
       "\n",
       "      neutral_votes  negative_votes  total_votes  positive_percentage  \\\n",
       "1193              0               0            1                100.0   \n",
       "2003              0               0            1                100.0   \n",
       "2787              0               0            1                100.0   \n",
       "2793              0               0           14                100.0   \n",
       "2950              0               0           13                100.0   \n",
       "2988              0               0            1                100.0   \n",
       "3478              0               0            1                100.0   \n",
       "3483              0               0            1                100.0   \n",
       "3494              0               0            2                100.0   \n",
       "3526              0               0           60                100.0   \n",
       "3561              0               0            9                100.0   \n",
       "\n",
       "      neutral_percentage  negative_percentage  \n",
       "1193                 0.0                  0.0  \n",
       "2003                 0.0                  0.0  \n",
       "2787                 0.0                  0.0  \n",
       "2793                 0.0                  0.0  \n",
       "2950                 0.0                  0.0  \n",
       "2988                 0.0                  0.0  \n",
       "3478                 0.0                  0.0  \n",
       "3483                 0.0                  0.0  \n",
       "3494                 0.0                  0.0  \n",
       "3526                 0.0                  0.0  \n",
       "3561                 0.0                  0.0  "
      ]
     },
     "execution_count": 58,
     "metadata": {},
     "output_type": "execute_result"
    }
   ],
   "source": [
    "elections_df[(elections_df['positive_percentage'] == 100) & (elections_df['RES'] == 0)]"
   ]
  },
  {
   "cell_type": "code",
   "execution_count": 59,
   "id": "2d7c7cd4-5cee-45c2-a65b-47fb29efc934",
   "metadata": {
    "tags": []
   },
   "outputs": [
    {
     "data": {
      "text/html": [
       "<div>\n",
       "<style scoped>\n",
       "    .dataframe tbody tr th:only-of-type {\n",
       "        vertical-align: middle;\n",
       "    }\n",
       "\n",
       "    .dataframe tbody tr th {\n",
       "        vertical-align: top;\n",
       "    }\n",
       "\n",
       "    .dataframe thead th {\n",
       "        text-align: right;\n",
       "    }\n",
       "</style>\n",
       "<table border=\"1\" class=\"dataframe\">\n",
       "  <thead>\n",
       "    <tr style=\"text-align: right;\">\n",
       "      <th></th>\n",
       "      <th>SRC</th>\n",
       "      <th>TGT</th>\n",
       "      <th>VOT</th>\n",
       "      <th>RES</th>\n",
       "      <th>YEA</th>\n",
       "      <th>DAT</th>\n",
       "      <th>TXT</th>\n",
       "      <th>ELECTION_ID</th>\n",
       "    </tr>\n",
       "  </thead>\n",
       "  <tbody>\n",
       "    <tr>\n",
       "      <th>165923</th>\n",
       "      <td>Musical Linguist</td>\n",
       "      <td>Robchurch</td>\n",
       "      <td>1</td>\n",
       "      <td>0</td>\n",
       "      <td>2006</td>\n",
       "      <td>2005-12-28 14:07:00</td>\n",
       "      <td>The nominator [[User:NicholasTurnbull|Nicholas...</td>\n",
       "      <td>2883</td>\n",
       "    </tr>\n",
       "    <tr>\n",
       "      <th>165924</th>\n",
       "      <td>Bishonen</td>\n",
       "      <td>Robchurch</td>\n",
       "      <td>1</td>\n",
       "      <td>0</td>\n",
       "      <td>2006</td>\n",
       "      <td>2005-12-28 00:14:00</td>\n",
       "      <td>I can't believe he wasn't already an admin. Oh...</td>\n",
       "      <td>2883</td>\n",
       "    </tr>\n",
       "    <tr>\n",
       "      <th>165925</th>\n",
       "      <td>Mysekurity</td>\n",
       "      <td>Robchurch</td>\n",
       "      <td>1</td>\n",
       "      <td>0</td>\n",
       "      <td>2006</td>\n",
       "      <td>2005-12-28 00:14:00</td>\n",
       "      <td>Ditto Bish. -[[User:Mysekurity|&lt;font color=\"bl...</td>\n",
       "      <td>2883</td>\n",
       "    </tr>\n",
       "    <tr>\n",
       "      <th>165926</th>\n",
       "      <td>Rx StrangeLove</td>\n",
       "      <td>Robchurch</td>\n",
       "      <td>1</td>\n",
       "      <td>0</td>\n",
       "      <td>2006</td>\n",
       "      <td>2005-12-28 00:16:00</td>\n",
       "      <td>'''Support''' Everything Nicholas says is true...</td>\n",
       "      <td>2883</td>\n",
       "    </tr>\n",
       "    <tr>\n",
       "      <th>165927</th>\n",
       "      <td>Jtkiefer</td>\n",
       "      <td>Robchurch</td>\n",
       "      <td>1</td>\n",
       "      <td>0</td>\n",
       "      <td>2006</td>\n",
       "      <td>2005-12-28 00:17:00</td>\n",
       "      <td>(after 3 edit conflicts) I'm sure he'll make g...</td>\n",
       "      <td>2883</td>\n",
       "    </tr>\n",
       "    <tr>\n",
       "      <th>...</th>\n",
       "      <td>...</td>\n",
       "      <td>...</td>\n",
       "      <td>...</td>\n",
       "      <td>...</td>\n",
       "      <td>...</td>\n",
       "      <td>...</td>\n",
       "      <td>...</td>\n",
       "      <td>...</td>\n",
       "    </tr>\n",
       "    <tr>\n",
       "      <th>189967</th>\n",
       "      <td>ABCD</td>\n",
       "      <td>Robchurch</td>\n",
       "      <td>1</td>\n",
       "      <td>0</td>\n",
       "      <td>2005</td>\n",
       "      <td>2005-10-16 04:16:00</td>\n",
       "      <td>\"'''Support'''.  $user is not an admin?\" &amp;ndash;</td>\n",
       "      <td>3527</td>\n",
       "    </tr>\n",
       "    <tr>\n",
       "      <th>189968</th>\n",
       "      <td>bmicomp</td>\n",
       "      <td>Robchurch</td>\n",
       "      <td>1</td>\n",
       "      <td>0</td>\n",
       "      <td>2005</td>\n",
       "      <td>2005-10-16 20:27:00</td>\n",
       "      <td>'''Support!''' -- [[User:Bmicomp|BMIComp]] [[U...</td>\n",
       "      <td>3527</td>\n",
       "    </tr>\n",
       "    <tr>\n",
       "      <th>189969</th>\n",
       "      <td>Linuxbeak</td>\n",
       "      <td>Robchurch</td>\n",
       "      <td>1</td>\n",
       "      <td>0</td>\n",
       "      <td>2005</td>\n",
       "      <td>2005-10-16 22:40:00</td>\n",
       "      <td>'''Support'''. I could have sworn that I had v...</td>\n",
       "      <td>3527</td>\n",
       "    </tr>\n",
       "    <tr>\n",
       "      <th>189970</th>\n",
       "      <td>Francs2000</td>\n",
       "      <td>Robchurch</td>\n",
       "      <td>1</td>\n",
       "      <td>0</td>\n",
       "      <td>2005</td>\n",
       "      <td>2005-10-16 23:44:00</td>\n",
       "      <td>'''Very strong support''', a very fine editor --</td>\n",
       "      <td>3527</td>\n",
       "    </tr>\n",
       "    <tr>\n",
       "      <th>189971</th>\n",
       "      <td>Alphax</td>\n",
       "      <td>Robchurch</td>\n",
       "      <td>1</td>\n",
       "      <td>0</td>\n",
       "      <td>2005</td>\n",
       "      <td>2005-10-16 23:57:00</td>\n",
       "      <td>'''Support''' death to unqualified Fair Use!</td>\n",
       "      <td>3527</td>\n",
       "    </tr>\n",
       "  </tbody>\n",
       "</table>\n",
       "<p>445 rows × 8 columns</p>\n",
       "</div>"
      ],
      "text/plain": [
       "                     SRC        TGT  VOT  RES   YEA                 DAT  \\\n",
       "165923  Musical Linguist  Robchurch    1    0  2006 2005-12-28 14:07:00   \n",
       "165924          Bishonen  Robchurch    1    0  2006 2005-12-28 00:14:00   \n",
       "165925        Mysekurity  Robchurch    1    0  2006 2005-12-28 00:14:00   \n",
       "165926    Rx StrangeLove  Robchurch    1    0  2006 2005-12-28 00:16:00   \n",
       "165927          Jtkiefer  Robchurch    1    0  2006 2005-12-28 00:17:00   \n",
       "...                  ...        ...  ...  ...   ...                 ...   \n",
       "189967              ABCD  Robchurch    1    0  2005 2005-10-16 04:16:00   \n",
       "189968           bmicomp  Robchurch    1    0  2005 2005-10-16 20:27:00   \n",
       "189969         Linuxbeak  Robchurch    1    0  2005 2005-10-16 22:40:00   \n",
       "189970        Francs2000  Robchurch    1    0  2005 2005-10-16 23:44:00   \n",
       "189971            Alphax  Robchurch    1    0  2005 2005-10-16 23:57:00   \n",
       "\n",
       "                                                      TXT  ELECTION_ID  \n",
       "165923  The nominator [[User:NicholasTurnbull|Nicholas...         2883  \n",
       "165924  I can't believe he wasn't already an admin. Oh...         2883  \n",
       "165925  Ditto Bish. -[[User:Mysekurity|<font color=\"bl...         2883  \n",
       "165926  '''Support''' Everything Nicholas says is true...         2883  \n",
       "165927  (after 3 edit conflicts) I'm sure he'll make g...         2883  \n",
       "...                                                   ...          ...  \n",
       "189967   \"'''Support'''.  $user is not an admin?\" &ndash;         3527  \n",
       "189968  '''Support!''' -- [[User:Bmicomp|BMIComp]] [[U...         3527  \n",
       "189969  '''Support'''. I could have sworn that I had v...         3527  \n",
       "189970   '''Very strong support''', a very fine editor --         3527  \n",
       "189971       '''Support''' death to unqualified Fair Use!         3527  \n",
       "\n",
       "[445 rows x 8 columns]"
      ]
     },
     "execution_count": 59,
     "metadata": {},
     "output_type": "execute_result"
    }
   ],
   "source": [
    "wiki_df[wiki_df['TGT'] == 'Robchurch']"
   ]
  },
  {
   "cell_type": "markdown",
   "id": "33be04cc-d3c4-4145-8969-a320a9bda4a3",
   "metadata": {
    "jp-MarkdownHeadingCollapsed": true,
    "tags": []
   },
   "source": [
    "### Dataframes"
   ]
  },
  {
   "cell_type": "markdown",
   "id": "80b85099-ba46-4846-85bb-9869a3794864",
   "metadata": {},
   "source": [
    "Now that we have processed the data, we will create new dataframes containing statistics about the individuals and the elections that can be directly used when working with the data.\n",
    "\n",
    "Let's start with the elections, we group the same elections and, as we did earlier, get the :\n",
    "- Candidate\n",
    "- Year\n",
    "- Number of positive, neutral and negative votes.\n",
    "- Percentage of positive, neutral and negative votes.\n",
    "- Total number of votes\n",
    "- Earliest and latest voting date.\n",
    "\n",
    "For this, we define a function that directly does the grouping and the aggregation."
   ]
  },
  {
   "cell_type": "code",
   "execution_count": 71,
   "id": "0760bc14-8da2-49cb-be6e-6eb25cfabe9a",
   "metadata": {
    "tags": []
   },
   "outputs": [],
   "source": [
    "elections_df = create_elections_df(wiki_df)"
   ]
  },
  {
   "cell_type": "code",
   "execution_count": 72,
   "id": "417faad9-8d72-449f-bc19-1eab302bbeea",
   "metadata": {
    "tags": []
   },
   "outputs": [
    {
     "data": {
      "text/html": [
       "<div>\n",
       "<style scoped>\n",
       "    .dataframe tbody tr th:only-of-type {\n",
       "        vertical-align: middle;\n",
       "    }\n",
       "\n",
       "    .dataframe tbody tr th {\n",
       "        vertical-align: top;\n",
       "    }\n",
       "\n",
       "    .dataframe thead th {\n",
       "        text-align: right;\n",
       "    }\n",
       "</style>\n",
       "<table border=\"1\" class=\"dataframe\">\n",
       "  <thead>\n",
       "    <tr style=\"text-align: right;\">\n",
       "      <th></th>\n",
       "      <th>ELECTION_ID</th>\n",
       "      <th>TGT</th>\n",
       "      <th>RES</th>\n",
       "      <th>Total Votes</th>\n",
       "      <th>Positive Votes</th>\n",
       "      <th>Negative Votes</th>\n",
       "      <th>Neutral Votes</th>\n",
       "      <th>Positive Percentage</th>\n",
       "      <th>Negative Percentage</th>\n",
       "      <th>Neutral Percentage</th>\n",
       "      <th>Earliest Voting Date</th>\n",
       "      <th>Latest Voting Date</th>\n",
       "    </tr>\n",
       "  </thead>\n",
       "  <tbody>\n",
       "    <tr>\n",
       "      <th>0</th>\n",
       "      <td>1</td>\n",
       "      <td>BDD</td>\n",
       "      <td>1</td>\n",
       "      <td>137</td>\n",
       "      <td>119</td>\n",
       "      <td>14</td>\n",
       "      <td>4</td>\n",
       "      <td>86.861314</td>\n",
       "      <td>10.218978</td>\n",
       "      <td>2.919708</td>\n",
       "      <td>2013-04-19 23:13:00</td>\n",
       "      <td>2013-04-26 22:12:00</td>\n",
       "    </tr>\n",
       "    <tr>\n",
       "      <th>1</th>\n",
       "      <td>2</td>\n",
       "      <td>Bilby</td>\n",
       "      <td>1</td>\n",
       "      <td>137</td>\n",
       "      <td>134</td>\n",
       "      <td>2</td>\n",
       "      <td>1</td>\n",
       "      <td>97.810219</td>\n",
       "      <td>1.459854</td>\n",
       "      <td>0.729927</td>\n",
       "      <td>2013-05-25 00:37:00</td>\n",
       "      <td>2013-06-01 13:13:00</td>\n",
       "    </tr>\n",
       "    <tr>\n",
       "      <th>2</th>\n",
       "      <td>3</td>\n",
       "      <td>Darkwind</td>\n",
       "      <td>1</td>\n",
       "      <td>146</td>\n",
       "      <td>108</td>\n",
       "      <td>30</td>\n",
       "      <td>8</td>\n",
       "      <td>73.972603</td>\n",
       "      <td>20.547945</td>\n",
       "      <td>5.479452</td>\n",
       "      <td>2012-12-26 20:12:00</td>\n",
       "      <td>2013-01-02 21:23:00</td>\n",
       "    </tr>\n",
       "    <tr>\n",
       "      <th>3</th>\n",
       "      <td>4</td>\n",
       "      <td>INeverCry</td>\n",
       "      <td>1</td>\n",
       "      <td>110</td>\n",
       "      <td>101</td>\n",
       "      <td>8</td>\n",
       "      <td>1</td>\n",
       "      <td>91.818182</td>\n",
       "      <td>7.272727</td>\n",
       "      <td>0.909091</td>\n",
       "      <td>2013-01-31 08:17:00</td>\n",
       "      <td>2013-02-07 02:27:00</td>\n",
       "    </tr>\n",
       "    <tr>\n",
       "      <th>4</th>\n",
       "      <td>5</td>\n",
       "      <td>Jason Quinn</td>\n",
       "      <td>1</td>\n",
       "      <td>183</td>\n",
       "      <td>138</td>\n",
       "      <td>29</td>\n",
       "      <td>16</td>\n",
       "      <td>75.409836</td>\n",
       "      <td>15.846995</td>\n",
       "      <td>8.743169</td>\n",
       "      <td>2013-01-25 03:30:00</td>\n",
       "      <td>2013-02-01 00:08:00</td>\n",
       "    </tr>\n",
       "  </tbody>\n",
       "</table>\n",
       "</div>"
      ],
      "text/plain": [
       "   ELECTION_ID          TGT  RES  Total Votes  Positive Votes  Negative Votes  \\\n",
       "0            1          BDD    1          137             119              14   \n",
       "1            2        Bilby    1          137             134               2   \n",
       "2            3     Darkwind    1          146             108              30   \n",
       "3            4    INeverCry    1          110             101               8   \n",
       "4            5  Jason Quinn    1          183             138              29   \n",
       "\n",
       "   Neutral Votes  Positive Percentage  Negative Percentage  \\\n",
       "0              4            86.861314            10.218978   \n",
       "1              1            97.810219             1.459854   \n",
       "2              8            73.972603            20.547945   \n",
       "3              1            91.818182             7.272727   \n",
       "4             16            75.409836            15.846995   \n",
       "\n",
       "   Neutral Percentage Earliest Voting Date  Latest Voting Date  \n",
       "0            2.919708  2013-04-19 23:13:00 2013-04-26 22:12:00  \n",
       "1            0.729927  2013-05-25 00:37:00 2013-06-01 13:13:00  \n",
       "2            5.479452  2012-12-26 20:12:00 2013-01-02 21:23:00  \n",
       "3            0.909091  2013-01-31 08:17:00 2013-02-07 02:27:00  \n",
       "4            8.743169  2013-01-25 03:30:00 2013-02-01 00:08:00  "
      ]
     },
     "execution_count": 72,
     "metadata": {},
     "output_type": "execute_result"
    }
   ],
   "source": [
    "elections_df.head(5)"
   ]
  },
  {
   "cell_type": "markdown",
   "id": "c04ffde5-8e3d-4c18-b28a-5c9409c3ebbc",
   "metadata": {},
   "source": [
    "Now, we create a dataframe that contains information the following information about users :\n",
    "- The number of times they voted\n",
    "- The number of times they run for an election\n",
    "- The number of times they won\n",
    "- The number of times they lost\n",
    "- The years they were active in\n",
    "- The percentage of positive votes they casted\n",
    "- The percentage of negative votes they casted\n",
    "- The percentage of neutral votes they casted\n",
    "- The difference between the result of the election and their vote"
   ]
  },
  {
   "cell_type": "code",
   "execution_count": 79,
   "id": "6854808b-adc4-4b75-8911-ac8dcb9a1c28",
   "metadata": {
    "tags": []
   },
   "outputs": [],
   "source": [
    "candidates_df = create_candidates_df(wiki_df)"
   ]
  },
  {
   "cell_type": "code",
   "execution_count": 80,
   "id": "70409ae3-3707-4603-b60c-5fd34125865a",
   "metadata": {
    "tags": []
   },
   "outputs": [
    {
     "data": {
      "text/html": [
       "<div>\n",
       "<style scoped>\n",
       "    .dataframe tbody tr th:only-of-type {\n",
       "        vertical-align: middle;\n",
       "    }\n",
       "\n",
       "    .dataframe tbody tr th {\n",
       "        vertical-align: top;\n",
       "    }\n",
       "\n",
       "    .dataframe thead th {\n",
       "        text-align: right;\n",
       "    }\n",
       "</style>\n",
       "<table border=\"1\" class=\"dataframe\">\n",
       "  <thead>\n",
       "    <tr style=\"text-align: right;\">\n",
       "      <th></th>\n",
       "      <th>TGT</th>\n",
       "      <th>Number of Elections</th>\n",
       "      <th>Won Elections</th>\n",
       "      <th>Lost Elections</th>\n",
       "      <th>Votes Received</th>\n",
       "      <th>Positive Percentage</th>\n",
       "      <th>Negative Percentage</th>\n",
       "      <th>Neutral Percentage</th>\n",
       "      <th>Average Length Received</th>\n",
       "    </tr>\n",
       "  </thead>\n",
       "  <tbody>\n",
       "    <tr>\n",
       "      <th>0</th>\n",
       "      <td>(aeropagitica)</td>\n",
       "      <td>1</td>\n",
       "      <td>1</td>\n",
       "      <td>0</td>\n",
       "      <td>55</td>\n",
       "      <td>0.727273</td>\n",
       "      <td>0.181818</td>\n",
       "      <td>0.090909</td>\n",
       "      <td>106.672727</td>\n",
       "    </tr>\n",
       "    <tr>\n",
       "      <th>1</th>\n",
       "      <td>07bargem</td>\n",
       "      <td>1</td>\n",
       "      <td>0</td>\n",
       "      <td>1</td>\n",
       "      <td>6</td>\n",
       "      <td>0.000000</td>\n",
       "      <td>1.000000</td>\n",
       "      <td>0.000000</td>\n",
       "      <td>278.500000</td>\n",
       "    </tr>\n",
       "    <tr>\n",
       "      <th>2</th>\n",
       "      <td>1234r00t</td>\n",
       "      <td>1</td>\n",
       "      <td>0</td>\n",
       "      <td>1</td>\n",
       "      <td>6</td>\n",
       "      <td>0.000000</td>\n",
       "      <td>1.000000</td>\n",
       "      <td>0.000000</td>\n",
       "      <td>275.333333</td>\n",
       "    </tr>\n",
       "    <tr>\n",
       "      <th>3</th>\n",
       "      <td>168...</td>\n",
       "      <td>1</td>\n",
       "      <td>1</td>\n",
       "      <td>0</td>\n",
       "      <td>7</td>\n",
       "      <td>1.000000</td>\n",
       "      <td>0.000000</td>\n",
       "      <td>0.000000</td>\n",
       "      <td>42.000000</td>\n",
       "    </tr>\n",
       "    <tr>\n",
       "      <th>4</th>\n",
       "      <td>21655</td>\n",
       "      <td>1</td>\n",
       "      <td>0</td>\n",
       "      <td>1</td>\n",
       "      <td>24</td>\n",
       "      <td>0.166667</td>\n",
       "      <td>0.750000</td>\n",
       "      <td>0.083333</td>\n",
       "      <td>324.833333</td>\n",
       "    </tr>\n",
       "    <tr>\n",
       "      <th>...</th>\n",
       "      <td>...</td>\n",
       "      <td>...</td>\n",
       "      <td>...</td>\n",
       "      <td>...</td>\n",
       "      <td>...</td>\n",
       "      <td>...</td>\n",
       "      <td>...</td>\n",
       "      <td>...</td>\n",
       "      <td>...</td>\n",
       "    </tr>\n",
       "    <tr>\n",
       "      <th>3492</th>\n",
       "      <td>zeuspitar</td>\n",
       "      <td>1</td>\n",
       "      <td>0</td>\n",
       "      <td>1</td>\n",
       "      <td>3</td>\n",
       "      <td>0.333333</td>\n",
       "      <td>0.666667</td>\n",
       "      <td>0.000000</td>\n",
       "      <td>230.000000</td>\n",
       "    </tr>\n",
       "    <tr>\n",
       "      <th>3493</th>\n",
       "      <td>zhudyzhu</td>\n",
       "      <td>1</td>\n",
       "      <td>0</td>\n",
       "      <td>1</td>\n",
       "      <td>2</td>\n",
       "      <td>0.000000</td>\n",
       "      <td>1.000000</td>\n",
       "      <td>0.000000</td>\n",
       "      <td>353.000000</td>\n",
       "    </tr>\n",
       "    <tr>\n",
       "      <th>3494</th>\n",
       "      <td>Ævar Arnfjörð Bjarmason</td>\n",
       "      <td>2</td>\n",
       "      <td>1</td>\n",
       "      <td>1</td>\n",
       "      <td>96</td>\n",
       "      <td>0.625000</td>\n",
       "      <td>0.333333</td>\n",
       "      <td>0.041667</td>\n",
       "      <td>143.542998</td>\n",
       "    </tr>\n",
       "    <tr>\n",
       "      <th>3495</th>\n",
       "      <td>Σ</td>\n",
       "      <td>1</td>\n",
       "      <td>0</td>\n",
       "      <td>1</td>\n",
       "      <td>223</td>\n",
       "      <td>0.627803</td>\n",
       "      <td>0.291480</td>\n",
       "      <td>0.080717</td>\n",
       "      <td>240.381166</td>\n",
       "    </tr>\n",
       "    <tr>\n",
       "      <th>3496</th>\n",
       "      <td>Ђорђе Д. Божовић</td>\n",
       "      <td>1</td>\n",
       "      <td>0</td>\n",
       "      <td>1</td>\n",
       "      <td>20</td>\n",
       "      <td>0.250000</td>\n",
       "      <td>0.700000</td>\n",
       "      <td>0.050000</td>\n",
       "      <td>237.950000</td>\n",
       "    </tr>\n",
       "  </tbody>\n",
       "</table>\n",
       "<p>3497 rows × 9 columns</p>\n",
       "</div>"
      ],
      "text/plain": [
       "                          TGT  Number of Elections  Won Elections  \\\n",
       "0              (aeropagitica)                    1              1   \n",
       "1                    07bargem                    1              0   \n",
       "2                    1234r00t                    1              0   \n",
       "3                      168...                    1              1   \n",
       "4                       21655                    1              0   \n",
       "...                       ...                  ...            ...   \n",
       "3492                zeuspitar                    1              0   \n",
       "3493                 zhudyzhu                    1              0   \n",
       "3494  Ævar Arnfjörð Bjarmason                    2              1   \n",
       "3495                        Σ                    1              0   \n",
       "3496         Ђорђе Д. Божовић                    1              0   \n",
       "\n",
       "      Lost Elections  Votes Received  Positive Percentage  \\\n",
       "0                  0              55             0.727273   \n",
       "1                  1               6             0.000000   \n",
       "2                  1               6             0.000000   \n",
       "3                  0               7             1.000000   \n",
       "4                  1              24             0.166667   \n",
       "...              ...             ...                  ...   \n",
       "3492               1               3             0.333333   \n",
       "3493               1               2             0.000000   \n",
       "3494               1              96             0.625000   \n",
       "3495               1             223             0.627803   \n",
       "3496               1              20             0.250000   \n",
       "\n",
       "      Negative Percentage  Neutral Percentage  Average Length Received  \n",
       "0                0.181818            0.090909               106.672727  \n",
       "1                1.000000            0.000000               278.500000  \n",
       "2                1.000000            0.000000               275.333333  \n",
       "3                0.000000            0.000000                42.000000  \n",
       "4                0.750000            0.083333               324.833333  \n",
       "...                   ...                 ...                      ...  \n",
       "3492             0.666667            0.000000               230.000000  \n",
       "3493             1.000000            0.000000               353.000000  \n",
       "3494             0.333333            0.041667               143.542998  \n",
       "3495             0.291480            0.080717               240.381166  \n",
       "3496             0.700000            0.050000               237.950000  \n",
       "\n",
       "[3497 rows x 9 columns]"
      ]
     },
     "execution_count": 80,
     "metadata": {},
     "output_type": "execute_result"
    }
   ],
   "source": [
    "candidates_df"
   ]
  },
  {
   "cell_type": "code",
   "execution_count": 64,
   "id": "defd5151-16ed-4244-ba4a-607a1a615362",
   "metadata": {
    "tags": []
   },
   "outputs": [],
   "source": [
    "voters_df = create_voters_df(wiki_df)"
   ]
  },
  {
   "cell_type": "code",
   "execution_count": 65,
   "id": "59845a5c-b6c5-459f-ac53-36ef35aa5f0c",
   "metadata": {
    "tags": []
   },
   "outputs": [
    {
     "data": {
      "text/html": [
       "<div>\n",
       "<style scoped>\n",
       "    .dataframe tbody tr th:only-of-type {\n",
       "        vertical-align: middle;\n",
       "    }\n",
       "\n",
       "    .dataframe tbody tr th {\n",
       "        vertical-align: top;\n",
       "    }\n",
       "\n",
       "    .dataframe thead th {\n",
       "        text-align: right;\n",
       "    }\n",
       "</style>\n",
       "<table border=\"1\" class=\"dataframe\">\n",
       "  <thead>\n",
       "    <tr style=\"text-align: right;\">\n",
       "      <th></th>\n",
       "      <th>USER</th>\n",
       "      <th>Active Years</th>\n",
       "      <th>Votes Count</th>\n",
       "      <th>Positive Percentage</th>\n",
       "      <th>Negative Percentage</th>\n",
       "      <th>Neutral Percentage</th>\n",
       "      <th>Voted Differently</th>\n",
       "      <th>Voted Similarly</th>\n",
       "    </tr>\n",
       "  </thead>\n",
       "  <tbody>\n",
       "    <tr>\n",
       "      <th>0</th>\n",
       "      <td>!---slappdash---!</td>\n",
       "      <td>[2009]</td>\n",
       "      <td>1</td>\n",
       "      <td>100.000000</td>\n",
       "      <td>0.000000</td>\n",
       "      <td>0.0</td>\n",
       "      <td>0.000000</td>\n",
       "      <td>100.000000</td>\n",
       "    </tr>\n",
       "    <tr>\n",
       "      <th>1</th>\n",
       "      <td>%D0%90</td>\n",
       "      <td>[2006]</td>\n",
       "      <td>13</td>\n",
       "      <td>100.000000</td>\n",
       "      <td>0.000000</td>\n",
       "      <td>0.0</td>\n",
       "      <td>15.384615</td>\n",
       "      <td>84.615385</td>\n",
       "    </tr>\n",
       "    <tr>\n",
       "      <th>2</th>\n",
       "      <td>'sed</td>\n",
       "      <td>[2006]</td>\n",
       "      <td>3</td>\n",
       "      <td>100.000000</td>\n",
       "      <td>0.000000</td>\n",
       "      <td>0.0</td>\n",
       "      <td>66.666667</td>\n",
       "      <td>33.333333</td>\n",
       "    </tr>\n",
       "    <tr>\n",
       "      <th>3</th>\n",
       "      <td>(.Y.)</td>\n",
       "      <td>[2006]</td>\n",
       "      <td>1</td>\n",
       "      <td>100.000000</td>\n",
       "      <td>0.000000</td>\n",
       "      <td>0.0</td>\n",
       "      <td>0.000000</td>\n",
       "      <td>100.000000</td>\n",
       "    </tr>\n",
       "    <tr>\n",
       "      <th>4</th>\n",
       "      <td>(:Julien:)</td>\n",
       "      <td>[2005]</td>\n",
       "      <td>1</td>\n",
       "      <td>100.000000</td>\n",
       "      <td>0.000000</td>\n",
       "      <td>0.0</td>\n",
       "      <td>0.000000</td>\n",
       "      <td>100.000000</td>\n",
       "    </tr>\n",
       "    <tr>\n",
       "      <th>...</th>\n",
       "      <td>...</td>\n",
       "      <td>...</td>\n",
       "      <td>...</td>\n",
       "      <td>...</td>\n",
       "      <td>...</td>\n",
       "      <td>...</td>\n",
       "      <td>...</td>\n",
       "      <td>...</td>\n",
       "    </tr>\n",
       "    <tr>\n",
       "      <th>10411</th>\n",
       "      <td>とある白い猫</td>\n",
       "      <td>[2013]</td>\n",
       "      <td>1</td>\n",
       "      <td>100.000000</td>\n",
       "      <td>0.000000</td>\n",
       "      <td>0.0</td>\n",
       "      <td>0.000000</td>\n",
       "      <td>100.000000</td>\n",
       "    </tr>\n",
       "    <tr>\n",
       "      <th>10412</th>\n",
       "      <td>シ</td>\n",
       "      <td>[2010]</td>\n",
       "      <td>6</td>\n",
       "      <td>66.666667</td>\n",
       "      <td>33.333333</td>\n",
       "      <td>0.0</td>\n",
       "      <td>50.000000</td>\n",
       "      <td>50.000000</td>\n",
       "    </tr>\n",
       "    <tr>\n",
       "      <th>10413</th>\n",
       "      <td>石</td>\n",
       "      <td>[2012]</td>\n",
       "      <td>1</td>\n",
       "      <td>100.000000</td>\n",
       "      <td>0.000000</td>\n",
       "      <td>0.0</td>\n",
       "      <td>0.000000</td>\n",
       "      <td>100.000000</td>\n",
       "    </tr>\n",
       "    <tr>\n",
       "      <th>10414</th>\n",
       "      <td>龗</td>\n",
       "      <td>[2009]</td>\n",
       "      <td>2</td>\n",
       "      <td>50.000000</td>\n",
       "      <td>50.000000</td>\n",
       "      <td>0.0</td>\n",
       "      <td>50.000000</td>\n",
       "      <td>50.000000</td>\n",
       "    </tr>\n",
       "    <tr>\n",
       "      <th>10415</th>\n",
       "      <td>완젬스</td>\n",
       "      <td>[2012]</td>\n",
       "      <td>1</td>\n",
       "      <td>0.000000</td>\n",
       "      <td>100.000000</td>\n",
       "      <td>0.0</td>\n",
       "      <td>100.000000</td>\n",
       "      <td>0.000000</td>\n",
       "    </tr>\n",
       "  </tbody>\n",
       "</table>\n",
       "<p>10416 rows × 8 columns</p>\n",
       "</div>"
      ],
      "text/plain": [
       "                    USER Active Years  Votes Count  Positive Percentage  \\\n",
       "0      !---slappdash---!       [2009]            1           100.000000   \n",
       "1                 %D0%90       [2006]           13           100.000000   \n",
       "2                   'sed       [2006]            3           100.000000   \n",
       "3                  (.Y.)       [2006]            1           100.000000   \n",
       "4             (:Julien:)       [2005]            1           100.000000   \n",
       "...                  ...          ...          ...                  ...   \n",
       "10411             とある白い猫       [2013]            1           100.000000   \n",
       "10412                  シ       [2010]            6            66.666667   \n",
       "10413                  石       [2012]            1           100.000000   \n",
       "10414                  龗       [2009]            2            50.000000   \n",
       "10415                완젬스       [2012]            1             0.000000   \n",
       "\n",
       "       Negative Percentage  Neutral Percentage  Voted Differently  \\\n",
       "0                 0.000000                 0.0           0.000000   \n",
       "1                 0.000000                 0.0          15.384615   \n",
       "2                 0.000000                 0.0          66.666667   \n",
       "3                 0.000000                 0.0           0.000000   \n",
       "4                 0.000000                 0.0           0.000000   \n",
       "...                    ...                 ...                ...   \n",
       "10411             0.000000                 0.0           0.000000   \n",
       "10412            33.333333                 0.0          50.000000   \n",
       "10413             0.000000                 0.0           0.000000   \n",
       "10414            50.000000                 0.0          50.000000   \n",
       "10415           100.000000                 0.0         100.000000   \n",
       "\n",
       "       Voted Similarly  \n",
       "0           100.000000  \n",
       "1            84.615385  \n",
       "2            33.333333  \n",
       "3           100.000000  \n",
       "4           100.000000  \n",
       "...                ...  \n",
       "10411       100.000000  \n",
       "10412        50.000000  \n",
       "10413       100.000000  \n",
       "10414        50.000000  \n",
       "10415         0.000000  \n",
       "\n",
       "[10416 rows x 8 columns]"
      ]
     },
     "execution_count": 65,
     "metadata": {},
     "output_type": "execute_result"
    }
   ],
   "source": [
    "voters_df"
   ]
  }
 ],
 "metadata": {
  "kernelspec": {
   "display_name": "Python 3 (ipykernel)",
   "language": "python",
   "name": "python3"
  },
  "language_info": {
   "codemirror_mode": {
    "name": "ipython",
    "version": 3
   },
   "file_extension": ".py",
   "mimetype": "text/x-python",
   "name": "python",
   "nbconvert_exporter": "python",
   "pygments_lexer": "ipython3",
   "version": "3.11.5"
  }
 },
 "nbformat": 4,
 "nbformat_minor": 5
}
