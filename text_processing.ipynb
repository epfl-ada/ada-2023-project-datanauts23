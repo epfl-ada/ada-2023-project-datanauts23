{
 "cells": [
  {
   "cell_type": "markdown",
   "id": "d772aafa-4660-4cec-be1f-f94016ab6879",
   "metadata": {},
   "source": [
    "### Imports"
   ]
  },
  {
   "cell_type": "code",
   "execution_count": 196,
   "id": "0493c585-1da5-4f44-bd79-84203bdd779e",
   "metadata": {
    "tags": []
   },
   "outputs": [],
   "source": [
    "# Mettre ici tous les imports\n",
    "import importlib\n",
    "import pandas as pd\n",
    "import modules.data_processing\n",
    "import seaborn as sns\n",
    "import matplotlib.pyplot as plt"
   ]
  },
  {
   "cell_type": "code",
   "execution_count": 126,
   "id": "db8e8fab-abc8-46c1-ad82-01262171c5ed",
   "metadata": {
    "tags": []
   },
   "outputs": [],
   "source": [
    "## Reloading, relancer cette cell si vous modifiez les fonctions\n",
    "\n",
    "importlib.reload(modules.data_processing)\n",
    "from modules.data_processing import *"
   ]
  },
  {
   "cell_type": "code",
   "execution_count": 127,
   "id": "cd80595e-105c-4701-a24b-9beee164962b",
   "metadata": {
    "tags": []
   },
   "outputs": [],
   "source": [
    "DATA_PATH = './data/wiki-RfA.txt'"
   ]
  },
  {
   "cell_type": "markdown",
   "id": "6e73e40b-03f9-4bb1-bce6-1808847e7b02",
   "metadata": {},
   "source": [
    "### Preparing Data"
   ]
  },
  {
   "cell_type": "code",
   "execution_count": 128,
   "id": "1e692372-c589-4cd6-8d9e-0bba9fb1b84b",
   "metadata": {
    "tags": []
   },
   "outputs": [],
   "source": [
    "wiki_df = extract_data(DATA_PATH)\n",
    "process_dataframe(wiki_df)\n",
    "\n",
    "#elections_df = create_elections_df(wiki_df) -> IF NEEDED\n",
    "#users_df = create_users_df(wiki_df) -> IF NEEDED"
   ]
  },
  {
   "cell_type": "code",
   "execution_count": 129,
   "id": "2d24d75a-d4a2-4608-8439-e1b92e55990e",
   "metadata": {
    "tags": []
   },
   "outputs": [
    {
     "data": {
      "text/html": [
       "<div>\n",
       "<style scoped>\n",
       "    .dataframe tbody tr th:only-of-type {\n",
       "        vertical-align: middle;\n",
       "    }\n",
       "\n",
       "    .dataframe tbody tr th {\n",
       "        vertical-align: top;\n",
       "    }\n",
       "\n",
       "    .dataframe thead th {\n",
       "        text-align: right;\n",
       "    }\n",
       "</style>\n",
       "<table border=\"1\" class=\"dataframe\">\n",
       "  <thead>\n",
       "    <tr style=\"text-align: right;\">\n",
       "      <th></th>\n",
       "      <th>SRC</th>\n",
       "      <th>TGT</th>\n",
       "      <th>VOT</th>\n",
       "      <th>RES</th>\n",
       "      <th>YEA</th>\n",
       "      <th>DAT</th>\n",
       "      <th>TXT</th>\n",
       "      <th>ELECTION_ID</th>\n",
       "    </tr>\n",
       "  </thead>\n",
       "  <tbody>\n",
       "    <tr>\n",
       "      <th>0</th>\n",
       "      <td>Steel1943</td>\n",
       "      <td>BDD</td>\n",
       "      <td>1</td>\n",
       "      <td>1</td>\n",
       "      <td>2013</td>\n",
       "      <td>2013-04-19 23:13:00</td>\n",
       "      <td>'''Support''' as co-nom.</td>\n",
       "      <td>1</td>\n",
       "    </tr>\n",
       "    <tr>\n",
       "      <th>1</th>\n",
       "      <td>Cuchullain</td>\n",
       "      <td>BDD</td>\n",
       "      <td>1</td>\n",
       "      <td>1</td>\n",
       "      <td>2013</td>\n",
       "      <td>2013-04-20 01:04:00</td>\n",
       "      <td>'''Support''' as nominator.--</td>\n",
       "      <td>1</td>\n",
       "    </tr>\n",
       "    <tr>\n",
       "      <th>2</th>\n",
       "      <td>INeverCry</td>\n",
       "      <td>BDD</td>\n",
       "      <td>1</td>\n",
       "      <td>1</td>\n",
       "      <td>2013</td>\n",
       "      <td>2013-04-19 23:43:00</td>\n",
       "      <td>'''Support''' per noms.</td>\n",
       "      <td>1</td>\n",
       "    </tr>\n",
       "    <tr>\n",
       "      <th>3</th>\n",
       "      <td>Cncmaster</td>\n",
       "      <td>BDD</td>\n",
       "      <td>1</td>\n",
       "      <td>1</td>\n",
       "      <td>2013</td>\n",
       "      <td>2013-04-20 00:11:00</td>\n",
       "      <td>'''Support''' per noms. BDD is a strong contri...</td>\n",
       "      <td>1</td>\n",
       "    </tr>\n",
       "    <tr>\n",
       "      <th>4</th>\n",
       "      <td>Miniapolis</td>\n",
       "      <td>BDD</td>\n",
       "      <td>1</td>\n",
       "      <td>1</td>\n",
       "      <td>2013</td>\n",
       "      <td>2013-04-20 00:56:00</td>\n",
       "      <td>'''Support''', with great pleasure. I work wit...</td>\n",
       "      <td>1</td>\n",
       "    </tr>\n",
       "    <tr>\n",
       "      <th>5</th>\n",
       "      <td>Sven Manguard</td>\n",
       "      <td>BDD</td>\n",
       "      <td>1</td>\n",
       "      <td>1</td>\n",
       "      <td>2013</td>\n",
       "      <td>2013-04-20 01:53:00</td>\n",
       "      <td>'''Support''' There are plenty of important ro...</td>\n",
       "      <td>1</td>\n",
       "    </tr>\n",
       "    <tr>\n",
       "      <th>6</th>\n",
       "      <td>Ramaksoud2000</td>\n",
       "      <td>BDD</td>\n",
       "      <td>1</td>\n",
       "      <td>1</td>\n",
       "      <td>2013</td>\n",
       "      <td>2013-04-20 02:00:00</td>\n",
       "      <td>'''Support''' per noms. I don't see a reason n...</td>\n",
       "      <td>1</td>\n",
       "    </tr>\n",
       "    <tr>\n",
       "      <th>7</th>\n",
       "      <td>RockMagnetist</td>\n",
       "      <td>BDD</td>\n",
       "      <td>1</td>\n",
       "      <td>1</td>\n",
       "      <td>2013</td>\n",
       "      <td>2013-04-20 02:18:00</td>\n",
       "      <td>'''Support'''  BDD already wields a broom pret...</td>\n",
       "      <td>1</td>\n",
       "    </tr>\n",
       "    <tr>\n",
       "      <th>8</th>\n",
       "      <td>Carrite</td>\n",
       "      <td>BDD</td>\n",
       "      <td>1</td>\n",
       "      <td>1</td>\n",
       "      <td>2013</td>\n",
       "      <td>2013-04-20 02:22:00</td>\n",
       "      <td>'''Support''' barring a completely unexpected ...</td>\n",
       "      <td>1</td>\n",
       "    </tr>\n",
       "    <tr>\n",
       "      <th>9</th>\n",
       "      <td>Someguy1221</td>\n",
       "      <td>BDD</td>\n",
       "      <td>1</td>\n",
       "      <td>1</td>\n",
       "      <td>2013</td>\n",
       "      <td>2013-04-20 03:09:00</td>\n",
       "      <td>'''Support''' because I see no good reason not...</td>\n",
       "      <td>1</td>\n",
       "    </tr>\n",
       "  </tbody>\n",
       "</table>\n",
       "</div>"
      ],
      "text/plain": [
       "             SRC  TGT  VOT  RES   YEA                 DAT  \\\n",
       "0      Steel1943  BDD    1    1  2013 2013-04-19 23:13:00   \n",
       "1     Cuchullain  BDD    1    1  2013 2013-04-20 01:04:00   \n",
       "2      INeverCry  BDD    1    1  2013 2013-04-19 23:43:00   \n",
       "3      Cncmaster  BDD    1    1  2013 2013-04-20 00:11:00   \n",
       "4     Miniapolis  BDD    1    1  2013 2013-04-20 00:56:00   \n",
       "5  Sven Manguard  BDD    1    1  2013 2013-04-20 01:53:00   \n",
       "6  Ramaksoud2000  BDD    1    1  2013 2013-04-20 02:00:00   \n",
       "7  RockMagnetist  BDD    1    1  2013 2013-04-20 02:18:00   \n",
       "8        Carrite  BDD    1    1  2013 2013-04-20 02:22:00   \n",
       "9    Someguy1221  BDD    1    1  2013 2013-04-20 03:09:00   \n",
       "\n",
       "                                                 TXT  ELECTION_ID  \n",
       "0                           '''Support''' as co-nom.            1  \n",
       "1                      '''Support''' as nominator.--            1  \n",
       "2                            '''Support''' per noms.            1  \n",
       "3  '''Support''' per noms. BDD is a strong contri...            1  \n",
       "4  '''Support''', with great pleasure. I work wit...            1  \n",
       "5  '''Support''' There are plenty of important ro...            1  \n",
       "6  '''Support''' per noms. I don't see a reason n...            1  \n",
       "7  '''Support'''  BDD already wields a broom pret...            1  \n",
       "8  '''Support''' barring a completely unexpected ...            1  \n",
       "9  '''Support''' because I see no good reason not...            1  "
      ]
     },
     "execution_count": 129,
     "metadata": {},
     "output_type": "execute_result"
    }
   ],
   "source": [
    "wiki_df.head(10)"
   ]
  },
  {
   "cell_type": "markdown",
   "id": "7bdd08c8-8d54-42c3-818b-0dcf0f7ba615",
   "metadata": {},
   "source": [
    "* It is important to have an idea of the proportion of votes within our dataset."
   ]
  },
  {
   "cell_type": "code",
   "execution_count": 130,
   "id": "bf200bba-b644-4ffb-8817-a23ef20fc574",
   "metadata": {
    "tags": []
   },
   "outputs": [
    {
     "data": {
      "text/plain": [
       "Text(0.5, 0, 'VOT')"
      ]
     },
     "execution_count": 130,
     "metadata": {},
     "output_type": "execute_result"
    },
    {
     "data": {
      "image/png": "[encoded data removed]",
      "text/plain": [
       "<Figure size 640x480 with 1 Axes>"
      ]
     },
     "metadata": {},
     "output_type": "display_data"
    }
   ],
   "source": [
    "ax = wiki_df['VOT'].value_counts().sort_index().plot(kind='bar', title='Count')\n",
    "ax.set_xlabel('VOT')"
   ]
  },
  {
   "cell_type": "markdown",
   "id": "38aca5c5-ea38-49fa-be94-c421a1f9200a",
   "metadata": {},
   "source": [
    "#### Text preprocessing"
   ]
  },
  {
   "cell_type": "code",
   "execution_count": 131,
   "id": "1dace4d1-b558-4c45-a3b5-48a51b8e6fa2",
   "metadata": {
    "tags": []
   },
   "outputs": [],
   "source": [
    "wiki_copy = wiki_df.copy()"
   ]
  },
  {
   "cell_type": "code",
   "execution_count": 132,
   "id": "75e4ab37-867d-4d6f-90f6-73af8649d45a",
   "metadata": {
    "tags": []
   },
   "outputs": [],
   "source": [
    "#wiki_copy['TXT'].replace('', np.nan, inplace = True)\n",
    "#wiki_copy['TXT'].isna().sum()"
   ]
  },
  {
   "cell_type": "code",
   "execution_count": 136,
   "id": "4c82907d-e333-4c62-9302-98e9ad1ccf69",
   "metadata": {
    "tags": []
   },
   "outputs": [
    {
     "data": {
      "text/plain": [
       "7190"
      ]
     },
     "execution_count": 136,
     "metadata": {},
     "output_type": "execute_result"
    }
   ],
   "source": [
    "len(wiki_copy[wiki_copy['TXT'] == '']['TXT'])"
   ]
  },
  {
   "cell_type": "markdown",
   "id": "e811abd4-d0e5-4b5a-a1cc-27e5ac0ae538",
   "metadata": {},
   "source": [
    "* We notice that we have 7190 missing values among comments. "
   ]
  },
  {
   "cell_type": "markdown",
   "id": "ccb0a546-4109-4b1c-8ff3-b560262ee666",
   "metadata": {},
   "source": [
    "#### Removing the Wiki Markup from the comments"
   ]
  },
  {
   "cell_type": "code",
   "execution_count": 54,
   "id": "1b2d2ec2-fd89-4f74-8dba-0644f16f8ddb",
   "metadata": {
    "tags": []
   },
   "outputs": [],
   "source": [
    "# ensure that TXT is string\n",
    "wiki_copy['TXT'] = wiki_copy['TXT'].astype(str)"
   ]
  },
  {
   "cell_type": "markdown",
   "id": "21cfa3a1-0631-448d-a5f2-712a5dfa400e",
   "metadata": {},
   "source": [
    "* We will try to use a python library called \"wikitextparser\" to easily remove the wiki markup. "
   ]
  },
  {
   "cell_type": "code",
   "execution_count": 55,
   "id": "ba55a04b-4490-400d-8c53-f8b2e5e52702",
   "metadata": {},
   "outputs": [],
   "source": [
    "from wikitextparser import remove_markup, parse"
   ]
  },
  {
   "cell_type": "code",
   "execution_count": 137,
   "id": "3e14182a-29dc-49d4-9b0d-9209cfb6751e",
   "metadata": {
    "tags": []
   },
   "outputs": [
    {
     "data": {
      "text/plain": [
       "\"Congratulatory '''Support''' - Excellent [[Wikipedia:WikiProject Military history|WikiProject:Military history]] experience with this user. Can be trusted with new responsibility.\""
      ]
     },
     "execution_count": 137,
     "metadata": {},
     "output_type": "execute_result"
    }
   ],
   "source": [
    "example = wiki_copy.iloc[66609]['TXT']\n",
    "example"
   ]
  },
  {
   "cell_type": "code",
   "execution_count": 138,
   "id": "86a84aee-5007-488a-a59e-94c0ccc859f4",
   "metadata": {
    "tags": []
   },
   "outputs": [
    {
     "data": {
      "text/plain": [
       "'Congratulatory Support - Excellent WikiProject:Military history experience with this user. Can be trusted with new responsibility.'"
      ]
     },
     "execution_count": 138,
     "metadata": {},
     "output_type": "execute_result"
    }
   ],
   "source": [
    "remove_markup(example)"
   ]
  },
  {
   "cell_type": "markdown",
   "id": "d0965efd-1758-49ed-a62f-cc27b0bb0988",
   "metadata": {},
   "source": [
    "* The library didn't handle the link removal as expected. Therefore, we will implement a classic function using regular expressions to remove the wiki markup, relying on the Wikitext structure from the website [Wikitext](https://en.wikipedia.org/wiki/Help:Wikitext)."
   ]
  },
  {
   "cell_type": "code",
   "execution_count": 139,
   "id": "c9854add-9abb-42a5-9d92-89b8ec65ee62",
   "metadata": {
    "tags": []
   },
   "outputs": [
    {
     "data": {
      "text/plain": [
       "'Congratulatory Support - Excellent  experience with this user. Can be trusted with new responsibility.'"
      ]
     },
     "execution_count": 139,
     "metadata": {},
     "output_type": "execute_result"
    }
   ],
   "source": [
    "from modules.text_processing import *\n",
    "importlib.reload(modules.text_processing)\n",
    "\n",
    "remove_wiki_markup(example)"
   ]
  },
  {
   "cell_type": "markdown",
   "id": "1682d6c6-5124-4e6c-823d-4ec3a1490f4e",
   "metadata": {},
   "source": [
    "* The results is indeed what we want. Let's test on a random sample of comments."
   ]
  },
  {
   "cell_type": "code",
   "execution_count": 140,
   "id": "f0bb78a6-15b1-4177-8899-ef9ff7674270",
   "metadata": {
    "tags": []
   },
   "outputs": [
    {
     "name": "stdout",
     "output_type": "stream",
     "text": [
      "0  :  '''Oppose''' like the person said above, didn't answer the questions in a manner that was good enough for me. also the vandalism is worrying to me, really wasn't that long enough ago. if you are serious about becoming an admin and taking on what that requires my i suggest creating a new account and starting from scratch? would remove the bad memories people could have of your previous edits. and would show only the good side of yourself, or at least i'd hope so.\n",
      "\n",
      "1  :  '''Support'''. I haven't seen anything to give me concern, or even a pause. Cheers. &mdash;\n",
      "\n",
      "2  :  At the last RfA I opposed this editor. However, I have reviewed her recent interactions with other users and now find no reason to oppose. I find her posts to talk pages to be kind, professional and firm. To date, most of the opposes and neutrals are expressing soft opposition or weak neutrality which suggests that much has improved. There is little downside to this nomination so I am happy to support. -\n",
      "\n",
      "3  :  '''Support''' - I have had good interactions with this user.\n",
      "\n",
      "4  :  This user appears to need more training in the Wikipedia field.  He seems confused and unready.--\n",
      "\n",
      "5  :  '''Oppose''', too inexperienced and no need for tools.\n",
      "\n",
      "6  :  '''Neutral''' I see a very good editor in your future...you have a good knowledge of wikipedia's policy, but the lack of experience doesn't quite want to make me support yet. I'll vote for you in another RFA, just maybe later. <strong>\n",
      "\n",
      "7  :  '''Support''' - I've been watching his contributions for a long time. I believe he is a good candidate. May God bless him.\n",
      "\n",
      "8  :  '''Strong support'''. Very well qualified candidate.\n",
      "\n",
      "9  :  '''Support''' By all means\n",
      "\n"
     ]
    }
   ],
   "source": [
    "txts = wiki_copy['TXT'].sample(10).copy()\n",
    "for i, comment in enumerate(txts): \n",
    "    print(i, ' : ' , comment)\n",
    "    print() "
   ]
  },
  {
   "cell_type": "code",
   "execution_count": 141,
   "id": "90b87b53-0936-46c7-9c70-5ecc7274fe97",
   "metadata": {
    "tags": []
   },
   "outputs": [
    {
     "name": "stdout",
     "output_type": "stream",
     "text": [
      "0  :  Oppose like the person said above, didn't answer the questions in a manner that was good enough for me. also the vandalism is worrying to me, really wasn't that long enough ago. if you are serious about becoming an admin and taking on what that requires my i suggest creating a new account and starting from scratch? would remove the bad memories people could have of your previous edits. and would show only the good side of yourself, or at least i'd hope so.\n",
      "\n",
      "1  :  Support. I haven't seen anything to give me concern, or even a pause. Cheers. \n",
      "\n",
      "2  :  At the last RfA I opposed this editor. However, I have reviewed her recent interactions with other users and now find no reason to oppose. I find her posts to talk pages to be kind, professional and firm. To date, most of the opposes and neutrals are expressing soft opposition or weak neutrality which suggests that much has improved. There is little downside to this nomination so I am happy to support. -\n",
      "\n",
      "3  :  Support - I have had good interactions with this user.\n",
      "\n",
      "4  :  This user appears to need more training in the Wikipedia field.  He seems confused and unready. \n",
      "\n",
      "5  :  Oppose, too inexperienced and no need for tools.\n",
      "\n",
      "6  :  Neutral I see a very good editor in your future...you have a good knowledge of wikipedia's policy, but the lack of experience doesn't quite want to make me support yet. I'll vote for you in another RFA, just maybe later. \n",
      "\n",
      "7  :  Support - I've been watching his contributions for a long time. I believe he is a good candidate. May God bless him.\n",
      "\n",
      "8  :  Strong support. Very well qualified candidate.\n",
      "\n",
      "9  :  Support By all means\n",
      "\n"
     ]
    }
   ],
   "source": [
    "from modules.text_processing import *\n",
    "importlib.reload(modules.text_processing)\n",
    "\n",
    "for i, comment in enumerate(txts): \n",
    "    print(i, ' : ' , remove_wiki_markup(comment))\n",
    "    print() "
   ]
  },
  {
   "cell_type": "markdown",
   "id": "0182d31d-d242-48e6-9637-522ae4f31e12",
   "metadata": {},
   "source": [
    "* It seems that it works well on the comments of our dataset. We create then a column for cleaned comments."
   ]
  },
  {
   "cell_type": "code",
   "execution_count": 176,
   "id": "7c9093b9-9636-4534-ac23-49ac06e89d02",
   "metadata": {
    "tags": []
   },
   "outputs": [
    {
     "data": {
      "text/html": [
       "<div>\n",
       "<style scoped>\n",
       "    .dataframe tbody tr th:only-of-type {\n",
       "        vertical-align: middle;\n",
       "    }\n",
       "\n",
       "    .dataframe tbody tr th {\n",
       "        vertical-align: top;\n",
       "    }\n",
       "\n",
       "    .dataframe thead th {\n",
       "        text-align: right;\n",
       "    }\n",
       "</style>\n",
       "<table border=\"1\" class=\"dataframe\">\n",
       "  <thead>\n",
       "    <tr style=\"text-align: right;\">\n",
       "      <th></th>\n",
       "      <th>SRC</th>\n",
       "      <th>TGT</th>\n",
       "      <th>VOT</th>\n",
       "      <th>RES</th>\n",
       "      <th>YEA</th>\n",
       "      <th>DAT</th>\n",
       "      <th>TXT</th>\n",
       "      <th>ELECTION_ID</th>\n",
       "      <th>CLE</th>\n",
       "    </tr>\n",
       "  </thead>\n",
       "  <tbody>\n",
       "    <tr>\n",
       "      <th>0</th>\n",
       "      <td>Steel1943</td>\n",
       "      <td>BDD</td>\n",
       "      <td>1</td>\n",
       "      <td>1</td>\n",
       "      <td>2013</td>\n",
       "      <td>2013-04-19 23:13:00</td>\n",
       "      <td>'''Support''' as co-nom.</td>\n",
       "      <td>1</td>\n",
       "      <td>Support as co-nom.</td>\n",
       "    </tr>\n",
       "    <tr>\n",
       "      <th>1</th>\n",
       "      <td>Cuchullain</td>\n",
       "      <td>BDD</td>\n",
       "      <td>1</td>\n",
       "      <td>1</td>\n",
       "      <td>2013</td>\n",
       "      <td>2013-04-20 01:04:00</td>\n",
       "      <td>'''Support''' as nominator.--</td>\n",
       "      <td>1</td>\n",
       "      <td>Support as nominator.</td>\n",
       "    </tr>\n",
       "    <tr>\n",
       "      <th>2</th>\n",
       "      <td>INeverCry</td>\n",
       "      <td>BDD</td>\n",
       "      <td>1</td>\n",
       "      <td>1</td>\n",
       "      <td>2013</td>\n",
       "      <td>2013-04-19 23:43:00</td>\n",
       "      <td>'''Support''' per noms.</td>\n",
       "      <td>1</td>\n",
       "      <td>Support per noms.</td>\n",
       "    </tr>\n",
       "    <tr>\n",
       "      <th>3</th>\n",
       "      <td>Cncmaster</td>\n",
       "      <td>BDD</td>\n",
       "      <td>1</td>\n",
       "      <td>1</td>\n",
       "      <td>2013</td>\n",
       "      <td>2013-04-20 00:11:00</td>\n",
       "      <td>'''Support''' per noms. BDD is a strong contri...</td>\n",
       "      <td>1</td>\n",
       "      <td>Support per noms. BDD is a strong contributor ...</td>\n",
       "    </tr>\n",
       "    <tr>\n",
       "      <th>4</th>\n",
       "      <td>Miniapolis</td>\n",
       "      <td>BDD</td>\n",
       "      <td>1</td>\n",
       "      <td>1</td>\n",
       "      <td>2013</td>\n",
       "      <td>2013-04-20 00:56:00</td>\n",
       "      <td>'''Support''', with great pleasure. I work wit...</td>\n",
       "      <td>1</td>\n",
       "      <td>Support, with great pleasure. I work with BDD ...</td>\n",
       "    </tr>\n",
       "  </tbody>\n",
       "</table>\n",
       "</div>"
      ],
      "text/plain": [
       "          SRC  TGT  VOT  RES   YEA                 DAT  \\\n",
       "0   Steel1943  BDD    1    1  2013 2013-04-19 23:13:00   \n",
       "1  Cuchullain  BDD    1    1  2013 2013-04-20 01:04:00   \n",
       "2   INeverCry  BDD    1    1  2013 2013-04-19 23:43:00   \n",
       "3   Cncmaster  BDD    1    1  2013 2013-04-20 00:11:00   \n",
       "4  Miniapolis  BDD    1    1  2013 2013-04-20 00:56:00   \n",
       "\n",
       "                                                 TXT  ELECTION_ID  \\\n",
       "0                           '''Support''' as co-nom.            1   \n",
       "1                      '''Support''' as nominator.--            1   \n",
       "2                            '''Support''' per noms.            1   \n",
       "3  '''Support''' per noms. BDD is a strong contri...            1   \n",
       "4  '''Support''', with great pleasure. I work wit...            1   \n",
       "\n",
       "                                                 CLE  \n",
       "0                                 Support as co-nom.  \n",
       "1                             Support as nominator.   \n",
       "2                                  Support per noms.  \n",
       "3  Support per noms. BDD is a strong contributor ...  \n",
       "4  Support, with great pleasure. I work with BDD ...  "
      ]
     },
     "execution_count": 176,
     "metadata": {},
     "output_type": "execute_result"
    }
   ],
   "source": [
    "wiki_copy['CLE'] = wiki_copy['TXT'].apply(remove_wiki_markup)\n",
    "wiki_copy.head()"
   ]
  },
  {
   "cell_type": "code",
   "execution_count": 177,
   "id": "81fc93bb-7b71-44d6-8d82-9cbe1d535f78",
   "metadata": {
    "tags": []
   },
   "outputs": [
    {
     "data": {
      "text/plain": [
       "array([' ', '—', '-', '+', '→', \"'\", '.', '}', '!', '–', 'S', '·', 'I',\n",
       "       '~', '«', '↔', 'C', ':', '(', '\"', '/'], dtype=object)"
      ]
     },
     "execution_count": 177,
     "metadata": {},
     "output_type": "execute_result"
    }
   ],
   "source": [
    "comments_with_one_char = wiki_copy.loc[(wiki_copy['CLE'].apply(len) == 1)]['CLE'].unique() # one char in the comments\n",
    "comments_with_one_char"
   ]
  },
  {
   "cell_type": "code",
   "execution_count": 178,
   "id": "dd6928a0-7b88-421f-b81f-ad8dddd52deb",
   "metadata": {
    "tags": []
   },
   "outputs": [
    {
     "data": {
      "text/plain": [
       "array(['  ', '- ', '+ ', '— ', '←.', ' [', '. ', \"''\", ' (', '⇦⇨', ' —',\n",
       "       'OK', '}—', ' -', \"':\", '我是', '++', 'CO', ' /', ' ~', ' C', 'Q8',\n",
       "       ' ☺', 'No', 'Da', 'S.', '! ', ':)'], dtype=object)"
      ]
     },
     "execution_count": 178,
     "metadata": {},
     "output_type": "execute_result"
    }
   ],
   "source": [
    "comments_with_two_char = wiki_copy.loc[(wiki_copy['CLE'].apply(len) == 2)]['CLE'].unique() # two char in the comments\n",
    "comments_with_two_char"
   ]
  },
  {
   "cell_type": "markdown",
   "id": "a638caf5-c315-45b0-a39e-1b7e084521d6",
   "metadata": {},
   "source": [
    "* We will delete those comments containing one or characters that are meaningless for our study."
   ]
  },
  {
   "cell_type": "code",
   "execution_count": 179,
   "id": "94f2421f-2adf-4cef-9371-f9fe8df1dbb2",
   "metadata": {
    "tags": []
   },
   "outputs": [],
   "source": [
    "wiki_copy['CLE'] = wiki_copy['CLE'].apply(lambda x: '' if len(x) < 3 and x not in ['OK', 'No']  else x)"
   ]
  },
  {
   "cell_type": "code",
   "execution_count": 180,
   "id": "577891e1-4d49-446b-8b20-64f302264c76",
   "metadata": {
    "tags": []
   },
   "outputs": [
    {
     "data": {
      "text/plain": [
       "array(['!!!', \"'''\", ' - ', 'Ja.', 'OK.', \"I'm\", 'Yes', '.  ', \" ''\",\n",
       "       '+1–', '賛成 ', '} —', '他是好', 'wow', '  ~', \"'' \", ' ~~', 'No ',\n",
       "       '^.^', 'S+1', \"''÷\", 'yup', '➲  ', 'Yay', 'Q3.', '  (', '   ',\n",
       "       'yes', '-  ', 'Yup', 'Aye', 'Q1.', '9 (', '...', 'No.', 'Yep',\n",
       "       '— (', '. —', \"—''\", ' :)', ' (/', ' (|', 'yep', '  |', '}} ',\n",
       "       'Baa', 'Moo', 'Ok.', '!  ', \"— '\", '. -', ':) ', 's  ', \". '\",\n",
       "       ' ;)', 'Yo.', ' ()', ' (\"', ':-)', 'NO.'], dtype=object)"
      ]
     },
     "execution_count": 180,
     "metadata": {},
     "output_type": "execute_result"
    }
   ],
   "source": [
    "wiki_copy.loc[(wiki_copy['CLE'].apply(len) == 3)]['CLE'].unique()"
   ]
  },
  {
   "cell_type": "code",
   "execution_count": 181,
   "id": "c2a3f75d-abcb-4280-9d4c-c9904d90d940",
   "metadata": {
    "tags": []
   },
   "outputs": [
    {
     "data": {
      "text/plain": [
       "array(['. - ', 'Yay.', \"'''/\", \"—'''\", 'Q2 -', 'Sure', 'Yup.', 'Wow.',\n",
       "       \" - '\", 'Yes.', 'Duh.', 'Oui ', 'Yeps', 'Yes!', 'Yep.', '. ? ',\n",
       "       \" '''\", 'Oui.', 'jo  ', '+1  ', 'Yes ', 'Yep!', ' .  ', 'See ',\n",
       "       '. ~~', 'NEWT', '  (|', 'AGF ', 'FGJ–', 'yup.', 'Yep ', '➨ ❝❞',\n",
       "       'Duh!', '-   ', '   ·', 'DUH!', 'Aye.', 'Meh.', \". ''\", \"! ''\",\n",
       "       'Nom.', ' ...', \"Q5 '\", 'okay', 'Aww.', 'Yup ', 'I am', 'Yea.',\n",
       "       \"~'''\", 'Pig.', 'Yo. ', 'Mop.', 'Wow!', \"''' \", '100%', 'Yes,',\n",
       "       \"I'm \", 'No. ', 'Bleh', \"'''〈\", '   (', 'Да! ', 'Yay!', '.  |',\n",
       "       ' ( -', '«»(|', ', . ', 'TAK!', '<3  ', '.   ', 'yes!', 'Moo.',\n",
       "       'Cool', 'Hai ', 'Pro.', 'Sup ', 'YES!', 'Ja! ', ' ort', 'yep.',\n",
       "       'Who?', 'Yup,', 'No  ', 'Heh.'], dtype=object)"
      ]
     },
     "execution_count": 181,
     "metadata": {},
     "output_type": "execute_result"
    }
   ],
   "source": [
    "wiki_copy.loc[(wiki_copy['CLE'].apply(len) == 4)]['CLE'].unique()"
   ]
  },
  {
   "cell_type": "code",
   "execution_count": 182,
   "id": "e03631b3-29d5-4f8a-93c6-f3b656aa1024",
   "metadata": {
    "tags": []
   },
   "outputs": [
    {
     "data": {
      "text/plain": [
       "array(['100%.', \"← '''\", \"  '''\", 'Yes! ', 'Q2. -', 'Aye.—', \". '''\",\n",
       "       'Sure.', 'nods ', 'Meh -', 'Yerp.', \" -'''\", 'Uhhhh', 'Per .',\n",
       "       'Sold.', \"'''••\", 'Duh →', 'Sure ', 'sure ', 'Solid', \"Yep '\",\n",
       "       'AGF  ', 'Okay.', 'Fine.', '    ·', 'Yup. ', 'Yes. ', 'Yup  ',\n",
       "       'Yes  ', 'No.  ', \" –'''\", 'Yes —', 'Damn,', 'Nom  ', \"''' |\",\n",
       "       'Desu.', 'Yep. ', '.   (', 'Aye. ', 'Ok. —', '+S . ', '+S  (',\n",
       "       ' () (', \"➔ '''\", 'ok. —', '+1.  ', 'Yup! ', 'Duh. ', 'PRO -',\n",
       "       \"➨ '''\", \" —'''\", \"—'''[\", 'yes. ', 'Moo  ', 'AGF. ', 'Oops.',\n",
       "       'Hut+!', 'See .', 'Yeap ', 'GL. –', ' ..  ', ' ⁿɡ͡b', 'Cool.',\n",
       "       'Fish.', \"Sure'\", 'Yes..', 'Yup..', 'Oui!.', \"'''  \", \". —''\",\n",
       "       'Sure!', 'Yay. ', \".  ''\", 'Duh .', 'Gasp!', 'Mooo.', 'Agree',\n",
       "       'Yeah.', 'Sì.  ', 'TINC.', 'Frog.', 'w00t.', 'SNFA.', 'Aye =',\n",
       "       'Duh  ', 'Okay!', 'Duh -', 'What?', 'AOL!>', 'No ()', 'Ok.  ',\n",
       "       'Sí.  ', 'Yep  ', 'Mhmm.', 'Da.  ', '-\"-  ', 'No. -'], dtype=object)"
      ]
     },
     "execution_count": 182,
     "metadata": {},
     "output_type": "execute_result"
    }
   ],
   "source": [
    "wiki_copy.loc[(wiki_copy['CLE'].apply(len) == 5)]['CLE'].unique()"
   ]
  },
  {
   "cell_type": "markdown",
   "id": "34e1a6fb-1cca-4619-b35c-aba82b644333",
   "metadata": {
    "tags": []
   },
   "source": [
    "When examining comments with a length greater than 2, we find various words and special characters that we cannot eliminate at this point. \n",
    "Due to the extensive number of words and special characters, exhaustive treatment of these comments becomes challenging. "
   ]
  },
  {
   "cell_type": "markdown",
   "id": "2d2cc74a-6ebe-43b6-bc36-de5235f19125",
   "metadata": {},
   "source": [
    "* Let's see then what are the words by which comments start."
   ]
  },
  {
   "cell_type": "code",
   "execution_count": 195,
   "id": "7d6a1d7b-f4c0-48ad-b850-ee4e28b8b757",
   "metadata": {
    "tags": []
   },
   "outputs": [
    {
     "name": "stdout",
     "output_type": "stream",
     "text": [
      "Support , Occurrence : 68944\n",
      "Support, , Occurrence : 7582\n",
      "Yea, , Occurrence : 6\n",
      "Support. , Occurrence : 23897\n",
      "If , Occurrence : 108\n",
      "Weak , Occurrence : 3370\n",
      "Support: , Occurrence : 1661\n",
      ". , Occurrence : 160\n",
      "Support...opposes , Occurrence : 1\n",
      "Oppose. , Occurrence : 5538\n",
      "Although , Occurrence : 68\n",
      "Oppose , Occurrence : 21033\n",
      "Fruitless , Occurrence : 3\n",
      "Neutral , Occurrence : 5864\n",
      "Yes , Occurrence : 153\n",
      "Strong , Occurrence : 8393\n"
     ]
    }
   ],
   "source": [
    "from collections import defaultdict\n",
    "cleaned_comments = wiki_copy['CLE']\n",
    "\n",
    "first_word_counts = defaultdict(int)\n",
    "for comment in cleaned_comments: \n",
    "    if isinstance(comment, str) and comment.strip(): \n",
    "        first_word = comment.split()[0]\n",
    "        first_word_counts[first_word] += 1\n",
    "i = 0       \n",
    "for word, count in first_word_counts.items(): \n",
    "    print(word, ', Occurrence :', count)\n",
    "    if i == 15: \n",
    "        break\n",
    "    i += 1\n"
   ]
  },
  {
   "cell_type": "code",
   "execution_count": 183,
   "id": "ceed5d1b-d599-440f-a0d0-c78f56f82175",
   "metadata": {
    "tags": []
   },
   "outputs": [
    {
     "data": {
      "text/plain": [
       "9035"
      ]
     },
     "execution_count": 183,
     "metadata": {},
     "output_type": "execute_result"
    }
   ],
   "source": [
    "# Some comments have become empty\n",
    "# After the wiki markup removal\n",
    "# wiki_copy['CLE'].replace('', np.nan, inplace=True)\n",
    "# wiki_copy['CLE'].isna().sum()\n",
    "len(wiki_copy[wiki_copy['CLE'] == '']['CLE'])"
   ]
  },
  {
   "cell_type": "markdown",
   "id": "d2a7bf85-fbd8-4e8b-87f2-8e549f2b46e1",
   "metadata": {},
   "source": [
    "* In the cleaned comments, we have now 9035 missing values compared to the initial count of 7190. \n",
    "\n",
    "We don't do the replacement at this stage of empty comments by NaN, because we intend to maintain them as strings for the following steps. "
   ]
  },
  {
   "cell_type": "markdown",
   "id": "8a4deacf-4103-4817-b702-3da4db03b504",
   "metadata": {},
   "source": [
    "# Sentiment analysis with vader "
   ]
  },
  {
   "cell_type": "code",
   "execution_count": 164,
   "id": "cf892c97-dcfc-4749-96c6-5e90b3dd27c3",
   "metadata": {
    "tags": []
   },
   "outputs": [],
   "source": [
    "# Si Chris et Liandro en ont besoin \n",
    "\n",
    "\n",
    "# To remove all punctuation \n",
    "# import string \n",
    "# translator = str.maketrans(\"\", \"\", string.punctuation)\n",
    "# wiki_no_punct = wiki_df.copy()\n",
    "# wiki_no_punct['CLE'] = wiki_no_punct['CLE'].apply(lambda x: x.translate(translator) if isinstance(x, str) else x)"
   ]
  },
  {
   "cell_type": "markdown",
   "id": "8f64f1f1-fd73-4581-8920-0c605751ce32",
   "metadata": {},
   "source": [
    "Punctuation can provide valuable context for sentiment analysis as it can affect the affect the emotional ton of a sentence. Vader is designed to work with text that includes punctuation. It take into account various linguistic and grammatical aspects to understant the sentiment expressed in a piece of text."
   ]
  },
  {
   "cell_type": "code",
   "execution_count": 185,
   "id": "09c34bbb-10ca-4a32-b428-537f77620500",
   "metadata": {
    "tags": []
   },
   "outputs": [
    {
     "name": "stderr",
     "output_type": "stream",
     "text": [
      "[nltk_data] Downloading package vader_lexicon to\n",
      "[nltk_data]     /home/sakas/nltk_data...\n",
      "[nltk_data]   Package vader_lexicon is already up-to-date!\n"
     ]
    },
    {
     "data": {
      "text/plain": [
       "True"
      ]
     },
     "execution_count": 185,
     "metadata": {},
     "output_type": "execute_result"
    }
   ],
   "source": [
    "import nltk \n",
    "nltk.download('vader_lexicon')"
   ]
  },
  {
   "cell_type": "code",
   "execution_count": 186,
   "id": "bebdc444-95f2-4a7d-b4d4-8d0d81d876c6",
   "metadata": {
    "tags": []
   },
   "outputs": [],
   "source": [
    "from nltk.sentiment import SentimentIntensityAnalyzer\n",
    "from tqdm.notebook import tqdm\n",
    "\n",
    "sia = SentimentIntensityAnalyzer()"
   ]
  },
  {
   "cell_type": "markdown",
   "id": "1c0758fb-6c33-437a-b66a-07a7042e5a80",
   "metadata": {},
   "source": [
    "* Let's apply it on an example comment."
   ]
  },
  {
   "cell_type": "code",
   "execution_count": 215,
   "id": "b93b8a01-2b1c-4b34-8957-e27f746890f0",
   "metadata": {
    "tags": []
   },
   "outputs": [
    {
     "name": "stdout",
     "output_type": "stream",
     "text": [
      "Support There are plenty of important roles on this project, of which content creator is only one of them. BDD has done good work over a number of years. That his primary activity is not content creation is not of concern.\n",
      "Scores =  {'neg': 0.04, 'neu': 0.769, 'pos': 0.191, 'compound': 0.7083}\n"
     ]
    }
   ],
   "source": [
    "ex = wiki_copy.iloc[5]['CLE']\n",
    "print(ex)\n",
    "print('Scores = ', sia.polarity_scores(ex))"
   ]
  },
  {
   "cell_type": "markdown",
   "id": "81f1dc07-34fe-4d7b-bacf-9de3b6d88380",
   "metadata": {},
   "source": [
    "VADER sentiment analysis provides sentiment scores for text: negative(neg), neutral(neu), positive(pos) and compound scores. The compound score takes values from -1 to 1, with values closer to -1 indicating negativity, 0 for neutrality and 1 for positivity. "
   ]
  },
  {
   "cell_type": "code",
   "execution_count": 187,
   "id": "0c18e36f-01ce-45aa-ab84-d2e55cb6986d",
   "metadata": {
    "tags": []
   },
   "outputs": [],
   "source": [
    "scores = {}\n",
    "for i, row in wiki_copy.iterrows(): \n",
    "    scores[i] = sia.polarity_scores(row['CLE'])"
   ]
  },
  {
   "cell_type": "code",
   "execution_count": 188,
   "id": "6a2a3689-6673-4d7d-b9ff-2c6f6a269fad",
   "metadata": {
    "tags": []
   },
   "outputs": [],
   "source": [
    "scores_df = pd.DataFrame(scores).T"
   ]
  },
  {
   "cell_type": "code",
   "execution_count": 189,
   "id": "bb76d9ab-496b-4041-a0d7-6cbc87ccdf3a",
   "metadata": {
    "tags": []
   },
   "outputs": [
    {
     "data": {
      "text/html": [
       "<div>\n",
       "<style scoped>\n",
       "    .dataframe tbody tr th:only-of-type {\n",
       "        vertical-align: middle;\n",
       "    }\n",
       "\n",
       "    .dataframe tbody tr th {\n",
       "        vertical-align: top;\n",
       "    }\n",
       "\n",
       "    .dataframe thead th {\n",
       "        text-align: right;\n",
       "    }\n",
       "</style>\n",
       "<table border=\"1\" class=\"dataframe\">\n",
       "  <thead>\n",
       "    <tr style=\"text-align: right;\">\n",
       "      <th></th>\n",
       "      <th>neg</th>\n",
       "      <th>neu</th>\n",
       "      <th>pos</th>\n",
       "      <th>compound</th>\n",
       "    </tr>\n",
       "  </thead>\n",
       "  <tbody>\n",
       "    <tr>\n",
       "      <th>0</th>\n",
       "      <td>0.000</td>\n",
       "      <td>0.426</td>\n",
       "      <td>0.574</td>\n",
       "      <td>0.4019</td>\n",
       "    </tr>\n",
       "    <tr>\n",
       "      <th>1</th>\n",
       "      <td>0.000</td>\n",
       "      <td>0.426</td>\n",
       "      <td>0.574</td>\n",
       "      <td>0.4019</td>\n",
       "    </tr>\n",
       "    <tr>\n",
       "      <th>2</th>\n",
       "      <td>0.000</td>\n",
       "      <td>0.426</td>\n",
       "      <td>0.574</td>\n",
       "      <td>0.4019</td>\n",
       "    </tr>\n",
       "    <tr>\n",
       "      <th>3</th>\n",
       "      <td>0.176</td>\n",
       "      <td>0.504</td>\n",
       "      <td>0.320</td>\n",
       "      <td>0.6124</td>\n",
       "    </tr>\n",
       "    <tr>\n",
       "      <th>4</th>\n",
       "      <td>0.000</td>\n",
       "      <td>0.612</td>\n",
       "      <td>0.388</td>\n",
       "      <td>0.9349</td>\n",
       "    </tr>\n",
       "    <tr>\n",
       "      <th>5</th>\n",
       "      <td>0.040</td>\n",
       "      <td>0.769</td>\n",
       "      <td>0.191</td>\n",
       "      <td>0.7083</td>\n",
       "    </tr>\n",
       "    <tr>\n",
       "      <th>6</th>\n",
       "      <td>0.000</td>\n",
       "      <td>0.722</td>\n",
       "      <td>0.278</td>\n",
       "      <td>0.4019</td>\n",
       "    </tr>\n",
       "    <tr>\n",
       "      <th>7</th>\n",
       "      <td>0.022</td>\n",
       "      <td>0.848</td>\n",
       "      <td>0.130</td>\n",
       "      <td>0.8850</td>\n",
       "    </tr>\n",
       "    <tr>\n",
       "      <th>8</th>\n",
       "      <td>0.058</td>\n",
       "      <td>0.665</td>\n",
       "      <td>0.278</td>\n",
       "      <td>0.9801</td>\n",
       "    </tr>\n",
       "    <tr>\n",
       "      <th>9</th>\n",
       "      <td>0.172</td>\n",
       "      <td>0.391</td>\n",
       "      <td>0.437</td>\n",
       "      <td>0.5267</td>\n",
       "    </tr>\n",
       "  </tbody>\n",
       "</table>\n",
       "</div>"
      ],
      "text/plain": [
       "     neg    neu    pos  compound\n",
       "0  0.000  0.426  0.574    0.4019\n",
       "1  0.000  0.426  0.574    0.4019\n",
       "2  0.000  0.426  0.574    0.4019\n",
       "3  0.176  0.504  0.320    0.6124\n",
       "4  0.000  0.612  0.388    0.9349\n",
       "5  0.040  0.769  0.191    0.7083\n",
       "6  0.000  0.722  0.278    0.4019\n",
       "7  0.022  0.848  0.130    0.8850\n",
       "8  0.058  0.665  0.278    0.9801\n",
       "9  0.172  0.391  0.437    0.5267"
      ]
     },
     "execution_count": 189,
     "metadata": {},
     "output_type": "execute_result"
    }
   ],
   "source": [
    "scores_df.head(10)"
   ]
  },
  {
   "cell_type": "code",
   "execution_count": 201,
   "id": "e9ba28ab-c5c0-474e-8806-950312ce4729",
   "metadata": {
    "tags": []
   },
   "outputs": [
    {
     "data": {
      "text/html": [
       "<div>\n",
       "<style scoped>\n",
       "    .dataframe tbody tr th:only-of-type {\n",
       "        vertical-align: middle;\n",
       "    }\n",
       "\n",
       "    .dataframe tbody tr th {\n",
       "        vertical-align: top;\n",
       "    }\n",
       "\n",
       "    .dataframe thead th {\n",
       "        text-align: right;\n",
       "    }\n",
       "</style>\n",
       "<table border=\"1\" class=\"dataframe\">\n",
       "  <thead>\n",
       "    <tr style=\"text-align: right;\">\n",
       "      <th></th>\n",
       "      <th>neg</th>\n",
       "      <th>neu</th>\n",
       "      <th>pos</th>\n",
       "      <th>compound</th>\n",
       "      <th>SRC</th>\n",
       "      <th>TGT</th>\n",
       "      <th>VOT</th>\n",
       "      <th>RES</th>\n",
       "      <th>YEA</th>\n",
       "      <th>DAT</th>\n",
       "      <th>TXT</th>\n",
       "      <th>ELECTION_ID</th>\n",
       "      <th>CLE</th>\n",
       "    </tr>\n",
       "  </thead>\n",
       "  <tbody>\n",
       "    <tr>\n",
       "      <th>113954</th>\n",
       "      <td>0.104</td>\n",
       "      <td>0.732</td>\n",
       "      <td>0.165</td>\n",
       "      <td>0.2500</td>\n",
       "      <td>Runcorn</td>\n",
       "      <td>David.Mestel</td>\n",
       "      <td>1</td>\n",
       "      <td>0</td>\n",
       "      <td>2007</td>\n",
       "      <td>2007-01-16 22:28:00</td>\n",
       "      <td>'''Support''' I am very familiar with David's ...</td>\n",
       "      <td>1838</td>\n",
       "      <td>Support I am very familiar with David's work a...</td>\n",
       "    </tr>\n",
       "    <tr>\n",
       "      <th>40740</th>\n",
       "      <td>0.000</td>\n",
       "      <td>1.000</td>\n",
       "      <td>0.000</td>\n",
       "      <td>0.0000</td>\n",
       "      <td>Majorly</td>\n",
       "      <td>Paxse</td>\n",
       "      <td>1</td>\n",
       "      <td>1</td>\n",
       "      <td>2009</td>\n",
       "      <td>2009-03-29 16:44:00</td>\n",
       "      <td>'''</td>\n",
       "      <td>562</td>\n",
       "      <td>'''</td>\n",
       "    </tr>\n",
       "    <tr>\n",
       "      <th>127884</th>\n",
       "      <td>0.107</td>\n",
       "      <td>0.496</td>\n",
       "      <td>0.396</td>\n",
       "      <td>0.7901</td>\n",
       "      <td>HereToHelp</td>\n",
       "      <td>Aude</td>\n",
       "      <td>1</td>\n",
       "      <td>1</td>\n",
       "      <td>2006</td>\n",
       "      <td>2006-02-15 21:40:00</td>\n",
       "      <td>'''Support'''. A pleasure to work with and a v...</td>\n",
       "      <td>2216</td>\n",
       "      <td>Support. A pleasure to work with and a valued ...</td>\n",
       "    </tr>\n",
       "    <tr>\n",
       "      <th>28740</th>\n",
       "      <td>0.134</td>\n",
       "      <td>0.619</td>\n",
       "      <td>0.247</td>\n",
       "      <td>0.1655</td>\n",
       "      <td>Ret.Prof</td>\n",
       "      <td>Frozen4322</td>\n",
       "      <td>1</td>\n",
       "      <td>0</td>\n",
       "      <td>2010</td>\n",
       "      <td>2010-02-13 10:46:00</td>\n",
       "      <td>'''Weak Support:'''  I like what I see but the...</td>\n",
       "      <td>379</td>\n",
       "      <td>Weak Support:  I like what I see but the exper...</td>\n",
       "    </tr>\n",
       "    <tr>\n",
       "      <th>197436</th>\n",
       "      <td>0.259</td>\n",
       "      <td>0.741</td>\n",
       "      <td>0.000</td>\n",
       "      <td>-0.1027</td>\n",
       "      <td>Ta bu shi da yu</td>\n",
       "      <td>Netoholic</td>\n",
       "      <td>-1</td>\n",
       "      <td>0</td>\n",
       "      <td>2004</td>\n",
       "      <td>2004-11-03 00:50:00</td>\n",
       "      <td>Reluctantly oppose. He's too abrasive. -</td>\n",
       "      <td>3848</td>\n",
       "      <td>Reluctantly oppose. He's too abrasive. -</td>\n",
       "    </tr>\n",
       "    <tr>\n",
       "      <th>136127</th>\n",
       "      <td>0.000</td>\n",
       "      <td>0.859</td>\n",
       "      <td>0.141</td>\n",
       "      <td>0.7834</td>\n",
       "      <td>Ashibaka</td>\n",
       "      <td>Haukurth</td>\n",
       "      <td>0</td>\n",
       "      <td>1</td>\n",
       "      <td>2006</td>\n",
       "      <td>2006-01-17 02:24:00</td>\n",
       "      <td>'''Neutral''' Per previous RfA and Ghirla's co...</td>\n",
       "      <td>2319</td>\n",
       "      <td>Neutral Per previous RfA and Ghirla's comment,...</td>\n",
       "    </tr>\n",
       "    <tr>\n",
       "      <th>168425</th>\n",
       "      <td>0.197</td>\n",
       "      <td>0.725</td>\n",
       "      <td>0.078</td>\n",
       "      <td>-0.9852</td>\n",
       "      <td>Mets501</td>\n",
       "      <td>Sugarpine</td>\n",
       "      <td>-1</td>\n",
       "      <td>0</td>\n",
       "      <td>2006</td>\n",
       "      <td>2006-09-21 01:37:00</td>\n",
       "      <td>'''Strong oppose''' - several positives, but w...</td>\n",
       "      <td>2932</td>\n",
       "      <td>Strong oppose - several positives, but way to ...</td>\n",
       "    </tr>\n",
       "    <tr>\n",
       "      <th>52317</th>\n",
       "      <td>0.092</td>\n",
       "      <td>0.773</td>\n",
       "      <td>0.135</td>\n",
       "      <td>0.6209</td>\n",
       "      <td>Keegan</td>\n",
       "      <td>Teratornis</td>\n",
       "      <td>1</td>\n",
       "      <td>0</td>\n",
       "      <td>2009</td>\n",
       "      <td>2009-03-27 04:37:00</td>\n",
       "      <td>Part of the joy of the communal aspect of this...</td>\n",
       "      <td>772</td>\n",
       "      <td>Part of the joy of the communal aspect of this...</td>\n",
       "    </tr>\n",
       "    <tr>\n",
       "      <th>173306</th>\n",
       "      <td>0.000</td>\n",
       "      <td>0.410</td>\n",
       "      <td>0.590</td>\n",
       "      <td>0.7351</td>\n",
       "      <td>Exir Kamalabadi</td>\n",
       "      <td>Canderson7</td>\n",
       "      <td>1</td>\n",
       "      <td>1</td>\n",
       "      <td>2005</td>\n",
       "      <td>NaT</td>\n",
       "      <td>'''Support''' Another person that is a good va...</td>\n",
       "      <td>3061</td>\n",
       "      <td>Support Another person that is a good vandal f...</td>\n",
       "    </tr>\n",
       "    <tr>\n",
       "      <th>158862</th>\n",
       "      <td>0.000</td>\n",
       "      <td>0.000</td>\n",
       "      <td>0.000</td>\n",
       "      <td>0.0000</td>\n",
       "      <td>NaN</td>\n",
       "      <td>Folajimi2</td>\n",
       "      <td>0</td>\n",
       "      <td>0</td>\n",
       "      <td>2006</td>\n",
       "      <td>NaT</td>\n",
       "      <td></td>\n",
       "      <td>2688</td>\n",
       "      <td></td>\n",
       "    </tr>\n",
       "  </tbody>\n",
       "</table>\n",
       "</div>"
      ],
      "text/plain": [
       "          neg    neu    pos  compound              SRC           TGT  VOT  \\\n",
       "113954  0.104  0.732  0.165    0.2500          Runcorn  David.Mestel    1   \n",
       "40740   0.000  1.000  0.000    0.0000          Majorly         Paxse    1   \n",
       "127884  0.107  0.496  0.396    0.7901       HereToHelp          Aude    1   \n",
       "28740   0.134  0.619  0.247    0.1655         Ret.Prof    Frozen4322    1   \n",
       "197436  0.259  0.741  0.000   -0.1027  Ta bu shi da yu     Netoholic   -1   \n",
       "136127  0.000  0.859  0.141    0.7834         Ashibaka      Haukurth    0   \n",
       "168425  0.197  0.725  0.078   -0.9852          Mets501     Sugarpine   -1   \n",
       "52317   0.092  0.773  0.135    0.6209           Keegan    Teratornis    1   \n",
       "173306  0.000  0.410  0.590    0.7351  Exir Kamalabadi    Canderson7    1   \n",
       "158862  0.000  0.000  0.000    0.0000              NaN     Folajimi2    0   \n",
       "\n",
       "        RES   YEA                 DAT  \\\n",
       "113954    0  2007 2007-01-16 22:28:00   \n",
       "40740     1  2009 2009-03-29 16:44:00   \n",
       "127884    1  2006 2006-02-15 21:40:00   \n",
       "28740     0  2010 2010-02-13 10:46:00   \n",
       "197436    0  2004 2004-11-03 00:50:00   \n",
       "136127    1  2006 2006-01-17 02:24:00   \n",
       "168425    0  2006 2006-09-21 01:37:00   \n",
       "52317     0  2009 2009-03-27 04:37:00   \n",
       "173306    1  2005                 NaT   \n",
       "158862    0  2006                 NaT   \n",
       "\n",
       "                                                      TXT  ELECTION_ID  \\\n",
       "113954  '''Support''' I am very familiar with David's ...         1838   \n",
       "40740                                                 '''          562   \n",
       "127884  '''Support'''. A pleasure to work with and a v...         2216   \n",
       "28740   '''Weak Support:'''  I like what I see but the...          379   \n",
       "197436           Reluctantly oppose. He's too abrasive. -         3848   \n",
       "136127  '''Neutral''' Per previous RfA and Ghirla's co...         2319   \n",
       "168425  '''Strong oppose''' - several positives, but w...         2932   \n",
       "52317   Part of the joy of the communal aspect of this...          772   \n",
       "173306  '''Support''' Another person that is a good va...         3061   \n",
       "158862                                                            2688   \n",
       "\n",
       "                                                      CLE  \n",
       "113954  Support I am very familiar with David's work a...  \n",
       "40740                                                 '''  \n",
       "127884  Support. A pleasure to work with and a valued ...  \n",
       "28740   Weak Support:  I like what I see but the exper...  \n",
       "197436           Reluctantly oppose. He's too abrasive. -  \n",
       "136127  Neutral Per previous RfA and Ghirla's comment,...  \n",
       "168425  Strong oppose - several positives, but way to ...  \n",
       "52317   Part of the joy of the communal aspect of this...  \n",
       "173306  Support Another person that is a good vandal f...  \n",
       "158862                                                     "
      ]
     },
     "execution_count": 201,
     "metadata": {},
     "output_type": "execute_result"
    }
   ],
   "source": [
    "# Merging the two dataframes\n",
    "wiki_with_scores = pd.concat([scores_df, wiki_copy], axis = 1)\n",
    "wiki_with_scores.sample(10)"
   ]
  },
  {
   "cell_type": "code",
   "execution_count": 203,
   "id": "8296dcc1-3370-4adb-8f47-7cbbcef1af9c",
   "metadata": {
    "tags": []
   },
   "outputs": [
    {
     "data": {
      "text/plain": [
       "9035"
      ]
     },
     "execution_count": 203,
     "metadata": {},
     "output_type": "execute_result"
    }
   ],
   "source": [
    "wiki_with_scores['CLE'].replace('', np.nan, inplace=True) \n",
    "wiki_with_scores['CLE'].isnull().sum()"
   ]
  },
  {
   "cell_type": "code",
   "execution_count": 206,
   "id": "b04624ba-3ee3-4054-8276-c95804d7c88c",
   "metadata": {
    "tags": []
   },
   "outputs": [
    {
     "data": {
      "image/png": "[encoded data removed]",
      "text/plain": [
       "<Figure size 1200x300 with 4 Axes>"
      ]
     },
     "metadata": {},
     "output_type": "display_data"
    }
   ],
   "source": [
    "wiki_cle_dropna = wiki_with_scores.dropna(subset = 'CLE') # remove empty comments \n",
    "fig, axs = plt.subplots(1, 4, figsize=(12, 3))\n",
    "sns.barplot(data=wiki_cle_dropna, x='VOT', y='pos', ax=axs[0])\n",
    "sns.barplot(data=wiki_cle_dropna, x='VOT', y='neu', ax=axs[1])\n",
    "sns.barplot(data=wiki_cle_dropna, x='VOT', y='neg', ax=axs[2])\n",
    "sns.barplot(data=wiki_cle_dropna, x='VOT', y='compound', ax=axs[3])\n",
    "axs[0].set_title('Positive')\n",
    "axs[1].set_title('Neutral')\n",
    "axs[2].set_title('Negative')\n",
    "axs[3].set_title('Compound')\n",
    "plt.tight_layout()\n",
    "plt.show()"
   ]
  },
  {
   "cell_type": "markdown",
   "id": "860cc6be-ec86-4f69-80c1-99fee4319ed2",
   "metadata": {},
   "source": [
    "On average, we can conclude that there is consistency between the votes and the associated comments."
   ]
  },
  {
   "cell_type": "code",
   "execution_count": 207,
   "id": "b373aac4-b789-4b98-ba0d-74664362c4c8",
   "metadata": {
    "tags": []
   },
   "outputs": [
    {
     "data": {
      "image/png": "[encoded data removed]",
      "text/plain": [
       "<Figure size 1500x300 with 4 Axes>"
      ]
     },
     "metadata": {},
     "output_type": "display_data"
    }
   ],
   "source": [
    "fig, axs = plt.subplots(1, 4, figsize=(15, 3))\n",
    "year = 2003 \n",
    "for i in range(4):\n",
    "    axs[i] = sns.barplot(data=wiki_cle_dropna[wiki_cle_dropna['YEA'] == year], x='VOT', y='compound', ax= axs[i])\n",
    "    axs[i].set_title('Compound Score by Votes in ' + str(year))\n",
    "    year += 1"
   ]
  },
  {
   "cell_type": "code",
   "execution_count": 208,
   "id": "ff4d3fb2-cf49-4bbc-a23c-111cbd41e962",
   "metadata": {
    "tags": []
   },
   "outputs": [
    {
     "data": {
      "image/png": "[encoded data removed]",
      "text/plain": [
       "<Figure size 1500x300 with 4 Axes>"
      ]
     },
     "metadata": {},
     "output_type": "display_data"
    }
   ],
   "source": [
    "fig, axs = plt.subplots(1, 4, figsize=(15, 3))\n",
    "year = 2007 \n",
    "for i in range(4):\n",
    "    axs[i] = sns.barplot(data=wiki_cle_dropna[wiki_cle_dropna['YEA'] == year], x='VOT', y='compound', ax= axs[i])\n",
    "    axs[i].set_title('Compound Score by Votes in ' + str(year))\n",
    "    year += 1"
   ]
  },
  {
   "cell_type": "code",
   "execution_count": 209,
   "id": "fe109c9b-f030-44a0-9970-20886c6f5e02",
   "metadata": {
    "tags": []
   },
   "outputs": [
    {
     "data": {
      "image/png": "[encoded data removed]",
      "text/plain": [
       "<Figure size 1500x300 with 3 Axes>"
      ]
     },
     "metadata": {},
     "output_type": "display_data"
    }
   ],
   "source": [
    "fig, axs = plt.subplots(1, 3, figsize=(15, 3))\n",
    "year = 2011 \n",
    "for i in range(3):\n",
    "    axs[i] = sns.barplot(data=wiki_cle_dropna[wiki_cle_dropna['YEA'] == year], x='VOT', y='compound', ax= axs[i])\n",
    "    axs[i].set_title('Compound Score by Votes in ' + str(year))\n",
    "    year += 1"
   ]
  },
  {
   "cell_type": "markdown",
   "id": "0403cdbc-995f-405e-9237-7227b061451f",
   "metadata": {},
   "source": [
    "* For each year, the conclusion of consistency is still available. Therefore, generally, people tend to leave comments accordingly to their vote choice."
   ]
  }
 ],
 "metadata": {
  "kernelspec": {
   "display_name": "Python 3 (ipykernel)",
   "language": "python",
   "name": "python3"
  },
  "language_info": {
   "codemirror_mode": {
    "name": "ipython",
    "version": 3
   },
   "file_extension": ".py",
   "mimetype": "text/x-python",
   "name": "python",
   "nbconvert_exporter": "python",
   "pygments_lexer": "ipython3",
   "version": "3.9.18"
  }
 },
 "nbformat": 4,
 "nbformat_minor": 5
}
