{
 "cells": [
  {
   "cell_type": "markdown",
   "id": "d772aafa-4660-4cec-be1f-f94016ab6879",
   "metadata": {},
   "source": [
    "### Imports"
   ]
  },
  {
   "cell_type": "code",
   "execution_count": 2,
   "id": "0493c585-1da5-4f44-bd79-84203bdd779e",
   "metadata": {
    "tags": []
   },
   "outputs": [],
   "source": [
    "# Mettre ici tous les imports\n",
    "import importlib\n",
    "import pandas as pd\n",
    "import modules.data_processing\n",
    "import seaborn as sns\n",
    "import matplotlib.pyplot as plt"
   ]
  },
  {
   "cell_type": "code",
   "execution_count": 3,
   "id": "db8e8fab-abc8-46c1-ad82-01262171c5ed",
   "metadata": {
    "tags": []
   },
   "outputs": [],
   "source": [
    "## Reloading, relancer cette cell si vous modifiez les fonctions\n",
    "\n",
    "importlib.reload(modules.data_processing)\n",
    "from modules.data_processing import *"
   ]
  },
  {
   "cell_type": "code",
   "execution_count": 5,
   "id": "cd80595e-105c-4701-a24b-9beee164962b",
   "metadata": {
    "tags": []
   },
   "outputs": [],
   "source": [
    "DATA_PATH = './data/wiki-RfA.txt'"
   ]
  },
  {
   "cell_type": "markdown",
   "id": "6e73e40b-03f9-4bb1-bce6-1808847e7b02",
   "metadata": {},
   "source": [
    "### Preparing Data"
   ]
  },
  {
   "cell_type": "code",
   "execution_count": 6,
   "id": "1e692372-c589-4cd6-8d9e-0bba9fb1b84b",
   "metadata": {
    "tags": []
   },
   "outputs": [],
   "source": [
    "wiki_df = extract_data(DATA_PATH)\n",
    "process_dataframe(wiki_df)\n",
    "\n",
    "#elections_df = create_elections_df(wiki_df) -> IF NEEDED\n",
    "#users_df = create_users_df(wiki_df) -> IF NEEDED"
   ]
  },
  {
   "cell_type": "code",
   "execution_count": 7,
   "id": "2d24d75a-d4a2-4608-8439-e1b92e55990e",
   "metadata": {
    "tags": []
   },
   "outputs": [
    {
     "data": {
      "text/html": [
       "<div>\n",
       "<style scoped>\n",
       "    .dataframe tbody tr th:only-of-type {\n",
       "        vertical-align: middle;\n",
       "    }\n",
       "\n",
       "    .dataframe tbody tr th {\n",
       "        vertical-align: top;\n",
       "    }\n",
       "\n",
       "    .dataframe thead th {\n",
       "        text-align: right;\n",
       "    }\n",
       "</style>\n",
       "<table border=\"1\" class=\"dataframe\">\n",
       "  <thead>\n",
       "    <tr style=\"text-align: right;\">\n",
       "      <th></th>\n",
       "      <th>SRC</th>\n",
       "      <th>TGT</th>\n",
       "      <th>VOT</th>\n",
       "      <th>RES</th>\n",
       "      <th>YEA</th>\n",
       "      <th>DAT</th>\n",
       "      <th>TXT</th>\n",
       "      <th>ELECTION_ID</th>\n",
       "    </tr>\n",
       "  </thead>\n",
       "  <tbody>\n",
       "    <tr>\n",
       "      <th>0</th>\n",
       "      <td>Steel1943</td>\n",
       "      <td>BDD</td>\n",
       "      <td>1</td>\n",
       "      <td>1</td>\n",
       "      <td>2013</td>\n",
       "      <td>2013-04-19 23:13:00</td>\n",
       "      <td>'''Support''' as co-nom.</td>\n",
       "      <td>1</td>\n",
       "    </tr>\n",
       "    <tr>\n",
       "      <th>1</th>\n",
       "      <td>Cuchullain</td>\n",
       "      <td>BDD</td>\n",
       "      <td>1</td>\n",
       "      <td>1</td>\n",
       "      <td>2013</td>\n",
       "      <td>2013-04-20 01:04:00</td>\n",
       "      <td>'''Support''' as nominator.--</td>\n",
       "      <td>1</td>\n",
       "    </tr>\n",
       "    <tr>\n",
       "      <th>2</th>\n",
       "      <td>INeverCry</td>\n",
       "      <td>BDD</td>\n",
       "      <td>1</td>\n",
       "      <td>1</td>\n",
       "      <td>2013</td>\n",
       "      <td>2013-04-19 23:43:00</td>\n",
       "      <td>'''Support''' per noms.</td>\n",
       "      <td>1</td>\n",
       "    </tr>\n",
       "    <tr>\n",
       "      <th>3</th>\n",
       "      <td>Cncmaster</td>\n",
       "      <td>BDD</td>\n",
       "      <td>1</td>\n",
       "      <td>1</td>\n",
       "      <td>2013</td>\n",
       "      <td>2013-04-20 00:11:00</td>\n",
       "      <td>'''Support''' per noms. BDD is a strong contri...</td>\n",
       "      <td>1</td>\n",
       "    </tr>\n",
       "    <tr>\n",
       "      <th>4</th>\n",
       "      <td>Miniapolis</td>\n",
       "      <td>BDD</td>\n",
       "      <td>1</td>\n",
       "      <td>1</td>\n",
       "      <td>2013</td>\n",
       "      <td>2013-04-20 00:56:00</td>\n",
       "      <td>'''Support''', with great pleasure. I work wit...</td>\n",
       "      <td>1</td>\n",
       "    </tr>\n",
       "    <tr>\n",
       "      <th>5</th>\n",
       "      <td>Sven Manguard</td>\n",
       "      <td>BDD</td>\n",
       "      <td>1</td>\n",
       "      <td>1</td>\n",
       "      <td>2013</td>\n",
       "      <td>2013-04-20 01:53:00</td>\n",
       "      <td>'''Support''' There are plenty of important ro...</td>\n",
       "      <td>1</td>\n",
       "    </tr>\n",
       "    <tr>\n",
       "      <th>6</th>\n",
       "      <td>Ramaksoud2000</td>\n",
       "      <td>BDD</td>\n",
       "      <td>1</td>\n",
       "      <td>1</td>\n",
       "      <td>2013</td>\n",
       "      <td>2013-04-20 02:00:00</td>\n",
       "      <td>'''Support''' per noms. I don't see a reason n...</td>\n",
       "      <td>1</td>\n",
       "    </tr>\n",
       "    <tr>\n",
       "      <th>7</th>\n",
       "      <td>RockMagnetist</td>\n",
       "      <td>BDD</td>\n",
       "      <td>1</td>\n",
       "      <td>1</td>\n",
       "      <td>2013</td>\n",
       "      <td>2013-04-20 02:18:00</td>\n",
       "      <td>'''Support'''  BDD already wields a broom pret...</td>\n",
       "      <td>1</td>\n",
       "    </tr>\n",
       "    <tr>\n",
       "      <th>8</th>\n",
       "      <td>Carrite</td>\n",
       "      <td>BDD</td>\n",
       "      <td>1</td>\n",
       "      <td>1</td>\n",
       "      <td>2013</td>\n",
       "      <td>2013-04-20 02:22:00</td>\n",
       "      <td>'''Support''' barring a completely unexpected ...</td>\n",
       "      <td>1</td>\n",
       "    </tr>\n",
       "    <tr>\n",
       "      <th>9</th>\n",
       "      <td>Someguy1221</td>\n",
       "      <td>BDD</td>\n",
       "      <td>1</td>\n",
       "      <td>1</td>\n",
       "      <td>2013</td>\n",
       "      <td>2013-04-20 03:09:00</td>\n",
       "      <td>'''Support''' because I see no good reason not...</td>\n",
       "      <td>1</td>\n",
       "    </tr>\n",
       "  </tbody>\n",
       "</table>\n",
       "</div>"
      ],
      "text/plain": [
       "             SRC  TGT  VOT  RES   YEA                 DAT  \\\n",
       "0      Steel1943  BDD    1    1  2013 2013-04-19 23:13:00   \n",
       "1     Cuchullain  BDD    1    1  2013 2013-04-20 01:04:00   \n",
       "2      INeverCry  BDD    1    1  2013 2013-04-19 23:43:00   \n",
       "3      Cncmaster  BDD    1    1  2013 2013-04-20 00:11:00   \n",
       "4     Miniapolis  BDD    1    1  2013 2013-04-20 00:56:00   \n",
       "5  Sven Manguard  BDD    1    1  2013 2013-04-20 01:53:00   \n",
       "6  Ramaksoud2000  BDD    1    1  2013 2013-04-20 02:00:00   \n",
       "7  RockMagnetist  BDD    1    1  2013 2013-04-20 02:18:00   \n",
       "8        Carrite  BDD    1    1  2013 2013-04-20 02:22:00   \n",
       "9    Someguy1221  BDD    1    1  2013 2013-04-20 03:09:00   \n",
       "\n",
       "                                                 TXT  ELECTION_ID  \n",
       "0                           '''Support''' as co-nom.            1  \n",
       "1                      '''Support''' as nominator.--            1  \n",
       "2                            '''Support''' per noms.            1  \n",
       "3  '''Support''' per noms. BDD is a strong contri...            1  \n",
       "4  '''Support''', with great pleasure. I work wit...            1  \n",
       "5  '''Support''' There are plenty of important ro...            1  \n",
       "6  '''Support''' per noms. I don't see a reason n...            1  \n",
       "7  '''Support'''  BDD already wields a broom pret...            1  \n",
       "8  '''Support''' barring a completely unexpected ...            1  \n",
       "9  '''Support''' because I see no good reason not...            1  "
      ]
     },
     "execution_count": 7,
     "metadata": {},
     "output_type": "execute_result"
    }
   ],
   "source": [
    "wiki_df.head(10)"
   ]
  },
  {
   "cell_type": "markdown",
   "id": "7bdd08c8-8d54-42c3-818b-0dcf0f7ba615",
   "metadata": {},
   "source": [
    "* It is important to have an idea of the proportion of votes within our dataset."
   ]
  },
  {
   "cell_type": "code",
   "execution_count": 8,
   "id": "bf200bba-b644-4ffb-8817-a23ef20fc574",
   "metadata": {
    "tags": []
   },
   "outputs": [
    {
     "data": {
      "text/plain": [
       "Text(0.5, 0, 'VOT')"
      ]
     },
     "execution_count": 8,
     "metadata": {},
     "output_type": "execute_result"
    },
    {
     "data": {
      "image/png": "[encoded data removed]",
      "text/plain": [
       "<Figure size 640x480 with 1 Axes>"
      ]
     },
     "metadata": {},
     "output_type": "display_data"
    }
   ],
   "source": [
    "ax = wiki_df['VOT'].value_counts().sort_index().plot(kind='bar', title='Count')\n",
    "ax.set_xlabel('VOT')"
   ]
  },
  {
   "cell_type": "markdown",
   "id": "38aca5c5-ea38-49fa-be94-c421a1f9200a",
   "metadata": {},
   "source": [
    "#### Text preprocessing"
   ]
  },
  {
   "cell_type": "code",
   "execution_count": 9,
   "id": "1dace4d1-b558-4c45-a3b5-48a51b8e6fa2",
   "metadata": {
    "tags": []
   },
   "outputs": [],
   "source": [
    "wiki_copy = wiki_df.copy()"
   ]
  },
  {
   "cell_type": "code",
   "execution_count": 132,
   "id": "75e4ab37-867d-4d6f-90f6-73af8649d45a",
   "metadata": {
    "tags": []
   },
   "outputs": [],
   "source": [
    "#wiki_copy['TXT'].replace('', np.nan, inplace = True)\n",
    "#wiki_copy['TXT'].isna().sum()"
   ]
  },
  {
   "cell_type": "code",
   "execution_count": 10,
   "id": "4c82907d-e333-4c62-9302-98e9ad1ccf69",
   "metadata": {
    "tags": []
   },
   "outputs": [
    {
     "data": {
      "text/plain": [
       "7190"
      ]
     },
     "execution_count": 10,
     "metadata": {},
     "output_type": "execute_result"
    }
   ],
   "source": [
    "len(wiki_copy[wiki_copy['TXT'] == '']['TXT'])"
   ]
  },
  {
   "cell_type": "markdown",
   "id": "e811abd4-d0e5-4b5a-a1cc-27e5ac0ae538",
   "metadata": {},
   "source": [
    "* We notice that we have 7190 missing values among comments. "
   ]
  },
  {
   "cell_type": "markdown",
   "id": "ccb0a546-4109-4b1c-8ff3-b560262ee666",
   "metadata": {},
   "source": [
    "#### Removing the Wiki Markup from the comments"
   ]
  },
  {
   "cell_type": "code",
   "execution_count": 11,
   "id": "1b2d2ec2-fd89-4f74-8dba-0644f16f8ddb",
   "metadata": {
    "tags": []
   },
   "outputs": [],
   "source": [
    "# ensure that TXT is string\n",
    "wiki_copy['TXT'] = wiki_copy['TXT'].astype(str)"
   ]
  },
  {
   "cell_type": "markdown",
   "id": "21cfa3a1-0631-448d-a5f2-712a5dfa400e",
   "metadata": {},
   "source": [
    "* We will try to use a python library called \"wikitextparser\" to easily remove the wiki markup. "
   ]
  },
  {
   "cell_type": "code",
   "execution_count": 13,
   "id": "ba55a04b-4490-400d-8c53-f8b2e5e52702",
   "metadata": {
    "tags": []
   },
   "outputs": [],
   "source": [
    "from wikitextparser import remove_markup, parse"
   ]
  },
  {
   "cell_type": "code",
   "execution_count": 14,
   "id": "3e14182a-29dc-49d4-9b0d-9209cfb6751e",
   "metadata": {
    "tags": []
   },
   "outputs": [
    {
     "data": {
      "text/plain": [
       "\"Congratulatory '''Support''' - Excellent [[Wikipedia:WikiProject Military history|WikiProject:Military history]] experience with this user. Can be trusted with new responsibility.\""
      ]
     },
     "execution_count": 14,
     "metadata": {},
     "output_type": "execute_result"
    }
   ],
   "source": [
    "example = wiki_copy.iloc[66609]['TXT']\n",
    "example"
   ]
  },
  {
   "cell_type": "code",
   "execution_count": 15,
   "id": "86a84aee-5007-488a-a59e-94c0ccc859f4",
   "metadata": {
    "tags": []
   },
   "outputs": [
    {
     "data": {
      "text/plain": [
       "'Congratulatory Support - Excellent WikiProject:Military history experience with this user. Can be trusted with new responsibility.'"
      ]
     },
     "execution_count": 15,
     "metadata": {},
     "output_type": "execute_result"
    }
   ],
   "source": [
    "remove_markup(example)"
   ]
  },
  {
   "cell_type": "markdown",
   "id": "d0965efd-1758-49ed-a62f-cc27b0bb0988",
   "metadata": {},
   "source": [
    "* The library didn't handle the link removal as expected. Therefore, we will implement a classic function using regular expressions to remove the wiki markup, relying on the Wikitext structure from the website [Wikitext](https://en.wikipedia.org/wiki/Help:Wikitext)."
   ]
  },
  {
   "cell_type": "code",
   "execution_count": 23,
   "id": "c9854add-9abb-42a5-9d92-89b8ec65ee62",
   "metadata": {
    "tags": []
   },
   "outputs": [
    {
     "data": {
      "text/plain": [
       "'Congratulatory Support - Excellent  experience with this user. Can be trusted with new responsibility.'"
      ]
     },
     "execution_count": 23,
     "metadata": {},
     "output_type": "execute_result"
    }
   ],
   "source": [
    "from modules.data_processing import *\n",
    "importlib.reload(modules.data_processing)\n",
    "\n",
    "remove_wiki_markup(example)"
   ]
  },
  {
   "cell_type": "markdown",
   "id": "1682d6c6-5124-4e6c-823d-4ec3a1490f4e",
   "metadata": {},
   "source": [
    "* The results is indeed what we want. Let's test on a random sample of comments."
   ]
  },
  {
   "cell_type": "code",
   "execution_count": 17,
   "id": "f0bb78a6-15b1-4177-8899-ef9ff7674270",
   "metadata": {
    "tags": []
   },
   "outputs": [
    {
     "name": "stdout",
     "output_type": "stream",
     "text": [
      "0  :  '''Strong Oppose''' per Rory096.\n",
      "\n",
      "1  :  \n",
      "\n",
      "2  :  '''Neutral''' You're a good editor, but the experience isn't wholy there. Try again in a few months and this will likely be different. I think the year suggestion is a bit extreme though as you could end up sitting around being fully qualified for a long time.\n",
      "\n",
      "3  :  '''SUPPORT!''' Has GREATLY improved since his last RfA. Per Werdna and CrazyRussian, it is about fucking time.\n",
      "\n",
      "4  :  '''Suppose'''. Thought he was one, think he should be one. &mdash;[[User:Nightstallion|<span style=\"font-variant:small-caps\">Nightst</span>]]<font color=\"green\">[[User:Nightstallion/esperanza|<span style=\"font-variant:small-caps\">a</span>]]</font>\n",
      "\n",
      "5  :  '''Weak Oppose''' other reasons, but mostly [http://en.wikipedia.org/w/index.php?title=Hasan-Jalalian&diff=169068218&oldid=169068090 this] - came across it on NPP..redirects aren't usually prime \"new page crap\" material, most of the time there's something going to be created there soon, especially with an experienced editor creating the redirect in the first place. <font color=\"blue\">-[[User:Wooty|'''Woo''']][[User:Wooty/ENC|'''ty''']]&nbsp;<small>[[User talk:Wooty|['''Woot?''']]]&nbsp;\n",
      "\n",
      "6  :  '''Oppose'''. I'm sorry, Mabdul. I don't believe your intent was to canvass, and I think you're a promising admin candidate, but the ability to think through actions and identify what might be contentious or damaging ''before'' taking the action is an important tool for an administrator, and your IRC quit message (though apparently neutral) was one of those things that ought to have been thought through, identified as \"this will probably cause drama\", and avoided. I think you need to work some more on internalizing that sense of how the community views actions of various types. If you can do that, I think you'll sail through a future RFA with few problems.\n",
      "\n",
      "7  :  In full agreement with a few of the above opposers, specifically WJB. '''\n",
      "\n",
      "8  :  '''Support''' Happy vandal hunting!\n",
      "\n",
      "9  :  '''Support'''.\n",
      "\n"
     ]
    }
   ],
   "source": [
    "txts = wiki_copy['TXT'].sample(10).copy()\n",
    "for i, comment in enumerate(txts): \n",
    "    print(i, ' : ' , comment)\n",
    "    print() "
   ]
  },
  {
   "cell_type": "code",
   "execution_count": 24,
   "id": "90b87b53-0936-46c7-9c70-5ecc7274fe97",
   "metadata": {
    "tags": []
   },
   "outputs": [
    {
     "name": "stdout",
     "output_type": "stream",
     "text": [
      "0  :  Strong Oppose per Rory096.\n",
      "\n",
      "1  :  \n",
      "\n",
      "2  :  Neutral You're a good editor, but the experience isn't wholy there. Try again in a few months and this will likely be different. I think the year suggestion is a bit extreme though as you could end up sitting around being fully qualified for a long time.\n",
      "\n",
      "3  :  SUPPORT! Has GREATLY improved since his last RfA. Per Werdna and CrazyRussian, it is about fucking time.\n",
      "\n",
      "4  :  Suppose. Thought he was one, think he should be one. \n",
      "\n",
      "5  :  Weak Oppose other reasons, but mostly  - came across it on NPP..redirects aren't usually prime \"new page crap\" material, most of the time there's something going to be created there soon, especially with an experienced editor creating the redirect in the first place. -]\n",
      "\n",
      "6  :  Oppose. I'm sorry, Mabdul. I don't believe your intent was to canvass, and I think you're a promising admin candidate, but the ability to think through actions and identify what might be contentious or damaging before taking the action is an important tool for an administrator, and your IRC quit message (though apparently neutral) was one of those things that ought to have been thought through, identified as \"this will probably cause drama\", and avoided. I think you need to work some more on internalizing that sense of how the community views actions of various types. If you can do that, I think you'll sail through a future RFA with few problems.\n",
      "\n",
      "7  :  In full agreement with a few of the above opposers, specifically WJB.  \n",
      "\n",
      "8  :  Support Happy vandal hunting!\n",
      "\n",
      "9  :  Support.\n",
      "\n"
     ]
    }
   ],
   "source": [
    "for i, comment in enumerate(txts): \n",
    "    print(i, ' : ' , remove_wiki_markup(comment))\n",
    "    print() "
   ]
  },
  {
   "cell_type": "markdown",
   "id": "0182d31d-d242-48e6-9637-522ae4f31e12",
   "metadata": {},
   "source": [
    "* It seems that it works well on the comments of our dataset. We create then a column for cleaned comments."
   ]
  },
  {
   "cell_type": "code",
   "execution_count": 26,
   "id": "7c9093b9-9636-4534-ac23-49ac06e89d02",
   "metadata": {
    "tags": []
   },
   "outputs": [
    {
     "data": {
      "text/html": [
       "<div>\n",
       "<style scoped>\n",
       "    .dataframe tbody tr th:only-of-type {\n",
       "        vertical-align: middle;\n",
       "    }\n",
       "\n",
       "    .dataframe tbody tr th {\n",
       "        vertical-align: top;\n",
       "    }\n",
       "\n",
       "    .dataframe thead th {\n",
       "        text-align: right;\n",
       "    }\n",
       "</style>\n",
       "<table border=\"1\" class=\"dataframe\">\n",
       "  <thead>\n",
       "    <tr style=\"text-align: right;\">\n",
       "      <th></th>\n",
       "      <th>SRC</th>\n",
       "      <th>TGT</th>\n",
       "      <th>VOT</th>\n",
       "      <th>RES</th>\n",
       "      <th>YEA</th>\n",
       "      <th>DAT</th>\n",
       "      <th>TXT</th>\n",
       "      <th>ELECTION_ID</th>\n",
       "      <th>CLE</th>\n",
       "    </tr>\n",
       "  </thead>\n",
       "  <tbody>\n",
       "    <tr>\n",
       "      <th>0</th>\n",
       "      <td>Steel1943</td>\n",
       "      <td>BDD</td>\n",
       "      <td>1</td>\n",
       "      <td>1</td>\n",
       "      <td>2013</td>\n",
       "      <td>2013-04-19 23:13:00</td>\n",
       "      <td>'''Support''' as co-nom.</td>\n",
       "      <td>1</td>\n",
       "      <td>Support as co-nom.</td>\n",
       "    </tr>\n",
       "    <tr>\n",
       "      <th>1</th>\n",
       "      <td>Cuchullain</td>\n",
       "      <td>BDD</td>\n",
       "      <td>1</td>\n",
       "      <td>1</td>\n",
       "      <td>2013</td>\n",
       "      <td>2013-04-20 01:04:00</td>\n",
       "      <td>'''Support''' as nominator.--</td>\n",
       "      <td>1</td>\n",
       "      <td>Support as nominator.</td>\n",
       "    </tr>\n",
       "    <tr>\n",
       "      <th>2</th>\n",
       "      <td>INeverCry</td>\n",
       "      <td>BDD</td>\n",
       "      <td>1</td>\n",
       "      <td>1</td>\n",
       "      <td>2013</td>\n",
       "      <td>2013-04-19 23:43:00</td>\n",
       "      <td>'''Support''' per noms.</td>\n",
       "      <td>1</td>\n",
       "      <td>Support per noms.</td>\n",
       "    </tr>\n",
       "    <tr>\n",
       "      <th>3</th>\n",
       "      <td>Cncmaster</td>\n",
       "      <td>BDD</td>\n",
       "      <td>1</td>\n",
       "      <td>1</td>\n",
       "      <td>2013</td>\n",
       "      <td>2013-04-20 00:11:00</td>\n",
       "      <td>'''Support''' per noms. BDD is a strong contri...</td>\n",
       "      <td>1</td>\n",
       "      <td>Support per noms. BDD is a strong contributor ...</td>\n",
       "    </tr>\n",
       "    <tr>\n",
       "      <th>4</th>\n",
       "      <td>Miniapolis</td>\n",
       "      <td>BDD</td>\n",
       "      <td>1</td>\n",
       "      <td>1</td>\n",
       "      <td>2013</td>\n",
       "      <td>2013-04-20 00:56:00</td>\n",
       "      <td>'''Support''', with great pleasure. I work wit...</td>\n",
       "      <td>1</td>\n",
       "      <td>Support, with great pleasure. I work with BDD ...</td>\n",
       "    </tr>\n",
       "  </tbody>\n",
       "</table>\n",
       "</div>"
      ],
      "text/plain": [
       "          SRC  TGT  VOT  RES   YEA                 DAT  \\\n",
       "0   Steel1943  BDD    1    1  2013 2013-04-19 23:13:00   \n",
       "1  Cuchullain  BDD    1    1  2013 2013-04-20 01:04:00   \n",
       "2   INeverCry  BDD    1    1  2013 2013-04-19 23:43:00   \n",
       "3   Cncmaster  BDD    1    1  2013 2013-04-20 00:11:00   \n",
       "4  Miniapolis  BDD    1    1  2013 2013-04-20 00:56:00   \n",
       "\n",
       "                                                 TXT  ELECTION_ID  \\\n",
       "0                           '''Support''' as co-nom.            1   \n",
       "1                      '''Support''' as nominator.--            1   \n",
       "2                            '''Support''' per noms.            1   \n",
       "3  '''Support''' per noms. BDD is a strong contri...            1   \n",
       "4  '''Support''', with great pleasure. I work wit...            1   \n",
       "\n",
       "                                                 CLE  \n",
       "0                                 Support as co-nom.  \n",
       "1                             Support as nominator.   \n",
       "2                                  Support per noms.  \n",
       "3  Support per noms. BDD is a strong contributor ...  \n",
       "4  Support, with great pleasure. I work with BDD ...  "
      ]
     },
     "execution_count": 26,
     "metadata": {},
     "output_type": "execute_result"
    }
   ],
   "source": [
    "wiki_copy['CLE'] = wiki_copy['TXT'].apply(remove_wiki_markup)\n",
    "wiki_copy.head()"
   ]
  },
  {
   "cell_type": "code",
   "execution_count": 27,
   "id": "81fc93bb-7b71-44d6-8d82-9cbe1d535f78",
   "metadata": {
    "tags": []
   },
   "outputs": [
    {
     "data": {
      "text/plain": [
       "array([' ', '—', '-', '+', '→', \"'\", '.', '}', '!', '–', 'S', '·', 'I',\n",
       "       '~', '«', '↔', 'C', ':', '(', '\"', '/'], dtype=object)"
      ]
     },
     "execution_count": 27,
     "metadata": {},
     "output_type": "execute_result"
    }
   ],
   "source": [
    "comments_with_one_char = wiki_copy.loc[(wiki_copy['CLE'].apply(len) == 1)]['CLE'].unique() # one char in the comments\n",
    "comments_with_one_char"
   ]
  },
  {
   "cell_type": "code",
   "execution_count": 29,
   "id": "dd6928a0-7b88-421f-b81f-ad8dddd52deb",
   "metadata": {
    "tags": []
   },
   "outputs": [
    {
     "data": {
      "text/plain": [
       "array(['  ', '- ', ' /', '— ', '+ ', '←.', ' [', '. ', \"''\", ' (', '⇦⇨',\n",
       "       ' —', 'OK', '}—', ' -', \"':\", '我是', '++', 'CO', '~ ', ' ~', ' C',\n",
       "       'Q8', ' ☺', 'No', ' 〈', 'Da', 'S.', '! ', ':)'], dtype=object)"
      ]
     },
     "execution_count": 29,
     "metadata": {},
     "output_type": "execute_result"
    }
   ],
   "source": [
    "comments_with_two_char = wiki_copy.loc[(wiki_copy['CLE'].apply(len) == 2)]['CLE'].unique() # two char in the comments\n",
    "comments_with_two_char"
   ]
  },
  {
   "cell_type": "markdown",
   "id": "a638caf5-c315-45b0-a39e-1b7e084521d6",
   "metadata": {},
   "source": [
    "* We will delete those comments containing one or characters that are meaningless for our study."
   ]
  },
  {
   "cell_type": "code",
   "execution_count": 30,
   "id": "94f2421f-2adf-4cef-9371-f9fe8df1dbb2",
   "metadata": {
    "tags": []
   },
   "outputs": [],
   "source": [
    "wiki_copy['CLE'] = wiki_copy['CLE'].apply(lambda x: '' if len(x) < 3 and x not in ['OK', 'No']  else x)"
   ]
  },
  {
   "cell_type": "code",
   "execution_count": 31,
   "id": "577891e1-4d49-446b-8b20-64f302264c76",
   "metadata": {
    "tags": []
   },
   "outputs": [
    {
     "data": {
      "text/plain": [
       "array(['←  ', '!!!', '   ', ' - ', 'Ja.', 'OK.', \"I'm\", 'Yes', '.  ',\n",
       "       \" ''\", '+1–', '賛成 ', ' ••', '} —', '他是好', 'wow', '  ~', \"'' \",\n",
       "       ' ~~', 'No ', '^.^', 'S+1', \"''÷\", 'yup', ' – ', '➲  ', 'Yay',\n",
       "       '  |', 'Q3.', '  (', 'yes', '-  ', 'Yup', '➔  ', 'Aye', '➨  ',\n",
       "       'Q1.', '9 (', '...', 'No.', 'Yep', ' — ', '— (', '— [', '. —',\n",
       "       \"—''\", ' :)', ' (/', ' (|', 'yep', '}} ', 'Baa', 'Moo', 'Ok.',\n",
       "       '!  ', \"— '\", '. -', ':) ', 's  ', \". '\", ' ;)', 'Yo.', ' ()',\n",
       "       ' (\"', ':-)', 'NO.'], dtype=object)"
      ]
     },
     "execution_count": 31,
     "metadata": {},
     "output_type": "execute_result"
    }
   ],
   "source": [
    "wiki_copy.loc[(wiki_copy['CLE'].apply(len) == 3)]['CLE'].unique()"
   ]
  },
  {
   "cell_type": "code",
   "execution_count": 32,
   "id": "c2a3f75d-abcb-4280-9d4c-c9904d90d940",
   "metadata": {
    "tags": []
   },
   "outputs": [
    {
     "data": {
      "text/plain": [
       "array(['. - ', 'Yay.', 'Q2 -', 'Sure', 'Yup.', 'Wow.', '.   ', \" - '\",\n",
       "       'Yes.', \" I'm\", 'Duh.', 'Oui ', 'I  /', 'Yeps', '  — ', 'Yes!',\n",
       "       'Yep.', '. ? ', 'Oui.', 'jo  ', '+1  ', 'Yes ', 'Yep!', ' .  ',\n",
       "       'See ', '. ~~', 'NEWT', '  (|', '. – ', ' . —', 'AGF ', 'FGJ–',\n",
       "       'yup.', 'Yep ', '➨ ❝❞', 'Duh!', '-   ', '   ·', 'DUH!', 'Aye.',\n",
       "       'Meh.', \". ''\", \"! ''\", 'Nom.', '  . ', ' ...', '. — ', \"Q5 '\",\n",
       "       'okay', 'Aww.', 'Yup ', 'I am', 'Yea.', ',   ', 'Pig.', '  (/',\n",
       "       'Yo. ', 'Mop.', 'Wow!', '100%', 'Yes,', \"I'm \", 'No. ', 'Bleh',\n",
       "       '   (', 'Да! ', 'Yay!', '.  |', ' ( -', '«»(|', ', . ', 'TAK!',\n",
       "       '<3  ', 'yes!', 'Moo.', 'Cool', 'Hai ', 'Pro.', 'Sup ', 'YES!',\n",
       "       'Ja! ', ' ort', 'yep.', 'Who?', 'Yup,', 'No  ', 'Heh.'],\n",
       "      dtype=object)"
      ]
     },
     "execution_count": 32,
     "metadata": {},
     "output_type": "execute_result"
    }
   ],
   "source": [
    "wiki_copy.loc[(wiki_copy['CLE'].apply(len) == 4)]['CLE'].unique()"
   ]
  },
  {
   "cell_type": "code",
   "execution_count": 182,
   "id": "e03631b3-29d5-4f8a-93c6-f3b656aa1024",
   "metadata": {
    "tags": []
   },
   "outputs": [
    {
     "data": {
      "text/plain": [
       "array(['100%.', \"← '''\", \"  '''\", 'Yes! ', 'Q2. -', 'Aye.—', \". '''\",\n",
       "       'Sure.', 'nods ', 'Meh -', 'Yerp.', \" -'''\", 'Uhhhh', 'Per .',\n",
       "       'Sold.', \"'''••\", 'Duh →', 'Sure ', 'sure ', 'Solid', \"Yep '\",\n",
       "       'AGF  ', 'Okay.', 'Fine.', '    ·', 'Yup. ', 'Yes. ', 'Yup  ',\n",
       "       'Yes  ', 'No.  ', \" –'''\", 'Yes —', 'Damn,', 'Nom  ', \"''' |\",\n",
       "       'Desu.', 'Yep. ', '.   (', 'Aye. ', 'Ok. —', '+S . ', '+S  (',\n",
       "       ' () (', \"➔ '''\", 'ok. —', '+1.  ', 'Yup! ', 'Duh. ', 'PRO -',\n",
       "       \"➨ '''\", \" —'''\", \"—'''[\", 'yes. ', 'Moo  ', 'AGF. ', 'Oops.',\n",
       "       'Hut+!', 'See .', 'Yeap ', 'GL. –', ' ..  ', ' ⁿɡ͡b', 'Cool.',\n",
       "       'Fish.', \"Sure'\", 'Yes..', 'Yup..', 'Oui!.', \"'''  \", \". —''\",\n",
       "       'Sure!', 'Yay. ', \".  ''\", 'Duh .', 'Gasp!', 'Mooo.', 'Agree',\n",
       "       'Yeah.', 'Sì.  ', 'TINC.', 'Frog.', 'w00t.', 'SNFA.', 'Aye =',\n",
       "       'Duh  ', 'Okay!', 'Duh -', 'What?', 'AOL!>', 'No ()', 'Ok.  ',\n",
       "       'Sí.  ', 'Yep  ', 'Mhmm.', 'Da.  ', '-\"-  ', 'No. -'], dtype=object)"
      ]
     },
     "execution_count": 182,
     "metadata": {},
     "output_type": "execute_result"
    }
   ],
   "source": [
    "wiki_copy.loc[(wiki_copy['CLE'].apply(len) == 5)]['CLE'].unique()"
   ]
  },
  {
   "cell_type": "markdown",
   "id": "34e1a6fb-1cca-4619-b35c-aba82b644333",
   "metadata": {
    "tags": []
   },
   "source": [
    "When examining comments with a length greater than 2, we find various words and special characters that we cannot eliminate at this point. \n",
    "Due to the extensive number of words and special characters, exhaustive treatment of these comments becomes challenging. "
   ]
  },
  {
   "cell_type": "markdown",
   "id": "2d2cc74a-6ebe-43b6-bc36-de5235f19125",
   "metadata": {},
   "source": [
    "* Let's see then what are the words by which comments start."
   ]
  },
  {
   "cell_type": "code",
   "execution_count": 195,
   "id": "7d6a1d7b-f4c0-48ad-b850-ee4e28b8b757",
   "metadata": {
    "tags": []
   },
   "outputs": [
    {
     "name": "stdout",
     "output_type": "stream",
     "text": [
      "Support , Occurrence : 68944\n",
      "Support, , Occurrence : 7582\n",
      "Yea, , Occurrence : 6\n",
      "Support. , Occurrence : 23897\n",
      "If , Occurrence : 108\n",
      "Weak , Occurrence : 3370\n",
      "Support: , Occurrence : 1661\n",
      ". , Occurrence : 160\n",
      "Support...opposes , Occurrence : 1\n",
      "Oppose. , Occurrence : 5538\n",
      "Although , Occurrence : 68\n",
      "Oppose , Occurrence : 21033\n",
      "Fruitless , Occurrence : 3\n",
      "Neutral , Occurrence : 5864\n",
      "Yes , Occurrence : 153\n",
      "Strong , Occurrence : 8393\n"
     ]
    }
   ],
   "source": [
    "from collections import defaultdict\n",
    "cleaned_comments = wiki_copy['CLE']\n",
    "\n",
    "first_word_counts = defaultdict(int)\n",
    "for comment in cleaned_comments: \n",
    "    if isinstance(comment, str) and comment.strip(): \n",
    "        first_word = comment.split()[0]\n",
    "        first_word_counts[first_word] += 1\n",
    "i = 0       \n",
    "for word, count in first_word_counts.items(): \n",
    "    print(word, ', Occurrence :', count)\n",
    "    if i == 15: \n",
    "        break\n",
    "    i += 1\n"
   ]
  },
  {
   "cell_type": "code",
   "execution_count": 33,
   "id": "ceed5d1b-d599-440f-a0d0-c78f56f82175",
   "metadata": {
    "tags": []
   },
   "outputs": [
    {
     "data": {
      "text/plain": [
       "9387"
      ]
     },
     "execution_count": 33,
     "metadata": {},
     "output_type": "execute_result"
    }
   ],
   "source": [
    "# Some comments have become empty\n",
    "# After the wiki markup removal\n",
    "# wiki_copy['CLE'].replace('', np.nan, inplace=True)\n",
    "# wiki_copy['CLE'].isna().sum()\n",
    "len(wiki_copy[wiki_copy['CLE'] == '']['CLE'])"
   ]
  },
  {
   "cell_type": "markdown",
   "id": "4ec1172f-d497-43ec-a1bc-afb4e6443e92",
   "metadata": {},
   "source": [
    "Let's take a look at the additional empty comments resulting from our processing."
   ]
  },
  {
   "cell_type": "markdown",
   "id": "d2a7bf85-fbd8-4e8b-87f2-8e549f2b46e1",
   "metadata": {},
   "source": [
    "* In the cleaned comments, we have now 9387 missing values compared to the initial count of 7190. \n",
    "\n",
    "We don't do the replacement at this stage of empty comments by NaN, because we intend to maintain them as strings for the following steps. "
   ]
  },
  {
   "cell_type": "code",
   "execution_count": 34,
   "id": "15c8f079-59ef-4fc0-b532-90439ab4ed77",
   "metadata": {
    "tags": []
   },
   "outputs": [
    {
     "data": {
      "text/html": [
       "<div>\n",
       "<style scoped>\n",
       "    .dataframe tbody tr th:only-of-type {\n",
       "        vertical-align: middle;\n",
       "    }\n",
       "\n",
       "    .dataframe tbody tr th {\n",
       "        vertical-align: top;\n",
       "    }\n",
       "\n",
       "    .dataframe thead th {\n",
       "        text-align: right;\n",
       "    }\n",
       "</style>\n",
       "<table border=\"1\" class=\"dataframe\">\n",
       "  <thead>\n",
       "    <tr style=\"text-align: right;\">\n",
       "      <th></th>\n",
       "      <th>SRC</th>\n",
       "      <th>TGT</th>\n",
       "      <th>VOT</th>\n",
       "      <th>RES</th>\n",
       "      <th>YEA</th>\n",
       "      <th>DAT</th>\n",
       "      <th>TXT</th>\n",
       "      <th>ELECTION_ID</th>\n",
       "      <th>CLE</th>\n",
       "    </tr>\n",
       "  </thead>\n",
       "  <tbody>\n",
       "    <tr>\n",
       "      <th>156</th>\n",
       "      <td>Rzuwig</td>\n",
       "      <td>Bilby</td>\n",
       "      <td>1</td>\n",
       "      <td>1</td>\n",
       "      <td>2013</td>\n",
       "      <td>2013-05-25 07:11:00</td>\n",
       "      <td>{{pro}} --</td>\n",
       "      <td>2</td>\n",
       "      <td></td>\n",
       "    </tr>\n",
       "    <tr>\n",
       "      <th>276</th>\n",
       "      <td>Mabdul</td>\n",
       "      <td>Darkwind</td>\n",
       "      <td>1</td>\n",
       "      <td>1</td>\n",
       "      <td>2013</td>\n",
       "      <td>2012-12-26 20:39:00</td>\n",
       "      <td>&lt;small style=\"font: 12px Courier New; color: #...</td>\n",
       "      <td>3</td>\n",
       "      <td></td>\n",
       "    </tr>\n",
       "    <tr>\n",
       "      <th>300</th>\n",
       "      <td>Filelakeshoe</td>\n",
       "      <td>Darkwind</td>\n",
       "      <td>1</td>\n",
       "      <td>1</td>\n",
       "      <td>2013</td>\n",
       "      <td>2012-12-27 21:58:00</td>\n",
       "      <td>&lt;font face=\"trebuchet MS\"&gt;- [[User:Filelakesho...</td>\n",
       "      <td>3</td>\n",
       "      <td></td>\n",
       "    </tr>\n",
       "    <tr>\n",
       "      <th>427</th>\n",
       "      <td>LlamaAl</td>\n",
       "      <td>INeverCry</td>\n",
       "      <td>1</td>\n",
       "      <td>1</td>\n",
       "      <td>2013</td>\n",
       "      <td>2013-01-31 13:17:00</td>\n",
       "      <td>--</td>\n",
       "      <td>4</td>\n",
       "      <td></td>\n",
       "    </tr>\n",
       "    <tr>\n",
       "      <th>441</th>\n",
       "      <td>Jan eissfeldt</td>\n",
       "      <td>INeverCry</td>\n",
       "      <td>1</td>\n",
       "      <td>1</td>\n",
       "      <td>2013</td>\n",
       "      <td>2013-01-31 20:03:00</td>\n",
       "      <td>--</td>\n",
       "      <td>4</td>\n",
       "      <td></td>\n",
       "    </tr>\n",
       "    <tr>\n",
       "      <th>...</th>\n",
       "      <td>...</td>\n",
       "      <td>...</td>\n",
       "      <td>...</td>\n",
       "      <td>...</td>\n",
       "      <td>...</td>\n",
       "      <td>...</td>\n",
       "      <td>...</td>\n",
       "      <td>...</td>\n",
       "      <td>...</td>\n",
       "    </tr>\n",
       "    <tr>\n",
       "      <th>197931</th>\n",
       "      <td>Hcheney</td>\n",
       "      <td>Snowspinner</td>\n",
       "      <td>1</td>\n",
       "      <td>0</td>\n",
       "      <td>2004</td>\n",
       "      <td>2004-05-30 22:25:00</td>\n",
       "      <td>[[User:Hcheney/Support|Support]] --</td>\n",
       "      <td>3864</td>\n",
       "      <td></td>\n",
       "    </tr>\n",
       "    <tr>\n",
       "      <th>197938</th>\n",
       "      <td>Anthony DiPierro</td>\n",
       "      <td>Snowspinner</td>\n",
       "      <td>1</td>\n",
       "      <td>0</td>\n",
       "      <td>2004</td>\n",
       "      <td>NaT</td>\n",
       "      <td>[[User:Hcheney/Support|Support]] [[User:Anthon...</td>\n",
       "      <td>3864</td>\n",
       "      <td></td>\n",
       "    </tr>\n",
       "    <tr>\n",
       "      <th>197940</th>\n",
       "      <td>GeneralPatton</td>\n",
       "      <td>Snowspinner</td>\n",
       "      <td>1</td>\n",
       "      <td>0</td>\n",
       "      <td>2004</td>\n",
       "      <td>2004-06-02 18:13:00</td>\n",
       "      <td>--</td>\n",
       "      <td>3864</td>\n",
       "      <td></td>\n",
       "    </tr>\n",
       "    <tr>\n",
       "      <th>197944</th>\n",
       "      <td>Texture</td>\n",
       "      <td>Snowspinner</td>\n",
       "      <td>1</td>\n",
       "      <td>0</td>\n",
       "      <td>2004</td>\n",
       "      <td>2004-06-04 14:30:00</td>\n",
       "      <td>[[User:Texture|&lt;font color=red&gt;T&amp;#949;x&lt;/font&gt;...</td>\n",
       "      <td>3864</td>\n",
       "      <td></td>\n",
       "    </tr>\n",
       "    <tr>\n",
       "      <th>198002</th>\n",
       "      <td>Grunt</td>\n",
       "      <td>TakuyaMurata</td>\n",
       "      <td>1</td>\n",
       "      <td>0</td>\n",
       "      <td>2004</td>\n",
       "      <td>NaT</td>\n",
       "      <td>--</td>\n",
       "      <td>3866</td>\n",
       "      <td></td>\n",
       "    </tr>\n",
       "  </tbody>\n",
       "</table>\n",
       "<p>2197 rows × 9 columns</p>\n",
       "</div>"
      ],
      "text/plain": [
       "                     SRC           TGT  VOT  RES   YEA                 DAT  \\\n",
       "156               Rzuwig         Bilby    1    1  2013 2013-05-25 07:11:00   \n",
       "276               Mabdul      Darkwind    1    1  2013 2012-12-26 20:39:00   \n",
       "300         Filelakeshoe      Darkwind    1    1  2013 2012-12-27 21:58:00   \n",
       "427              LlamaAl     INeverCry    1    1  2013 2013-01-31 13:17:00   \n",
       "441        Jan eissfeldt     INeverCry    1    1  2013 2013-01-31 20:03:00   \n",
       "...                  ...           ...  ...  ...   ...                 ...   \n",
       "197931           Hcheney   Snowspinner    1    0  2004 2004-05-30 22:25:00   \n",
       "197938  Anthony DiPierro   Snowspinner    1    0  2004                 NaT   \n",
       "197940     GeneralPatton   Snowspinner    1    0  2004 2004-06-02 18:13:00   \n",
       "197944           Texture   Snowspinner    1    0  2004 2004-06-04 14:30:00   \n",
       "198002             Grunt  TakuyaMurata    1    0  2004                 NaT   \n",
       "\n",
       "                                                      TXT  ELECTION_ID CLE  \n",
       "156                                            {{pro}} --            2      \n",
       "276     <small style=\"font: 12px Courier New; color: #...            3      \n",
       "300     <font face=\"trebuchet MS\">- [[User:Filelakesho...            3      \n",
       "427                                                    --            4      \n",
       "441                                                    --            4      \n",
       "...                                                   ...          ...  ..  \n",
       "197931                [[User:Hcheney/Support|Support]] --         3864      \n",
       "197938  [[User:Hcheney/Support|Support]] [[User:Anthon...         3864      \n",
       "197940                                                 --         3864      \n",
       "197944  [[User:Texture|<font color=red>T&#949;x</font>...         3864      \n",
       "198002                                                 --         3866      \n",
       "\n",
       "[2197 rows x 9 columns]"
      ]
     },
     "execution_count": 34,
     "metadata": {},
     "output_type": "execute_result"
    }
   ],
   "source": [
    "wiki_copy[(wiki_copy['CLE'] == '') & (wiki_copy['TXT'] != '') ]"
   ]
  },
  {
   "cell_type": "markdown",
   "id": "bae72dcc-ad15-463f-8b49-ce3e7fc9c003",
   "metadata": {},
   "source": [
    "We can see that these comments initially contained only pure WikiMarkup and didn't contain any useful information for our analysis."
   ]
  },
  {
   "cell_type": "markdown",
   "id": "8a4deacf-4103-4817-b702-3da4db03b504",
   "metadata": {},
   "source": [
    "# Sentiment analysis with vader "
   ]
  },
  {
   "cell_type": "code",
   "execution_count": 164,
   "id": "cf892c97-dcfc-4749-96c6-5e90b3dd27c3",
   "metadata": {
    "tags": []
   },
   "outputs": [],
   "source": [
    "# Si Chris et Liandro en ont besoin \n",
    "\n",
    "\n",
    "# To remove all punctuation \n",
    "# import string \n",
    "# translator = str.maketrans(\"\", \"\", string.punctuation)\n",
    "# wiki_no_punct = wiki_df.copy()\n",
    "# wiki_no_punct['CLE'] = wiki_no_punct['CLE'].apply(lambda x: x.translate(translator) if isinstance(x, str) else x)"
   ]
  },
  {
   "cell_type": "markdown",
   "id": "8f64f1f1-fd73-4581-8920-0c605751ce32",
   "metadata": {},
   "source": [
    "Punctuation can provide valuable context for sentiment analysis as it can affect the emotional toned of a sentence. Vader is designed to work with text that includes punctuation. It take into account various linguistic and grammatical aspects to understand the sentiment expressed in a piece of text."
   ]
  },
  {
   "cell_type": "code",
   "execution_count": 36,
   "id": "09c34bbb-10ca-4a32-b428-537f77620500",
   "metadata": {
    "tags": []
   },
   "outputs": [
    {
     "name": "stderr",
     "output_type": "stream",
     "text": [
      "[nltk_data] Downloading package vader_lexicon to\n",
      "[nltk_data]     C:\\Users\\Akram\\AppData\\Roaming\\nltk_data...\n"
     ]
    },
    {
     "data": {
      "text/plain": [
       "True"
      ]
     },
     "execution_count": 36,
     "metadata": {},
     "output_type": "execute_result"
    }
   ],
   "source": [
    "import nltk \n",
    "nltk.download('vader_lexicon')"
   ]
  },
  {
   "cell_type": "code",
   "execution_count": 37,
   "id": "bebdc444-95f2-4a7d-b4d4-8d0d81d876c6",
   "metadata": {
    "tags": []
   },
   "outputs": [],
   "source": [
    "from nltk.sentiment import SentimentIntensityAnalyzer\n",
    "from tqdm.notebook import tqdm\n",
    "\n",
    "sia = SentimentIntensityAnalyzer()"
   ]
  },
  {
   "cell_type": "markdown",
   "id": "1c0758fb-6c33-437a-b66a-07a7042e5a80",
   "metadata": {},
   "source": [
    "* Let's apply it on an example comment."
   ]
  },
  {
   "cell_type": "code",
   "execution_count": 215,
   "id": "b93b8a01-2b1c-4b34-8957-e27f746890f0",
   "metadata": {
    "tags": []
   },
   "outputs": [
    {
     "name": "stdout",
     "output_type": "stream",
     "text": [
      "Support There are plenty of important roles on this project, of which content creator is only one of them. BDD has done good work over a number of years. That his primary activity is not content creation is not of concern.\n",
      "Scores =  {'neg': 0.04, 'neu': 0.769, 'pos': 0.191, 'compound': 0.7083}\n"
     ]
    }
   ],
   "source": [
    "ex = wiki_copy.iloc[5]['CLE']\n",
    "print(ex)\n",
    "print('Scores = ', sia.polarity_scores(ex))"
   ]
  },
  {
   "cell_type": "markdown",
   "id": "81f1dc07-34fe-4d7b-bacf-9de3b6d88380",
   "metadata": {},
   "source": [
    "VADER sentiment analysis provides sentiment scores for text: negative(neg), neutral(neu), positive(pos) and compound scores. The compound score takes values from -1 to 1, with values closer to -1 indicating negativity, 0 for neutrality and 1 for positivity. "
   ]
  },
  {
   "cell_type": "code",
   "execution_count": 38,
   "id": "0c18e36f-01ce-45aa-ab84-d2e55cb6986d",
   "metadata": {
    "tags": []
   },
   "outputs": [],
   "source": [
    "scores = {}\n",
    "for i, row in wiki_copy.iterrows(): \n",
    "    scores[i] = sia.polarity_scores(row['CLE'])"
   ]
  },
  {
   "cell_type": "code",
   "execution_count": 44,
   "id": "6a2a3689-6673-4d7d-b9ff-2c6f6a269fad",
   "metadata": {
    "tags": []
   },
   "outputs": [],
   "source": [
    "scores_df = pd.DataFrame(scores).T"
   ]
  },
  {
   "cell_type": "code",
   "execution_count": 45,
   "id": "bb76d9ab-496b-4041-a0d7-6cbc87ccdf3a",
   "metadata": {
    "tags": []
   },
   "outputs": [
    {
     "data": {
      "text/html": [
       "<div>\n",
       "<style scoped>\n",
       "    .dataframe tbody tr th:only-of-type {\n",
       "        vertical-align: middle;\n",
       "    }\n",
       "\n",
       "    .dataframe tbody tr th {\n",
       "        vertical-align: top;\n",
       "    }\n",
       "\n",
       "    .dataframe thead th {\n",
       "        text-align: right;\n",
       "    }\n",
       "</style>\n",
       "<table border=\"1\" class=\"dataframe\">\n",
       "  <thead>\n",
       "    <tr style=\"text-align: right;\">\n",
       "      <th></th>\n",
       "      <th>neg</th>\n",
       "      <th>neu</th>\n",
       "      <th>pos</th>\n",
       "      <th>compound</th>\n",
       "    </tr>\n",
       "  </thead>\n",
       "  <tbody>\n",
       "    <tr>\n",
       "      <th>0</th>\n",
       "      <td>0.000</td>\n",
       "      <td>0.426</td>\n",
       "      <td>0.574</td>\n",
       "      <td>0.4019</td>\n",
       "    </tr>\n",
       "    <tr>\n",
       "      <th>1</th>\n",
       "      <td>0.000</td>\n",
       "      <td>0.426</td>\n",
       "      <td>0.574</td>\n",
       "      <td>0.4019</td>\n",
       "    </tr>\n",
       "    <tr>\n",
       "      <th>2</th>\n",
       "      <td>0.000</td>\n",
       "      <td>0.426</td>\n",
       "      <td>0.574</td>\n",
       "      <td>0.4019</td>\n",
       "    </tr>\n",
       "    <tr>\n",
       "      <th>3</th>\n",
       "      <td>0.176</td>\n",
       "      <td>0.504</td>\n",
       "      <td>0.320</td>\n",
       "      <td>0.6124</td>\n",
       "    </tr>\n",
       "    <tr>\n",
       "      <th>4</th>\n",
       "      <td>0.000</td>\n",
       "      <td>0.612</td>\n",
       "      <td>0.388</td>\n",
       "      <td>0.9349</td>\n",
       "    </tr>\n",
       "    <tr>\n",
       "      <th>5</th>\n",
       "      <td>0.040</td>\n",
       "      <td>0.769</td>\n",
       "      <td>0.191</td>\n",
       "      <td>0.7083</td>\n",
       "    </tr>\n",
       "    <tr>\n",
       "      <th>6</th>\n",
       "      <td>0.000</td>\n",
       "      <td>0.722</td>\n",
       "      <td>0.278</td>\n",
       "      <td>0.4019</td>\n",
       "    </tr>\n",
       "    <tr>\n",
       "      <th>7</th>\n",
       "      <td>0.022</td>\n",
       "      <td>0.848</td>\n",
       "      <td>0.130</td>\n",
       "      <td>0.8850</td>\n",
       "    </tr>\n",
       "    <tr>\n",
       "      <th>8</th>\n",
       "      <td>0.058</td>\n",
       "      <td>0.665</td>\n",
       "      <td>0.278</td>\n",
       "      <td>0.9801</td>\n",
       "    </tr>\n",
       "    <tr>\n",
       "      <th>9</th>\n",
       "      <td>0.172</td>\n",
       "      <td>0.391</td>\n",
       "      <td>0.437</td>\n",
       "      <td>0.5267</td>\n",
       "    </tr>\n",
       "  </tbody>\n",
       "</table>\n",
       "</div>"
      ],
      "text/plain": [
       "     neg    neu    pos  compound\n",
       "0  0.000  0.426  0.574    0.4019\n",
       "1  0.000  0.426  0.574    0.4019\n",
       "2  0.000  0.426  0.574    0.4019\n",
       "3  0.176  0.504  0.320    0.6124\n",
       "4  0.000  0.612  0.388    0.9349\n",
       "5  0.040  0.769  0.191    0.7083\n",
       "6  0.000  0.722  0.278    0.4019\n",
       "7  0.022  0.848  0.130    0.8850\n",
       "8  0.058  0.665  0.278    0.9801\n",
       "9  0.172  0.391  0.437    0.5267"
      ]
     },
     "execution_count": 45,
     "metadata": {},
     "output_type": "execute_result"
    }
   ],
   "source": [
    "scores_df.head(10)"
   ]
  },
  {
   "cell_type": "code",
   "execution_count": 47,
   "id": "e9ba28ab-c5c0-474e-8806-950312ce4729",
   "metadata": {
    "tags": []
   },
   "outputs": [
    {
     "data": {
      "text/html": [
       "<div>\n",
       "<style scoped>\n",
       "    .dataframe tbody tr th:only-of-type {\n",
       "        vertical-align: middle;\n",
       "    }\n",
       "\n",
       "    .dataframe tbody tr th {\n",
       "        vertical-align: top;\n",
       "    }\n",
       "\n",
       "    .dataframe thead th {\n",
       "        text-align: right;\n",
       "    }\n",
       "</style>\n",
       "<table border=\"1\" class=\"dataframe\">\n",
       "  <thead>\n",
       "    <tr style=\"text-align: right;\">\n",
       "      <th></th>\n",
       "      <th>SRC</th>\n",
       "      <th>TGT</th>\n",
       "      <th>VOT</th>\n",
       "      <th>RES</th>\n",
       "      <th>YEA</th>\n",
       "      <th>DAT</th>\n",
       "      <th>TXT</th>\n",
       "      <th>ELECTION_ID</th>\n",
       "      <th>CLE</th>\n",
       "      <th>neg</th>\n",
       "      <th>neu</th>\n",
       "      <th>pos</th>\n",
       "      <th>compound</th>\n",
       "    </tr>\n",
       "  </thead>\n",
       "  <tbody>\n",
       "    <tr>\n",
       "      <th>78319</th>\n",
       "      <td>RyanGerbil10</td>\n",
       "      <td>Malleus Fatuarum</td>\n",
       "      <td>-1</td>\n",
       "      <td>0</td>\n",
       "      <td>2008</td>\n",
       "      <td>2008-05-19 15:17:00</td>\n",
       "      <td>'''&lt;s&gt;No.&lt;/s&gt;''' The candidate's behavior on t...</td>\n",
       "      <td>1189</td>\n",
       "      <td>No. The candidate's behavior on this very page...</td>\n",
       "      <td>0.197</td>\n",
       "      <td>0.672</td>\n",
       "      <td>0.130</td>\n",
       "      <td>-0.1531</td>\n",
       "    </tr>\n",
       "    <tr>\n",
       "      <th>47125</th>\n",
       "      <td>Terrillja</td>\n",
       "      <td>FredSmit</td>\n",
       "      <td>-1</td>\n",
       "      <td>0</td>\n",
       "      <td>2009</td>\n",
       "      <td>2009-04-13 16:54:00</td>\n",
       "      <td>'''Oppose, for now''' Sorry, but there is no w...</td>\n",
       "      <td>661</td>\n",
       "      <td>Oppose, for now Sorry, but there is no way to ...</td>\n",
       "      <td>0.070</td>\n",
       "      <td>0.828</td>\n",
       "      <td>0.102</td>\n",
       "      <td>0.6313</td>\n",
       "    </tr>\n",
       "    <tr>\n",
       "      <th>107727</th>\n",
       "      <td>John254</td>\n",
       "      <td>TeaDrinker</td>\n",
       "      <td>1</td>\n",
       "      <td>1</td>\n",
       "      <td>2007</td>\n",
       "      <td>2007-11-12 03:12:00</td>\n",
       "      <td>'''Support'''</td>\n",
       "      <td>1704</td>\n",
       "      <td>Support</td>\n",
       "      <td>0.000</td>\n",
       "      <td>0.000</td>\n",
       "      <td>1.000</td>\n",
       "      <td>0.4019</td>\n",
       "    </tr>\n",
       "    <tr>\n",
       "      <th>47020</th>\n",
       "      <td>Pascal.Tesson</td>\n",
       "      <td>FlyingToaster</td>\n",
       "      <td>1</td>\n",
       "      <td>0</td>\n",
       "      <td>2009</td>\n",
       "      <td>2009-02-20 18:33:00</td>\n",
       "      <td>'''Support''' I'm not happy about the sloppy t...</td>\n",
       "      <td>660</td>\n",
       "      <td>Support I'm not happy about the sloppy tagging...</td>\n",
       "      <td>0.119</td>\n",
       "      <td>0.717</td>\n",
       "      <td>0.165</td>\n",
       "      <td>0.5501</td>\n",
       "    </tr>\n",
       "    <tr>\n",
       "      <th>146042</th>\n",
       "      <td>Go for it!</td>\n",
       "      <td>Redvers</td>\n",
       "      <td>1</td>\n",
       "      <td>1</td>\n",
       "      <td>2006</td>\n",
       "      <td>2006-03-20 17:44:00</td>\n",
       "      <td>{{User:Go for it!/Vote Support}} I'm impressed...</td>\n",
       "      <td>2447</td>\n",
       "      <td>I'm impressed.</td>\n",
       "      <td>0.000</td>\n",
       "      <td>0.244</td>\n",
       "      <td>0.756</td>\n",
       "      <td>0.4767</td>\n",
       "    </tr>\n",
       "    <tr>\n",
       "      <th>43457</th>\n",
       "      <td>Lankiveil</td>\n",
       "      <td>TheDJ</td>\n",
       "      <td>1</td>\n",
       "      <td>1</td>\n",
       "      <td>2009</td>\n",
       "      <td>2009-04-23 03:54:00</td>\n",
       "      <td>'''Support''', no evidence or indication that ...</td>\n",
       "      <td>589</td>\n",
       "      <td>Support, no evidence or indication that this u...</td>\n",
       "      <td>0.354</td>\n",
       "      <td>0.497</td>\n",
       "      <td>0.149</td>\n",
       "      <td>-0.5719</td>\n",
       "    </tr>\n",
       "    <tr>\n",
       "      <th>43818</th>\n",
       "      <td>Calmer Waters</td>\n",
       "      <td>Ucucha</td>\n",
       "      <td>1</td>\n",
       "      <td>1</td>\n",
       "      <td>2009</td>\n",
       "      <td>2009-12-08 07:00:00</td>\n",
       "      <td>'''Support''' Has shown to be trustworthy in h...</td>\n",
       "      <td>593</td>\n",
       "      <td>Support Has shown to be trustworthy in his jud...</td>\n",
       "      <td>0.075</td>\n",
       "      <td>0.733</td>\n",
       "      <td>0.192</td>\n",
       "      <td>0.8989</td>\n",
       "    </tr>\n",
       "    <tr>\n",
       "      <th>177759</th>\n",
       "      <td>Brian0918</td>\n",
       "      <td>Ixfd64</td>\n",
       "      <td>1</td>\n",
       "      <td>1</td>\n",
       "      <td>2005</td>\n",
       "      <td>NaT</td>\n",
       "      <td>&lt;small&gt;</td>\n",
       "      <td>3166</td>\n",
       "      <td></td>\n",
       "      <td>0.000</td>\n",
       "      <td>0.000</td>\n",
       "      <td>0.000</td>\n",
       "      <td>0.0000</td>\n",
       "    </tr>\n",
       "    <tr>\n",
       "      <th>176922</th>\n",
       "      <td>Kirill Lokshin</td>\n",
       "      <td>Gurubrahma</td>\n",
       "      <td>1</td>\n",
       "      <td>1</td>\n",
       "      <td>2005</td>\n",
       "      <td>2005-11-29 21:02:00</td>\n",
       "      <td>'''Support'''.</td>\n",
       "      <td>3146</td>\n",
       "      <td>Support.</td>\n",
       "      <td>0.000</td>\n",
       "      <td>0.000</td>\n",
       "      <td>1.000</td>\n",
       "      <td>0.4019</td>\n",
       "    </tr>\n",
       "    <tr>\n",
       "      <th>116904</th>\n",
       "      <td>Jack</td>\n",
       "      <td>Ibaranoff24</td>\n",
       "      <td>-1</td>\n",
       "      <td>0</td>\n",
       "      <td>2007</td>\n",
       "      <td>2007-12-23 19:17:00</td>\n",
       "      <td>'''Oppose''' per the answers to questions not ...</td>\n",
       "      <td>1913</td>\n",
       "      <td>Oppose per the answers to questions not doing ...</td>\n",
       "      <td>0.000</td>\n",
       "      <td>1.000</td>\n",
       "      <td>0.000</td>\n",
       "      <td>0.0000</td>\n",
       "    </tr>\n",
       "  </tbody>\n",
       "</table>\n",
       "</div>"
      ],
      "text/plain": [
       "                   SRC               TGT  VOT  RES   YEA                 DAT  \\\n",
       "78319     RyanGerbil10  Malleus Fatuarum   -1    0  2008 2008-05-19 15:17:00   \n",
       "47125        Terrillja          FredSmit   -1    0  2009 2009-04-13 16:54:00   \n",
       "107727         John254        TeaDrinker    1    1  2007 2007-11-12 03:12:00   \n",
       "47020    Pascal.Tesson     FlyingToaster    1    0  2009 2009-02-20 18:33:00   \n",
       "146042      Go for it!           Redvers    1    1  2006 2006-03-20 17:44:00   \n",
       "43457        Lankiveil             TheDJ    1    1  2009 2009-04-23 03:54:00   \n",
       "43818    Calmer Waters            Ucucha    1    1  2009 2009-12-08 07:00:00   \n",
       "177759       Brian0918            Ixfd64    1    1  2005                 NaT   \n",
       "176922  Kirill Lokshin        Gurubrahma    1    1  2005 2005-11-29 21:02:00   \n",
       "116904            Jack       Ibaranoff24   -1    0  2007 2007-12-23 19:17:00   \n",
       "\n",
       "                                                      TXT  ELECTION_ID  \\\n",
       "78319   '''<s>No.</s>''' The candidate's behavior on t...         1189   \n",
       "47125   '''Oppose, for now''' Sorry, but there is no w...          661   \n",
       "107727                                      '''Support'''         1704   \n",
       "47020   '''Support''' I'm not happy about the sloppy t...          660   \n",
       "146042  {{User:Go for it!/Vote Support}} I'm impressed...         2447   \n",
       "43457   '''Support''', no evidence or indication that ...          589   \n",
       "43818   '''Support''' Has shown to be trustworthy in h...          593   \n",
       "177759                                            <small>         3166   \n",
       "176922                                     '''Support'''.         3146   \n",
       "116904  '''Oppose''' per the answers to questions not ...         1913   \n",
       "\n",
       "                                                      CLE    neg    neu  \\\n",
       "78319   No. The candidate's behavior on this very page...  0.197  0.672   \n",
       "47125   Oppose, for now Sorry, but there is no way to ...  0.070  0.828   \n",
       "107727                                            Support  0.000  0.000   \n",
       "47020   Support I'm not happy about the sloppy tagging...  0.119  0.717   \n",
       "146042                                   I'm impressed.    0.000  0.244   \n",
       "43457   Support, no evidence or indication that this u...  0.354  0.497   \n",
       "43818   Support Has shown to be trustworthy in his jud...  0.075  0.733   \n",
       "177759                                                     0.000  0.000   \n",
       "176922                                           Support.  0.000  0.000   \n",
       "116904  Oppose per the answers to questions not doing ...  0.000  1.000   \n",
       "\n",
       "          pos  compound  \n",
       "78319   0.130   -0.1531  \n",
       "47125   0.102    0.6313  \n",
       "107727  1.000    0.4019  \n",
       "47020   0.165    0.5501  \n",
       "146042  0.756    0.4767  \n",
       "43457   0.149   -0.5719  \n",
       "43818   0.192    0.8989  \n",
       "177759  0.000    0.0000  \n",
       "176922  1.000    0.4019  \n",
       "116904  0.000    0.0000  "
      ]
     },
     "execution_count": 47,
     "metadata": {},
     "output_type": "execute_result"
    }
   ],
   "source": [
    "# Merging the two dataframes\n",
    "wiki_with_scores = pd.concat([wiki_copy, scores_df], axis = 1)\n",
    "wiki_with_scores.sample(10)"
   ]
  },
  {
   "cell_type": "code",
   "execution_count": 48,
   "id": "8296dcc1-3370-4adb-8f47-7cbbcef1af9c",
   "metadata": {
    "tags": []
   },
   "outputs": [
    {
     "data": {
      "text/plain": [
       "9387"
      ]
     },
     "execution_count": 48,
     "metadata": {},
     "output_type": "execute_result"
    }
   ],
   "source": [
    "wiki_with_scores['CLE'].replace('', np.nan, inplace=True) \n",
    "wiki_with_scores['CLE'].isnull().sum()"
   ]
  },
  {
   "cell_type": "code",
   "execution_count": 49,
   "id": "b04624ba-3ee3-4054-8276-c95804d7c88c",
   "metadata": {
    "tags": []
   },
   "outputs": [
    {
     "data": {
      "image/png": "[encoded data removed]",
      "text/plain": [
       "<Figure size 1200x300 with 4 Axes>"
      ]
     },
     "metadata": {},
     "output_type": "display_data"
    }
   ],
   "source": [
    "wiki_cle_dropna = wiki_with_scores.dropna(subset = 'CLE') # remove empty comments \n",
    "fig, axs = plt.subplots(1, 4, figsize=(12, 3))\n",
    "sns.barplot(data=wiki_cle_dropna, x='VOT', y='pos', ax=axs[0])\n",
    "sns.barplot(data=wiki_cle_dropna, x='VOT', y='neu', ax=axs[1])\n",
    "sns.barplot(data=wiki_cle_dropna, x='VOT', y='neg', ax=axs[2])\n",
    "sns.barplot(data=wiki_cle_dropna, x='VOT', y='compound', ax=axs[3])\n",
    "axs[0].set_title('Positive')\n",
    "axs[1].set_title('Neutral')\n",
    "axs[2].set_title('Negative')\n",
    "axs[3].set_title('Compound')\n",
    "plt.tight_layout()\n",
    "plt.show()"
   ]
  },
  {
   "cell_type": "markdown",
   "id": "860cc6be-ec86-4f69-80c1-99fee4319ed2",
   "metadata": {},
   "source": [
    "On average, we can conclude that there is consistency between the votes and the associated comments."
   ]
  },
  {
   "cell_type": "code",
   "execution_count": 207,
   "id": "b373aac4-b789-4b98-ba0d-74664362c4c8",
   "metadata": {
    "tags": []
   },
   "outputs": [
    {
     "data": {
      "image/png": "[encoded data removed]",
      "text/plain": [
       "<Figure size 1500x300 with 4 Axes>"
      ]
     },
     "metadata": {},
     "output_type": "display_data"
    }
   ],
   "source": [
    "fig, axs = plt.subplots(1, 4, figsize=(15, 3))\n",
    "year = 2003 \n",
    "for i in range(4):\n",
    "    axs[i] = sns.barplot(data=wiki_cle_dropna[wiki_cle_dropna['YEA'] == year], x='VOT', y='compound', ax= axs[i])\n",
    "    axs[i].set_title('Compound Score by Votes in ' + str(year))\n",
    "    year += 1"
   ]
  },
  {
   "cell_type": "code",
   "execution_count": 208,
   "id": "ff4d3fb2-cf49-4bbc-a23c-111cbd41e962",
   "metadata": {
    "tags": []
   },
   "outputs": [
    {
     "data": {
      "image/png": "[encoded data removed]",
      "text/plain": [
       "<Figure size 1500x300 with 4 Axes>"
      ]
     },
     "metadata": {},
     "output_type": "display_data"
    }
   ],
   "source": [
    "fig, axs = plt.subplots(1, 4, figsize=(15, 3))\n",
    "year = 2007 \n",
    "for i in range(4):\n",
    "    axs[i] = sns.barplot(data=wiki_cle_dropna[wiki_cle_dropna['YEA'] == year], x='VOT', y='compound', ax= axs[i])\n",
    "    axs[i].set_title('Compound Score by Votes in ' + str(year))\n",
    "    year += 1"
   ]
  },
  {
   "cell_type": "code",
   "execution_count": 209,
   "id": "fe109c9b-f030-44a0-9970-20886c6f5e02",
   "metadata": {
    "tags": []
   },
   "outputs": [
    {
     "data": {
      "image/png": "[encoded data removed]",
      "text/plain": [
       "<Figure size 1500x300 with 3 Axes>"
      ]
     },
     "metadata": {},
     "output_type": "display_data"
    }
   ],
   "source": [
    "fig, axs = plt.subplots(1, 3, figsize=(15, 3))\n",
    "year = 2011 \n",
    "for i in range(3):\n",
    "    axs[i] = sns.barplot(data=wiki_cle_dropna[wiki_cle_dropna['YEA'] == year], x='VOT', y='compound', ax= axs[i])\n",
    "    axs[i].set_title('Compound Score by Votes in ' + str(year))\n",
    "    year += 1"
   ]
  },
  {
   "cell_type": "markdown",
   "id": "0403cdbc-995f-405e-9237-7227b061451f",
   "metadata": {},
   "source": [
    "* For each year, the conclusion of consistency is still available. Therefore, generally, people tend to leave comments accordingly to their vote choice."
   ]
  }
 ],
 "metadata": {
  "kernelspec": {
   "display_name": "Python 3 (ipykernel)",
   "language": "python",
   "name": "python3"
  },
  "language_info": {
   "codemirror_mode": {
    "name": "ipython",
    "version": 3
   },
   "file_extension": ".py",
   "mimetype": "text/x-python",
   "name": "python",
   "nbconvert_exporter": "python",
   "pygments_lexer": "ipython3",
   "version": "3.11.5"
  }
 },
 "nbformat": 4,
 "nbformat_minor": 5
}
