{
 "cells": [
  {
   "cell_type": "markdown",
   "id": "6f155862-e7ac-42b0-83ee-1b26f07cc187",
   "metadata": {},
   "source": [
    "## Text processing"
   ]
  },
  {
   "cell_type": "markdown",
   "id": "d772aafa-4660-4cec-be1f-f94016ab6879",
   "metadata": {},
   "source": [
    "### Imports"
   ]
  },
  {
   "cell_type": "code",
<<<<<<< HEAD
   "execution_count": 76,
=======
   "execution_count": 2,
>>>>>>> f73899ca9b7d8f26c7a5c09735160248ba75c878
   "id": "0493c585-1da5-4f44-bd79-84203bdd779e",
   "metadata": {
    "tags": []
   },
   "outputs": [
    {
     "name": "stderr",
     "output_type": "stream",
     "text": [
      "/home/sakas/miniconda3/envs/ada/lib/python3.9/site-packages/tensorflow/python/framework/dtypes.py:513: FutureWarning: In the future `np.object` will be defined as the corresponding NumPy scalar.\n",
      "  np.object,\n"
     ]
    },
    {
     "ename": "AttributeError",
     "evalue": "module 'numpy' has no attribute 'object'.\n`np.object` was a deprecated alias for the builtin `object`. To avoid this error in existing code, use `object` by itself. Doing this will not modify any behavior and is safe. \nThe aliases was originally deprecated in NumPy 1.20; for more details and guidance see the original release note at:\n    https://numpy.org/devdocs/release/1.20.0-notes.html#deprecations",
     "output_type": "error",
     "traceback": [
      "\u001b[0;31m---------------------------------------------------------------------------\u001b[0m",
      "\u001b[0;31mAttributeError\u001b[0m                            Traceback (most recent call last)",
      "Cell \u001b[0;32mIn[76], line 7\u001b[0m\n\u001b[1;32m      5\u001b[0m \u001b[38;5;28;01mimport\u001b[39;00m \u001b[38;5;21;01mmatplotlib\u001b[39;00m\u001b[38;5;21;01m.\u001b[39;00m\u001b[38;5;21;01mpyplot\u001b[39;00m \u001b[38;5;28;01mas\u001b[39;00m \u001b[38;5;21;01mplt\u001b[39;00m\n\u001b[1;32m      6\u001b[0m \u001b[38;5;28;01mfrom\u001b[39;00m \u001b[38;5;21;01mtextblob\u001b[39;00m \u001b[38;5;28;01mimport\u001b[39;00m TextBlob\n\u001b[0;32m----> 7\u001b[0m \u001b[38;5;28;01mimport\u001b[39;00m \u001b[38;5;21;01mspacy\u001b[39;00m\n\u001b[1;32m      8\u001b[0m \u001b[38;5;28;01mimport\u001b[39;00m \u001b[38;5;21;01mstring\u001b[39;00m\n\u001b[1;32m      9\u001b[0m \u001b[38;5;28;01mimport\u001b[39;00m \u001b[38;5;21;01mnltk\u001b[39;00m\n",
      "File \u001b[0;32m~/miniconda3/envs/ada/lib/python3.9/site-packages/spacy/__init__.py:6\u001b[0m\n\u001b[1;32m      3\u001b[0m \u001b[38;5;28;01mimport\u001b[39;00m \u001b[38;5;21;01msys\u001b[39;00m\n\u001b[1;32m      5\u001b[0m \u001b[38;5;66;03m# set library-specific custom warning handling before doing anything else\u001b[39;00m\n\u001b[0;32m----> 6\u001b[0m \u001b[38;5;28;01mfrom\u001b[39;00m \u001b[38;5;21;01m.\u001b[39;00m\u001b[38;5;21;01merrors\u001b[39;00m \u001b[38;5;28;01mimport\u001b[39;00m setup_default_warnings\n\u001b[1;32m      8\u001b[0m setup_default_warnings()  \u001b[38;5;66;03m# noqa: E402\u001b[39;00m\n\u001b[1;32m     10\u001b[0m \u001b[38;5;66;03m# These are imported as part of the API\u001b[39;00m\n",
      "File \u001b[0;32m~/miniconda3/envs/ada/lib/python3.9/site-packages/spacy/errors.py:2\u001b[0m\n\u001b[1;32m      1\u001b[0m \u001b[38;5;28;01mimport\u001b[39;00m \u001b[38;5;21;01mwarnings\u001b[39;00m\n\u001b[0;32m----> 2\u001b[0m \u001b[38;5;28;01mfrom\u001b[39;00m \u001b[38;5;21;01m.\u001b[39;00m\u001b[38;5;21;01mcompat\u001b[39;00m \u001b[38;5;28;01mimport\u001b[39;00m Literal\n\u001b[1;32m      5\u001b[0m \u001b[38;5;28;01mclass\u001b[39;00m \u001b[38;5;21;01mErrorsWithCodes\u001b[39;00m(\u001b[38;5;28mtype\u001b[39m):\n\u001b[1;32m      6\u001b[0m     \u001b[38;5;28;01mdef\u001b[39;00m \u001b[38;5;21m__getattribute__\u001b[39m(\u001b[38;5;28mself\u001b[39m, code):\n",
      "File \u001b[0;32m~/miniconda3/envs/ada/lib/python3.9/site-packages/spacy/compat.py:3\u001b[0m\n\u001b[1;32m      1\u001b[0m \u001b[38;5;124;03m\"\"\"Helpers for Python and platform compatibility.\"\"\"\u001b[39;00m\n\u001b[1;32m      2\u001b[0m \u001b[38;5;28;01mimport\u001b[39;00m \u001b[38;5;21;01msys\u001b[39;00m\n\u001b[0;32m----> 3\u001b[0m \u001b[38;5;28;01mfrom\u001b[39;00m \u001b[38;5;21;01mthinc\u001b[39;00m\u001b[38;5;21;01m.\u001b[39;00m\u001b[38;5;21;01mutil\u001b[39;00m \u001b[38;5;28;01mimport\u001b[39;00m copy_array\n\u001b[1;32m      5\u001b[0m \u001b[38;5;28;01mtry\u001b[39;00m:\n\u001b[1;32m      6\u001b[0m     \u001b[38;5;28;01mimport\u001b[39;00m \u001b[38;5;21;01mcPickle\u001b[39;00m \u001b[38;5;28;01mas\u001b[39;00m \u001b[38;5;21;01mpickle\u001b[39;00m\n",
      "File \u001b[0;32m~/miniconda3/envs/ada/lib/python3.9/site-packages/thinc/__init__.py:5\u001b[0m\n\u001b[1;32m      2\u001b[0m \u001b[38;5;28;01mimport\u001b[39;00m \u001b[38;5;21;01mnumpy\u001b[39;00m\n\u001b[1;32m      4\u001b[0m \u001b[38;5;28;01mfrom\u001b[39;00m \u001b[38;5;21;01m.\u001b[39;00m\u001b[38;5;21;01mabout\u001b[39;00m \u001b[38;5;28;01mimport\u001b[39;00m __version__\n\u001b[0;32m----> 5\u001b[0m \u001b[38;5;28;01mfrom\u001b[39;00m \u001b[38;5;21;01m.\u001b[39;00m\u001b[38;5;21;01mconfig\u001b[39;00m \u001b[38;5;28;01mimport\u001b[39;00m registry\n\u001b[1;32m      8\u001b[0m \u001b[38;5;66;03m# fmt: off\u001b[39;00m\n\u001b[1;32m      9\u001b[0m __all__ \u001b[38;5;241m=\u001b[39m [\n\u001b[1;32m     10\u001b[0m     \u001b[38;5;124m\"\u001b[39m\u001b[38;5;124mregistry\u001b[39m\u001b[38;5;124m\"\u001b[39m,\n\u001b[1;32m     11\u001b[0m     \u001b[38;5;124m\"\u001b[39m\u001b[38;5;124m__version__\u001b[39m\u001b[38;5;124m\"\u001b[39m,\n\u001b[1;32m     12\u001b[0m ]\n",
      "File \u001b[0;32m~/miniconda3/envs/ada/lib/python3.9/site-packages/thinc/config.py:4\u001b[0m\n\u001b[1;32m      2\u001b[0m \u001b[38;5;28;01mimport\u001b[39;00m \u001b[38;5;21;01mconfection\u001b[39;00m\n\u001b[1;32m      3\u001b[0m \u001b[38;5;28;01mfrom\u001b[39;00m \u001b[38;5;21;01mconfection\u001b[39;00m \u001b[38;5;28;01mimport\u001b[39;00m Config, ConfigValidationError, Promise, VARIABLE_RE\n\u001b[0;32m----> 4\u001b[0m \u001b[38;5;28;01mfrom\u001b[39;00m \u001b[38;5;21;01m.\u001b[39;00m\u001b[38;5;21;01mtypes\u001b[39;00m \u001b[38;5;28;01mimport\u001b[39;00m Decorator\n\u001b[1;32m      7\u001b[0m \u001b[38;5;28;01mclass\u001b[39;00m \u001b[38;5;21;01mregistry\u001b[39;00m(confection\u001b[38;5;241m.\u001b[39mregistry):\n\u001b[1;32m      8\u001b[0m     \u001b[38;5;66;03m# fmt: off\u001b[39;00m\n\u001b[1;32m      9\u001b[0m     optimizers: Decorator \u001b[38;5;241m=\u001b[39m catalogue\u001b[38;5;241m.\u001b[39mcreate(\u001b[38;5;124m\"\u001b[39m\u001b[38;5;124mthinc\u001b[39m\u001b[38;5;124m\"\u001b[39m, \u001b[38;5;124m\"\u001b[39m\u001b[38;5;124moptimizers\u001b[39m\u001b[38;5;124m\"\u001b[39m, entry_points\u001b[38;5;241m=\u001b[39m\u001b[38;5;28;01mTrue\u001b[39;00m)\n",
      "File \u001b[0;32m~/miniconda3/envs/ada/lib/python3.9/site-packages/thinc/types.py:8\u001b[0m\n\u001b[1;32m      6\u001b[0m \u001b[38;5;28;01mimport\u001b[39;00m \u001b[38;5;21;01mnumpy\u001b[39;00m\n\u001b[1;32m      7\u001b[0m \u001b[38;5;28;01mimport\u001b[39;00m \u001b[38;5;21;01msys\u001b[39;00m\n\u001b[0;32m----> 8\u001b[0m \u001b[38;5;28;01mfrom\u001b[39;00m \u001b[38;5;21;01m.\u001b[39;00m\u001b[38;5;21;01mcompat\u001b[39;00m \u001b[38;5;28;01mimport\u001b[39;00m has_cupy, cupy\n\u001b[1;32m     10\u001b[0m \u001b[38;5;28;01mif\u001b[39;00m has_cupy:\n\u001b[1;32m     11\u001b[0m     get_array_module \u001b[38;5;241m=\u001b[39m cupy\u001b[38;5;241m.\u001b[39mget_array_module\n",
      "File \u001b[0;32m~/miniconda3/envs/ada/lib/python3.9/site-packages/thinc/compat.py:54\u001b[0m\n\u001b[1;32m     51\u001b[0m     torch_version \u001b[38;5;241m=\u001b[39m Version(\u001b[38;5;124m\"\u001b[39m\u001b[38;5;124m0.0.0\u001b[39m\u001b[38;5;124m\"\u001b[39m)\n\u001b[1;32m     53\u001b[0m \u001b[38;5;28;01mtry\u001b[39;00m:  \u001b[38;5;66;03m# pragma: no cover\u001b[39;00m\n\u001b[0;32m---> 54\u001b[0m     \u001b[38;5;28;01mimport\u001b[39;00m \u001b[38;5;21;01mtensorflow\u001b[39;00m\u001b[38;5;21;01m.\u001b[39;00m\u001b[38;5;21;01mexperimental\u001b[39;00m\u001b[38;5;21;01m.\u001b[39;00m\u001b[38;5;21;01mdlpack\u001b[39;00m\n\u001b[1;32m     55\u001b[0m     \u001b[38;5;28;01mimport\u001b[39;00m \u001b[38;5;21;01mtensorflow\u001b[39;00m\n\u001b[1;32m     57\u001b[0m     has_tensorflow \u001b[38;5;241m=\u001b[39m \u001b[38;5;28;01mTrue\u001b[39;00m\n",
      "File \u001b[0;32m~/miniconda3/envs/ada/lib/python3.9/site-packages/tensorflow/__init__.py:41\u001b[0m\n\u001b[1;32m     38\u001b[0m \u001b[38;5;28;01mimport\u001b[39;00m \u001b[38;5;21;01msix\u001b[39;00m \u001b[38;5;28;01mas\u001b[39;00m \u001b[38;5;21;01m_six\u001b[39;00m\n\u001b[1;32m     39\u001b[0m \u001b[38;5;28;01mimport\u001b[39;00m \u001b[38;5;21;01msys\u001b[39;00m \u001b[38;5;28;01mas\u001b[39;00m \u001b[38;5;21;01m_sys\u001b[39;00m\n\u001b[0;32m---> 41\u001b[0m \u001b[38;5;28;01mfrom\u001b[39;00m \u001b[38;5;21;01mtensorflow\u001b[39;00m\u001b[38;5;21;01m.\u001b[39;00m\u001b[38;5;21;01mpython\u001b[39;00m\u001b[38;5;21;01m.\u001b[39;00m\u001b[38;5;21;01mtools\u001b[39;00m \u001b[38;5;28;01mimport\u001b[39;00m module_util \u001b[38;5;28;01mas\u001b[39;00m _module_util\n\u001b[1;32m     42\u001b[0m \u001b[38;5;28;01mfrom\u001b[39;00m \u001b[38;5;21;01mtensorflow\u001b[39;00m\u001b[38;5;21;01m.\u001b[39;00m\u001b[38;5;21;01mpython\u001b[39;00m\u001b[38;5;21;01m.\u001b[39;00m\u001b[38;5;21;01mutil\u001b[39;00m\u001b[38;5;21;01m.\u001b[39;00m\u001b[38;5;21;01mlazy_loader\u001b[39;00m \u001b[38;5;28;01mimport\u001b[39;00m LazyLoader \u001b[38;5;28;01mas\u001b[39;00m _LazyLoader\n\u001b[1;32m     44\u001b[0m \u001b[38;5;66;03m# Make sure code inside the TensorFlow codebase can use tf2.enabled() at import.\u001b[39;00m\n",
      "File \u001b[0;32m~/miniconda3/envs/ada/lib/python3.9/site-packages/tensorflow/python/__init__.py:46\u001b[0m\n\u001b[1;32m     41\u001b[0m \u001b[38;5;28;01mfrom\u001b[39;00m \u001b[38;5;21;01mtensorflow\u001b[39;00m\u001b[38;5;21;01m.\u001b[39;00m\u001b[38;5;21;01mpython\u001b[39;00m\u001b[38;5;21;01m.\u001b[39;00m\u001b[38;5;21;01meager\u001b[39;00m \u001b[38;5;28;01mimport\u001b[39;00m context\n\u001b[1;32m     43\u001b[0m \u001b[38;5;66;03m# pylint: enable=wildcard-import\u001b[39;00m\n\u001b[1;32m     44\u001b[0m \n\u001b[1;32m     45\u001b[0m \u001b[38;5;66;03m# Bring in subpackages.\u001b[39;00m\n\u001b[0;32m---> 46\u001b[0m \u001b[38;5;28;01mfrom\u001b[39;00m \u001b[38;5;21;01mtensorflow\u001b[39;00m\u001b[38;5;21;01m.\u001b[39;00m\u001b[38;5;21;01mpython\u001b[39;00m \u001b[38;5;28;01mimport\u001b[39;00m data\n\u001b[1;32m     47\u001b[0m \u001b[38;5;28;01mfrom\u001b[39;00m \u001b[38;5;21;01mtensorflow\u001b[39;00m\u001b[38;5;21;01m.\u001b[39;00m\u001b[38;5;21;01mpython\u001b[39;00m \u001b[38;5;28;01mimport\u001b[39;00m distribute\n\u001b[1;32m     48\u001b[0m \u001b[38;5;28;01mfrom\u001b[39;00m \u001b[38;5;21;01mtensorflow\u001b[39;00m\u001b[38;5;21;01m.\u001b[39;00m\u001b[38;5;21;01mpython\u001b[39;00m \u001b[38;5;28;01mimport\u001b[39;00m keras\n",
      "File \u001b[0;32m~/miniconda3/envs/ada/lib/python3.9/site-packages/tensorflow/python/data/__init__.py:25\u001b[0m\n\u001b[1;32m     22\u001b[0m \u001b[38;5;28;01mfrom\u001b[39;00m \u001b[38;5;21;01m__future__\u001b[39;00m \u001b[38;5;28;01mimport\u001b[39;00m print_function\n\u001b[1;32m     24\u001b[0m \u001b[38;5;66;03m# pylint: disable=unused-import\u001b[39;00m\n\u001b[0;32m---> 25\u001b[0m \u001b[38;5;28;01mfrom\u001b[39;00m \u001b[38;5;21;01mtensorflow\u001b[39;00m\u001b[38;5;21;01m.\u001b[39;00m\u001b[38;5;21;01mpython\u001b[39;00m\u001b[38;5;21;01m.\u001b[39;00m\u001b[38;5;21;01mdata\u001b[39;00m \u001b[38;5;28;01mimport\u001b[39;00m experimental\n\u001b[1;32m     26\u001b[0m \u001b[38;5;28;01mfrom\u001b[39;00m \u001b[38;5;21;01mtensorflow\u001b[39;00m\u001b[38;5;21;01m.\u001b[39;00m\u001b[38;5;21;01mpython\u001b[39;00m\u001b[38;5;21;01m.\u001b[39;00m\u001b[38;5;21;01mdata\u001b[39;00m\u001b[38;5;21;01m.\u001b[39;00m\u001b[38;5;21;01mops\u001b[39;00m\u001b[38;5;21;01m.\u001b[39;00m\u001b[38;5;21;01mdataset_ops\u001b[39;00m \u001b[38;5;28;01mimport\u001b[39;00m AUTOTUNE\n\u001b[1;32m     27\u001b[0m \u001b[38;5;28;01mfrom\u001b[39;00m \u001b[38;5;21;01mtensorflow\u001b[39;00m\u001b[38;5;21;01m.\u001b[39;00m\u001b[38;5;21;01mpython\u001b[39;00m\u001b[38;5;21;01m.\u001b[39;00m\u001b[38;5;21;01mdata\u001b[39;00m\u001b[38;5;21;01m.\u001b[39;00m\u001b[38;5;21;01mops\u001b[39;00m\u001b[38;5;21;01m.\u001b[39;00m\u001b[38;5;21;01mdataset_ops\u001b[39;00m \u001b[38;5;28;01mimport\u001b[39;00m Dataset\n",
      "File \u001b[0;32m~/miniconda3/envs/ada/lib/python3.9/site-packages/tensorflow/python/data/experimental/__init__.py:96\u001b[0m\n\u001b[1;32m     93\u001b[0m \u001b[38;5;28;01mfrom\u001b[39;00m \u001b[38;5;21;01m__future__\u001b[39;00m \u001b[38;5;28;01mimport\u001b[39;00m print_function\n\u001b[1;32m     95\u001b[0m \u001b[38;5;66;03m# pylint: disable=unused-import\u001b[39;00m\n\u001b[0;32m---> 96\u001b[0m \u001b[38;5;28;01mfrom\u001b[39;00m \u001b[38;5;21;01mtensorflow\u001b[39;00m\u001b[38;5;21;01m.\u001b[39;00m\u001b[38;5;21;01mpython\u001b[39;00m\u001b[38;5;21;01m.\u001b[39;00m\u001b[38;5;21;01mdata\u001b[39;00m\u001b[38;5;21;01m.\u001b[39;00m\u001b[38;5;21;01mexperimental\u001b[39;00m \u001b[38;5;28;01mimport\u001b[39;00m service\n\u001b[1;32m     97\u001b[0m \u001b[38;5;28;01mfrom\u001b[39;00m \u001b[38;5;21;01mtensorflow\u001b[39;00m\u001b[38;5;21;01m.\u001b[39;00m\u001b[38;5;21;01mpython\u001b[39;00m\u001b[38;5;21;01m.\u001b[39;00m\u001b[38;5;21;01mdata\u001b[39;00m\u001b[38;5;21;01m.\u001b[39;00m\u001b[38;5;21;01mexperimental\u001b[39;00m\u001b[38;5;21;01m.\u001b[39;00m\u001b[38;5;21;01mops\u001b[39;00m\u001b[38;5;21;01m.\u001b[39;00m\u001b[38;5;21;01mbatching\u001b[39;00m \u001b[38;5;28;01mimport\u001b[39;00m dense_to_ragged_batch\n\u001b[1;32m     98\u001b[0m \u001b[38;5;28;01mfrom\u001b[39;00m \u001b[38;5;21;01mtensorflow\u001b[39;00m\u001b[38;5;21;01m.\u001b[39;00m\u001b[38;5;21;01mpython\u001b[39;00m\u001b[38;5;21;01m.\u001b[39;00m\u001b[38;5;21;01mdata\u001b[39;00m\u001b[38;5;21;01m.\u001b[39;00m\u001b[38;5;21;01mexperimental\u001b[39;00m\u001b[38;5;21;01m.\u001b[39;00m\u001b[38;5;21;01mops\u001b[39;00m\u001b[38;5;21;01m.\u001b[39;00m\u001b[38;5;21;01mbatching\u001b[39;00m \u001b[38;5;28;01mimport\u001b[39;00m dense_to_sparse_batch\n",
      "File \u001b[0;32m~/miniconda3/envs/ada/lib/python3.9/site-packages/tensorflow/python/data/experimental/service/__init__.py:140\u001b[0m\n\u001b[1;32m    137\u001b[0m \u001b[38;5;28;01mfrom\u001b[39;00m \u001b[38;5;21;01m__future__\u001b[39;00m \u001b[38;5;28;01mimport\u001b[39;00m division\n\u001b[1;32m    138\u001b[0m \u001b[38;5;28;01mfrom\u001b[39;00m \u001b[38;5;21;01m__future__\u001b[39;00m \u001b[38;5;28;01mimport\u001b[39;00m print_function\n\u001b[0;32m--> 140\u001b[0m \u001b[38;5;28;01mfrom\u001b[39;00m \u001b[38;5;21;01mtensorflow\u001b[39;00m\u001b[38;5;21;01m.\u001b[39;00m\u001b[38;5;21;01mpython\u001b[39;00m\u001b[38;5;21;01m.\u001b[39;00m\u001b[38;5;21;01mdata\u001b[39;00m\u001b[38;5;21;01m.\u001b[39;00m\u001b[38;5;21;01mexperimental\u001b[39;00m\u001b[38;5;21;01m.\u001b[39;00m\u001b[38;5;21;01mops\u001b[39;00m\u001b[38;5;21;01m.\u001b[39;00m\u001b[38;5;21;01mdata_service_ops\u001b[39;00m \u001b[38;5;28;01mimport\u001b[39;00m distribute\n\u001b[1;32m    141\u001b[0m \u001b[38;5;28;01mfrom\u001b[39;00m \u001b[38;5;21;01mtensorflow\u001b[39;00m\u001b[38;5;21;01m.\u001b[39;00m\u001b[38;5;21;01mpython\u001b[39;00m\u001b[38;5;21;01m.\u001b[39;00m\u001b[38;5;21;01mdata\u001b[39;00m\u001b[38;5;21;01m.\u001b[39;00m\u001b[38;5;21;01mexperimental\u001b[39;00m\u001b[38;5;21;01m.\u001b[39;00m\u001b[38;5;21;01mops\u001b[39;00m\u001b[38;5;21;01m.\u001b[39;00m\u001b[38;5;21;01mdata_service_ops\u001b[39;00m \u001b[38;5;28;01mimport\u001b[39;00m from_dataset_id\n\u001b[1;32m    142\u001b[0m \u001b[38;5;28;01mfrom\u001b[39;00m \u001b[38;5;21;01mtensorflow\u001b[39;00m\u001b[38;5;21;01m.\u001b[39;00m\u001b[38;5;21;01mpython\u001b[39;00m\u001b[38;5;21;01m.\u001b[39;00m\u001b[38;5;21;01mdata\u001b[39;00m\u001b[38;5;21;01m.\u001b[39;00m\u001b[38;5;21;01mexperimental\u001b[39;00m\u001b[38;5;21;01m.\u001b[39;00m\u001b[38;5;21;01mops\u001b[39;00m\u001b[38;5;21;01m.\u001b[39;00m\u001b[38;5;21;01mdata_service_ops\u001b[39;00m \u001b[38;5;28;01mimport\u001b[39;00m register_dataset\n",
      "File \u001b[0;32m~/miniconda3/envs/ada/lib/python3.9/site-packages/tensorflow/python/data/experimental/ops/data_service_ops.py:25\u001b[0m\n\u001b[1;32m     22\u001b[0m \u001b[38;5;28;01mimport\u001b[39;00m \u001b[38;5;21;01msix\u001b[39;00m\n\u001b[1;32m     24\u001b[0m \u001b[38;5;28;01mfrom\u001b[39;00m \u001b[38;5;21;01mtensorflow\u001b[39;00m\u001b[38;5;21;01m.\u001b[39;00m\u001b[38;5;21;01mpython\u001b[39;00m \u001b[38;5;28;01mimport\u001b[39;00m tf2\n\u001b[0;32m---> 25\u001b[0m \u001b[38;5;28;01mfrom\u001b[39;00m \u001b[38;5;21;01mtensorflow\u001b[39;00m\u001b[38;5;21;01m.\u001b[39;00m\u001b[38;5;21;01mpython\u001b[39;00m\u001b[38;5;21;01m.\u001b[39;00m\u001b[38;5;21;01mdata\u001b[39;00m\u001b[38;5;21;01m.\u001b[39;00m\u001b[38;5;21;01mexperimental\u001b[39;00m\u001b[38;5;21;01m.\u001b[39;00m\u001b[38;5;21;01mops\u001b[39;00m \u001b[38;5;28;01mimport\u001b[39;00m compression_ops\n\u001b[1;32m     26\u001b[0m \u001b[38;5;28;01mfrom\u001b[39;00m \u001b[38;5;21;01mtensorflow\u001b[39;00m\u001b[38;5;21;01m.\u001b[39;00m\u001b[38;5;21;01mpython\u001b[39;00m\u001b[38;5;21;01m.\u001b[39;00m\u001b[38;5;21;01mdata\u001b[39;00m\u001b[38;5;21;01m.\u001b[39;00m\u001b[38;5;21;01mexperimental\u001b[39;00m\u001b[38;5;21;01m.\u001b[39;00m\u001b[38;5;21;01mops\u001b[39;00m\u001b[38;5;21;01m.\u001b[39;00m\u001b[38;5;21;01mdistribute_options\u001b[39;00m \u001b[38;5;28;01mimport\u001b[39;00m AutoShardPolicy\n\u001b[1;32m     27\u001b[0m \u001b[38;5;28;01mfrom\u001b[39;00m \u001b[38;5;21;01mtensorflow\u001b[39;00m\u001b[38;5;21;01m.\u001b[39;00m\u001b[38;5;21;01mpython\u001b[39;00m\u001b[38;5;21;01m.\u001b[39;00m\u001b[38;5;21;01mdata\u001b[39;00m\u001b[38;5;21;01m.\u001b[39;00m\u001b[38;5;21;01mexperimental\u001b[39;00m\u001b[38;5;21;01m.\u001b[39;00m\u001b[38;5;21;01mops\u001b[39;00m\u001b[38;5;21;01m.\u001b[39;00m\u001b[38;5;21;01mdistribute_options\u001b[39;00m \u001b[38;5;28;01mimport\u001b[39;00m ExternalStatePolicy\n",
      "File \u001b[0;32m~/miniconda3/envs/ada/lib/python3.9/site-packages/tensorflow/python/data/experimental/ops/compression_ops.py:20\u001b[0m\n\u001b[1;32m     17\u001b[0m \u001b[38;5;28;01mfrom\u001b[39;00m \u001b[38;5;21;01m__future__\u001b[39;00m \u001b[38;5;28;01mimport\u001b[39;00m division\n\u001b[1;32m     18\u001b[0m \u001b[38;5;28;01mfrom\u001b[39;00m \u001b[38;5;21;01m__future__\u001b[39;00m \u001b[38;5;28;01mimport\u001b[39;00m print_function\n\u001b[0;32m---> 20\u001b[0m \u001b[38;5;28;01mfrom\u001b[39;00m \u001b[38;5;21;01mtensorflow\u001b[39;00m\u001b[38;5;21;01m.\u001b[39;00m\u001b[38;5;21;01mpython\u001b[39;00m\u001b[38;5;21;01m.\u001b[39;00m\u001b[38;5;21;01mdata\u001b[39;00m\u001b[38;5;21;01m.\u001b[39;00m\u001b[38;5;21;01mutil\u001b[39;00m \u001b[38;5;28;01mimport\u001b[39;00m structure\n\u001b[1;32m     21\u001b[0m \u001b[38;5;28;01mfrom\u001b[39;00m \u001b[38;5;21;01mtensorflow\u001b[39;00m\u001b[38;5;21;01m.\u001b[39;00m\u001b[38;5;21;01mpython\u001b[39;00m\u001b[38;5;21;01m.\u001b[39;00m\u001b[38;5;21;01mops\u001b[39;00m \u001b[38;5;28;01mimport\u001b[39;00m gen_experimental_dataset_ops \u001b[38;5;28;01mas\u001b[39;00m ged_ops\n\u001b[1;32m     24\u001b[0m \u001b[38;5;28;01mdef\u001b[39;00m \u001b[38;5;21mcompress\u001b[39m(element):\n",
      "File \u001b[0;32m~/miniconda3/envs/ada/lib/python3.9/site-packages/tensorflow/python/data/util/structure.py:26\u001b[0m\n\u001b[1;32m     23\u001b[0m \u001b[38;5;28;01mimport\u001b[39;00m \u001b[38;5;21;01msix\u001b[39;00m\n\u001b[1;32m     24\u001b[0m \u001b[38;5;28;01mimport\u001b[39;00m \u001b[38;5;21;01mwrapt\u001b[39;00m\n\u001b[0;32m---> 26\u001b[0m \u001b[38;5;28;01mfrom\u001b[39;00m \u001b[38;5;21;01mtensorflow\u001b[39;00m\u001b[38;5;21;01m.\u001b[39;00m\u001b[38;5;21;01mpython\u001b[39;00m\u001b[38;5;21;01m.\u001b[39;00m\u001b[38;5;21;01mdata\u001b[39;00m\u001b[38;5;21;01m.\u001b[39;00m\u001b[38;5;21;01mutil\u001b[39;00m \u001b[38;5;28;01mimport\u001b[39;00m nest\n\u001b[1;32m     27\u001b[0m \u001b[38;5;28;01mfrom\u001b[39;00m \u001b[38;5;21;01mtensorflow\u001b[39;00m\u001b[38;5;21;01m.\u001b[39;00m\u001b[38;5;21;01mpython\u001b[39;00m\u001b[38;5;21;01m.\u001b[39;00m\u001b[38;5;21;01mframework\u001b[39;00m \u001b[38;5;28;01mimport\u001b[39;00m composite_tensor\n\u001b[1;32m     28\u001b[0m \u001b[38;5;28;01mfrom\u001b[39;00m \u001b[38;5;21;01mtensorflow\u001b[39;00m\u001b[38;5;21;01m.\u001b[39;00m\u001b[38;5;21;01mpython\u001b[39;00m\u001b[38;5;21;01m.\u001b[39;00m\u001b[38;5;21;01mframework\u001b[39;00m \u001b[38;5;28;01mimport\u001b[39;00m ops\n",
      "File \u001b[0;32m~/miniconda3/envs/ada/lib/python3.9/site-packages/tensorflow/python/data/util/nest.py:41\u001b[0m\n\u001b[1;32m     38\u001b[0m \u001b[38;5;28;01mimport\u001b[39;00m \u001b[38;5;21;01msix\u001b[39;00m \u001b[38;5;28;01mas\u001b[39;00m \u001b[38;5;21;01m_six\u001b[39;00m\n\u001b[1;32m     40\u001b[0m \u001b[38;5;28;01mfrom\u001b[39;00m \u001b[38;5;21;01mtensorflow\u001b[39;00m\u001b[38;5;21;01m.\u001b[39;00m\u001b[38;5;21;01mpython\u001b[39;00m \u001b[38;5;28;01mimport\u001b[39;00m _pywrap_utils\n\u001b[0;32m---> 41\u001b[0m \u001b[38;5;28;01mfrom\u001b[39;00m \u001b[38;5;21;01mtensorflow\u001b[39;00m\u001b[38;5;21;01m.\u001b[39;00m\u001b[38;5;21;01mpython\u001b[39;00m\u001b[38;5;21;01m.\u001b[39;00m\u001b[38;5;21;01mframework\u001b[39;00m \u001b[38;5;28;01mimport\u001b[39;00m sparse_tensor \u001b[38;5;28;01mas\u001b[39;00m _sparse_tensor\n\u001b[1;32m     42\u001b[0m \u001b[38;5;28;01mfrom\u001b[39;00m \u001b[38;5;21;01mtensorflow\u001b[39;00m\u001b[38;5;21;01m.\u001b[39;00m\u001b[38;5;21;01mpython\u001b[39;00m\u001b[38;5;21;01m.\u001b[39;00m\u001b[38;5;21;01mutil\u001b[39;00m\u001b[38;5;21;01m.\u001b[39;00m\u001b[38;5;21;01mcompat\u001b[39;00m \u001b[38;5;28;01mimport\u001b[39;00m collections_abc \u001b[38;5;28;01mas\u001b[39;00m _collections_abc\n\u001b[1;32m     45\u001b[0m \u001b[38;5;28;01mdef\u001b[39;00m \u001b[38;5;21m_sorted\u001b[39m(dict_):\n",
      "File \u001b[0;32m~/miniconda3/envs/ada/lib/python3.9/site-packages/tensorflow/python/framework/sparse_tensor.py:29\u001b[0m\n\u001b[1;32m     27\u001b[0m \u001b[38;5;28;01mfrom\u001b[39;00m \u001b[38;5;21;01mtensorflow\u001b[39;00m\u001b[38;5;21;01m.\u001b[39;00m\u001b[38;5;21;01mpython\u001b[39;00m \u001b[38;5;28;01mimport\u001b[39;00m tf2\n\u001b[1;32m     28\u001b[0m \u001b[38;5;28;01mfrom\u001b[39;00m \u001b[38;5;21;01mtensorflow\u001b[39;00m\u001b[38;5;21;01m.\u001b[39;00m\u001b[38;5;21;01mpython\u001b[39;00m\u001b[38;5;21;01m.\u001b[39;00m\u001b[38;5;21;01mframework\u001b[39;00m \u001b[38;5;28;01mimport\u001b[39;00m composite_tensor\n\u001b[0;32m---> 29\u001b[0m \u001b[38;5;28;01mfrom\u001b[39;00m \u001b[38;5;21;01mtensorflow\u001b[39;00m\u001b[38;5;21;01m.\u001b[39;00m\u001b[38;5;21;01mpython\u001b[39;00m\u001b[38;5;21;01m.\u001b[39;00m\u001b[38;5;21;01mframework\u001b[39;00m \u001b[38;5;28;01mimport\u001b[39;00m constant_op\n\u001b[1;32m     30\u001b[0m \u001b[38;5;28;01mfrom\u001b[39;00m \u001b[38;5;21;01mtensorflow\u001b[39;00m\u001b[38;5;21;01m.\u001b[39;00m\u001b[38;5;21;01mpython\u001b[39;00m\u001b[38;5;21;01m.\u001b[39;00m\u001b[38;5;21;01mframework\u001b[39;00m \u001b[38;5;28;01mimport\u001b[39;00m dtypes\n\u001b[1;32m     31\u001b[0m \u001b[38;5;28;01mfrom\u001b[39;00m \u001b[38;5;21;01mtensorflow\u001b[39;00m\u001b[38;5;21;01m.\u001b[39;00m\u001b[38;5;21;01mpython\u001b[39;00m\u001b[38;5;21;01m.\u001b[39;00m\u001b[38;5;21;01mframework\u001b[39;00m \u001b[38;5;28;01mimport\u001b[39;00m ops\n",
      "File \u001b[0;32m~/miniconda3/envs/ada/lib/python3.9/site-packages/tensorflow/python/framework/constant_op.py:29\u001b[0m\n\u001b[1;32m     27\u001b[0m \u001b[38;5;28;01mfrom\u001b[39;00m \u001b[38;5;21;01mtensorflow\u001b[39;00m\u001b[38;5;21;01m.\u001b[39;00m\u001b[38;5;21;01mcore\u001b[39;00m\u001b[38;5;21;01m.\u001b[39;00m\u001b[38;5;21;01mframework\u001b[39;00m \u001b[38;5;28;01mimport\u001b[39;00m types_pb2\n\u001b[1;32m     28\u001b[0m \u001b[38;5;28;01mfrom\u001b[39;00m \u001b[38;5;21;01mtensorflow\u001b[39;00m\u001b[38;5;21;01m.\u001b[39;00m\u001b[38;5;21;01mpython\u001b[39;00m\u001b[38;5;21;01m.\u001b[39;00m\u001b[38;5;21;01meager\u001b[39;00m \u001b[38;5;28;01mimport\u001b[39;00m context\n\u001b[0;32m---> 29\u001b[0m \u001b[38;5;28;01mfrom\u001b[39;00m \u001b[38;5;21;01mtensorflow\u001b[39;00m\u001b[38;5;21;01m.\u001b[39;00m\u001b[38;5;21;01mpython\u001b[39;00m\u001b[38;5;21;01m.\u001b[39;00m\u001b[38;5;21;01meager\u001b[39;00m \u001b[38;5;28;01mimport\u001b[39;00m execute\n\u001b[1;32m     30\u001b[0m \u001b[38;5;28;01mfrom\u001b[39;00m \u001b[38;5;21;01mtensorflow\u001b[39;00m\u001b[38;5;21;01m.\u001b[39;00m\u001b[38;5;21;01mpython\u001b[39;00m\u001b[38;5;21;01m.\u001b[39;00m\u001b[38;5;21;01mframework\u001b[39;00m \u001b[38;5;28;01mimport\u001b[39;00m dtypes\n\u001b[1;32m     31\u001b[0m \u001b[38;5;28;01mfrom\u001b[39;00m \u001b[38;5;21;01mtensorflow\u001b[39;00m\u001b[38;5;21;01m.\u001b[39;00m\u001b[38;5;21;01mpython\u001b[39;00m\u001b[38;5;21;01m.\u001b[39;00m\u001b[38;5;21;01mframework\u001b[39;00m \u001b[38;5;28;01mimport\u001b[39;00m op_callbacks\n",
      "File \u001b[0;32m~/miniconda3/envs/ada/lib/python3.9/site-packages/tensorflow/python/eager/execute.py:27\u001b[0m\n\u001b[1;32m     25\u001b[0m \u001b[38;5;28;01mfrom\u001b[39;00m \u001b[38;5;21;01mtensorflow\u001b[39;00m\u001b[38;5;21;01m.\u001b[39;00m\u001b[38;5;21;01mpython\u001b[39;00m \u001b[38;5;28;01mimport\u001b[39;00m pywrap_tfe\n\u001b[1;32m     26\u001b[0m \u001b[38;5;28;01mfrom\u001b[39;00m \u001b[38;5;21;01mtensorflow\u001b[39;00m\u001b[38;5;21;01m.\u001b[39;00m\u001b[38;5;21;01mpython\u001b[39;00m\u001b[38;5;21;01m.\u001b[39;00m\u001b[38;5;21;01meager\u001b[39;00m \u001b[38;5;28;01mimport\u001b[39;00m core\n\u001b[0;32m---> 27\u001b[0m \u001b[38;5;28;01mfrom\u001b[39;00m \u001b[38;5;21;01mtensorflow\u001b[39;00m\u001b[38;5;21;01m.\u001b[39;00m\u001b[38;5;21;01mpython\u001b[39;00m\u001b[38;5;21;01m.\u001b[39;00m\u001b[38;5;21;01mframework\u001b[39;00m \u001b[38;5;28;01mimport\u001b[39;00m dtypes\n\u001b[1;32m     28\u001b[0m \u001b[38;5;28;01mfrom\u001b[39;00m \u001b[38;5;21;01mtensorflow\u001b[39;00m\u001b[38;5;21;01m.\u001b[39;00m\u001b[38;5;21;01mpython\u001b[39;00m\u001b[38;5;21;01m.\u001b[39;00m\u001b[38;5;21;01mframework\u001b[39;00m \u001b[38;5;28;01mimport\u001b[39;00m ops\n\u001b[1;32m     29\u001b[0m \u001b[38;5;28;01mfrom\u001b[39;00m \u001b[38;5;21;01mtensorflow\u001b[39;00m\u001b[38;5;21;01m.\u001b[39;00m\u001b[38;5;21;01mpython\u001b[39;00m\u001b[38;5;21;01m.\u001b[39;00m\u001b[38;5;21;01mframework\u001b[39;00m \u001b[38;5;28;01mimport\u001b[39;00m tensor_shape\n",
      "File \u001b[0;32m~/miniconda3/envs/ada/lib/python3.9/site-packages/tensorflow/python/framework/dtypes.py:513\u001b[0m\n\u001b[1;32m    482\u001b[0m     _NP_TO_TF[pdt] \u001b[38;5;241m=\u001b[39m \u001b[38;5;28mnext\u001b[39m(\n\u001b[1;32m    483\u001b[0m         _NP_TO_TF[dt] \u001b[38;5;28;01mfor\u001b[39;00m dt \u001b[38;5;129;01min\u001b[39;00m _NP_TO_TF \u001b[38;5;28;01mif\u001b[39;00m dt \u001b[38;5;241m==\u001b[39m pdt()\u001b[38;5;241m.\u001b[39mdtype)\n\u001b[1;32m    486\u001b[0m TF_VALUE_DTYPES \u001b[38;5;241m=\u001b[39m \u001b[38;5;28mset\u001b[39m(_NP_TO_TF\u001b[38;5;241m.\u001b[39mvalues())\n\u001b[1;32m    489\u001b[0m _TF_TO_NP \u001b[38;5;241m=\u001b[39m {\n\u001b[1;32m    490\u001b[0m     types_pb2\u001b[38;5;241m.\u001b[39mDT_HALF:\n\u001b[1;32m    491\u001b[0m         np\u001b[38;5;241m.\u001b[39mfloat16,\n\u001b[1;32m    492\u001b[0m     types_pb2\u001b[38;5;241m.\u001b[39mDT_FLOAT:\n\u001b[1;32m    493\u001b[0m         np\u001b[38;5;241m.\u001b[39mfloat32,\n\u001b[1;32m    494\u001b[0m     types_pb2\u001b[38;5;241m.\u001b[39mDT_DOUBLE:\n\u001b[1;32m    495\u001b[0m         np\u001b[38;5;241m.\u001b[39mfloat64,\n\u001b[1;32m    496\u001b[0m     types_pb2\u001b[38;5;241m.\u001b[39mDT_INT32:\n\u001b[1;32m    497\u001b[0m         np\u001b[38;5;241m.\u001b[39mint32,\n\u001b[1;32m    498\u001b[0m     types_pb2\u001b[38;5;241m.\u001b[39mDT_UINT8:\n\u001b[1;32m    499\u001b[0m         np\u001b[38;5;241m.\u001b[39muint8,\n\u001b[1;32m    500\u001b[0m     types_pb2\u001b[38;5;241m.\u001b[39mDT_UINT16:\n\u001b[1;32m    501\u001b[0m         np\u001b[38;5;241m.\u001b[39muint16,\n\u001b[1;32m    502\u001b[0m     types_pb2\u001b[38;5;241m.\u001b[39mDT_UINT32:\n\u001b[1;32m    503\u001b[0m         np\u001b[38;5;241m.\u001b[39muint32,\n\u001b[1;32m    504\u001b[0m     types_pb2\u001b[38;5;241m.\u001b[39mDT_UINT64:\n\u001b[1;32m    505\u001b[0m         np\u001b[38;5;241m.\u001b[39muint64,\n\u001b[1;32m    506\u001b[0m     types_pb2\u001b[38;5;241m.\u001b[39mDT_INT16:\n\u001b[1;32m    507\u001b[0m         np\u001b[38;5;241m.\u001b[39mint16,\n\u001b[1;32m    508\u001b[0m     types_pb2\u001b[38;5;241m.\u001b[39mDT_INT8:\n\u001b[1;32m    509\u001b[0m         np\u001b[38;5;241m.\u001b[39mint8,\n\u001b[1;32m    510\u001b[0m     \u001b[38;5;66;03m# NOTE(touts): For strings we use np.object as it supports variable length\u001b[39;00m\n\u001b[1;32m    511\u001b[0m     \u001b[38;5;66;03m# strings.\u001b[39;00m\n\u001b[1;32m    512\u001b[0m     types_pb2\u001b[38;5;241m.\u001b[39mDT_STRING:\n\u001b[0;32m--> 513\u001b[0m         \u001b[43mnp\u001b[49m\u001b[38;5;241;43m.\u001b[39;49m\u001b[43mobject\u001b[49m,\n\u001b[1;32m    514\u001b[0m     types_pb2\u001b[38;5;241m.\u001b[39mDT_COMPLEX64:\n\u001b[1;32m    515\u001b[0m         np\u001b[38;5;241m.\u001b[39mcomplex64,\n\u001b[1;32m    516\u001b[0m     types_pb2\u001b[38;5;241m.\u001b[39mDT_COMPLEX128:\n\u001b[1;32m    517\u001b[0m         np\u001b[38;5;241m.\u001b[39mcomplex128,\n\u001b[1;32m    518\u001b[0m     types_pb2\u001b[38;5;241m.\u001b[39mDT_INT64:\n\u001b[1;32m    519\u001b[0m         np\u001b[38;5;241m.\u001b[39mint64,\n\u001b[1;32m    520\u001b[0m     types_pb2\u001b[38;5;241m.\u001b[39mDT_BOOL:\n\u001b[1;32m    521\u001b[0m         np\u001b[38;5;241m.\u001b[39mbool,\n\u001b[1;32m    522\u001b[0m     types_pb2\u001b[38;5;241m.\u001b[39mDT_QINT8:\n\u001b[1;32m    523\u001b[0m         _np_qint8,\n\u001b[1;32m    524\u001b[0m     types_pb2\u001b[38;5;241m.\u001b[39mDT_QUINT8:\n\u001b[1;32m    525\u001b[0m         _np_quint8,\n\u001b[1;32m    526\u001b[0m     types_pb2\u001b[38;5;241m.\u001b[39mDT_QINT16:\n\u001b[1;32m    527\u001b[0m         _np_qint16,\n\u001b[1;32m    528\u001b[0m     types_pb2\u001b[38;5;241m.\u001b[39mDT_QUINT16:\n\u001b[1;32m    529\u001b[0m         _np_quint16,\n\u001b[1;32m    530\u001b[0m     types_pb2\u001b[38;5;241m.\u001b[39mDT_QINT32:\n\u001b[1;32m    531\u001b[0m         _np_qint32,\n\u001b[1;32m    532\u001b[0m     types_pb2\u001b[38;5;241m.\u001b[39mDT_BFLOAT16:\n\u001b[1;32m    533\u001b[0m         _np_bfloat16,\n\u001b[1;32m    534\u001b[0m \n\u001b[1;32m    535\u001b[0m     \u001b[38;5;66;03m# Ref types\u001b[39;00m\n\u001b[1;32m    536\u001b[0m     types_pb2\u001b[38;5;241m.\u001b[39mDT_HALF_REF:\n\u001b[1;32m    537\u001b[0m         np\u001b[38;5;241m.\u001b[39mfloat16,\n\u001b[1;32m    538\u001b[0m     types_pb2\u001b[38;5;241m.\u001b[39mDT_FLOAT_REF:\n\u001b[1;32m    539\u001b[0m         np\u001b[38;5;241m.\u001b[39mfloat32,\n\u001b[1;32m    540\u001b[0m     types_pb2\u001b[38;5;241m.\u001b[39mDT_DOUBLE_REF:\n\u001b[1;32m    541\u001b[0m         np\u001b[38;5;241m.\u001b[39mfloat64,\n\u001b[1;32m    542\u001b[0m     types_pb2\u001b[38;5;241m.\u001b[39mDT_INT32_REF:\n\u001b[1;32m    543\u001b[0m         np\u001b[38;5;241m.\u001b[39mint32,\n\u001b[1;32m    544\u001b[0m     types_pb2\u001b[38;5;241m.\u001b[39mDT_UINT32_REF:\n\u001b[1;32m    545\u001b[0m         np\u001b[38;5;241m.\u001b[39muint32,\n\u001b[1;32m    546\u001b[0m     types_pb2\u001b[38;5;241m.\u001b[39mDT_UINT8_REF:\n\u001b[1;32m    547\u001b[0m         np\u001b[38;5;241m.\u001b[39muint8,\n\u001b[1;32m    548\u001b[0m     types_pb2\u001b[38;5;241m.\u001b[39mDT_UINT16_REF:\n\u001b[1;32m    549\u001b[0m         np\u001b[38;5;241m.\u001b[39muint16,\n\u001b[1;32m    550\u001b[0m     types_pb2\u001b[38;5;241m.\u001b[39mDT_INT16_REF:\n\u001b[1;32m    551\u001b[0m         np\u001b[38;5;241m.\u001b[39mint16,\n\u001b[1;32m    552\u001b[0m     types_pb2\u001b[38;5;241m.\u001b[39mDT_INT8_REF:\n\u001b[1;32m    553\u001b[0m         np\u001b[38;5;241m.\u001b[39mint8,\n\u001b[1;32m    554\u001b[0m     types_pb2\u001b[38;5;241m.\u001b[39mDT_STRING_REF:\n\u001b[1;32m    555\u001b[0m         np\u001b[38;5;241m.\u001b[39mobject,\n\u001b[1;32m    556\u001b[0m     types_pb2\u001b[38;5;241m.\u001b[39mDT_COMPLEX64_REF:\n\u001b[1;32m    557\u001b[0m         np\u001b[38;5;241m.\u001b[39mcomplex64,\n\u001b[1;32m    558\u001b[0m     types_pb2\u001b[38;5;241m.\u001b[39mDT_COMPLEX128_REF:\n\u001b[1;32m    559\u001b[0m         np\u001b[38;5;241m.\u001b[39mcomplex128,\n\u001b[1;32m    560\u001b[0m     types_pb2\u001b[38;5;241m.\u001b[39mDT_INT64_REF:\n\u001b[1;32m    561\u001b[0m         np\u001b[38;5;241m.\u001b[39mint64,\n\u001b[1;32m    562\u001b[0m     types_pb2\u001b[38;5;241m.\u001b[39mDT_UINT64_REF:\n\u001b[1;32m    563\u001b[0m         np\u001b[38;5;241m.\u001b[39muint64,\n\u001b[1;32m    564\u001b[0m     types_pb2\u001b[38;5;241m.\u001b[39mDT_BOOL_REF:\n\u001b[1;32m    565\u001b[0m         np\u001b[38;5;241m.\u001b[39mbool,\n\u001b[1;32m    566\u001b[0m     types_pb2\u001b[38;5;241m.\u001b[39mDT_QINT8_REF:\n\u001b[1;32m    567\u001b[0m         _np_qint8,\n\u001b[1;32m    568\u001b[0m     types_pb2\u001b[38;5;241m.\u001b[39mDT_QUINT8_REF:\n\u001b[1;32m    569\u001b[0m         _np_quint8,\n\u001b[1;32m    570\u001b[0m     types_pb2\u001b[38;5;241m.\u001b[39mDT_QINT16_REF:\n\u001b[1;32m    571\u001b[0m         _np_qint16,\n\u001b[1;32m    572\u001b[0m     types_pb2\u001b[38;5;241m.\u001b[39mDT_QUINT16_REF:\n\u001b[1;32m    573\u001b[0m         _np_quint16,\n\u001b[1;32m    574\u001b[0m     types_pb2\u001b[38;5;241m.\u001b[39mDT_QINT32_REF:\n\u001b[1;32m    575\u001b[0m         _np_qint32,\n\u001b[1;32m    576\u001b[0m     types_pb2\u001b[38;5;241m.\u001b[39mDT_BFLOAT16_REF:\n\u001b[1;32m    577\u001b[0m         _np_bfloat16,\n\u001b[1;32m    578\u001b[0m }\n\u001b[1;32m    580\u001b[0m _QUANTIZED_DTYPES_NO_REF \u001b[38;5;241m=\u001b[39m \u001b[38;5;28mfrozenset\u001b[39m([qint8, quint8, qint16, quint16, qint32])\n\u001b[1;32m    581\u001b[0m _QUANTIZED_DTYPES_REF \u001b[38;5;241m=\u001b[39m \u001b[38;5;28mfrozenset\u001b[39m(\n\u001b[1;32m    582\u001b[0m     [qint8_ref, quint8_ref, qint16_ref, quint16_ref, qint32_ref])\n",
      "File \u001b[0;32m~/miniconda3/envs/ada/lib/python3.9/site-packages/numpy/__init__.py:324\u001b[0m, in \u001b[0;36m__getattr__\u001b[0;34m(attr)\u001b[0m\n\u001b[1;32m    319\u001b[0m     warnings\u001b[38;5;241m.\u001b[39mwarn(\n\u001b[1;32m    320\u001b[0m         \u001b[38;5;124mf\u001b[39m\u001b[38;5;124m\"\u001b[39m\u001b[38;5;124mIn the future `np.\u001b[39m\u001b[38;5;132;01m{\u001b[39;00mattr\u001b[38;5;132;01m}\u001b[39;00m\u001b[38;5;124m` will be defined as the \u001b[39m\u001b[38;5;124m\"\u001b[39m\n\u001b[1;32m    321\u001b[0m         \u001b[38;5;124m\"\u001b[39m\u001b[38;5;124mcorresponding NumPy scalar.\u001b[39m\u001b[38;5;124m\"\u001b[39m, \u001b[38;5;167;01mFutureWarning\u001b[39;00m, stacklevel\u001b[38;5;241m=\u001b[39m\u001b[38;5;241m2\u001b[39m)\n\u001b[1;32m    323\u001b[0m \u001b[38;5;28;01mif\u001b[39;00m attr \u001b[38;5;129;01min\u001b[39;00m __former_attrs__:\n\u001b[0;32m--> 324\u001b[0m     \u001b[38;5;28;01mraise\u001b[39;00m \u001b[38;5;167;01mAttributeError\u001b[39;00m(__former_attrs__[attr])\n\u001b[1;32m    326\u001b[0m \u001b[38;5;28;01mif\u001b[39;00m attr \u001b[38;5;241m==\u001b[39m \u001b[38;5;124m'\u001b[39m\u001b[38;5;124mtesting\u001b[39m\u001b[38;5;124m'\u001b[39m:\n\u001b[1;32m    327\u001b[0m     \u001b[38;5;28;01mimport\u001b[39;00m \u001b[38;5;21;01mnumpy\u001b[39;00m\u001b[38;5;21;01m.\u001b[39;00m\u001b[38;5;21;01mtesting\u001b[39;00m \u001b[38;5;28;01mas\u001b[39;00m \u001b[38;5;21;01mtesting\u001b[39;00m\n",
      "\u001b[0;31mAttributeError\u001b[0m: module 'numpy' has no attribute 'object'.\n`np.object` was a deprecated alias for the builtin `object`. To avoid this error in existing code, use `object` by itself. Doing this will not modify any behavior and is safe. \nThe aliases was originally deprecated in NumPy 1.20; for more details and guidance see the original release note at:\n    https://numpy.org/devdocs/release/1.20.0-notes.html#deprecations"
     ]
    }
   ],
   "source": [
    "import importlib\n",
    "import pandas as pd\n",
    "import modules.data_processing\n",
    "import seaborn as sns\n",
    "import matplotlib.pyplot as plt\n",
    "from textblob import TextBlob\n",
    "import spacy\n",
    "import string\n",
    "import nltk\n",
    "from collections import Counter\n",
    "from sklearn.feature_extraction.text import CountVectorizer\n",
    "from sklearn.decomposition import LatentDirichletAllocation\n",
    "from sklearn.feature_extraction.text import TfidfVectorizer"
   ]
  },
  {
   "cell_type": "code",
<<<<<<< HEAD
   "execution_count": 2,
=======
   "execution_count": 3,
>>>>>>> f73899ca9b7d8f26c7a5c09735160248ba75c878
   "id": "db8e8fab-abc8-46c1-ad82-01262171c5ed",
   "metadata": {
    "tags": []
   },
   "outputs": [],
   "source": [
    "importlib.reload(modules.data_processing)\n",
    "from modules.data_processing import *"
   ]
  },
  {
   "cell_type": "code",
<<<<<<< HEAD
   "execution_count": 3,
=======
   "execution_count": 5,
>>>>>>> f73899ca9b7d8f26c7a5c09735160248ba75c878
   "id": "cd80595e-105c-4701-a24b-9beee164962b",
   "metadata": {
    "tags": []
   },
   "outputs": [],
   "source": [
    "DATA_PATH = './data/wiki-RfA.txt'"
   ]
  },
  {
   "cell_type": "markdown",
   "id": "6e73e40b-03f9-4bb1-bce6-1808847e7b02",
   "metadata": {},
   "source": [
    "### Loading Processed Dataset"
   ]
  },
  {
   "cell_type": "code",
   "execution_count": 6,
   "id": "1e692372-c589-4cd6-8d9e-0bba9fb1b84b",
   "metadata": {
    "tags": []
   },
   "outputs": [],
   "source": [
    "wiki_df = extract_data(DATA_PATH)\n",
    "process_dataframe(wiki_df)"
   ]
  },
  {
   "cell_type": "code",
   "execution_count": 7,
   "id": "2d24d75a-d4a2-4608-8439-e1b92e55990e",
   "metadata": {
    "tags": []
   },
   "outputs": [
    {
     "data": {
      "text/html": [
       "<div>\n",
       "<style scoped>\n",
       "    .dataframe tbody tr th:only-of-type {\n",
       "        vertical-align: middle;\n",
       "    }\n",
       "\n",
       "    .dataframe tbody tr th {\n",
       "        vertical-align: top;\n",
       "    }\n",
       "\n",
       "    .dataframe thead th {\n",
       "        text-align: right;\n",
       "    }\n",
       "</style>\n",
       "<table border=\"1\" class=\"dataframe\">\n",
       "  <thead>\n",
       "    <tr style=\"text-align: right;\">\n",
       "      <th></th>\n",
       "      <th>SRC</th>\n",
       "      <th>TGT</th>\n",
       "      <th>VOT</th>\n",
       "      <th>RES</th>\n",
       "      <th>YEA</th>\n",
       "      <th>DAT</th>\n",
       "      <th>TXT</th>\n",
       "      <th>ELECTION_ID</th>\n",
       "    </tr>\n",
       "  </thead>\n",
       "  <tbody>\n",
       "    <tr>\n",
       "      <th>0</th>\n",
       "      <td>Steel1943</td>\n",
       "      <td>BDD</td>\n",
       "      <td>1</td>\n",
       "      <td>1</td>\n",
       "      <td>2013</td>\n",
       "      <td>2013-04-19 23:13:00</td>\n",
       "      <td>'''Support''' as co-nom.</td>\n",
       "      <td>1</td>\n",
       "    </tr>\n",
       "    <tr>\n",
       "      <th>1</th>\n",
       "      <td>Cuchullain</td>\n",
       "      <td>BDD</td>\n",
       "      <td>1</td>\n",
       "      <td>1</td>\n",
       "      <td>2013</td>\n",
       "      <td>2013-04-20 01:04:00</td>\n",
       "      <td>'''Support''' as nominator.--</td>\n",
       "      <td>1</td>\n",
       "    </tr>\n",
       "    <tr>\n",
       "      <th>2</th>\n",
       "      <td>INeverCry</td>\n",
       "      <td>BDD</td>\n",
       "      <td>1</td>\n",
       "      <td>1</td>\n",
       "      <td>2013</td>\n",
       "      <td>2013-04-19 23:43:00</td>\n",
       "      <td>'''Support''' per noms.</td>\n",
       "      <td>1</td>\n",
       "    </tr>\n",
       "    <tr>\n",
       "      <th>3</th>\n",
       "      <td>Cncmaster</td>\n",
       "      <td>BDD</td>\n",
       "      <td>1</td>\n",
       "      <td>1</td>\n",
       "      <td>2013</td>\n",
       "      <td>2013-04-20 00:11:00</td>\n",
       "      <td>'''Support''' per noms. BDD is a strong contri...</td>\n",
       "      <td>1</td>\n",
       "    </tr>\n",
       "    <tr>\n",
       "      <th>4</th>\n",
       "      <td>Miniapolis</td>\n",
       "      <td>BDD</td>\n",
       "      <td>1</td>\n",
       "      <td>1</td>\n",
       "      <td>2013</td>\n",
       "      <td>2013-04-20 00:56:00</td>\n",
       "      <td>'''Support''', with great pleasure. I work wit...</td>\n",
       "      <td>1</td>\n",
       "    </tr>\n",
       "    <tr>\n",
       "      <th>5</th>\n",
       "      <td>Sven Manguard</td>\n",
       "      <td>BDD</td>\n",
       "      <td>1</td>\n",
       "      <td>1</td>\n",
       "      <td>2013</td>\n",
       "      <td>2013-04-20 01:53:00</td>\n",
       "      <td>'''Support''' There are plenty of important ro...</td>\n",
       "      <td>1</td>\n",
       "    </tr>\n",
       "    <tr>\n",
       "      <th>6</th>\n",
       "      <td>Ramaksoud2000</td>\n",
       "      <td>BDD</td>\n",
       "      <td>1</td>\n",
       "      <td>1</td>\n",
       "      <td>2013</td>\n",
       "      <td>2013-04-20 02:00:00</td>\n",
       "      <td>'''Support''' per noms. I don't see a reason n...</td>\n",
       "      <td>1</td>\n",
       "    </tr>\n",
       "    <tr>\n",
       "      <th>7</th>\n",
       "      <td>RockMagnetist</td>\n",
       "      <td>BDD</td>\n",
       "      <td>1</td>\n",
       "      <td>1</td>\n",
       "      <td>2013</td>\n",
       "      <td>2013-04-20 02:18:00</td>\n",
       "      <td>'''Support'''  BDD already wields a broom pret...</td>\n",
       "      <td>1</td>\n",
       "    </tr>\n",
       "    <tr>\n",
       "      <th>8</th>\n",
       "      <td>Carrite</td>\n",
       "      <td>BDD</td>\n",
       "      <td>1</td>\n",
       "      <td>1</td>\n",
       "      <td>2013</td>\n",
       "      <td>2013-04-20 02:22:00</td>\n",
       "      <td>'''Support''' barring a completely unexpected ...</td>\n",
       "      <td>1</td>\n",
       "    </tr>\n",
       "    <tr>\n",
       "      <th>9</th>\n",
       "      <td>Someguy1221</td>\n",
       "      <td>BDD</td>\n",
       "      <td>1</td>\n",
       "      <td>1</td>\n",
       "      <td>2013</td>\n",
       "      <td>2013-04-20 03:09:00</td>\n",
       "      <td>'''Support''' because I see no good reason not...</td>\n",
       "      <td>1</td>\n",
       "    </tr>\n",
       "  </tbody>\n",
       "</table>\n",
       "</div>"
      ],
      "text/plain": [
       "             SRC  TGT  VOT  RES   YEA                 DAT  \\\n",
       "0      Steel1943  BDD    1    1  2013 2013-04-19 23:13:00   \n",
       "1     Cuchullain  BDD    1    1  2013 2013-04-20 01:04:00   \n",
       "2      INeverCry  BDD    1    1  2013 2013-04-19 23:43:00   \n",
       "3      Cncmaster  BDD    1    1  2013 2013-04-20 00:11:00   \n",
       "4     Miniapolis  BDD    1    1  2013 2013-04-20 00:56:00   \n",
       "5  Sven Manguard  BDD    1    1  2013 2013-04-20 01:53:00   \n",
       "6  Ramaksoud2000  BDD    1    1  2013 2013-04-20 02:00:00   \n",
       "7  RockMagnetist  BDD    1    1  2013 2013-04-20 02:18:00   \n",
       "8        Carrite  BDD    1    1  2013 2013-04-20 02:22:00   \n",
       "9    Someguy1221  BDD    1    1  2013 2013-04-20 03:09:00   \n",
       "\n",
       "                                                 TXT  ELECTION_ID  \n",
       "0                           '''Support''' as co-nom.            1  \n",
       "1                      '''Support''' as nominator.--            1  \n",
       "2                            '''Support''' per noms.            1  \n",
       "3  '''Support''' per noms. BDD is a strong contri...            1  \n",
       "4  '''Support''', with great pleasure. I work wit...            1  \n",
       "5  '''Support''' There are plenty of important ro...            1  \n",
       "6  '''Support''' per noms. I don't see a reason n...            1  \n",
       "7  '''Support'''  BDD already wields a broom pret...            1  \n",
       "8  '''Support''' barring a completely unexpected ...            1  \n",
       "9  '''Support''' because I see no good reason not...            1  "
      ]
     },
     "execution_count": 7,
     "metadata": {},
     "output_type": "execute_result"
    }
   ],
   "source": [
    "wiki_df.head(10)"
   ]
  },
  {
   "cell_type": "markdown",
<<<<<<< HEAD
=======
   "id": "7bdd08c8-8d54-42c3-818b-0dcf0f7ba615",
   "metadata": {},
   "source": [
    "* It is important to have an idea of the proportion of votes within our dataset."
   ]
  },
  {
   "cell_type": "code",
   "execution_count": 8,
   "id": "bf200bba-b644-4ffb-8817-a23ef20fc574",
   "metadata": {
    "tags": []
   },
   "outputs": [
    {
     "data": {
      "text/plain": [
       "Text(0.5, 0, 'VOT')"
      ]
     },
     "execution_count": 8,
     "metadata": {},
     "output_type": "execute_result"
    },
    {
     "data": {
      "image/png": "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",
      "text/plain": [
       "<Figure size 640x480 with 1 Axes>"
      ]
     },
     "metadata": {},
     "output_type": "display_data"
    }
   ],
   "source": [
    "ax = wiki_df['VOT'].value_counts().sort_index().plot(kind='bar', title='Count')\n",
    "ax.set_xlabel('VOT')"
   ]
  },
  {
   "cell_type": "markdown",
>>>>>>> f73899ca9b7d8f26c7a5c09735160248ba75c878
   "id": "38aca5c5-ea38-49fa-be94-c421a1f9200a",
   "metadata": {},
   "source": [
    "### Text preprocessing"
   ]
  },
  {
   "cell_type": "code",
<<<<<<< HEAD
   "execution_count": 8,
=======
   "execution_count": 9,
>>>>>>> f73899ca9b7d8f26c7a5c09735160248ba75c878
   "id": "1dace4d1-b558-4c45-a3b5-48a51b8e6fa2",
   "metadata": {
    "tags": []
   },
   "outputs": [],
   "source": [
    "wiki_copy = wiki_df.copy()"
   ]
  },
  {
   "cell_type": "code",
<<<<<<< HEAD
   "execution_count": 9,
=======
   "execution_count": 132,
   "id": "75e4ab37-867d-4d6f-90f6-73af8649d45a",
   "metadata": {
    "tags": []
   },
   "outputs": [],
   "source": [
    "#wiki_copy['TXT'].replace('', np.nan, inplace = True)\n",
    "#wiki_copy['TXT'].isna().sum()"
   ]
  },
  {
   "cell_type": "code",
   "execution_count": 10,
>>>>>>> f73899ca9b7d8f26c7a5c09735160248ba75c878
   "id": "4c82907d-e333-4c62-9302-98e9ad1ccf69",
   "metadata": {
    "tags": []
   },
   "outputs": [
    {
     "data": {
      "text/plain": [
       "7190"
      ]
     },
<<<<<<< HEAD
     "execution_count": 9,
=======
     "execution_count": 10,
>>>>>>> f73899ca9b7d8f26c7a5c09735160248ba75c878
     "metadata": {},
     "output_type": "execute_result"
    }
   ],
   "source": [
    "len(wiki_copy[wiki_copy['TXT'] == '']['TXT'])"
   ]
  },
  {
   "cell_type": "markdown",
   "id": "e811abd4-d0e5-4b5a-a1cc-27e5ac0ae538",
   "metadata": {},
   "source": [
    "* We notice that we have 7190 missing values among comments. \n",
    "\n",
    "We don't do the replacement at this stage of empty comments by NaN, because we intend to maintain them as strings for the following steps. "
   ]
  },
  {
   "cell_type": "markdown",
   "id": "ccb0a546-4109-4b1c-8ff3-b560262ee666",
   "metadata": {},
   "source": [
    "#### Removing the Wiki Markup from the comments"
   ]
  },
  {
   "cell_type": "code",
<<<<<<< HEAD
   "execution_count": 10,
=======
   "execution_count": 11,
>>>>>>> f73899ca9b7d8f26c7a5c09735160248ba75c878
   "id": "1b2d2ec2-fd89-4f74-8dba-0644f16f8ddb",
   "metadata": {
    "tags": []
   },
   "outputs": [],
   "source": [
    "# Make sure that TXT is string\n",
    "wiki_copy['TXT'] = wiki_copy['TXT'].astype(str)"
   ]
  },
  {
   "cell_type": "markdown",
   "id": "21cfa3a1-0631-448d-a5f2-712a5dfa400e",
   "metadata": {},
   "source": [
    "* We will try to use a python library called \"wikitextparser\" to easily remove the wiki markup. "
   ]
  },
  {
   "cell_type": "code",
<<<<<<< HEAD
   "execution_count": 11,
=======
   "execution_count": 13,
>>>>>>> f73899ca9b7d8f26c7a5c09735160248ba75c878
   "id": "ba55a04b-4490-400d-8c53-f8b2e5e52702",
   "metadata": {
    "tags": []
   },
   "outputs": [],
   "source": [
    "from wikitextparser import remove_markup, parse"
   ]
  },
  {
   "cell_type": "code",
<<<<<<< HEAD
   "execution_count": 13,
=======
   "execution_count": 14,
>>>>>>> f73899ca9b7d8f26c7a5c09735160248ba75c878
   "id": "3e14182a-29dc-49d4-9b0d-9209cfb6751e",
   "metadata": {
    "tags": []
   },
   "outputs": [
    {
     "data": {
      "text/plain": [
       "\"Congratulatory '''Support''' - Excellent [[Wikipedia:WikiProject Military history|WikiProject:Military history]] experience with this user. Can be trusted with new responsibility.\""
      ]
     },
<<<<<<< HEAD
     "execution_count": 13,
=======
     "execution_count": 14,
>>>>>>> f73899ca9b7d8f26c7a5c09735160248ba75c878
     "metadata": {},
     "output_type": "execute_result"
    }
   ],
   "source": [
    "# comment example from the dataset \n",
    "example = wiki_copy.iloc[66609]['TXT']\n",
    "example"
   ]
  },
  {
   "cell_type": "code",
<<<<<<< HEAD
   "execution_count": 14,
=======
   "execution_count": 15,
>>>>>>> f73899ca9b7d8f26c7a5c09735160248ba75c878
   "id": "86a84aee-5007-488a-a59e-94c0ccc859f4",
   "metadata": {
    "tags": []
   },
   "outputs": [
    {
     "data": {
      "text/plain": [
       "'Congratulatory Support - Excellent WikiProject:Military history experience with this user. Can be trusted with new responsibility.'"
      ]
     },
<<<<<<< HEAD
     "execution_count": 14,
=======
     "execution_count": 15,
>>>>>>> f73899ca9b7d8f26c7a5c09735160248ba75c878
     "metadata": {},
     "output_type": "execute_result"
    }
   ],
   "source": [
    "remove_markup(example)"
   ]
  },
  {
   "cell_type": "markdown",
   "id": "d0965efd-1758-49ed-a62f-cc27b0bb0988",
   "metadata": {},
   "source": [
    "* The library didn't handle the link removal as expected. Therefore, we will implement a classic function using regular expressions to remove the wiki markup, relying on the Wikitext structure on the website [Wikitext](https://en.wikipedia.org/wiki/Help:Wikitext)."
   ]
  },
  {
   "cell_type": "code",
<<<<<<< HEAD
   "execution_count": 15,
=======
   "execution_count": 23,
>>>>>>> f73899ca9b7d8f26c7a5c09735160248ba75c878
   "id": "c9854add-9abb-42a5-9d92-89b8ec65ee62",
   "metadata": {
    "tags": []
   },
   "outputs": [
    {
     "data": {
      "text/plain": [
       "'Congratulatory Support - Excellent  experience with this user. Can be trusted with new responsibility.'"
      ]
     },
<<<<<<< HEAD
     "execution_count": 15,
=======
     "execution_count": 23,
>>>>>>> f73899ca9b7d8f26c7a5c09735160248ba75c878
     "metadata": {},
     "output_type": "execute_result"
    }
   ],
   "source": [
    "from modules.data_processing import *\n",
    "importlib.reload(modules.data_processing)\n",
    "\n",
    "remove_wiki_markup(example)"
   ]
  },
  {
   "cell_type": "markdown",
   "id": "1682d6c6-5124-4e6c-823d-4ec3a1490f4e",
   "metadata": {},
   "source": [
    "* The results is indeed what we want. Let's test on a random sample of comments."
   ]
  },
  {
   "cell_type": "code",
<<<<<<< HEAD
   "execution_count": 18,
=======
   "execution_count": 17,
>>>>>>> f73899ca9b7d8f26c7a5c09735160248ba75c878
   "id": "f0bb78a6-15b1-4177-8899-ef9ff7674270",
   "metadata": {
    "tags": []
   },
   "outputs": [
    {
     "name": "stdout",
     "output_type": "stream",
     "text": [
<<<<<<< HEAD
      "0  :  Some points of value in opposition, but I think you'd be cautious - so '''support''' per [[WP:NETPOS]]. <small><span style=\"border:1px solid #0000ff;padding:1px;\">\n",
      "\n",
      "1  :  '''Support'''. After examining the contribs, I can only support this excellent editor, and I'm more than sure that he will make a good admin! :) --\n",
      "\n",
      "2  :  \n",
      "\n",
      "3  :  '''Support'''.\n",
      "\n",
      "4  :  '''Support''' Why not?\n",
      "\n",
      "5  :  '''Oppose''' Answers to question are just a bit disconcerting.\n",
      "\n",
      "6  :  '''Support'''.  gift vote.  happy new year\n",
      "\n",
      "7  :  '''Support''' -  per past interactions, and per his willingness to admit he was wrong.\n",
      "\n",
      "8  :  Originally nominated by an editor with 20 edits, then moved to self nomination, that makes me uncomfortable. I'm willing to reconsider the vote if the nominee is willing to answer a number of questions.\n",
      "\n",
      "9  :  '''Oppose''' Sorry. A lack of both article-writing and admin-related experience.\n",
=======
      "0  :  '''Strong Oppose''' per Rory096.\n",
      "\n",
      "1  :  \n",
      "\n",
      "2  :  '''Neutral''' You're a good editor, but the experience isn't wholy there. Try again in a few months and this will likely be different. I think the year suggestion is a bit extreme though as you could end up sitting around being fully qualified for a long time.\n",
      "\n",
      "3  :  '''SUPPORT!''' Has GREATLY improved since his last RfA. Per Werdna and CrazyRussian, it is about fucking time.\n",
      "\n",
      "4  :  '''Suppose'''. Thought he was one, think he should be one. &mdash;[[User:Nightstallion|<span style=\"font-variant:small-caps\">Nightst</span>]]<font color=\"green\">[[User:Nightstallion/esperanza|<span style=\"font-variant:small-caps\">a</span>]]</font>\n",
      "\n",
      "5  :  '''Weak Oppose''' other reasons, but mostly [http://en.wikipedia.org/w/index.php?title=Hasan-Jalalian&diff=169068218&oldid=169068090 this] - came across it on NPP..redirects aren't usually prime \"new page crap\" material, most of the time there's something going to be created there soon, especially with an experienced editor creating the redirect in the first place. <font color=\"blue\">-[[User:Wooty|'''Woo''']][[User:Wooty/ENC|'''ty''']]&nbsp;<small>[[User talk:Wooty|['''Woot?''']]]&nbsp;\n",
      "\n",
      "6  :  '''Oppose'''. I'm sorry, Mabdul. I don't believe your intent was to canvass, and I think you're a promising admin candidate, but the ability to think through actions and identify what might be contentious or damaging ''before'' taking the action is an important tool for an administrator, and your IRC quit message (though apparently neutral) was one of those things that ought to have been thought through, identified as \"this will probably cause drama\", and avoided. I think you need to work some more on internalizing that sense of how the community views actions of various types. If you can do that, I think you'll sail through a future RFA with few problems.\n",
      "\n",
      "7  :  In full agreement with a few of the above opposers, specifically WJB. '''\n",
      "\n",
      "8  :  '''Support''' Happy vandal hunting!\n",
      "\n",
      "9  :  '''Support'''.\n",
>>>>>>> f73899ca9b7d8f26c7a5c09735160248ba75c878
      "\n"
     ]
    }
   ],
   "source": [
    "txts = wiki_copy['TXT'].sample(10).copy()\n",
    "for i, comment in enumerate(txts): \n",
    "    print(i, ' : ' , comment)\n",
    "    print() "
   ]
  },
  {
   "cell_type": "code",
<<<<<<< HEAD
   "execution_count": 19,
=======
   "execution_count": 24,
>>>>>>> f73899ca9b7d8f26c7a5c09735160248ba75c878
   "id": "90b87b53-0936-46c7-9c70-5ecc7274fe97",
   "metadata": {
    "tags": []
   },
   "outputs": [
    {
     "name": "stdout",
     "output_type": "stream",
     "text": [
<<<<<<< HEAD
      "0  :  Some points of value in opposition, but I think you'd be cautious - so support per . \n",
      "\n",
      "1  :  Support. After examining the contribs, I can only support this excellent editor, and I'm more than sure that he will make a good admin! :)  \n",
      "\n",
      "2  :  \n",
      "\n",
      "3  :  Support.\n",
      "\n",
      "4  :  Support Why not?\n",
      "\n",
      "5  :  Oppose Answers to question are just a bit disconcerting.\n",
      "\n",
      "6  :  Support.  gift vote.  happy new year\n",
      "\n",
      "7  :  Support -  per past interactions, and per his willingness to admit he was wrong.\n",
      "\n",
      "8  :  Originally nominated by an editor with 20 edits, then moved to self nomination, that makes me uncomfortable. I'm willing to reconsider the vote if the nominee is willing to answer a number of questions.\n",
      "\n",
      "9  :  Oppose Sorry. A lack of both article-writing and admin-related experience.\n",
=======
      "0  :  Strong Oppose per Rory096.\n",
      "\n",
      "1  :  \n",
      "\n",
      "2  :  Neutral You're a good editor, but the experience isn't wholy there. Try again in a few months and this will likely be different. I think the year suggestion is a bit extreme though as you could end up sitting around being fully qualified for a long time.\n",
      "\n",
      "3  :  SUPPORT! Has GREATLY improved since his last RfA. Per Werdna and CrazyRussian, it is about fucking time.\n",
      "\n",
      "4  :  Suppose. Thought he was one, think he should be one. \n",
      "\n",
      "5  :  Weak Oppose other reasons, but mostly  - came across it on NPP..redirects aren't usually prime \"new page crap\" material, most of the time there's something going to be created there soon, especially with an experienced editor creating the redirect in the first place. -]\n",
      "\n",
      "6  :  Oppose. I'm sorry, Mabdul. I don't believe your intent was to canvass, and I think you're a promising admin candidate, but the ability to think through actions and identify what might be contentious or damaging before taking the action is an important tool for an administrator, and your IRC quit message (though apparently neutral) was one of those things that ought to have been thought through, identified as \"this will probably cause drama\", and avoided. I think you need to work some more on internalizing that sense of how the community views actions of various types. If you can do that, I think you'll sail through a future RFA with few problems.\n",
      "\n",
      "7  :  In full agreement with a few of the above opposers, specifically WJB.  \n",
      "\n",
      "8  :  Support Happy vandal hunting!\n",
      "\n",
      "9  :  Support.\n",
>>>>>>> f73899ca9b7d8f26c7a5c09735160248ba75c878
      "\n"
     ]
    }
   ],
   "source": [
    "for i, comment in enumerate(txts): \n",
    "    print(i, ' : ' , remove_wiki_markup(comment))\n",
    "    print() "
   ]
  },
  {
   "cell_type": "markdown",
   "id": "0182d31d-d242-48e6-9637-522ae4f31e12",
   "metadata": {},
   "source": [
    "* It seems that it works well on the comments of our dataset. We create then a column for cleaned comments."
   ]
  },
  {
   "cell_type": "code",
<<<<<<< HEAD
   "execution_count": 20,
=======
   "execution_count": 26,
>>>>>>> f73899ca9b7d8f26c7a5c09735160248ba75c878
   "id": "7c9093b9-9636-4534-ac23-49ac06e89d02",
   "metadata": {
    "tags": []
   },
   "outputs": [
    {
     "data": {
      "text/html": [
       "<div>\n",
       "<style scoped>\n",
       "    .dataframe tbody tr th:only-of-type {\n",
       "        vertical-align: middle;\n",
       "    }\n",
       "\n",
       "    .dataframe tbody tr th {\n",
       "        vertical-align: top;\n",
       "    }\n",
       "\n",
       "    .dataframe thead th {\n",
       "        text-align: right;\n",
       "    }\n",
       "</style>\n",
       "<table border=\"1\" class=\"dataframe\">\n",
       "  <thead>\n",
       "    <tr style=\"text-align: right;\">\n",
       "      <th></th>\n",
       "      <th>SRC</th>\n",
       "      <th>TGT</th>\n",
       "      <th>VOT</th>\n",
       "      <th>RES</th>\n",
       "      <th>YEA</th>\n",
       "      <th>DAT</th>\n",
       "      <th>TXT</th>\n",
       "      <th>ELECTION_ID</th>\n",
       "      <th>CLE</th>\n",
       "    </tr>\n",
       "  </thead>\n",
       "  <tbody>\n",
       "    <tr>\n",
       "      <th>0</th>\n",
       "      <td>Steel1943</td>\n",
       "      <td>BDD</td>\n",
       "      <td>1</td>\n",
       "      <td>1</td>\n",
       "      <td>2013</td>\n",
       "      <td>2013-04-19 23:13:00</td>\n",
       "      <td>'''Support''' as co-nom.</td>\n",
       "      <td>1</td>\n",
       "      <td>Support as co-nom.</td>\n",
       "    </tr>\n",
       "    <tr>\n",
       "      <th>1</th>\n",
       "      <td>Cuchullain</td>\n",
       "      <td>BDD</td>\n",
       "      <td>1</td>\n",
       "      <td>1</td>\n",
       "      <td>2013</td>\n",
       "      <td>2013-04-20 01:04:00</td>\n",
       "      <td>'''Support''' as nominator.--</td>\n",
       "      <td>1</td>\n",
       "      <td>Support as nominator.</td>\n",
       "    </tr>\n",
       "    <tr>\n",
       "      <th>2</th>\n",
       "      <td>INeverCry</td>\n",
       "      <td>BDD</td>\n",
       "      <td>1</td>\n",
       "      <td>1</td>\n",
       "      <td>2013</td>\n",
       "      <td>2013-04-19 23:43:00</td>\n",
       "      <td>'''Support''' per noms.</td>\n",
       "      <td>1</td>\n",
       "      <td>Support per noms.</td>\n",
       "    </tr>\n",
       "    <tr>\n",
       "      <th>3</th>\n",
       "      <td>Cncmaster</td>\n",
       "      <td>BDD</td>\n",
       "      <td>1</td>\n",
       "      <td>1</td>\n",
       "      <td>2013</td>\n",
       "      <td>2013-04-20 00:11:00</td>\n",
       "      <td>'''Support''' per noms. BDD is a strong contri...</td>\n",
       "      <td>1</td>\n",
       "      <td>Support per noms. BDD is a strong contributor ...</td>\n",
       "    </tr>\n",
       "    <tr>\n",
       "      <th>4</th>\n",
       "      <td>Miniapolis</td>\n",
       "      <td>BDD</td>\n",
       "      <td>1</td>\n",
       "      <td>1</td>\n",
       "      <td>2013</td>\n",
       "      <td>2013-04-20 00:56:00</td>\n",
       "      <td>'''Support''', with great pleasure. I work wit...</td>\n",
       "      <td>1</td>\n",
       "      <td>Support, with great pleasure. I work with BDD ...</td>\n",
       "    </tr>\n",
       "  </tbody>\n",
       "</table>\n",
       "</div>"
      ],
      "text/plain": [
       "          SRC  TGT  VOT  RES   YEA                 DAT  \\\n",
       "0   Steel1943  BDD    1    1  2013 2013-04-19 23:13:00   \n",
       "1  Cuchullain  BDD    1    1  2013 2013-04-20 01:04:00   \n",
       "2   INeverCry  BDD    1    1  2013 2013-04-19 23:43:00   \n",
       "3   Cncmaster  BDD    1    1  2013 2013-04-20 00:11:00   \n",
       "4  Miniapolis  BDD    1    1  2013 2013-04-20 00:56:00   \n",
       "\n",
       "                                                 TXT  ELECTION_ID  \\\n",
       "0                           '''Support''' as co-nom.            1   \n",
       "1                      '''Support''' as nominator.--            1   \n",
       "2                            '''Support''' per noms.            1   \n",
       "3  '''Support''' per noms. BDD is a strong contri...            1   \n",
       "4  '''Support''', with great pleasure. I work wit...            1   \n",
       "\n",
       "                                                 CLE  \n",
       "0                                 Support as co-nom.  \n",
       "1                             Support as nominator.   \n",
       "2                                  Support per noms.  \n",
       "3  Support per noms. BDD is a strong contributor ...  \n",
       "4  Support, with great pleasure. I work with BDD ...  "
      ]
     },
<<<<<<< HEAD
     "execution_count": 20,
=======
     "execution_count": 26,
>>>>>>> f73899ca9b7d8f26c7a5c09735160248ba75c878
     "metadata": {},
     "output_type": "execute_result"
    }
   ],
   "source": [
    "wiki_copy['CLE'] = wiki_copy['TXT'].apply(remove_wiki_markup)\n",
    "wiki_copy.head()"
   ]
  },
  {
   "cell_type": "code",
<<<<<<< HEAD
   "execution_count": 21,
=======
   "execution_count": 27,
>>>>>>> f73899ca9b7d8f26c7a5c09735160248ba75c878
   "id": "81fc93bb-7b71-44d6-8d82-9cbe1d535f78",
   "metadata": {
    "tags": []
   },
   "outputs": [
    {
     "data": {
      "text/plain": [
       "array([' ', '—', '-', '+', '→', \"'\", '.', '}', '!', '–', 'S', '·', 'I',\n",
       "       '~', '«', '↔', 'C', ':', '(', '\"', '/'], dtype=object)"
      ]
     },
<<<<<<< HEAD
     "execution_count": 21,
=======
     "execution_count": 27,
>>>>>>> f73899ca9b7d8f26c7a5c09735160248ba75c878
     "metadata": {},
     "output_type": "execute_result"
    }
   ],
   "source": [
    "comments_with_one_char = wiki_copy.loc[(wiki_copy['CLE'].apply(len) == 1)]['CLE'].unique() # one char in the comments\n",
    "comments_with_one_char"
   ]
  },
  {
   "cell_type": "code",
<<<<<<< HEAD
   "execution_count": 22,
=======
   "execution_count": 29,
>>>>>>> f73899ca9b7d8f26c7a5c09735160248ba75c878
   "id": "dd6928a0-7b88-421f-b81f-ad8dddd52deb",
   "metadata": {
    "tags": []
   },
   "outputs": [
    {
     "data": {
      "text/plain": [
       "array(['  ', '- ', ' /', '— ', '+ ', '←.', ' [', '. ', \"''\", ' (', '⇦⇨',\n",
       "       ' —', 'OK', '}—', ' -', \"':\", '我是', '++', 'CO', '~ ', ' ~', ' C',\n",
       "       'Q8', ' ☺', 'No', ' 〈', 'Da', 'S.', '! ', ':)'], dtype=object)"
      ]
     },
<<<<<<< HEAD
     "execution_count": 22,
=======
     "execution_count": 29,
>>>>>>> f73899ca9b7d8f26c7a5c09735160248ba75c878
     "metadata": {},
     "output_type": "execute_result"
    }
   ],
   "source": [
    "comments_with_two_char = wiki_copy.loc[(wiki_copy['CLE'].apply(len) == 2)]['CLE'].unique() # two char in the comments\n",
    "comments_with_two_char"
   ]
  },
  {
   "cell_type": "markdown",
   "id": "a638caf5-c315-45b0-a39e-1b7e084521d6",
   "metadata": {},
   "source": [
    "* We will delete those comments containing one or two characters that are meaningless for our study."
   ]
  },
  {
   "cell_type": "code",
<<<<<<< HEAD
   "execution_count": 26,
=======
   "execution_count": 30,
>>>>>>> f73899ca9b7d8f26c7a5c09735160248ba75c878
   "id": "94f2421f-2adf-4cef-9371-f9fe8df1dbb2",
   "metadata": {
    "tags": []
   },
   "outputs": [
    {
     "data": {
      "text/plain": [
       "array(['', 'OK', 'No'], dtype=object)"
      ]
     },
     "execution_count": 26,
     "metadata": {},
     "output_type": "execute_result"
    }
   ],
   "source": [
    "wiki_copy['CLE'] = wiki_copy['CLE'].apply(lambda x: '' if len(x) < 3 and x not in ['OK', 'No']  else x)\n",
    "wiki_copy.loc[(wiki_copy['CLE'].apply(len) < 3)]['CLE'].unique()"
   ]
  },
  {
   "cell_type": "code",
<<<<<<< HEAD
   "execution_count": 24,
=======
   "execution_count": 31,
>>>>>>> f73899ca9b7d8f26c7a5c09735160248ba75c878
   "id": "577891e1-4d49-446b-8b20-64f302264c76",
   "metadata": {
    "tags": []
   },
   "outputs": [
    {
     "data": {
      "text/plain": [
       "array(['←  ', '!!!', '   ', ' - ', 'Ja.', 'OK.', \"I'm\", 'Yes', '.  ',\n",
       "       \" ''\", '+1–', '賛成 ', ' ••', '} —', '他是好', 'wow', '  ~', \"'' \",\n",
       "       ' ~~', 'No ', '^.^', 'S+1', \"''÷\", 'yup', ' – ', '➲  ', 'Yay',\n",
       "       '  |', 'Q3.', '  (', 'yes', '-  ', 'Yup', '➔  ', 'Aye', '➨  ',\n",
       "       'Q1.', '9 (', '...', 'No.', 'Yep', ' — ', '— (', '— [', '. —',\n",
       "       \"—''\", ' :)', ' (/', ' (|', 'yep', '}} ', 'Baa', 'Moo', 'Ok.',\n",
       "       '!  ', \"— '\", '. -', ':) ', 's  ', \". '\", ' ;)', 'Yo.', ' ()',\n",
       "       ' (\"', ':-)', 'NO.'], dtype=object)"
      ]
     },
<<<<<<< HEAD
     "execution_count": 24,
=======
     "execution_count": 31,
>>>>>>> f73899ca9b7d8f26c7a5c09735160248ba75c878
     "metadata": {},
     "output_type": "execute_result"
    }
   ],
   "source": [
    "wiki_copy.loc[(wiki_copy['CLE'].apply(len) == 3)]['CLE'].unique()"
   ]
  },
  {
   "cell_type": "code",
<<<<<<< HEAD
   "execution_count": 25,
=======
   "execution_count": 32,
>>>>>>> f73899ca9b7d8f26c7a5c09735160248ba75c878
   "id": "c2a3f75d-abcb-4280-9d4c-c9904d90d940",
   "metadata": {
    "tags": []
   },
   "outputs": [
    {
     "data": {
      "text/plain": [
       "array(['. - ', 'Yay.', 'Q2 -', 'Sure', 'Yup.', 'Wow.', '.   ', \" - '\",\n",
       "       'Yes.', \" I'm\", 'Duh.', 'Oui ', 'I  /', 'Yeps', '  — ', 'Yes!',\n",
       "       'Yep.', '. ? ', 'Oui.', 'jo  ', '+1  ', 'Yes ', 'Yep!', ' .  ',\n",
       "       'See ', '. ~~', 'NEWT', '  (|', '. – ', ' . —', 'AGF ', 'FGJ–',\n",
       "       'yup.', 'Yep ', '➨ ❝❞', 'Duh!', '-   ', '   ·', 'DUH!', 'Aye.',\n",
       "       'Meh.', \". ''\", \"! ''\", 'Nom.', '  . ', ' ...', '. — ', \"Q5 '\",\n",
       "       'okay', 'Aww.', 'Yup ', 'I am', 'Yea.', ',   ', 'Pig.', '  (/',\n",
       "       'Yo. ', 'Mop.', 'Wow!', '100%', 'Yes,', \"I'm \", 'No. ', 'Bleh',\n",
       "       '   (', 'Да! ', 'Yay!', '.  |', ' ( -', '«»(|', ', . ', 'TAK!',\n",
       "       '<3  ', 'yes!', 'Moo.', 'Cool', 'Hai ', 'Pro.', 'Sup ', 'YES!',\n",
       "       'Ja! ', ' ort', 'yep.', 'Who?', 'Yup,', 'No  ', 'Heh.'],\n",
       "      dtype=object)"
      ]
     },
<<<<<<< HEAD
     "execution_count": 25,
=======
     "execution_count": 32,
>>>>>>> f73899ca9b7d8f26c7a5c09735160248ba75c878
     "metadata": {},
     "output_type": "execute_result"
    }
   ],
   "source": [
    "wiki_copy.loc[(wiki_copy['CLE'].apply(len) == 4)]['CLE'].unique()"
   ]
  },
  {
   "cell_type": "code",
   "execution_count": 182,
   "id": "e03631b3-29d5-4f8a-93c6-f3b656aa1024",
   "metadata": {
    "tags": []
   },
   "outputs": [
    {
     "data": {
      "text/plain": [
       "array(['100%.', \"← '''\", \"  '''\", 'Yes! ', 'Q2. -', 'Aye.—', \". '''\",\n",
       "       'Sure.', 'nods ', 'Meh -', 'Yerp.', \" -'''\", 'Uhhhh', 'Per .',\n",
       "       'Sold.', \"'''••\", 'Duh →', 'Sure ', 'sure ', 'Solid', \"Yep '\",\n",
       "       'AGF  ', 'Okay.', 'Fine.', '    ·', 'Yup. ', 'Yes. ', 'Yup  ',\n",
       "       'Yes  ', 'No.  ', \" –'''\", 'Yes —', 'Damn,', 'Nom  ', \"''' |\",\n",
       "       'Desu.', 'Yep. ', '.   (', 'Aye. ', 'Ok. —', '+S . ', '+S  (',\n",
       "       ' () (', \"➔ '''\", 'ok. —', '+1.  ', 'Yup! ', 'Duh. ', 'PRO -',\n",
       "       \"➨ '''\", \" —'''\", \"—'''[\", 'yes. ', 'Moo  ', 'AGF. ', 'Oops.',\n",
       "       'Hut+!', 'See .', 'Yeap ', 'GL. –', ' ..  ', ' ⁿɡ͡b', 'Cool.',\n",
       "       'Fish.', \"Sure'\", 'Yes..', 'Yup..', 'Oui!.', \"'''  \", \". —''\",\n",
       "       'Sure!', 'Yay. ', \".  ''\", 'Duh .', 'Gasp!', 'Mooo.', 'Agree',\n",
       "       'Yeah.', 'Sì.  ', 'TINC.', 'Frog.', 'w00t.', 'SNFA.', 'Aye =',\n",
       "       'Duh  ', 'Okay!', 'Duh -', 'What?', 'AOL!>', 'No ()', 'Ok.  ',\n",
       "       'Sí.  ', 'Yep  ', 'Mhmm.', 'Da.  ', '-\"-  ', 'No. -'], dtype=object)"
      ]
     },
     "execution_count": 182,
     "metadata": {},
     "output_type": "execute_result"
    }
   ],
   "source": [
    "wiki_copy.loc[(wiki_copy['CLE'].apply(len) == 5)]['CLE'].unique()"
   ]
  },
  {
   "cell_type": "markdown",
   "id": "34e1a6fb-1cca-4619-b35c-aba82b644333",
   "metadata": {
    "tags": []
   },
   "source": [
    "When examining comments with a length greater than 2, we find various words and special characters that we cannot eliminate at this point. \n",
    "Due to the extensive number of words and special characters, exhaustive treatment of these comments (by studying the different combinaisons) becomes challenging. "
   ]
  },
  {
   "cell_type": "markdown",
   "id": "2d2cc74a-6ebe-43b6-bc36-de5235f19125",
   "metadata": {},
   "source": [
    "* Let's see then what are the words by which comments start."
   ]
  },
  {
   "cell_type": "code",
   "execution_count": 195,
   "id": "7d6a1d7b-f4c0-48ad-b850-ee4e28b8b757",
   "metadata": {
    "tags": []
   },
   "outputs": [
    {
     "name": "stdout",
     "output_type": "stream",
     "text": [
      "Support , Occurrence : 68944\n",
      "Support, , Occurrence : 7582\n",
      "Yea, , Occurrence : 6\n",
      "Support. , Occurrence : 23897\n",
      "If , Occurrence : 108\n",
      "Weak , Occurrence : 3370\n",
      "Support: , Occurrence : 1661\n",
      ". , Occurrence : 160\n",
      "Support...opposes , Occurrence : 1\n",
      "Oppose. , Occurrence : 5538\n",
      "Although , Occurrence : 68\n",
      "Oppose , Occurrence : 21033\n",
      "Fruitless , Occurrence : 3\n",
      "Neutral , Occurrence : 5864\n",
      "Yes , Occurrence : 153\n",
      "Strong , Occurrence : 8393\n"
     ]
    }
   ],
   "source": [
    "from collections import defaultdict\n",
    "cleaned_comments = wiki_copy['CLE']\n",
    "\n",
    "first_word_counts = defaultdict(int)\n",
    "for comment in cleaned_comments: \n",
    "    if isinstance(comment, str) and comment.strip(): \n",
    "        first_word = comment.split()[0]\n",
    "        first_word_counts[first_word] += 1\n",
    "i = 0       \n",
    "for word, count in first_word_counts.items(): \n",
    "    print(word, ', Occurrence :', count)\n",
    "    if i == 15: \n",
    "        break\n",
    "    i += 1"
   ]
  },
  {
   "cell_type": "code",
<<<<<<< HEAD
   "execution_count": 27,
=======
   "execution_count": 33,
>>>>>>> f73899ca9b7d8f26c7a5c09735160248ba75c878
   "id": "ceed5d1b-d599-440f-a0d0-c78f56f82175",
   "metadata": {
    "tags": []
   },
   "outputs": [
    {
     "data": {
      "text/plain": [
       "9387"
      ]
     },
<<<<<<< HEAD
     "execution_count": 27,
=======
     "execution_count": 33,
>>>>>>> f73899ca9b7d8f26c7a5c09735160248ba75c878
     "metadata": {},
     "output_type": "execute_result"
    }
   ],
   "source": [
    "# Some comments have become empty\n",
    "# After the wiki markup removal\n",
    "len(wiki_copy[wiki_copy['CLE'] == '']['CLE'])"
   ]
  },
  {
   "cell_type": "markdown",
   "id": "4ec1172f-d497-43ec-a1bc-afb4e6443e92",
   "metadata": {},
   "source": [
    "Let's take a look at the additional empty comments resulting from our processing."
   ]
  },
  {
   "cell_type": "markdown",
   "id": "d2a7bf85-fbd8-4e8b-87f2-8e549f2b46e1",
   "metadata": {},
   "source": [
<<<<<<< HEAD
    "* In the cleaned comments, we have now 9387 missing values compared to the initial count of 7190. "
   ]
  },
  {
   "cell_type": "markdown",
   "id": "4ec1172f-d497-43ec-a1bc-afb4e6443e92",
   "metadata": {},
   "source": [
    "Let's take a look at the additional empty comments resulting from our processing."
   ]
  },
  {
   "cell_type": "code",
   "execution_count": 34,
   "id": "15c8f079-59ef-4fc0-b532-90439ab4ed77",
   "metadata": {
    "tags": []
   },
   "outputs": [
    {
     "data": {
      "text/html": [
       "<div>\n",
       "<style scoped>\n",
       "    .dataframe tbody tr th:only-of-type {\n",
       "        vertical-align: middle;\n",
       "    }\n",
       "\n",
       "    .dataframe tbody tr th {\n",
       "        vertical-align: top;\n",
       "    }\n",
       "\n",
       "    .dataframe thead th {\n",
       "        text-align: right;\n",
       "    }\n",
       "</style>\n",
       "<table border=\"1\" class=\"dataframe\">\n",
       "  <thead>\n",
       "    <tr style=\"text-align: right;\">\n",
       "      <th></th>\n",
       "      <th>SRC</th>\n",
       "      <th>TGT</th>\n",
       "      <th>VOT</th>\n",
       "      <th>RES</th>\n",
       "      <th>YEA</th>\n",
       "      <th>DAT</th>\n",
       "      <th>TXT</th>\n",
       "      <th>ELECTION_ID</th>\n",
       "      <th>CLE</th>\n",
       "    </tr>\n",
       "  </thead>\n",
       "  <tbody>\n",
       "    <tr>\n",
       "      <th>156</th>\n",
       "      <td>Rzuwig</td>\n",
       "      <td>Bilby</td>\n",
       "      <td>1</td>\n",
       "      <td>1</td>\n",
       "      <td>2013</td>\n",
       "      <td>2013-05-25 07:11:00</td>\n",
       "      <td>{{pro}} --</td>\n",
       "      <td>2</td>\n",
       "      <td></td>\n",
       "    </tr>\n",
       "    <tr>\n",
       "      <th>276</th>\n",
       "      <td>Mabdul</td>\n",
       "      <td>Darkwind</td>\n",
       "      <td>1</td>\n",
       "      <td>1</td>\n",
       "      <td>2013</td>\n",
       "      <td>2012-12-26 20:39:00</td>\n",
       "      <td>&lt;small style=\"font: 12px Courier New; color: #...</td>\n",
       "      <td>3</td>\n",
       "      <td></td>\n",
       "    </tr>\n",
       "    <tr>\n",
       "      <th>300</th>\n",
       "      <td>Filelakeshoe</td>\n",
       "      <td>Darkwind</td>\n",
       "      <td>1</td>\n",
       "      <td>1</td>\n",
       "      <td>2013</td>\n",
       "      <td>2012-12-27 21:58:00</td>\n",
       "      <td>&lt;font face=\"trebuchet MS\"&gt;- [[User:Filelakesho...</td>\n",
       "      <td>3</td>\n",
       "      <td></td>\n",
       "    </tr>\n",
       "    <tr>\n",
       "      <th>427</th>\n",
       "      <td>LlamaAl</td>\n",
       "      <td>INeverCry</td>\n",
       "      <td>1</td>\n",
       "      <td>1</td>\n",
       "      <td>2013</td>\n",
       "      <td>2013-01-31 13:17:00</td>\n",
       "      <td>--</td>\n",
       "      <td>4</td>\n",
       "      <td></td>\n",
       "    </tr>\n",
       "    <tr>\n",
       "      <th>441</th>\n",
       "      <td>Jan eissfeldt</td>\n",
       "      <td>INeverCry</td>\n",
       "      <td>1</td>\n",
       "      <td>1</td>\n",
       "      <td>2013</td>\n",
       "      <td>2013-01-31 20:03:00</td>\n",
       "      <td>--</td>\n",
       "      <td>4</td>\n",
       "      <td></td>\n",
       "    </tr>\n",
       "    <tr>\n",
       "      <th>...</th>\n",
       "      <td>...</td>\n",
       "      <td>...</td>\n",
       "      <td>...</td>\n",
       "      <td>...</td>\n",
       "      <td>...</td>\n",
       "      <td>...</td>\n",
       "      <td>...</td>\n",
       "      <td>...</td>\n",
       "      <td>...</td>\n",
       "    </tr>\n",
       "    <tr>\n",
       "      <th>197931</th>\n",
       "      <td>Hcheney</td>\n",
       "      <td>Snowspinner</td>\n",
       "      <td>1</td>\n",
       "      <td>0</td>\n",
       "      <td>2004</td>\n",
       "      <td>2004-05-30 22:25:00</td>\n",
       "      <td>[[User:Hcheney/Support|Support]] --</td>\n",
       "      <td>3864</td>\n",
       "      <td></td>\n",
       "    </tr>\n",
       "    <tr>\n",
       "      <th>197938</th>\n",
       "      <td>Anthony DiPierro</td>\n",
       "      <td>Snowspinner</td>\n",
       "      <td>1</td>\n",
       "      <td>0</td>\n",
       "      <td>2004</td>\n",
       "      <td>NaT</td>\n",
       "      <td>[[User:Hcheney/Support|Support]] [[User:Anthon...</td>\n",
       "      <td>3864</td>\n",
       "      <td></td>\n",
       "    </tr>\n",
       "    <tr>\n",
       "      <th>197940</th>\n",
       "      <td>GeneralPatton</td>\n",
       "      <td>Snowspinner</td>\n",
       "      <td>1</td>\n",
       "      <td>0</td>\n",
       "      <td>2004</td>\n",
       "      <td>2004-06-02 18:13:00</td>\n",
       "      <td>--</td>\n",
       "      <td>3864</td>\n",
       "      <td></td>\n",
       "    </tr>\n",
       "    <tr>\n",
       "      <th>197944</th>\n",
       "      <td>Texture</td>\n",
       "      <td>Snowspinner</td>\n",
       "      <td>1</td>\n",
       "      <td>0</td>\n",
       "      <td>2004</td>\n",
       "      <td>2004-06-04 14:30:00</td>\n",
       "      <td>[[User:Texture|&lt;font color=red&gt;T&amp;#949;x&lt;/font&gt;...</td>\n",
       "      <td>3864</td>\n",
       "      <td></td>\n",
       "    </tr>\n",
       "    <tr>\n",
       "      <th>198002</th>\n",
       "      <td>Grunt</td>\n",
       "      <td>TakuyaMurata</td>\n",
       "      <td>1</td>\n",
       "      <td>0</td>\n",
       "      <td>2004</td>\n",
       "      <td>NaT</td>\n",
       "      <td>--</td>\n",
       "      <td>3866</td>\n",
       "      <td></td>\n",
       "    </tr>\n",
       "  </tbody>\n",
       "</table>\n",
       "<p>2197 rows × 9 columns</p>\n",
       "</div>"
      ],
      "text/plain": [
       "                     SRC           TGT  VOT  RES   YEA                 DAT  \\\n",
       "156               Rzuwig         Bilby    1    1  2013 2013-05-25 07:11:00   \n",
       "276               Mabdul      Darkwind    1    1  2013 2012-12-26 20:39:00   \n",
       "300         Filelakeshoe      Darkwind    1    1  2013 2012-12-27 21:58:00   \n",
       "427              LlamaAl     INeverCry    1    1  2013 2013-01-31 13:17:00   \n",
       "441        Jan eissfeldt     INeverCry    1    1  2013 2013-01-31 20:03:00   \n",
       "...                  ...           ...  ...  ...   ...                 ...   \n",
       "197931           Hcheney   Snowspinner    1    0  2004 2004-05-30 22:25:00   \n",
       "197938  Anthony DiPierro   Snowspinner    1    0  2004                 NaT   \n",
       "197940     GeneralPatton   Snowspinner    1    0  2004 2004-06-02 18:13:00   \n",
       "197944           Texture   Snowspinner    1    0  2004 2004-06-04 14:30:00   \n",
       "198002             Grunt  TakuyaMurata    1    0  2004                 NaT   \n",
       "\n",
       "                                                      TXT  ELECTION_ID CLE  \n",
       "156                                            {{pro}} --            2      \n",
       "276     <small style=\"font: 12px Courier New; color: #...            3      \n",
       "300     <font face=\"trebuchet MS\">- [[User:Filelakesho...            3      \n",
       "427                                                    --            4      \n",
       "441                                                    --            4      \n",
       "...                                                   ...          ...  ..  \n",
       "197931                [[User:Hcheney/Support|Support]] --         3864      \n",
       "197938  [[User:Hcheney/Support|Support]] [[User:Anthon...         3864      \n",
       "197940                                                 --         3864      \n",
       "197944  [[User:Texture|<font color=red>T&#949;x</font>...         3864      \n",
       "198002                                                 --         3866      \n",
       "\n",
       "[2197 rows x 9 columns]"
      ]
     },
     "execution_count": 34,
     "metadata": {},
     "output_type": "execute_result"
    }
   ],
   "source": [
    "wiki_copy[(wiki_copy['CLE'] == '') & (wiki_copy['TXT'] != '') ]"
   ]
  },
  {
   "cell_type": "markdown",
   "id": "bae72dcc-ad15-463f-8b49-ce3e7fc9c003",
   "metadata": {},
   "source": [
    "We can see that these comments initially contained only pure WikiMarkup and didn't contain any useful information for our analysis."
=======
    "* In the cleaned comments, we have now 9387 missing values compared to the initial count of 7190. \n",
    "\n",
    "We don't do the replacement at this stage of empty comments by NaN, because we intend to maintain them as strings for the following steps. "
>>>>>>> f73899ca9b7d8f26c7a5c09735160248ba75c878
   ]
  },
  {
   "cell_type": "code",
   "execution_count": 34,
   "id": "15c8f079-59ef-4fc0-b532-90439ab4ed77",
   "metadata": {
    "tags": []
   },
   "outputs": [
    {
     "data": {
      "text/html": [
       "<div>\n",
       "<style scoped>\n",
       "    .dataframe tbody tr th:only-of-type {\n",
       "        vertical-align: middle;\n",
       "    }\n",
       "\n",
       "    .dataframe tbody tr th {\n",
       "        vertical-align: top;\n",
       "    }\n",
       "\n",
       "    .dataframe thead th {\n",
       "        text-align: right;\n",
       "    }\n",
       "</style>\n",
       "<table border=\"1\" class=\"dataframe\">\n",
       "  <thead>\n",
       "    <tr style=\"text-align: right;\">\n",
       "      <th></th>\n",
       "      <th>SRC</th>\n",
       "      <th>TGT</th>\n",
       "      <th>VOT</th>\n",
       "      <th>RES</th>\n",
       "      <th>YEA</th>\n",
       "      <th>DAT</th>\n",
       "      <th>TXT</th>\n",
       "      <th>ELECTION_ID</th>\n",
       "      <th>CLE</th>\n",
       "    </tr>\n",
       "  </thead>\n",
       "  <tbody>\n",
       "    <tr>\n",
       "      <th>156</th>\n",
       "      <td>Rzuwig</td>\n",
       "      <td>Bilby</td>\n",
       "      <td>1</td>\n",
       "      <td>1</td>\n",
       "      <td>2013</td>\n",
       "      <td>2013-05-25 07:11:00</td>\n",
       "      <td>{{pro}} --</td>\n",
       "      <td>2</td>\n",
       "      <td></td>\n",
       "    </tr>\n",
       "    <tr>\n",
       "      <th>276</th>\n",
       "      <td>Mabdul</td>\n",
       "      <td>Darkwind</td>\n",
       "      <td>1</td>\n",
       "      <td>1</td>\n",
       "      <td>2013</td>\n",
       "      <td>2012-12-26 20:39:00</td>\n",
       "      <td>&lt;small style=\"font: 12px Courier New; color: #...</td>\n",
       "      <td>3</td>\n",
       "      <td></td>\n",
       "    </tr>\n",
       "    <tr>\n",
       "      <th>300</th>\n",
       "      <td>Filelakeshoe</td>\n",
       "      <td>Darkwind</td>\n",
       "      <td>1</td>\n",
       "      <td>1</td>\n",
       "      <td>2013</td>\n",
       "      <td>2012-12-27 21:58:00</td>\n",
       "      <td>&lt;font face=\"trebuchet MS\"&gt;- [[User:Filelakesho...</td>\n",
       "      <td>3</td>\n",
       "      <td></td>\n",
       "    </tr>\n",
       "    <tr>\n",
       "      <th>427</th>\n",
       "      <td>LlamaAl</td>\n",
       "      <td>INeverCry</td>\n",
       "      <td>1</td>\n",
       "      <td>1</td>\n",
       "      <td>2013</td>\n",
       "      <td>2013-01-31 13:17:00</td>\n",
       "      <td>--</td>\n",
       "      <td>4</td>\n",
       "      <td></td>\n",
       "    </tr>\n",
       "    <tr>\n",
       "      <th>441</th>\n",
       "      <td>Jan eissfeldt</td>\n",
       "      <td>INeverCry</td>\n",
       "      <td>1</td>\n",
       "      <td>1</td>\n",
       "      <td>2013</td>\n",
       "      <td>2013-01-31 20:03:00</td>\n",
       "      <td>--</td>\n",
       "      <td>4</td>\n",
       "      <td></td>\n",
       "    </tr>\n",
       "    <tr>\n",
       "      <th>...</th>\n",
       "      <td>...</td>\n",
       "      <td>...</td>\n",
       "      <td>...</td>\n",
       "      <td>...</td>\n",
       "      <td>...</td>\n",
       "      <td>...</td>\n",
       "      <td>...</td>\n",
       "      <td>...</td>\n",
       "      <td>...</td>\n",
       "    </tr>\n",
       "    <tr>\n",
       "      <th>197931</th>\n",
       "      <td>Hcheney</td>\n",
       "      <td>Snowspinner</td>\n",
       "      <td>1</td>\n",
       "      <td>0</td>\n",
       "      <td>2004</td>\n",
       "      <td>2004-05-30 22:25:00</td>\n",
       "      <td>[[User:Hcheney/Support|Support]] --</td>\n",
       "      <td>3864</td>\n",
       "      <td></td>\n",
       "    </tr>\n",
       "    <tr>\n",
       "      <th>197938</th>\n",
       "      <td>Anthony DiPierro</td>\n",
       "      <td>Snowspinner</td>\n",
       "      <td>1</td>\n",
       "      <td>0</td>\n",
       "      <td>2004</td>\n",
       "      <td>NaT</td>\n",
       "      <td>[[User:Hcheney/Support|Support]] [[User:Anthon...</td>\n",
       "      <td>3864</td>\n",
       "      <td></td>\n",
       "    </tr>\n",
       "    <tr>\n",
       "      <th>197940</th>\n",
       "      <td>GeneralPatton</td>\n",
       "      <td>Snowspinner</td>\n",
       "      <td>1</td>\n",
       "      <td>0</td>\n",
       "      <td>2004</td>\n",
       "      <td>2004-06-02 18:13:00</td>\n",
       "      <td>--</td>\n",
       "      <td>3864</td>\n",
       "      <td></td>\n",
       "    </tr>\n",
       "    <tr>\n",
       "      <th>197944</th>\n",
       "      <td>Texture</td>\n",
       "      <td>Snowspinner</td>\n",
       "      <td>1</td>\n",
       "      <td>0</td>\n",
       "      <td>2004</td>\n",
       "      <td>2004-06-04 14:30:00</td>\n",
       "      <td>[[User:Texture|&lt;font color=red&gt;T&amp;#949;x&lt;/font&gt;...</td>\n",
       "      <td>3864</td>\n",
       "      <td></td>\n",
       "    </tr>\n",
       "    <tr>\n",
       "      <th>198002</th>\n",
       "      <td>Grunt</td>\n",
       "      <td>TakuyaMurata</td>\n",
       "      <td>1</td>\n",
       "      <td>0</td>\n",
       "      <td>2004</td>\n",
       "      <td>NaT</td>\n",
       "      <td>--</td>\n",
       "      <td>3866</td>\n",
       "      <td></td>\n",
       "    </tr>\n",
       "  </tbody>\n",
       "</table>\n",
       "<p>2197 rows × 9 columns</p>\n",
       "</div>"
      ],
      "text/plain": [
       "                     SRC           TGT  VOT  RES   YEA                 DAT  \\\n",
       "156               Rzuwig         Bilby    1    1  2013 2013-05-25 07:11:00   \n",
       "276               Mabdul      Darkwind    1    1  2013 2012-12-26 20:39:00   \n",
       "300         Filelakeshoe      Darkwind    1    1  2013 2012-12-27 21:58:00   \n",
       "427              LlamaAl     INeverCry    1    1  2013 2013-01-31 13:17:00   \n",
       "441        Jan eissfeldt     INeverCry    1    1  2013 2013-01-31 20:03:00   \n",
       "...                  ...           ...  ...  ...   ...                 ...   \n",
       "197931           Hcheney   Snowspinner    1    0  2004 2004-05-30 22:25:00   \n",
       "197938  Anthony DiPierro   Snowspinner    1    0  2004                 NaT   \n",
       "197940     GeneralPatton   Snowspinner    1    0  2004 2004-06-02 18:13:00   \n",
       "197944           Texture   Snowspinner    1    0  2004 2004-06-04 14:30:00   \n",
       "198002             Grunt  TakuyaMurata    1    0  2004                 NaT   \n",
       "\n",
       "                                                      TXT  ELECTION_ID CLE  \n",
       "156                                            {{pro}} --            2      \n",
       "276     <small style=\"font: 12px Courier New; color: #...            3      \n",
       "300     <font face=\"trebuchet MS\">- [[User:Filelakesho...            3      \n",
       "427                                                    --            4      \n",
       "441                                                    --            4      \n",
       "...                                                   ...          ...  ..  \n",
       "197931                [[User:Hcheney/Support|Support]] --         3864      \n",
       "197938  [[User:Hcheney/Support|Support]] [[User:Anthon...         3864      \n",
       "197940                                                 --         3864      \n",
       "197944  [[User:Texture|<font color=red>T&#949;x</font>...         3864      \n",
       "198002                                                 --         3866      \n",
       "\n",
       "[2197 rows x 9 columns]"
      ]
     },
     "execution_count": 34,
     "metadata": {},
     "output_type": "execute_result"
    }
   ],
   "source": [
    "wiki_copy[(wiki_copy['CLE'] == '') & (wiki_copy['TXT'] != '') ]"
   ]
  },
  {
   "cell_type": "markdown",
   "id": "bae72dcc-ad15-463f-8b49-ce3e7fc9c003",
   "metadata": {},
   "source": [
    "We can see that these comments initially contained only pure WikiMarkup and didn't contain any useful information for our analysis."
   ]
  },
  {
   "cell_type": "markdown",
   "id": "8a4deacf-4103-4817-b702-3da4db03b504",
   "metadata": {},
   "source": [
    "# Sentiment analysis with vader "
   ]
  },
  {
   "cell_type": "markdown",
   "id": "8f64f1f1-fd73-4581-8920-0c605751ce32",
   "metadata": {},
   "source": [
    "Punctuation can provide valuable context for sentiment analysis as it can affect the emotional toned of a sentence. Vader is designed to work with text that includes punctuation. It take into account various linguistic and grammatical aspects to understand the sentiment expressed in a piece of text."
   ]
  },
  {
   "cell_type": "code",
<<<<<<< HEAD
   "execution_count": 28,
=======
   "execution_count": 36,
>>>>>>> f73899ca9b7d8f26c7a5c09735160248ba75c878
   "id": "09c34bbb-10ca-4a32-b428-537f77620500",
   "metadata": {
    "tags": []
   },
   "outputs": [
    {
     "name": "stderr",
     "output_type": "stream",
     "text": [
      "[nltk_data] Downloading package vader_lexicon to\n",
      "[nltk_data]     C:\\Users\\Akram\\AppData\\Roaming\\nltk_data...\n"
     ]
    },
    {
     "data": {
      "text/plain": [
       "True"
      ]
     },
<<<<<<< HEAD
     "execution_count": 28,
=======
     "execution_count": 36,
>>>>>>> f73899ca9b7d8f26c7a5c09735160248ba75c878
     "metadata": {},
     "output_type": "execute_result"
    }
   ],
   "source": [
    "import nltk \n",
    "nltk.download('vader_lexicon')"
   ]
  },
  {
   "cell_type": "code",
<<<<<<< HEAD
   "execution_count": 29,
=======
   "execution_count": 37,
>>>>>>> f73899ca9b7d8f26c7a5c09735160248ba75c878
   "id": "bebdc444-95f2-4a7d-b4d4-8d0d81d876c6",
   "metadata": {
    "tags": []
   },
   "outputs": [],
   "source": [
    "from nltk.sentiment import SentimentIntensityAnalyzer\n",
    "from tqdm.notebook import tqdm\n",
    "\n",
    "sia = SentimentIntensityAnalyzer()"
   ]
  },
  {
   "cell_type": "markdown",
   "id": "1c0758fb-6c33-437a-b66a-07a7042e5a80",
   "metadata": {},
   "source": [
    "* Let's apply it on an example comment."
   ]
  },
  {
   "cell_type": "code",
   "execution_count": 31,
   "id": "b93b8a01-2b1c-4b34-8957-e27f746890f0",
   "metadata": {
    "tags": []
   },
   "outputs": [
    {
     "name": "stdout",
     "output_type": "stream",
     "text": [
      "Support There are plenty of important roles on this project, of which content creator is only one of them. BDD has done good work over a number of years. That his primary activity is not content creation is not of concern.\n",
      "Scores =  {'neg': 0.04, 'neu': 0.769, 'pos': 0.191, 'compound': 0.7083}\n"
     ]
    }
   ],
   "source": [
    "ex = wiki_copy.iloc[5]['CLE']\n",
    "print(ex)\n",
    "print('Scores = ', sia.polarity_scores(ex),end='\\n')"
   ]
  },
  {
   "cell_type": "markdown",
   "id": "81f1dc07-34fe-4d7b-bacf-9de3b6d88380",
   "metadata": {},
   "source": [
    "VADER sentiment analysis provides sentiment scores for text: negative(neg), neutral(neu), positive(pos) and compound scores. \n",
    "\n",
    "The compound score takes values from -1 to 1, with values closer to -1 indicating negativity, 0 for neutrality and 1 for positivity. "
   ]
  },
  {
   "cell_type": "code",
<<<<<<< HEAD
   "execution_count": 32,
=======
   "execution_count": 38,
>>>>>>> f73899ca9b7d8f26c7a5c09735160248ba75c878
   "id": "0c18e36f-01ce-45aa-ab84-d2e55cb6986d",
   "metadata": {
    "tags": []
   },
   "outputs": [],
   "source": [
    "scores = {}\n",
    "for i, row in wiki_copy.iterrows(): \n",
    "    scores[i] = sia.polarity_scores(row['CLE'])"
   ]
  },
  {
   "cell_type": "code",
<<<<<<< HEAD
   "execution_count": 33,
=======
   "execution_count": 44,
>>>>>>> f73899ca9b7d8f26c7a5c09735160248ba75c878
   "id": "6a2a3689-6673-4d7d-b9ff-2c6f6a269fad",
   "metadata": {
    "tags": []
   },
   "outputs": [],
   "source": [
    "scores_df = pd.DataFrame(scores).T"
   ]
  },
  {
   "cell_type": "code",
<<<<<<< HEAD
   "execution_count": 34,
=======
   "execution_count": 45,
>>>>>>> f73899ca9b7d8f26c7a5c09735160248ba75c878
   "id": "bb76d9ab-496b-4041-a0d7-6cbc87ccdf3a",
   "metadata": {
    "tags": []
   },
   "outputs": [
    {
     "data": {
      "text/html": [
       "<div>\n",
       "<style scoped>\n",
       "    .dataframe tbody tr th:only-of-type {\n",
       "        vertical-align: middle;\n",
       "    }\n",
       "\n",
       "    .dataframe tbody tr th {\n",
       "        vertical-align: top;\n",
       "    }\n",
       "\n",
       "    .dataframe thead th {\n",
       "        text-align: right;\n",
       "    }\n",
       "</style>\n",
       "<table border=\"1\" class=\"dataframe\">\n",
       "  <thead>\n",
       "    <tr style=\"text-align: right;\">\n",
       "      <th></th>\n",
       "      <th>neg</th>\n",
       "      <th>neu</th>\n",
       "      <th>pos</th>\n",
       "      <th>compound</th>\n",
       "    </tr>\n",
       "  </thead>\n",
       "  <tbody>\n",
       "    <tr>\n",
       "      <th>0</th>\n",
       "      <td>0.000</td>\n",
       "      <td>0.426</td>\n",
       "      <td>0.574</td>\n",
       "      <td>0.4019</td>\n",
       "    </tr>\n",
       "    <tr>\n",
       "      <th>1</th>\n",
       "      <td>0.000</td>\n",
       "      <td>0.426</td>\n",
       "      <td>0.574</td>\n",
       "      <td>0.4019</td>\n",
       "    </tr>\n",
       "    <tr>\n",
       "      <th>2</th>\n",
       "      <td>0.000</td>\n",
       "      <td>0.426</td>\n",
       "      <td>0.574</td>\n",
       "      <td>0.4019</td>\n",
       "    </tr>\n",
       "    <tr>\n",
       "      <th>3</th>\n",
       "      <td>0.176</td>\n",
       "      <td>0.504</td>\n",
       "      <td>0.320</td>\n",
       "      <td>0.6124</td>\n",
       "    </tr>\n",
       "    <tr>\n",
       "      <th>4</th>\n",
       "      <td>0.000</td>\n",
       "      <td>0.612</td>\n",
       "      <td>0.388</td>\n",
       "      <td>0.9349</td>\n",
       "    </tr>\n",
       "    <tr>\n",
       "      <th>5</th>\n",
       "      <td>0.040</td>\n",
       "      <td>0.769</td>\n",
       "      <td>0.191</td>\n",
       "      <td>0.7083</td>\n",
       "    </tr>\n",
       "    <tr>\n",
       "      <th>6</th>\n",
       "      <td>0.000</td>\n",
       "      <td>0.722</td>\n",
       "      <td>0.278</td>\n",
       "      <td>0.4019</td>\n",
       "    </tr>\n",
       "    <tr>\n",
       "      <th>7</th>\n",
       "      <td>0.022</td>\n",
       "      <td>0.848</td>\n",
       "      <td>0.130</td>\n",
       "      <td>0.8850</td>\n",
       "    </tr>\n",
       "    <tr>\n",
       "      <th>8</th>\n",
       "      <td>0.058</td>\n",
       "      <td>0.665</td>\n",
       "      <td>0.278</td>\n",
       "      <td>0.9801</td>\n",
       "    </tr>\n",
       "    <tr>\n",
       "      <th>9</th>\n",
       "      <td>0.172</td>\n",
       "      <td>0.391</td>\n",
       "      <td>0.437</td>\n",
       "      <td>0.5267</td>\n",
       "    </tr>\n",
       "  </tbody>\n",
       "</table>\n",
       "</div>"
      ],
      "text/plain": [
       "     neg    neu    pos  compound\n",
       "0  0.000  0.426  0.574    0.4019\n",
       "1  0.000  0.426  0.574    0.4019\n",
       "2  0.000  0.426  0.574    0.4019\n",
       "3  0.176  0.504  0.320    0.6124\n",
       "4  0.000  0.612  0.388    0.9349\n",
       "5  0.040  0.769  0.191    0.7083\n",
       "6  0.000  0.722  0.278    0.4019\n",
       "7  0.022  0.848  0.130    0.8850\n",
       "8  0.058  0.665  0.278    0.9801\n",
       "9  0.172  0.391  0.437    0.5267"
      ]
     },
<<<<<<< HEAD
     "execution_count": 34,
=======
     "execution_count": 45,
>>>>>>> f73899ca9b7d8f26c7a5c09735160248ba75c878
     "metadata": {},
     "output_type": "execute_result"
    }
   ],
   "source": [
    "scores_df.head(10)"
   ]
  },
  {
   "cell_type": "code",
<<<<<<< HEAD
   "execution_count": 35,
=======
   "execution_count": 47,
>>>>>>> f73899ca9b7d8f26c7a5c09735160248ba75c878
   "id": "e9ba28ab-c5c0-474e-8806-950312ce4729",
   "metadata": {
    "tags": []
   },
   "outputs": [
    {
     "data": {
      "text/html": [
       "<div>\n",
       "<style scoped>\n",
       "    .dataframe tbody tr th:only-of-type {\n",
       "        vertical-align: middle;\n",
       "    }\n",
       "\n",
       "    .dataframe tbody tr th {\n",
       "        vertical-align: top;\n",
       "    }\n",
       "\n",
       "    .dataframe thead th {\n",
       "        text-align: right;\n",
       "    }\n",
       "</style>\n",
       "<table border=\"1\" class=\"dataframe\">\n",
       "  <thead>\n",
       "    <tr style=\"text-align: right;\">\n",
       "      <th></th>\n",
       "      <th>SRC</th>\n",
       "      <th>TGT</th>\n",
       "      <th>VOT</th>\n",
       "      <th>RES</th>\n",
       "      <th>YEA</th>\n",
       "      <th>DAT</th>\n",
       "      <th>TXT</th>\n",
       "      <th>ELECTION_ID</th>\n",
       "      <th>CLE</th>\n",
       "      <th>neg</th>\n",
       "      <th>neu</th>\n",
       "      <th>pos</th>\n",
       "      <th>compound</th>\n",
       "    </tr>\n",
       "  </thead>\n",
       "  <tbody>\n",
       "    <tr>\n",
<<<<<<< HEAD
       "      <th>30027</th>\n",
       "      <td>Townlake</td>\n",
       "      <td>Marcus Qwertyus</td>\n",
       "      <td>-1</td>\n",
       "      <td>0</td>\n",
       "      <td>2010</td>\n",
       "      <td>2010-07-20 02:04:00</td>\n",
       "      <td>'''Oppose''' Jansport oppose. Suggest withdrawal.</td>\n",
       "      <td>413</td>\n",
       "      <td>Oppose Jansport oppose. Suggest withdrawal.</td>\n",
       "      <td>0.000</td>\n",
       "      <td>0.784</td>\n",
       "      <td>0.216</td>\n",
       "      <td>0.0258</td>\n",
       "    </tr>\n",
       "    <tr>\n",
       "      <th>10652</th>\n",
       "      <td>GreatOrangePumpkin</td>\n",
       "      <td>Bahamut0013</td>\n",
       "      <td>1</td>\n",
       "      <td>1</td>\n",
       "      <td>2011</td>\n",
       "      <td>2011-04-12 16:12:00</td>\n",
       "      <td>'''Support''' Excellent, neater, trustworthy, ...</td>\n",
       "      <td>133</td>\n",
       "      <td>Support Excellent, neater, trustworthy, happy ...</td>\n",
       "      <td>0.000</td>\n",
       "      <td>0.565</td>\n",
       "      <td>0.435</td>\n",
       "      <td>0.9626</td>\n",
       "    </tr>\n",
       "    <tr>\n",
       "      <th>68205</th>\n",
       "      <td>SWik78</td>\n",
       "      <td>Smashville</td>\n",
       "      <td>1</td>\n",
       "      <td>1</td>\n",
       "      <td>2008</td>\n",
       "      <td>2008-08-29 14:07:00</td>\n",
       "      <td>'''Support''' No reason for alarm.</td>\n",
       "      <td>977</td>\n",
       "      <td>Support No reason for alarm.</td>\n",
       "      <td>0.495</td>\n",
       "      <td>0.215</td>\n",
       "      <td>0.290</td>\n",
       "      <td>-0.2263</td>\n",
       "    </tr>\n",
       "    <tr>\n",
       "      <th>129983</th>\n",
       "      <td>Digitalme</td>\n",
       "      <td>Carnildo</td>\n",
       "      <td>1</td>\n",
       "      <td>1</td>\n",
       "      <td>2006</td>\n",
       "      <td>2006-09-02 00:29:00</td>\n",
       "      <td>'''Support''' not much else left to say here.-...</td>\n",
       "      <td>2239</td>\n",
       "      <td>Support not much else left to say here.</td>\n",
       "      <td>0.000</td>\n",
       "      <td>0.722</td>\n",
       "      <td>0.278</td>\n",
       "      <td>0.4019</td>\n",
       "    </tr>\n",
       "    <tr>\n",
       "      <th>59981</th>\n",
       "      <td>Addhoc</td>\n",
       "      <td>Hdt83</td>\n",
       "      <td>1</td>\n",
       "      <td>1</td>\n",
       "      <td>2008</td>\n",
       "      <td>2008-01-23 20:29:00</td>\n",
       "      <td>'''Support''' - trustworthy editor.</td>\n",
       "      <td>882</td>\n",
       "      <td>Support - trustworthy editor.</td>\n",
       "      <td>0.000</td>\n",
       "      <td>0.137</td>\n",
       "      <td>0.863</td>\n",
       "      <td>0.7430</td>\n",
       "    </tr>\n",
       "    <tr>\n",
       "      <th>158655</th>\n",
       "      <td>Persian Poet Gal</td>\n",
       "      <td>exvicious</td>\n",
       "      <td>0</td>\n",
       "      <td>0</td>\n",
       "      <td>2006</td>\n",
       "      <td>2006-11-20 19:05:00</td>\n",
       "      <td>'''Neutral''' I admire those who desire to be ...</td>\n",
       "      <td>2681</td>\n",
       "      <td>Neutral I admire those who desire to be anti-v...</td>\n",
       "      <td>0.036</td>\n",
       "      <td>0.739</td>\n",
       "      <td>0.224</td>\n",
       "      <td>0.9182</td>\n",
       "    </tr>\n",
       "    <tr>\n",
       "      <th>128001</th>\n",
       "      <td>Sarah Ewart</td>\n",
       "      <td>Avraham</td>\n",
       "      <td>1</td>\n",
       "      <td>1</td>\n",
       "      <td>2006</td>\n",
       "      <td>2006-07-02 13:05:00</td>\n",
       "      <td>'''Support'''</td>\n",
       "      <td>2217</td>\n",
       "      <td>Support</td>\n",
       "      <td>0.000</td>\n",
       "      <td>0.000</td>\n",
       "      <td>1.000</td>\n",
       "      <td>0.4019</td>\n",
       "    </tr>\n",
       "    <tr>\n",
       "      <th>113884</th>\n",
       "      <td>CComMack</td>\n",
       "      <td>Dark Dragon Flame</td>\n",
       "      <td>1</td>\n",
       "      <td>0</td>\n",
       "      <td>2007</td>\n",
       "      <td>2007-05-03 10:59:00</td>\n",
       "      <td>'''Support'''.  I trust this user to not screw...</td>\n",
       "      <td>1835</td>\n",
       "      <td>Support.  I trust this user to not screw up wi...</td>\n",
       "      <td>0.000</td>\n",
       "      <td>0.523</td>\n",
       "      <td>0.477</td>\n",
       "      <td>0.7427</td>\n",
       "    </tr>\n",
       "    <tr>\n",
       "      <th>136213</th>\n",
       "      <td>Wezzo</td>\n",
       "      <td>HereToHelp</td>\n",
       "      <td>1</td>\n",
       "      <td>1</td>\n",
       "      <td>2006</td>\n",
       "      <td>2006-03-25 20:51:00</td>\n",
       "      <td>'''Support''' A great editor, the perfect user...</td>\n",
       "      <td>2321</td>\n",
       "      <td>Support A great editor, the perfect user to be...</td>\n",
       "      <td>0.000</td>\n",
       "      <td>0.400</td>\n",
       "      <td>0.600</td>\n",
       "      <td>0.8885</td>\n",
       "    </tr>\n",
       "    <tr>\n",
       "      <th>44587</th>\n",
       "      <td>Jafeluv</td>\n",
       "      <td>A new name 2008</td>\n",
       "      <td>1</td>\n",
       "      <td>0</td>\n",
       "      <td>2009</td>\n",
       "      <td>2009-09-14 12:52:00</td>\n",
       "      <td>I trust &lt;s&gt;the Pastor&lt;/s&gt; Thatcher, and see no...</td>\n",
       "      <td>603</td>\n",
       "      <td>I trust the Pastor Thatcher, and see no reason...</td>\n",
       "      <td>0.079</td>\n",
       "      <td>0.469</td>\n",
       "      <td>0.451</td>\n",
       "      <td>0.8834</td>\n",
=======
       "      <th>78319</th>\n",
       "      <td>RyanGerbil10</td>\n",
       "      <td>Malleus Fatuarum</td>\n",
       "      <td>-1</td>\n",
       "      <td>0</td>\n",
       "      <td>2008</td>\n",
       "      <td>2008-05-19 15:17:00</td>\n",
       "      <td>'''&lt;s&gt;No.&lt;/s&gt;''' The candidate's behavior on t...</td>\n",
       "      <td>1189</td>\n",
       "      <td>No. The candidate's behavior on this very page...</td>\n",
       "      <td>0.197</td>\n",
       "      <td>0.672</td>\n",
       "      <td>0.130</td>\n",
       "      <td>-0.1531</td>\n",
       "    </tr>\n",
       "    <tr>\n",
       "      <th>47125</th>\n",
       "      <td>Terrillja</td>\n",
       "      <td>FredSmit</td>\n",
       "      <td>-1</td>\n",
       "      <td>0</td>\n",
       "      <td>2009</td>\n",
       "      <td>2009-04-13 16:54:00</td>\n",
       "      <td>'''Oppose, for now''' Sorry, but there is no w...</td>\n",
       "      <td>661</td>\n",
       "      <td>Oppose, for now Sorry, but there is no way to ...</td>\n",
       "      <td>0.070</td>\n",
       "      <td>0.828</td>\n",
       "      <td>0.102</td>\n",
       "      <td>0.6313</td>\n",
       "    </tr>\n",
       "    <tr>\n",
       "      <th>107727</th>\n",
       "      <td>John254</td>\n",
       "      <td>TeaDrinker</td>\n",
       "      <td>1</td>\n",
       "      <td>1</td>\n",
       "      <td>2007</td>\n",
       "      <td>2007-11-12 03:12:00</td>\n",
       "      <td>'''Support'''</td>\n",
       "      <td>1704</td>\n",
       "      <td>Support</td>\n",
       "      <td>0.000</td>\n",
       "      <td>0.000</td>\n",
       "      <td>1.000</td>\n",
       "      <td>0.4019</td>\n",
       "    </tr>\n",
       "    <tr>\n",
       "      <th>47020</th>\n",
       "      <td>Pascal.Tesson</td>\n",
       "      <td>FlyingToaster</td>\n",
       "      <td>1</td>\n",
       "      <td>0</td>\n",
       "      <td>2009</td>\n",
       "      <td>2009-02-20 18:33:00</td>\n",
       "      <td>'''Support''' I'm not happy about the sloppy t...</td>\n",
       "      <td>660</td>\n",
       "      <td>Support I'm not happy about the sloppy tagging...</td>\n",
       "      <td>0.119</td>\n",
       "      <td>0.717</td>\n",
       "      <td>0.165</td>\n",
       "      <td>0.5501</td>\n",
       "    </tr>\n",
       "    <tr>\n",
       "      <th>146042</th>\n",
       "      <td>Go for it!</td>\n",
       "      <td>Redvers</td>\n",
       "      <td>1</td>\n",
       "      <td>1</td>\n",
       "      <td>2006</td>\n",
       "      <td>2006-03-20 17:44:00</td>\n",
       "      <td>{{User:Go for it!/Vote Support}} I'm impressed...</td>\n",
       "      <td>2447</td>\n",
       "      <td>I'm impressed.</td>\n",
       "      <td>0.000</td>\n",
       "      <td>0.244</td>\n",
       "      <td>0.756</td>\n",
       "      <td>0.4767</td>\n",
       "    </tr>\n",
       "    <tr>\n",
       "      <th>43457</th>\n",
       "      <td>Lankiveil</td>\n",
       "      <td>TheDJ</td>\n",
       "      <td>1</td>\n",
       "      <td>1</td>\n",
       "      <td>2009</td>\n",
       "      <td>2009-04-23 03:54:00</td>\n",
       "      <td>'''Support''', no evidence or indication that ...</td>\n",
       "      <td>589</td>\n",
       "      <td>Support, no evidence or indication that this u...</td>\n",
       "      <td>0.354</td>\n",
       "      <td>0.497</td>\n",
       "      <td>0.149</td>\n",
       "      <td>-0.5719</td>\n",
       "    </tr>\n",
       "    <tr>\n",
       "      <th>43818</th>\n",
       "      <td>Calmer Waters</td>\n",
       "      <td>Ucucha</td>\n",
       "      <td>1</td>\n",
       "      <td>1</td>\n",
       "      <td>2009</td>\n",
       "      <td>2009-12-08 07:00:00</td>\n",
       "      <td>'''Support''' Has shown to be trustworthy in h...</td>\n",
       "      <td>593</td>\n",
       "      <td>Support Has shown to be trustworthy in his jud...</td>\n",
       "      <td>0.075</td>\n",
       "      <td>0.733</td>\n",
       "      <td>0.192</td>\n",
       "      <td>0.8989</td>\n",
       "    </tr>\n",
       "    <tr>\n",
       "      <th>177759</th>\n",
       "      <td>Brian0918</td>\n",
       "      <td>Ixfd64</td>\n",
       "      <td>1</td>\n",
       "      <td>1</td>\n",
       "      <td>2005</td>\n",
       "      <td>NaT</td>\n",
       "      <td>&lt;small&gt;</td>\n",
       "      <td>3166</td>\n",
       "      <td></td>\n",
       "      <td>0.000</td>\n",
       "      <td>0.000</td>\n",
       "      <td>0.000</td>\n",
       "      <td>0.0000</td>\n",
       "    </tr>\n",
       "    <tr>\n",
       "      <th>176922</th>\n",
       "      <td>Kirill Lokshin</td>\n",
       "      <td>Gurubrahma</td>\n",
       "      <td>1</td>\n",
       "      <td>1</td>\n",
       "      <td>2005</td>\n",
       "      <td>2005-11-29 21:02:00</td>\n",
       "      <td>'''Support'''.</td>\n",
       "      <td>3146</td>\n",
       "      <td>Support.</td>\n",
       "      <td>0.000</td>\n",
       "      <td>0.000</td>\n",
       "      <td>1.000</td>\n",
       "      <td>0.4019</td>\n",
       "    </tr>\n",
       "    <tr>\n",
       "      <th>116904</th>\n",
       "      <td>Jack</td>\n",
       "      <td>Ibaranoff24</td>\n",
       "      <td>-1</td>\n",
       "      <td>0</td>\n",
       "      <td>2007</td>\n",
       "      <td>2007-12-23 19:17:00</td>\n",
       "      <td>'''Oppose''' per the answers to questions not ...</td>\n",
       "      <td>1913</td>\n",
       "      <td>Oppose per the answers to questions not doing ...</td>\n",
       "      <td>0.000</td>\n",
       "      <td>1.000</td>\n",
       "      <td>0.000</td>\n",
       "      <td>0.0000</td>\n",
>>>>>>> f73899ca9b7d8f26c7a5c09735160248ba75c878
       "    </tr>\n",
       "  </tbody>\n",
       "</table>\n",
       "</div>"
      ],
      "text/plain": [
<<<<<<< HEAD
       "                       SRC                TGT  VOT  RES   YEA  \\\n",
       "30027             Townlake    Marcus Qwertyus   -1    0  2010   \n",
       "10652   GreatOrangePumpkin        Bahamut0013    1    1  2011   \n",
       "68205               SWik78         Smashville    1    1  2008   \n",
       "129983           Digitalme           Carnildo    1    1  2006   \n",
       "59981               Addhoc              Hdt83    1    1  2008   \n",
       "158655    Persian Poet Gal          exvicious    0    0  2006   \n",
       "128001         Sarah Ewart            Avraham    1    1  2006   \n",
       "113884            CComMack  Dark Dragon Flame    1    0  2007   \n",
       "136213               Wezzo         HereToHelp    1    1  2006   \n",
       "44587              Jafeluv    A new name 2008    1    0  2009   \n",
       "\n",
       "                       DAT                                                TXT  \\\n",
       "30027  2010-07-20 02:04:00  '''Oppose''' Jansport oppose. Suggest withdrawal.   \n",
       "10652  2011-04-12 16:12:00  '''Support''' Excellent, neater, trustworthy, ...   \n",
       "68205  2008-08-29 14:07:00                 '''Support''' No reason for alarm.   \n",
       "129983 2006-09-02 00:29:00  '''Support''' not much else left to say here.-...   \n",
       "59981  2008-01-23 20:29:00                '''Support''' - trustworthy editor.   \n",
       "158655 2006-11-20 19:05:00  '''Neutral''' I admire those who desire to be ...   \n",
       "128001 2006-07-02 13:05:00                                      '''Support'''   \n",
       "113884 2007-05-03 10:59:00  '''Support'''.  I trust this user to not screw...   \n",
       "136213 2006-03-25 20:51:00  '''Support''' A great editor, the perfect user...   \n",
       "44587  2009-09-14 12:52:00  I trust <s>the Pastor</s> Thatcher, and see no...   \n",
       "\n",
       "        ELECTION_ID                                                CLE    neg  \\\n",
       "30027           413        Oppose Jansport oppose. Suggest withdrawal.  0.000   \n",
       "10652           133  Support Excellent, neater, trustworthy, happy ...  0.000   \n",
       "68205           977                       Support No reason for alarm.  0.495   \n",
       "129983         2239           Support not much else left to say here.   0.000   \n",
       "59981           882                      Support - trustworthy editor.  0.000   \n",
       "158655         2681  Neutral I admire those who desire to be anti-v...  0.036   \n",
       "128001         2217                                            Support  0.000   \n",
       "113884         1835  Support.  I trust this user to not screw up wi...  0.000   \n",
       "136213         2321  Support A great editor, the perfect user to be...  0.000   \n",
       "44587           603  I trust the Pastor Thatcher, and see no reason...  0.079   \n",
       "\n",
       "          neu    pos  compound  \n",
       "30027   0.784  0.216    0.0258  \n",
       "10652   0.565  0.435    0.9626  \n",
       "68205   0.215  0.290   -0.2263  \n",
       "129983  0.722  0.278    0.4019  \n",
       "59981   0.137  0.863    0.7430  \n",
       "158655  0.739  0.224    0.9182  \n",
       "128001  0.000  1.000    0.4019  \n",
       "113884  0.523  0.477    0.7427  \n",
       "136213  0.400  0.600    0.8885  \n",
       "44587   0.469  0.451    0.8834  "
      ]
     },
     "execution_count": 35,
=======
       "                   SRC               TGT  VOT  RES   YEA                 DAT  \\\n",
       "78319     RyanGerbil10  Malleus Fatuarum   -1    0  2008 2008-05-19 15:17:00   \n",
       "47125        Terrillja          FredSmit   -1    0  2009 2009-04-13 16:54:00   \n",
       "107727         John254        TeaDrinker    1    1  2007 2007-11-12 03:12:00   \n",
       "47020    Pascal.Tesson     FlyingToaster    1    0  2009 2009-02-20 18:33:00   \n",
       "146042      Go for it!           Redvers    1    1  2006 2006-03-20 17:44:00   \n",
       "43457        Lankiveil             TheDJ    1    1  2009 2009-04-23 03:54:00   \n",
       "43818    Calmer Waters            Ucucha    1    1  2009 2009-12-08 07:00:00   \n",
       "177759       Brian0918            Ixfd64    1    1  2005                 NaT   \n",
       "176922  Kirill Lokshin        Gurubrahma    1    1  2005 2005-11-29 21:02:00   \n",
       "116904            Jack       Ibaranoff24   -1    0  2007 2007-12-23 19:17:00   \n",
       "\n",
       "                                                      TXT  ELECTION_ID  \\\n",
       "78319   '''<s>No.</s>''' The candidate's behavior on t...         1189   \n",
       "47125   '''Oppose, for now''' Sorry, but there is no w...          661   \n",
       "107727                                      '''Support'''         1704   \n",
       "47020   '''Support''' I'm not happy about the sloppy t...          660   \n",
       "146042  {{User:Go for it!/Vote Support}} I'm impressed...         2447   \n",
       "43457   '''Support''', no evidence or indication that ...          589   \n",
       "43818   '''Support''' Has shown to be trustworthy in h...          593   \n",
       "177759                                            <small>         3166   \n",
       "176922                                     '''Support'''.         3146   \n",
       "116904  '''Oppose''' per the answers to questions not ...         1913   \n",
       "\n",
       "                                                      CLE    neg    neu  \\\n",
       "78319   No. The candidate's behavior on this very page...  0.197  0.672   \n",
       "47125   Oppose, for now Sorry, but there is no way to ...  0.070  0.828   \n",
       "107727                                            Support  0.000  0.000   \n",
       "47020   Support I'm not happy about the sloppy tagging...  0.119  0.717   \n",
       "146042                                   I'm impressed.    0.000  0.244   \n",
       "43457   Support, no evidence or indication that this u...  0.354  0.497   \n",
       "43818   Support Has shown to be trustworthy in his jud...  0.075  0.733   \n",
       "177759                                                     0.000  0.000   \n",
       "176922                                           Support.  0.000  0.000   \n",
       "116904  Oppose per the answers to questions not doing ...  0.000  1.000   \n",
       "\n",
       "          pos  compound  \n",
       "78319   0.130   -0.1531  \n",
       "47125   0.102    0.6313  \n",
       "107727  1.000    0.4019  \n",
       "47020   0.165    0.5501  \n",
       "146042  0.756    0.4767  \n",
       "43457   0.149   -0.5719  \n",
       "43818   0.192    0.8989  \n",
       "177759  0.000    0.0000  \n",
       "176922  1.000    0.4019  \n",
       "116904  0.000    0.0000  "
      ]
     },
     "execution_count": 47,
>>>>>>> f73899ca9b7d8f26c7a5c09735160248ba75c878
     "metadata": {},
     "output_type": "execute_result"
    }
   ],
   "source": [
<<<<<<< HEAD
    "# Merge the two dataframes\n",
=======
    "# Merging the two dataframes\n",
>>>>>>> f73899ca9b7d8f26c7a5c09735160248ba75c878
    "wiki_with_scores = pd.concat([wiki_copy, scores_df], axis = 1)\n",
    "wiki_with_scores.sample(10)"
   ]
  },
  {
   "cell_type": "code",
<<<<<<< HEAD
   "execution_count": 39,
=======
   "execution_count": 48,
>>>>>>> f73899ca9b7d8f26c7a5c09735160248ba75c878
   "id": "8296dcc1-3370-4adb-8f47-7cbbcef1af9c",
   "metadata": {
    "tags": []
   },
   "outputs": [
    {
     "data": {
      "text/plain": [
       "9387"
      ]
     },
<<<<<<< HEAD
     "execution_count": 39,
=======
     "execution_count": 48,
>>>>>>> f73899ca9b7d8f26c7a5c09735160248ba75c878
     "metadata": {},
     "output_type": "execute_result"
    }
   ],
   "source": [
    "# Replace empty comments by NaN\n",
    "# in order to remove them \n",
    "wiki_with_scores['CLE'].replace('', np.nan, inplace=True) \n",
    "wiki_with_scores['CLE'].isnull().sum()"
   ]
  },
  {
   "cell_type": "code",
<<<<<<< HEAD
   "execution_count": 41,
=======
   "execution_count": 49,
>>>>>>> f73899ca9b7d8f26c7a5c09735160248ba75c878
   "id": "b04624ba-3ee3-4054-8276-c95804d7c88c",
   "metadata": {
    "tags": []
   },
   "outputs": [
    {
     "data": {
<<<<<<< HEAD
      "image/png": "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",
=======
      "image/png": "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",
>>>>>>> f73899ca9b7d8f26c7a5c09735160248ba75c878
      "text/plain": [
       "<Figure size 1200x300 with 4 Axes>"
      ]
     },
     "metadata": {},
     "output_type": "display_data"
    }
   ],
   "source": [
    "wiki_cle_dropna = wiki_with_scores.dropna(subset = 'CLE') # remove empty comments \n",
    "fig, axs = plt.subplots(1, 4, figsize=(12, 3),  sharey = True)\n",
    "sns.barplot(data=wiki_cle_dropna, x='VOT', y='pos', ax=axs[0])\n",
    "sns.barplot(data=wiki_cle_dropna, x='VOT', y='neu', ax=axs[1])\n",
    "sns.barplot(data=wiki_cle_dropna, x='VOT', y='neg', ax=axs[2])\n",
    "sns.barplot(data=wiki_cle_dropna, x='VOT', y='compound', ax=axs[3])\n",
    "axs[0].set_title('Positive')\n",
    "axs[1].set_title('Neutral')\n",
    "axs[2].set_title('Negative')\n",
    "axs[3].set_title('Compound')\n",
    "plt.tight_layout()\n",
    "plt.show()"
   ]
  },
  {
   "cell_type": "markdown",
   "id": "860cc6be-ec86-4f69-80c1-99fee4319ed2",
   "metadata": {},
   "source": [
    "Considering the Compound score that merges negative, neutral and positive scores, we can conclude that there is consistency on average between the votes and the associated comments."
   ]
  },
  {
   "cell_type": "code",
   "execution_count": 43,
   "id": "c2ae9746-e739-4200-aba5-510f91e92568",
   "metadata": {
    "tags": []
   },
   "outputs": [
    {
     "data": {
      "text/html": [
       "<div>\n",
       "<style scoped>\n",
       "    .dataframe tbody tr th:only-of-type {\n",
       "        vertical-align: middle;\n",
       "    }\n",
       "\n",
       "    .dataframe tbody tr th {\n",
       "        vertical-align: top;\n",
       "    }\n",
       "\n",
       "    .dataframe thead th {\n",
       "        text-align: right;\n",
       "    }\n",
       "</style>\n",
       "<table border=\"1\" class=\"dataframe\">\n",
       "  <thead>\n",
       "    <tr style=\"text-align: right;\">\n",
       "      <th></th>\n",
       "      <th>YEA</th>\n",
       "      <th>VOT</th>\n",
       "      <th>compound</th>\n",
       "    </tr>\n",
       "  </thead>\n",
       "  <tbody>\n",
       "    <tr>\n",
       "      <th>0</th>\n",
       "      <td>2003</td>\n",
       "      <td>-1</td>\n",
       "      <td>-0.020150</td>\n",
       "    </tr>\n",
       "    <tr>\n",
       "      <th>1</th>\n",
       "      <td>2003</td>\n",
       "      <td>0</td>\n",
       "      <td>0.000000</td>\n",
       "    </tr>\n",
       "    <tr>\n",
       "      <th>2</th>\n",
       "      <td>2003</td>\n",
       "      <td>1</td>\n",
       "      <td>0.466455</td>\n",
       "    </tr>\n",
       "    <tr>\n",
       "      <th>3</th>\n",
       "      <td>2004</td>\n",
       "      <td>-1</td>\n",
       "      <td>0.076583</td>\n",
       "    </tr>\n",
       "    <tr>\n",
       "      <th>4</th>\n",
       "      <td>2004</td>\n",
       "      <td>0</td>\n",
       "      <td>0.192388</td>\n",
       "    </tr>\n",
       "    <tr>\n",
       "      <th>5</th>\n",
       "      <td>2004</td>\n",
       "      <td>1</td>\n",
       "      <td>0.399298</td>\n",
       "    </tr>\n",
       "    <tr>\n",
       "      <th>6</th>\n",
       "      <td>2005</td>\n",
       "      <td>-1</td>\n",
       "      <td>0.058232</td>\n",
       "    </tr>\n",
       "    <tr>\n",
       "      <th>7</th>\n",
       "      <td>2005</td>\n",
       "      <td>0</td>\n",
       "      <td>0.254654</td>\n",
       "    </tr>\n",
       "    <tr>\n",
       "      <th>8</th>\n",
       "      <td>2005</td>\n",
       "      <td>1</td>\n",
       "      <td>0.493900</td>\n",
       "    </tr>\n",
       "  </tbody>\n",
       "</table>\n",
       "</div>"
      ],
      "text/plain": [
       "    YEA  VOT  compound\n",
       "0  2003   -1 -0.020150\n",
       "1  2003    0  0.000000\n",
       "2  2003    1  0.466455\n",
       "3  2004   -1  0.076583\n",
       "4  2004    0  0.192388\n",
       "5  2004    1  0.399298\n",
       "6  2005   -1  0.058232\n",
       "7  2005    0  0.254654\n",
       "8  2005    1  0.493900"
      ]
     },
     "execution_count": 43,
     "metadata": {},
     "output_type": "execute_result"
    }
   ],
   "source": [
    "compound_per_year = wiki_cle_dropna.groupby(['YEA', 'VOT'])['compound'].mean().reset_index()\n",
    "compound_per_year.head(9)"
   ]
  },
  {
   "cell_type": "code",
   "execution_count": 44,
   "id": "0313b546-6baa-4b2a-b5c4-2eb39a9f387a",
   "metadata": {
    "tags": []
   },
   "outputs": [
    {
     "data": {
      "text/plain": [
       "<matplotlib.legend.Legend at 0x7f195ff5f700>"
      ]
     },
     "execution_count": 44,
     "metadata": {},
     "output_type": "execute_result"
    },
    {
     "data": {
      "image/png": "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",
      "text/plain": [
       "<Figure size 1000x500 with 1 Axes>"
      ]
     },
     "metadata": {},
     "output_type": "display_data"
    }
   ],
   "source": [
    "plt.figure(figsize=(10, 5))\n",
    "\n",
    "for vot in [-1, 0, 1]: \n",
    "    sub_df = compound_per_year[compound_per_year['VOT'] == vot]\n",
    "    plt.plot(sub_df['YEA'], sub_df['compound'], label = 'VOT = '+ str(vot))\n",
    "\n",
    "plt.title('Average Compound Associated to the Different Types of Votes per Year')\n",
    "plt.xticks(np.arange(2003, 2014))\n",
    "plt.xlabel('Year')\n",
    "plt.ylabel('Average Compound')\n",
    "plt.grid()\n",
    "plt.legend()"
   ]
  },
  {
   "cell_type": "markdown",
   "id": "0403cdbc-995f-405e-9237-7227b061451f",
   "metadata": {},
   "source": [
    "* For each year, the conclusion of consistency is still available. Therefore, generally, people tend to leave comments accordingly to their vote choice."
   ]
  },
  {
   "cell_type": "markdown",
   "id": "1b0e2556-11fa-4768-b862-572c50d93b70",
   "metadata": {},
   "source": [
    "# Sentiment analysis with TextBlob"
   ]
  },
  {
   "cell_type": "markdown",
   "id": "0e666fee-6a5d-4f03-bfdd-b7f159594918",
   "metadata": {},
   "source": [
    "We use TextBlob library to get the sentiment polarity and subjectivity of each comment. Polarity between -1 (bad) and +1 (good) and subjectivity between 0 (objective) and 1 (subjective).\n",
    "\n",
    "To achieve that, we have to do additional processing on the comments. "
   ]
  },
  {
   "cell_type": "code",
   "execution_count": 47,
   "id": "c5c7c6bd-985a-4fab-b7d7-6aa168868b50",
   "metadata": {
    "tags": []
   },
   "outputs": [],
   "source": [
    "def nlp_pipeline(text):\n",
    "    '''\n",
    "    performs several text preprocessing steps\n",
    "    '''\n",
    "    text = text.lower()\n",
    "    text = text.replace('\\n', ' ').replace('\\r', '')\n",
    "    text = ' '.join(text.split())\n",
    "    text = re.sub(r\"[A-Za-z\\.]*[0-9]+[A-Za-z%°\\.]*\", \"\", text)\n",
    "    text = re.sub(r\"(\\s\\-\\s|-$)\", \"\", text)\n",
    "    text = re.sub(r\"[,\\!\\?\\%\\(\\)\\/\\\"]\", \"\", text)\n",
    "    text = re.sub(r\"\\&\\S*\\s\", \"\", text)\n",
    "    text = re.sub(r\"\\&\", \"\", text)\n",
    "    text = re.sub(r\"\\+\", \"\", text)\n",
    "    text = re.sub(r\"\\#\", \"\", text)\n",
    "    text = re.sub(r\"\\$\", \"\", text)\n",
    "    text = re.sub(r\"\\£\", \"\", text)\n",
    "    text = re.sub(r\"\\%\", \"\", text)\n",
    "    text = re.sub(r\"\\:\", \"\", text)\n",
    "    text = re.sub(r\"\\@\", \"\", text)\n",
    "    text = re.sub(r\"\\-\", \"\", text)\n",
    "\n",
    "    return text"
   ]
  },
  {
   "cell_type": "code",
   "execution_count": 48,
   "id": "ba569ad3-3641-46b7-b1c7-2e13b302484c",
   "metadata": {
    "tags": []
   },
   "outputs": [
    {
     "data": {
      "text/html": [
       "<div>\n",
       "<style scoped>\n",
       "    .dataframe tbody tr th:only-of-type {\n",
       "        vertical-align: middle;\n",
       "    }\n",
       "\n",
       "    .dataframe tbody tr th {\n",
       "        vertical-align: top;\n",
       "    }\n",
       "\n",
       "    .dataframe thead th {\n",
       "        text-align: right;\n",
       "    }\n",
       "</style>\n",
       "<table border=\"1\" class=\"dataframe\">\n",
       "  <thead>\n",
       "    <tr style=\"text-align: right;\">\n",
       "      <th></th>\n",
       "      <th>SRC</th>\n",
       "      <th>TGT</th>\n",
       "      <th>VOT</th>\n",
       "      <th>RES</th>\n",
       "      <th>YEA</th>\n",
       "      <th>DAT</th>\n",
       "      <th>TXT</th>\n",
       "      <th>ELECTION_ID</th>\n",
       "      <th>CLE</th>\n",
       "    </tr>\n",
       "  </thead>\n",
       "  <tbody>\n",
       "    <tr>\n",
       "      <th>0</th>\n",
       "      <td>Steel1943</td>\n",
       "      <td>BDD</td>\n",
       "      <td>1</td>\n",
       "      <td>1</td>\n",
       "      <td>2013</td>\n",
       "      <td>2013-04-19 23:13:00</td>\n",
       "      <td>'''Support''' as co-nom.</td>\n",
       "      <td>1</td>\n",
       "      <td>support as conom.</td>\n",
       "    </tr>\n",
       "    <tr>\n",
       "      <th>1</th>\n",
       "      <td>Cuchullain</td>\n",
       "      <td>BDD</td>\n",
       "      <td>1</td>\n",
       "      <td>1</td>\n",
       "      <td>2013</td>\n",
       "      <td>2013-04-20 01:04:00</td>\n",
       "      <td>'''Support''' as nominator.--</td>\n",
       "      <td>1</td>\n",
       "      <td>support as nominator.</td>\n",
       "    </tr>\n",
       "    <tr>\n",
       "      <th>2</th>\n",
       "      <td>INeverCry</td>\n",
       "      <td>BDD</td>\n",
       "      <td>1</td>\n",
       "      <td>1</td>\n",
       "      <td>2013</td>\n",
       "      <td>2013-04-19 23:43:00</td>\n",
       "      <td>'''Support''' per noms.</td>\n",
       "      <td>1</td>\n",
       "      <td>support per noms.</td>\n",
       "    </tr>\n",
       "    <tr>\n",
       "      <th>3</th>\n",
       "      <td>Cncmaster</td>\n",
       "      <td>BDD</td>\n",
       "      <td>1</td>\n",
       "      <td>1</td>\n",
       "      <td>2013</td>\n",
       "      <td>2013-04-20 00:11:00</td>\n",
       "      <td>'''Support''' per noms. BDD is a strong contri...</td>\n",
       "      <td>1</td>\n",
       "      <td>support per noms. bdd is a strong contributor ...</td>\n",
       "    </tr>\n",
       "    <tr>\n",
       "      <th>4</th>\n",
       "      <td>Miniapolis</td>\n",
       "      <td>BDD</td>\n",
       "      <td>1</td>\n",
       "      <td>1</td>\n",
       "      <td>2013</td>\n",
       "      <td>2013-04-20 00:56:00</td>\n",
       "      <td>'''Support''', with great pleasure. I work wit...</td>\n",
       "      <td>1</td>\n",
       "      <td>support with great pleasure. i work with bdd a...</td>\n",
       "    </tr>\n",
       "  </tbody>\n",
       "</table>\n",
       "</div>"
      ],
      "text/plain": [
       "          SRC  TGT  VOT  RES   YEA                 DAT  \\\n",
       "0   Steel1943  BDD    1    1  2013 2013-04-19 23:13:00   \n",
       "1  Cuchullain  BDD    1    1  2013 2013-04-20 01:04:00   \n",
       "2   INeverCry  BDD    1    1  2013 2013-04-19 23:43:00   \n",
       "3   Cncmaster  BDD    1    1  2013 2013-04-20 00:11:00   \n",
       "4  Miniapolis  BDD    1    1  2013 2013-04-20 00:56:00   \n",
       "\n",
       "                                                 TXT  ELECTION_ID  \\\n",
       "0                           '''Support''' as co-nom.            1   \n",
       "1                      '''Support''' as nominator.--            1   \n",
       "2                            '''Support''' per noms.            1   \n",
       "3  '''Support''' per noms. BDD is a strong contri...            1   \n",
       "4  '''Support''', with great pleasure. I work wit...            1   \n",
       "\n",
       "                                                 CLE  \n",
       "0                                  support as conom.  \n",
       "1                              support as nominator.  \n",
       "2                                  support per noms.  \n",
       "3  support per noms. bdd is a strong contributor ...  \n",
       "4  support with great pleasure. i work with bdd a...  "
      ]
     },
     "execution_count": 48,
     "metadata": {},
     "output_type": "execute_result"
    }
   ],
   "source": [
    "wiki_copy['CLE'] = wiki_copy['CLE'].apply(nlp_pipeline) \n",
    "wiki_copy.head()"
   ]
  },
  {
   "cell_type": "code",
   "execution_count": 50,
   "id": "617e6a94-1fd4-4a3c-84bb-0f230f4e6c5e",
   "metadata": {
    "tags": []
   },
   "outputs": [
    {
     "data": {
      "text/html": [
       "<div>\n",
       "<style scoped>\n",
       "    .dataframe tbody tr th:only-of-type {\n",
       "        vertical-align: middle;\n",
       "    }\n",
       "\n",
       "    .dataframe tbody tr th {\n",
       "        vertical-align: top;\n",
       "    }\n",
       "\n",
       "    .dataframe thead th {\n",
       "        text-align: right;\n",
       "    }\n",
       "</style>\n",
       "<table border=\"1\" class=\"dataframe\">\n",
       "  <thead>\n",
       "    <tr style=\"text-align: right;\">\n",
       "      <th></th>\n",
       "      <th>SRC</th>\n",
       "      <th>TGT</th>\n",
       "      <th>VOT</th>\n",
       "      <th>RES</th>\n",
       "      <th>YEA</th>\n",
       "      <th>DAT</th>\n",
       "      <th>TXT</th>\n",
       "      <th>ELECTION_ID</th>\n",
       "      <th>CLE</th>\n",
       "    </tr>\n",
       "  </thead>\n",
       "  <tbody>\n",
       "    <tr>\n",
       "      <th>0</th>\n",
       "      <td>Steel1943</td>\n",
       "      <td>BDD</td>\n",
       "      <td>1</td>\n",
       "      <td>1</td>\n",
       "      <td>2013</td>\n",
       "      <td>2013-04-19 23:13:00</td>\n",
       "      <td>'''Support''' as co-nom.</td>\n",
       "      <td>1</td>\n",
       "      <td>as conom.</td>\n",
       "    </tr>\n",
       "    <tr>\n",
       "      <th>1</th>\n",
       "      <td>Cuchullain</td>\n",
       "      <td>BDD</td>\n",
       "      <td>1</td>\n",
       "      <td>1</td>\n",
       "      <td>2013</td>\n",
       "      <td>2013-04-20 01:04:00</td>\n",
       "      <td>'''Support''' as nominator.--</td>\n",
       "      <td>1</td>\n",
       "      <td>as nominator.</td>\n",
       "    </tr>\n",
       "    <tr>\n",
       "      <th>2</th>\n",
       "      <td>INeverCry</td>\n",
       "      <td>BDD</td>\n",
       "      <td>1</td>\n",
       "      <td>1</td>\n",
       "      <td>2013</td>\n",
       "      <td>2013-04-19 23:43:00</td>\n",
       "      <td>'''Support''' per noms.</td>\n",
       "      <td>1</td>\n",
       "      <td>per noms.</td>\n",
       "    </tr>\n",
       "    <tr>\n",
       "      <th>3</th>\n",
       "      <td>Cncmaster</td>\n",
       "      <td>BDD</td>\n",
       "      <td>1</td>\n",
       "      <td>1</td>\n",
       "      <td>2013</td>\n",
       "      <td>2013-04-20 00:11:00</td>\n",
       "      <td>'''Support''' per noms. BDD is a strong contri...</td>\n",
       "      <td>1</td>\n",
       "      <td>per noms. bdd is a strong contributor with tho...</td>\n",
       "    </tr>\n",
       "    <tr>\n",
       "      <th>4</th>\n",
       "      <td>Miniapolis</td>\n",
       "      <td>BDD</td>\n",
       "      <td>1</td>\n",
       "      <td>1</td>\n",
       "      <td>2013</td>\n",
       "      <td>2013-04-20 00:56:00</td>\n",
       "      <td>'''Support''', with great pleasure. I work wit...</td>\n",
       "      <td>1</td>\n",
       "      <td>with great pleasure. i work with bdd at the wh...</td>\n",
       "    </tr>\n",
       "  </tbody>\n",
       "</table>\n",
       "</div>"
      ],
      "text/plain": [
       "          SRC  TGT  VOT  RES   YEA                 DAT  \\\n",
       "0   Steel1943  BDD    1    1  2013 2013-04-19 23:13:00   \n",
       "1  Cuchullain  BDD    1    1  2013 2013-04-20 01:04:00   \n",
       "2   INeverCry  BDD    1    1  2013 2013-04-19 23:43:00   \n",
       "3   Cncmaster  BDD    1    1  2013 2013-04-20 00:11:00   \n",
       "4  Miniapolis  BDD    1    1  2013 2013-04-20 00:56:00   \n",
       "\n",
       "                                                 TXT  ELECTION_ID  \\\n",
       "0                           '''Support''' as co-nom.            1   \n",
       "1                      '''Support''' as nominator.--            1   \n",
       "2                            '''Support''' per noms.            1   \n",
       "3  '''Support''' per noms. BDD is a strong contri...            1   \n",
       "4  '''Support''', with great pleasure. I work wit...            1   \n",
       "\n",
       "                                                 CLE  \n",
       "0                                          as conom.  \n",
       "1                                      as nominator.  \n",
       "2                                          per noms.  \n",
       "3  per noms. bdd is a strong contributor with tho...  \n",
       "4  with great pleasure. i work with bdd at the wh...  "
      ]
     },
     "execution_count": 50,
     "metadata": {},
     "output_type": "execute_result"
    }
   ],
   "source": [
    "# remove the first word on the list, to avoid a bias on the algorithm\n",
    "wiki_copy['CLE'] = wiki_copy['CLE'].str.replace('^(support|oppose|neutral|strong support|weak support|happy support|unfortunate oppose) ', '', regex=True)\n",
    "wiki_copy.head()"
   ]
  },
  {
   "cell_type": "code",
   "execution_count": 51,
   "id": "1497e17b-8d4a-4e9f-bc7e-20386ec891fb",
   "metadata": {
    "tags": []
   },
   "outputs": [
    {
     "name": "stdout",
     "output_type": "stream",
     "text": [
      "0                                                                                                                                                                                                                                                                                                                                                                                                                                                                                                                                                                                                                                                  as conom.\n",
      "1                                                                                                                                                                                                                                                                                                                                                                                                                                                                                                                                                                                                                                              as nominator.\n",
      "2                                                                                                                                                                                                                                                                                                                                                                                                                                                                                                                                                                                                                                                  per noms.\n",
      "3                                                                                                                                                                                                                                                                                                                                                                                                                                                                                                                                       per noms. bdd is a strong contributor with thousands of edits and years of experience. i have no problem supporting.\n",
      "4                                                                                                                                                                                                                                                                                                                                                                                                                                                                                                 with great pleasure. i work with bdd at the where we're both coordinators and have seen their good work at rm and afd. a fine addition to the admin corps.\n",
      "5                                                                                                                                                                                                                                                                                                                                                                                                                                      there are plenty of important roles on this project of which content creator is only one of them. bdd has done good work over a number of years. that his primary activity is not content creation is not of concern.\n",
      "6                                                                                                                                                                                                                                                                                                                                                                                                                                                                                                                                                                                                                     per noms. i don't see a reason not to.\n",
      "7                                                                                                         bdd already wields a broom pretty well so why not formalize it i'm not too concerned about the lack of indepth experience in developing articles because he has contributed so much to the backlog drives as his attest he has often been on the leaderboard. we don't all need to take the same route to adminship. my only quibble is a very minor onewhat's with all the edits to his user talk archives i hope that he will keep any current discussions involving administration on his main talk page so other editors can find them easily.\n",
      "8    barring a completely unexpected answer to proforma question  above. the heads up about the old is a good one; someone that right on at age  is certainly worthy of support after the better part of a decade of additional seasoning sporting a clean block log and no indications of assholery over that time unsurprisingly. concerns about relative lack of content creation are misplaced; administrative functions are only tangential to content writing which is the reason that some of the best writers are not administrators and some of the best administrators do little in the way of mainspace content creation. an excellent candidate.\n",
      "9                                                                                                                                                                                                                                                                                                                                                                                                                                                                                                                                                                                                                       because i see no good reason not to.\n",
      "Name: CLE, dtype: object\n"
     ]
    }
   ],
   "source": [
    "#show the first 10 comments completely\n",
    "pd.set_option('display.max_colwidth', None)\n",
    "print(wiki_copy['CLE'].head(10))\n",
    "pd.reset_option('display.max_colwidth')"
   ]
  },
  {
   "cell_type": "code",
   "execution_count": 61,
   "id": "56b5c9a9-6cc6-48b0-8890-2c7e9817285f",
   "metadata": {
    "tags": []
   },
   "outputs": [],
   "source": [
    "# get the polarity of the sentiment analysis\n",
    "def polarity(text):\n",
    "    pol = TextBlob(text)\n",
    "    return pol.sentiment.polarity\n",
    "\n",
    "# get the subjectivity of the sentiment\n",
    "def subjectivity(text):\n",
    "    pol = TextBlob(text)\n",
    "    return pol.sentiment.subjectivity"
   ]
  },
  {
   "cell_type": "code",
   "execution_count": 62,
   "id": "c6ba3471-1973-43d8-9d37-889b00e95644",
   "metadata": {
    "tags": []
   },
   "outputs": [
    {
     "data": {
      "text/html": [
       "<div>\n",
       "<style scoped>\n",
       "    .dataframe tbody tr th:only-of-type {\n",
       "        vertical-align: middle;\n",
       "    }\n",
       "\n",
       "    .dataframe tbody tr th {\n",
       "        vertical-align: top;\n",
       "    }\n",
       "\n",
       "    .dataframe thead th {\n",
       "        text-align: right;\n",
       "    }\n",
       "</style>\n",
       "<table border=\"1\" class=\"dataframe\">\n",
       "  <thead>\n",
       "    <tr style=\"text-align: right;\">\n",
       "      <th></th>\n",
       "      <th>SRC</th>\n",
       "      <th>TGT</th>\n",
       "      <th>VOT</th>\n",
       "      <th>RES</th>\n",
       "      <th>YEA</th>\n",
       "      <th>DAT</th>\n",
       "      <th>TXT</th>\n",
       "      <th>ELECTION_ID</th>\n",
       "      <th>CLE</th>\n",
       "      <th>polarity</th>\n",
       "      <th>subjectivity</th>\n",
       "    </tr>\n",
       "  </thead>\n",
       "  <tbody>\n",
       "    <tr>\n",
       "      <th>0</th>\n",
       "      <td>Steel1943</td>\n",
       "      <td>BDD</td>\n",
       "      <td>1</td>\n",
       "      <td>1</td>\n",
       "      <td>2013</td>\n",
       "      <td>2013-04-19 23:13:00</td>\n",
       "      <td>'''Support''' as co-nom.</td>\n",
       "      <td>1</td>\n",
       "      <td>as conom.</td>\n",
       "      <td>0.000000</td>\n",
       "      <td>0.000000</td>\n",
       "    </tr>\n",
       "    <tr>\n",
       "      <th>1</th>\n",
       "      <td>Cuchullain</td>\n",
       "      <td>BDD</td>\n",
       "      <td>1</td>\n",
       "      <td>1</td>\n",
       "      <td>2013</td>\n",
       "      <td>2013-04-20 01:04:00</td>\n",
       "      <td>'''Support''' as nominator.--</td>\n",
       "      <td>1</td>\n",
       "      <td>as nominator.</td>\n",
       "      <td>0.000000</td>\n",
       "      <td>0.000000</td>\n",
       "    </tr>\n",
       "    <tr>\n",
       "      <th>2</th>\n",
       "      <td>INeverCry</td>\n",
       "      <td>BDD</td>\n",
       "      <td>1</td>\n",
       "      <td>1</td>\n",
       "      <td>2013</td>\n",
       "      <td>2013-04-19 23:43:00</td>\n",
       "      <td>'''Support''' per noms.</td>\n",
       "      <td>1</td>\n",
       "      <td>per noms.</td>\n",
       "      <td>0.000000</td>\n",
       "      <td>0.000000</td>\n",
       "    </tr>\n",
       "    <tr>\n",
       "      <th>3</th>\n",
       "      <td>Cncmaster</td>\n",
       "      <td>BDD</td>\n",
       "      <td>1</td>\n",
       "      <td>1</td>\n",
       "      <td>2013</td>\n",
       "      <td>2013-04-20 00:11:00</td>\n",
       "      <td>'''Support''' per noms. BDD is a strong contri...</td>\n",
       "      <td>1</td>\n",
       "      <td>per noms. bdd is a strong contributor with tho...</td>\n",
       "      <td>0.341667</td>\n",
       "      <td>0.491667</td>\n",
       "    </tr>\n",
       "    <tr>\n",
       "      <th>4</th>\n",
       "      <td>Miniapolis</td>\n",
       "      <td>BDD</td>\n",
       "      <td>1</td>\n",
       "      <td>1</td>\n",
       "      <td>2013</td>\n",
       "      <td>2013-04-20 00:56:00</td>\n",
       "      <td>'''Support''', with great pleasure. I work wit...</td>\n",
       "      <td>1</td>\n",
       "      <td>with great pleasure. i work with bdd at the wh...</td>\n",
       "      <td>0.638889</td>\n",
       "      <td>0.616667</td>\n",
       "    </tr>\n",
       "  </tbody>\n",
       "</table>\n",
       "</div>"
      ],
      "text/plain": [
       "          SRC  TGT  VOT  RES   YEA                 DAT  \\\n",
       "0   Steel1943  BDD    1    1  2013 2013-04-19 23:13:00   \n",
       "1  Cuchullain  BDD    1    1  2013 2013-04-20 01:04:00   \n",
       "2   INeverCry  BDD    1    1  2013 2013-04-19 23:43:00   \n",
       "3   Cncmaster  BDD    1    1  2013 2013-04-20 00:11:00   \n",
       "4  Miniapolis  BDD    1    1  2013 2013-04-20 00:56:00   \n",
       "\n",
       "                                                 TXT  ELECTION_ID  \\\n",
       "0                           '''Support''' as co-nom.            1   \n",
       "1                      '''Support''' as nominator.--            1   \n",
       "2                            '''Support''' per noms.            1   \n",
       "3  '''Support''' per noms. BDD is a strong contri...            1   \n",
       "4  '''Support''', with great pleasure. I work wit...            1   \n",
       "\n",
       "                                                 CLE  polarity  subjectivity  \n",
       "0                                          as conom.  0.000000      0.000000  \n",
       "1                                      as nominator.  0.000000      0.000000  \n",
       "2                                          per noms.  0.000000      0.000000  \n",
       "3  per noms. bdd is a strong contributor with tho...  0.341667      0.491667  \n",
       "4  with great pleasure. i work with bdd at the wh...  0.638889      0.616667  "
      ]
     },
     "execution_count": 62,
     "metadata": {},
     "output_type": "execute_result"
    }
   ],
   "source": [
    "# add the two columns in the dataframe\n",
    "wiki_copy['polarity'] = wiki_copy['CLE'].apply(polarity)\n",
    "wiki_copy['subjectivity'] = wiki_copy['CLE'].apply(subjectivity)\n",
    "wiki_copy.head()"
   ]
  },
  {
   "cell_type": "markdown",
   "id": "bcecbd8d-a74a-4b71-a63c-f80e2275af6b",
   "metadata": {
    "tags": []
   },
   "source": [
    "When we look at the 3 firsts comments, they have a polarity of 0 and a subjectivity of 0. The algorithm does not get any information with comments that are too short or if they have no meaning. This is why we are going to show the distribution of the polarity for different subjectivities"
   ]
  },
  {
   "cell_type": "code",
   "execution_count": 63,
   "id": "7a4c8d53-85c7-4daf-bfd6-89f1b4919e08",
   "metadata": {
    "tags": []
   },
   "outputs": [
    {
     "data": {
      "image/png": "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",
      "text/plain": [
       "<Figure size 640x480 with 1 Axes>"
      ]
     },
     "metadata": {},
     "output_type": "display_data"
    }
   ],
   "source": [
    "fig,ax = plt.subplots()\n",
    "ax.hist(wiki_copy[\"polarity\"],bins=20, histtype=\"step\", label='all',color='b')\n",
    "wiki_copy_subjectif = wiki_copy[wiki_copy['subjectivity'] > 0.2] \n",
    "ax.hist(wiki_copy_subjectif[\"polarity\"],bins=20, histtype=\"step\", label='subjectivity > 0.2',color='g')\n",
    "wiki_copy_subjectif = wiki_copy[wiki_copy['subjectivity'] > 0.5] \n",
    "ax.hist(wiki_copy_subjectif[\"polarity\"],bins=20, histtype=\"step\", label='subjectivity > 0.5',color='r')\n",
    "plt.xlabel('polarity')\n",
    "plt.ylabel('nb of comments')\n",
    "plt.title('polarity of the comments')\n",
    "plt.legend()\n",
    "plt.show()"
   ]
  },
  {
   "cell_type": "markdown",
   "id": "8c662dc2-0bbb-4e63-a764-07a0b5946278",
   "metadata": {},
   "source": [
    "We can see that a lot of comments have 0 polarity because they are not subjective. We suppose that a lot of comments are too short to get any interesting information so we need to display the comments length for each subjectivity."
   ]
  },
  {
   "cell_type": "code",
   "execution_count": 64,
   "id": "3504a4cf-5696-4a0b-a24c-54480323a85b",
   "metadata": {
    "tags": []
   },
   "outputs": [
    {
     "data": {
      "image/png": "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",
      "text/plain": [
       "<Figure size 640x480 with 1 Axes>"
      ]
     },
     "metadata": {},
     "output_type": "display_data"
    }
   ],
   "source": [
    "# graph of the length of the comments for all the comments (blue) and for the subjective comments (with more than 0.2 in green and 0.5 in red)\n",
    "fig,ax = plt.subplots() \n",
    "ax.hist(wiki_copy[wiki_copy['subjectivity'] > 0.5]['CLE'].str.len(),bins=1000, histtype=\"step\", label='Subjectivity > 0.5',color='r')\n",
    "ax.hist(wiki_copy[wiki_copy['subjectivity'] > 0.2]['CLE'].str.len(),bins=1000, histtype=\"step\", label='Subjectivity > 0.2',color='g')\n",
    "ax.hist(wiki_copy['CLE'].str.len(),bins=1000, histtype=\"step\", label='All',color='b')\n",
    "plt.xlabel('length of the comments')\n",
    "plt.ylabel('nb of comments')\n",
    "plt.title('length of the comments with different subjectivity')\n",
    "plt.xscale('log')\n",
    "plt.legend()\n",
    "plt.show()"
   ]
  },
  {
   "cell_type": "markdown",
   "id": "56459b4e-4f89-4996-a8da-be4120c75194",
   "metadata": {},
   "source": [
    "Many comments appear too brief to provide substantial information. To ensure meaningful insights, we have established a subjectivity threshold of 0.2. Consequently, during our comment exploration, we exclusively utilize the subjectiv dataframe. This focused approach aims to enhance the quality of our results by retaining only those comments deemed to be more interesting and informative."
   ]
  },
  {
   "cell_type": "code",
   "execution_count": 69,
   "id": "877f0b62-e575-4391-a65d-ef273656e86d",
   "metadata": {
    "tags": []
   },
   "outputs": [],
   "source": [
    "# new dataframe with only subjective comments for the rest of our analysis\n",
    "df_subjectiv = wiki_copy[wiki_copy['subjectivity'] > 0.2] "
   ]
  },
  {
   "cell_type": "markdown",
   "id": "bc6646ea-4313-47e9-a4c3-f7edf7a266ae",
   "metadata": {
    "tags": []
   },
   "source": [
    "## Length of the comments"
   ]
  },
  {
   "cell_type": "markdown",
   "id": "7ddfe795-205d-4eea-8fa0-296d8a3d4562",
   "metadata": {},
   "source": [
    "In this part, we want to see the correlation between the length of the comment and the subjectivity after choosing $0.2$ as a threshold."
   ]
  },
  {
   "cell_type": "code",
   "execution_count": 74,
   "id": "f7fa08cb-e76b-4e93-9518-59c7a50f0574",
   "metadata": {
    "tags": []
   },
   "outputs": [
    {
     "data": {
      "image/png": "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",
      "text/plain": [
       "<Figure size 640x480 with 1 Axes>"
      ]
     },
     "metadata": {},
     "output_type": "display_data"
    }
   ],
   "source": [
    "# lenght of all the comments (blue), length of all the subjective comments (green) and all the comments who are not subjective (red)\n",
    "# depending on the threshold\n",
    "fig,ax = plt.subplots() \n",
    "ax.hist(wiki_copy['TXT'].str.len(),bins=500, histtype=\"step\", label='All',color='b')\n",
    "ax.hist(wiki_copy[wiki_copy['subjectivity'] < 0.2]['TXT'].str.len(),bins=500, histtype=\"step\", label='objective comments',color='r')\n",
    "ax.hist(wiki_copy[wiki_copy['subjectivity'] > 0.2]['TXT'].str.len(),bins=500, histtype=\"step\", label='subjective comments',color='g')\n",
    "plt.xlabel('length of comments')\n",
    "plt.ylabel('nb of comments')\n",
    "plt.xscale('log')\n",
    "plt.legend()\n",
    "plt.title('Length of the comments')\n",
    "plt.show()"
   ]
  },
  {
   "cell_type": "markdown",
   "id": "aadb8658-e6d9-4ecf-8804-0212e744b47a",
   "metadata": {},
   "source": [
    "We note that typically, when a comment is excessively brief, it tends to be objective. Conversely, when a comment is more extensive in terms of characters, it is likely to be subjective."
   ]
  },
  {
   "cell_type": "markdown",
   "id": "d9d80fa6-ad3c-4b12-9363-aa14d6868218",
   "metadata": {
    "tags": []
   },
   "source": [
    "## Topic of the comments"
   ]
  },
  {
   "cell_type": "markdown",
   "id": "16abfc08-3ce1-48c9-bcef-11afdc4df4bc",
   "metadata": {},
   "source": [
    "In this part, we are going to use the latent dirichlet allocation who can help us to cluster the comments in various topics. The main idea is to extract some interesting keywords to know more about the comments. With that, we can understand what are the criteria for a succesful election."
   ]
  },
  {
   "cell_type": "markdown",
   "id": "f3b69b4f-4d3f-49f5-9790-03b0c430a342",
   "metadata": {},
   "source": [
    "We start with processing text with spacy."
   ]
  },
  {
   "cell_type": "code",
   "execution_count": 77,
   "id": "2c290a77-0a9c-4ac9-bac0-a039dfd7d68e",
   "metadata": {
    "tags": []
   },
   "outputs": [
    {
     "ename": "NameError",
     "evalue": "name 'spacy' is not defined",
     "output_type": "error",
     "traceback": [
      "\u001b[0;31m---------------------------------------------------------------------------\u001b[0m",
      "\u001b[0;31mNameError\u001b[0m                                 Traceback (most recent call last)",
      "Cell \u001b[0;32mIn[77], line 1\u001b[0m\n\u001b[0;32m----> 1\u001b[0m nlp \u001b[38;5;241m=\u001b[39m \u001b[43mspacy\u001b[49m\u001b[38;5;241m.\u001b[39mload(\u001b[38;5;124m\"\u001b[39m\u001b[38;5;124men_core_web_sm\u001b[39m\u001b[38;5;124m\"\u001b[39m)\n",
      "\u001b[0;31mNameError\u001b[0m: name 'spacy' is not defined"
     ]
    }
   ],
   "source": [
    "nlp = spacy.load(\"en_core_web_sm\")"
   ]
  },
  {
   "cell_type": "code",
   "execution_count": 18,
   "id": "11454713-4a5f-432b-a0c6-74b2686aefb6",
   "metadata": {
    "tags": []
   },
   "outputs": [],
   "source": [
    "# preprocess text with lemmatization\n",
    "def preprocess_text(text):\n",
    "    doc = nlp(text)\n",
    "    tokens = [token.lemma_ for token in doc if token.is_alpha and not token.is_stop]\n",
    "    return \" \".join(tokens)"
   ]
  },
  {
   "cell_type": "code",
   "execution_count": 19,
   "id": "ee58a237-cb7b-4bc6-9fbc-656ccd89d5fa",
   "metadata": {
    "tags": []
   },
   "outputs": [],
   "source": [
    "# remove stop words\n",
    "def process_stop_word(text, stem=\"None\"):\n",
    "    # Remove stop words\n",
    "    text = text.split()\n",
    "    useless_words = nltk.corpus.stopwords.words(\"english\")\n",
    "    useless_words = useless_words + ['hi', 'im']\n",
    "    text_filtered = [word for word in text if not word in useless_words]\n",
    "        # Stem or Lemmatize\n",
    "    if stem == 'Stem':\n",
    "        stemmer = PorterStemmer() \n",
    "        text_stemmed = [stemmer.stem(y) for y in text_filtered]\n",
    "    elif stem == 'Lem':\n",
    "        lem = WordNetLemmatizer()\n",
    "        text_stemmed = [lem.lemmatize(y) for y in text_filtered]\n",
    "    elif stem == 'Spacy':\n",
    "        text_filtered = nlp(' '.join(text_filtered))\n",
    "        text_stemmed = [y.lemma_ for y in text_filtered]\n",
    "    else:\n",
    "        text_stemmed = text_filtered\n",
    "\n",
    "    final_string = ' '.join(text_stemmed)\n",
    "\n",
    "    return final_string"
   ]
  },
  {
   "cell_type": "code",
   "execution_count": 20,
   "id": "64cd5d2a-a74e-46f0-aad3-f520b5001311",
   "metadata": {
    "tags": []
   },
   "outputs": [
    {
     "name": "stderr",
     "output_type": "stream",
     "text": [
      "C:\\Users\\liand\\AppData\\Local\\Temp\\ipykernel_16320\\2594979675.py:2: SettingWithCopyWarning: \n",
      "A value is trying to be set on a copy of a slice from a DataFrame.\n",
      "Try using .loc[row_indexer,col_indexer] = value instead\n",
      "\n",
      "See the caveats in the documentation: https://pandas.pydata.org/pandas-docs/stable/user_guide/indexing.html#returning-a-view-versus-a-copy\n",
      "  df_subjectiv['preprocessed_txt'] = df_subjectiv['CLE'].apply(preprocess_text)\n",
      "C:\\Users\\liand\\AppData\\Local\\Temp\\ipykernel_16320\\2594979675.py:3: SettingWithCopyWarning: \n",
      "A value is trying to be set on a copy of a slice from a DataFrame.\n",
      "Try using .loc[row_indexer,col_indexer] = value instead\n",
      "\n",
      "See the caveats in the documentation: https://pandas.pydata.org/pandas-docs/stable/user_guide/indexing.html#returning-a-view-versus-a-copy\n",
      "  df_subjectiv['preprocessed_txt'] = df_subjectiv['preprocessed_txt'].apply(process_stop_word)\n"
     ]
    }
   ],
   "source": [
    "#clean the text for the LDA algorithm\n",
    "df_subjectiv['preprocessed_txt'] = df_subjectiv['CLE'].apply(preprocess_text)\n",
    "df_subjectiv['preprocessed_txt'] = df_subjectiv['preprocessed_txt'].apply(process_stop_word)"
   ]
  },
  {
   "cell_type": "markdown",
   "id": "bf497037-64cd-4201-8553-7922bbefba62",
   "metadata": {},
   "source": [
    "Transform the preprocessed comments into a structured representation that captures the importance of terms within each comment using TF-IDF (Term Frequency-Inverse Document Frequency)."
   ]
  },
  {
   "cell_type": "code",
   "execution_count": 21,
   "id": "d07e94bf-9f80-4e85-9192-58d5467bcef0",
   "metadata": {
    "tags": []
   },
   "outputs": [
    {
     "data": {
      "text/html": [
       "<style>#sk-container-id-1 {color: black;}#sk-container-id-1 pre{padding: 0;}#sk-container-id-1 div.sk-toggleable {background-color: white;}#sk-container-id-1 label.sk-toggleable__label {cursor: pointer;display: block;width: 100%;margin-bottom: 0;padding: 0.3em;box-sizing: border-box;text-align: center;}#sk-container-id-1 label.sk-toggleable__label-arrow:before {content: \"▸\";float: left;margin-right: 0.25em;color: #696969;}#sk-container-id-1 label.sk-toggleable__label-arrow:hover:before {color: black;}#sk-container-id-1 div.sk-estimator:hover label.sk-toggleable__label-arrow:before {color: black;}#sk-container-id-1 div.sk-toggleable__content {max-height: 0;max-width: 0;overflow: hidden;text-align: left;background-color: #f0f8ff;}#sk-container-id-1 div.sk-toggleable__content pre {margin: 0.2em;color: black;border-radius: 0.25em;background-color: #f0f8ff;}#sk-container-id-1 input.sk-toggleable__control:checked~div.sk-toggleable__content {max-height: 200px;max-width: 100%;overflow: auto;}#sk-container-id-1 input.sk-toggleable__control:checked~label.sk-toggleable__label-arrow:before {content: \"▾\";}#sk-container-id-1 div.sk-estimator input.sk-toggleable__control:checked~label.sk-toggleable__label {background-color: #d4ebff;}#sk-container-id-1 div.sk-label input.sk-toggleable__control:checked~label.sk-toggleable__label {background-color: #d4ebff;}#sk-container-id-1 input.sk-hidden--visually {border: 0;clip: rect(1px 1px 1px 1px);clip: rect(1px, 1px, 1px, 1px);height: 1px;margin: -1px;overflow: hidden;padding: 0;position: absolute;width: 1px;}#sk-container-id-1 div.sk-estimator {font-family: monospace;background-color: #f0f8ff;border: 1px dotted black;border-radius: 0.25em;box-sizing: border-box;margin-bottom: 0.5em;}#sk-container-id-1 div.sk-estimator:hover {background-color: #d4ebff;}#sk-container-id-1 div.sk-parallel-item::after {content: \"\";width: 100%;border-bottom: 1px solid gray;flex-grow: 1;}#sk-container-id-1 div.sk-label:hover label.sk-toggleable__label {background-color: #d4ebff;}#sk-container-id-1 div.sk-serial::before {content: \"\";position: absolute;border-left: 1px solid gray;box-sizing: border-box;top: 0;bottom: 0;left: 50%;z-index: 0;}#sk-container-id-1 div.sk-serial {display: flex;flex-direction: column;align-items: center;background-color: white;padding-right: 0.2em;padding-left: 0.2em;position: relative;}#sk-container-id-1 div.sk-item {position: relative;z-index: 1;}#sk-container-id-1 div.sk-parallel {display: flex;align-items: stretch;justify-content: center;background-color: white;position: relative;}#sk-container-id-1 div.sk-item::before, #sk-container-id-1 div.sk-parallel-item::before {content: \"\";position: absolute;border-left: 1px solid gray;box-sizing: border-box;top: 0;bottom: 0;left: 50%;z-index: -1;}#sk-container-id-1 div.sk-parallel-item {display: flex;flex-direction: column;z-index: 1;position: relative;background-color: white;}#sk-container-id-1 div.sk-parallel-item:first-child::after {align-self: flex-end;width: 50%;}#sk-container-id-1 div.sk-parallel-item:last-child::after {align-self: flex-start;width: 50%;}#sk-container-id-1 div.sk-parallel-item:only-child::after {width: 0;}#sk-container-id-1 div.sk-dashed-wrapped {border: 1px dashed gray;margin: 0 0.4em 0.5em 0.4em;box-sizing: border-box;padding-bottom: 0.4em;background-color: white;}#sk-container-id-1 div.sk-label label {font-family: monospace;font-weight: bold;display: inline-block;line-height: 1.2em;}#sk-container-id-1 div.sk-label-container {text-align: center;}#sk-container-id-1 div.sk-container {/* jupyter's `normalize.less` sets `[hidden] { display: none; }` but bootstrap.min.css set `[hidden] { display: none !important; }` so we also need the `!important` here to be able to override the default hidden behavior on the sphinx rendered scikit-learn.org. See: https://github.com/scikit-learn/scikit-learn/issues/21755 */display: inline-block !important;position: relative;}#sk-container-id-1 div.sk-text-repr-fallback {display: none;}</style><div id=\"sk-container-id-1\" class=\"sk-top-container\"><div class=\"sk-text-repr-fallback\"><pre>LatentDirichletAllocation(n_components=20, random_state=42)</pre><b>In a Jupyter environment, please rerun this cell to show the HTML representation or trust the notebook. <br />On GitHub, the HTML representation is unable to render, please try loading this page with nbviewer.org.</b></div><div class=\"sk-container\" hidden><div class=\"sk-item\"><div class=\"sk-estimator sk-toggleable\"><input class=\"sk-toggleable__control sk-hidden--visually\" id=\"sk-estimator-id-1\" type=\"checkbox\" checked><label for=\"sk-estimator-id-1\" class=\"sk-toggleable__label sk-toggleable__label-arrow\">LatentDirichletAllocation</label><div class=\"sk-toggleable__content\"><pre>LatentDirichletAllocation(n_components=20, random_state=42)</pre></div></div></div></div></div>"
      ],
      "text/plain": [
       "LatentDirichletAllocation(n_components=20, random_state=42)"
      ]
     },
     "execution_count": 21,
     "metadata": {},
     "output_type": "execute_result"
    }
   ],
   "source": [
    "# TF-IDF vectorization\n",
    "vectorizer = TfidfVectorizer(max_df=0.95, min_df=2, max_features=1000, stop_words='english')\n",
    "# Apply TF-IDF vectorization to the preprocessed text\n",
    "dtm = vectorizer.fit_transform(df_subjectiv['preprocessed_txt'])\n",
    "\n",
    "# LDA model\n",
    "num_topics = 20 #separation in 20 topics to visualize some positive or negative topics\n",
    "lda = LatentDirichletAllocation(n_components=num_topics, random_state=42)\n",
    "lda.fit(dtm)  # Fit the LDA model to the TF-IDF matrix"
   ]
  },
  {
   "cell_type": "code",
   "execution_count": 22,
   "id": "02974292-5cc9-40ec-8261-88b6caeac061",
   "metadata": {
    "tags": []
   },
   "outputs": [],
   "source": [
    "#print the 10 words who represent the best each topics\n",
    "def print_top_words(model, vectorizer, n_words=10):\n",
    "    feature_names = vectorizer.get_feature_names_out()\n",
    "    for topic_idx, topic in enumerate(model.components_):\n",
    "        top_words_idx = topic.argsort()[:-n_words - 1:-1]\n",
    "        top_words = [feature_names[i] for i in top_words_idx]\n",
    "        print(f\"Topic #{topic_idx + 1}: {' | '.join(top_words)}\")"
   ]
  },
  {
   "cell_type": "code",
   "execution_count": 23,
   "id": "c1fc7534-3165-4bca-896f-231a06da78e0",
   "metadata": {
    "tags": []
   },
   "outputs": [
    {
     "name": "stdout",
     "output_type": "stream",
     "text": [
      "Topic #1: oppose | admin | article | user | support | candidate | editor | think | afd | policy\n",
      "Topic #2: sorry | oppose | month | support | rfa | time | vote | think | good | neutral\n",
      "Topic #3: answer | question | experience | good | ready | sound | oppose | support | need | major\n",
      "Topic #4: good | look | excellent | editor | candidate | support | admin | like | contributor | nice\n",
      "Topic #5: impressed | record | good | supportlook | track | impress | support | faith | levelheade | mean\n",
      "Topic #6: great | user | good | work | admin | support | editor | guy | job | ok\n",
      "Topic #7: strong | support | luck | tool | good | abuse | unlikely | admin | use | responsible\n",
      "Topic #8: positive | net | interaction | project | helpful | friendly | support | asset | user | benefit\n",
      "Topic #9: policy | content | knowledge | admin | good | work | support | understanding | experience | wikipedia\n",
      "Topic #10: meet | big | deal | criterion | article | delete | support | standard | certainly | edit\n",
      "Topic #11: impressive | wrong | quality | choice | support | seriously | good | admin | high | controversial\n",
      "Topic #12: absolutely | nominator | obviously | support | write | article | encyclopedia | admin | bot | say\n",
      "Topic #13: qualified | support | easy | glad | love | late | wow | wisely | majorly | tool\n",
      "Topic #14: vandalism | yes | block | edit | revert | user | admin | aiv | good | vandal\n",
      "Topic #15: nom | vandal | experienced | cool | fighter | reason | good | head | supporta | support\n",
      "Topic #16: experience | rfa | support | admin | time | good | suggest | sensible | edit | withdraw\n",
      "Topic #17: edit | summary | low | experience | count | oppose | mainspace | weak | talk | space\n",
      "Topic #18: concern | oppose | support | admin | raise | issue | rfa | think | good | candidate\n",
      "Topic #19: fine | admin | support | look | wikipedian | good | cheer | worthy | solid | problem\n",
      "Topic #20: sure | definitely | long | right | time | support | good | admin | supportseem | thing\n"
     ]
    }
   ],
   "source": [
    "print_top_words(lda, vectorizer)"
   ]
  },
  {
   "cell_type": "markdown",
   "id": "25d118e2-e88d-42c6-8092-e0f4fa60e288",
   "metadata": {},
   "source": [
    "We can now had a topic number in the dataframe for all the comments :"
   ]
  },
  {
   "cell_type": "code",
   "execution_count": 24,
   "id": "65393104-1bfe-4f15-8c7c-f92fc6234d17",
   "metadata": {
    "tags": []
   },
   "outputs": [
    {
     "name": "stderr",
     "output_type": "stream",
     "text": [
      "C:\\Users\\liand\\AppData\\Local\\Temp\\ipykernel_16320\\3148027325.py:3: SettingWithCopyWarning: \n",
      "A value is trying to be set on a copy of a slice from a DataFrame.\n",
      "Try using .loc[row_indexer,col_indexer] = value instead\n",
      "\n",
      "See the caveats in the documentation: https://pandas.pydata.org/pandas-docs/stable/user_guide/indexing.html#returning-a-view-versus-a-copy\n",
      "  df_subjectiv['Topic'] = df_subjectiv.index.map(lambda i: lda.transform(dtm[i]).argmax())\n"
     ]
    },
    {
     "data": {
      "text/html": [
       "<div>\n",
       "<style scoped>\n",
       "    .dataframe tbody tr th:only-of-type {\n",
       "        vertical-align: middle;\n",
       "    }\n",
       "\n",
       "    .dataframe tbody tr th {\n",
       "        vertical-align: top;\n",
       "    }\n",
       "\n",
       "    .dataframe thead th {\n",
       "        text-align: right;\n",
       "    }\n",
       "</style>\n",
       "<table border=\"1\" class=\"dataframe\">\n",
       "  <thead>\n",
       "    <tr style=\"text-align: right;\">\n",
       "      <th></th>\n",
       "      <th>SRC</th>\n",
       "      <th>TGT</th>\n",
       "      <th>VOT</th>\n",
       "      <th>RES</th>\n",
       "      <th>YEA</th>\n",
       "      <th>DAT</th>\n",
       "      <th>TXT</th>\n",
       "      <th>CLE</th>\n",
       "      <th>polarity</th>\n",
       "      <th>subjectivity</th>\n",
       "      <th>preprocessed_txt</th>\n",
       "      <th>Topic</th>\n",
       "    </tr>\n",
       "  </thead>\n",
       "  <tbody>\n",
       "    <tr>\n",
       "      <th>0</th>\n",
       "      <td>Cncmaster</td>\n",
       "      <td>BDD</td>\n",
       "      <td>1</td>\n",
       "      <td>1</td>\n",
       "      <td>2013</td>\n",
       "      <td>2013-04-20 00:11:00</td>\n",
       "      <td>'''Support''' per noms. BDD is a strong contri...</td>\n",
       "      <td>per noms. bdd is a strong contributor with tho...</td>\n",
       "      <td>0.341667</td>\n",
       "      <td>0.491667</td>\n",
       "      <td>nom bdd strong contributor thousand edit year ...</td>\n",
       "      <td>16</td>\n",
       "    </tr>\n",
       "    <tr>\n",
       "      <th>1</th>\n",
       "      <td>Miniapolis</td>\n",
       "      <td>BDD</td>\n",
       "      <td>1</td>\n",
       "      <td>1</td>\n",
       "      <td>2013</td>\n",
       "      <td>2013-04-20 00:56:00</td>\n",
       "      <td>'''Support''', with great pleasure. I work wit...</td>\n",
       "      <td>with great pleasure. i work with bdd at the gu...</td>\n",
       "      <td>0.638889</td>\n",
       "      <td>0.616667</td>\n",
       "      <td>great pleasure work bdd guild copy editor coor...</td>\n",
       "      <td>5</td>\n",
       "    </tr>\n",
       "    <tr>\n",
       "      <th>2</th>\n",
       "      <td>Sven Manguard</td>\n",
       "      <td>BDD</td>\n",
       "      <td>1</td>\n",
       "      <td>1</td>\n",
       "      <td>2013</td>\n",
       "      <td>2013-04-20 01:53:00</td>\n",
       "      <td>'''Support''' There are plenty of important ro...</td>\n",
       "      <td>there are plenty of important roles on this pr...</td>\n",
       "      <td>0.375000</td>\n",
       "      <td>0.775000</td>\n",
       "      <td>plenty important role project content creator ...</td>\n",
       "      <td>8</td>\n",
       "    </tr>\n",
       "    <tr>\n",
       "      <th>3</th>\n",
       "      <td>RockMagnetist</td>\n",
       "      <td>BDD</td>\n",
       "      <td>1</td>\n",
       "      <td>1</td>\n",
       "      <td>2013</td>\n",
       "      <td>2013-04-20 02:18:00</td>\n",
       "      <td>'''Support'''  BDD already wields a broom pret...</td>\n",
       "      <td>bdd already wields a broom pretty well so why ...</td>\n",
       "      <td>0.095556</td>\n",
       "      <td>0.502963</td>\n",
       "      <td>bdd wield broom pretty formalize concerned lac...</td>\n",
       "      <td>16</td>\n",
       "    </tr>\n",
       "    <tr>\n",
       "      <th>4</th>\n",
       "      <td>Carrite</td>\n",
       "      <td>BDD</td>\n",
       "      <td>1</td>\n",
       "      <td>1</td>\n",
       "      <td>2013</td>\n",
       "      <td>2013-04-20 02:22:00</td>\n",
       "      <td>'''Support''' barring a completely unexpected ...</td>\n",
       "      <td>barring a completely unexpected answer to prof...</td>\n",
       "      <td>0.333214</td>\n",
       "      <td>0.529048</td>\n",
       "      <td>bar completely unexpected answer proforma ques...</td>\n",
       "      <td>8</td>\n",
       "    </tr>\n",
       "  </tbody>\n",
       "</table>\n",
       "</div>"
      ],
      "text/plain": [
       "             SRC  TGT VOT RES   YEA                 DAT  \\\n",
       "0      Cncmaster  BDD   1   1  2013 2013-04-20 00:11:00   \n",
       "1     Miniapolis  BDD   1   1  2013 2013-04-20 00:56:00   \n",
       "2  Sven Manguard  BDD   1   1  2013 2013-04-20 01:53:00   \n",
       "3  RockMagnetist  BDD   1   1  2013 2013-04-20 02:18:00   \n",
       "4        Carrite  BDD   1   1  2013 2013-04-20 02:22:00   \n",
       "\n",
       "                                                 TXT  \\\n",
       "0  '''Support''' per noms. BDD is a strong contri...   \n",
       "1  '''Support''', with great pleasure. I work wit...   \n",
       "2  '''Support''' There are plenty of important ro...   \n",
       "3  '''Support'''  BDD already wields a broom pret...   \n",
       "4  '''Support''' barring a completely unexpected ...   \n",
       "\n",
       "                                                 CLE  polarity  subjectivity  \\\n",
       "0  per noms. bdd is a strong contributor with tho...  0.341667      0.491667   \n",
       "1  with great pleasure. i work with bdd at the gu...  0.638889      0.616667   \n",
       "2  there are plenty of important roles on this pr...  0.375000      0.775000   \n",
       "3  bdd already wields a broom pretty well so why ...  0.095556      0.502963   \n",
       "4  barring a completely unexpected answer to prof...  0.333214      0.529048   \n",
       "\n",
       "                                    preprocessed_txt  Topic  \n",
       "0  nom bdd strong contributor thousand edit year ...     16  \n",
       "1  great pleasure work bdd guild copy editor coor...      5  \n",
       "2  plenty important role project content creator ...      8  \n",
       "3  bdd wield broom pretty formalize concerned lac...     16  \n",
       "4  bar completely unexpected answer proforma ques...      8  "
      ]
     },
     "execution_count": 24,
     "metadata": {},
     "output_type": "execute_result"
    }
   ],
   "source": [
    "#add a column with the number of the topic for each comment\n",
    "df_subjectiv.reset_index(drop=True, inplace=True)\n",
    "df_subjectiv['Topic'] = df_subjectiv.index.map(lambda i: lda.transform(dtm[i]).argmax())\n",
    "df_subjectiv.head()"
   ]
  },
  {
   "cell_type": "markdown",
   "id": "dafd5e2f-c8d1-4c15-8008-b1097a84db73",
   "metadata": {
    "tags": []
   },
   "source": [
    "We can visualize the polarity of each topics :"
   ]
  },
  {
   "cell_type": "code",
   "execution_count": 42,
   "id": "8ead228e-9119-40a2-acc5-e834d412daf3",
   "metadata": {
    "tags": []
   },
   "outputs": [
    {
     "name": "stderr",
     "output_type": "stream",
     "text": [
      "C:\\Users\\liand\\anaconda3\\envs\\ada\\lib\\site-packages\\seaborn\\axisgrid.py:118: UserWarning: The figure layout has changed to tight\n",
      "  self._figure.tight_layout(*args, **kwargs)\n"
     ]
    },
    {
     "data": {
      "text/plain": [
       "Text(0.5, 0.98, 'Polarity of Different Topics')"
      ]
     },
     "execution_count": 42,
     "metadata": {},
     "output_type": "execute_result"
    },
    {
     "data": {
      "image/png": "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",
      "text/plain": [
       "<Figure size 800x400 with 1 Axes>"
      ]
     },
     "metadata": {},
     "output_type": "display_data"
    }
   ],
   "source": [
    "plot = sns.catplot(x='Topic', y='polarity', kind=\"box\", data=df_subjectiv, errorbar='sd', height=4, aspect=2)\n",
    "plot.fig.suptitle('Polarity of Different Topics')"
   ]
  },
  {
   "cell_type": "markdown",
   "id": "14d31153-0b2a-4987-99d7-a13d22525d2c",
   "metadata": {},
   "source": [
    "By examining this plot, it becomes evident that topic 8 exhibits a higher polarity compared to the others. To delve deeper into the positive comments within this topic, we can inspect the list of prevalent words. Notable keywords include:\n",
    "- positive\n",
    "- interaction\n",
    "- experienced\n",
    "- helpful\n",
    "- friendly\n",
    "- project\n",
    "\n",
    "After reflection, we anticipate uncovering more insights by filtering comments exclusively for positive or negative sentiments."
   ]
  },
  {
   "cell_type": "markdown",
   "id": "705c3cb2-42d6-4542-8b73-e285e25afa00",
   "metadata": {},
   "source": [
    "## Repeat the same with the positive/negative comments"
   ]
  },
  {
   "cell_type": "markdown",
   "id": "876ed464-cb89-477e-80be-c3bae05cb9dd",
   "metadata": {},
   "source": [
    "In this part, we are gonna use only the subjective comments with a polarity greater than 0,5. The goal is to extract the topics and keywords to gives us an idea of the positive comments."
   ]
  },
  {
   "cell_type": "code",
   "execution_count": 26,
   "id": "691b497e-3cf6-46a8-96f4-20529a2d61fe",
   "metadata": {
    "tags": []
   },
   "outputs": [
    {
     "data": {
      "text/html": [
       "<style>#sk-container-id-2 {color: black;}#sk-container-id-2 pre{padding: 0;}#sk-container-id-2 div.sk-toggleable {background-color: white;}#sk-container-id-2 label.sk-toggleable__label {cursor: pointer;display: block;width: 100%;margin-bottom: 0;padding: 0.3em;box-sizing: border-box;text-align: center;}#sk-container-id-2 label.sk-toggleable__label-arrow:before {content: \"▸\";float: left;margin-right: 0.25em;color: #696969;}#sk-container-id-2 label.sk-toggleable__label-arrow:hover:before {color: black;}#sk-container-id-2 div.sk-estimator:hover label.sk-toggleable__label-arrow:before {color: black;}#sk-container-id-2 div.sk-toggleable__content {max-height: 0;max-width: 0;overflow: hidden;text-align: left;background-color: #f0f8ff;}#sk-container-id-2 div.sk-toggleable__content pre {margin: 0.2em;color: black;border-radius: 0.25em;background-color: #f0f8ff;}#sk-container-id-2 input.sk-toggleable__control:checked~div.sk-toggleable__content {max-height: 200px;max-width: 100%;overflow: auto;}#sk-container-id-2 input.sk-toggleable__control:checked~label.sk-toggleable__label-arrow:before {content: \"▾\";}#sk-container-id-2 div.sk-estimator input.sk-toggleable__control:checked~label.sk-toggleable__label {background-color: #d4ebff;}#sk-container-id-2 div.sk-label input.sk-toggleable__control:checked~label.sk-toggleable__label {background-color: #d4ebff;}#sk-container-id-2 input.sk-hidden--visually {border: 0;clip: rect(1px 1px 1px 1px);clip: rect(1px, 1px, 1px, 1px);height: 1px;margin: -1px;overflow: hidden;padding: 0;position: absolute;width: 1px;}#sk-container-id-2 div.sk-estimator {font-family: monospace;background-color: #f0f8ff;border: 1px dotted black;border-radius: 0.25em;box-sizing: border-box;margin-bottom: 0.5em;}#sk-container-id-2 div.sk-estimator:hover {background-color: #d4ebff;}#sk-container-id-2 div.sk-parallel-item::after {content: \"\";width: 100%;border-bottom: 1px solid gray;flex-grow: 1;}#sk-container-id-2 div.sk-label:hover label.sk-toggleable__label {background-color: #d4ebff;}#sk-container-id-2 div.sk-serial::before {content: \"\";position: absolute;border-left: 1px solid gray;box-sizing: border-box;top: 0;bottom: 0;left: 50%;z-index: 0;}#sk-container-id-2 div.sk-serial {display: flex;flex-direction: column;align-items: center;background-color: white;padding-right: 0.2em;padding-left: 0.2em;position: relative;}#sk-container-id-2 div.sk-item {position: relative;z-index: 1;}#sk-container-id-2 div.sk-parallel {display: flex;align-items: stretch;justify-content: center;background-color: white;position: relative;}#sk-container-id-2 div.sk-item::before, #sk-container-id-2 div.sk-parallel-item::before {content: \"\";position: absolute;border-left: 1px solid gray;box-sizing: border-box;top: 0;bottom: 0;left: 50%;z-index: -1;}#sk-container-id-2 div.sk-parallel-item {display: flex;flex-direction: column;z-index: 1;position: relative;background-color: white;}#sk-container-id-2 div.sk-parallel-item:first-child::after {align-self: flex-end;width: 50%;}#sk-container-id-2 div.sk-parallel-item:last-child::after {align-self: flex-start;width: 50%;}#sk-container-id-2 div.sk-parallel-item:only-child::after {width: 0;}#sk-container-id-2 div.sk-dashed-wrapped {border: 1px dashed gray;margin: 0 0.4em 0.5em 0.4em;box-sizing: border-box;padding-bottom: 0.4em;background-color: white;}#sk-container-id-2 div.sk-label label {font-family: monospace;font-weight: bold;display: inline-block;line-height: 1.2em;}#sk-container-id-2 div.sk-label-container {text-align: center;}#sk-container-id-2 div.sk-container {/* jupyter's `normalize.less` sets `[hidden] { display: none; }` but bootstrap.min.css set `[hidden] { display: none !important; }` so we also need the `!important` here to be able to override the default hidden behavior on the sphinx rendered scikit-learn.org. See: https://github.com/scikit-learn/scikit-learn/issues/21755 */display: inline-block !important;position: relative;}#sk-container-id-2 div.sk-text-repr-fallback {display: none;}</style><div id=\"sk-container-id-2\" class=\"sk-top-container\"><div class=\"sk-text-repr-fallback\"><pre>LatentDirichletAllocation(n_components=20, random_state=42)</pre><b>In a Jupyter environment, please rerun this cell to show the HTML representation or trust the notebook. <br />On GitHub, the HTML representation is unable to render, please try loading this page with nbviewer.org.</b></div><div class=\"sk-container\" hidden><div class=\"sk-item\"><div class=\"sk-estimator sk-toggleable\"><input class=\"sk-toggleable__control sk-hidden--visually\" id=\"sk-estimator-id-2\" type=\"checkbox\" checked><label for=\"sk-estimator-id-2\" class=\"sk-toggleable__label sk-toggleable__label-arrow\">LatentDirichletAllocation</label><div class=\"sk-toggleable__content\"><pre>LatentDirichletAllocation(n_components=20, random_state=42)</pre></div></div></div></div></div>"
      ],
      "text/plain": [
       "LatentDirichletAllocation(n_components=20, random_state=42)"
      ]
     },
     "execution_count": 26,
     "metadata": {},
     "output_type": "execute_result"
    }
   ],
   "source": [
    "# TF-IDF vectorization\n",
    "vectorizer = TfidfVectorizer(max_df=0.95, min_df=2, max_features=1000, stop_words='english')\n",
    "# Apply TF-IDF vectorization to the preprocessed text\n",
    "dtm = vectorizer.fit_transform(df_subjectiv[df_subjectiv['polarity'] > 0.5]['preprocessed_txt'])\n",
    "\n",
    "# LDA model\n",
    "num_topics = 20 #separation in 20 topics to visualize some positive or negative topics\n",
    "lda = LatentDirichletAllocation(n_components=num_topics, random_state=42)\n",
    "lda.fit(dtm)  # Fit the LDA model to the TF-IDF matrix"
   ]
  },
  {
   "cell_type": "code",
   "execution_count": 27,
   "id": "219dadaa-2792-4c5b-bf19-a3ccfd194594",
   "metadata": {
    "tags": []
   },
   "outputs": [
    {
     "name": "stdout",
     "output_type": "stream",
     "text": [
      "Topic #1: deserve | abuse | tool | good | supporti | admin | user | know | editor | great\n",
      "Topic #2: user | experienced | good | great | support | sure | excellent | admin | helpful | experience\n",
      "Topic #3: supporta | good | believe | afd | issue | admin | editor | intelligent | levelheade | support\n",
      "Topic #4: editor | good | excellent | great | admin | support | impressive | time | honest | mop\n",
      "Topic #5: answer | question | good | contribution | support | perfect | supportgood | response | great | judgement\n",
      "Topic #6: work | great | admin | vandal | good | support | fighter | wikipedian | think | lot\n",
      "Topic #7: impressed | administrator | good | person | support | kind | faith | great | way | excellent\n",
      "Topic #8: edit | job | good | contribution | support | great | summary | history | vandalism | count\n",
      "Topic #9: nice | guy | happy | support | addition | superb | good | great | vandalfighter | like\n",
      "Topic #10: policy | impress | good | knowledge | understanding | support | brilliant | welcome | editor | point\n",
      "Topic #11: luck | good | problem | contrib | support | definitely | admin | friendly | honestly | impression\n",
      "Topic #12: contributor | nom | great | good | support | yes | excellent | project | course | wonderful\n",
      "Topic #13: supportlook | good | talk | stuff | page | dedicated | mainspace | edit | great | user\n",
      "Topic #14: look | good | like | support | admin | choice | great | builder | pedia | excellent\n",
      "Topic #15: trustworthy | nomination | nominator | support | good | excellent | sensible | editor | plenty | great\n",
      "Topic #16: awesome | support | good | level | qualified | work | great | head | feel | number\n",
      "Topic #17: reason | oppose | good | tere | supportseem | user | editor | misuse | admin | great\n",
      "Topic #18: candidate | good | excellent | great | support | track | record | like | adminship | appear\n",
      "Topic #19: fine | sound | good | interaction | admin | say | support | user | worry | come\n",
      "Topic #20: tool | use | trust | good | concern | mop | doubt | wisely | editor | admin\n"
     ]
    }
   ],
   "source": [
    "print_top_words(lda, vectorizer)"
   ]
  },
  {
   "cell_type": "markdown",
   "id": "fd5c8e3a-6d9b-4d66-882f-c0cfb93d2d50",
   "metadata": {
    "tags": []
   },
   "source": [
    "Some other interesting positive words :\n",
    "- qualified\n",
    "- thrustworthy\n",
    "- contribution\n",
    "- experience\n",
    "- levelheaded\n",
    "- asset\n",
    "- friendly\n",
    "- contribution\n",
    "\n",
    "These terms serve as valuable criterias to the acceptance of a person."
   ]
  },
  {
   "cell_type": "markdown",
   "id": "c9055b50-26f5-46e2-8db7-33d5c379afc4",
   "metadata": {},
   "source": [
    "Then with the negative comments, with polarity smaller than -0,5."
   ]
  },
  {
   "cell_type": "code",
   "execution_count": 28,
   "id": "b48e538f-fa4b-4137-ae83-f65c3ee62a93",
   "metadata": {
    "tags": []
   },
   "outputs": [
    {
     "data": {
      "text/html": [
       "<style>#sk-container-id-3 {color: black;}#sk-container-id-3 pre{padding: 0;}#sk-container-id-3 div.sk-toggleable {background-color: white;}#sk-container-id-3 label.sk-toggleable__label {cursor: pointer;display: block;width: 100%;margin-bottom: 0;padding: 0.3em;box-sizing: border-box;text-align: center;}#sk-container-id-3 label.sk-toggleable__label-arrow:before {content: \"▸\";float: left;margin-right: 0.25em;color: #696969;}#sk-container-id-3 label.sk-toggleable__label-arrow:hover:before {color: black;}#sk-container-id-3 div.sk-estimator:hover label.sk-toggleable__label-arrow:before {color: black;}#sk-container-id-3 div.sk-toggleable__content {max-height: 0;max-width: 0;overflow: hidden;text-align: left;background-color: #f0f8ff;}#sk-container-id-3 div.sk-toggleable__content pre {margin: 0.2em;color: black;border-radius: 0.25em;background-color: #f0f8ff;}#sk-container-id-3 input.sk-toggleable__control:checked~div.sk-toggleable__content {max-height: 200px;max-width: 100%;overflow: auto;}#sk-container-id-3 input.sk-toggleable__control:checked~label.sk-toggleable__label-arrow:before {content: \"▾\";}#sk-container-id-3 div.sk-estimator input.sk-toggleable__control:checked~label.sk-toggleable__label {background-color: #d4ebff;}#sk-container-id-3 div.sk-label input.sk-toggleable__control:checked~label.sk-toggleable__label {background-color: #d4ebff;}#sk-container-id-3 input.sk-hidden--visually {border: 0;clip: rect(1px 1px 1px 1px);clip: rect(1px, 1px, 1px, 1px);height: 1px;margin: -1px;overflow: hidden;padding: 0;position: absolute;width: 1px;}#sk-container-id-3 div.sk-estimator {font-family: monospace;background-color: #f0f8ff;border: 1px dotted black;border-radius: 0.25em;box-sizing: border-box;margin-bottom: 0.5em;}#sk-container-id-3 div.sk-estimator:hover {background-color: #d4ebff;}#sk-container-id-3 div.sk-parallel-item::after {content: \"\";width: 100%;border-bottom: 1px solid gray;flex-grow: 1;}#sk-container-id-3 div.sk-label:hover label.sk-toggleable__label {background-color: #d4ebff;}#sk-container-id-3 div.sk-serial::before {content: \"\";position: absolute;border-left: 1px solid gray;box-sizing: border-box;top: 0;bottom: 0;left: 50%;z-index: 0;}#sk-container-id-3 div.sk-serial {display: flex;flex-direction: column;align-items: center;background-color: white;padding-right: 0.2em;padding-left: 0.2em;position: relative;}#sk-container-id-3 div.sk-item {position: relative;z-index: 1;}#sk-container-id-3 div.sk-parallel {display: flex;align-items: stretch;justify-content: center;background-color: white;position: relative;}#sk-container-id-3 div.sk-item::before, #sk-container-id-3 div.sk-parallel-item::before {content: \"\";position: absolute;border-left: 1px solid gray;box-sizing: border-box;top: 0;bottom: 0;left: 50%;z-index: -1;}#sk-container-id-3 div.sk-parallel-item {display: flex;flex-direction: column;z-index: 1;position: relative;background-color: white;}#sk-container-id-3 div.sk-parallel-item:first-child::after {align-self: flex-end;width: 50%;}#sk-container-id-3 div.sk-parallel-item:last-child::after {align-self: flex-start;width: 50%;}#sk-container-id-3 div.sk-parallel-item:only-child::after {width: 0;}#sk-container-id-3 div.sk-dashed-wrapped {border: 1px dashed gray;margin: 0 0.4em 0.5em 0.4em;box-sizing: border-box;padding-bottom: 0.4em;background-color: white;}#sk-container-id-3 div.sk-label label {font-family: monospace;font-weight: bold;display: inline-block;line-height: 1.2em;}#sk-container-id-3 div.sk-label-container {text-align: center;}#sk-container-id-3 div.sk-container {/* jupyter's `normalize.less` sets `[hidden] { display: none; }` but bootstrap.min.css set `[hidden] { display: none !important; }` so we also need the `!important` here to be able to override the default hidden behavior on the sphinx rendered scikit-learn.org. See: https://github.com/scikit-learn/scikit-learn/issues/21755 */display: inline-block !important;position: relative;}#sk-container-id-3 div.sk-text-repr-fallback {display: none;}</style><div id=\"sk-container-id-3\" class=\"sk-top-container\"><div class=\"sk-text-repr-fallback\"><pre>LatentDirichletAllocation(n_components=20, random_state=42)</pre><b>In a Jupyter environment, please rerun this cell to show the HTML representation or trust the notebook. <br />On GitHub, the HTML representation is unable to render, please try loading this page with nbviewer.org.</b></div><div class=\"sk-container\" hidden><div class=\"sk-item\"><div class=\"sk-estimator sk-toggleable\"><input class=\"sk-toggleable__control sk-hidden--visually\" id=\"sk-estimator-id-3\" type=\"checkbox\" checked><label for=\"sk-estimator-id-3\" class=\"sk-toggleable__label sk-toggleable__label-arrow\">LatentDirichletAllocation</label><div class=\"sk-toggleable__content\"><pre>LatentDirichletAllocation(n_components=20, random_state=42)</pre></div></div></div></div></div>"
      ],
      "text/plain": [
       "LatentDirichletAllocation(n_components=20, random_state=42)"
      ]
     },
     "execution_count": 28,
     "metadata": {},
     "output_type": "execute_result"
    }
   ],
   "source": [
    "# TF-IDF vectorization\n",
    "vectorizer = TfidfVectorizer(max_df=0.95, min_df=2, max_features=1000, stop_words='english')\n",
    "# Apply TF-IDF vectorization to the preprocessed text\n",
    "dtm = vectorizer.fit_transform(df_subjectiv[df_subjectiv['polarity'] < 0]['preprocessed_txt'])\n",
    "\n",
    "# LDA model\n",
    "num_topics = 20 #separation in 20 topics to visualize some positive or negative topics\n",
    "lda = LatentDirichletAllocation(n_components=num_topics, random_state=42)\n",
    "lda.fit(dtm)  # Fit the LDA model to the TF-IDF matrix"
   ]
  },
  {
   "cell_type": "code",
   "execution_count": 29,
   "id": "e51f7de3-74cd-4c00-b1f8-b7ee7faa7016",
   "metadata": {
    "tags": []
   },
   "outputs": [
    {
     "name": "stdout",
     "output_type": "stream",
     "text": [
      "Topic #1: ready | sorry | suggest | black | usual | early | experience | policy | oppose | close\n",
      "Topic #2: oppose | mistake | pile | stupid | support | admin | learn | user | irc | candidate\n",
      "Topic #3: weak | oppose | little | edit | experience | answer | support | sorry | mainspace | real\n",
      "Topic #4: sure | positive | net | support | ridiculous | admin | think | editor | oppose | user\n",
      "Topic #5: long | bad | support | time | overdue | oh | ago | moral | wait | faith\n",
      "Topic #6: good | content | reason | interaction | negative | edit | oppose | creation | vandal | vague\n",
      "Topic #7: vote | silly | support | oppose | ago | year | rfa | nt | month | track\n",
      "Topic #8: sorry | support | oppose | soon | unnecessary | qualified | joke | thank | pileon | section\n",
      "Topic #9: concern | major | issue | raise | oppose | sorry | csd | civility | past | support\n",
      "Topic #10: deal | admin | big | oppose | user | editor | candidate | adminship | situation | article\n",
      "Topic #11: wrong | edit | summary | low | count | support | number | far | nominate | user\n",
      "Topic #12: support | extreme | absolutely | criterion | guy | crazy | deserve | fail | nominator | inexperience\n",
      "Topic #13: mean | vandalism | edit | page | admin | seriously | user | support | talk | revert\n",
      "Topic #14: deletion | article | speedy | oppose | delete | admin | answer | question | tag | candidate\n",
      "Topic #15: edit | experience | lack | month | sorry | area | article | wikipedia | namespace | little\n",
      "Topic #16: sense | common | fail | yes | editcountitis | test | fuck | new | head | oppose\n",
      "Topic #17: inexperienced | oppose | support | answer | hate | candidate | rfas | lean | selfnom | comfortable\n",
      "Topic #18: abuse | unlikely | tool | admin | late | misuse | support | user | administrator | solid\n",
      "Topic #19: answer | duh | hard | question | standard | support | opposeper | work | meet | comment\n",
      "Topic #20: active | user | admin | trustworthy | trust | supporti | support | editor | helpful | tool\n"
     ]
    }
   ],
   "source": [
    "print_top_words(lda, vectorizer)"
   ]
  },
  {
   "cell_type": "markdown",
   "id": "6341b80c-5080-460c-a555-a007fa077bd6",
   "metadata": {},
   "source": [
    "From this word list, we can infer certain criteria indicative of non-acceptance:\n",
    "- uncivil\n",
    "- dangerous\n",
    "- idiot\n",
    "- stupid\n",
    "- immature\n",
    "\n"
   ]
  },
  {
   "cell_type": "markdown",
   "id": "3f4d3d4c-81a1-4a7d-a6d7-5f21ebdece94",
   "metadata": {},
   "source": [
    "## Which words are most frequently utilized in the comments?"
   ]
  },
  {
   "cell_type": "code",
   "execution_count": 30,
   "id": "159d0500-546b-4217-807a-aed5b76a2ac2",
   "metadata": {
    "tags": []
   },
   "outputs": [
    {
     "name": "stdout",
     "output_type": "stream",
     "text": [
      "most common words in all the comments : \n",
      " [('good', 45056), ('support', 42443), ('admin', 35350), ('edit', 26957), ('user', 25202), ('oppose', 24113), ('editor', 22283), ('candidate', 18422), ('work', 18105), ('think', 17157), ('tool', 16284), ('experience', 16140), ('like', 15166), ('time', 14377), ('answer', 14362), ('article', 14052), ('need', 13377), ('rfa', 13286), ('great', 12446), ('wikipedia', 12326)] \n",
      "\n",
      "most common words the positive comments : \n",
      " [('good', 18075), ('support', 7442), ('great', 5913), ('admin', 5390), ('editor', 4835), ('user', 4233), ('excellent', 3767), ('candidate', 3079), ('work', 2910), ('look', 2738), ('answer', 2303), ('like', 2076), ('tool', 2048), ('luck', 1903), ('edit', 1710), ('question', 1567), ('see', 1553), ('contribution', 1553), ('think', 1467), ('experience', 1441)] \n",
      "\n",
      "most common words the negative comments : \n",
      " [('bad', 174), ('support', 125), ('oppose', 101), ('admin', 87), ('hate', 51), ('user', 49), ('think', 43), ('tool', 41), ('reason', 39), ('like', 37), ('need', 36), ('edit', 35), ('answer', 35), ('rfa', 33), ('candidate', 31), ('vote', 27), ('question', 26), ('afraid', 26), ('see', 25), ('stupid', 23)] \n",
      "\n"
     ]
    }
   ],
   "source": [
    "all_text = ' '.join(df_subjectiv['preprocessed_txt'].astype(str))\n",
    "all_text_p = ' '.join(df_subjectiv[df_subjectiv['polarity'] > 0.5]['preprocessed_txt'].astype(str))\n",
    "all_text_n = ' '.join(df_subjectiv[df_subjectiv['polarity'] < -0.5]['preprocessed_txt'].astype(str))\n",
    "\n",
    "# Tokenize the text into words\n",
    "words = re.findall(r'\\b\\w+\\b', all_text.lower())\n",
    "words_p = re.findall(r'\\b\\w+\\b', all_text_p.lower())\n",
    "words_n = re.findall(r'\\b\\w+\\b', all_text_n.lower())\n",
    "\n",
    "\n",
    "# count occurrences of each word\n",
    "word_counts = Counter(words)\n",
    "word_counts_p = Counter(words_p)\n",
    "word_counts_n = Counter(words_n)\n",
    "\n",
    "# Print the most common words and their counts for all/positive/negative comments\n",
    "print('most common words in all the comments : \\n', word_counts.most_common(20),'\\n')\n",
    "print('most common words the positive comments : \\n', word_counts_p.most_common(20),'\\n')\n",
    "print('most common words the negative comments : \\n', word_counts_n.most_common(20),'\\n')"
   ]
  },
  {
   "cell_type": "code",
   "execution_count": null,
   "id": "e707252e-c474-493f-87e9-ec83ad813ee0",
   "metadata": {},
   "outputs": [],
   "source": []
  }
 ],
 "metadata": {
  "kernelspec": {
   "display_name": "Python 3 (ipykernel)",
   "language": "python",
   "name": "python3"
  },
  "language_info": {
   "codemirror_mode": {
    "name": "ipython",
    "version": 3
   },
   "file_extension": ".py",
   "mimetype": "text/x-python",
   "name": "python",
   "nbconvert_exporter": "python",
   "pygments_lexer": "ipython3",
   "version": "3.11.5"
  }
 },
 "nbformat": 4,
 "nbformat_minor": 5
}
