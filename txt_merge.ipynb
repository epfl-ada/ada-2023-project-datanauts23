{
 "cells": [
  {
   "cell_type": "markdown",
   "id": "60eddb9d-cf7c-4141-ae6d-3fed760332c8",
   "metadata": {},
   "source": [
    "# Text processing"
   ]
  },
  {
   "cell_type": "markdown",
   "id": "26c4cbac-b704-4136-ad9e-2290099b904a",
   "metadata": {
    "tags": []
   },
   "source": [
    "### Imports"
   ]
  },
  {
   "cell_type": "code",
   "execution_count": 46,
   "id": "ae73c293-bd44-4b1c-b356-19e8cc8b98fa",
   "metadata": {
    "tags": []
   },
   "outputs": [],
   "source": [
    "import importlib\n",
    "import pandas as pd\n",
    "import modules.data_processing\n",
    "import seaborn as sns\n",
    "import matplotlib.pyplot as plt\n",
    "from textblob import TextBlob\n",
    "import spacy\n",
    "import string\n",
    "import nltk\n",
    "from collections import Counter\n",
    "from sklearn.feature_extraction.text import CountVectorizer\n",
    "from sklearn.decomposition import LatentDirichletAllocation\n",
    "from sklearn.feature_extraction.text import TfidfVectorizer\n",
    "from modules.data_processing import *"
   ]
  },
  {
   "cell_type": "code",
   "execution_count": 4,
   "id": "591e9370-7ed2-49d3-a178-0750e24c4f9f",
   "metadata": {
    "tags": []
   },
   "outputs": [],
   "source": [
    "importlib.reload(modules.data_processing)\n",
    "from modules.data_processing import *"
   ]
  },
  {
   "cell_type": "code",
   "execution_count": 5,
   "id": "da07c97c-0f57-4ed5-8379-50b5bab148e1",
   "metadata": {
    "tags": []
   },
   "outputs": [],
   "source": [
    "DATA_PATH = './data/wiki-RfA.txt'"
   ]
  },
  {
   "cell_type": "markdown",
   "id": "b76df707-a244-436a-a24a-1c412408fce6",
   "metadata": {
    "tags": []
   },
   "source": [
    "### Loading Processed Dataset"
   ]
  },
  {
   "cell_type": "code",
   "execution_count": 6,
   "id": "891a85ea-6b6f-44a6-a604-49dbd1317bde",
   "metadata": {
    "tags": []
   },
   "outputs": [],
   "source": [
    "wiki_df = extract_data(DATA_PATH)\n",
    "process_dataframe(wiki_df)"
   ]
  },
  {
   "cell_type": "code",
   "execution_count": 7,
   "id": "5dc5cc37-c25a-474b-b96a-04dd6787dc8d",
   "metadata": {
    "tags": []
   },
   "outputs": [
    {
     "data": {
      "text/html": [
       "<div>\n",
       "<style scoped>\n",
       "    .dataframe tbody tr th:only-of-type {\n",
       "        vertical-align: middle;\n",
       "    }\n",
       "\n",
       "    .dataframe tbody tr th {\n",
       "        vertical-align: top;\n",
       "    }\n",
       "\n",
       "    .dataframe thead th {\n",
       "        text-align: right;\n",
       "    }\n",
       "</style>\n",
       "<table border=\"1\" class=\"dataframe\">\n",
       "  <thead>\n",
       "    <tr style=\"text-align: right;\">\n",
       "      <th></th>\n",
       "      <th>SRC</th>\n",
       "      <th>TGT</th>\n",
       "      <th>VOT</th>\n",
       "      <th>RES</th>\n",
       "      <th>YEA</th>\n",
       "      <th>DAT</th>\n",
       "      <th>TXT</th>\n",
       "      <th>ELECTION_ID</th>\n",
       "    </tr>\n",
       "  </thead>\n",
       "  <tbody>\n",
       "    <tr>\n",
       "      <th>0</th>\n",
       "      <td>Steel1943</td>\n",
       "      <td>BDD</td>\n",
       "      <td>1</td>\n",
       "      <td>1</td>\n",
       "      <td>2013</td>\n",
       "      <td>2013-04-19 23:13:00</td>\n",
       "      <td>'''Support''' as co-nom.</td>\n",
       "      <td>1</td>\n",
       "    </tr>\n",
       "    <tr>\n",
       "      <th>1</th>\n",
       "      <td>Cuchullain</td>\n",
       "      <td>BDD</td>\n",
       "      <td>1</td>\n",
       "      <td>1</td>\n",
       "      <td>2013</td>\n",
       "      <td>2013-04-20 01:04:00</td>\n",
       "      <td>'''Support''' as nominator.--</td>\n",
       "      <td>1</td>\n",
       "    </tr>\n",
       "    <tr>\n",
       "      <th>2</th>\n",
       "      <td>INeverCry</td>\n",
       "      <td>BDD</td>\n",
       "      <td>1</td>\n",
       "      <td>1</td>\n",
       "      <td>2013</td>\n",
       "      <td>2013-04-19 23:43:00</td>\n",
       "      <td>'''Support''' per noms.</td>\n",
       "      <td>1</td>\n",
       "    </tr>\n",
       "    <tr>\n",
       "      <th>3</th>\n",
       "      <td>Cncmaster</td>\n",
       "      <td>BDD</td>\n",
       "      <td>1</td>\n",
       "      <td>1</td>\n",
       "      <td>2013</td>\n",
       "      <td>2013-04-20 00:11:00</td>\n",
       "      <td>'''Support''' per noms. BDD is a strong contri...</td>\n",
       "      <td>1</td>\n",
       "    </tr>\n",
       "    <tr>\n",
       "      <th>4</th>\n",
       "      <td>Miniapolis</td>\n",
       "      <td>BDD</td>\n",
       "      <td>1</td>\n",
       "      <td>1</td>\n",
       "      <td>2013</td>\n",
       "      <td>2013-04-20 00:56:00</td>\n",
       "      <td>'''Support''', with great pleasure. I work wit...</td>\n",
       "      <td>1</td>\n",
       "    </tr>\n",
       "    <tr>\n",
       "      <th>5</th>\n",
       "      <td>Sven Manguard</td>\n",
       "      <td>BDD</td>\n",
       "      <td>1</td>\n",
       "      <td>1</td>\n",
       "      <td>2013</td>\n",
       "      <td>2013-04-20 01:53:00</td>\n",
       "      <td>'''Support''' There are plenty of important ro...</td>\n",
       "      <td>1</td>\n",
       "    </tr>\n",
       "    <tr>\n",
       "      <th>6</th>\n",
       "      <td>Ramaksoud2000</td>\n",
       "      <td>BDD</td>\n",
       "      <td>1</td>\n",
       "      <td>1</td>\n",
       "      <td>2013</td>\n",
       "      <td>2013-04-20 02:00:00</td>\n",
       "      <td>'''Support''' per noms. I don't see a reason n...</td>\n",
       "      <td>1</td>\n",
       "    </tr>\n",
       "    <tr>\n",
       "      <th>7</th>\n",
       "      <td>RockMagnetist</td>\n",
       "      <td>BDD</td>\n",
       "      <td>1</td>\n",
       "      <td>1</td>\n",
       "      <td>2013</td>\n",
       "      <td>2013-04-20 02:18:00</td>\n",
       "      <td>'''Support'''  BDD already wields a broom pret...</td>\n",
       "      <td>1</td>\n",
       "    </tr>\n",
       "    <tr>\n",
       "      <th>8</th>\n",
       "      <td>Carrite</td>\n",
       "      <td>BDD</td>\n",
       "      <td>1</td>\n",
       "      <td>1</td>\n",
       "      <td>2013</td>\n",
       "      <td>2013-04-20 02:22:00</td>\n",
       "      <td>'''Support''' barring a completely unexpected ...</td>\n",
       "      <td>1</td>\n",
       "    </tr>\n",
       "    <tr>\n",
       "      <th>9</th>\n",
       "      <td>Someguy1221</td>\n",
       "      <td>BDD</td>\n",
       "      <td>1</td>\n",
       "      <td>1</td>\n",
       "      <td>2013</td>\n",
       "      <td>2013-04-20 03:09:00</td>\n",
       "      <td>'''Support''' because I see no good reason not...</td>\n",
       "      <td>1</td>\n",
       "    </tr>\n",
       "  </tbody>\n",
       "</table>\n",
       "</div>"
      ],
      "text/plain": [
       "             SRC  TGT  VOT  RES   YEA                 DAT  \\\n",
       "0      Steel1943  BDD    1    1  2013 2013-04-19 23:13:00   \n",
       "1     Cuchullain  BDD    1    1  2013 2013-04-20 01:04:00   \n",
       "2      INeverCry  BDD    1    1  2013 2013-04-19 23:43:00   \n",
       "3      Cncmaster  BDD    1    1  2013 2013-04-20 00:11:00   \n",
       "4     Miniapolis  BDD    1    1  2013 2013-04-20 00:56:00   \n",
       "5  Sven Manguard  BDD    1    1  2013 2013-04-20 01:53:00   \n",
       "6  Ramaksoud2000  BDD    1    1  2013 2013-04-20 02:00:00   \n",
       "7  RockMagnetist  BDD    1    1  2013 2013-04-20 02:18:00   \n",
       "8        Carrite  BDD    1    1  2013 2013-04-20 02:22:00   \n",
       "9    Someguy1221  BDD    1    1  2013 2013-04-20 03:09:00   \n",
       "\n",
       "                                                 TXT  ELECTION_ID  \n",
       "0                           '''Support''' as co-nom.            1  \n",
       "1                      '''Support''' as nominator.--            1  \n",
       "2                            '''Support''' per noms.            1  \n",
       "3  '''Support''' per noms. BDD is a strong contri...            1  \n",
       "4  '''Support''', with great pleasure. I work wit...            1  \n",
       "5  '''Support''' There are plenty of important ro...            1  \n",
       "6  '''Support''' per noms. I don't see a reason n...            1  \n",
       "7  '''Support'''  BDD already wields a broom pret...            1  \n",
       "8  '''Support''' barring a completely unexpected ...            1  \n",
       "9  '''Support''' because I see no good reason not...            1  "
      ]
     },
     "execution_count": 7,
     "metadata": {},
     "output_type": "execute_result"
    }
   ],
   "source": [
    "wiki_df.head(10)"
   ]
  },
  {
   "cell_type": "markdown",
   "id": "86ece8f5-da89-4a11-8d6e-c58fcda257c3",
   "metadata": {
    "tags": []
   },
   "source": [
    "### Text preprocessing"
   ]
  },
  {
   "cell_type": "code",
   "execution_count": 8,
   "id": "b2710da2-d18e-448c-a2cd-d108eb646bd8",
   "metadata": {
    "tags": []
   },
   "outputs": [],
   "source": [
    "wiki_copy = wiki_df.copy()"
   ]
  },
  {
   "cell_type": "code",
   "execution_count": 9,
   "id": "3dac1460-28f5-413f-a4fb-a4370b425afe",
   "metadata": {
    "tags": []
   },
   "outputs": [
    {
     "data": {
      "text/plain": [
       "7190"
      ]
     },
     "execution_count": 9,
     "metadata": {},
     "output_type": "execute_result"
    }
   ],
   "source": [
    "len(wiki_copy[wiki_copy['TXT'] == '']['TXT'])"
   ]
  },
  {
   "cell_type": "markdown",
   "id": "eafcf3d5-705b-4319-8825-dca3d69dc4e8",
   "metadata": {},
   "source": [
    "* We notice that we have 7190 missing values among comments. \n",
    "\n",
    "We don't do the replacement at this stage of empty comments by NaN, because we intend to maintain them as strings for the following steps. "
   ]
  },
  {
   "cell_type": "markdown",
   "id": "516cc3ca-bb73-4ef3-8e53-1e816ba8c7c4",
   "metadata": {},
   "source": [
    "#### Removing the Wiki Markup from the comments"
   ]
  },
  {
   "cell_type": "code",
   "execution_count": 10,
   "id": "91225b56-7cfd-46b8-9f81-2352ad2dae0a",
   "metadata": {
    "tags": []
   },
   "outputs": [],
   "source": [
    "# Make sure that TXT is string\n",
    "wiki_copy['TXT'] = wiki_copy['TXT'].astype(str)"
   ]
  },
  {
   "cell_type": "markdown",
   "id": "cb0f4e9d-2101-4b98-9d78-f80a93fae8fd",
   "metadata": {},
   "source": [
    "* We will try to use a python library called \"wikitextparser\" to easily remove the wiki markup. "
   ]
  },
  {
   "cell_type": "code",
   "execution_count": 12,
   "id": "77c921bd-00ea-4986-9d17-52bd242e1b2a",
   "metadata": {
    "tags": []
   },
   "outputs": [],
   "source": [
    "from wikitextparser import remove_markup"
   ]
  },
  {
   "cell_type": "code",
   "execution_count": 13,
   "id": "211dfd97-83e1-4439-a381-7c154a0cb8dc",
   "metadata": {
    "tags": []
   },
   "outputs": [
    {
     "data": {
      "text/plain": [
       "\"Congratulatory '''Support''' - Excellent [[Wikipedia:WikiProject Military history|WikiProject:Military history]] experience with this user. Can be trusted with new responsibility.\""
      ]
     },
     "execution_count": 13,
     "metadata": {},
     "output_type": "execute_result"
    }
   ],
   "source": [
    "# comment example from the dataset \n",
    "example = wiki_copy.iloc[66609]['TXT']\n",
    "example"
   ]
  },
  {
   "cell_type": "code",
   "execution_count": 14,
   "id": "d3e4faaa-fd60-4b5a-a82a-4d6b434fec0d",
   "metadata": {
    "tags": []
   },
   "outputs": [
    {
     "data": {
      "text/plain": [
       "'Congratulatory Support - Excellent WikiProject:Military history experience with this user. Can be trusted with new responsibility.'"
      ]
     },
     "execution_count": 14,
     "metadata": {},
     "output_type": "execute_result"
    }
   ],
   "source": [
    "remove_markup(example)"
   ]
  },
  {
   "cell_type": "markdown",
   "id": "5147a6bb-250a-4d06-bb72-e88dbbdc500f",
   "metadata": {},
   "source": [
    "* The library didn't handle the link removal as expected. Therefore, we will implement a classic function using regular expressions to remove the wiki markup, relying on the Wikitext structure on the website [Wikitext](https://en.wikipedia.org/wiki/Help:Wikitext)."
   ]
  },
  {
   "cell_type": "code",
   "execution_count": 45,
   "id": "3e7d916d-40c8-4196-b59e-bf3cacd52270",
   "metadata": {
    "tags": []
   },
   "outputs": [
    {
     "data": {
      "text/plain": [
       "'Congratulatory Support - Excellent  experience with this user. Can be trusted with new responsibility.'"
      ]
     },
     "execution_count": 45,
     "metadata": {},
     "output_type": "execute_result"
    }
   ],
   "source": [
    "importlib.reload(modules.data_processing)\n",
    "remove_wiki_markup(example)"
   ]
  },
  {
   "cell_type": "markdown",
   "id": "3f1523a2-9f88-4500-a9fe-84a00d976c9a",
   "metadata": {},
   "source": [
    "* The results is indeed what we want. Let's test on a random sample of comments."
   ]
  },
  {
   "cell_type": "code",
   "execution_count": 17,
   "id": "62e6b93c-8cc2-4337-b330-c07c61b60e16",
   "metadata": {
    "tags": []
   },
   "outputs": [
    {
     "name": "stdout",
     "output_type": "stream",
     "text": [
      "0  :  {{EC}} '''Support''' per pretty much everybody else above me. There are no red flags, and it is relatively easy to read [[WP:BLOCK]], [[WP:DELETE]], [[WP:PROTECT]], [[WP:REVDEL]], and [[WP:ADMIN]]. (Hint: If you haven't, go read them now.)\n",
      "\n",
      "1  :  '''Support''' Absolutely shocked to find that this user isn't already an admin. (\n",
      "\n",
      "2  :  '''Support''' Everyone else has already said why.\n",
      "\n",
      "3  :  '''Support''' - I've seen this user's work at GA, and it's tremendous.\n",
      "\n",
      "4  :  '''Support''' - Looks fine overall. Many of those opposing are focusing on some of the more unorthodox aspects of this RfA. Those don't concern me at all.\n",
      "\n",
      "5  :  '''Support''' on the assurance that he will consider offering {{tl|2nd chances}} to vandals who claim they want to contribute constructively. It can't hurt, one of two things will happen - 1) they will lash out and resume trolling their talk page or 2) they will come up with a well-referenced addition to one of our articles, and hopefully continue doing so after ultimately being unblocked. Also, he's been here for ages, does solid article & CSD/XfD work and he's got a lot of people I respect supporting him. Net positive. –<font face=\"Verdana\">\n",
      "\n",
      "6  :  '''Strongest possible oppose''' I can't remember adding a strong oppose to a RfA, however in this case I even have to add my strongest possible oppose. Firstly, I have to say that I'm in perfect agreement with [[User:Ecoleetage]], [[User:KojiDude]], [[User:Tanthalas39]] and [[User:Caulde]] here. Actually, I'm really astonished by what is happening here. How can I trust someone who has not demonstrated ''any'' of the things I expect from an admin? This user has 11 edits in the mainspace (!). Usually, such a RfA would be closed per [[WP:SNOW]]/[[WP:NOTNOW]] (justifiably!). Great, this user is an administrator on another Wikipedia. However, how can a user with virtually no experience on this wiki have enough policy knowledge? Simply, he can't. Summarising, this user has not contributed any content to this encyclopedia, he has no experience in any admin area, plainly he has no overall experience here. Any admin would reasonably decline a rollback request from this user, so how can this user be granted adminship? Again, I'm astonished and equally shocked by what is happening here. I really do hope that our bureaucrats won't count votes when closing this one, but rather carefully consider all arguments and concerns. —\n",
      "\n",
      "7  :  '''Support''' - have seen the candidate around, seems trustworthy and sensible. Mostly agree with the oppose 'voters' about problems with admin coaching, however, I don't believe the concerns are sufficient to justify opposing.\n",
      "\n",
      "8  :  '''Oppose'''. User is bordering on [[WP:BITE|bitey]] interaction. Combined with strong beliefs and wanting to defend them, it feels like having an open mind while resolving disputes as an admin would be difficult.\n",
      "\n",
      "9  :  '''Support''' Excellent, trustworthy editor.\n",
      "\n"
     ]
    }
   ],
   "source": [
    "txts = wiki_copy['TXT'].sample(10).copy()\n",
    "for i, comment in enumerate(txts): \n",
    "    print(i, ' : ' , comment)\n",
    "    print() "
   ]
  },
  {
   "cell_type": "code",
   "execution_count": 18,
   "id": "fc4ed3d5-445a-4009-9c28-7dd0acb3726f",
   "metadata": {
    "tags": []
   },
   "outputs": [
    {
     "name": "stdout",
     "output_type": "stream",
     "text": [
      "0  :   Support per pretty much everybody else above me. There are no red flags, and it is relatively easy to read , , , , and . (Hint: If you haven't, go read them now.)\n",
      "\n",
      "1  :  Support Absolutely shocked to find that this user isn't already an admin. (\n",
      "\n",
      "2  :  Support Everyone else has already said why.\n",
      "\n",
      "3  :  Support - I've seen this user's work at GA, and it's tremendous.\n",
      "\n",
      "4  :  Support - Looks fine overall. Many of those opposing are focusing on some of the more unorthodox aspects of this RfA. Those don't concern me at all.\n",
      "\n",
      "5  :  Support on the assurance that he will consider offering  to vandals who claim they want to contribute constructively. It can't hurt, one of two things will happen - 1) they will lash out and resume trolling their talk page or 2) they will come up with a well-referenced addition to one of our articles, and hopefully continue doing so after ultimately being unblocked. Also, he's been here for ages, does solid article & CSD/XfD work and he's got a lot of people I respect supporting him. Net positive. –\n",
      "\n",
      "6  :  Strongest possible oppose I can't remember adding a strong oppose to a RfA, however in this case I even have to add my strongest possible oppose. Firstly, I have to say that I'm in perfect agreement with , ,  and  here. Actually, I'm really astonished by what is happening here. How can I trust someone who has not demonstrated any of the things I expect from an admin? This user has 11 edits in the mainspace (!). Usually, such a RfA would be closed per / (justifiably!). Great, this user is an administrator on another Wikipedia. However, how can a user with virtually no experience on this wiki have enough policy knowledge? Simply, he can't. Summarising, this user has not contributed any content to this encyclopedia, he has no experience in any admin area, plainly he has no overall experience here. Any admin would reasonably decline a rollback request from this user, so how can this user be granted adminship? Again, I'm astonished and equally shocked by what is happening here. I really do hope that our bureaucrats won't count votes when closing this one, but rather carefully consider all arguments and concerns. —\n",
      "\n",
      "7  :  Support - have seen the candidate around, seems trustworthy and sensible. Mostly agree with the oppose 'voters' about problems with admin coaching, however, I don't believe the concerns are sufficient to justify opposing.\n",
      "\n",
      "8  :  Oppose. User is bordering on  interaction. Combined with strong beliefs and wanting to defend them, it feels like having an open mind while resolving disputes as an admin would be difficult.\n",
      "\n",
      "9  :  Support Excellent, trustworthy editor.\n",
      "\n"
     ]
    }
   ],
   "source": [
    "for i, comment in enumerate(txts): \n",
    "    print(i, ' : ' , remove_wiki_markup(comment))\n",
    "    print() "
   ]
  },
  {
   "cell_type": "markdown",
   "id": "9e59ec81-002c-4aa6-ad87-bd4c0e36bc07",
   "metadata": {},
   "source": [
    "* It seems that it works well on the comments of our dataset. We create then a column for cleaned comments."
   ]
  },
  {
   "cell_type": "code",
   "execution_count": 19,
   "id": "7f2626dc-d2a7-4fc8-aff9-be7947bb0cdb",
   "metadata": {
    "tags": []
   },
   "outputs": [
    {
     "data": {
      "text/html": [
       "<div>\n",
       "<style scoped>\n",
       "    .dataframe tbody tr th:only-of-type {\n",
       "        vertical-align: middle;\n",
       "    }\n",
       "\n",
       "    .dataframe tbody tr th {\n",
       "        vertical-align: top;\n",
       "    }\n",
       "\n",
       "    .dataframe thead th {\n",
       "        text-align: right;\n",
       "    }\n",
       "</style>\n",
       "<table border=\"1\" class=\"dataframe\">\n",
       "  <thead>\n",
       "    <tr style=\"text-align: right;\">\n",
       "      <th></th>\n",
       "      <th>SRC</th>\n",
       "      <th>TGT</th>\n",
       "      <th>VOT</th>\n",
       "      <th>RES</th>\n",
       "      <th>YEA</th>\n",
       "      <th>DAT</th>\n",
       "      <th>TXT</th>\n",
       "      <th>ELECTION_ID</th>\n",
       "      <th>CLE</th>\n",
       "    </tr>\n",
       "  </thead>\n",
       "  <tbody>\n",
       "    <tr>\n",
       "      <th>0</th>\n",
       "      <td>Steel1943</td>\n",
       "      <td>BDD</td>\n",
       "      <td>1</td>\n",
       "      <td>1</td>\n",
       "      <td>2013</td>\n",
       "      <td>2013-04-19 23:13:00</td>\n",
       "      <td>'''Support''' as co-nom.</td>\n",
       "      <td>1</td>\n",
       "      <td>Support as co-nom.</td>\n",
       "    </tr>\n",
       "    <tr>\n",
       "      <th>1</th>\n",
       "      <td>Cuchullain</td>\n",
       "      <td>BDD</td>\n",
       "      <td>1</td>\n",
       "      <td>1</td>\n",
       "      <td>2013</td>\n",
       "      <td>2013-04-20 01:04:00</td>\n",
       "      <td>'''Support''' as nominator.--</td>\n",
       "      <td>1</td>\n",
       "      <td>Support as nominator.</td>\n",
       "    </tr>\n",
       "    <tr>\n",
       "      <th>2</th>\n",
       "      <td>INeverCry</td>\n",
       "      <td>BDD</td>\n",
       "      <td>1</td>\n",
       "      <td>1</td>\n",
       "      <td>2013</td>\n",
       "      <td>2013-04-19 23:43:00</td>\n",
       "      <td>'''Support''' per noms.</td>\n",
       "      <td>1</td>\n",
       "      <td>Support per noms.</td>\n",
       "    </tr>\n",
       "    <tr>\n",
       "      <th>3</th>\n",
       "      <td>Cncmaster</td>\n",
       "      <td>BDD</td>\n",
       "      <td>1</td>\n",
       "      <td>1</td>\n",
       "      <td>2013</td>\n",
       "      <td>2013-04-20 00:11:00</td>\n",
       "      <td>'''Support''' per noms. BDD is a strong contri...</td>\n",
       "      <td>1</td>\n",
       "      <td>Support per noms. BDD is a strong contributor ...</td>\n",
       "    </tr>\n",
       "    <tr>\n",
       "      <th>4</th>\n",
       "      <td>Miniapolis</td>\n",
       "      <td>BDD</td>\n",
       "      <td>1</td>\n",
       "      <td>1</td>\n",
       "      <td>2013</td>\n",
       "      <td>2013-04-20 00:56:00</td>\n",
       "      <td>'''Support''', with great pleasure. I work wit...</td>\n",
       "      <td>1</td>\n",
       "      <td>Support, with great pleasure. I work with BDD ...</td>\n",
       "    </tr>\n",
       "  </tbody>\n",
       "</table>\n",
       "</div>"
      ],
      "text/plain": [
       "          SRC  TGT  VOT  RES   YEA                 DAT  \\\n",
       "0   Steel1943  BDD    1    1  2013 2013-04-19 23:13:00   \n",
       "1  Cuchullain  BDD    1    1  2013 2013-04-20 01:04:00   \n",
       "2   INeverCry  BDD    1    1  2013 2013-04-19 23:43:00   \n",
       "3   Cncmaster  BDD    1    1  2013 2013-04-20 00:11:00   \n",
       "4  Miniapolis  BDD    1    1  2013 2013-04-20 00:56:00   \n",
       "\n",
       "                                                 TXT  ELECTION_ID  \\\n",
       "0                           '''Support''' as co-nom.            1   \n",
       "1                      '''Support''' as nominator.--            1   \n",
       "2                            '''Support''' per noms.            1   \n",
       "3  '''Support''' per noms. BDD is a strong contri...            1   \n",
       "4  '''Support''', with great pleasure. I work wit...            1   \n",
       "\n",
       "                                                 CLE  \n",
       "0                                 Support as co-nom.  \n",
       "1                             Support as nominator.   \n",
       "2                                  Support per noms.  \n",
       "3  Support per noms. BDD is a strong contributor ...  \n",
       "4  Support, with great pleasure. I work with BDD ...  "
      ]
     },
     "execution_count": 19,
     "metadata": {},
     "output_type": "execute_result"
    }
   ],
   "source": [
    "wiki_copy['CLE'] = wiki_copy['TXT'].apply(remove_wiki_markup)\n",
    "wiki_copy.head()"
   ]
  },
  {
   "cell_type": "code",
   "execution_count": 20,
   "id": "86e5838e-9e53-4e6c-bf7a-194bfd3c9f45",
   "metadata": {
    "tags": []
   },
   "outputs": [
    {
     "data": {
      "text/plain": [
       "array([' ', '—', '-', '+', '→', \"'\", '.', '}', '!', '–', 'S', '·', 'I',\n",
       "       '~', '«', '↔', 'C', ':', '(', '\"', '/'], dtype=object)"
      ]
     },
     "execution_count": 20,
     "metadata": {},
     "output_type": "execute_result"
    }
   ],
   "source": [
    "comments_with_one_char = wiki_copy.loc[(wiki_copy['CLE'].apply(len) == 1)]['CLE'].unique() # one char in the comments\n",
    "comments_with_one_char"
   ]
  },
  {
   "cell_type": "code",
   "execution_count": 21,
   "id": "fc14f561-0a27-4bb3-86d1-2b3260b26c25",
   "metadata": {
    "tags": []
   },
   "outputs": [
    {
     "data": {
      "text/plain": [
       "array(['  ', '- ', ' /', '— ', '+ ', '←.', ' [', '. ', \"''\", ' (', '⇦⇨',\n",
       "       ' —', 'OK', '}—', ' -', \"':\", '我是', '++', 'CO', '~ ', ' ~', ' C',\n",
       "       'Q8', ' ☺', 'No', ' 〈', 'Da', 'S.', '! ', ':)'], dtype=object)"
      ]
     },
     "execution_count": 21,
     "metadata": {},
     "output_type": "execute_result"
    }
   ],
   "source": [
    "comments_with_two_char = wiki_copy.loc[(wiki_copy['CLE'].apply(len) == 2)]['CLE'].unique() # two char in the comments\n",
    "comments_with_two_char"
   ]
  },
  {
   "cell_type": "markdown",
   "id": "85a9ae0f-bb5a-446d-9e0a-861541e8da36",
   "metadata": {},
   "source": [
    "* We will delete those comments containing one or two characters that are meaningless for our study."
   ]
  },
  {
   "cell_type": "code",
   "execution_count": 22,
   "id": "c4e31a30-e07f-44f1-b555-d7c02ae18cb1",
   "metadata": {
    "tags": []
   },
   "outputs": [
    {
     "data": {
      "text/plain": [
       "array(['', 'OK', 'No'], dtype=object)"
      ]
     },
     "execution_count": 22,
     "metadata": {},
     "output_type": "execute_result"
    }
   ],
   "source": [
    "wiki_copy['CLE'] = wiki_copy['CLE'].apply(lambda x: '' if len(x) < 3 and x not in ['OK', 'No']  else x)\n",
    "wiki_copy.loc[(wiki_copy['CLE'].apply(len) < 3)]['CLE'].unique()"
   ]
  },
  {
   "cell_type": "code",
   "execution_count": 23,
   "id": "d713c43e-7a47-412f-8dfb-a058a4152568",
   "metadata": {
    "tags": []
   },
   "outputs": [
    {
     "data": {
      "text/plain": [
       "array(['←  ', '!!!', '   ', ' - ', 'Ja.', 'OK.', \"I'm\", 'Yes', '.  ',\n",
       "       \" ''\", '+1–', '賛成 ', ' ••', '} —', '他是好', 'wow', '  ~', \"'' \",\n",
       "       ' ~~', 'No ', '^.^', 'S+1', \"''÷\", 'yup', ' – ', '➲  ', 'Yay',\n",
       "       '  |', 'Q3.', '  (', 'yes', '-  ', 'Yup', '➔  ', 'Aye', '➨  ',\n",
       "       'Q1.', '9 (', '...', 'No.', 'Yep', ' — ', '— (', '— [', '. —',\n",
       "       \"—''\", ' :)', ' (/', ' (|', 'yep', '}} ', 'Baa', 'Moo', 'Ok.',\n",
       "       '!  ', \"— '\", '. -', ':) ', 's  ', \". '\", ' ;)', 'Yo.', ' ()',\n",
       "       ' (\"', ':-)', 'NO.'], dtype=object)"
      ]
     },
     "execution_count": 23,
     "metadata": {},
     "output_type": "execute_result"
    }
   ],
   "source": [
    "wiki_copy.loc[(wiki_copy['CLE'].apply(len) == 3)]['CLE'].unique()"
   ]
  },
  {
   "cell_type": "code",
   "execution_count": 24,
   "id": "02e45f31-10b3-4ac3-bde0-9729e34679bf",
   "metadata": {
    "tags": []
   },
   "outputs": [
    {
     "data": {
      "text/plain": [
       "array(['. - ', 'Yay.', 'Q2 -', 'Sure', 'Yup.', 'Wow.', '.   ', \" - '\",\n",
       "       'Yes.', \" I'm\", 'Duh.', 'Oui ', 'I  /', 'Yeps', '  — ', 'Yes!',\n",
       "       'Yep.', '. ? ', 'Oui.', 'jo  ', '+1  ', 'Yes ', 'Yep!', ' .  ',\n",
       "       'See ', '. ~~', 'NEWT', '  (|', '. – ', ' . —', 'AGF ', 'FGJ–',\n",
       "       'yup.', 'Yep ', '➨ ❝❞', 'Duh!', '-   ', '   ·', 'DUH!', 'Aye.',\n",
       "       'Meh.', \". ''\", \"! ''\", 'Nom.', '  . ', ' ...', '. — ', \"Q5 '\",\n",
       "       'okay', 'Aww.', 'Yup ', 'I am', 'Yea.', ',   ', 'Pig.', '  (/',\n",
       "       'Yo. ', 'Mop.', 'Wow!', '100%', 'Yes,', \"I'm \", 'No. ', 'Bleh',\n",
       "       '   (', 'Да! ', 'Yay!', '.  |', ' ( -', '«»(|', ', . ', 'TAK!',\n",
       "       '<3  ', 'yes!', 'Moo.', 'Cool', 'Hai ', 'Pro.', 'Sup ', 'YES!',\n",
       "       'Ja! ', ' ort', 'yep.', 'Who?', 'Yup,', 'No  ', 'Heh.'],\n",
       "      dtype=object)"
      ]
     },
     "execution_count": 24,
     "metadata": {},
     "output_type": "execute_result"
    }
   ],
   "source": [
    "wiki_copy.loc[(wiki_copy['CLE'].apply(len) == 4)]['CLE'].unique()"
   ]
  },
  {
   "cell_type": "code",
   "execution_count": 25,
   "id": "0ca13e20-5bc3-4298-82db-1f33bcd491ad",
   "metadata": {
    "tags": []
   },
   "outputs": [
    {
     "data": {
      "text/plain": [
       "array(['100%.', 'Yo.  ', 'Yes! ', 'Q2. -', 'Aye.—', 'Sure.', 'nods ',\n",
       "       'Meh -', 'Yerp.', 'Uhhhh', 'Per .', 'Sold.', 'Duh →', 'Sure ',\n",
       "       'sure ', 'Yes  ', 'Solid', \"Yep '\", 'AGF  ', '.    ', 'Okay.',\n",
       "       'Fine.', '    ·', 'Yup. ', 'Yes. ', 'Yup  ', 'No.  ', 'Yes —',\n",
       "       'Damn,', 'Nom  ', 'Desu.', 'Yep. ', '.   (', 'Aye. ', 'Ok. —',\n",
       "       '+S . ', '+S  (', ' () (', 'Aye  ', 'OK.  ', 'ok. —', '+1.  ',\n",
       "       'Yup! ', 'Duh. ', 'PRO -', 'YES  ', '...  ', 'yes. ', 'Moo  ',\n",
       "       'AGF. ', 'Oops.', 'Hut+!', 'See .', 'Yep  ', 'Yeap ', 'GL. –',\n",
       "       ' ..  ', ' ⁿɡ͡b', 'Cool.', 'Fish.', \"Sure'\", 'Yes..', 'Yup..',\n",
       "       'Oui!.', \". —''\", 'Sure!', 'YEs. ', 'Yay. ', \".  ''\", 'Duh .',\n",
       "       'Gasp!', 'Mooo.', 'Agree', 'Yeah.', 'Sì.  ', 'TINC.', 'Frog.',\n",
       "       'w00t.', 'SNFA.', 'Aye =', 'Duh  ', 'Okay!', 'Duh -', 'What?',\n",
       "       'AOL!>', 'No ()', 'Ok.  ', 'Sí.  ', 'Mhmm.', 'Da.  ', '-\"-  ',\n",
       "       'No. -'], dtype=object)"
      ]
     },
     "execution_count": 25,
     "metadata": {},
     "output_type": "execute_result"
    }
   ],
   "source": [
    "wiki_copy.loc[(wiki_copy['CLE'].apply(len) == 5)]['CLE'].unique()"
   ]
  },
  {
   "cell_type": "markdown",
   "id": "c3809aed-dcb0-4f44-880c-fecef4694f3d",
   "metadata": {
    "tags": []
   },
   "source": [
    "When examining comments with a length greater than 2, we find various words and special characters that we cannot eliminate at this point. \n",
    "Due to the extensive number of words and special characters, exhaustive treatment of these comments (by studying the different combinaisons) becomes challenging. "
   ]
  },
  {
   "cell_type": "markdown",
   "id": "38a8f23f-93fb-4da7-b77c-ef2b7418902f",
   "metadata": {},
   "source": [
    "* Let's see then what are the words by which comments start."
   ]
  },
  {
   "cell_type": "code",
   "execution_count": 26,
   "id": "b748646c-3b69-4aad-9935-8c47d64e2eed",
   "metadata": {
    "tags": []
   },
   "outputs": [
    {
     "name": "stdout",
     "output_type": "stream",
     "text": [
      "Support , Occurrence : 68955\n",
      "Support, , Occurrence : 7585\n",
      "Yea, , Occurrence : 6\n",
      "Support. , Occurrence : 23921\n",
      "If , Occurrence : 108\n",
      "Weak , Occurrence : 3370\n",
      "Support: , Occurrence : 1661\n",
      ". , Occurrence : 165\n",
      "Support...opposes , Occurrence : 1\n",
      "Oppose. , Occurrence : 5538\n",
      "Although , Occurrence : 68\n",
      "Oppose , Occurrence : 21033\n",
      "Fruitless , Occurrence : 3\n",
      "Neutral , Occurrence : 5864\n",
      "Yes , Occurrence : 153\n",
      "Strong , Occurrence : 8394\n"
     ]
    }
   ],
   "source": [
    "from collections import defaultdict\n",
    "cleaned_comments = wiki_copy['CLE']\n",
    "\n",
    "first_word_counts = defaultdict(int)\n",
    "for comment in cleaned_comments: \n",
    "    if isinstance(comment, str) and comment.strip(): \n",
    "        first_word = comment.split()[0]\n",
    "        first_word_counts[first_word] += 1\n",
    "i = 0       \n",
    "for word, count in first_word_counts.items(): \n",
    "    print(word, ', Occurrence :', count)\n",
    "    if i == 15: \n",
    "        break\n",
    "    i += 1"
   ]
  },
  {
   "cell_type": "code",
   "execution_count": 27,
   "id": "887b965a-0560-4732-8588-ffe83a8f5987",
   "metadata": {
    "tags": []
   },
   "outputs": [
    {
     "data": {
      "text/plain": [
       "9387"
      ]
     },
     "execution_count": 27,
     "metadata": {},
     "output_type": "execute_result"
    }
   ],
   "source": [
    "# Some comments have become empty\n",
    "# After the wiki markup removal\n",
    "len(wiki_copy[wiki_copy['CLE'] == '']['CLE'])"
   ]
  },
  {
   "cell_type": "markdown",
   "id": "6f9de977-1189-4896-b46d-9406668d738d",
   "metadata": {},
   "source": [
    "* In the cleaned comments, we have now 9387 missing values compared to the initial count of 7190. "
   ]
  },
  {
   "cell_type": "markdown",
   "id": "84b3dac8-7186-468e-8c30-fd77d828c208",
   "metadata": {},
   "source": [
    "Let's take a look at the additional empty comments resulting from our processing."
   ]
  },
  {
   "cell_type": "code",
   "execution_count": 28,
   "id": "43b0aeb7-f6fd-4a34-aa99-7af0419a1c3e",
   "metadata": {
    "tags": []
   },
   "outputs": [
    {
     "data": {
      "text/html": [
       "<div>\n",
       "<style scoped>\n",
       "    .dataframe tbody tr th:only-of-type {\n",
       "        vertical-align: middle;\n",
       "    }\n",
       "\n",
       "    .dataframe tbody tr th {\n",
       "        vertical-align: top;\n",
       "    }\n",
       "\n",
       "    .dataframe thead th {\n",
       "        text-align: right;\n",
       "    }\n",
       "</style>\n",
       "<table border=\"1\" class=\"dataframe\">\n",
       "  <thead>\n",
       "    <tr style=\"text-align: right;\">\n",
       "      <th></th>\n",
       "      <th>SRC</th>\n",
       "      <th>TGT</th>\n",
       "      <th>VOT</th>\n",
       "      <th>RES</th>\n",
       "      <th>YEA</th>\n",
       "      <th>DAT</th>\n",
       "      <th>TXT</th>\n",
       "      <th>ELECTION_ID</th>\n",
       "      <th>CLE</th>\n",
       "    </tr>\n",
       "  </thead>\n",
       "  <tbody>\n",
       "    <tr>\n",
       "      <th>156</th>\n",
       "      <td>Rzuwig</td>\n",
       "      <td>Bilby</td>\n",
       "      <td>1</td>\n",
       "      <td>1</td>\n",
       "      <td>2013</td>\n",
       "      <td>2013-05-25 07:11:00</td>\n",
       "      <td>{{pro}} --</td>\n",
       "      <td>2</td>\n",
       "      <td></td>\n",
       "    </tr>\n",
       "    <tr>\n",
       "      <th>276</th>\n",
       "      <td>Mabdul</td>\n",
       "      <td>Darkwind</td>\n",
       "      <td>1</td>\n",
       "      <td>1</td>\n",
       "      <td>2013</td>\n",
       "      <td>2012-12-26 20:39:00</td>\n",
       "      <td>&lt;small style=\"font: 12px Courier New; color: #...</td>\n",
       "      <td>3</td>\n",
       "      <td></td>\n",
       "    </tr>\n",
       "    <tr>\n",
       "      <th>300</th>\n",
       "      <td>Filelakeshoe</td>\n",
       "      <td>Darkwind</td>\n",
       "      <td>1</td>\n",
       "      <td>1</td>\n",
       "      <td>2013</td>\n",
       "      <td>2012-12-27 21:58:00</td>\n",
       "      <td>&lt;font face=\"trebuchet MS\"&gt;- [[User:Filelakesho...</td>\n",
       "      <td>3</td>\n",
       "      <td></td>\n",
       "    </tr>\n",
       "    <tr>\n",
       "      <th>427</th>\n",
       "      <td>LlamaAl</td>\n",
       "      <td>INeverCry</td>\n",
       "      <td>1</td>\n",
       "      <td>1</td>\n",
       "      <td>2013</td>\n",
       "      <td>2013-01-31 13:17:00</td>\n",
       "      <td>--</td>\n",
       "      <td>4</td>\n",
       "      <td></td>\n",
       "    </tr>\n",
       "    <tr>\n",
       "      <th>441</th>\n",
       "      <td>Jan eissfeldt</td>\n",
       "      <td>INeverCry</td>\n",
       "      <td>1</td>\n",
       "      <td>1</td>\n",
       "      <td>2013</td>\n",
       "      <td>2013-01-31 20:03:00</td>\n",
       "      <td>--</td>\n",
       "      <td>4</td>\n",
       "      <td></td>\n",
       "    </tr>\n",
       "    <tr>\n",
       "      <th>...</th>\n",
       "      <td>...</td>\n",
       "      <td>...</td>\n",
       "      <td>...</td>\n",
       "      <td>...</td>\n",
       "      <td>...</td>\n",
       "      <td>...</td>\n",
       "      <td>...</td>\n",
       "      <td>...</td>\n",
       "      <td>...</td>\n",
       "    </tr>\n",
       "    <tr>\n",
       "      <th>197931</th>\n",
       "      <td>Hcheney</td>\n",
       "      <td>Snowspinner</td>\n",
       "      <td>1</td>\n",
       "      <td>0</td>\n",
       "      <td>2004</td>\n",
       "      <td>2004-05-30 22:25:00</td>\n",
       "      <td>[[User:Hcheney/Support|Support]] --</td>\n",
       "      <td>3864</td>\n",
       "      <td></td>\n",
       "    </tr>\n",
       "    <tr>\n",
       "      <th>197938</th>\n",
       "      <td>Anthony DiPierro</td>\n",
       "      <td>Snowspinner</td>\n",
       "      <td>1</td>\n",
       "      <td>0</td>\n",
       "      <td>2004</td>\n",
       "      <td>NaT</td>\n",
       "      <td>[[User:Hcheney/Support|Support]] [[User:Anthon...</td>\n",
       "      <td>3864</td>\n",
       "      <td></td>\n",
       "    </tr>\n",
       "    <tr>\n",
       "      <th>197940</th>\n",
       "      <td>GeneralPatton</td>\n",
       "      <td>Snowspinner</td>\n",
       "      <td>1</td>\n",
       "      <td>0</td>\n",
       "      <td>2004</td>\n",
       "      <td>2004-06-02 18:13:00</td>\n",
       "      <td>--</td>\n",
       "      <td>3864</td>\n",
       "      <td></td>\n",
       "    </tr>\n",
       "    <tr>\n",
       "      <th>197944</th>\n",
       "      <td>Texture</td>\n",
       "      <td>Snowspinner</td>\n",
       "      <td>1</td>\n",
       "      <td>0</td>\n",
       "      <td>2004</td>\n",
       "      <td>2004-06-04 14:30:00</td>\n",
       "      <td>[[User:Texture|&lt;font color=red&gt;T&amp;#949;x&lt;/font&gt;...</td>\n",
       "      <td>3864</td>\n",
       "      <td></td>\n",
       "    </tr>\n",
       "    <tr>\n",
       "      <th>198002</th>\n",
       "      <td>Grunt</td>\n",
       "      <td>TakuyaMurata</td>\n",
       "      <td>1</td>\n",
       "      <td>0</td>\n",
       "      <td>2004</td>\n",
       "      <td>NaT</td>\n",
       "      <td>--</td>\n",
       "      <td>3866</td>\n",
       "      <td></td>\n",
       "    </tr>\n",
       "  </tbody>\n",
       "</table>\n",
       "<p>2197 rows × 9 columns</p>\n",
       "</div>"
      ],
      "text/plain": [
       "                     SRC           TGT  VOT  RES   YEA                 DAT  \\\n",
       "156               Rzuwig         Bilby    1    1  2013 2013-05-25 07:11:00   \n",
       "276               Mabdul      Darkwind    1    1  2013 2012-12-26 20:39:00   \n",
       "300         Filelakeshoe      Darkwind    1    1  2013 2012-12-27 21:58:00   \n",
       "427              LlamaAl     INeverCry    1    1  2013 2013-01-31 13:17:00   \n",
       "441        Jan eissfeldt     INeverCry    1    1  2013 2013-01-31 20:03:00   \n",
       "...                  ...           ...  ...  ...   ...                 ...   \n",
       "197931           Hcheney   Snowspinner    1    0  2004 2004-05-30 22:25:00   \n",
       "197938  Anthony DiPierro   Snowspinner    1    0  2004                 NaT   \n",
       "197940     GeneralPatton   Snowspinner    1    0  2004 2004-06-02 18:13:00   \n",
       "197944           Texture   Snowspinner    1    0  2004 2004-06-04 14:30:00   \n",
       "198002             Grunt  TakuyaMurata    1    0  2004                 NaT   \n",
       "\n",
       "                                                      TXT  ELECTION_ID CLE  \n",
       "156                                            {{pro}} --            2      \n",
       "276     <small style=\"font: 12px Courier New; color: #...            3      \n",
       "300     <font face=\"trebuchet MS\">- [[User:Filelakesho...            3      \n",
       "427                                                    --            4      \n",
       "441                                                    --            4      \n",
       "...                                                   ...          ...  ..  \n",
       "197931                [[User:Hcheney/Support|Support]] --         3864      \n",
       "197938  [[User:Hcheney/Support|Support]] [[User:Anthon...         3864      \n",
       "197940                                                 --         3864      \n",
       "197944  [[User:Texture|<font color=red>T&#949;x</font>...         3864      \n",
       "198002                                                 --         3866      \n",
       "\n",
       "[2197 rows x 9 columns]"
      ]
     },
     "execution_count": 28,
     "metadata": {},
     "output_type": "execute_result"
    }
   ],
   "source": [
    "wiki_copy[(wiki_copy['CLE'] == '') & (wiki_copy['TXT'] != '') ]"
   ]
  },
  {
   "cell_type": "markdown",
   "id": "61fa9fe3-5667-4aa5-9ee9-a6f998cd8df0",
   "metadata": {},
   "source": [
    "We can see that these comments initially contained only pure WikiMarkup and didn't contain any useful information for our analysis."
   ]
  },
  {
   "cell_type": "markdown",
   "id": "0bff4843-fdfc-45ce-a7ca-5ec1c95e8721",
   "metadata": {
    "tags": []
   },
   "source": [
    "# Sentiment analysis with vader "
   ]
  },
  {
   "cell_type": "markdown",
   "id": "dc60032e-b7f8-48d5-9593-4023ecabd563",
   "metadata": {},
   "source": [
    "Punctuation can provide valuable context for sentiment analysis as it can affect the emotional toned of a sentence. We will keep it then since Vader is designed to work with text including punctuation. It takes into account various linguistic and grammatical aspects to understand the sentiment expressed in a piece of text."
   ]
  },
  {
   "cell_type": "code",
   "execution_count": 32,
   "id": "cf74d317-da0b-4803-8e0c-86ac1ffd55b8",
   "metadata": {
    "tags": []
   },
   "outputs": [
    {
     "name": "stderr",
     "output_type": "stream",
     "text": [
      "[nltk_data] Downloading package vader_lexicon to\n",
      "[nltk_data]     C:\\Users\\User\\AppData\\Roaming\\nltk_data...\n",
      "[nltk_data]   Package vader_lexicon is already up-to-date!\n"
     ]
    },
    {
     "data": {
      "text/plain": [
       "True"
      ]
     },
     "execution_count": 32,
     "metadata": {},
     "output_type": "execute_result"
    }
   ],
   "source": [
    "nltk.download('vader_lexicon')"
   ]
  },
  {
   "cell_type": "code",
   "execution_count": 33,
   "id": "db40662a-7632-43d8-94d0-12b644648a2d",
   "metadata": {
    "tags": []
   },
   "outputs": [],
   "source": [
    "from nltk.sentiment import SentimentIntensityAnalyzer\n",
    "from tqdm.notebook import tqdm\n",
    "\n",
    "sia = SentimentIntensityAnalyzer()"
   ]
  },
  {
   "cell_type": "markdown",
   "id": "0f632184-1f6c-494f-9e32-d2163b70ae8b",
   "metadata": {},
   "source": [
    "* Let's apply it on an example comment."
   ]
  },
  {
   "cell_type": "code",
   "execution_count": 34,
   "id": "442ba80b-8f4a-4a6e-b127-188b3174ac44",
   "metadata": {
    "tags": []
   },
   "outputs": [
    {
     "name": "stdout",
     "output_type": "stream",
     "text": [
      "Support There are plenty of important roles on this project, of which content creator is only one of them. BDD has done good work over a number of years. That his primary activity is not content creation is not of concern.\n",
      "Scores =  {'neg': 0.04, 'neu': 0.769, 'pos': 0.191, 'compound': 0.7083}\n"
     ]
    }
   ],
   "source": [
    "ex = wiki_copy.iloc[5]['CLE']\n",
    "print(ex)\n",
    "print('Scores = ', sia.polarity_scores(ex),end='\\n')"
   ]
  },
  {
   "cell_type": "markdown",
   "id": "1114e708-dd5f-46c0-962b-4dbb5f56c181",
   "metadata": {},
   "source": [
    "VADER sentiment analysis provides sentiment scores for text: negative(neg), neutral(neu), positive(pos) and compound scores. \n",
    "\n",
    "The compound score takes values from -1 to 1, with values closer to -1 indicating negativity, 0 for neutrality and 1 for positivity. "
   ]
  },
  {
   "cell_type": "code",
   "execution_count": 35,
   "id": "fd883791-5ad1-4fca-8d47-61b1c297bc60",
   "metadata": {
    "tags": []
   },
   "outputs": [],
   "source": [
    "scores = {}\n",
    "for i, row in wiki_copy.iterrows(): \n",
    "    scores[i] = sia.polarity_scores(row['CLE'])"
   ]
  },
  {
   "cell_type": "code",
   "execution_count": 36,
   "id": "6d8ef268-fc7f-4a2a-aae5-955540938e6b",
   "metadata": {
    "tags": []
   },
   "outputs": [],
   "source": [
    "scores_df = pd.DataFrame(scores).T"
   ]
  },
  {
   "cell_type": "code",
   "execution_count": 37,
   "id": "25c8ac1b-cb3f-408c-a7f8-e4e2ecc835a5",
   "metadata": {
    "tags": []
   },
   "outputs": [
    {
     "data": {
      "text/html": [
       "<div>\n",
       "<style scoped>\n",
       "    .dataframe tbody tr th:only-of-type {\n",
       "        vertical-align: middle;\n",
       "    }\n",
       "\n",
       "    .dataframe tbody tr th {\n",
       "        vertical-align: top;\n",
       "    }\n",
       "\n",
       "    .dataframe thead th {\n",
       "        text-align: right;\n",
       "    }\n",
       "</style>\n",
       "<table border=\"1\" class=\"dataframe\">\n",
       "  <thead>\n",
       "    <tr style=\"text-align: right;\">\n",
       "      <th></th>\n",
       "      <th>neg</th>\n",
       "      <th>neu</th>\n",
       "      <th>pos</th>\n",
       "      <th>compound</th>\n",
       "    </tr>\n",
       "  </thead>\n",
       "  <tbody>\n",
       "    <tr>\n",
       "      <th>0</th>\n",
       "      <td>0.000</td>\n",
       "      <td>0.426</td>\n",
       "      <td>0.574</td>\n",
       "      <td>0.4019</td>\n",
       "    </tr>\n",
       "    <tr>\n",
       "      <th>1</th>\n",
       "      <td>0.000</td>\n",
       "      <td>0.426</td>\n",
       "      <td>0.574</td>\n",
       "      <td>0.4019</td>\n",
       "    </tr>\n",
       "    <tr>\n",
       "      <th>2</th>\n",
       "      <td>0.000</td>\n",
       "      <td>0.426</td>\n",
       "      <td>0.574</td>\n",
       "      <td>0.4019</td>\n",
       "    </tr>\n",
       "    <tr>\n",
       "      <th>3</th>\n",
       "      <td>0.176</td>\n",
       "      <td>0.504</td>\n",
       "      <td>0.320</td>\n",
       "      <td>0.6124</td>\n",
       "    </tr>\n",
       "    <tr>\n",
       "      <th>4</th>\n",
       "      <td>0.000</td>\n",
       "      <td>0.612</td>\n",
       "      <td>0.388</td>\n",
       "      <td>0.9349</td>\n",
       "    </tr>\n",
       "    <tr>\n",
       "      <th>5</th>\n",
       "      <td>0.040</td>\n",
       "      <td>0.769</td>\n",
       "      <td>0.191</td>\n",
       "      <td>0.7083</td>\n",
       "    </tr>\n",
       "    <tr>\n",
       "      <th>6</th>\n",
       "      <td>0.000</td>\n",
       "      <td>0.722</td>\n",
       "      <td>0.278</td>\n",
       "      <td>0.4019</td>\n",
       "    </tr>\n",
       "    <tr>\n",
       "      <th>7</th>\n",
       "      <td>0.022</td>\n",
       "      <td>0.848</td>\n",
       "      <td>0.130</td>\n",
       "      <td>0.8850</td>\n",
       "    </tr>\n",
       "    <tr>\n",
       "      <th>8</th>\n",
       "      <td>0.058</td>\n",
       "      <td>0.665</td>\n",
       "      <td>0.278</td>\n",
       "      <td>0.9801</td>\n",
       "    </tr>\n",
       "    <tr>\n",
       "      <th>9</th>\n",
       "      <td>0.172</td>\n",
       "      <td>0.391</td>\n",
       "      <td>0.437</td>\n",
       "      <td>0.5267</td>\n",
       "    </tr>\n",
       "  </tbody>\n",
       "</table>\n",
       "</div>"
      ],
      "text/plain": [
       "     neg    neu    pos  compound\n",
       "0  0.000  0.426  0.574    0.4019\n",
       "1  0.000  0.426  0.574    0.4019\n",
       "2  0.000  0.426  0.574    0.4019\n",
       "3  0.176  0.504  0.320    0.6124\n",
       "4  0.000  0.612  0.388    0.9349\n",
       "5  0.040  0.769  0.191    0.7083\n",
       "6  0.000  0.722  0.278    0.4019\n",
       "7  0.022  0.848  0.130    0.8850\n",
       "8  0.058  0.665  0.278    0.9801\n",
       "9  0.172  0.391  0.437    0.5267"
      ]
     },
     "execution_count": 37,
     "metadata": {},
     "output_type": "execute_result"
    }
   ],
   "source": [
    "scores_df.head(10)"
   ]
  },
  {
   "cell_type": "code",
   "execution_count": 38,
   "id": "5e29133e-0c42-4d3f-a4a0-9113717335ac",
   "metadata": {
    "tags": []
   },
   "outputs": [
    {
     "data": {
      "text/html": [
       "<div>\n",
       "<style scoped>\n",
       "    .dataframe tbody tr th:only-of-type {\n",
       "        vertical-align: middle;\n",
       "    }\n",
       "\n",
       "    .dataframe tbody tr th {\n",
       "        vertical-align: top;\n",
       "    }\n",
       "\n",
       "    .dataframe thead th {\n",
       "        text-align: right;\n",
       "    }\n",
       "</style>\n",
       "<table border=\"1\" class=\"dataframe\">\n",
       "  <thead>\n",
       "    <tr style=\"text-align: right;\">\n",
       "      <th></th>\n",
       "      <th>SRC</th>\n",
       "      <th>TGT</th>\n",
       "      <th>VOT</th>\n",
       "      <th>RES</th>\n",
       "      <th>YEA</th>\n",
       "      <th>DAT</th>\n",
       "      <th>TXT</th>\n",
       "      <th>ELECTION_ID</th>\n",
       "      <th>CLE</th>\n",
       "      <th>neg</th>\n",
       "      <th>neu</th>\n",
       "      <th>pos</th>\n",
       "      <th>compound</th>\n",
       "    </tr>\n",
       "  </thead>\n",
       "  <tbody>\n",
       "    <tr>\n",
       "      <th>164942</th>\n",
       "      <td>Zoz</td>\n",
       "      <td>Pegasus1138</td>\n",
       "      <td>-1</td>\n",
       "      <td>0</td>\n",
       "      <td>2006</td>\n",
       "      <td>2006-06-01 13:40:00</td>\n",
       "      <td>'''Oppose''' per Kotepho. --</td>\n",
       "      <td>2850</td>\n",
       "      <td>Oppose per Kotepho.</td>\n",
       "      <td>0.000</td>\n",
       "      <td>1.000</td>\n",
       "      <td>0.000</td>\n",
       "      <td>0.0000</td>\n",
       "    </tr>\n",
       "    <tr>\n",
       "      <th>140071</th>\n",
       "      <td>Sean Black</td>\n",
       "      <td>Lar</td>\n",
       "      <td>1</td>\n",
       "      <td>1</td>\n",
       "      <td>2006</td>\n",
       "      <td>2006-05-01 04:22:00</td>\n",
       "      <td>Naturally.--</td>\n",
       "      <td>2370</td>\n",
       "      <td>Naturally.</td>\n",
       "      <td>0.000</td>\n",
       "      <td>1.000</td>\n",
       "      <td>0.000</td>\n",
       "      <td>0.0000</td>\n",
       "    </tr>\n",
       "    <tr>\n",
       "      <th>45338</th>\n",
       "      <td>Jake Wartenberg</td>\n",
       "      <td>Bazj</td>\n",
       "      <td>1</td>\n",
       "      <td>0</td>\n",
       "      <td>2009</td>\n",
       "      <td>2009-04-06 22:42:00</td>\n",
       "      <td>'''Support''' I have no reason to believe this...</td>\n",
       "      <td>626</td>\n",
       "      <td>Support I have no reason to believe this edito...</td>\n",
       "      <td>0.354</td>\n",
       "      <td>0.497</td>\n",
       "      <td>0.149</td>\n",
       "      <td>-0.5719</td>\n",
       "    </tr>\n",
       "    <tr>\n",
       "      <th>185751</th>\n",
       "      <td>Slowking Man</td>\n",
       "      <td>Vague Rant</td>\n",
       "      <td>1</td>\n",
       "      <td>1</td>\n",
       "      <td>2005</td>\n",
       "      <td>NaT</td>\n",
       "      <td>About time. --</td>\n",
       "      <td>3369</td>\n",
       "      <td>About time.</td>\n",
       "      <td>0.000</td>\n",
       "      <td>1.000</td>\n",
       "      <td>0.000</td>\n",
       "      <td>0.0000</td>\n",
       "    </tr>\n",
       "    <tr>\n",
       "      <th>54192</th>\n",
       "      <td>Reedy</td>\n",
       "      <td>Addshore</td>\n",
       "      <td>1</td>\n",
       "      <td>1</td>\n",
       "      <td>2008</td>\n",
       "      <td>2008-10-30 12:35:00</td>\n",
       "      <td>'''Support''' &lt;small&gt;—&lt;font face=\"Trebuchet MS...</td>\n",
       "      <td>811</td>\n",
       "      <td>Support —</td>\n",
       "      <td>0.000</td>\n",
       "      <td>0.000</td>\n",
       "      <td>1.000</td>\n",
       "      <td>0.4019</td>\n",
       "    </tr>\n",
       "    <tr>\n",
       "      <th>28966</th>\n",
       "      <td>MrOllie</td>\n",
       "      <td>Herostratus</td>\n",
       "      <td>1</td>\n",
       "      <td>0</td>\n",
       "      <td>2010</td>\n",
       "      <td>2010-06-24 19:01:00</td>\n",
       "      <td>'''Support''' This situation really shouldn't ...</td>\n",
       "      <td>389</td>\n",
       "      <td>Support This situation really shouldn't be thi...</td>\n",
       "      <td>0.000</td>\n",
       "      <td>0.769</td>\n",
       "      <td>0.231</td>\n",
       "      <td>0.4019</td>\n",
       "    </tr>\n",
       "    <tr>\n",
       "      <th>41550</th>\n",
       "      <td>Bali ultimate</td>\n",
       "      <td>RL0919</td>\n",
       "      <td>-1</td>\n",
       "      <td>1</td>\n",
       "      <td>2009</td>\n",
       "      <td>2009-12-20 03:01:00</td>\n",
       "      <td>'''Oppose''' per lack of recent track record t...</td>\n",
       "      <td>569</td>\n",
       "      <td>Oppose per lack of recent track record to judg...</td>\n",
       "      <td>0.173</td>\n",
       "      <td>0.827</td>\n",
       "      <td>0.000</td>\n",
       "      <td>-0.3182</td>\n",
       "    </tr>\n",
       "    <tr>\n",
       "      <th>96149</th>\n",
       "      <td>Wizardman</td>\n",
       "      <td>Isotope23</td>\n",
       "      <td>1</td>\n",
       "      <td>1</td>\n",
       "      <td>2007</td>\n",
       "      <td>2007-01-11 00:26:00</td>\n",
       "      <td>'''Support'''. Would like more mainspace edits...</td>\n",
       "      <td>1523</td>\n",
       "      <td>Support. Would like more mainspace edits, but ...</td>\n",
       "      <td>0.185</td>\n",
       "      <td>0.380</td>\n",
       "      <td>0.435</td>\n",
       "      <td>0.8608</td>\n",
       "    </tr>\n",
       "    <tr>\n",
       "      <th>144661</th>\n",
       "      <td>Haukurth</td>\n",
       "      <td>Phaedriel</td>\n",
       "      <td>1</td>\n",
       "      <td>1</td>\n",
       "      <td>2006</td>\n",
       "      <td>2006-08-01 14:29:00</td>\n",
       "      <td>'''Support'''. Best answers I've read in a lon...</td>\n",
       "      <td>2430</td>\n",
       "      <td>Support. Best answers I've read in a long time.</td>\n",
       "      <td>0.000</td>\n",
       "      <td>0.465</td>\n",
       "      <td>0.535</td>\n",
       "      <td>0.7845</td>\n",
       "    </tr>\n",
       "    <tr>\n",
       "      <th>194743</th>\n",
       "      <td>Jwrosenzweig</td>\n",
       "      <td>Neutrality</td>\n",
       "      <td>1</td>\n",
       "      <td>1</td>\n",
       "      <td>2004</td>\n",
       "      <td>2004-10-06 20:02:00</td>\n",
       "      <td>Support -- Neutrality's obviously deserving an...</td>\n",
       "      <td>3731</td>\n",
       "      <td>Support   Neutrality's obviously deserving and...</td>\n",
       "      <td>0.034</td>\n",
       "      <td>0.721</td>\n",
       "      <td>0.244</td>\n",
       "      <td>0.9825</td>\n",
       "    </tr>\n",
       "  </tbody>\n",
       "</table>\n",
       "</div>"
      ],
      "text/plain": [
       "                    SRC          TGT  VOT  RES   YEA                 DAT  \\\n",
       "164942              Zoz  Pegasus1138   -1    0  2006 2006-06-01 13:40:00   \n",
       "140071       Sean Black          Lar    1    1  2006 2006-05-01 04:22:00   \n",
       "45338   Jake Wartenberg         Bazj    1    0  2009 2009-04-06 22:42:00   \n",
       "185751     Slowking Man   Vague Rant    1    1  2005                 NaT   \n",
       "54192             Reedy     Addshore    1    1  2008 2008-10-30 12:35:00   \n",
       "28966           MrOllie  Herostratus    1    0  2010 2010-06-24 19:01:00   \n",
       "41550     Bali ultimate       RL0919   -1    1  2009 2009-12-20 03:01:00   \n",
       "96149         Wizardman    Isotope23    1    1  2007 2007-01-11 00:26:00   \n",
       "144661         Haukurth    Phaedriel    1    1  2006 2006-08-01 14:29:00   \n",
       "194743     Jwrosenzweig   Neutrality    1    1  2004 2004-10-06 20:02:00   \n",
       "\n",
       "                                                      TXT  ELECTION_ID  \\\n",
       "164942                       '''Oppose''' per Kotepho. --         2850   \n",
       "140071                                       Naturally.--         2370   \n",
       "45338   '''Support''' I have no reason to believe this...          626   \n",
       "185751                                     About time. --         3369   \n",
       "54192   '''Support''' <small>—<font face=\"Trebuchet MS...          811   \n",
       "28966   '''Support''' This situation really shouldn't ...          389   \n",
       "41550   '''Oppose''' per lack of recent track record t...          569   \n",
       "96149   '''Support'''. Would like more mainspace edits...         1523   \n",
       "144661  '''Support'''. Best answers I've read in a lon...         2430   \n",
       "194743  Support -- Neutrality's obviously deserving an...         3731   \n",
       "\n",
       "                                                      CLE    neg    neu  \\\n",
       "164942                              Oppose per Kotepho.    0.000  1.000   \n",
       "140071                                        Naturally.   0.000  1.000   \n",
       "45338   Support I have no reason to believe this edito...  0.354  0.497   \n",
       "185751                                      About time.    0.000  1.000   \n",
       "54192                                          Support —   0.000  0.000   \n",
       "28966   Support This situation really shouldn't be thi...  0.000  0.769   \n",
       "41550   Oppose per lack of recent track record to judg...  0.173  0.827   \n",
       "96149   Support. Would like more mainspace edits, but ...  0.185  0.380   \n",
       "144661    Support. Best answers I've read in a long time.  0.000  0.465   \n",
       "194743  Support   Neutrality's obviously deserving and...  0.034  0.721   \n",
       "\n",
       "          pos  compound  \n",
       "164942  0.000    0.0000  \n",
       "140071  0.000    0.0000  \n",
       "45338   0.149   -0.5719  \n",
       "185751  0.000    0.0000  \n",
       "54192   1.000    0.4019  \n",
       "28966   0.231    0.4019  \n",
       "41550   0.000   -0.3182  \n",
       "96149   0.435    0.8608  \n",
       "144661  0.535    0.7845  \n",
       "194743  0.244    0.9825  "
      ]
     },
     "execution_count": 38,
     "metadata": {},
     "output_type": "execute_result"
    }
   ],
   "source": [
    "# Merge the two dataframes\n",
    "wiki_with_scores = pd.concat([wiki_copy, scores_df], axis = 1)\n",
    "wiki_with_scores.sample(10)"
   ]
  },
  {
   "cell_type": "code",
   "execution_count": 39,
   "id": "66975384-2f33-41cb-a6cc-05e848f99180",
   "metadata": {
    "tags": []
   },
   "outputs": [
    {
     "data": {
      "text/plain": [
       "9387"
      ]
     },
     "execution_count": 39,
     "metadata": {},
     "output_type": "execute_result"
    }
   ],
   "source": [
    "# Replace empty comments by NaN\n",
    "# in order to remove them \n",
    "wiki_with_scores['CLE'].replace('', np.nan, inplace=True) \n",
    "wiki_with_scores['CLE'].isnull().sum()"
   ]
  },
  {
   "cell_type": "code",
   "execution_count": 40,
   "id": "31e8caf5-6c5e-4e6e-bff2-0a47de25cd7b",
   "metadata": {
    "tags": []
   },
   "outputs": [
    {
     "data": {
      "image/png": "[encoded data removed]",
      "text/plain": [
       "<Figure size 1200x300 with 4 Axes>"
      ]
     },
     "metadata": {},
     "output_type": "display_data"
    }
   ],
   "source": [
    "wiki_cle_dropna = wiki_with_scores.dropna(subset = 'CLE') # remove empty comments \n",
    "fig, axs = plt.subplots(1, 4, figsize=(12, 3),  sharey = True)\n",
    "sns.barplot(data=wiki_cle_dropna, x='VOT', y='pos', ax=axs[0])\n",
    "sns.barplot(data=wiki_cle_dropna, x='VOT', y='neu', ax=axs[1])\n",
    "sns.barplot(data=wiki_cle_dropna, x='VOT', y='neg', ax=axs[2])\n",
    "sns.barplot(data=wiki_cle_dropna, x='VOT', y='compound', ax=axs[3])\n",
    "axs[0].set_title('Positive')\n",
    "axs[1].set_title('Neutral')\n",
    "axs[2].set_title('Negative')\n",
    "axs[3].set_title('Compound')\n",
    "plt.tight_layout()\n",
    "plt.show()"
   ]
  },
  {
   "cell_type": "markdown",
   "id": "337b546a-1a0e-424d-adc0-624e1b2ad80c",
   "metadata": {},
   "source": [
    "Considering the Compound score that merges negative, neutral and positive scores, we can conclude that there is consistency on average between the votes and the associated comments."
   ]
  },
  {
   "cell_type": "code",
   "execution_count": 41,
   "id": "30dc8cb7-2070-49f7-bc5b-1d5ecb9ced03",
   "metadata": {
    "tags": []
   },
   "outputs": [
    {
     "data": {
      "text/html": [
       "<div>\n",
       "<style scoped>\n",
       "    .dataframe tbody tr th:only-of-type {\n",
       "        vertical-align: middle;\n",
       "    }\n",
       "\n",
       "    .dataframe tbody tr th {\n",
       "        vertical-align: top;\n",
       "    }\n",
       "\n",
       "    .dataframe thead th {\n",
       "        text-align: right;\n",
       "    }\n",
       "</style>\n",
       "<table border=\"1\" class=\"dataframe\">\n",
       "  <thead>\n",
       "    <tr style=\"text-align: right;\">\n",
       "      <th></th>\n",
       "      <th>YEA</th>\n",
       "      <th>VOT</th>\n",
       "      <th>compound</th>\n",
       "    </tr>\n",
       "  </thead>\n",
       "  <tbody>\n",
       "    <tr>\n",
       "      <th>0</th>\n",
       "      <td>2003</td>\n",
       "      <td>-1</td>\n",
       "      <td>-0.020150</td>\n",
       "    </tr>\n",
       "    <tr>\n",
       "      <th>1</th>\n",
       "      <td>2003</td>\n",
       "      <td>0</td>\n",
       "      <td>0.000000</td>\n",
       "    </tr>\n",
       "    <tr>\n",
       "      <th>2</th>\n",
       "      <td>2003</td>\n",
       "      <td>1</td>\n",
       "      <td>0.466455</td>\n",
       "    </tr>\n",
       "    <tr>\n",
       "      <th>3</th>\n",
       "      <td>2004</td>\n",
       "      <td>-1</td>\n",
       "      <td>0.076583</td>\n",
       "    </tr>\n",
       "    <tr>\n",
       "      <th>4</th>\n",
       "      <td>2004</td>\n",
       "      <td>0</td>\n",
       "      <td>0.192388</td>\n",
       "    </tr>\n",
       "    <tr>\n",
       "      <th>5</th>\n",
       "      <td>2004</td>\n",
       "      <td>1</td>\n",
       "      <td>0.399298</td>\n",
       "    </tr>\n",
       "    <tr>\n",
       "      <th>6</th>\n",
       "      <td>2005</td>\n",
       "      <td>-1</td>\n",
       "      <td>0.058232</td>\n",
       "    </tr>\n",
       "    <tr>\n",
       "      <th>7</th>\n",
       "      <td>2005</td>\n",
       "      <td>0</td>\n",
       "      <td>0.254654</td>\n",
       "    </tr>\n",
       "    <tr>\n",
       "      <th>8</th>\n",
       "      <td>2005</td>\n",
       "      <td>1</td>\n",
       "      <td>0.493900</td>\n",
       "    </tr>\n",
       "  </tbody>\n",
       "</table>\n",
       "</div>"
      ],
      "text/plain": [
       "    YEA  VOT  compound\n",
       "0  2003   -1 -0.020150\n",
       "1  2003    0  0.000000\n",
       "2  2003    1  0.466455\n",
       "3  2004   -1  0.076583\n",
       "4  2004    0  0.192388\n",
       "5  2004    1  0.399298\n",
       "6  2005   -1  0.058232\n",
       "7  2005    0  0.254654\n",
       "8  2005    1  0.493900"
      ]
     },
     "execution_count": 41,
     "metadata": {},
     "output_type": "execute_result"
    }
   ],
   "source": [
    "compound_per_year = wiki_cle_dropna.groupby(['YEA', 'VOT'])['compound'].mean().reset_index()\n",
    "compound_per_year.head(9)"
   ]
  },
  {
   "cell_type": "code",
   "execution_count": 42,
   "id": "2073cfdb-fb54-4030-bd74-8319e96e7575",
   "metadata": {
    "tags": []
   },
   "outputs": [
    {
     "data": {
      "text/plain": [
       "<matplotlib.legend.Legend at 0x1cc2290fe50>"
      ]
     },
     "execution_count": 42,
     "metadata": {},
     "output_type": "execute_result"
    },
    {
     "data": {
      "image/png": "[encoded data removed]",
      "text/plain": [
       "<Figure size 1000x500 with 1 Axes>"
      ]
     },
     "metadata": {},
     "output_type": "display_data"
    }
   ],
   "source": [
    "plt.figure(figsize=(10, 5))\n",
    "\n",
    "for vot in [-1, 0, 1]: \n",
    "    sub_df = compound_per_year[compound_per_year['VOT'] == vot]\n",
    "    plt.plot(sub_df['YEA'], sub_df['compound'], label = 'VOT = '+ str(vot))\n",
    "\n",
    "plt.title('Average Compound Associated to the Different Types of Votes per Year')\n",
    "plt.xticks(np.arange(2003, 2014))\n",
    "plt.xlabel('Year')\n",
    "plt.ylabel('Average Compound')\n",
    "plt.grid()\n",
    "plt.legend()"
   ]
  },
  {
   "cell_type": "markdown",
   "id": "8d50ce7a-d919-4d27-8b27-cf167d662659",
   "metadata": {},
   "source": [
    "* For each year, the conclusion of consistency is still available. Therefore, generally, people tend to leave comments accordingly to their vote choice."
   ]
  },
  {
   "cell_type": "markdown",
   "id": "7073433f-e59b-418e-b0e9-52e85ed8e26e",
   "metadata": {
    "tags": []
   },
   "source": [
    "# Sentiment analysis with TextBlob"
   ]
  },
  {
   "cell_type": "markdown",
   "id": "b74eea1e-086f-4df8-8248-b6d0b9b8441e",
   "metadata": {},
   "source": [
    "In this section, we will use TextBlob, a powerful library for processing textual data, in order to extract the sentiment polarity and subjectivity of each comment.\n",
    "\n",
    "**Notes:** \n",
    "* The *polarity* ranges from -1 (indicating negativity) to 1 (indicating positivity)\n",
    "* The *subjectivity* ranges from 0 (reflecting objectivity) and 1 (reflecting subjectivity).\n",
    "\n",
    "To achieve that, we have to do additional processing on the comments. "
   ]
  },
  {
   "cell_type": "code",
   "execution_count": 47,
   "id": "03ad8392-1f25-4803-a88b-23d5581f1e26",
   "metadata": {
    "tags": []
   },
   "outputs": [
    {
     "data": {
      "text/html": [
       "<div>\n",
       "<style scoped>\n",
       "    .dataframe tbody tr th:only-of-type {\n",
       "        vertical-align: middle;\n",
       "    }\n",
       "\n",
       "    .dataframe tbody tr th {\n",
       "        vertical-align: top;\n",
       "    }\n",
       "\n",
       "    .dataframe thead th {\n",
       "        text-align: right;\n",
       "    }\n",
       "</style>\n",
       "<table border=\"1\" class=\"dataframe\">\n",
       "  <thead>\n",
       "    <tr style=\"text-align: right;\">\n",
       "      <th></th>\n",
       "      <th>SRC</th>\n",
       "      <th>TGT</th>\n",
       "      <th>VOT</th>\n",
       "      <th>RES</th>\n",
       "      <th>YEA</th>\n",
       "      <th>DAT</th>\n",
       "      <th>TXT</th>\n",
       "      <th>ELECTION_ID</th>\n",
       "      <th>CLE</th>\n",
       "    </tr>\n",
       "  </thead>\n",
       "  <tbody>\n",
       "    <tr>\n",
       "      <th>0</th>\n",
       "      <td>Steel1943</td>\n",
       "      <td>BDD</td>\n",
       "      <td>1</td>\n",
       "      <td>1</td>\n",
       "      <td>2013</td>\n",
       "      <td>2013-04-19 23:13:00</td>\n",
       "      <td>'''Support''' as co-nom.</td>\n",
       "      <td>1</td>\n",
       "      <td>support as conom.</td>\n",
       "    </tr>\n",
       "    <tr>\n",
       "      <th>1</th>\n",
       "      <td>Cuchullain</td>\n",
       "      <td>BDD</td>\n",
       "      <td>1</td>\n",
       "      <td>1</td>\n",
       "      <td>2013</td>\n",
       "      <td>2013-04-20 01:04:00</td>\n",
       "      <td>'''Support''' as nominator.--</td>\n",
       "      <td>1</td>\n",
       "      <td>support as nominator.</td>\n",
       "    </tr>\n",
       "    <tr>\n",
       "      <th>2</th>\n",
       "      <td>INeverCry</td>\n",
       "      <td>BDD</td>\n",
       "      <td>1</td>\n",
       "      <td>1</td>\n",
       "      <td>2013</td>\n",
       "      <td>2013-04-19 23:43:00</td>\n",
       "      <td>'''Support''' per noms.</td>\n",
       "      <td>1</td>\n",
       "      <td>support per noms.</td>\n",
       "    </tr>\n",
       "    <tr>\n",
       "      <th>3</th>\n",
       "      <td>Cncmaster</td>\n",
       "      <td>BDD</td>\n",
       "      <td>1</td>\n",
       "      <td>1</td>\n",
       "      <td>2013</td>\n",
       "      <td>2013-04-20 00:11:00</td>\n",
       "      <td>'''Support''' per noms. BDD is a strong contri...</td>\n",
       "      <td>1</td>\n",
       "      <td>support per noms. bdd is a strong contributor ...</td>\n",
       "    </tr>\n",
       "    <tr>\n",
       "      <th>4</th>\n",
       "      <td>Miniapolis</td>\n",
       "      <td>BDD</td>\n",
       "      <td>1</td>\n",
       "      <td>1</td>\n",
       "      <td>2013</td>\n",
       "      <td>2013-04-20 00:56:00</td>\n",
       "      <td>'''Support''', with great pleasure. I work wit...</td>\n",
       "      <td>1</td>\n",
       "      <td>support with great pleasure. i work with bdd a...</td>\n",
       "    </tr>\n",
       "  </tbody>\n",
       "</table>\n",
       "</div>"
      ],
      "text/plain": [
       "          SRC  TGT  VOT  RES   YEA                 DAT  \\\n",
       "0   Steel1943  BDD    1    1  2013 2013-04-19 23:13:00   \n",
       "1  Cuchullain  BDD    1    1  2013 2013-04-20 01:04:00   \n",
       "2   INeverCry  BDD    1    1  2013 2013-04-19 23:43:00   \n",
       "3   Cncmaster  BDD    1    1  2013 2013-04-20 00:11:00   \n",
       "4  Miniapolis  BDD    1    1  2013 2013-04-20 00:56:00   \n",
       "\n",
       "                                                 TXT  ELECTION_ID  \\\n",
       "0                           '''Support''' as co-nom.            1   \n",
       "1                      '''Support''' as nominator.--            1   \n",
       "2                            '''Support''' per noms.            1   \n",
       "3  '''Support''' per noms. BDD is a strong contri...            1   \n",
       "4  '''Support''', with great pleasure. I work wit...            1   \n",
       "\n",
       "                                                 CLE  \n",
       "0                                  support as conom.  \n",
       "1                              support as nominator.  \n",
       "2                                  support per noms.  \n",
       "3  support per noms. bdd is a strong contributor ...  \n",
       "4  support with great pleasure. i work with bdd a...  "
      ]
     },
     "execution_count": 47,
     "metadata": {},
     "output_type": "execute_result"
    }
   ],
   "source": [
    "wiki_copy['CLE'] = wiki_copy['CLE'].apply(nlp_pipeline) \n",
    "wiki_copy.head()"
   ]
  },
  {
   "cell_type": "code",
   "execution_count": 50,
   "id": "3c79165a-81b1-4cc3-8105-279caf048658",
   "metadata": {
    "tags": []
   },
   "outputs": [
    {
     "data": {
      "text/html": [
       "<div>\n",
       "<style scoped>\n",
       "    .dataframe tbody tr th:only-of-type {\n",
       "        vertical-align: middle;\n",
       "    }\n",
       "\n",
       "    .dataframe tbody tr th {\n",
       "        vertical-align: top;\n",
       "    }\n",
       "\n",
       "    .dataframe thead th {\n",
       "        text-align: right;\n",
       "    }\n",
       "</style>\n",
       "<table border=\"1\" class=\"dataframe\">\n",
       "  <thead>\n",
       "    <tr style=\"text-align: right;\">\n",
       "      <th></th>\n",
       "      <th>SRC</th>\n",
       "      <th>TGT</th>\n",
       "      <th>VOT</th>\n",
       "      <th>RES</th>\n",
       "      <th>YEA</th>\n",
       "      <th>DAT</th>\n",
       "      <th>TXT</th>\n",
       "      <th>ELECTION_ID</th>\n",
       "      <th>CLE</th>\n",
       "    </tr>\n",
       "  </thead>\n",
       "  <tbody>\n",
       "    <tr>\n",
       "      <th>0</th>\n",
       "      <td>Steel1943</td>\n",
       "      <td>BDD</td>\n",
       "      <td>1</td>\n",
       "      <td>1</td>\n",
       "      <td>2013</td>\n",
       "      <td>2013-04-19 23:13:00</td>\n",
       "      <td>'''Support''' as co-nom.</td>\n",
       "      <td>1</td>\n",
       "      <td>as conom.</td>\n",
       "    </tr>\n",
       "    <tr>\n",
       "      <th>1</th>\n",
       "      <td>Cuchullain</td>\n",
       "      <td>BDD</td>\n",
       "      <td>1</td>\n",
       "      <td>1</td>\n",
       "      <td>2013</td>\n",
       "      <td>2013-04-20 01:04:00</td>\n",
       "      <td>'''Support''' as nominator.--</td>\n",
       "      <td>1</td>\n",
       "      <td>as nominator.</td>\n",
       "    </tr>\n",
       "    <tr>\n",
       "      <th>2</th>\n",
       "      <td>INeverCry</td>\n",
       "      <td>BDD</td>\n",
       "      <td>1</td>\n",
       "      <td>1</td>\n",
       "      <td>2013</td>\n",
       "      <td>2013-04-19 23:43:00</td>\n",
       "      <td>'''Support''' per noms.</td>\n",
       "      <td>1</td>\n",
       "      <td>per noms.</td>\n",
       "    </tr>\n",
       "    <tr>\n",
       "      <th>3</th>\n",
       "      <td>Cncmaster</td>\n",
       "      <td>BDD</td>\n",
       "      <td>1</td>\n",
       "      <td>1</td>\n",
       "      <td>2013</td>\n",
       "      <td>2013-04-20 00:11:00</td>\n",
       "      <td>'''Support''' per noms. BDD is a strong contri...</td>\n",
       "      <td>1</td>\n",
       "      <td>per noms. bdd is a strong contributor with tho...</td>\n",
       "    </tr>\n",
       "    <tr>\n",
       "      <th>4</th>\n",
       "      <td>Miniapolis</td>\n",
       "      <td>BDD</td>\n",
       "      <td>1</td>\n",
       "      <td>1</td>\n",
       "      <td>2013</td>\n",
       "      <td>2013-04-20 00:56:00</td>\n",
       "      <td>'''Support''', with great pleasure. I work wit...</td>\n",
       "      <td>1</td>\n",
       "      <td>with great pleasure. i work with bdd at the wh...</td>\n",
       "    </tr>\n",
       "  </tbody>\n",
       "</table>\n",
       "</div>"
      ],
      "text/plain": [
       "          SRC  TGT  VOT  RES   YEA                 DAT  \\\n",
       "0   Steel1943  BDD    1    1  2013 2013-04-19 23:13:00   \n",
       "1  Cuchullain  BDD    1    1  2013 2013-04-20 01:04:00   \n",
       "2   INeverCry  BDD    1    1  2013 2013-04-19 23:43:00   \n",
       "3   Cncmaster  BDD    1    1  2013 2013-04-20 00:11:00   \n",
       "4  Miniapolis  BDD    1    1  2013 2013-04-20 00:56:00   \n",
       "\n",
       "                                                 TXT  ELECTION_ID  \\\n",
       "0                           '''Support''' as co-nom.            1   \n",
       "1                      '''Support''' as nominator.--            1   \n",
       "2                            '''Support''' per noms.            1   \n",
       "3  '''Support''' per noms. BDD is a strong contri...            1   \n",
       "4  '''Support''', with great pleasure. I work wit...            1   \n",
       "\n",
       "                                                 CLE  \n",
       "0                                          as conom.  \n",
       "1                                      as nominator.  \n",
       "2                                          per noms.  \n",
       "3  per noms. bdd is a strong contributor with tho...  \n",
       "4  with great pleasure. i work with bdd at the wh...  "
      ]
     },
     "execution_count": 50,
     "metadata": {},
     "output_type": "execute_result"
    }
   ],
   "source": [
    "# Remove the first word of each comment if contained on the list below\n",
    "# to avoid a bias on the algorithm\n",
    "wiki_copy['CLE'] = wiki_copy['CLE'].str.replace('^(support|oppose|neutral|strong support|weak support|happy support|unfortunate oppose) ', '', regex=True)\n",
    "wiki_copy.head()"
   ]
  },
  {
   "cell_type": "code",
   "execution_count": 51,
   "id": "6b4599df-d259-49ca-b333-9351f639db93",
   "metadata": {
    "tags": []
   },
   "outputs": [
    {
     "name": "stdout",
     "output_type": "stream",
     "text": [
      "0                                                                                                                                                                                                                                                                                                                                                                                                                                                                                                                                                                                                                                                as conom.\n",
      "1                                                                                                                                                                                                                                                                                                                                                                                                                                                                                                                                                                                                                                            as nominator.\n",
      "2                                                                                                                                                                                                                                                                                                                                                                                                                                                                                                                                                                                                                                                per noms.\n",
      "3                                                                                                                                                                                                                                                                                                                                                                                                                                                                                                                                     per noms. bdd is a strong contributor with thousands of edits and years of experience. i have no problem supporting.\n",
      "4                                                                                                                                                                                                                                                                                                                                                                                                                                                                                               with great pleasure. i work with bdd at the where we're both coordinators and have seen their good work at rm and afd. a fine addition to the admin corps.\n",
      "5                                                                                                                                                                                                                                                                                                                                                                                                                                    there are plenty of important roles on this project of which content creator is only one of them. bdd has done good work over a number of years. that his primary activity is not content creation is not of concern.\n",
      "6                                                                                                                                                                                                                                                                                                                                                                                                                                                                                                                                                                                                                   per noms. i don't see a reason not to.\n",
      "7                                                                                                       bdd already wields a broom pretty well so why not formalize it i'm not too concerned about the lack of indepth experience in developing articles because he has contributed so much to the backlog drives as his attest he has often been on the leaderboard. we don't all need to take the same route to adminship. my only quibble is a very minor onewhat's with all the edits to his user talk archives i hope that he will keep any current discussions involving administration on his main talk page so other editors can find them easily.\n",
      "8    barring a completely unexpected answer to proforma question above. the heads up about the old is a good one; someone that right on at age is certainly worthy of support after the better part of a decade of additional seasoning sporting a clean block log and no indications of assholery over that time unsurprisingly. concerns about relative lack of content creation are misplaced; administrative functions are only tangential to content writing which is the reason that some of the best writers are not administrators and some of the best administrators do little in the way of mainspace content creation. an excellent candidate.\n",
      "9                                                                                                                                                                                                                                                                                                                                                                                                                                                                                                                                                                                                                     because i see no good reason not to.\n",
      "Name: CLE, dtype: object\n"
     ]
    }
   ],
   "source": [
    "# Show the first 10 comments completely\n",
    "pd.set_option('display.max_colwidth', None)\n",
    "print(wiki_copy['CLE'].head(10))\n",
    "pd.reset_option('display.max_colwidth')"
   ]
  },
  {
   "cell_type": "code",
   "execution_count": 54,
   "id": "cea1e65e-8af6-4754-9497-fa5051700703",
   "metadata": {
    "tags": []
   },
   "outputs": [],
   "source": [
    "def polarity(text):  \n",
    "    '''extracts the polarity of the text sentiment'''\n",
    "    pol = TextBlob(text)\n",
    "    return pol.sentiment.polarity\n",
    "\n",
    "def subjectivity(text):\n",
    "    '''extracts the subjectivity of the text sentiment'''\n",
    "    pol = TextBlob(text)\n",
    "    return pol.sentiment.subjectivity"
   ]
  },
  {
   "cell_type": "code",
   "execution_count": 57,
   "id": "76585e37-a956-44f9-b1cc-468a44d79e1f",
   "metadata": {
    "tags": []
   },
   "outputs": [
    {
     "data": {
      "text/html": [
       "<div>\n",
       "<style scoped>\n",
       "    .dataframe tbody tr th:only-of-type {\n",
       "        vertical-align: middle;\n",
       "    }\n",
       "\n",
       "    .dataframe tbody tr th {\n",
       "        vertical-align: top;\n",
       "    }\n",
       "\n",
       "    .dataframe thead th {\n",
       "        text-align: right;\n",
       "    }\n",
       "</style>\n",
       "<table border=\"1\" class=\"dataframe\">\n",
       "  <thead>\n",
       "    <tr style=\"text-align: right;\">\n",
       "      <th></th>\n",
       "      <th>SRC</th>\n",
       "      <th>TGT</th>\n",
       "      <th>VOT</th>\n",
       "      <th>RES</th>\n",
       "      <th>YEA</th>\n",
       "      <th>DAT</th>\n",
       "      <th>TXT</th>\n",
       "      <th>ELECTION_ID</th>\n",
       "      <th>CLE</th>\n",
       "      <th>polarity</th>\n",
       "      <th>subjectivity</th>\n",
       "    </tr>\n",
       "  </thead>\n",
       "  <tbody>\n",
       "    <tr>\n",
       "      <th>0</th>\n",
       "      <td>Steel1943</td>\n",
       "      <td>BDD</td>\n",
       "      <td>1</td>\n",
       "      <td>1</td>\n",
       "      <td>2013</td>\n",
       "      <td>2013-04-19 23:13:00</td>\n",
       "      <td>'''Support''' as co-nom.</td>\n",
       "      <td>1</td>\n",
       "      <td>as conom.</td>\n",
       "      <td>0.000000</td>\n",
       "      <td>0.000000</td>\n",
       "    </tr>\n",
       "    <tr>\n",
       "      <th>1</th>\n",
       "      <td>Cuchullain</td>\n",
       "      <td>BDD</td>\n",
       "      <td>1</td>\n",
       "      <td>1</td>\n",
       "      <td>2013</td>\n",
       "      <td>2013-04-20 01:04:00</td>\n",
       "      <td>'''Support''' as nominator.--</td>\n",
       "      <td>1</td>\n",
       "      <td>as nominator.</td>\n",
       "      <td>0.000000</td>\n",
       "      <td>0.000000</td>\n",
       "    </tr>\n",
       "    <tr>\n",
       "      <th>2</th>\n",
       "      <td>INeverCry</td>\n",
       "      <td>BDD</td>\n",
       "      <td>1</td>\n",
       "      <td>1</td>\n",
       "      <td>2013</td>\n",
       "      <td>2013-04-19 23:43:00</td>\n",
       "      <td>'''Support''' per noms.</td>\n",
       "      <td>1</td>\n",
       "      <td>per noms.</td>\n",
       "      <td>0.000000</td>\n",
       "      <td>0.000000</td>\n",
       "    </tr>\n",
       "    <tr>\n",
       "      <th>3</th>\n",
       "      <td>Cncmaster</td>\n",
       "      <td>BDD</td>\n",
       "      <td>1</td>\n",
       "      <td>1</td>\n",
       "      <td>2013</td>\n",
       "      <td>2013-04-20 00:11:00</td>\n",
       "      <td>'''Support''' per noms. BDD is a strong contri...</td>\n",
       "      <td>1</td>\n",
       "      <td>per noms. bdd is a strong contributor with tho...</td>\n",
       "      <td>0.341667</td>\n",
       "      <td>0.491667</td>\n",
       "    </tr>\n",
       "    <tr>\n",
       "      <th>4</th>\n",
       "      <td>Miniapolis</td>\n",
       "      <td>BDD</td>\n",
       "      <td>1</td>\n",
       "      <td>1</td>\n",
       "      <td>2013</td>\n",
       "      <td>2013-04-20 00:56:00</td>\n",
       "      <td>'''Support''', with great pleasure. I work wit...</td>\n",
       "      <td>1</td>\n",
       "      <td>with great pleasure. i work with bdd at the wh...</td>\n",
       "      <td>0.638889</td>\n",
       "      <td>0.616667</td>\n",
       "    </tr>\n",
       "  </tbody>\n",
       "</table>\n",
       "</div>"
      ],
      "text/plain": [
       "          SRC  TGT  VOT  RES   YEA                 DAT  \\\n",
       "0   Steel1943  BDD    1    1  2013 2013-04-19 23:13:00   \n",
       "1  Cuchullain  BDD    1    1  2013 2013-04-20 01:04:00   \n",
       "2   INeverCry  BDD    1    1  2013 2013-04-19 23:43:00   \n",
       "3   Cncmaster  BDD    1    1  2013 2013-04-20 00:11:00   \n",
       "4  Miniapolis  BDD    1    1  2013 2013-04-20 00:56:00   \n",
       "\n",
       "                                                 TXT  ELECTION_ID  \\\n",
       "0                           '''Support''' as co-nom.            1   \n",
       "1                      '''Support''' as nominator.--            1   \n",
       "2                            '''Support''' per noms.            1   \n",
       "3  '''Support''' per noms. BDD is a strong contri...            1   \n",
       "4  '''Support''', with great pleasure. I work wit...            1   \n",
       "\n",
       "                                                 CLE  polarity  subjectivity  \n",
       "0                                          as conom.  0.000000      0.000000  \n",
       "1                                      as nominator.  0.000000      0.000000  \n",
       "2                                          per noms.  0.000000      0.000000  \n",
       "3  per noms. bdd is a strong contributor with tho...  0.341667      0.491667  \n",
       "4  with great pleasure. i work with bdd at the wh...  0.638889      0.616667  "
      ]
     },
     "execution_count": 57,
     "metadata": {},
     "output_type": "execute_result"
    }
   ],
   "source": [
    "# Add the polarity and the subjectivity to our dataframe\n",
    "wiki_copy['polarity'] = wiki_copy['CLE'].apply(polarity)\n",
    "wiki_copy['subjectivity'] = wiki_copy['CLE'].apply(subjectivity)\n",
    "wiki_copy.head()"
   ]
  },
  {
   "cell_type": "markdown",
   "id": "28411a3a-3d44-4d7d-baf1-f63778e1855a",
   "metadata": {
    "tags": []
   },
   "source": [
    "When we look at the 3 first comments, they have 0 as polarity and 0 as subjectivity. The algorithm does not get any information from comments that are too short or meaningless. Therefore, we are going to show the distribution of the polarity for different levels of subjectivity."
   ]
  },
  {
   "cell_type": "code",
   "execution_count": 59,
   "id": "ec22e12d-5ec5-44ad-a133-7e46bfe99627",
   "metadata": {
    "tags": []
   },
   "outputs": [
    {
     "data": {
      "image/png": "[encoded data removed]",
      "text/plain": [
       "<Figure size 640x480 with 1 Axes>"
      ]
     },
     "metadata": {},
     "output_type": "display_data"
    }
   ],
   "source": [
    "fig,ax = plt.subplots()\n",
    "ax.hist(wiki_copy[\"polarity\"],bins=20, histtype=\"step\", label='All',color='b')\n",
    "wiki_copy_subjectif = wiki_copy[wiki_copy['subjectivity'] > 0.2] \n",
    "ax.hist(wiki_copy_subjectif[\"polarity\"],bins=20, histtype=\"step\", label='Subjectivity > 0.2',color='g')\n",
    "wiki_copy_subjectif = wiki_copy[wiki_copy['subjectivity'] > 0.5] \n",
    "ax.hist(wiki_copy_subjectif[\"polarity\"],bins=20, histtype=\"step\", label='Subjectivity > 0.5',color='r')\n",
    "plt.xlabel('Polarity')\n",
    "plt.ylabel('Number of comments')\n",
    "plt.title('Polarity of the Comments')\n",
    "plt.legend()\n",
    "plt.show()"
   ]
  },
  {
   "cell_type": "markdown",
   "id": "4abf21c6-56d3-4519-9854-fdc70a290062",
   "metadata": {},
   "source": [
    "We observe that many comments show a polarity of 0 indicating a lack of subjectivity. We suppose that they are too brief to provide any interesting information. So to explore this further, we need to display the comments length for each level of subjectivity."
   ]
  },
  {
   "cell_type": "code",
   "execution_count": 64,
   "id": "cf0c5ac3-fc7f-4eaf-af41-230966a34294",
   "metadata": {
    "tags": []
   },
   "outputs": [
    {
     "data": {
      "image/png": "[encoded data removed]",
      "text/plain": [
       "<Figure size 640x480 with 1 Axes>"
      ]
     },
     "metadata": {},
     "output_type": "display_data"
    }
   ],
   "source": [
    "# Graph of the length of the comments for all the comments ( in blue) \n",
    "# and for the subjective comments (with subjectivity score more than 0.2 in green and 0.5 in red)\n",
    "fig,ax = plt.subplots() \n",
    "ax.hist(wiki_copy[wiki_copy['subjectivity'] > 0.5]['CLE'].str.len(),bins=1000, histtype=\"step\", label='Subjectivity > 0.5',color='r')\n",
    "ax.hist(wiki_copy[wiki_copy['subjectivity'] > 0.2]['CLE'].str.len(),bins=1000, histtype=\"step\", label='Subjectivity > 0.2',color='g')\n",
    "ax.hist(wiki_copy['CLE'].str.len(),bins=1000, histtype=\"step\", label='All',color='b')\n",
    "plt.xlabel('Length of the Comments')\n",
    "plt.ylabel('Number of Comments')\n",
    "plt.title('Length of the Comments with Different levels of Subjectivity')\n",
    "plt.xscale('log')\n",
    "plt.legend()\n",
    "plt.show()"
   ]
  },
  {
   "cell_type": "markdown",
   "id": "001dca38-dc6b-4b02-b119-3c1da84219eb",
   "metadata": {},
   "source": [
    "Many comments appear too brief to provide substantial information. To ensure meaningful insights, we have established a subjectivity threshold of 0.2. Consequently, during our comment exploration, we exclusively utilize the subjective dataframe. Our objective is to enhance the quality of our results by keeping only those comments that are considered more interesting and informative."
   ]
  },
  {
   "cell_type": "code",
   "execution_count": 62,
   "id": "da543558-5dfc-4ea1-9dd6-21e210413356",
   "metadata": {
    "tags": []
   },
   "outputs": [],
   "source": [
    "# new dataframe with only subjective comments for the rest of our analysis\n",
    "df_subjectiv = wiki_copy[wiki_copy['subjectivity'] > 0.2] "
   ]
  },
  {
   "cell_type": "markdown",
   "id": "10bfe041-aaf9-4c2c-b8d0-7a8f28114217",
   "metadata": {
    "tags": []
   },
   "source": [
    "## Length of the comments"
   ]
  },
  {
   "cell_type": "markdown",
   "id": "ea31571d-ddda-433a-a1db-0ef34f645139",
   "metadata": {},
   "source": [
    "In this part, we explore the correlation between the length of the comment and the subjectivity."
   ]
  },
  {
   "cell_type": "code",
   "execution_count": 65,
   "id": "92066708-f794-4121-880e-5b85ece03952",
   "metadata": {
    "tags": []
   },
   "outputs": [
    {
     "data": {
      "image/png": "[encoded data removed]",
      "text/plain": [
       "<Figure size 640x480 with 1 Axes>"
      ]
     },
     "metadata": {},
     "output_type": "display_data"
    }
   ],
   "source": [
    "fig,ax = plt.subplots() \n",
    "ax.hist(wiki_copy['TXT'].str.len(),bins=500, histtype=\"step\", label='All',color='b')\n",
    "ax.hist(wiki_copy[wiki_copy['subjectivity'] < 0.2]['TXT'].str.len(),bins=500, histtype=\"step\", label='objective comments',color='r')\n",
    "ax.hist(wiki_copy[wiki_copy['subjectivity'] > 0.2]['TXT'].str.len(),bins=500, histtype=\"step\", label='subjective comments',color='g')\n",
    "plt.xlabel('Length of Comments')\n",
    "plt.ylabel('Number of Comments')\n",
    "plt.xscale('log')\n",
    "plt.legend()\n",
    "plt.title('Length of the Comments')\n",
    "plt.show()"
   ]
  },
  {
   "cell_type": "markdown",
   "id": "a57dc7e0-d49e-408a-a61f-1e42473c2e8c",
   "metadata": {},
   "source": [
    "We note that typically, when a comment is excessively brief, it tends to be objective. Conversely, when a comment is more extensive in terms of characters, it is likely to be subjective."
   ]
  },
  {
   "cell_type": "markdown",
   "id": "6d76c2cf-a12b-41c4-80dd-8aa5d8a8ab1c",
   "metadata": {
    "tags": []
   },
   "source": [
    "## Topic of the comments"
   ]
  },
  {
   "cell_type": "markdown",
   "id": "c43bf73c-bb02-4bf7-adfe-ff76d3c3e58c",
   "metadata": {},
   "source": [
    "In this part, we will use the latent dirichlet allocation in order to cluster the comments in various topics. The main idea is to extract some interesting keywords from the comments, so that we can understand what are the criteria to achieve a successful election."
   ]
  },
  {
   "cell_type": "markdown",
   "id": "a138187a-093a-435e-8e94-42d5efbd9dba",
   "metadata": {},
   "source": [
    "We start with processing text with spacy."
   ]
  },
  {
   "cell_type": "code",
   "execution_count": 74,
   "id": "ca86f4a2-d7a6-49f4-a20c-47a816caaa98",
   "metadata": {
    "tags": []
   },
   "outputs": [
    {
     "name": "stderr",
     "output_type": "stream",
     "text": [
      "[nltk_data] Downloading package stopwords to\n",
      "[nltk_data]     C:\\Users\\User\\AppData\\Roaming\\nltk_data...\n",
      "[nltk_data]   Unzipping corpora\\stopwords.zip.\n"
     ]
    },
    {
     "data": {
      "text/plain": [
       "True"
      ]
     },
     "execution_count": 74,
     "metadata": {},
     "output_type": "execute_result"
    }
   ],
   "source": [
    "nlp = spacy.load(\"en_core_web_sm\")\n",
    "nltk.download('stopwords')"
   ]
  },
  {
   "cell_type": "code",
   "execution_count": 70,
   "id": "c90e2a65-e812-479c-8d5a-199c3a3072f6",
   "metadata": {
    "tags": []
   },
   "outputs": [],
   "source": [
    "def preprocess_text(text):\n",
    "    ''' preprocesses text with lemmatization'''\n",
    "    doc = nlp(text)\n",
    "    tokens = [token.lemma_ for token in doc if token.is_alpha and not token.is_stop]\n",
    "    return \" \".join(tokens)"
   ]
  },
  {
   "cell_type": "code",
   "execution_count": 72,
   "id": "0974feb2-4d7b-4097-8979-628598390d72",
   "metadata": {
    "tags": []
   },
   "outputs": [],
   "source": [
    "def process_stop_word(text, stem=\"None\"):\n",
    "    '''removes stop words'''\n",
    "    text = text.split()\n",
    "    useless_words = nltk.corpus.stopwords.words(\"english\")\n",
    "    useless_words = useless_words + ['hi', 'im']\n",
    "    text_filtered = [word for word in text if not word in useless_words]\n",
    "        # Stem or Lemmatize\n",
    "    if stem == 'Stem':\n",
    "        stemmer = PorterStemmer() \n",
    "        text_stemmed = [stemmer.stem(y) for y in text_filtered]\n",
    "    elif stem == 'Lem':\n",
    "        lem = WordNetLemmatizer()\n",
    "        text_stemmed = [lem.lemmatize(y) for y in text_filtered]\n",
    "    elif stem == 'Spacy':\n",
    "        text_filtered = nlp(' '.join(text_filtered))\n",
    "        text_stemmed = [y.lemma_ for y in text_filtered]\n",
    "    else:\n",
    "        text_stemmed = text_filtered\n",
    "\n",
    "    final_string = ' '.join(text_stemmed)\n",
    "\n",
    "    return final_string"
   ]
  },
  {
   "cell_type": "code",
   "execution_count": 75,
   "id": "8a627a74-3b55-45d5-a95f-a868cdf2edfa",
   "metadata": {
    "tags": []
   },
   "outputs": [
    {
     "name": "stderr",
     "output_type": "stream",
     "text": [
      "C:\\Users\\User\\AppData\\Local\\Temp\\ipykernel_14132\\2082174653.py:2: SettingWithCopyWarning: \n",
      "A value is trying to be set on a copy of a slice from a DataFrame.\n",
      "Try using .loc[row_indexer,col_indexer] = value instead\n",
      "\n",
      "See the caveats in the documentation: https://pandas.pydata.org/pandas-docs/stable/user_guide/indexing.html#returning-a-view-versus-a-copy\n",
      "  df_subjectiv['preprocessed_txt'] = df_subjectiv['CLE'].apply(preprocess_text)\n",
      "C:\\Users\\User\\AppData\\Local\\Temp\\ipykernel_14132\\2082174653.py:3: SettingWithCopyWarning: \n",
      "A value is trying to be set on a copy of a slice from a DataFrame.\n",
      "Try using .loc[row_indexer,col_indexer] = value instead\n",
      "\n",
      "See the caveats in the documentation: https://pandas.pydata.org/pandas-docs/stable/user_guide/indexing.html#returning-a-view-versus-a-copy\n",
      "  df_subjectiv['preprocessed_txt'] = df_subjectiv['preprocessed_txt'].apply(process_stop_word)\n"
     ]
    }
   ],
   "source": [
    "# Clean the text for the LDA algorithm\n",
    "df_subjectiv['preprocessed_txt'] = df_subjectiv['CLE'].apply(preprocess_text)\n",
    "df_subjectiv['preprocessed_txt'] = df_subjectiv['preprocessed_txt'].apply(process_stop_word)"
   ]
  },
  {
   "cell_type": "markdown",
   "id": "85f4bbf2-39c6-4250-ae81-9f9095838c12",
   "metadata": {},
   "source": [
    "##### Transforming the preprocessed comments into a structured representation that captures the importance of terms within each comment using TF-IDF (Term Frequency-Inverse Document Frequency)."
   ]
  },
  {
   "cell_type": "code",
   "execution_count": null,
   "id": "4a7afb0d-25a5-42f5-956f-fdf5cf8afb55",
   "metadata": {
    "tags": []
   },
   "outputs": [],
   "source": [
    "# TF-IDF vectorization\n",
    "vectorizer = TfidfVectorizer(max_df=0.95, min_df=2, max_features=1000, stop_words='english')\n",
    "# Apply TF-IDF vectorization to the preprocessed text\n",
    "dtm = vectorizer.fit_transform(df_subjectiv['preprocessed_txt'])\n",
    "\n",
    "# LDA model\n",
    "num_topics = 20 # Classify into 20 topics to visualize some positive or negative topics\n",
    "lda = LatentDirichletAllocation(n_components=num_topics, random_state=42)\n",
    "lda.fit(dtm)  # Fit the LDA model to the TF-IDF matrix"
   ]
  },
  {
   "cell_type": "code",
   "execution_count": null,
   "id": "cbbb6546-c21d-4301-920f-13162bf97f8d",
   "metadata": {
    "tags": []
   },
   "outputs": [],
   "source": [
    "def print_top_words(model, vectorizer, n_words=10):\n",
    "    '''prints the 10 words that are the best of each topics'''\n",
    "    feature_names = vectorizer.get_feature_names_out()\n",
    "    for topic_idx, topic in enumerate(model.components_):\n",
    "        top_words_idx = topic.argsort()[:-n_words - 1:-1]\n",
    "        top_words = [feature_names[i] for i in top_words_idx]\n",
    "        print(f\"Topic #{topic_idx + 1}: {' | '.join(top_words)}\")"
   ]
  },
  {
   "cell_type": "code",
   "execution_count": null,
   "id": "345559c7-ff5e-4d0a-9141-6e134b435c6d",
   "metadata": {
    "tags": []
   },
   "outputs": [],
   "source": [
    "print_top_words(lda, vectorizer)"
   ]
  },
  {
   "cell_type": "markdown",
   "id": "29c00812-3133-480f-88a6-9809916ba0e1",
   "metadata": {},
   "source": [
    "We can now generate a topic number for all the comments in the dataframe:"
   ]
  },
  {
   "cell_type": "code",
   "execution_count": 24,
   "id": "68dfea21-6a06-4bfc-a8df-f8917499e2c9",
   "metadata": {
    "tags": []
   },
   "outputs": [
    {
     "name": "stderr",
     "output_type": "stream",
     "text": [
      "C:\\Users\\liand\\AppData\\Local\\Temp\\ipykernel_16320\\3148027325.py:3: SettingWithCopyWarning: \n",
      "A value is trying to be set on a copy of a slice from a DataFrame.\n",
      "Try using .loc[row_indexer,col_indexer] = value instead\n",
      "\n",
      "See the caveats in the documentation: https://pandas.pydata.org/pandas-docs/stable/user_guide/indexing.html#returning-a-view-versus-a-copy\n",
      "  df_subjectiv['Topic'] = df_subjectiv.index.map(lambda i: lda.transform(dtm[i]).argmax())\n"
     ]
    },
    {
     "data": {
      "text/html": [
       "<div>\n",
       "<style scoped>\n",
       "    .dataframe tbody tr th:only-of-type {\n",
       "        vertical-align: middle;\n",
       "    }\n",
       "\n",
       "    .dataframe tbody tr th {\n",
       "        vertical-align: top;\n",
       "    }\n",
       "\n",
       "    .dataframe thead th {\n",
       "        text-align: right;\n",
       "    }\n",
       "</style>\n",
       "<table border=\"1\" class=\"dataframe\">\n",
       "  <thead>\n",
       "    <tr style=\"text-align: right;\">\n",
       "      <th></th>\n",
       "      <th>SRC</th>\n",
       "      <th>TGT</th>\n",
       "      <th>VOT</th>\n",
       "      <th>RES</th>\n",
       "      <th>YEA</th>\n",
       "      <th>DAT</th>\n",
       "      <th>TXT</th>\n",
       "      <th>CLE</th>\n",
       "      <th>polarity</th>\n",
       "      <th>subjectivity</th>\n",
       "      <th>preprocessed_txt</th>\n",
       "      <th>Topic</th>\n",
       "    </tr>\n",
       "  </thead>\n",
       "  <tbody>\n",
       "    <tr>\n",
       "      <th>0</th>\n",
       "      <td>Cncmaster</td>\n",
       "      <td>BDD</td>\n",
       "      <td>1</td>\n",
       "      <td>1</td>\n",
       "      <td>2013</td>\n",
       "      <td>2013-04-20 00:11:00</td>\n",
       "      <td>'''Support''' per noms. BDD is a strong contri...</td>\n",
       "      <td>per noms. bdd is a strong contributor with tho...</td>\n",
       "      <td>0.341667</td>\n",
       "      <td>0.491667</td>\n",
       "      <td>nom bdd strong contributor thousand edit year ...</td>\n",
       "      <td>16</td>\n",
       "    </tr>\n",
       "    <tr>\n",
       "      <th>1</th>\n",
       "      <td>Miniapolis</td>\n",
       "      <td>BDD</td>\n",
       "      <td>1</td>\n",
       "      <td>1</td>\n",
       "      <td>2013</td>\n",
       "      <td>2013-04-20 00:56:00</td>\n",
       "      <td>'''Support''', with great pleasure. I work wit...</td>\n",
       "      <td>with great pleasure. i work with bdd at the gu...</td>\n",
       "      <td>0.638889</td>\n",
       "      <td>0.616667</td>\n",
       "      <td>great pleasure work bdd guild copy editor coor...</td>\n",
       "      <td>5</td>\n",
       "    </tr>\n",
       "    <tr>\n",
       "      <th>2</th>\n",
       "      <td>Sven Manguard</td>\n",
       "      <td>BDD</td>\n",
       "      <td>1</td>\n",
       "      <td>1</td>\n",
       "      <td>2013</td>\n",
       "      <td>2013-04-20 01:53:00</td>\n",
       "      <td>'''Support''' There are plenty of important ro...</td>\n",
       "      <td>there are plenty of important roles on this pr...</td>\n",
       "      <td>0.375000</td>\n",
       "      <td>0.775000</td>\n",
       "      <td>plenty important role project content creator ...</td>\n",
       "      <td>8</td>\n",
       "    </tr>\n",
       "    <tr>\n",
       "      <th>3</th>\n",
       "      <td>RockMagnetist</td>\n",
       "      <td>BDD</td>\n",
       "      <td>1</td>\n",
       "      <td>1</td>\n",
       "      <td>2013</td>\n",
       "      <td>2013-04-20 02:18:00</td>\n",
       "      <td>'''Support'''  BDD already wields a broom pret...</td>\n",
       "      <td>bdd already wields a broom pretty well so why ...</td>\n",
       "      <td>0.095556</td>\n",
       "      <td>0.502963</td>\n",
       "      <td>bdd wield broom pretty formalize concerned lac...</td>\n",
       "      <td>16</td>\n",
       "    </tr>\n",
       "    <tr>\n",
       "      <th>4</th>\n",
       "      <td>Carrite</td>\n",
       "      <td>BDD</td>\n",
       "      <td>1</td>\n",
       "      <td>1</td>\n",
       "      <td>2013</td>\n",
       "      <td>2013-04-20 02:22:00</td>\n",
       "      <td>'''Support''' barring a completely unexpected ...</td>\n",
       "      <td>barring a completely unexpected answer to prof...</td>\n",
       "      <td>0.333214</td>\n",
       "      <td>0.529048</td>\n",
       "      <td>bar completely unexpected answer proforma ques...</td>\n",
       "      <td>8</td>\n",
       "    </tr>\n",
       "  </tbody>\n",
       "</table>\n",
       "</div>"
      ],
      "text/plain": [
       "             SRC  TGT VOT RES   YEA                 DAT  \\\n",
       "0      Cncmaster  BDD   1   1  2013 2013-04-20 00:11:00   \n",
       "1     Miniapolis  BDD   1   1  2013 2013-04-20 00:56:00   \n",
       "2  Sven Manguard  BDD   1   1  2013 2013-04-20 01:53:00   \n",
       "3  RockMagnetist  BDD   1   1  2013 2013-04-20 02:18:00   \n",
       "4        Carrite  BDD   1   1  2013 2013-04-20 02:22:00   \n",
       "\n",
       "                                                 TXT  \\\n",
       "0  '''Support''' per noms. BDD is a strong contri...   \n",
       "1  '''Support''', with great pleasure. I work wit...   \n",
       "2  '''Support''' There are plenty of important ro...   \n",
       "3  '''Support'''  BDD already wields a broom pret...   \n",
       "4  '''Support''' barring a completely unexpected ...   \n",
       "\n",
       "                                                 CLE  polarity  subjectivity  \\\n",
       "0  per noms. bdd is a strong contributor with tho...  0.341667      0.491667   \n",
       "1  with great pleasure. i work with bdd at the gu...  0.638889      0.616667   \n",
       "2  there are plenty of important roles on this pr...  0.375000      0.775000   \n",
       "3  bdd already wields a broom pretty well so why ...  0.095556      0.502963   \n",
       "4  barring a completely unexpected answer to prof...  0.333214      0.529048   \n",
       "\n",
       "                                    preprocessed_txt  Topic  \n",
       "0  nom bdd strong contributor thousand edit year ...     16  \n",
       "1  great pleasure work bdd guild copy editor coor...      5  \n",
       "2  plenty important role project content creator ...      8  \n",
       "3  bdd wield broom pretty formalize concerned lac...     16  \n",
       "4  bar completely unexpected answer proforma ques...      8  "
      ]
     },
     "execution_count": 24,
     "metadata": {},
     "output_type": "execute_result"
    }
   ],
   "source": [
    "# Add a column with the number of the topic for each comment\n",
    "df_subjectiv.reset_index(drop=True, inplace=True)\n",
    "df_subjectiv['Topic'] = df_subjectiv.index.map(lambda i: lda.transform(dtm[i]).argmax())\n",
    "df_subjectiv.head()"
   ]
  },
  {
   "cell_type": "markdown",
   "id": "64e24c1f-2542-4dcd-8afd-e19074bd1d66",
   "metadata": {
    "tags": []
   },
   "source": [
    "We can visualize the polarity of each topics :"
   ]
  },
  {
   "cell_type": "code",
   "execution_count": 42,
   "id": "f32eae93-085f-4325-b994-50249af6c1cf",
   "metadata": {
    "tags": []
   },
   "outputs": [
    {
     "name": "stderr",
     "output_type": "stream",
     "text": [
      "C:\\Users\\liand\\anaconda3\\envs\\ada\\lib\\site-packages\\seaborn\\axisgrid.py:118: UserWarning: The figure layout has changed to tight\n",
      "  self._figure.tight_layout(*args, **kwargs)\n"
     ]
    },
    {
     "data": {
      "text/plain": [
       "Text(0.5, 0.98, 'Polarity of Different Topics')"
      ]
     },
     "execution_count": 42,
     "metadata": {},
     "output_type": "execute_result"
    },
    {
     "data": {
      "image/png": "[encoded data removed]",
      "text/plain": [
       "<Figure size 800x400 with 1 Axes>"
      ]
     },
     "metadata": {},
     "output_type": "display_data"
    }
   ],
   "source": [
    "plot = sns.catplot(x='Topic', y='polarity', kind=\"box\", data=df_subjectiv, errorbar='sd', height=4, aspect=2)\n",
    "plot.fig.suptitle('Polarity of Different Topics')"
   ]
  },
  {
   "cell_type": "markdown",
   "id": "41bca5c0-c9dd-4840-8580-58efe236eb20",
   "metadata": {},
   "source": [
    "By examining this plot, it becomes evident that topic 8 exhibits a higher polarity compared to the others. To delve deeper into the positive comments within this topic, we can inspect the list of prevalent words. Notable keywords include:\n",
    "- positive\n",
    "- interaction\n",
    "- experienced\n",
    "- helpful\n",
    "- friendly\n",
    "- project\n",
    "\n",
    "After reflection, we anticipate uncovering more insights by filtering comments exclusively for positive or negative sentiments."
   ]
  },
  {
   "cell_type": "markdown",
   "id": "58ebdde5-f51c-4562-b2a2-69fb8c59e208",
   "metadata": {
    "tags": []
   },
   "source": [
    "## Repeat the same with the positive/negative comments"
   ]
  },
  {
   "cell_type": "markdown",
   "id": "0384724f-68ac-46f9-8e66-5164244fd28d",
   "metadata": {},
   "source": [
    "In this part, we are gonna use only the subjective comments with a polarity greater than 0,5. The goal is to extract the topics and keywords to gives us an idea of the positive comments."
   ]
  },
  {
   "cell_type": "code",
   "execution_count": 26,
   "id": "afd6e1f0-8065-4242-82ac-3d200775b5d4",
   "metadata": {
    "tags": []
   },
   "outputs": [
    {
     "data": {
      "text/html": [
       "<style>#sk-container-id-2 {color: black;}#sk-container-id-2 pre{padding: 0;}#sk-container-id-2 div.sk-toggleable {background-color: white;}#sk-container-id-2 label.sk-toggleable__label {cursor: pointer;display: block;width: 100%;margin-bottom: 0;padding: 0.3em;box-sizing: border-box;text-align: center;}#sk-container-id-2 label.sk-toggleable__label-arrow:before {content: \"▸\";float: left;margin-right: 0.25em;color: #696969;}#sk-container-id-2 label.sk-toggleable__label-arrow:hover:before {color: black;}#sk-container-id-2 div.sk-estimator:hover label.sk-toggleable__label-arrow:before {color: black;}#sk-container-id-2 div.sk-toggleable__content {max-height: 0;max-width: 0;overflow: hidden;text-align: left;background-color: #f0f8ff;}#sk-container-id-2 div.sk-toggleable__content pre {margin: 0.2em;color: black;border-radius: 0.25em;background-color: #f0f8ff;}#sk-container-id-2 input.sk-toggleable__control:checked~div.sk-toggleable__content {max-height: 200px;max-width: 100%;overflow: auto;}#sk-container-id-2 input.sk-toggleable__control:checked~label.sk-toggleable__label-arrow:before {content: \"▾\";}#sk-container-id-2 div.sk-estimator input.sk-toggleable__control:checked~label.sk-toggleable__label {background-color: #d4ebff;}#sk-container-id-2 div.sk-label input.sk-toggleable__control:checked~label.sk-toggleable__label {background-color: #d4ebff;}#sk-container-id-2 input.sk-hidden--visually {border: 0;clip: rect(1px 1px 1px 1px);clip: rect(1px, 1px, 1px, 1px);height: 1px;margin: -1px;overflow: hidden;padding: 0;position: absolute;width: 1px;}#sk-container-id-2 div.sk-estimator {font-family: monospace;background-color: #f0f8ff;border: 1px dotted black;border-radius: 0.25em;box-sizing: border-box;margin-bottom: 0.5em;}#sk-container-id-2 div.sk-estimator:hover {background-color: #d4ebff;}#sk-container-id-2 div.sk-parallel-item::after {content: \"\";width: 100%;border-bottom: 1px solid gray;flex-grow: 1;}#sk-container-id-2 div.sk-label:hover label.sk-toggleable__label {background-color: #d4ebff;}#sk-container-id-2 div.sk-serial::before {content: \"\";position: absolute;border-left: 1px solid gray;box-sizing: border-box;top: 0;bottom: 0;left: 50%;z-index: 0;}#sk-container-id-2 div.sk-serial {display: flex;flex-direction: column;align-items: center;background-color: white;padding-right: 0.2em;padding-left: 0.2em;position: relative;}#sk-container-id-2 div.sk-item {position: relative;z-index: 1;}#sk-container-id-2 div.sk-parallel {display: flex;align-items: stretch;justify-content: center;background-color: white;position: relative;}#sk-container-id-2 div.sk-item::before, #sk-container-id-2 div.sk-parallel-item::before {content: \"\";position: absolute;border-left: 1px solid gray;box-sizing: border-box;top: 0;bottom: 0;left: 50%;z-index: -1;}#sk-container-id-2 div.sk-parallel-item {display: flex;flex-direction: column;z-index: 1;position: relative;background-color: white;}#sk-container-id-2 div.sk-parallel-item:first-child::after {align-self: flex-end;width: 50%;}#sk-container-id-2 div.sk-parallel-item:last-child::after {align-self: flex-start;width: 50%;}#sk-container-id-2 div.sk-parallel-item:only-child::after {width: 0;}#sk-container-id-2 div.sk-dashed-wrapped {border: 1px dashed gray;margin: 0 0.4em 0.5em 0.4em;box-sizing: border-box;padding-bottom: 0.4em;background-color: white;}#sk-container-id-2 div.sk-label label {font-family: monospace;font-weight: bold;display: inline-block;line-height: 1.2em;}#sk-container-id-2 div.sk-label-container {text-align: center;}#sk-container-id-2 div.sk-container {/* jupyter's `normalize.less` sets `[hidden] { display: none; }` but bootstrap.min.css set `[hidden] { display: none !important; }` so we also need the `!important` here to be able to override the default hidden behavior on the sphinx rendered scikit-learn.org. See: https://github.com/scikit-learn/scikit-learn/issues/21755 */display: inline-block !important;position: relative;}#sk-container-id-2 div.sk-text-repr-fallback {display: none;}</style><div id=\"sk-container-id-2\" class=\"sk-top-container\"><div class=\"sk-text-repr-fallback\"><pre>LatentDirichletAllocation(n_components=20, random_state=42)</pre><b>In a Jupyter environment, please rerun this cell to show the HTML representation or trust the notebook. <br />On GitHub, the HTML representation is unable to render, please try loading this page with nbviewer.org.</b></div><div class=\"sk-container\" hidden><div class=\"sk-item\"><div class=\"sk-estimator sk-toggleable\"><input class=\"sk-toggleable__control sk-hidden--visually\" id=\"sk-estimator-id-2\" type=\"checkbox\" checked><label for=\"sk-estimator-id-2\" class=\"sk-toggleable__label sk-toggleable__label-arrow\">LatentDirichletAllocation</label><div class=\"sk-toggleable__content\"><pre>LatentDirichletAllocation(n_components=20, random_state=42)</pre></div></div></div></div></div>"
      ],
      "text/plain": [
       "LatentDirichletAllocation(n_components=20, random_state=42)"
      ]
     },
     "execution_count": 26,
     "metadata": {},
     "output_type": "execute_result"
    }
   ],
   "source": [
    "# TF-IDF vectorization\n",
    "vectorizer = TfidfVectorizer(max_df=0.95, min_df=2, max_features=1000, stop_words='english')\n",
    "# Apply TF-IDF vectorization to the preprocessed text\n",
    "dtm = vectorizer.fit_transform(df_subjectiv[df_subjectiv['polarity'] > 0.5]['preprocessed_txt'])\n",
    "\n",
    "# LDA model\n",
    "num_topics = 20 #separation in 20 topics to visualize some positive or negative topics\n",
    "lda = LatentDirichletAllocation(n_components=num_topics, random_state=42)\n",
    "lda.fit(dtm)  # Fit the LDA model to the TF-IDF matrix"
   ]
  },
  {
   "cell_type": "code",
   "execution_count": 27,
   "id": "c1c80135-c961-433c-a61e-074b3b2061d9",
   "metadata": {
    "tags": []
   },
   "outputs": [
    {
     "name": "stdout",
     "output_type": "stream",
     "text": [
      "Topic #1: deserve | abuse | tool | good | supporti | admin | user | know | editor | great\n",
      "Topic #2: user | experienced | good | great | support | sure | excellent | admin | helpful | experience\n",
      "Topic #3: supporta | good | believe | afd | issue | admin | editor | intelligent | levelheade | support\n",
      "Topic #4: editor | good | excellent | great | admin | support | impressive | time | honest | mop\n",
      "Topic #5: answer | question | good | contribution | support | perfect | supportgood | response | great | judgement\n",
      "Topic #6: work | great | admin | vandal | good | support | fighter | wikipedian | think | lot\n",
      "Topic #7: impressed | administrator | good | person | support | kind | faith | great | way | excellent\n",
      "Topic #8: edit | job | good | contribution | support | great | summary | history | vandalism | count\n",
      "Topic #9: nice | guy | happy | support | addition | superb | good | great | vandalfighter | like\n",
      "Topic #10: policy | impress | good | knowledge | understanding | support | brilliant | welcome | editor | point\n",
      "Topic #11: luck | good | problem | contrib | support | definitely | admin | friendly | honestly | impression\n",
      "Topic #12: contributor | nom | great | good | support | yes | excellent | project | course | wonderful\n",
      "Topic #13: supportlook | good | talk | stuff | page | dedicated | mainspace | edit | great | user\n",
      "Topic #14: look | good | like | support | admin | choice | great | builder | pedia | excellent\n",
      "Topic #15: trustworthy | nomination | nominator | support | good | excellent | sensible | editor | plenty | great\n",
      "Topic #16: awesome | support | good | level | qualified | work | great | head | feel | number\n",
      "Topic #17: reason | oppose | good | tere | supportseem | user | editor | misuse | admin | great\n",
      "Topic #18: candidate | good | excellent | great | support | track | record | like | adminship | appear\n",
      "Topic #19: fine | sound | good | interaction | admin | say | support | user | worry | come\n",
      "Topic #20: tool | use | trust | good | concern | mop | doubt | wisely | editor | admin\n"
     ]
    }
   ],
   "source": [
    "print_top_words(lda, vectorizer)"
   ]
  },
  {
   "cell_type": "markdown",
   "id": "42466063-1af4-42c3-b0a3-f6b2007a413b",
   "metadata": {
    "tags": []
   },
   "source": [
    "Some other interesting positive words :\n",
    "- qualified\n",
    "- thrustworthy\n",
    "- contribution\n",
    "- experience\n",
    "- levelheaded\n",
    "- asset\n",
    "- friendly\n",
    "- contribution\n",
    "\n",
    "These terms serve as valuable criterias to the acceptance of a person."
   ]
  },
  {
   "cell_type": "markdown",
   "id": "ed368d6b-3160-471f-b856-4e57749839df",
   "metadata": {},
   "source": [
    "Then with the negative comments, with polarity smaller than -0,5."
   ]
  },
  {
   "cell_type": "code",
   "execution_count": 28,
   "id": "1d6c4593-838a-46cc-ac98-219f6163f7ab",
   "metadata": {
    "tags": []
   },
   "outputs": [
    {
     "data": {
      "text/html": [
       "<style>#sk-container-id-3 {color: black;}#sk-container-id-3 pre{padding: 0;}#sk-container-id-3 div.sk-toggleable {background-color: white;}#sk-container-id-3 label.sk-toggleable__label {cursor: pointer;display: block;width: 100%;margin-bottom: 0;padding: 0.3em;box-sizing: border-box;text-align: center;}#sk-container-id-3 label.sk-toggleable__label-arrow:before {content: \"▸\";float: left;margin-right: 0.25em;color: #696969;}#sk-container-id-3 label.sk-toggleable__label-arrow:hover:before {color: black;}#sk-container-id-3 div.sk-estimator:hover label.sk-toggleable__label-arrow:before {color: black;}#sk-container-id-3 div.sk-toggleable__content {max-height: 0;max-width: 0;overflow: hidden;text-align: left;background-color: #f0f8ff;}#sk-container-id-3 div.sk-toggleable__content pre {margin: 0.2em;color: black;border-radius: 0.25em;background-color: #f0f8ff;}#sk-container-id-3 input.sk-toggleable__control:checked~div.sk-toggleable__content {max-height: 200px;max-width: 100%;overflow: auto;}#sk-container-id-3 input.sk-toggleable__control:checked~label.sk-toggleable__label-arrow:before {content: \"▾\";}#sk-container-id-3 div.sk-estimator input.sk-toggleable__control:checked~label.sk-toggleable__label {background-color: #d4ebff;}#sk-container-id-3 div.sk-label input.sk-toggleable__control:checked~label.sk-toggleable__label {background-color: #d4ebff;}#sk-container-id-3 input.sk-hidden--visually {border: 0;clip: rect(1px 1px 1px 1px);clip: rect(1px, 1px, 1px, 1px);height: 1px;margin: -1px;overflow: hidden;padding: 0;position: absolute;width: 1px;}#sk-container-id-3 div.sk-estimator {font-family: monospace;background-color: #f0f8ff;border: 1px dotted black;border-radius: 0.25em;box-sizing: border-box;margin-bottom: 0.5em;}#sk-container-id-3 div.sk-estimator:hover {background-color: #d4ebff;}#sk-container-id-3 div.sk-parallel-item::after {content: \"\";width: 100%;border-bottom: 1px solid gray;flex-grow: 1;}#sk-container-id-3 div.sk-label:hover label.sk-toggleable__label {background-color: #d4ebff;}#sk-container-id-3 div.sk-serial::before {content: \"\";position: absolute;border-left: 1px solid gray;box-sizing: border-box;top: 0;bottom: 0;left: 50%;z-index: 0;}#sk-container-id-3 div.sk-serial {display: flex;flex-direction: column;align-items: center;background-color: white;padding-right: 0.2em;padding-left: 0.2em;position: relative;}#sk-container-id-3 div.sk-item {position: relative;z-index: 1;}#sk-container-id-3 div.sk-parallel {display: flex;align-items: stretch;justify-content: center;background-color: white;position: relative;}#sk-container-id-3 div.sk-item::before, #sk-container-id-3 div.sk-parallel-item::before {content: \"\";position: absolute;border-left: 1px solid gray;box-sizing: border-box;top: 0;bottom: 0;left: 50%;z-index: -1;}#sk-container-id-3 div.sk-parallel-item {display: flex;flex-direction: column;z-index: 1;position: relative;background-color: white;}#sk-container-id-3 div.sk-parallel-item:first-child::after {align-self: flex-end;width: 50%;}#sk-container-id-3 div.sk-parallel-item:last-child::after {align-self: flex-start;width: 50%;}#sk-container-id-3 div.sk-parallel-item:only-child::after {width: 0;}#sk-container-id-3 div.sk-dashed-wrapped {border: 1px dashed gray;margin: 0 0.4em 0.5em 0.4em;box-sizing: border-box;padding-bottom: 0.4em;background-color: white;}#sk-container-id-3 div.sk-label label {font-family: monospace;font-weight: bold;display: inline-block;line-height: 1.2em;}#sk-container-id-3 div.sk-label-container {text-align: center;}#sk-container-id-3 div.sk-container {/* jupyter's `normalize.less` sets `[hidden] { display: none; }` but bootstrap.min.css set `[hidden] { display: none !important; }` so we also need the `!important` here to be able to override the default hidden behavior on the sphinx rendered scikit-learn.org. See: https://github.com/scikit-learn/scikit-learn/issues/21755 */display: inline-block !important;position: relative;}#sk-container-id-3 div.sk-text-repr-fallback {display: none;}</style><div id=\"sk-container-id-3\" class=\"sk-top-container\"><div class=\"sk-text-repr-fallback\"><pre>LatentDirichletAllocation(n_components=20, random_state=42)</pre><b>In a Jupyter environment, please rerun this cell to show the HTML representation or trust the notebook. <br />On GitHub, the HTML representation is unable to render, please try loading this page with nbviewer.org.</b></div><div class=\"sk-container\" hidden><div class=\"sk-item\"><div class=\"sk-estimator sk-toggleable\"><input class=\"sk-toggleable__control sk-hidden--visually\" id=\"sk-estimator-id-3\" type=\"checkbox\" checked><label for=\"sk-estimator-id-3\" class=\"sk-toggleable__label sk-toggleable__label-arrow\">LatentDirichletAllocation</label><div class=\"sk-toggleable__content\"><pre>LatentDirichletAllocation(n_components=20, random_state=42)</pre></div></div></div></div></div>"
      ],
      "text/plain": [
       "LatentDirichletAllocation(n_components=20, random_state=42)"
      ]
     },
     "execution_count": 28,
     "metadata": {},
     "output_type": "execute_result"
    }
   ],
   "source": [
    "# TF-IDF vectorization\n",
    "vectorizer = TfidfVectorizer(max_df=0.95, min_df=2, max_features=1000, stop_words='english')\n",
    "# Apply TF-IDF vectorization to the preprocessed text\n",
    "dtm = vectorizer.fit_transform(df_subjectiv[df_subjectiv['polarity'] < 0]['preprocessed_txt'])\n",
    "\n",
    "# LDA model\n",
    "num_topics = 20 #separation in 20 topics to visualize some positive or negative topics\n",
    "lda = LatentDirichletAllocation(n_components=num_topics, random_state=42)\n",
    "lda.fit(dtm)  # Fit the LDA model to the TF-IDF matrix"
   ]
  },
  {
   "cell_type": "code",
   "execution_count": 29,
   "id": "9b2dddc8-010e-43d6-b0c7-f570df0224e7",
   "metadata": {
    "tags": []
   },
   "outputs": [
    {
     "name": "stdout",
     "output_type": "stream",
     "text": [
      "Topic #1: ready | sorry | suggest | black | usual | early | experience | policy | oppose | close\n",
      "Topic #2: oppose | mistake | pile | stupid | support | admin | learn | user | irc | candidate\n",
      "Topic #3: weak | oppose | little | edit | experience | answer | support | sorry | mainspace | real\n",
      "Topic #4: sure | positive | net | support | ridiculous | admin | think | editor | oppose | user\n",
      "Topic #5: long | bad | support | time | overdue | oh | ago | moral | wait | faith\n",
      "Topic #6: good | content | reason | interaction | negative | edit | oppose | creation | vandal | vague\n",
      "Topic #7: vote | silly | support | oppose | ago | year | rfa | nt | month | track\n",
      "Topic #8: sorry | support | oppose | soon | unnecessary | qualified | joke | thank | pileon | section\n",
      "Topic #9: concern | major | issue | raise | oppose | sorry | csd | civility | past | support\n",
      "Topic #10: deal | admin | big | oppose | user | editor | candidate | adminship | situation | article\n",
      "Topic #11: wrong | edit | summary | low | count | support | number | far | nominate | user\n",
      "Topic #12: support | extreme | absolutely | criterion | guy | crazy | deserve | fail | nominator | inexperience\n",
      "Topic #13: mean | vandalism | edit | page | admin | seriously | user | support | talk | revert\n",
      "Topic #14: deletion | article | speedy | oppose | delete | admin | answer | question | tag | candidate\n",
      "Topic #15: edit | experience | lack | month | sorry | area | article | wikipedia | namespace | little\n",
      "Topic #16: sense | common | fail | yes | editcountitis | test | fuck | new | head | oppose\n",
      "Topic #17: inexperienced | oppose | support | answer | hate | candidate | rfas | lean | selfnom | comfortable\n",
      "Topic #18: abuse | unlikely | tool | admin | late | misuse | support | user | administrator | solid\n",
      "Topic #19: answer | duh | hard | question | standard | support | opposeper | work | meet | comment\n",
      "Topic #20: active | user | admin | trustworthy | trust | supporti | support | editor | helpful | tool\n"
     ]
    }
   ],
   "source": [
    "print_top_words(lda, vectorizer)"
   ]
  },
  {
   "cell_type": "markdown",
   "id": "6e2d6be2-c919-404d-a6c1-5e02a8695b6b",
   "metadata": {},
   "source": [
    "From this word list, we can infer certain criteria indicative of non-acceptance:\n",
    "- uncivil\n",
    "- dangerous\n",
    "- idiot\n",
    "- stupid\n",
    "- immature\n",
    "\n"
   ]
  },
  {
   "cell_type": "markdown",
   "id": "82af941a-5aa8-4e20-a9f2-1d7c37f246bf",
   "metadata": {
    "tags": []
   },
   "source": [
    "## Which words are most frequently utilized in the comments?"
   ]
  },
  {
   "cell_type": "code",
   "execution_count": 30,
   "id": "6e38cff3-9776-40df-a359-07dfd3a2f62e",
   "metadata": {
    "tags": []
   },
   "outputs": [
    {
     "name": "stdout",
     "output_type": "stream",
     "text": [
      "most common words in all the comments : \n",
      " [('good', 45056), ('support', 42443), ('admin', 35350), ('edit', 26957), ('user', 25202), ('oppose', 24113), ('editor', 22283), ('candidate', 18422), ('work', 18105), ('think', 17157), ('tool', 16284), ('experience', 16140), ('like', 15166), ('time', 14377), ('answer', 14362), ('article', 14052), ('need', 13377), ('rfa', 13286), ('great', 12446), ('wikipedia', 12326)] \n",
      "\n",
      "most common words the positive comments : \n",
      " [('good', 18075), ('support', 7442), ('great', 5913), ('admin', 5390), ('editor', 4835), ('user', 4233), ('excellent', 3767), ('candidate', 3079), ('work', 2910), ('look', 2738), ('answer', 2303), ('like', 2076), ('tool', 2048), ('luck', 1903), ('edit', 1710), ('question', 1567), ('see', 1553), ('contribution', 1553), ('think', 1467), ('experience', 1441)] \n",
      "\n",
      "most common words the negative comments : \n",
      " [('bad', 174), ('support', 125), ('oppose', 101), ('admin', 87), ('hate', 51), ('user', 49), ('think', 43), ('tool', 41), ('reason', 39), ('like', 37), ('need', 36), ('edit', 35), ('answer', 35), ('rfa', 33), ('candidate', 31), ('vote', 27), ('question', 26), ('afraid', 26), ('see', 25), ('stupid', 23)] \n",
      "\n"
     ]
    }
   ],
   "source": [
    "all_text = ' '.join(df_subjectiv['preprocessed_txt'].astype(str))\n",
    "all_text_p = ' '.join(df_subjectiv[df_subjectiv['polarity'] > 0.5]['preprocessed_txt'].astype(str))\n",
    "all_text_n = ' '.join(df_subjectiv[df_subjectiv['polarity'] < -0.5]['preprocessed_txt'].astype(str))\n",
    "\n",
    "# Tokenize the text into words\n",
    "words = re.findall(r'\\b\\w+\\b', all_text.lower())\n",
    "words_p = re.findall(r'\\b\\w+\\b', all_text_p.lower())\n",
    "words_n = re.findall(r'\\b\\w+\\b', all_text_n.lower())\n",
    "\n",
    "\n",
    "# count occurrences of each word\n",
    "word_counts = Counter(words)\n",
    "word_counts_p = Counter(words_p)\n",
    "word_counts_n = Counter(words_n)\n",
    "\n",
    "# Print the most common words and their counts for all/positive/negative comments\n",
    "print('Most common words in all the comments : \\n', word_counts.most_common(20),'\\n')\n",
    "print('Most common words the positive comments : \\n', word_counts_p.most_common(20),'\\n')\n",
    "print('Most common words the negative comments : \\n', word_counts_n.most_common(20),'\\n')"
   ]
  }
 ],
 "metadata": {
  "kernelspec": {
   "display_name": "Python [conda env:ada] *",
   "language": "python",
   "name": "conda-env-ada-py"
  },
  "language_info": {
   "codemirror_mode": {
    "name": "ipython",
    "version": 3
   },
   "file_extension": ".py",
   "mimetype": "text/x-python",
   "name": "python",
   "nbconvert_exporter": "python",
   "pygments_lexer": "ipython3",
   "version": "3.9.18"
  }
 },
 "nbformat": 4,
 "nbformat_minor": 5
}
