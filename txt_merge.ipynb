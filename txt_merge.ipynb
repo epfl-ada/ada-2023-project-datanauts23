{
 "cells": [
  {
   "cell_type": "markdown",
   "id": "60eddb9d-cf7c-4141-ae6d-3fed760332c8",
   "metadata": {},
   "source": [
    "# Text processing"
   ]
  },
  {
   "cell_type": "markdown",
   "id": "26c4cbac-b704-4136-ad9e-2290099b904a",
   "metadata": {
    "tags": []
   },
   "source": [
    "### Imports"
   ]
  },
  {
   "cell_type": "code",
   "execution_count": 1,
   "id": "ae73c293-bd44-4b1c-b356-19e8cc8b98fa",
   "metadata": {
    "tags": []
   },
   "outputs": [],
   "source": [
    "import importlib\n",
    "import pandas as pd\n",
    "import modules.data_processing\n",
    "import seaborn as sns\n",
    "import matplotlib.pyplot as plt\n",
    "from textblob import TextBlob\n",
    "import spacy\n",
    "import string\n",
    "import nltk\n",
    "from collections import Counter\n",
    "from sklearn.feature_extraction.text import CountVectorizer\n",
    "from sklearn.decomposition import LatentDirichletAllocation\n",
    "from sklearn.feature_extraction.text import TfidfVectorizer\n",
    "from modules.data_processing import *"
   ]
  },
  {
   "cell_type": "code",
   "execution_count": 2,
   "id": "591e9370-7ed2-49d3-a178-0750e24c4f9f",
   "metadata": {
    "tags": []
   },
   "outputs": [],
   "source": [
    "importlib.reload(modules.data_processing)\n",
    "from modules.data_processing import *"
   ]
  },
  {
   "cell_type": "code",
   "execution_count": 3,
   "id": "da07c97c-0f57-4ed5-8379-50b5bab148e1",
   "metadata": {
    "tags": []
   },
   "outputs": [],
   "source": [
    "DATA_PATH = './data/wiki-RfA.txt'"
   ]
  },
  {
   "cell_type": "markdown",
   "id": "b76df707-a244-436a-a24a-1c412408fce6",
   "metadata": {
    "tags": []
   },
   "source": [
    "### Loading Processed Dataset"
   ]
  },
  {
   "cell_type": "code",
   "execution_count": 4,
   "id": "891a85ea-6b6f-44a6-a604-49dbd1317bde",
   "metadata": {
    "tags": []
   },
   "outputs": [],
   "source": [
    "wiki_df = extract_data(DATA_PATH)\n",
    "process_dataframe(wiki_df)"
   ]
  },
  {
   "cell_type": "code",
   "execution_count": 5,
   "id": "5dc5cc37-c25a-474b-b96a-04dd6787dc8d",
   "metadata": {
    "tags": []
   },
   "outputs": [
    {
     "data": {
      "text/html": [
       "<div>\n",
       "<style scoped>\n",
       "    .dataframe tbody tr th:only-of-type {\n",
       "        vertical-align: middle;\n",
       "    }\n",
       "\n",
       "    .dataframe tbody tr th {\n",
       "        vertical-align: top;\n",
       "    }\n",
       "\n",
       "    .dataframe thead th {\n",
       "        text-align: right;\n",
       "    }\n",
       "</style>\n",
       "<table border=\"1\" class=\"dataframe\">\n",
       "  <thead>\n",
       "    <tr style=\"text-align: right;\">\n",
       "      <th></th>\n",
       "      <th>SRC</th>\n",
       "      <th>TGT</th>\n",
       "      <th>VOT</th>\n",
       "      <th>RES</th>\n",
       "      <th>YEA</th>\n",
       "      <th>DAT</th>\n",
       "      <th>TXT</th>\n",
       "      <th>ELECTION_ID</th>\n",
       "    </tr>\n",
       "  </thead>\n",
       "  <tbody>\n",
       "    <tr>\n",
       "      <th>0</th>\n",
       "      <td>Steel1943</td>\n",
       "      <td>BDD</td>\n",
       "      <td>1</td>\n",
       "      <td>1</td>\n",
       "      <td>2013</td>\n",
       "      <td>2013-04-19 23:13:00</td>\n",
       "      <td>'''Support''' as co-nom.</td>\n",
       "      <td>1</td>\n",
       "    </tr>\n",
       "    <tr>\n",
       "      <th>1</th>\n",
       "      <td>Cuchullain</td>\n",
       "      <td>BDD</td>\n",
       "      <td>1</td>\n",
       "      <td>1</td>\n",
       "      <td>2013</td>\n",
       "      <td>2013-04-20 01:04:00</td>\n",
       "      <td>'''Support''' as nominator.--</td>\n",
       "      <td>1</td>\n",
       "    </tr>\n",
       "    <tr>\n",
       "      <th>2</th>\n",
       "      <td>INeverCry</td>\n",
       "      <td>BDD</td>\n",
       "      <td>1</td>\n",
       "      <td>1</td>\n",
       "      <td>2013</td>\n",
       "      <td>2013-04-19 23:43:00</td>\n",
       "      <td>'''Support''' per noms.</td>\n",
       "      <td>1</td>\n",
       "    </tr>\n",
       "    <tr>\n",
       "      <th>3</th>\n",
       "      <td>Cncmaster</td>\n",
       "      <td>BDD</td>\n",
       "      <td>1</td>\n",
       "      <td>1</td>\n",
       "      <td>2013</td>\n",
       "      <td>2013-04-20 00:11:00</td>\n",
       "      <td>'''Support''' per noms. BDD is a strong contri...</td>\n",
       "      <td>1</td>\n",
       "    </tr>\n",
       "    <tr>\n",
       "      <th>4</th>\n",
       "      <td>Miniapolis</td>\n",
       "      <td>BDD</td>\n",
       "      <td>1</td>\n",
       "      <td>1</td>\n",
       "      <td>2013</td>\n",
       "      <td>2013-04-20 00:56:00</td>\n",
       "      <td>'''Support''', with great pleasure. I work wit...</td>\n",
       "      <td>1</td>\n",
       "    </tr>\n",
       "    <tr>\n",
       "      <th>5</th>\n",
       "      <td>Sven Manguard</td>\n",
       "      <td>BDD</td>\n",
       "      <td>1</td>\n",
       "      <td>1</td>\n",
       "      <td>2013</td>\n",
       "      <td>2013-04-20 01:53:00</td>\n",
       "      <td>'''Support''' There are plenty of important ro...</td>\n",
       "      <td>1</td>\n",
       "    </tr>\n",
       "    <tr>\n",
       "      <th>6</th>\n",
       "      <td>Ramaksoud2000</td>\n",
       "      <td>BDD</td>\n",
       "      <td>1</td>\n",
       "      <td>1</td>\n",
       "      <td>2013</td>\n",
       "      <td>2013-04-20 02:00:00</td>\n",
       "      <td>'''Support''' per noms. I don't see a reason n...</td>\n",
       "      <td>1</td>\n",
       "    </tr>\n",
       "    <tr>\n",
       "      <th>7</th>\n",
       "      <td>RockMagnetist</td>\n",
       "      <td>BDD</td>\n",
       "      <td>1</td>\n",
       "      <td>1</td>\n",
       "      <td>2013</td>\n",
       "      <td>2013-04-20 02:18:00</td>\n",
       "      <td>'''Support'''  BDD already wields a broom pret...</td>\n",
       "      <td>1</td>\n",
       "    </tr>\n",
       "    <tr>\n",
       "      <th>8</th>\n",
       "      <td>Carrite</td>\n",
       "      <td>BDD</td>\n",
       "      <td>1</td>\n",
       "      <td>1</td>\n",
       "      <td>2013</td>\n",
       "      <td>2013-04-20 02:22:00</td>\n",
       "      <td>'''Support''' barring a completely unexpected ...</td>\n",
       "      <td>1</td>\n",
       "    </tr>\n",
       "    <tr>\n",
       "      <th>9</th>\n",
       "      <td>Someguy1221</td>\n",
       "      <td>BDD</td>\n",
       "      <td>1</td>\n",
       "      <td>1</td>\n",
       "      <td>2013</td>\n",
       "      <td>2013-04-20 03:09:00</td>\n",
       "      <td>'''Support''' because I see no good reason not...</td>\n",
       "      <td>1</td>\n",
       "    </tr>\n",
       "  </tbody>\n",
       "</table>\n",
       "</div>"
      ],
      "text/plain": [
       "             SRC  TGT  VOT  RES   YEA                 DAT  \\\n",
       "0      Steel1943  BDD    1    1  2013 2013-04-19 23:13:00   \n",
       "1     Cuchullain  BDD    1    1  2013 2013-04-20 01:04:00   \n",
       "2      INeverCry  BDD    1    1  2013 2013-04-19 23:43:00   \n",
       "3      Cncmaster  BDD    1    1  2013 2013-04-20 00:11:00   \n",
       "4     Miniapolis  BDD    1    1  2013 2013-04-20 00:56:00   \n",
       "5  Sven Manguard  BDD    1    1  2013 2013-04-20 01:53:00   \n",
       "6  Ramaksoud2000  BDD    1    1  2013 2013-04-20 02:00:00   \n",
       "7  RockMagnetist  BDD    1    1  2013 2013-04-20 02:18:00   \n",
       "8        Carrite  BDD    1    1  2013 2013-04-20 02:22:00   \n",
       "9    Someguy1221  BDD    1    1  2013 2013-04-20 03:09:00   \n",
       "\n",
       "                                                 TXT  ELECTION_ID  \n",
       "0                           '''Support''' as co-nom.            1  \n",
       "1                      '''Support''' as nominator.--            1  \n",
       "2                            '''Support''' per noms.            1  \n",
       "3  '''Support''' per noms. BDD is a strong contri...            1  \n",
       "4  '''Support''', with great pleasure. I work wit...            1  \n",
       "5  '''Support''' There are plenty of important ro...            1  \n",
       "6  '''Support''' per noms. I don't see a reason n...            1  \n",
       "7  '''Support'''  BDD already wields a broom pret...            1  \n",
       "8  '''Support''' barring a completely unexpected ...            1  \n",
       "9  '''Support''' because I see no good reason not...            1  "
      ]
     },
     "execution_count": 5,
     "metadata": {},
     "output_type": "execute_result"
    }
   ],
   "source": [
    "wiki_df.head(10)"
   ]
  },
  {
   "cell_type": "markdown",
   "id": "86ece8f5-da89-4a11-8d6e-c58fcda257c3",
   "metadata": {
    "tags": []
   },
   "source": [
    "### Text preprocessing"
   ]
  },
  {
   "cell_type": "code",
   "execution_count": 6,
   "id": "b2710da2-d18e-448c-a2cd-d108eb646bd8",
   "metadata": {
    "tags": []
   },
   "outputs": [],
   "source": [
    "wiki_copy = wiki_df.copy()"
   ]
  },
  {
   "cell_type": "code",
   "execution_count": 7,
   "id": "3dac1460-28f5-413f-a4fb-a4370b425afe",
   "metadata": {
    "tags": []
   },
   "outputs": [
    {
     "data": {
      "text/plain": [
       "7190"
      ]
     },
     "execution_count": 7,
     "metadata": {},
     "output_type": "execute_result"
    }
   ],
   "source": [
    "len(wiki_copy[wiki_copy['TXT'] == '']['TXT'])"
   ]
  },
  {
   "cell_type": "markdown",
   "id": "eafcf3d5-705b-4319-8825-dca3d69dc4e8",
   "metadata": {},
   "source": [
    "* We notice that we have 7190 missing values among comments. \n",
    "\n",
    "We don't do the replacement at this stage of empty comments by NaN, because we intend to maintain them as strings for the following steps. "
   ]
  },
  {
   "cell_type": "markdown",
   "id": "516cc3ca-bb73-4ef3-8e53-1e816ba8c7c4",
   "metadata": {},
   "source": [
    "#### Removing the Wiki Markup from the comments"
   ]
  },
  {
   "cell_type": "code",
   "execution_count": 8,
   "id": "91225b56-7cfd-46b8-9f81-2352ad2dae0a",
   "metadata": {
    "tags": []
   },
   "outputs": [],
   "source": [
    "# Make sure that TXT is string\n",
    "wiki_copy['TXT'] = wiki_copy['TXT'].astype(str)"
   ]
  },
  {
   "cell_type": "markdown",
   "id": "cb0f4e9d-2101-4b98-9d78-f80a93fae8fd",
   "metadata": {},
   "source": [
    "* We will try to use a python library called \"wikitextparser\" to easily remove the wiki markup. "
   ]
  },
  {
   "cell_type": "code",
   "execution_count": 9,
   "id": "77c921bd-00ea-4986-9d17-52bd242e1b2a",
   "metadata": {
    "tags": []
   },
   "outputs": [],
   "source": [
    "from wikitextparser import remove_markup"
   ]
  },
  {
   "cell_type": "code",
   "execution_count": 10,
   "id": "211dfd97-83e1-4439-a381-7c154a0cb8dc",
   "metadata": {
    "tags": []
   },
   "outputs": [
    {
     "data": {
      "text/plain": [
       "\"Congratulatory '''Support''' - Excellent [[Wikipedia:WikiProject Military history|WikiProject:Military history]] experience with this user. Can be trusted with new responsibility.\""
      ]
     },
     "execution_count": 10,
     "metadata": {},
     "output_type": "execute_result"
    }
   ],
   "source": [
    "# comment example from the dataset \n",
    "example = wiki_copy.iloc[66609]['TXT']\n",
    "example"
   ]
  },
  {
   "cell_type": "code",
   "execution_count": 11,
   "id": "d3e4faaa-fd60-4b5a-a82a-4d6b434fec0d",
   "metadata": {
    "tags": []
   },
   "outputs": [
    {
     "data": {
      "text/plain": [
       "'Congratulatory Support - Excellent WikiProject:Military history experience with this user. Can be trusted with new responsibility.'"
      ]
     },
     "execution_count": 11,
     "metadata": {},
     "output_type": "execute_result"
    }
   ],
   "source": [
    "remove_markup(example)"
   ]
  },
  {
   "cell_type": "markdown",
   "id": "5147a6bb-250a-4d06-bb72-e88dbbdc500f",
   "metadata": {},
   "source": [
    "* The library didn't handle the link removal as expected. Therefore, we will implement a classic function using regular expressions to remove the wiki markup, relying on the Wikitext structure on the website [Wikitext](https://en.wikipedia.org/wiki/Help:Wikitext)."
   ]
  },
  {
   "cell_type": "code",
   "execution_count": 12,
   "id": "3e7d916d-40c8-4196-b59e-bf3cacd52270",
   "metadata": {
    "tags": []
   },
   "outputs": [
    {
     "data": {
      "text/plain": [
       "'Congratulatory Support - Excellent  experience with this user. Can be trusted with new responsibility.'"
      ]
     },
     "execution_count": 12,
     "metadata": {},
     "output_type": "execute_result"
    }
   ],
   "source": [
    "importlib.reload(modules.data_processing)\n",
    "remove_wiki_markup(example)"
   ]
  },
  {
   "cell_type": "markdown",
   "id": "3f1523a2-9f88-4500-a9fe-84a00d976c9a",
   "metadata": {},
   "source": [
    "* The results is indeed what we want. Let's test on a random sample of comments."
   ]
  },
  {
   "cell_type": "code",
   "execution_count": 13,
   "id": "62e6b93c-8cc2-4337-b330-c07c61b60e16",
   "metadata": {
    "tags": []
   },
   "outputs": [
    {
     "name": "stdout",
     "output_type": "stream",
     "text": [
      "0  :  '''Support'''. If everyone on AfD were like this, I don't think we'd be complaining that it was broken.\n",
      "\n",
      "1  :  From oppose.\n",
      "\n",
      "2  :  '''Support''' – He seems to have a good balance between maintenance tasks and article editing.\n",
      "\n",
      "3  :  '''Oppose''' - Not enough mainspace work. Most of the work has been on community related pages. A very rough estimate of article space edits that aren't twinkle or huggle (Article edits - (Huggle + Twinkle) / 2 (one for main one for talk)) leaves less than one thousand main article edits, which could be fine, but it doesn't count the numerous whitespace edits I see in the history. Compare that to over 1,000 user page edits. ''I have no problem with those kinds of edits'' and those are good things, but I think they need to be discounted appropriately and I don't see a lot of broad based article work. I could support in the future, but not yet.\n",
      "\n",
      "4  :  '''Strong support''' per nom, answers to all questions thus far, and apparently pleasant, down-to-earth personality. (Extra weight on the personality factors, as per my eventual support for [http://en.wikipedia.org/wiki/Wikipedia:Requests_for_adminship/Morhange another candidate].)\n",
      "\n",
      "5  :  '''Support''' absolutely. Legoktm is an extremely clueful and helpful editor, and exactly the sort of person who should be an administrator. Regarding the oppose section, I do think that \"AFD accuracy\" is a terrible reason to oppose. We require that administrators understand policy and know how to judge a consensus. But there is no requirement that every administrator agree with consensus. In fact, I think Wikipedia would be far worse if \"agreeing with the majority on most issues\" was a prerequisite for getting the bit. I'm confident that Lego will acknowledge consensus when it appears, and that's all that matters.\n",
      "\n",
      "6  :  '''\n",
      "\n",
      "7  :  '''Support''' Appears to \"speak\" several lanaguges, a bonus point! :-)\n",
      "\n",
      "8  :  '''Support''' - awesomely honest and comprehensive answers to questions, a lot of experience, civil conduct. I see no reason to oppose here. <b>\n",
      "\n",
      "9  :  As long as that diff never, ever happens again.\n",
      "\n"
     ]
    }
   ],
   "source": [
    "txts = wiki_copy['TXT'].sample(10).copy()\n",
    "for i, comment in enumerate(txts): \n",
    "    print(i, ' : ' , comment)\n",
    "    print() "
   ]
  },
  {
   "cell_type": "code",
   "execution_count": 14,
   "id": "fc4ed3d5-445a-4009-9c28-7dd0acb3726f",
   "metadata": {
    "tags": []
   },
   "outputs": [
    {
     "name": "stdout",
     "output_type": "stream",
     "text": [
      "0  :  Support. If everyone on AfD were like this, I don't think we'd be complaining that it was broken.\n",
      "\n",
      "1  :  From oppose.\n",
      "\n",
      "2  :  Support – He seems to have a good balance between maintenance tasks and article editing.\n",
      "\n",
      "3  :  Oppose - Not enough mainspace work. Most of the work has been on community related pages. A very rough estimate of article space edits that aren't twinkle or huggle (Article edits - (Huggle + Twinkle) / 2 (one for main one for talk)) leaves less than one thousand main article edits, which could be fine, but it doesn't count the numerous whitespace edits I see in the history. Compare that to over 1,000 user page edits. I have no problem with those kinds of edits and those are good things, but I think they need to be discounted appropriately and I don't see a lot of broad based article work. I could support in the future, but not yet.\n",
      "\n",
      "4  :  Strong support per nom, answers to all questions thus far, and apparently pleasant, down-to-earth personality. (Extra weight on the personality factors, as per my eventual support for .)\n",
      "\n",
      "5  :  Support absolutely. Legoktm is an extremely clueful and helpful editor, and exactly the sort of person who should be an administrator. Regarding the oppose section, I do think that \"AFD accuracy\" is a terrible reason to oppose. We require that administrators understand policy and know how to judge a consensus. But there is no requirement that every administrator agree with consensus. In fact, I think Wikipedia would be far worse if \"agreeing with the majority on most issues\" was a prerequisite for getting the bit. I'm confident that Lego will acknowledge consensus when it appears, and that's all that matters.\n",
      "\n",
      "6  :   \n",
      "\n",
      "7  :  Support Appears to \"speak\" several lanaguges, a bonus point! :-)\n",
      "\n",
      "8  :  Support - awesomely honest and comprehensive answers to questions, a lot of experience, civil conduct. I see no reason to oppose here. \n",
      "\n",
      "9  :  As long as that diff never, ever happens again.\n",
      "\n"
     ]
    }
   ],
   "source": [
    "for i, comment in enumerate(txts): \n",
    "    print(i, ' : ' , remove_wiki_markup(comment))\n",
    "    print() "
   ]
  },
  {
   "cell_type": "markdown",
   "id": "9e59ec81-002c-4aa6-ad87-bd4c0e36bc07",
   "metadata": {},
   "source": [
    "* It seems that it works well on the comments of our dataset. We create then a column for cleaned comments."
   ]
  },
  {
   "cell_type": "code",
   "execution_count": 15,
   "id": "7f2626dc-d2a7-4fc8-aff9-be7947bb0cdb",
   "metadata": {
    "tags": []
   },
   "outputs": [
    {
     "data": {
      "text/html": [
       "<div>\n",
       "<style scoped>\n",
       "    .dataframe tbody tr th:only-of-type {\n",
       "        vertical-align: middle;\n",
       "    }\n",
       "\n",
       "    .dataframe tbody tr th {\n",
       "        vertical-align: top;\n",
       "    }\n",
       "\n",
       "    .dataframe thead th {\n",
       "        text-align: right;\n",
       "    }\n",
       "</style>\n",
       "<table border=\"1\" class=\"dataframe\">\n",
       "  <thead>\n",
       "    <tr style=\"text-align: right;\">\n",
       "      <th></th>\n",
       "      <th>SRC</th>\n",
       "      <th>TGT</th>\n",
       "      <th>VOT</th>\n",
       "      <th>RES</th>\n",
       "      <th>YEA</th>\n",
       "      <th>DAT</th>\n",
       "      <th>TXT</th>\n",
       "      <th>ELECTION_ID</th>\n",
       "      <th>CLE</th>\n",
       "    </tr>\n",
       "  </thead>\n",
       "  <tbody>\n",
       "    <tr>\n",
       "      <th>0</th>\n",
       "      <td>Steel1943</td>\n",
       "      <td>BDD</td>\n",
       "      <td>1</td>\n",
       "      <td>1</td>\n",
       "      <td>2013</td>\n",
       "      <td>2013-04-19 23:13:00</td>\n",
       "      <td>'''Support''' as co-nom.</td>\n",
       "      <td>1</td>\n",
       "      <td>Support as co-nom.</td>\n",
       "    </tr>\n",
       "    <tr>\n",
       "      <th>1</th>\n",
       "      <td>Cuchullain</td>\n",
       "      <td>BDD</td>\n",
       "      <td>1</td>\n",
       "      <td>1</td>\n",
       "      <td>2013</td>\n",
       "      <td>2013-04-20 01:04:00</td>\n",
       "      <td>'''Support''' as nominator.--</td>\n",
       "      <td>1</td>\n",
       "      <td>Support as nominator.</td>\n",
       "    </tr>\n",
       "    <tr>\n",
       "      <th>2</th>\n",
       "      <td>INeverCry</td>\n",
       "      <td>BDD</td>\n",
       "      <td>1</td>\n",
       "      <td>1</td>\n",
       "      <td>2013</td>\n",
       "      <td>2013-04-19 23:43:00</td>\n",
       "      <td>'''Support''' per noms.</td>\n",
       "      <td>1</td>\n",
       "      <td>Support per noms.</td>\n",
       "    </tr>\n",
       "    <tr>\n",
       "      <th>3</th>\n",
       "      <td>Cncmaster</td>\n",
       "      <td>BDD</td>\n",
       "      <td>1</td>\n",
       "      <td>1</td>\n",
       "      <td>2013</td>\n",
       "      <td>2013-04-20 00:11:00</td>\n",
       "      <td>'''Support''' per noms. BDD is a strong contri...</td>\n",
       "      <td>1</td>\n",
       "      <td>Support per noms. BDD is a strong contributor ...</td>\n",
       "    </tr>\n",
       "    <tr>\n",
       "      <th>4</th>\n",
       "      <td>Miniapolis</td>\n",
       "      <td>BDD</td>\n",
       "      <td>1</td>\n",
       "      <td>1</td>\n",
       "      <td>2013</td>\n",
       "      <td>2013-04-20 00:56:00</td>\n",
       "      <td>'''Support''', with great pleasure. I work wit...</td>\n",
       "      <td>1</td>\n",
       "      <td>Support, with great pleasure. I work with BDD ...</td>\n",
       "    </tr>\n",
       "  </tbody>\n",
       "</table>\n",
       "</div>"
      ],
      "text/plain": [
       "          SRC  TGT  VOT  RES   YEA                 DAT  \\\n",
       "0   Steel1943  BDD    1    1  2013 2013-04-19 23:13:00   \n",
       "1  Cuchullain  BDD    1    1  2013 2013-04-20 01:04:00   \n",
       "2   INeverCry  BDD    1    1  2013 2013-04-19 23:43:00   \n",
       "3   Cncmaster  BDD    1    1  2013 2013-04-20 00:11:00   \n",
       "4  Miniapolis  BDD    1    1  2013 2013-04-20 00:56:00   \n",
       "\n",
       "                                                 TXT  ELECTION_ID  \\\n",
       "0                           '''Support''' as co-nom.            1   \n",
       "1                      '''Support''' as nominator.--            1   \n",
       "2                            '''Support''' per noms.            1   \n",
       "3  '''Support''' per noms. BDD is a strong contri...            1   \n",
       "4  '''Support''', with great pleasure. I work wit...            1   \n",
       "\n",
       "                                                 CLE  \n",
       "0                                 Support as co-nom.  \n",
       "1                             Support as nominator.   \n",
       "2                                  Support per noms.  \n",
       "3  Support per noms. BDD is a strong contributor ...  \n",
       "4  Support, with great pleasure. I work with BDD ...  "
      ]
     },
     "execution_count": 15,
     "metadata": {},
     "output_type": "execute_result"
    }
   ],
   "source": [
    "wiki_copy['CLE'] = wiki_copy['TXT'].apply(remove_wiki_markup)\n",
    "wiki_copy.head()"
   ]
  },
  {
   "cell_type": "code",
   "execution_count": 16,
   "id": "86e5838e-9e53-4e6c-bf7a-194bfd3c9f45",
   "metadata": {
    "tags": []
   },
   "outputs": [
    {
     "data": {
      "text/plain": [
       "array([' ', '—', '-', '+', '→', \"'\", '.', '}', '!', '–', 'S', '·', 'I',\n",
       "       '~', '«', '↔', 'C', ':', '(', '\"', '/'], dtype=object)"
      ]
     },
     "execution_count": 16,
     "metadata": {},
     "output_type": "execute_result"
    }
   ],
   "source": [
    "comments_with_one_char = wiki_copy.loc[(wiki_copy['CLE'].apply(len) == 1)]['CLE'].unique() # one char in the comments\n",
    "comments_with_one_char"
   ]
  },
  {
   "cell_type": "code",
   "execution_count": 17,
   "id": "fc14f561-0a27-4bb3-86d1-2b3260b26c25",
   "metadata": {
    "tags": []
   },
   "outputs": [
    {
     "data": {
      "text/plain": [
       "array(['  ', '- ', ' /', '— ', '+ ', '←.', ' [', '. ', \"''\", ' (', '⇦⇨',\n",
       "       ' —', 'OK', '}—', ' -', \"':\", '我是', '++', 'CO', '~ ', ' ~', ' C',\n",
       "       'Q8', ' ☺', 'No', ' 〈', 'Da', 'S.', '! ', ':)'], dtype=object)"
      ]
     },
     "execution_count": 17,
     "metadata": {},
     "output_type": "execute_result"
    }
   ],
   "source": [
    "comments_with_two_char = wiki_copy.loc[(wiki_copy['CLE'].apply(len) == 2)]['CLE'].unique() # two char in the comments\n",
    "comments_with_two_char"
   ]
  },
  {
   "cell_type": "markdown",
   "id": "85a9ae0f-bb5a-446d-9e0a-861541e8da36",
   "metadata": {},
   "source": [
    "* We will delete those comments containing one or two characters that are meaningless for our study."
   ]
  },
  {
   "cell_type": "code",
   "execution_count": 18,
   "id": "c4e31a30-e07f-44f1-b555-d7c02ae18cb1",
   "metadata": {
    "tags": []
   },
   "outputs": [
    {
     "data": {
      "text/plain": [
       "array(['', 'OK', 'No'], dtype=object)"
      ]
     },
     "execution_count": 18,
     "metadata": {},
     "output_type": "execute_result"
    }
   ],
   "source": [
    "wiki_copy['CLE'] = wiki_copy['CLE'].apply(lambda x: '' if len(x) < 3 and x not in ['OK', 'No']  else x)\n",
    "wiki_copy.loc[(wiki_copy['CLE'].apply(len) < 3)]['CLE'].unique()"
   ]
  },
  {
   "cell_type": "code",
   "execution_count": 19,
   "id": "d713c43e-7a47-412f-8dfb-a058a4152568",
   "metadata": {
    "tags": []
   },
   "outputs": [
    {
     "data": {
      "text/plain": [
       "array(['←  ', '!!!', '   ', ' - ', 'Ja.', 'OK.', \"I'm\", 'Yes', '.  ',\n",
       "       \" ''\", '+1–', '賛成 ', ' ••', '} —', '他是好', 'wow', '  ~', \"'' \",\n",
       "       ' ~~', 'No ', '^.^', 'S+1', \"''÷\", 'yup', ' – ', '➲  ', 'Yay',\n",
       "       '  |', 'Q3.', '  (', 'yes', '-  ', 'Yup', '➔  ', 'Aye', '➨  ',\n",
       "       'Q1.', '9 (', '...', 'No.', 'Yep', ' — ', '— (', '— [', '. —',\n",
       "       \"—''\", ' :)', ' (/', ' (|', 'yep', '}} ', 'Baa', 'Moo', 'Ok.',\n",
       "       '!  ', \"— '\", '. -', ':) ', 's  ', \". '\", ' ;)', 'Yo.', ' ()',\n",
       "       ' (\"', ':-)', 'NO.'], dtype=object)"
      ]
     },
     "execution_count": 19,
     "metadata": {},
     "output_type": "execute_result"
    }
   ],
   "source": [
    "wiki_copy.loc[(wiki_copy['CLE'].apply(len) == 3)]['CLE'].unique()"
   ]
  },
  {
   "cell_type": "code",
   "execution_count": 20,
   "id": "02e45f31-10b3-4ac3-bde0-9729e34679bf",
   "metadata": {
    "tags": []
   },
   "outputs": [
    {
     "data": {
      "text/plain": [
       "array(['. - ', 'Yay.', 'Q2 -', 'Sure', 'Yup.', 'Wow.', '.   ', \" - '\",\n",
       "       'Yes.', \" I'm\", 'Duh.', 'Oui ', 'I  /', 'Yeps', '  — ', 'Yes!',\n",
       "       'Yep.', '. ? ', 'Oui.', 'jo  ', '+1  ', 'Yes ', 'Yep!', ' .  ',\n",
       "       'See ', '. ~~', 'NEWT', '  (|', '. – ', ' . —', 'AGF ', 'FGJ–',\n",
       "       'yup.', 'Yep ', '➨ ❝❞', 'Duh!', '-   ', '   ·', 'DUH!', 'Aye.',\n",
       "       'Meh.', \". ''\", \"! ''\", 'Nom.', '  . ', ' ...', '. — ', \"Q5 '\",\n",
       "       'okay', 'Aww.', 'Yup ', 'I am', 'Yea.', ',   ', 'Pig.', '  (/',\n",
       "       'Yo. ', 'Mop.', 'Wow!', '100%', 'Yes,', \"I'm \", 'No. ', 'Bleh',\n",
       "       '   (', 'Да! ', 'Yay!', '.  |', ' ( -', '«»(|', ', . ', 'TAK!',\n",
       "       '<3  ', 'yes!', 'Moo.', 'Cool', 'Hai ', 'Pro.', 'Sup ', 'YES!',\n",
       "       'Ja! ', ' ort', 'yep.', 'Who?', 'Yup,', 'No  ', 'Heh.'],\n",
       "      dtype=object)"
      ]
     },
     "execution_count": 20,
     "metadata": {},
     "output_type": "execute_result"
    }
   ],
   "source": [
    "wiki_copy.loc[(wiki_copy['CLE'].apply(len) == 4)]['CLE'].unique()"
   ]
  },
  {
   "cell_type": "code",
   "execution_count": 21,
   "id": "0ca13e20-5bc3-4298-82db-1f33bcd491ad",
   "metadata": {
    "tags": []
   },
   "outputs": [
    {
     "data": {
      "text/plain": [
       "array(['100%.', 'Yo.  ', 'Yes! ', 'Q2. -', 'Aye.—', 'Sure.', 'nods ',\n",
       "       'Meh -', 'Yerp.', 'Uhhhh', 'Per .', 'Sold.', 'Duh →', 'Sure ',\n",
       "       'sure ', 'Yes  ', 'Solid', \"Yep '\", 'AGF  ', '.    ', 'Okay.',\n",
       "       'Fine.', '    ·', 'Yup. ', 'Yes. ', 'Yup  ', 'No.  ', 'Yes —',\n",
       "       'Damn,', 'Nom  ', 'Desu.', 'Yep. ', '.   (', 'Aye. ', 'Ok. —',\n",
       "       '+S . ', '+S  (', ' () (', 'Aye  ', 'OK.  ', 'ok. —', '+1.  ',\n",
       "       'Yup! ', 'Duh. ', 'PRO -', 'YES  ', '...  ', 'yes. ', 'Moo  ',\n",
       "       'AGF. ', 'Oops.', 'Hut+!', 'See .', 'Yep  ', 'Yeap ', 'GL. –',\n",
       "       ' ..  ', ' ⁿɡ͡b', 'Cool.', 'Fish.', \"Sure'\", 'Yes..', 'Yup..',\n",
       "       'Oui!.', \". —''\", 'Sure!', 'YEs. ', 'Yay. ', \".  ''\", 'Duh .',\n",
       "       'Gasp!', 'Mooo.', 'Agree', 'Yeah.', 'Sì.  ', 'TINC.', 'Frog.',\n",
       "       'w00t.', 'SNFA.', 'Aye =', 'Duh  ', 'Okay!', 'Duh -', 'What?',\n",
       "       'AOL!>', 'No ()', 'Ok.  ', 'Sí.  ', 'Mhmm.', 'Da.  ', '-\"-  ',\n",
       "       'No. -'], dtype=object)"
      ]
     },
     "execution_count": 21,
     "metadata": {},
     "output_type": "execute_result"
    }
   ],
   "source": [
    "wiki_copy.loc[(wiki_copy['CLE'].apply(len) == 5)]['CLE'].unique()"
   ]
  },
  {
   "cell_type": "markdown",
   "id": "c3809aed-dcb0-4f44-880c-fecef4694f3d",
   "metadata": {
    "tags": []
   },
   "source": [
    "When examining comments with a length greater than 2, we find various words and special characters that we cannot eliminate at this point. \n",
    "Due to the extensive number of words and special characters, exhaustive treatment of these comments (by studying the different combinaisons) becomes challenging. "
   ]
  },
  {
   "cell_type": "markdown",
   "id": "38a8f23f-93fb-4da7-b77c-ef2b7418902f",
   "metadata": {},
   "source": [
    "* Let's see then what are the words by which comments start."
   ]
  },
  {
   "cell_type": "code",
   "execution_count": 22,
   "id": "b748646c-3b69-4aad-9935-8c47d64e2eed",
   "metadata": {
    "tags": []
   },
   "outputs": [
    {
     "name": "stdout",
     "output_type": "stream",
     "text": [
      "Support , Occurrence : 68955\n",
      "Support, , Occurrence : 7585\n",
      "Yea, , Occurrence : 6\n",
      "Support. , Occurrence : 23921\n",
      "If , Occurrence : 108\n",
      "Weak , Occurrence : 3370\n",
      "Support: , Occurrence : 1661\n",
      ". , Occurrence : 165\n",
      "Support...opposes , Occurrence : 1\n",
      "Oppose. , Occurrence : 5538\n",
      "Although , Occurrence : 68\n",
      "Oppose , Occurrence : 21033\n",
      "Fruitless , Occurrence : 3\n",
      "Neutral , Occurrence : 5864\n",
      "Yes , Occurrence : 153\n",
      "Strong , Occurrence : 8394\n"
     ]
    }
   ],
   "source": [
    "from collections import defaultdict\n",
    "cleaned_comments = wiki_copy['CLE']\n",
    "\n",
    "first_word_counts = defaultdict(int)\n",
    "for comment in cleaned_comments: \n",
    "    if isinstance(comment, str) and comment.strip(): \n",
    "        first_word = comment.split()[0]\n",
    "        first_word_counts[first_word] += 1\n",
    "i = 0       \n",
    "for word, count in first_word_counts.items(): \n",
    "    print(word, ', Occurrence :', count)\n",
    "    if i == 15: \n",
    "        break\n",
    "    i += 1"
   ]
  },
  {
   "cell_type": "code",
   "execution_count": 23,
   "id": "887b965a-0560-4732-8588-ffe83a8f5987",
   "metadata": {
    "tags": []
   },
   "outputs": [
    {
     "data": {
      "text/plain": [
       "9387"
      ]
     },
     "execution_count": 23,
     "metadata": {},
     "output_type": "execute_result"
    }
   ],
   "source": [
    "# Some comments have become empty\n",
    "# After the wiki markup removal\n",
    "len(wiki_copy[wiki_copy['CLE'] == '']['CLE'])"
   ]
  },
  {
   "cell_type": "markdown",
   "id": "6f9de977-1189-4896-b46d-9406668d738d",
   "metadata": {},
   "source": [
    "* In the cleaned comments, we have now 9387 missing values compared to the initial count of 7190. "
   ]
  },
  {
   "cell_type": "markdown",
   "id": "84b3dac8-7186-468e-8c30-fd77d828c208",
   "metadata": {},
   "source": [
    "Let's take a look at the additional empty comments resulting from our processing."
   ]
  },
  {
   "cell_type": "code",
   "execution_count": 24,
   "id": "43b0aeb7-f6fd-4a34-aa99-7af0419a1c3e",
   "metadata": {
    "tags": []
   },
   "outputs": [
    {
     "data": {
      "text/html": [
       "<div>\n",
       "<style scoped>\n",
       "    .dataframe tbody tr th:only-of-type {\n",
       "        vertical-align: middle;\n",
       "    }\n",
       "\n",
       "    .dataframe tbody tr th {\n",
       "        vertical-align: top;\n",
       "    }\n",
       "\n",
       "    .dataframe thead th {\n",
       "        text-align: right;\n",
       "    }\n",
       "</style>\n",
       "<table border=\"1\" class=\"dataframe\">\n",
       "  <thead>\n",
       "    <tr style=\"text-align: right;\">\n",
       "      <th></th>\n",
       "      <th>SRC</th>\n",
       "      <th>TGT</th>\n",
       "      <th>VOT</th>\n",
       "      <th>RES</th>\n",
       "      <th>YEA</th>\n",
       "      <th>DAT</th>\n",
       "      <th>TXT</th>\n",
       "      <th>ELECTION_ID</th>\n",
       "      <th>CLE</th>\n",
       "    </tr>\n",
       "  </thead>\n",
       "  <tbody>\n",
       "    <tr>\n",
       "      <th>156</th>\n",
       "      <td>Rzuwig</td>\n",
       "      <td>Bilby</td>\n",
       "      <td>1</td>\n",
       "      <td>1</td>\n",
       "      <td>2013</td>\n",
       "      <td>2013-05-25 07:11:00</td>\n",
       "      <td>{{pro}} --</td>\n",
       "      <td>2</td>\n",
       "      <td></td>\n",
       "    </tr>\n",
       "    <tr>\n",
       "      <th>276</th>\n",
       "      <td>Mabdul</td>\n",
       "      <td>Darkwind</td>\n",
       "      <td>1</td>\n",
       "      <td>1</td>\n",
       "      <td>2013</td>\n",
       "      <td>2012-12-26 20:39:00</td>\n",
       "      <td>&lt;small style=\"font: 12px Courier New; color: #...</td>\n",
       "      <td>3</td>\n",
       "      <td></td>\n",
       "    </tr>\n",
       "    <tr>\n",
       "      <th>300</th>\n",
       "      <td>Filelakeshoe</td>\n",
       "      <td>Darkwind</td>\n",
       "      <td>1</td>\n",
       "      <td>1</td>\n",
       "      <td>2013</td>\n",
       "      <td>2012-12-27 21:58:00</td>\n",
       "      <td>&lt;font face=\"trebuchet MS\"&gt;- [[User:Filelakesho...</td>\n",
       "      <td>3</td>\n",
       "      <td></td>\n",
       "    </tr>\n",
       "    <tr>\n",
       "      <th>427</th>\n",
       "      <td>LlamaAl</td>\n",
       "      <td>INeverCry</td>\n",
       "      <td>1</td>\n",
       "      <td>1</td>\n",
       "      <td>2013</td>\n",
       "      <td>2013-01-31 13:17:00</td>\n",
       "      <td>--</td>\n",
       "      <td>4</td>\n",
       "      <td></td>\n",
       "    </tr>\n",
       "    <tr>\n",
       "      <th>441</th>\n",
       "      <td>Jan eissfeldt</td>\n",
       "      <td>INeverCry</td>\n",
       "      <td>1</td>\n",
       "      <td>1</td>\n",
       "      <td>2013</td>\n",
       "      <td>2013-01-31 20:03:00</td>\n",
       "      <td>--</td>\n",
       "      <td>4</td>\n",
       "      <td></td>\n",
       "    </tr>\n",
       "    <tr>\n",
       "      <th>...</th>\n",
       "      <td>...</td>\n",
       "      <td>...</td>\n",
       "      <td>...</td>\n",
       "      <td>...</td>\n",
       "      <td>...</td>\n",
       "      <td>...</td>\n",
       "      <td>...</td>\n",
       "      <td>...</td>\n",
       "      <td>...</td>\n",
       "    </tr>\n",
       "    <tr>\n",
       "      <th>197931</th>\n",
       "      <td>Hcheney</td>\n",
       "      <td>Snowspinner</td>\n",
       "      <td>1</td>\n",
       "      <td>0</td>\n",
       "      <td>2004</td>\n",
       "      <td>2004-05-30 22:25:00</td>\n",
       "      <td>[[User:Hcheney/Support|Support]] --</td>\n",
       "      <td>3864</td>\n",
       "      <td></td>\n",
       "    </tr>\n",
       "    <tr>\n",
       "      <th>197938</th>\n",
       "      <td>Anthony DiPierro</td>\n",
       "      <td>Snowspinner</td>\n",
       "      <td>1</td>\n",
       "      <td>0</td>\n",
       "      <td>2004</td>\n",
       "      <td>NaT</td>\n",
       "      <td>[[User:Hcheney/Support|Support]] [[User:Anthon...</td>\n",
       "      <td>3864</td>\n",
       "      <td></td>\n",
       "    </tr>\n",
       "    <tr>\n",
       "      <th>197940</th>\n",
       "      <td>GeneralPatton</td>\n",
       "      <td>Snowspinner</td>\n",
       "      <td>1</td>\n",
       "      <td>0</td>\n",
       "      <td>2004</td>\n",
       "      <td>2004-06-02 18:13:00</td>\n",
       "      <td>--</td>\n",
       "      <td>3864</td>\n",
       "      <td></td>\n",
       "    </tr>\n",
       "    <tr>\n",
       "      <th>197944</th>\n",
       "      <td>Texture</td>\n",
       "      <td>Snowspinner</td>\n",
       "      <td>1</td>\n",
       "      <td>0</td>\n",
       "      <td>2004</td>\n",
       "      <td>2004-06-04 14:30:00</td>\n",
       "      <td>[[User:Texture|&lt;font color=red&gt;T&amp;#949;x&lt;/font&gt;...</td>\n",
       "      <td>3864</td>\n",
       "      <td></td>\n",
       "    </tr>\n",
       "    <tr>\n",
       "      <th>198002</th>\n",
       "      <td>Grunt</td>\n",
       "      <td>TakuyaMurata</td>\n",
       "      <td>1</td>\n",
       "      <td>0</td>\n",
       "      <td>2004</td>\n",
       "      <td>NaT</td>\n",
       "      <td>--</td>\n",
       "      <td>3866</td>\n",
       "      <td></td>\n",
       "    </tr>\n",
       "  </tbody>\n",
       "</table>\n",
       "<p>2197 rows × 9 columns</p>\n",
       "</div>"
      ],
      "text/plain": [
       "                     SRC           TGT  VOT  RES   YEA                 DAT  \\\n",
       "156               Rzuwig         Bilby    1    1  2013 2013-05-25 07:11:00   \n",
       "276               Mabdul      Darkwind    1    1  2013 2012-12-26 20:39:00   \n",
       "300         Filelakeshoe      Darkwind    1    1  2013 2012-12-27 21:58:00   \n",
       "427              LlamaAl     INeverCry    1    1  2013 2013-01-31 13:17:00   \n",
       "441        Jan eissfeldt     INeverCry    1    1  2013 2013-01-31 20:03:00   \n",
       "...                  ...           ...  ...  ...   ...                 ...   \n",
       "197931           Hcheney   Snowspinner    1    0  2004 2004-05-30 22:25:00   \n",
       "197938  Anthony DiPierro   Snowspinner    1    0  2004                 NaT   \n",
       "197940     GeneralPatton   Snowspinner    1    0  2004 2004-06-02 18:13:00   \n",
       "197944           Texture   Snowspinner    1    0  2004 2004-06-04 14:30:00   \n",
       "198002             Grunt  TakuyaMurata    1    0  2004                 NaT   \n",
       "\n",
       "                                                      TXT  ELECTION_ID CLE  \n",
       "156                                            {{pro}} --            2      \n",
       "276     <small style=\"font: 12px Courier New; color: #...            3      \n",
       "300     <font face=\"trebuchet MS\">- [[User:Filelakesho...            3      \n",
       "427                                                    --            4      \n",
       "441                                                    --            4      \n",
       "...                                                   ...          ...  ..  \n",
       "197931                [[User:Hcheney/Support|Support]] --         3864      \n",
       "197938  [[User:Hcheney/Support|Support]] [[User:Anthon...         3864      \n",
       "197940                                                 --         3864      \n",
       "197944  [[User:Texture|<font color=red>T&#949;x</font>...         3864      \n",
       "198002                                                 --         3866      \n",
       "\n",
       "[2197 rows x 9 columns]"
      ]
     },
     "execution_count": 24,
     "metadata": {},
     "output_type": "execute_result"
    }
   ],
   "source": [
    "wiki_copy[(wiki_copy['CLE'] == '') & (wiki_copy['TXT'] != '') ]"
   ]
  },
  {
   "cell_type": "markdown",
   "id": "61fa9fe3-5667-4aa5-9ee9-a6f998cd8df0",
   "metadata": {},
   "source": [
    "We can see that these comments initially contained only pure WikiMarkup and didn't contain any useful information for our analysis."
   ]
  },
  {
   "cell_type": "markdown",
   "id": "0bff4843-fdfc-45ce-a7ca-5ec1c95e8721",
   "metadata": {
    "tags": []
   },
   "source": [
    "# Sentiment analysis with vader "
   ]
  },
  {
   "cell_type": "markdown",
   "id": "dc60032e-b7f8-48d5-9593-4023ecabd563",
   "metadata": {},
   "source": [
    "Punctuation can provide valuable context for sentiment analysis as it can affect the emotional toned of a sentence. We will keep it then since Vader is designed to work with text including punctuation. It takes into account various linguistic and grammatical aspects to understand the sentiment expressed in a piece of text."
   ]
  },
  {
   "cell_type": "code",
   "execution_count": 25,
   "id": "cf74d317-da0b-4803-8e0c-86ac1ffd55b8",
   "metadata": {
    "tags": []
   },
   "outputs": [
    {
     "name": "stderr",
     "output_type": "stream",
     "text": [
      "[nltk_data] Downloading package vader_lexicon to\n",
      "[nltk_data]     C:\\Users\\liand\\AppData\\Roaming\\nltk_data...\n"
     ]
    },
    {
     "data": {
      "text/plain": [
       "True"
      ]
     },
     "execution_count": 25,
     "metadata": {},
     "output_type": "execute_result"
    }
   ],
   "source": [
    "nltk.download('vader_lexicon')"
   ]
  },
  {
   "cell_type": "code",
   "execution_count": 26,
   "id": "db40662a-7632-43d8-94d0-12b644648a2d",
   "metadata": {
    "tags": []
   },
   "outputs": [],
   "source": [
    "from nltk.sentiment import SentimentIntensityAnalyzer\n",
    "from tqdm.notebook import tqdm\n",
    "\n",
    "sia = SentimentIntensityAnalyzer()"
   ]
  },
  {
   "cell_type": "markdown",
   "id": "0f632184-1f6c-494f-9e32-d2163b70ae8b",
   "metadata": {},
   "source": [
    "* Let's apply it on an example comment."
   ]
  },
  {
   "cell_type": "code",
   "execution_count": 27,
   "id": "442ba80b-8f4a-4a6e-b127-188b3174ac44",
   "metadata": {
    "tags": []
   },
   "outputs": [
    {
     "name": "stdout",
     "output_type": "stream",
     "text": [
      "Support There are plenty of important roles on this project, of which content creator is only one of them. BDD has done good work over a number of years. That his primary activity is not content creation is not of concern.\n",
      "Scores =  {'neg': 0.04, 'neu': 0.769, 'pos': 0.191, 'compound': 0.7083}\n"
     ]
    }
   ],
   "source": [
    "ex = wiki_copy.iloc[5]['CLE']\n",
    "print(ex)\n",
    "print('Scores = ', sia.polarity_scores(ex),end='\\n')"
   ]
  },
  {
   "cell_type": "markdown",
   "id": "1114e708-dd5f-46c0-962b-4dbb5f56c181",
   "metadata": {},
   "source": [
    "VADER sentiment analysis provides sentiment scores for text: negative(neg), neutral(neu), positive(pos) and compound scores. \n",
    "\n",
    "The compound score takes values from -1 to 1, with values closer to -1 indicating negativity, 0 for neutrality and 1 for positivity. "
   ]
  },
  {
   "cell_type": "code",
   "execution_count": 28,
   "id": "fd883791-5ad1-4fca-8d47-61b1c297bc60",
   "metadata": {
    "tags": []
   },
   "outputs": [],
   "source": [
    "scores = {}\n",
    "for i, row in wiki_copy.iterrows(): \n",
    "    scores[i] = sia.polarity_scores(row['CLE'])"
   ]
  },
  {
   "cell_type": "code",
   "execution_count": 29,
   "id": "6d8ef268-fc7f-4a2a-aae5-955540938e6b",
   "metadata": {
    "tags": []
   },
   "outputs": [],
   "source": [
    "scores_df = pd.DataFrame(scores).T"
   ]
  },
  {
   "cell_type": "code",
   "execution_count": 30,
   "id": "25c8ac1b-cb3f-408c-a7f8-e4e2ecc835a5",
   "metadata": {
    "tags": []
   },
   "outputs": [
    {
     "data": {
      "text/html": [
       "<div>\n",
       "<style scoped>\n",
       "    .dataframe tbody tr th:only-of-type {\n",
       "        vertical-align: middle;\n",
       "    }\n",
       "\n",
       "    .dataframe tbody tr th {\n",
       "        vertical-align: top;\n",
       "    }\n",
       "\n",
       "    .dataframe thead th {\n",
       "        text-align: right;\n",
       "    }\n",
       "</style>\n",
       "<table border=\"1\" class=\"dataframe\">\n",
       "  <thead>\n",
       "    <tr style=\"text-align: right;\">\n",
       "      <th></th>\n",
       "      <th>neg</th>\n",
       "      <th>neu</th>\n",
       "      <th>pos</th>\n",
       "      <th>compound</th>\n",
       "    </tr>\n",
       "  </thead>\n",
       "  <tbody>\n",
       "    <tr>\n",
       "      <th>0</th>\n",
       "      <td>0.000</td>\n",
       "      <td>0.426</td>\n",
       "      <td>0.574</td>\n",
       "      <td>0.4019</td>\n",
       "    </tr>\n",
       "    <tr>\n",
       "      <th>1</th>\n",
       "      <td>0.000</td>\n",
       "      <td>0.426</td>\n",
       "      <td>0.574</td>\n",
       "      <td>0.4019</td>\n",
       "    </tr>\n",
       "    <tr>\n",
       "      <th>2</th>\n",
       "      <td>0.000</td>\n",
       "      <td>0.426</td>\n",
       "      <td>0.574</td>\n",
       "      <td>0.4019</td>\n",
       "    </tr>\n",
       "    <tr>\n",
       "      <th>3</th>\n",
       "      <td>0.176</td>\n",
       "      <td>0.504</td>\n",
       "      <td>0.320</td>\n",
       "      <td>0.6124</td>\n",
       "    </tr>\n",
       "    <tr>\n",
       "      <th>4</th>\n",
       "      <td>0.000</td>\n",
       "      <td>0.612</td>\n",
       "      <td>0.388</td>\n",
       "      <td>0.9349</td>\n",
       "    </tr>\n",
       "    <tr>\n",
       "      <th>5</th>\n",
       "      <td>0.040</td>\n",
       "      <td>0.769</td>\n",
       "      <td>0.191</td>\n",
       "      <td>0.7083</td>\n",
       "    </tr>\n",
       "    <tr>\n",
       "      <th>6</th>\n",
       "      <td>0.000</td>\n",
       "      <td>0.722</td>\n",
       "      <td>0.278</td>\n",
       "      <td>0.4019</td>\n",
       "    </tr>\n",
       "    <tr>\n",
       "      <th>7</th>\n",
       "      <td>0.022</td>\n",
       "      <td>0.848</td>\n",
       "      <td>0.130</td>\n",
       "      <td>0.8850</td>\n",
       "    </tr>\n",
       "    <tr>\n",
       "      <th>8</th>\n",
       "      <td>0.058</td>\n",
       "      <td>0.665</td>\n",
       "      <td>0.278</td>\n",
       "      <td>0.9801</td>\n",
       "    </tr>\n",
       "    <tr>\n",
       "      <th>9</th>\n",
       "      <td>0.172</td>\n",
       "      <td>0.391</td>\n",
       "      <td>0.437</td>\n",
       "      <td>0.5267</td>\n",
       "    </tr>\n",
       "  </tbody>\n",
       "</table>\n",
       "</div>"
      ],
      "text/plain": [
       "     neg    neu    pos  compound\n",
       "0  0.000  0.426  0.574    0.4019\n",
       "1  0.000  0.426  0.574    0.4019\n",
       "2  0.000  0.426  0.574    0.4019\n",
       "3  0.176  0.504  0.320    0.6124\n",
       "4  0.000  0.612  0.388    0.9349\n",
       "5  0.040  0.769  0.191    0.7083\n",
       "6  0.000  0.722  0.278    0.4019\n",
       "7  0.022  0.848  0.130    0.8850\n",
       "8  0.058  0.665  0.278    0.9801\n",
       "9  0.172  0.391  0.437    0.5267"
      ]
     },
     "execution_count": 30,
     "metadata": {},
     "output_type": "execute_result"
    }
   ],
   "source": [
    "scores_df.head(10)"
   ]
  },
  {
   "cell_type": "code",
   "execution_count": 31,
   "id": "5e29133e-0c42-4d3f-a4a0-9113717335ac",
   "metadata": {
    "tags": []
   },
   "outputs": [
    {
     "data": {
      "text/html": [
       "<div>\n",
       "<style scoped>\n",
       "    .dataframe tbody tr th:only-of-type {\n",
       "        vertical-align: middle;\n",
       "    }\n",
       "\n",
       "    .dataframe tbody tr th {\n",
       "        vertical-align: top;\n",
       "    }\n",
       "\n",
       "    .dataframe thead th {\n",
       "        text-align: right;\n",
       "    }\n",
       "</style>\n",
       "<table border=\"1\" class=\"dataframe\">\n",
       "  <thead>\n",
       "    <tr style=\"text-align: right;\">\n",
       "      <th></th>\n",
       "      <th>SRC</th>\n",
       "      <th>TGT</th>\n",
       "      <th>VOT</th>\n",
       "      <th>RES</th>\n",
       "      <th>YEA</th>\n",
       "      <th>DAT</th>\n",
       "      <th>TXT</th>\n",
       "      <th>ELECTION_ID</th>\n",
       "      <th>CLE</th>\n",
       "      <th>neg</th>\n",
       "      <th>neu</th>\n",
       "      <th>pos</th>\n",
       "      <th>compound</th>\n",
       "    </tr>\n",
       "  </thead>\n",
       "  <tbody>\n",
       "    <tr>\n",
       "      <th>135863</th>\n",
       "      <td>FireFox</td>\n",
       "      <td>Guinnog</td>\n",
       "      <td>1</td>\n",
       "      <td>1</td>\n",
       "      <td>2006</td>\n",
       "      <td>NaT</td>\n",
       "      <td>'''Support.''' —&amp;nbsp;</td>\n",
       "      <td>2316</td>\n",
       "      <td>Support. —</td>\n",
       "      <td>0.000</td>\n",
       "      <td>0.000</td>\n",
       "      <td>1.000</td>\n",
       "      <td>0.4019</td>\n",
       "    </tr>\n",
       "    <tr>\n",
       "      <th>180860</th>\n",
       "      <td>Viriditas</td>\n",
       "      <td>Musical Linguist</td>\n",
       "      <td>1</td>\n",
       "      <td>1</td>\n",
       "      <td>2005</td>\n",
       "      <td>2005-11-14 13:00:00</td>\n",
       "      <td>'''Support'''.  A friendly and helpful editor. --</td>\n",
       "      <td>3245</td>\n",
       "      <td>Support.  A friendly and helpful editor.</td>\n",
       "      <td>0.000</td>\n",
       "      <td>0.187</td>\n",
       "      <td>0.813</td>\n",
       "      <td>0.8271</td>\n",
       "    </tr>\n",
       "    <tr>\n",
       "      <th>81797</th>\n",
       "      <td>Dank55</td>\n",
       "      <td>Suntag</td>\n",
       "      <td>1</td>\n",
       "      <td>0</td>\n",
       "      <td>2008</td>\n",
       "      <td>2008-12-25 02:40:00</td>\n",
       "      <td>'''Support'''.  I read the two GAs quickly; th...</td>\n",
       "      <td>1289</td>\n",
       "      <td>Support.  I read the two GAs quickly; the lang...</td>\n",
       "      <td>0.074</td>\n",
       "      <td>0.726</td>\n",
       "      <td>0.200</td>\n",
       "      <td>0.8847</td>\n",
       "    </tr>\n",
       "    <tr>\n",
       "      <th>9301</th>\n",
       "      <td>Alpha Quadrant</td>\n",
       "      <td>Purplebackpack89</td>\n",
       "      <td>-1</td>\n",
       "      <td>0</td>\n",
       "      <td>2012</td>\n",
       "      <td>2012-03-14 18:08:00</td>\n",
       "      <td>According to to the [http://toolserver.org/~qu...</td>\n",
       "      <td>111</td>\n",
       "      <td>According to to the , you are currently blocke...</td>\n",
       "      <td>0.112</td>\n",
       "      <td>0.888</td>\n",
       "      <td>0.000</td>\n",
       "      <td>-0.7430</td>\n",
       "    </tr>\n",
       "    <tr>\n",
       "      <th>60427</th>\n",
       "      <td>Wizardman</td>\n",
       "      <td>Ice Cold Beer</td>\n",
       "      <td>1</td>\n",
       "      <td>1</td>\n",
       "      <td>2008</td>\n",
       "      <td>2008-08-19 19:01:00</td>\n",
       "      <td>'''Support''' per NYB.</td>\n",
       "      <td>887</td>\n",
       "      <td>Support per NYB.</td>\n",
       "      <td>0.000</td>\n",
       "      <td>0.426</td>\n",
       "      <td>0.574</td>\n",
       "      <td>0.4019</td>\n",
       "    </tr>\n",
       "    <tr>\n",
       "      <th>41986</th>\n",
       "      <td>Seraphimblade</td>\n",
       "      <td>Shubinator</td>\n",
       "      <td>1</td>\n",
       "      <td>1</td>\n",
       "      <td>2009</td>\n",
       "      <td>2009-12-28 10:00:00</td>\n",
       "      <td>'''Support''', after thinking on this further ...</td>\n",
       "      <td>574</td>\n",
       "      <td>Support, after thinking on this further and ex...</td>\n",
       "      <td>0.143</td>\n",
       "      <td>0.660</td>\n",
       "      <td>0.197</td>\n",
       "      <td>0.7817</td>\n",
       "    </tr>\n",
       "    <tr>\n",
       "      <th>141546</th>\n",
       "      <td>Savidan</td>\n",
       "      <td>Meegs</td>\n",
       "      <td>1</td>\n",
       "      <td>1</td>\n",
       "      <td>2006</td>\n",
       "      <td>2006-03-07 18:30:00</td>\n",
       "      <td>'''Support''' sounds good to me.</td>\n",
       "      <td>2389</td>\n",
       "      <td>Support sounds good to me.</td>\n",
       "      <td>0.000</td>\n",
       "      <td>0.349</td>\n",
       "      <td>0.651</td>\n",
       "      <td>0.6808</td>\n",
       "    </tr>\n",
       "    <tr>\n",
       "      <th>67980</th>\n",
       "      <td>Irpen</td>\n",
       "      <td>shoeofdeath</td>\n",
       "      <td>-1</td>\n",
       "      <td>1</td>\n",
       "      <td>2008</td>\n",
       "      <td>2008-03-06 23:02:00</td>\n",
       "      <td>'''Oppose''' per insufficient interest in cont...</td>\n",
       "      <td>973</td>\n",
       "      <td>Oppose per insufficient interest in content wr...</td>\n",
       "      <td>0.000</td>\n",
       "      <td>0.785</td>\n",
       "      <td>0.215</td>\n",
       "      <td>0.4767</td>\n",
       "    </tr>\n",
       "    <tr>\n",
       "      <th>105786</th>\n",
       "      <td>Nwwaew</td>\n",
       "      <td>SchuminWeb</td>\n",
       "      <td>1</td>\n",
       "      <td>1</td>\n",
       "      <td>2007</td>\n",
       "      <td>2007-06-06 17:36:00</td>\n",
       "      <td>'''Support'''- I attempted to nominate him pre...</td>\n",
       "      <td>1671</td>\n",
       "      <td>Support- I attempted to nominate him previousl...</td>\n",
       "      <td>0.000</td>\n",
       "      <td>0.797</td>\n",
       "      <td>0.203</td>\n",
       "      <td>0.4715</td>\n",
       "    </tr>\n",
       "    <tr>\n",
       "      <th>37058</th>\n",
       "      <td>Ched Davis</td>\n",
       "      <td>Jake Wartenberg</td>\n",
       "      <td>1</td>\n",
       "      <td>1</td>\n",
       "      <td>2009</td>\n",
       "      <td>2009-08-17 02:05:00</td>\n",
       "      <td>'''Support''' I first noticed this user very e...</td>\n",
       "      <td>526</td>\n",
       "      <td>Support I first noticed this user very early t...</td>\n",
       "      <td>0.057</td>\n",
       "      <td>0.717</td>\n",
       "      <td>0.226</td>\n",
       "      <td>0.9088</td>\n",
       "    </tr>\n",
       "  </tbody>\n",
       "</table>\n",
       "</div>"
      ],
      "text/plain": [
       "                   SRC               TGT  VOT  RES   YEA                 DAT  \\\n",
       "135863         FireFox           Guinnog    1    1  2006                 NaT   \n",
       "180860       Viriditas  Musical Linguist    1    1  2005 2005-11-14 13:00:00   \n",
       "81797           Dank55            Suntag    1    0  2008 2008-12-25 02:40:00   \n",
       "9301    Alpha Quadrant  Purplebackpack89   -1    0  2012 2012-03-14 18:08:00   \n",
       "60427        Wizardman     Ice Cold Beer    1    1  2008 2008-08-19 19:01:00   \n",
       "41986    Seraphimblade        Shubinator    1    1  2009 2009-12-28 10:00:00   \n",
       "141546         Savidan             Meegs    1    1  2006 2006-03-07 18:30:00   \n",
       "67980            Irpen       shoeofdeath   -1    1  2008 2008-03-06 23:02:00   \n",
       "105786          Nwwaew        SchuminWeb    1    1  2007 2007-06-06 17:36:00   \n",
       "37058       Ched Davis   Jake Wartenberg    1    1  2009 2009-08-17 02:05:00   \n",
       "\n",
       "                                                      TXT  ELECTION_ID  \\\n",
       "135863                             '''Support.''' —&nbsp;         2316   \n",
       "180860  '''Support'''.  A friendly and helpful editor. --         3245   \n",
       "81797   '''Support'''.  I read the two GAs quickly; th...         1289   \n",
       "9301    According to to the [http://toolserver.org/~qu...          111   \n",
       "60427                              '''Support''' per NYB.          887   \n",
       "41986   '''Support''', after thinking on this further ...          574   \n",
       "141546                   '''Support''' sounds good to me.         2389   \n",
       "67980   '''Oppose''' per insufficient interest in cont...          973   \n",
       "105786  '''Support'''- I attempted to nominate him pre...         1671   \n",
       "37058   '''Support''' I first noticed this user very e...          526   \n",
       "\n",
       "                                                      CLE    neg    neu  \\\n",
       "135863                                         Support. —  0.000  0.000   \n",
       "180860         Support.  A friendly and helpful editor.    0.000  0.187   \n",
       "81797   Support.  I read the two GAs quickly; the lang...  0.074  0.726   \n",
       "9301    According to to the , you are currently blocke...  0.112  0.888   \n",
       "60427                                    Support per NYB.  0.000  0.426   \n",
       "41986   Support, after thinking on this further and ex...  0.143  0.660   \n",
       "141546                         Support sounds good to me.  0.000  0.349   \n",
       "67980   Oppose per insufficient interest in content wr...  0.000  0.785   \n",
       "105786  Support- I attempted to nominate him previousl...  0.000  0.797   \n",
       "37058   Support I first noticed this user very early t...  0.057  0.717   \n",
       "\n",
       "          pos  compound  \n",
       "135863  1.000    0.4019  \n",
       "180860  0.813    0.8271  \n",
       "81797   0.200    0.8847  \n",
       "9301    0.000   -0.7430  \n",
       "60427   0.574    0.4019  \n",
       "41986   0.197    0.7817  \n",
       "141546  0.651    0.6808  \n",
       "67980   0.215    0.4767  \n",
       "105786  0.203    0.4715  \n",
       "37058   0.226    0.9088  "
      ]
     },
     "execution_count": 31,
     "metadata": {},
     "output_type": "execute_result"
    }
   ],
   "source": [
    "# Merge the two dataframes\n",
    "wiki_with_scores = pd.concat([wiki_copy, scores_df], axis = 1)\n",
    "wiki_with_scores.sample(10)"
   ]
  },
  {
   "cell_type": "code",
   "execution_count": 32,
   "id": "66975384-2f33-41cb-a6cc-05e848f99180",
   "metadata": {
    "tags": []
   },
   "outputs": [
    {
     "data": {
      "text/plain": [
       "9387"
      ]
     },
     "execution_count": 32,
     "metadata": {},
     "output_type": "execute_result"
    }
   ],
   "source": [
    "# Replace empty comments by NaN\n",
    "# in order to remove them \n",
    "wiki_with_scores['CLE'].replace('', np.nan, inplace=True) \n",
    "wiki_with_scores['CLE'].isnull().sum()"
   ]
  },
  {
   "cell_type": "code",
   "execution_count": 33,
   "id": "31e8caf5-6c5e-4e6e-bff2-0a47de25cd7b",
   "metadata": {
    "tags": []
   },
   "outputs": [
    {
     "data": {
      "image/png": "[encoded data removed]",
      "text/plain": [
       "<Figure size 1200x300 with 4 Axes>"
      ]
     },
     "metadata": {},
     "output_type": "display_data"
    }
   ],
   "source": [
    "wiki_cle_dropna = wiki_with_scores.dropna(subset = 'CLE') # remove empty comments \n",
    "fig, axs = plt.subplots(1, 4, figsize=(12, 3),  sharey = True)\n",
    "sns.barplot(data=wiki_cle_dropna, x='VOT', y='pos', ax=axs[0])\n",
    "sns.barplot(data=wiki_cle_dropna, x='VOT', y='neu', ax=axs[1])\n",
    "sns.barplot(data=wiki_cle_dropna, x='VOT', y='neg', ax=axs[2])\n",
    "sns.barplot(data=wiki_cle_dropna, x='VOT', y='compound', ax=axs[3])\n",
    "axs[0].set_title('Positive')\n",
    "axs[1].set_title('Neutral')\n",
    "axs[2].set_title('Negative')\n",
    "axs[3].set_title('Compound')\n",
    "plt.tight_layout()\n",
    "plt.show()"
   ]
  },
  {
   "cell_type": "markdown",
   "id": "337b546a-1a0e-424d-adc0-624e1b2ad80c",
   "metadata": {},
   "source": [
    "Considering the Compound score that merges negative, neutral and positive scores, we can conclude that there is consistency on average between the votes and the associated comments."
   ]
  },
  {
   "cell_type": "code",
   "execution_count": 34,
   "id": "30dc8cb7-2070-49f7-bc5b-1d5ecb9ced03",
   "metadata": {
    "tags": []
   },
   "outputs": [
    {
     "data": {
      "text/html": [
       "<div>\n",
       "<style scoped>\n",
       "    .dataframe tbody tr th:only-of-type {\n",
       "        vertical-align: middle;\n",
       "    }\n",
       "\n",
       "    .dataframe tbody tr th {\n",
       "        vertical-align: top;\n",
       "    }\n",
       "\n",
       "    .dataframe thead th {\n",
       "        text-align: right;\n",
       "    }\n",
       "</style>\n",
       "<table border=\"1\" class=\"dataframe\">\n",
       "  <thead>\n",
       "    <tr style=\"text-align: right;\">\n",
       "      <th></th>\n",
       "      <th>YEA</th>\n",
       "      <th>VOT</th>\n",
       "      <th>compound</th>\n",
       "    </tr>\n",
       "  </thead>\n",
       "  <tbody>\n",
       "    <tr>\n",
       "      <th>0</th>\n",
       "      <td>2003</td>\n",
       "      <td>-1</td>\n",
       "      <td>-0.020150</td>\n",
       "    </tr>\n",
       "    <tr>\n",
       "      <th>1</th>\n",
       "      <td>2003</td>\n",
       "      <td>0</td>\n",
       "      <td>0.000000</td>\n",
       "    </tr>\n",
       "    <tr>\n",
       "      <th>2</th>\n",
       "      <td>2003</td>\n",
       "      <td>1</td>\n",
       "      <td>0.466455</td>\n",
       "    </tr>\n",
       "    <tr>\n",
       "      <th>3</th>\n",
       "      <td>2004</td>\n",
       "      <td>-1</td>\n",
       "      <td>0.076583</td>\n",
       "    </tr>\n",
       "    <tr>\n",
       "      <th>4</th>\n",
       "      <td>2004</td>\n",
       "      <td>0</td>\n",
       "      <td>0.192388</td>\n",
       "    </tr>\n",
       "    <tr>\n",
       "      <th>5</th>\n",
       "      <td>2004</td>\n",
       "      <td>1</td>\n",
       "      <td>0.399298</td>\n",
       "    </tr>\n",
       "    <tr>\n",
       "      <th>6</th>\n",
       "      <td>2005</td>\n",
       "      <td>-1</td>\n",
       "      <td>0.058232</td>\n",
       "    </tr>\n",
       "    <tr>\n",
       "      <th>7</th>\n",
       "      <td>2005</td>\n",
       "      <td>0</td>\n",
       "      <td>0.254654</td>\n",
       "    </tr>\n",
       "    <tr>\n",
       "      <th>8</th>\n",
       "      <td>2005</td>\n",
       "      <td>1</td>\n",
       "      <td>0.493900</td>\n",
       "    </tr>\n",
       "  </tbody>\n",
       "</table>\n",
       "</div>"
      ],
      "text/plain": [
       "    YEA  VOT  compound\n",
       "0  2003   -1 -0.020150\n",
       "1  2003    0  0.000000\n",
       "2  2003    1  0.466455\n",
       "3  2004   -1  0.076583\n",
       "4  2004    0  0.192388\n",
       "5  2004    1  0.399298\n",
       "6  2005   -1  0.058232\n",
       "7  2005    0  0.254654\n",
       "8  2005    1  0.493900"
      ]
     },
     "execution_count": 34,
     "metadata": {},
     "output_type": "execute_result"
    }
   ],
   "source": [
    "compound_per_year = wiki_cle_dropna.groupby(['YEA', 'VOT'])['compound'].mean().reset_index()\n",
    "compound_per_year.head(9)"
   ]
  },
  {
   "cell_type": "code",
   "execution_count": 35,
   "id": "2073cfdb-fb54-4030-bd74-8319e96e7575",
   "metadata": {
    "tags": []
   },
   "outputs": [
    {
     "data": {
      "text/plain": [
       "<matplotlib.legend.Legend at 0x2c091d595b0>"
      ]
     },
     "execution_count": 35,
     "metadata": {},
     "output_type": "execute_result"
    },
    {
     "data": {
      "image/png": "[encoded data removed]",
      "text/plain": [
       "<Figure size 1000x500 with 1 Axes>"
      ]
     },
     "metadata": {},
     "output_type": "display_data"
    }
   ],
   "source": [
    "plt.figure(figsize=(10, 5))\n",
    "\n",
    "for vot in [-1, 0, 1]: \n",
    "    sub_df = compound_per_year[compound_per_year['VOT'] == vot]\n",
    "    plt.plot(sub_df['YEA'], sub_df['compound'], label = 'VOT = '+ str(vot))\n",
    "\n",
    "plt.title('Average Compound Associated to the Different Types of Votes per Year')\n",
    "plt.xticks(np.arange(2003, 2014))\n",
    "plt.xlabel('Year')\n",
    "plt.ylabel('Average Compound')\n",
    "plt.grid()\n",
    "plt.legend()"
   ]
  },
  {
   "cell_type": "markdown",
   "id": "8d50ce7a-d919-4d27-8b27-cf167d662659",
   "metadata": {},
   "source": [
    "* For each year, the conclusion of consistency is still available. Therefore, generally, people tend to leave comments accordingly to their vote choice."
   ]
  },
  {
   "cell_type": "markdown",
   "id": "7073433f-e59b-418e-b0e9-52e85ed8e26e",
   "metadata": {
    "tags": []
   },
   "source": [
    "# Sentiment analysis with TextBlob"
   ]
  },
  {
   "cell_type": "markdown",
   "id": "b74eea1e-086f-4df8-8248-b6d0b9b8441e",
   "metadata": {},
   "source": [
    "In this section, we will use TextBlob, a powerful library for processing textual data, in order to extract the sentiment polarity and subjectivity of each comment.\n",
    "\n",
    "**Notes:** \n",
    "* The *polarity* ranges from -1 (indicating negativity) to 1 (indicating positivity)\n",
    "* The *subjectivity* ranges from 0 (reflecting objectivity) and 1 (reflecting subjectivity).\n",
    "\n",
    "To achieve that, we have to do additional processing on the comments. "
   ]
  },
  {
   "cell_type": "code",
   "execution_count": 36,
   "id": "03ad8392-1f25-4803-a88b-23d5581f1e26",
   "metadata": {
    "tags": []
   },
   "outputs": [
    {
     "data": {
      "text/html": [
       "<div>\n",
       "<style scoped>\n",
       "    .dataframe tbody tr th:only-of-type {\n",
       "        vertical-align: middle;\n",
       "    }\n",
       "\n",
       "    .dataframe tbody tr th {\n",
       "        vertical-align: top;\n",
       "    }\n",
       "\n",
       "    .dataframe thead th {\n",
       "        text-align: right;\n",
       "    }\n",
       "</style>\n",
       "<table border=\"1\" class=\"dataframe\">\n",
       "  <thead>\n",
       "    <tr style=\"text-align: right;\">\n",
       "      <th></th>\n",
       "      <th>SRC</th>\n",
       "      <th>TGT</th>\n",
       "      <th>VOT</th>\n",
       "      <th>RES</th>\n",
       "      <th>YEA</th>\n",
       "      <th>DAT</th>\n",
       "      <th>TXT</th>\n",
       "      <th>ELECTION_ID</th>\n",
       "      <th>CLE</th>\n",
       "    </tr>\n",
       "  </thead>\n",
       "  <tbody>\n",
       "    <tr>\n",
       "      <th>0</th>\n",
       "      <td>Steel1943</td>\n",
       "      <td>BDD</td>\n",
       "      <td>1</td>\n",
       "      <td>1</td>\n",
       "      <td>2013</td>\n",
       "      <td>2013-04-19 23:13:00</td>\n",
       "      <td>'''Support''' as co-nom.</td>\n",
       "      <td>1</td>\n",
       "      <td>support as conom.</td>\n",
       "    </tr>\n",
       "    <tr>\n",
       "      <th>1</th>\n",
       "      <td>Cuchullain</td>\n",
       "      <td>BDD</td>\n",
       "      <td>1</td>\n",
       "      <td>1</td>\n",
       "      <td>2013</td>\n",
       "      <td>2013-04-20 01:04:00</td>\n",
       "      <td>'''Support''' as nominator.--</td>\n",
       "      <td>1</td>\n",
       "      <td>support as nominator.</td>\n",
       "    </tr>\n",
       "    <tr>\n",
       "      <th>2</th>\n",
       "      <td>INeverCry</td>\n",
       "      <td>BDD</td>\n",
       "      <td>1</td>\n",
       "      <td>1</td>\n",
       "      <td>2013</td>\n",
       "      <td>2013-04-19 23:43:00</td>\n",
       "      <td>'''Support''' per noms.</td>\n",
       "      <td>1</td>\n",
       "      <td>support per noms.</td>\n",
       "    </tr>\n",
       "    <tr>\n",
       "      <th>3</th>\n",
       "      <td>Cncmaster</td>\n",
       "      <td>BDD</td>\n",
       "      <td>1</td>\n",
       "      <td>1</td>\n",
       "      <td>2013</td>\n",
       "      <td>2013-04-20 00:11:00</td>\n",
       "      <td>'''Support''' per noms. BDD is a strong contri...</td>\n",
       "      <td>1</td>\n",
       "      <td>support per noms. bdd is a strong contributor ...</td>\n",
       "    </tr>\n",
       "    <tr>\n",
       "      <th>4</th>\n",
       "      <td>Miniapolis</td>\n",
       "      <td>BDD</td>\n",
       "      <td>1</td>\n",
       "      <td>1</td>\n",
       "      <td>2013</td>\n",
       "      <td>2013-04-20 00:56:00</td>\n",
       "      <td>'''Support''', with great pleasure. I work wit...</td>\n",
       "      <td>1</td>\n",
       "      <td>support with great pleasure. i work with bdd a...</td>\n",
       "    </tr>\n",
       "  </tbody>\n",
       "</table>\n",
       "</div>"
      ],
      "text/plain": [
       "          SRC  TGT  VOT  RES   YEA                 DAT  \\\n",
       "0   Steel1943  BDD    1    1  2013 2013-04-19 23:13:00   \n",
       "1  Cuchullain  BDD    1    1  2013 2013-04-20 01:04:00   \n",
       "2   INeverCry  BDD    1    1  2013 2013-04-19 23:43:00   \n",
       "3   Cncmaster  BDD    1    1  2013 2013-04-20 00:11:00   \n",
       "4  Miniapolis  BDD    1    1  2013 2013-04-20 00:56:00   \n",
       "\n",
       "                                                 TXT  ELECTION_ID  \\\n",
       "0                           '''Support''' as co-nom.            1   \n",
       "1                      '''Support''' as nominator.--            1   \n",
       "2                            '''Support''' per noms.            1   \n",
       "3  '''Support''' per noms. BDD is a strong contri...            1   \n",
       "4  '''Support''', with great pleasure. I work wit...            1   \n",
       "\n",
       "                                                 CLE  \n",
       "0                                  support as conom.  \n",
       "1                              support as nominator.  \n",
       "2                                  support per noms.  \n",
       "3  support per noms. bdd is a strong contributor ...  \n",
       "4  support with great pleasure. i work with bdd a...  "
      ]
     },
     "execution_count": 36,
     "metadata": {},
     "output_type": "execute_result"
    }
   ],
   "source": [
    "wiki_copy['CLE'] = wiki_copy['CLE'].apply(nlp_pipeline) \n",
    "wiki_copy.head()"
   ]
  },
  {
   "cell_type": "code",
   "execution_count": 37,
   "id": "3c79165a-81b1-4cc3-8105-279caf048658",
   "metadata": {
    "tags": []
   },
   "outputs": [
    {
     "data": {
      "text/html": [
       "<div>\n",
       "<style scoped>\n",
       "    .dataframe tbody tr th:only-of-type {\n",
       "        vertical-align: middle;\n",
       "    }\n",
       "\n",
       "    .dataframe tbody tr th {\n",
       "        vertical-align: top;\n",
       "    }\n",
       "\n",
       "    .dataframe thead th {\n",
       "        text-align: right;\n",
       "    }\n",
       "</style>\n",
       "<table border=\"1\" class=\"dataframe\">\n",
       "  <thead>\n",
       "    <tr style=\"text-align: right;\">\n",
       "      <th></th>\n",
       "      <th>SRC</th>\n",
       "      <th>TGT</th>\n",
       "      <th>VOT</th>\n",
       "      <th>RES</th>\n",
       "      <th>YEA</th>\n",
       "      <th>DAT</th>\n",
       "      <th>TXT</th>\n",
       "      <th>ELECTION_ID</th>\n",
       "      <th>CLE</th>\n",
       "    </tr>\n",
       "  </thead>\n",
       "  <tbody>\n",
       "    <tr>\n",
       "      <th>0</th>\n",
       "      <td>Steel1943</td>\n",
       "      <td>BDD</td>\n",
       "      <td>1</td>\n",
       "      <td>1</td>\n",
       "      <td>2013</td>\n",
       "      <td>2013-04-19 23:13:00</td>\n",
       "      <td>'''Support''' as co-nom.</td>\n",
       "      <td>1</td>\n",
       "      <td>as conom.</td>\n",
       "    </tr>\n",
       "    <tr>\n",
       "      <th>1</th>\n",
       "      <td>Cuchullain</td>\n",
       "      <td>BDD</td>\n",
       "      <td>1</td>\n",
       "      <td>1</td>\n",
       "      <td>2013</td>\n",
       "      <td>2013-04-20 01:04:00</td>\n",
       "      <td>'''Support''' as nominator.--</td>\n",
       "      <td>1</td>\n",
       "      <td>as nominator.</td>\n",
       "    </tr>\n",
       "    <tr>\n",
       "      <th>2</th>\n",
       "      <td>INeverCry</td>\n",
       "      <td>BDD</td>\n",
       "      <td>1</td>\n",
       "      <td>1</td>\n",
       "      <td>2013</td>\n",
       "      <td>2013-04-19 23:43:00</td>\n",
       "      <td>'''Support''' per noms.</td>\n",
       "      <td>1</td>\n",
       "      <td>per noms.</td>\n",
       "    </tr>\n",
       "    <tr>\n",
       "      <th>3</th>\n",
       "      <td>Cncmaster</td>\n",
       "      <td>BDD</td>\n",
       "      <td>1</td>\n",
       "      <td>1</td>\n",
       "      <td>2013</td>\n",
       "      <td>2013-04-20 00:11:00</td>\n",
       "      <td>'''Support''' per noms. BDD is a strong contri...</td>\n",
       "      <td>1</td>\n",
       "      <td>per noms. bdd is a strong contributor with tho...</td>\n",
       "    </tr>\n",
       "    <tr>\n",
       "      <th>4</th>\n",
       "      <td>Miniapolis</td>\n",
       "      <td>BDD</td>\n",
       "      <td>1</td>\n",
       "      <td>1</td>\n",
       "      <td>2013</td>\n",
       "      <td>2013-04-20 00:56:00</td>\n",
       "      <td>'''Support''', with great pleasure. I work wit...</td>\n",
       "      <td>1</td>\n",
       "      <td>with great pleasure. i work with bdd at the wh...</td>\n",
       "    </tr>\n",
       "  </tbody>\n",
       "</table>\n",
       "</div>"
      ],
      "text/plain": [
       "          SRC  TGT  VOT  RES   YEA                 DAT  \\\n",
       "0   Steel1943  BDD    1    1  2013 2013-04-19 23:13:00   \n",
       "1  Cuchullain  BDD    1    1  2013 2013-04-20 01:04:00   \n",
       "2   INeverCry  BDD    1    1  2013 2013-04-19 23:43:00   \n",
       "3   Cncmaster  BDD    1    1  2013 2013-04-20 00:11:00   \n",
       "4  Miniapolis  BDD    1    1  2013 2013-04-20 00:56:00   \n",
       "\n",
       "                                                 TXT  ELECTION_ID  \\\n",
       "0                           '''Support''' as co-nom.            1   \n",
       "1                      '''Support''' as nominator.--            1   \n",
       "2                            '''Support''' per noms.            1   \n",
       "3  '''Support''' per noms. BDD is a strong contri...            1   \n",
       "4  '''Support''', with great pleasure. I work wit...            1   \n",
       "\n",
       "                                                 CLE  \n",
       "0                                          as conom.  \n",
       "1                                      as nominator.  \n",
       "2                                          per noms.  \n",
       "3  per noms. bdd is a strong contributor with tho...  \n",
       "4  with great pleasure. i work with bdd at the wh...  "
      ]
     },
     "execution_count": 37,
     "metadata": {},
     "output_type": "execute_result"
    }
   ],
   "source": [
    "# Remove the first word of each comment if contained on the list below\n",
    "# to avoid a bias on the algorithm\n",
    "wiki_copy['CLE'] = wiki_copy['CLE'].str.replace('^(support|oppose|neutral|strong support|weak support|happy support|unfortunate oppose) ', '', regex=True)\n",
    "wiki_copy.head()"
   ]
  },
  {
   "cell_type": "code",
   "execution_count": 38,
   "id": "6b4599df-d259-49ca-b333-9351f639db93",
   "metadata": {
    "tags": []
   },
   "outputs": [
    {
     "name": "stdout",
     "output_type": "stream",
     "text": [
      "0                                                                                                                                                                                                                                                                                                                                                                                                                                                                                                                                                                                                                                                  as conom.\n",
      "1                                                                                                                                                                                                                                                                                                                                                                                                                                                                                                                                                                                                                                              as nominator.\n",
      "2                                                                                                                                                                                                                                                                                                                                                                                                                                                                                                                                                                                                                                                  per noms.\n",
      "3                                                                                                                                                                                                                                                                                                                                                                                                                                                                                                                                       per noms. bdd is a strong contributor with thousands of edits and years of experience. i have no problem supporting.\n",
      "4                                                                                                                                                                                                                                                                                                                                                                                                                                                                                                 with great pleasure. i work with bdd at the where we're both coordinators and have seen their good work at rm and afd. a fine addition to the admin corps.\n",
      "5                                                                                                                                                                                                                                                                                                                                                                                                                                      there are plenty of important roles on this project of which content creator is only one of them. bdd has done good work over a number of years. that his primary activity is not content creation is not of concern.\n",
      "6                                                                                                                                                                                                                                                                                                                                                                                                                                                                                                                                                                                                                     per noms. i don't see a reason not to.\n",
      "7                                                                                                         bdd already wields a broom pretty well so why not formalize it i'm not too concerned about the lack of indepth experience in developing articles because he has contributed so much to the backlog drives as his attest he has often been on the leaderboard. we don't all need to take the same route to adminship. my only quibble is a very minor onewhat's with all the edits to his user talk archives i hope that he will keep any current discussions involving administration on his main talk page so other editors can find them easily.\n",
      "8    barring a completely unexpected answer to proforma question  above. the heads up about the old is a good one; someone that right on at age  is certainly worthy of support after the better part of a decade of additional seasoning sporting a clean block log and no indications of assholery over that time unsurprisingly. concerns about relative lack of content creation are misplaced; administrative functions are only tangential to content writing which is the reason that some of the best writers are not administrators and some of the best administrators do little in the way of mainspace content creation. an excellent candidate.\n",
      "9                                                                                                                                                                                                                                                                                                                                                                                                                                                                                                                                                                                                                       because i see no good reason not to.\n",
      "Name: CLE, dtype: object\n"
     ]
    }
   ],
   "source": [
    "# Show the first 10 comments completely\n",
    "pd.set_option('display.max_colwidth', None)\n",
    "print(wiki_copy['CLE'].head(10))\n",
    "pd.reset_option('display.max_colwidth')"
   ]
  },
  {
   "cell_type": "code",
   "execution_count": 39,
   "id": "cea1e65e-8af6-4754-9497-fa5051700703",
   "metadata": {
    "tags": []
   },
   "outputs": [],
   "source": [
    "def polarity(text):  \n",
    "    '''extracts the polarity of the text sentiment'''\n",
    "    pol = TextBlob(text)\n",
    "    return pol.sentiment.polarity\n",
    "\n",
    "def subjectivity(text):\n",
    "    '''extracts the subjectivity of the text sentiment'''\n",
    "    pol = TextBlob(text)\n",
    "    return pol.sentiment.subjectivity"
   ]
  },
  {
   "cell_type": "code",
   "execution_count": 40,
   "id": "76585e37-a956-44f9-b1cc-468a44d79e1f",
   "metadata": {
    "tags": []
   },
   "outputs": [
    {
     "data": {
      "text/html": [
       "<div>\n",
       "<style scoped>\n",
       "    .dataframe tbody tr th:only-of-type {\n",
       "        vertical-align: middle;\n",
       "    }\n",
       "\n",
       "    .dataframe tbody tr th {\n",
       "        vertical-align: top;\n",
       "    }\n",
       "\n",
       "    .dataframe thead th {\n",
       "        text-align: right;\n",
       "    }\n",
       "</style>\n",
       "<table border=\"1\" class=\"dataframe\">\n",
       "  <thead>\n",
       "    <tr style=\"text-align: right;\">\n",
       "      <th></th>\n",
       "      <th>SRC</th>\n",
       "      <th>TGT</th>\n",
       "      <th>VOT</th>\n",
       "      <th>RES</th>\n",
       "      <th>YEA</th>\n",
       "      <th>DAT</th>\n",
       "      <th>TXT</th>\n",
       "      <th>ELECTION_ID</th>\n",
       "      <th>CLE</th>\n",
       "      <th>polarity</th>\n",
       "      <th>subjectivity</th>\n",
       "    </tr>\n",
       "  </thead>\n",
       "  <tbody>\n",
       "    <tr>\n",
       "      <th>0</th>\n",
       "      <td>Steel1943</td>\n",
       "      <td>BDD</td>\n",
       "      <td>1</td>\n",
       "      <td>1</td>\n",
       "      <td>2013</td>\n",
       "      <td>2013-04-19 23:13:00</td>\n",
       "      <td>'''Support''' as co-nom.</td>\n",
       "      <td>1</td>\n",
       "      <td>as conom.</td>\n",
       "      <td>0.000000</td>\n",
       "      <td>0.000000</td>\n",
       "    </tr>\n",
       "    <tr>\n",
       "      <th>1</th>\n",
       "      <td>Cuchullain</td>\n",
       "      <td>BDD</td>\n",
       "      <td>1</td>\n",
       "      <td>1</td>\n",
       "      <td>2013</td>\n",
       "      <td>2013-04-20 01:04:00</td>\n",
       "      <td>'''Support''' as nominator.--</td>\n",
       "      <td>1</td>\n",
       "      <td>as nominator.</td>\n",
       "      <td>0.000000</td>\n",
       "      <td>0.000000</td>\n",
       "    </tr>\n",
       "    <tr>\n",
       "      <th>2</th>\n",
       "      <td>INeverCry</td>\n",
       "      <td>BDD</td>\n",
       "      <td>1</td>\n",
       "      <td>1</td>\n",
       "      <td>2013</td>\n",
       "      <td>2013-04-19 23:43:00</td>\n",
       "      <td>'''Support''' per noms.</td>\n",
       "      <td>1</td>\n",
       "      <td>per noms.</td>\n",
       "      <td>0.000000</td>\n",
       "      <td>0.000000</td>\n",
       "    </tr>\n",
       "    <tr>\n",
       "      <th>3</th>\n",
       "      <td>Cncmaster</td>\n",
       "      <td>BDD</td>\n",
       "      <td>1</td>\n",
       "      <td>1</td>\n",
       "      <td>2013</td>\n",
       "      <td>2013-04-20 00:11:00</td>\n",
       "      <td>'''Support''' per noms. BDD is a strong contri...</td>\n",
       "      <td>1</td>\n",
       "      <td>per noms. bdd is a strong contributor with tho...</td>\n",
       "      <td>0.341667</td>\n",
       "      <td>0.491667</td>\n",
       "    </tr>\n",
       "    <tr>\n",
       "      <th>4</th>\n",
       "      <td>Miniapolis</td>\n",
       "      <td>BDD</td>\n",
       "      <td>1</td>\n",
       "      <td>1</td>\n",
       "      <td>2013</td>\n",
       "      <td>2013-04-20 00:56:00</td>\n",
       "      <td>'''Support''', with great pleasure. I work wit...</td>\n",
       "      <td>1</td>\n",
       "      <td>with great pleasure. i work with bdd at the wh...</td>\n",
       "      <td>0.638889</td>\n",
       "      <td>0.616667</td>\n",
       "    </tr>\n",
       "  </tbody>\n",
       "</table>\n",
       "</div>"
      ],
      "text/plain": [
       "          SRC  TGT  VOT  RES   YEA                 DAT  \\\n",
       "0   Steel1943  BDD    1    1  2013 2013-04-19 23:13:00   \n",
       "1  Cuchullain  BDD    1    1  2013 2013-04-20 01:04:00   \n",
       "2   INeverCry  BDD    1    1  2013 2013-04-19 23:43:00   \n",
       "3   Cncmaster  BDD    1    1  2013 2013-04-20 00:11:00   \n",
       "4  Miniapolis  BDD    1    1  2013 2013-04-20 00:56:00   \n",
       "\n",
       "                                                 TXT  ELECTION_ID  \\\n",
       "0                           '''Support''' as co-nom.            1   \n",
       "1                      '''Support''' as nominator.--            1   \n",
       "2                            '''Support''' per noms.            1   \n",
       "3  '''Support''' per noms. BDD is a strong contri...            1   \n",
       "4  '''Support''', with great pleasure. I work wit...            1   \n",
       "\n",
       "                                                 CLE  polarity  subjectivity  \n",
       "0                                          as conom.  0.000000      0.000000  \n",
       "1                                      as nominator.  0.000000      0.000000  \n",
       "2                                          per noms.  0.000000      0.000000  \n",
       "3  per noms. bdd is a strong contributor with tho...  0.341667      0.491667  \n",
       "4  with great pleasure. i work with bdd at the wh...  0.638889      0.616667  "
      ]
     },
     "execution_count": 40,
     "metadata": {},
     "output_type": "execute_result"
    }
   ],
   "source": [
    "# Add the polarity and the subjectivity to our dataframe\n",
    "wiki_copy['polarity'] = wiki_copy['CLE'].apply(polarity)\n",
    "wiki_copy['subjectivity'] = wiki_copy['CLE'].apply(subjectivity)\n",
    "wiki_copy.head()"
   ]
  },
  {
   "cell_type": "markdown",
   "id": "28411a3a-3d44-4d7d-baf1-f63778e1855a",
   "metadata": {
    "tags": []
   },
   "source": [
    "When we look at the 3 first comments, they have 0 as polarity and 0 as subjectivity. The algorithm does not get any information from comments that are too short or meaningless. Therefore, we are going to show the distribution of the polarity for different levels of subjectivity."
   ]
  },
  {
   "cell_type": "code",
   "execution_count": 41,
   "id": "ec22e12d-5ec5-44ad-a133-7e46bfe99627",
   "metadata": {
    "tags": []
   },
   "outputs": [
    {
     "data": {
      "image/png": "[encoded data removed]",
      "text/plain": [
       "<Figure size 640x480 with 1 Axes>"
      ]
     },
     "metadata": {},
     "output_type": "display_data"
    }
   ],
   "source": [
    "fig,ax = plt.subplots()\n",
    "ax.hist(wiki_copy[\"polarity\"],bins=20, histtype=\"step\", label='All',color='b')\n",
    "wiki_copy_subjectif = wiki_copy[wiki_copy['subjectivity'] > 0.2] \n",
    "ax.hist(wiki_copy_subjectif[\"polarity\"],bins=20, histtype=\"step\", label='Subjectivity > 0.2',color='g')\n",
    "wiki_copy_subjectif = wiki_copy[wiki_copy['subjectivity'] > 0.5] \n",
    "ax.hist(wiki_copy_subjectif[\"polarity\"],bins=20, histtype=\"step\", label='Subjectivity > 0.5',color='r')\n",
    "plt.xlabel('Polarity')\n",
    "plt.ylabel('Number of comments')\n",
    "plt.title('Polarity of the Comments')\n",
    "plt.legend()\n",
    "plt.show()"
   ]
  },
  {
   "cell_type": "markdown",
   "id": "4abf21c6-56d3-4519-9854-fdc70a290062",
   "metadata": {},
   "source": [
    "We observe that many comments show a polarity of 0 indicating a lack of subjectivity. We suppose that they are too brief to provide any interesting information. So to explore this further, we need to display the comments length for each level of subjectivity."
   ]
  },
  {
   "cell_type": "code",
   "execution_count": 42,
   "id": "cf0c5ac3-fc7f-4eaf-af41-230966a34294",
   "metadata": {
    "tags": []
   },
   "outputs": [
    {
     "data": {
      "image/png": "[encoded data removed]",
      "text/plain": [
       "<Figure size 640x480 with 1 Axes>"
      ]
     },
     "metadata": {},
     "output_type": "display_data"
    }
   ],
   "source": [
    "# Graph of the length of the comments for all the comments ( in blue) \n",
    "# and for the subjective comments (with subjectivity score more than 0.2 in green and 0.5 in red)\n",
    "fig,ax = plt.subplots() \n",
    "ax.hist(wiki_copy[wiki_copy['subjectivity'] > 0.5]['CLE'].str.len(),bins=1000, histtype=\"step\", label='Subjectivity > 0.5',color='r')\n",
    "ax.hist(wiki_copy[wiki_copy['subjectivity'] > 0.2]['CLE'].str.len(),bins=1000, histtype=\"step\", label='Subjectivity > 0.2',color='g')\n",
    "ax.hist(wiki_copy['CLE'].str.len(),bins=1000, histtype=\"step\", label='All',color='b')\n",
    "plt.xlabel('Length of the Comments')\n",
    "plt.ylabel('Number of Comments')\n",
    "plt.title('Length of the Comments with Different levels of Subjectivity')\n",
    "plt.xscale('log')\n",
    "plt.legend()\n",
    "plt.show()"
   ]
  },
  {
   "cell_type": "markdown",
   "id": "001dca38-dc6b-4b02-b119-3c1da84219eb",
   "metadata": {},
   "source": [
    "Many comments appear too brief to provide substantial information. To ensure meaningful insights, we have established a subjectivity threshold of 0.2. Consequently, during our comment exploration, we exclusively utilize the subjective dataframe. Our objective is to enhance the quality of our results by keeping only those comments that are considered more interesting and informative."
   ]
  },
  {
   "cell_type": "code",
   "execution_count": 43,
   "id": "da543558-5dfc-4ea1-9dd6-21e210413356",
   "metadata": {
    "tags": []
   },
   "outputs": [],
   "source": [
    "# new dataframe with only subjective comments for the rest of our analysis\n",
    "df_subjectiv = wiki_copy[wiki_copy['subjectivity'] > 0.2] "
   ]
  },
  {
   "cell_type": "markdown",
   "id": "10bfe041-aaf9-4c2c-b8d0-7a8f28114217",
   "metadata": {
    "tags": []
   },
   "source": [
    "## Length of the comments"
   ]
  },
  {
   "cell_type": "markdown",
   "id": "ea31571d-ddda-433a-a1db-0ef34f645139",
   "metadata": {},
   "source": [
    "In this part, we explore the correlation between the length of the comment and the subjectivity."
   ]
  },
  {
   "cell_type": "code",
   "execution_count": 44,
   "id": "92066708-f794-4121-880e-5b85ece03952",
   "metadata": {
    "tags": []
   },
   "outputs": [
    {
     "data": {
      "image/png": "[encoded data removed]",
      "text/plain": [
       "<Figure size 640x480 with 1 Axes>"
      ]
     },
     "metadata": {},
     "output_type": "display_data"
    }
   ],
   "source": [
    "fig,ax = plt.subplots() \n",
    "ax.hist(wiki_copy['TXT'].str.len(),bins=500, histtype=\"step\", label='All',color='b')\n",
    "ax.hist(wiki_copy[wiki_copy['subjectivity'] < 0.2]['TXT'].str.len(),bins=500, histtype=\"step\", label='objective comments',color='r')\n",
    "ax.hist(wiki_copy[wiki_copy['subjectivity'] > 0.2]['TXT'].str.len(),bins=500, histtype=\"step\", label='subjective comments',color='g')\n",
    "plt.xlabel('Length of Comments')\n",
    "plt.ylabel('Number of Comments')\n",
    "plt.xscale('log')\n",
    "plt.legend()\n",
    "plt.title('Length of the Comments')\n",
    "plt.show()"
   ]
  },
  {
   "cell_type": "markdown",
   "id": "a57dc7e0-d49e-408a-a61f-1e42473c2e8c",
   "metadata": {},
   "source": [
    "We note that typically, when a comment is excessively brief, it tends to be objective. Conversely, when a comment is more extensive in terms of characters, it is likely to be subjective."
   ]
  },
  {
   "cell_type": "markdown",
   "id": "6d76c2cf-a12b-41c4-80dd-8aa5d8a8ab1c",
   "metadata": {
    "tags": []
   },
   "source": [
    "## Topic of the comments"
   ]
  },
  {
   "cell_type": "markdown",
   "id": "c43bf73c-bb02-4bf7-adfe-ff76d3c3e58c",
   "metadata": {},
   "source": [
    "In this part, we will use the latent dirichlet allocation in order to cluster the comments in various topics. The main idea is to extract some interesting keywords from the comments, so that we can understand what are the criteria to achieve a successful election."
   ]
  },
  {
   "cell_type": "markdown",
   "id": "a138187a-093a-435e-8e94-42d5efbd9dba",
   "metadata": {},
   "source": [
    "We start with processing text with spacy."
   ]
  },
  {
   "cell_type": "code",
   "execution_count": 45,
   "id": "ca86f4a2-d7a6-49f4-a20c-47a816caaa98",
   "metadata": {
    "tags": []
   },
   "outputs": [
    {
     "name": "stderr",
     "output_type": "stream",
     "text": [
      "[nltk_data] Downloading package stopwords to\n",
      "[nltk_data]     C:\\Users\\liand\\AppData\\Roaming\\nltk_data...\n",
      "[nltk_data]   Package stopwords is already up-to-date!\n"
     ]
    },
    {
     "data": {
      "text/plain": [
       "True"
      ]
     },
     "execution_count": 45,
     "metadata": {},
     "output_type": "execute_result"
    }
   ],
   "source": [
    "nlp = spacy.load(\"en_core_web_sm\")\n",
    "nltk.download('stopwords')"
   ]
  },
  {
   "cell_type": "code",
   "execution_count": 46,
   "id": "c90e2a65-e812-479c-8d5a-199c3a3072f6",
   "metadata": {
    "tags": []
   },
   "outputs": [],
   "source": [
    "def preprocess_text(text):\n",
    "    ''' preprocesses text with lemmatization'''\n",
    "    doc = nlp(text)\n",
    "    tokens = [token.lemma_ for token in doc if token.is_alpha and not token.is_stop]\n",
    "    return \" \".join(tokens)"
   ]
  },
  {
   "cell_type": "code",
   "execution_count": 47,
   "id": "0974feb2-4d7b-4097-8979-628598390d72",
   "metadata": {
    "tags": []
   },
   "outputs": [],
   "source": [
    "def process_stop_word(text, stem=\"None\"):\n",
    "    '''removes stop words'''\n",
    "    text = text.split()\n",
    "    useless_words = nltk.corpus.stopwords.words(\"english\")\n",
    "    useless_words = useless_words + ['hi', 'im']\n",
    "    text_filtered = [word for word in text if not word in useless_words]\n",
    "        # Stem or Lemmatize\n",
    "    if stem == 'Stem':\n",
    "        stemmer = PorterStemmer() \n",
    "        text_stemmed = [stemmer.stem(y) for y in text_filtered]\n",
    "    elif stem == 'Lem':\n",
    "        lem = WordNetLemmatizer()\n",
    "        text_stemmed = [lem.lemmatize(y) for y in text_filtered]\n",
    "    elif stem == 'Spacy':\n",
    "        text_filtered = nlp(' '.join(text_filtered))\n",
    "        text_stemmed = [y.lemma_ for y in text_filtered]\n",
    "    else:\n",
    "        text_stemmed = text_filtered\n",
    "\n",
    "    final_string = ' '.join(text_stemmed)\n",
    "\n",
    "    return final_string"
   ]
  },
  {
   "cell_type": "code",
   "execution_count": 48,
   "id": "8a627a74-3b55-45d5-a95f-a868cdf2edfa",
   "metadata": {
    "tags": []
   },
   "outputs": [
    {
     "name": "stderr",
     "output_type": "stream",
     "text": [
      "C:\\Users\\liand\\AppData\\Local\\Temp\\ipykernel_9800\\2082174653.py:2: SettingWithCopyWarning: \n",
      "A value is trying to be set on a copy of a slice from a DataFrame.\n",
      "Try using .loc[row_indexer,col_indexer] = value instead\n",
      "\n",
      "See the caveats in the documentation: https://pandas.pydata.org/pandas-docs/stable/user_guide/indexing.html#returning-a-view-versus-a-copy\n",
      "  df_subjectiv['preprocessed_txt'] = df_subjectiv['CLE'].apply(preprocess_text)\n",
      "C:\\Users\\liand\\AppData\\Local\\Temp\\ipykernel_9800\\2082174653.py:3: SettingWithCopyWarning: \n",
      "A value is trying to be set on a copy of a slice from a DataFrame.\n",
      "Try using .loc[row_indexer,col_indexer] = value instead\n",
      "\n",
      "See the caveats in the documentation: https://pandas.pydata.org/pandas-docs/stable/user_guide/indexing.html#returning-a-view-versus-a-copy\n",
      "  df_subjectiv['preprocessed_txt'] = df_subjectiv['preprocessed_txt'].apply(process_stop_word)\n"
     ]
    }
   ],
   "source": [
    "# Clean the text for the LDA algorithm\n",
    "df_subjectiv['preprocessed_txt'] = df_subjectiv['CLE'].apply(preprocess_text)\n",
    "df_subjectiv['preprocessed_txt'] = df_subjectiv['preprocessed_txt'].apply(process_stop_word)"
   ]
  },
  {
   "cell_type": "markdown",
   "id": "85f4bbf2-39c6-4250-ae81-9f9095838c12",
   "metadata": {},
   "source": [
    "##### Transforming the preprocessed comments into a structured representation that captures the importance of terms within each comment using TF-IDF (Term Frequency-Inverse Document Frequency)."
   ]
  },
  {
   "cell_type": "code",
   "execution_count": 64,
   "id": "39891f4e-06bf-46b6-9e70-32c6f3773482",
   "metadata": {
    "tags": []
   },
   "outputs": [],
   "source": [
    "# TF-IDF vectorization\n",
    "vectorizer = TfidfVectorizer(max_df=0.95, min_df=2, max_features=1000, stop_words='english')\n",
    "# Apply TF-IDF vectorization to the preprocessed text\n",
    "dtm = vectorizer.fit_transform(df_subjectiv['preprocessed_txt'])"
   ]
  },
  {
   "cell_type": "code",
   "execution_count": 65,
   "id": "4a7afb0d-25a5-42f5-956f-fdf5cf8afb55",
   "metadata": {
    "tags": []
   },
   "outputs": [
    {
     "data": {
      "text/html": [
       "<style>#sk-container-id-5 {color: black;}#sk-container-id-5 pre{padding: 0;}#sk-container-id-5 div.sk-toggleable {background-color: white;}#sk-container-id-5 label.sk-toggleable__label {cursor: pointer;display: block;width: 100%;margin-bottom: 0;padding: 0.3em;box-sizing: border-box;text-align: center;}#sk-container-id-5 label.sk-toggleable__label-arrow:before {content: \"▸\";float: left;margin-right: 0.25em;color: #696969;}#sk-container-id-5 label.sk-toggleable__label-arrow:hover:before {color: black;}#sk-container-id-5 div.sk-estimator:hover label.sk-toggleable__label-arrow:before {color: black;}#sk-container-id-5 div.sk-toggleable__content {max-height: 0;max-width: 0;overflow: hidden;text-align: left;background-color: #f0f8ff;}#sk-container-id-5 div.sk-toggleable__content pre {margin: 0.2em;color: black;border-radius: 0.25em;background-color: #f0f8ff;}#sk-container-id-5 input.sk-toggleable__control:checked~div.sk-toggleable__content {max-height: 200px;max-width: 100%;overflow: auto;}#sk-container-id-5 input.sk-toggleable__control:checked~label.sk-toggleable__label-arrow:before {content: \"▾\";}#sk-container-id-5 div.sk-estimator input.sk-toggleable__control:checked~label.sk-toggleable__label {background-color: #d4ebff;}#sk-container-id-5 div.sk-label input.sk-toggleable__control:checked~label.sk-toggleable__label {background-color: #d4ebff;}#sk-container-id-5 input.sk-hidden--visually {border: 0;clip: rect(1px 1px 1px 1px);clip: rect(1px, 1px, 1px, 1px);height: 1px;margin: -1px;overflow: hidden;padding: 0;position: absolute;width: 1px;}#sk-container-id-5 div.sk-estimator {font-family: monospace;background-color: #f0f8ff;border: 1px dotted black;border-radius: 0.25em;box-sizing: border-box;margin-bottom: 0.5em;}#sk-container-id-5 div.sk-estimator:hover {background-color: #d4ebff;}#sk-container-id-5 div.sk-parallel-item::after {content: \"\";width: 100%;border-bottom: 1px solid gray;flex-grow: 1;}#sk-container-id-5 div.sk-label:hover label.sk-toggleable__label {background-color: #d4ebff;}#sk-container-id-5 div.sk-serial::before {content: \"\";position: absolute;border-left: 1px solid gray;box-sizing: border-box;top: 0;bottom: 0;left: 50%;z-index: 0;}#sk-container-id-5 div.sk-serial {display: flex;flex-direction: column;align-items: center;background-color: white;padding-right: 0.2em;padding-left: 0.2em;position: relative;}#sk-container-id-5 div.sk-item {position: relative;z-index: 1;}#sk-container-id-5 div.sk-parallel {display: flex;align-items: stretch;justify-content: center;background-color: white;position: relative;}#sk-container-id-5 div.sk-item::before, #sk-container-id-5 div.sk-parallel-item::before {content: \"\";position: absolute;border-left: 1px solid gray;box-sizing: border-box;top: 0;bottom: 0;left: 50%;z-index: -1;}#sk-container-id-5 div.sk-parallel-item {display: flex;flex-direction: column;z-index: 1;position: relative;background-color: white;}#sk-container-id-5 div.sk-parallel-item:first-child::after {align-self: flex-end;width: 50%;}#sk-container-id-5 div.sk-parallel-item:last-child::after {align-self: flex-start;width: 50%;}#sk-container-id-5 div.sk-parallel-item:only-child::after {width: 0;}#sk-container-id-5 div.sk-dashed-wrapped {border: 1px dashed gray;margin: 0 0.4em 0.5em 0.4em;box-sizing: border-box;padding-bottom: 0.4em;background-color: white;}#sk-container-id-5 div.sk-label label {font-family: monospace;font-weight: bold;display: inline-block;line-height: 1.2em;}#sk-container-id-5 div.sk-label-container {text-align: center;}#sk-container-id-5 div.sk-container {/* jupyter's `normalize.less` sets `[hidden] { display: none; }` but bootstrap.min.css set `[hidden] { display: none !important; }` so we also need the `!important` here to be able to override the default hidden behavior on the sphinx rendered scikit-learn.org. See: https://github.com/scikit-learn/scikit-learn/issues/21755 */display: inline-block !important;position: relative;}#sk-container-id-5 div.sk-text-repr-fallback {display: none;}</style><div id=\"sk-container-id-5\" class=\"sk-top-container\"><div class=\"sk-text-repr-fallback\"><pre>LatentDirichletAllocation(n_components=25, random_state=42)</pre><b>In a Jupyter environment, please rerun this cell to show the HTML representation or trust the notebook. <br />On GitHub, the HTML representation is unable to render, please try loading this page with nbviewer.org.</b></div><div class=\"sk-container\" hidden><div class=\"sk-item\"><div class=\"sk-estimator sk-toggleable\"><input class=\"sk-toggleable__control sk-hidden--visually\" id=\"sk-estimator-id-5\" type=\"checkbox\" checked><label for=\"sk-estimator-id-5\" class=\"sk-toggleable__label sk-toggleable__label-arrow\">LatentDirichletAllocation</label><div class=\"sk-toggleable__content\"><pre>LatentDirichletAllocation(n_components=25, random_state=42)</pre></div></div></div></div></div>"
      ],
      "text/plain": [
       "LatentDirichletAllocation(n_components=25, random_state=42)"
      ]
     },
     "execution_count": 65,
     "metadata": {},
     "output_type": "execute_result"
    }
   ],
   "source": [
    "# LDA model\n",
    "num_topics = 25 # Classify into n topics to visualize some positive or negative topics\n",
    "lda = LatentDirichletAllocation(n_components=num_topics, random_state=42)\n",
    "lda.fit(dtm)  # Fit the LDA model to the TF-IDF matrix"
   ]
  },
  {
   "cell_type": "code",
   "execution_count": 66,
   "id": "cbbb6546-c21d-4301-920f-13162bf97f8d",
   "metadata": {
    "tags": []
   },
   "outputs": [],
   "source": [
    "def print_top_words(model, vectorizer, n_words=10):\n",
    "    '''prints the 10 words that are the best of each topics'''\n",
    "    feature_names = vectorizer.get_feature_names_out()\n",
    "    for topic_idx, topic in enumerate(model.components_):\n",
    "        top_words_idx = topic.argsort()[:-n_words - 1:-1]\n",
    "        top_words = [feature_names[i] for i in top_words_idx]\n",
    "        print(f\"Topic #{topic_idx + 1}: {' | '.join(top_words)}\")"
   ]
  },
  {
   "cell_type": "code",
   "execution_count": 67,
   "id": "345559c7-ff5e-4d0a-9141-6e134b435c6d",
   "metadata": {
    "tags": []
   },
   "outputs": [
    {
     "name": "stdout",
     "output_type": "stream",
     "text": [
      "Topic #1: answer | question | good | support | weak | strongly | oppose | glad | worthy | attitude\n",
      "Topic #2: wrong | month | rfa | support | deserve | try | experience | good | oppose | think\n",
      "Topic #3: sorry | wikipedian | content | work | good | benefit | experience | support | afd | contribution\n",
      "Topic #4: sure | guy | choice | support | okay | wonderful | good | seriously | conom | brilliant\n",
      "Topic #5: nom | impressive | happy | support | friendly | big | deal | right | wow | time\n",
      "Topic #6: ok | rfa | oppose | support | soon | mean | account | admin | capable | previous\n",
      "Topic #7: oppose | support | good | admin | concern | rfa | love | comment | think | faith\n",
      "Topic #8: head | new | cheer | sense | level | admin | good | support | common | dispute\n",
      "Topic #9: reasonable | supportlook | obvious | good | wisely | support | constructive | man | place | use\n",
      "Topic #10: oppose | admin | deletion | support | think | article | delete | candidate | close | afd\n",
      "Topic #11: great | contributor | admin | support | editor | user | qualified | good | job | work\n",
      "Topic #12: look | excellent | good | candidate | absolutely | support | like | nominator | obviously | editor\n",
      "Topic #13: good | luck | editor | user | support | admin | work | problem | reason | contribution\n",
      "Topic #14: ready | yes | thoughtful | asset | support | calm | personal | editor | mature | knowledgeable\n",
      "Topic #15: nice | moral | major | support | concern | good | nomination | oppose | temperament | person\n",
      "Topic #16: article | vandalism | edit | page | admin | write | revert | user | work | support\n",
      "Topic #17: fine | strong | support | experience | need | oppose | admin | responsible | candidate | administrator\n",
      "Topic #18: certainly | mop | supporta | hard | say | outstanding | early | support | bucket | work\n",
      "Topic #19: trustworthy | experienced | long | active | competent | editor | support | user | good | tool\n",
      "Topic #20: policy | understanding | admin | knowledge | wikipedia | welcome | oppose | good | experience | support\n",
      "Topic #21: abuse | tool | unlikely | misuse | admin | user | good | support | reason | wo\n",
      "Topic #22: vandal | fighter | cool | record | track | good | admin | fight | fighting | support\n",
      "Topic #23: edit | experience | summary | low | count | mainspace | month | space | lack | wikipedia\n",
      "Topic #24: positive | net | interaction | meet | sound | good | support | supportgood | perfect | late\n",
      "Topic #25: definitely | supporti | image | impress | support | helpful | convincing | flag | red | admin\n"
     ]
    }
   ],
   "source": [
    "print_top_words(lda, vectorizer)"
   ]
  },
  {
   "cell_type": "markdown",
   "id": "29c00812-3133-480f-88a6-9809916ba0e1",
   "metadata": {},
   "source": [
    "We can now generate a topic number for all the comments in the dataframe:"
   ]
  },
  {
   "cell_type": "code",
   "execution_count": 68,
   "id": "68dfea21-6a06-4bfc-a8df-f8917499e2c9",
   "metadata": {
    "tags": []
   },
   "outputs": [
    {
     "name": "stderr",
     "output_type": "stream",
     "text": [
      "C:\\Users\\liand\\AppData\\Local\\Temp\\ipykernel_9800\\4101988350.py:3: SettingWithCopyWarning: \n",
      "A value is trying to be set on a copy of a slice from a DataFrame.\n",
      "Try using .loc[row_indexer,col_indexer] = value instead\n",
      "\n",
      "See the caveats in the documentation: https://pandas.pydata.org/pandas-docs/stable/user_guide/indexing.html#returning-a-view-versus-a-copy\n",
      "  df_subjectiv['Topic'] = df_subjectiv.index.map(lambda i: lda.transform(dtm[i]).argmax())\n"
     ]
    },
    {
     "data": {
      "text/html": [
       "<div>\n",
       "<style scoped>\n",
       "    .dataframe tbody tr th:only-of-type {\n",
       "        vertical-align: middle;\n",
       "    }\n",
       "\n",
       "    .dataframe tbody tr th {\n",
       "        vertical-align: top;\n",
       "    }\n",
       "\n",
       "    .dataframe thead th {\n",
       "        text-align: right;\n",
       "    }\n",
       "</style>\n",
       "<table border=\"1\" class=\"dataframe\">\n",
       "  <thead>\n",
       "    <tr style=\"text-align: right;\">\n",
       "      <th></th>\n",
       "      <th>SRC</th>\n",
       "      <th>TGT</th>\n",
       "      <th>VOT</th>\n",
       "      <th>RES</th>\n",
       "      <th>YEA</th>\n",
       "      <th>DAT</th>\n",
       "      <th>TXT</th>\n",
       "      <th>ELECTION_ID</th>\n",
       "      <th>CLE</th>\n",
       "      <th>polarity</th>\n",
       "      <th>subjectivity</th>\n",
       "      <th>preprocessed_txt</th>\n",
       "      <th>Topic</th>\n",
       "    </tr>\n",
       "  </thead>\n",
       "  <tbody>\n",
       "    <tr>\n",
       "      <th>0</th>\n",
       "      <td>Cncmaster</td>\n",
       "      <td>BDD</td>\n",
       "      <td>1</td>\n",
       "      <td>1</td>\n",
       "      <td>2013</td>\n",
       "      <td>2013-04-20 00:11:00</td>\n",
       "      <td>'''Support''' per noms. BDD is a strong contri...</td>\n",
       "      <td>1</td>\n",
       "      <td>per noms. bdd is a strong contributor with tho...</td>\n",
       "      <td>0.341667</td>\n",
       "      <td>0.491667</td>\n",
       "      <td>nom bdd strong contributor thousand edit year ...</td>\n",
       "      <td>22</td>\n",
       "    </tr>\n",
       "    <tr>\n",
       "      <th>1</th>\n",
       "      <td>Miniapolis</td>\n",
       "      <td>BDD</td>\n",
       "      <td>1</td>\n",
       "      <td>1</td>\n",
       "      <td>2013</td>\n",
       "      <td>2013-04-20 00:56:00</td>\n",
       "      <td>'''Support''', with great pleasure. I work wit...</td>\n",
       "      <td>1</td>\n",
       "      <td>with great pleasure. i work with bdd at the wh...</td>\n",
       "      <td>0.638889</td>\n",
       "      <td>0.616667</td>\n",
       "      <td>great pleasure work bdd coordinator see good w...</td>\n",
       "      <td>12</td>\n",
       "    </tr>\n",
       "    <tr>\n",
       "      <th>2</th>\n",
       "      <td>Sven Manguard</td>\n",
       "      <td>BDD</td>\n",
       "      <td>1</td>\n",
       "      <td>1</td>\n",
       "      <td>2013</td>\n",
       "      <td>2013-04-20 01:53:00</td>\n",
       "      <td>'''Support''' There are plenty of important ro...</td>\n",
       "      <td>1</td>\n",
       "      <td>there are plenty of important roles on this pr...</td>\n",
       "      <td>0.375000</td>\n",
       "      <td>0.775000</td>\n",
       "      <td>plenty important role project content creator ...</td>\n",
       "      <td>19</td>\n",
       "    </tr>\n",
       "    <tr>\n",
       "      <th>3</th>\n",
       "      <td>RockMagnetist</td>\n",
       "      <td>BDD</td>\n",
       "      <td>1</td>\n",
       "      <td>1</td>\n",
       "      <td>2013</td>\n",
       "      <td>2013-04-20 02:18:00</td>\n",
       "      <td>'''Support'''  BDD already wields a broom pret...</td>\n",
       "      <td>1</td>\n",
       "      <td>bdd already wields a broom pretty well so why ...</td>\n",
       "      <td>0.095556</td>\n",
       "      <td>0.502963</td>\n",
       "      <td>bdd wield broom pretty formalize concerned lac...</td>\n",
       "      <td>22</td>\n",
       "    </tr>\n",
       "    <tr>\n",
       "      <th>4</th>\n",
       "      <td>Carrite</td>\n",
       "      <td>BDD</td>\n",
       "      <td>1</td>\n",
       "      <td>1</td>\n",
       "      <td>2013</td>\n",
       "      <td>2013-04-20 02:22:00</td>\n",
       "      <td>'''Support''' barring a completely unexpected ...</td>\n",
       "      <td>1</td>\n",
       "      <td>barring a completely unexpected answer to prof...</td>\n",
       "      <td>0.333214</td>\n",
       "      <td>0.529048</td>\n",
       "      <td>bar completely unexpected answer proforma ques...</td>\n",
       "      <td>15</td>\n",
       "    </tr>\n",
       "  </tbody>\n",
       "</table>\n",
       "</div>"
      ],
      "text/plain": [
       "             SRC  TGT  VOT  RES   YEA                 DAT  \\\n",
       "0      Cncmaster  BDD    1    1  2013 2013-04-20 00:11:00   \n",
       "1     Miniapolis  BDD    1    1  2013 2013-04-20 00:56:00   \n",
       "2  Sven Manguard  BDD    1    1  2013 2013-04-20 01:53:00   \n",
       "3  RockMagnetist  BDD    1    1  2013 2013-04-20 02:18:00   \n",
       "4        Carrite  BDD    1    1  2013 2013-04-20 02:22:00   \n",
       "\n",
       "                                                 TXT  ELECTION_ID  \\\n",
       "0  '''Support''' per noms. BDD is a strong contri...            1   \n",
       "1  '''Support''', with great pleasure. I work wit...            1   \n",
       "2  '''Support''' There are plenty of important ro...            1   \n",
       "3  '''Support'''  BDD already wields a broom pret...            1   \n",
       "4  '''Support''' barring a completely unexpected ...            1   \n",
       "\n",
       "                                                 CLE  polarity  subjectivity  \\\n",
       "0  per noms. bdd is a strong contributor with tho...  0.341667      0.491667   \n",
       "1  with great pleasure. i work with bdd at the wh...  0.638889      0.616667   \n",
       "2  there are plenty of important roles on this pr...  0.375000      0.775000   \n",
       "3  bdd already wields a broom pretty well so why ...  0.095556      0.502963   \n",
       "4  barring a completely unexpected answer to prof...  0.333214      0.529048   \n",
       "\n",
       "                                    preprocessed_txt  Topic  \n",
       "0  nom bdd strong contributor thousand edit year ...     22  \n",
       "1  great pleasure work bdd coordinator see good w...     12  \n",
       "2  plenty important role project content creator ...     19  \n",
       "3  bdd wield broom pretty formalize concerned lac...     22  \n",
       "4  bar completely unexpected answer proforma ques...     15  "
      ]
     },
     "execution_count": 68,
     "metadata": {},
     "output_type": "execute_result"
    }
   ],
   "source": [
    "# Add a column with the number of the topic for each comment\n",
    "df_subjectiv.reset_index(drop=True, inplace=True)\n",
    "df_subjectiv['Topic'] = df_subjectiv.index.map(lambda i: lda.transform(dtm[i]).argmax())\n",
    "df_subjectiv.head()"
   ]
  },
  {
   "cell_type": "markdown",
   "id": "64e24c1f-2542-4dcd-8afd-e19074bd1d66",
   "metadata": {
    "tags": []
   },
   "source": [
    "We can visualize the polarity of each topics :"
   ]
  },
  {
   "cell_type": "code",
   "execution_count": 69,
   "id": "f32eae93-085f-4325-b994-50249af6c1cf",
   "metadata": {
    "tags": []
   },
   "outputs": [
    {
     "name": "stderr",
     "output_type": "stream",
     "text": [
      "C:\\Users\\liand\\anaconda3\\envs\\ada\\lib\\site-packages\\seaborn\\axisgrid.py:118: UserWarning: The figure layout has changed to tight\n",
      "  self._figure.tight_layout(*args, **kwargs)\n"
     ]
    },
    {
     "data": {
      "text/plain": [
       "Text(0.5, 0.98, 'Polarity of Different Topics')"
      ]
     },
     "execution_count": 69,
     "metadata": {},
     "output_type": "execute_result"
    },
    {
     "data": {
      "image/png": "[encoded data removed]",
      "text/plain": [
       "<Figure size 800x400 with 1 Axes>"
      ]
     },
     "metadata": {},
     "output_type": "display_data"
    }
   ],
   "source": [
    "plot = sns.catplot(x='Topic', y='polarity', kind=\"box\", data=df_subjectiv, errorbar='sd', height=4, aspect=2)\n",
    "plot.fig.suptitle('Polarity of Different Topics')"
   ]
  },
  {
   "cell_type": "markdown",
   "id": "41bca5c0-c9dd-4840-8580-58efe236eb20",
   "metadata": {},
   "source": [
    "By examining this plot, it becomes evident that topics 10-11-12 exhibits a higher polarity compared to the others. To delve deeper into the positive comments within this topic, we can inspect the list of prevalent words. Notable keywords include:\n",
    "- positive\n",
    "- interaction\n",
    "- experienced\n",
    "- helpful\n",
    "- friendly\n",
    "\n",
    "After reflection, we anticipate uncovering more insights by filtering comments exclusively for positive or negative sentiments."
   ]
  },
  {
   "cell_type": "markdown",
   "id": "58ebdde5-f51c-4562-b2a2-69fb8c59e208",
   "metadata": {
    "tags": []
   },
   "source": [
    "## Repeat the same with the positive/negative comments"
   ]
  },
  {
   "cell_type": "markdown",
   "id": "0384724f-68ac-46f9-8e66-5164244fd28d",
   "metadata": {},
   "source": [
    "In this part, we are gonna use only the subjective comments with a polarity greater than 0,5. The goal is to extract the topics and keywords to gives us an idea of the positive comments."
   ]
  },
  {
   "cell_type": "code",
   "execution_count": 54,
   "id": "afd6e1f0-8065-4242-82ac-3d200775b5d4",
   "metadata": {
    "tags": []
   },
   "outputs": [
    {
     "data": {
      "text/html": [
       "<style>#sk-container-id-2 {color: black;}#sk-container-id-2 pre{padding: 0;}#sk-container-id-2 div.sk-toggleable {background-color: white;}#sk-container-id-2 label.sk-toggleable__label {cursor: pointer;display: block;width: 100%;margin-bottom: 0;padding: 0.3em;box-sizing: border-box;text-align: center;}#sk-container-id-2 label.sk-toggleable__label-arrow:before {content: \"▸\";float: left;margin-right: 0.25em;color: #696969;}#sk-container-id-2 label.sk-toggleable__label-arrow:hover:before {color: black;}#sk-container-id-2 div.sk-estimator:hover label.sk-toggleable__label-arrow:before {color: black;}#sk-container-id-2 div.sk-toggleable__content {max-height: 0;max-width: 0;overflow: hidden;text-align: left;background-color: #f0f8ff;}#sk-container-id-2 div.sk-toggleable__content pre {margin: 0.2em;color: black;border-radius: 0.25em;background-color: #f0f8ff;}#sk-container-id-2 input.sk-toggleable__control:checked~div.sk-toggleable__content {max-height: 200px;max-width: 100%;overflow: auto;}#sk-container-id-2 input.sk-toggleable__control:checked~label.sk-toggleable__label-arrow:before {content: \"▾\";}#sk-container-id-2 div.sk-estimator input.sk-toggleable__control:checked~label.sk-toggleable__label {background-color: #d4ebff;}#sk-container-id-2 div.sk-label input.sk-toggleable__control:checked~label.sk-toggleable__label {background-color: #d4ebff;}#sk-container-id-2 input.sk-hidden--visually {border: 0;clip: rect(1px 1px 1px 1px);clip: rect(1px, 1px, 1px, 1px);height: 1px;margin: -1px;overflow: hidden;padding: 0;position: absolute;width: 1px;}#sk-container-id-2 div.sk-estimator {font-family: monospace;background-color: #f0f8ff;border: 1px dotted black;border-radius: 0.25em;box-sizing: border-box;margin-bottom: 0.5em;}#sk-container-id-2 div.sk-estimator:hover {background-color: #d4ebff;}#sk-container-id-2 div.sk-parallel-item::after {content: \"\";width: 100%;border-bottom: 1px solid gray;flex-grow: 1;}#sk-container-id-2 div.sk-label:hover label.sk-toggleable__label {background-color: #d4ebff;}#sk-container-id-2 div.sk-serial::before {content: \"\";position: absolute;border-left: 1px solid gray;box-sizing: border-box;top: 0;bottom: 0;left: 50%;z-index: 0;}#sk-container-id-2 div.sk-serial {display: flex;flex-direction: column;align-items: center;background-color: white;padding-right: 0.2em;padding-left: 0.2em;position: relative;}#sk-container-id-2 div.sk-item {position: relative;z-index: 1;}#sk-container-id-2 div.sk-parallel {display: flex;align-items: stretch;justify-content: center;background-color: white;position: relative;}#sk-container-id-2 div.sk-item::before, #sk-container-id-2 div.sk-parallel-item::before {content: \"\";position: absolute;border-left: 1px solid gray;box-sizing: border-box;top: 0;bottom: 0;left: 50%;z-index: -1;}#sk-container-id-2 div.sk-parallel-item {display: flex;flex-direction: column;z-index: 1;position: relative;background-color: white;}#sk-container-id-2 div.sk-parallel-item:first-child::after {align-self: flex-end;width: 50%;}#sk-container-id-2 div.sk-parallel-item:last-child::after {align-self: flex-start;width: 50%;}#sk-container-id-2 div.sk-parallel-item:only-child::after {width: 0;}#sk-container-id-2 div.sk-dashed-wrapped {border: 1px dashed gray;margin: 0 0.4em 0.5em 0.4em;box-sizing: border-box;padding-bottom: 0.4em;background-color: white;}#sk-container-id-2 div.sk-label label {font-family: monospace;font-weight: bold;display: inline-block;line-height: 1.2em;}#sk-container-id-2 div.sk-label-container {text-align: center;}#sk-container-id-2 div.sk-container {/* jupyter's `normalize.less` sets `[hidden] { display: none; }` but bootstrap.min.css set `[hidden] { display: none !important; }` so we also need the `!important` here to be able to override the default hidden behavior on the sphinx rendered scikit-learn.org. See: https://github.com/scikit-learn/scikit-learn/issues/21755 */display: inline-block !important;position: relative;}#sk-container-id-2 div.sk-text-repr-fallback {display: none;}</style><div id=\"sk-container-id-2\" class=\"sk-top-container\"><div class=\"sk-text-repr-fallback\"><pre>LatentDirichletAllocation(n_components=20, random_state=42)</pre><b>In a Jupyter environment, please rerun this cell to show the HTML representation or trust the notebook. <br />On GitHub, the HTML representation is unable to render, please try loading this page with nbviewer.org.</b></div><div class=\"sk-container\" hidden><div class=\"sk-item\"><div class=\"sk-estimator sk-toggleable\"><input class=\"sk-toggleable__control sk-hidden--visually\" id=\"sk-estimator-id-2\" type=\"checkbox\" checked><label for=\"sk-estimator-id-2\" class=\"sk-toggleable__label sk-toggleable__label-arrow\">LatentDirichletAllocation</label><div class=\"sk-toggleable__content\"><pre>LatentDirichletAllocation(n_components=20, random_state=42)</pre></div></div></div></div></div>"
      ],
      "text/plain": [
       "LatentDirichletAllocation(n_components=20, random_state=42)"
      ]
     },
     "execution_count": 54,
     "metadata": {},
     "output_type": "execute_result"
    }
   ],
   "source": [
    "# TF-IDF vectorization\n",
    "vectorizer = TfidfVectorizer(max_df=0.95, min_df=2, max_features=1000, stop_words='english')\n",
    "# Apply TF-IDF vectorization to the preprocessed text\n",
    "dtm = vectorizer.fit_transform(df_subjectiv[df_subjectiv['polarity'] > 0.5]['preprocessed_txt'])\n",
    "\n",
    "# LDA model\n",
    "num_topics = 20 #separation in 20 topics to visualize some positive or negative topics\n",
    "lda = LatentDirichletAllocation(n_components=num_topics, random_state=42)\n",
    "lda.fit(dtm)  # Fit the LDA model to the TF-IDF matrix"
   ]
  },
  {
   "cell_type": "code",
   "execution_count": 55,
   "id": "c1c80135-c961-433c-a61e-074b3b2061d9",
   "metadata": {
    "tags": []
   },
   "outputs": [
    {
     "name": "stdout",
     "output_type": "stream",
     "text": [
      "Topic #1: luck | good | vandal | supportlook | fighter | support | vandalism | revert | great | mop\n",
      "Topic #2: job | experience | good | great | area | benefit | project | support | admin | wikipedia\n",
      "Topic #3: sound | deserve | good | addition | support | editor | superb | admin | great | dedicated\n",
      "Topic #4: admin | great | good | editor | support | think | excellent | strong | sure | user\n",
      "Topic #5: nom | contribution | good | support | head | great | excellent | admin | material | judgement\n",
      "Topic #6: fine | record | track | perfect | good | clueful | support | admin | attitude | judgment\n",
      "Topic #7: answer | question | good | edit | support | contribution | excellent | great | summary | like\n",
      "Topic #8: guy | nice | choice | awesome | good | support | wikipedia | helpful | talk | page\n",
      "Topic #9: use | tool | mop | good | wisely | appear | editor | time | user | admin\n",
      "Topic #10: look | good | support | like | meet | great | brilliant | criterion | welcome | happily\n",
      "Topic #11: impressed | contrib | good | sysop | honest | support | know | wo | user | username\n",
      "Topic #12: contributor | excellent | good | great | nominator | support | course | admin | article | reservation\n",
      "Topic #13: policy | good | yes | understanding | knowledge | thing | support | admin | excellent | say\n",
      "Topic #14: impressive | wikipedian | person | concern | good | great | support | work | editor | admin\n",
      "Topic #15: administrator | nomination | friendly | good | great | support | excellent | sensible | enthusiastic | user\n",
      "Topic #16: oppose | reason | good | support | neutral | vote | point | user | admin | definitely\n",
      "Topic #17: editor | user | good | great | experienced | support | excellent | tool | trust | trustworthy\n",
      "Topic #18: happy | support | good | asset | stuff | supportseem | great | cheer | history | work\n",
      "Topic #19: work | problem | good | support | lot | luck | dyk | great | editor | excellent\n",
      "Topic #20: candidate | good | like | excellent | great | support | interaction | admin | ideal | adminship\n"
     ]
    }
   ],
   "source": [
    "print_top_words(lda, vectorizer)"
   ]
  },
  {
   "cell_type": "markdown",
   "id": "42466063-1af4-42c3-b0a3-f6b2007a413b",
   "metadata": {
    "tags": []
   },
   "source": [
    "Some other interesting positive words :\n",
    "- trustworthy\n",
    "- contribution\n",
    "- experience\n",
    "- asset\n",
    "- friendly\n",
    "- work\n",
    "- project \n",
    "- fighter \n",
    "- helpful \n",
    "- ...\n",
    "\n",
    "These terms serve as valuable criterias to the acceptance of a person."
   ]
  },
  {
   "cell_type": "markdown",
   "id": "ed368d6b-3160-471f-b856-4e57749839df",
   "metadata": {},
   "source": [
    "Then with the negative comments, with polarity smaller than -0,5."
   ]
  },
  {
   "cell_type": "code",
   "execution_count": 56,
   "id": "1d6c4593-838a-46cc-ac98-219f6163f7ab",
   "metadata": {
    "tags": []
   },
   "outputs": [
    {
     "data": {
      "text/html": [
       "<style>#sk-container-id-3 {color: black;}#sk-container-id-3 pre{padding: 0;}#sk-container-id-3 div.sk-toggleable {background-color: white;}#sk-container-id-3 label.sk-toggleable__label {cursor: pointer;display: block;width: 100%;margin-bottom: 0;padding: 0.3em;box-sizing: border-box;text-align: center;}#sk-container-id-3 label.sk-toggleable__label-arrow:before {content: \"▸\";float: left;margin-right: 0.25em;color: #696969;}#sk-container-id-3 label.sk-toggleable__label-arrow:hover:before {color: black;}#sk-container-id-3 div.sk-estimator:hover label.sk-toggleable__label-arrow:before {color: black;}#sk-container-id-3 div.sk-toggleable__content {max-height: 0;max-width: 0;overflow: hidden;text-align: left;background-color: #f0f8ff;}#sk-container-id-3 div.sk-toggleable__content pre {margin: 0.2em;color: black;border-radius: 0.25em;background-color: #f0f8ff;}#sk-container-id-3 input.sk-toggleable__control:checked~div.sk-toggleable__content {max-height: 200px;max-width: 100%;overflow: auto;}#sk-container-id-3 input.sk-toggleable__control:checked~label.sk-toggleable__label-arrow:before {content: \"▾\";}#sk-container-id-3 div.sk-estimator input.sk-toggleable__control:checked~label.sk-toggleable__label {background-color: #d4ebff;}#sk-container-id-3 div.sk-label input.sk-toggleable__control:checked~label.sk-toggleable__label {background-color: #d4ebff;}#sk-container-id-3 input.sk-hidden--visually {border: 0;clip: rect(1px 1px 1px 1px);clip: rect(1px, 1px, 1px, 1px);height: 1px;margin: -1px;overflow: hidden;padding: 0;position: absolute;width: 1px;}#sk-container-id-3 div.sk-estimator {font-family: monospace;background-color: #f0f8ff;border: 1px dotted black;border-radius: 0.25em;box-sizing: border-box;margin-bottom: 0.5em;}#sk-container-id-3 div.sk-estimator:hover {background-color: #d4ebff;}#sk-container-id-3 div.sk-parallel-item::after {content: \"\";width: 100%;border-bottom: 1px solid gray;flex-grow: 1;}#sk-container-id-3 div.sk-label:hover label.sk-toggleable__label {background-color: #d4ebff;}#sk-container-id-3 div.sk-serial::before {content: \"\";position: absolute;border-left: 1px solid gray;box-sizing: border-box;top: 0;bottom: 0;left: 50%;z-index: 0;}#sk-container-id-3 div.sk-serial {display: flex;flex-direction: column;align-items: center;background-color: white;padding-right: 0.2em;padding-left: 0.2em;position: relative;}#sk-container-id-3 div.sk-item {position: relative;z-index: 1;}#sk-container-id-3 div.sk-parallel {display: flex;align-items: stretch;justify-content: center;background-color: white;position: relative;}#sk-container-id-3 div.sk-item::before, #sk-container-id-3 div.sk-parallel-item::before {content: \"\";position: absolute;border-left: 1px solid gray;box-sizing: border-box;top: 0;bottom: 0;left: 50%;z-index: -1;}#sk-container-id-3 div.sk-parallel-item {display: flex;flex-direction: column;z-index: 1;position: relative;background-color: white;}#sk-container-id-3 div.sk-parallel-item:first-child::after {align-self: flex-end;width: 50%;}#sk-container-id-3 div.sk-parallel-item:last-child::after {align-self: flex-start;width: 50%;}#sk-container-id-3 div.sk-parallel-item:only-child::after {width: 0;}#sk-container-id-3 div.sk-dashed-wrapped {border: 1px dashed gray;margin: 0 0.4em 0.5em 0.4em;box-sizing: border-box;padding-bottom: 0.4em;background-color: white;}#sk-container-id-3 div.sk-label label {font-family: monospace;font-weight: bold;display: inline-block;line-height: 1.2em;}#sk-container-id-3 div.sk-label-container {text-align: center;}#sk-container-id-3 div.sk-container {/* jupyter's `normalize.less` sets `[hidden] { display: none; }` but bootstrap.min.css set `[hidden] { display: none !important; }` so we also need the `!important` here to be able to override the default hidden behavior on the sphinx rendered scikit-learn.org. See: https://github.com/scikit-learn/scikit-learn/issues/21755 */display: inline-block !important;position: relative;}#sk-container-id-3 div.sk-text-repr-fallback {display: none;}</style><div id=\"sk-container-id-3\" class=\"sk-top-container\"><div class=\"sk-text-repr-fallback\"><pre>LatentDirichletAllocation(n_components=20, random_state=42)</pre><b>In a Jupyter environment, please rerun this cell to show the HTML representation or trust the notebook. <br />On GitHub, the HTML representation is unable to render, please try loading this page with nbviewer.org.</b></div><div class=\"sk-container\" hidden><div class=\"sk-item\"><div class=\"sk-estimator sk-toggleable\"><input class=\"sk-toggleable__control sk-hidden--visually\" id=\"sk-estimator-id-3\" type=\"checkbox\" checked><label for=\"sk-estimator-id-3\" class=\"sk-toggleable__label sk-toggleable__label-arrow\">LatentDirichletAllocation</label><div class=\"sk-toggleable__content\"><pre>LatentDirichletAllocation(n_components=20, random_state=42)</pre></div></div></div></div></div>"
      ],
      "text/plain": [
       "LatentDirichletAllocation(n_components=20, random_state=42)"
      ]
     },
     "execution_count": 56,
     "metadata": {},
     "output_type": "execute_result"
    }
   ],
   "source": [
    "# TF-IDF vectorization\n",
    "vectorizer = TfidfVectorizer(max_df=0.95, min_df=2, max_features=1000, stop_words='english')\n",
    "# Apply TF-IDF vectorization to the preprocessed text\n",
    "dtm = vectorizer.fit_transform(df_subjectiv[df_subjectiv['polarity'] < 0]['preprocessed_txt'])\n",
    "\n",
    "# LDA model\n",
    "num_topics = 20 #separation in 20 topics to visualize some positive or negative topics\n",
    "lda = LatentDirichletAllocation(n_components=num_topics, random_state=42)\n",
    "lda.fit(dtm)  # Fit the LDA model to the TF-IDF matrix"
   ]
  },
  {
   "cell_type": "code",
   "execution_count": 57,
   "id": "9b2dddc8-010e-43d6-b0c7-f570df0224e7",
   "metadata": {
    "tags": []
   },
   "outputs": [
    {
     "name": "stdout",
     "output_type": "stream",
     "text": [
      "Topic #1: major | concern | vandal | block | positive | problem | user | log | personal | net\n",
      "Topic #2: real | oppose | support | feeling | inexperience | reason | userbox | queue | obvious | pointless\n",
      "Topic #3: sorry | oppose | experience | ridiculous | hate | support | concern | new | edit | random\n",
      "Topic #4: sure | overdue | long | deal | big | supporti | support | reason | stupid | admin\n",
      "Topic #5: article | afd | oppose | delete | candidate | close | admin | support | deletion | rfa\n",
      "Topic #6: page | signature | username | edit | talk | pile | user | oppose | odd | support\n",
      "Topic #7: answer | question | good | oppose | bad | reason | support | sorry | admin | vague\n",
      "Topic #8: fail | oppose | poor | rfa | careful | support | silly | user | uncivil | unnecessary\n",
      "Topic #9: edit | experience | lack | little | low | mainspace | count | article | area | oppose\n",
      "Topic #10: opposeper | comfortable | evil | oppose | admin | candidate | english | terrible | weird | time\n",
      "Topic #11: abuse | unlikely | tool | wrong | admin | active | user | misuse | support | trustworthy\n",
      "Topic #12: absolutely | criterion | soon | meet | support | early | nominate | sorry | fail | edit\n",
      "Topic #13: edit | summary | suggest | experience | withdraw | month | wiki | sorry | usage | thank\n",
      "Topic #14: policy | ready | knowledge | understanding | answer | admin | question | candidate | oppose | lack\n",
      "Topic #15: long | time | month | ago | support | inexperienced | wait | sorry | moral | oppose\n",
      "Topic #16: support | admin | oppose | people | crazy | certainly | think | past | mistake | deserve\n",
      "Topic #17: weak | support | oppose | extreme | concern | raise | reason | nominator | neutral | lean\n",
      "Topic #18: mean | duh | seriously | common | sense | support | joke | csd | oh | think\n",
      "Topic #19: hard | work | negative | support | past | interaction | oppose | nominee | user | apparent\n",
      "Topic #20: late | support | bot | admin | task | help | need | uncomfortable | vandalism | backlog\n"
     ]
    }
   ],
   "source": [
    "print_top_words(lda, vectorizer)"
   ]
  },
  {
   "cell_type": "markdown",
   "id": "6e2d6be2-c919-404d-a6c1-5e02a8695b6b",
   "metadata": {},
   "source": [
    "From this word list, we can infer certain criteria indicative of non-acceptance:\n",
    "- uncivil\n",
    "- stupid\n",
    "- immature\n",
    "- overdue \n",
    "- silly \n",
    "- inexperienced  \n"
   ]
  },
  {
   "cell_type": "markdown",
   "id": "82af941a-5aa8-4e20-a9f2-1d7c37f246bf",
   "metadata": {
    "tags": []
   },
   "source": [
    "## Which words are most frequently utilized in the comments?"
   ]
  },
  {
   "cell_type": "code",
   "execution_count": 58,
   "id": "6e38cff3-9776-40df-a359-07dfd3a2f62e",
   "metadata": {
    "tags": []
   },
   "outputs": [
    {
     "name": "stdout",
     "output_type": "stream",
     "text": [
      "Most common words in all the comments : \n",
      " [('good', 44827), ('support', 41769), ('admin', 35116), ('edit', 26420), ('user', 24785), ('oppose', 23884), ('editor', 22025), ('candidate', 18308), ('work', 18066), ('think', 17112), ('tool', 16240), ('experience', 16122), ('like', 15094), ('answer', 14354), ('time', 14308), ('article', 13735), ('need', 13342), ('rfa', 12845), ('great', 12413), ('question', 12133)] \n",
      "\n",
      "Most common words the positive comments : \n",
      " [('good', 18123), ('support', 7265), ('great', 5935), ('admin', 5397), ('editor', 4859), ('user', 4234), ('excellent', 3784), ('candidate', 3092), ('work', 2935), ('look', 2746), ('answer', 2312), ('like', 2079), ('tool', 2068), ('luck', 1921), ('edit', 1703), ('question', 1576), ('contribution', 1566), ('see', 1560), ('think', 1475), ('experience', 1441)] \n",
      "\n",
      "Most common words the negative comments : \n",
      " [('bad', 170), ('support', 122), ('oppose', 100), ('admin', 89), ('hate', 51), ('user', 47), ('think', 43), ('tool', 41), ('reason', 40), ('like', 36), ('need', 35), ('answer', 35), ('edit', 34), ('candidate', 32), ('rfa', 31), ('vote', 26), ('afraid', 26), ('question', 25), ('see', 25), ('uncivil', 22)] \n",
      "\n"
     ]
    }
   ],
   "source": [
    "all_text = ' '.join(df_subjectiv['preprocessed_txt'].astype(str))\n",
    "all_text_p = ' '.join(df_subjectiv[df_subjectiv['polarity'] > 0.5]['preprocessed_txt'].astype(str))\n",
    "all_text_n = ' '.join(df_subjectiv[df_subjectiv['polarity'] < -0.5]['preprocessed_txt'].astype(str))\n",
    "\n",
    "# Tokenize the text into words\n",
    "words = re.findall(r'\\b\\w+\\b', all_text.lower())\n",
    "words_p = re.findall(r'\\b\\w+\\b', all_text_p.lower())\n",
    "words_n = re.findall(r'\\b\\w+\\b', all_text_n.lower())\n",
    "\n",
    "\n",
    "# count occurrences of each word\n",
    "word_counts = Counter(words)\n",
    "word_counts_p = Counter(words_p)\n",
    "word_counts_n = Counter(words_n)\n",
    "\n",
    "# Print the most common words and their counts for all/positive/negative comments\n",
    "print('Most common words in all the comments : \\n', word_counts.most_common(20),'\\n')\n",
    "print('Most common words the positive comments : \\n', word_counts_p.most_common(20),'\\n')\n",
    "print('Most common words the negative comments : \\n', word_counts_n.most_common(20),'\\n')"
   ]
  }
 ],
 "metadata": {
  "kernelspec": {
   "display_name": "Python [conda env:ada] *",
   "language": "python",
   "name": "conda-env-ada-py"
  },
  "language_info": {
   "codemirror_mode": {
    "name": "ipython",
    "version": 3
   },
   "file_extension": ".py",
   "mimetype": "text/x-python",
   "name": "python",
   "nbconvert_exporter": "python",
   "pygments_lexer": "ipython3",
   "version": "3.9.18"
  }
 },
 "nbformat": 4,
 "nbformat_minor": 5
}
