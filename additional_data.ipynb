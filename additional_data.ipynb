{
 "cells": [
  {
   "cell_type": "markdown",
   "metadata": {},
   "source": [
    "### Imports"
   ]
  },
  {
   "cell_type": "code",
   "execution_count": 1,
   "metadata": {},
   "outputs": [
    {
     "name": "stderr",
     "output_type": "stream",
     "text": [
      "C:\\Users\\chris\\Anaconda3\\lib\\site-packages\\sklearn\\feature_extraction\\image.py:167: DeprecationWarning: `np.int` is a deprecated alias for the builtin `int`. To silence this warning, use `int` by itself. Doing this will not modify any behavior and is safe. When replacing `np.int`, you may wish to use e.g. `np.int64` or `np.int32` to specify the precision. If you wish to review your current use, check the release note link for additional information.\n",
      "Deprecated in NumPy 1.20; for more details and guidance: https://numpy.org/devdocs/release/1.20.0-notes.html#deprecations\n",
      "  dtype=np.int):\n",
      "C:\\Users\\chris\\Anaconda3\\lib\\site-packages\\sklearn\\linear_model\\least_angle.py:30: DeprecationWarning: `np.float` is a deprecated alias for the builtin `float`. To silence this warning, use `float` by itself. Doing this will not modify any behavior and is safe. If you specifically wanted the numpy scalar type, use `np.float64` here.\n",
      "Deprecated in NumPy 1.20; for more details and guidance: https://numpy.org/devdocs/release/1.20.0-notes.html#deprecations\n",
      "  method='lar', copy_X=True, eps=np.finfo(np.float).eps,\n",
      "C:\\Users\\chris\\Anaconda3\\lib\\site-packages\\sklearn\\linear_model\\least_angle.py:167: DeprecationWarning: `np.float` is a deprecated alias for the builtin `float`. To silence this warning, use `float` by itself. Doing this will not modify any behavior and is safe. If you specifically wanted the numpy scalar type, use `np.float64` here.\n",
      "Deprecated in NumPy 1.20; for more details and guidance: https://numpy.org/devdocs/release/1.20.0-notes.html#deprecations\n",
      "  method='lar', copy_X=True, eps=np.finfo(np.float).eps,\n",
      "C:\\Users\\chris\\Anaconda3\\lib\\site-packages\\sklearn\\linear_model\\least_angle.py:284: DeprecationWarning: `np.float` is a deprecated alias for the builtin `float`. To silence this warning, use `float` by itself. Doing this will not modify any behavior and is safe. If you specifically wanted the numpy scalar type, use `np.float64` here.\n",
      "Deprecated in NumPy 1.20; for more details and guidance: https://numpy.org/devdocs/release/1.20.0-notes.html#deprecations\n",
      "  eps=np.finfo(np.float).eps, copy_Gram=True, verbose=0,\n",
      "C:\\Users\\chris\\Anaconda3\\lib\\site-packages\\sklearn\\linear_model\\least_angle.py:862: DeprecationWarning: `np.float` is a deprecated alias for the builtin `float`. To silence this warning, use `float` by itself. Doing this will not modify any behavior and is safe. If you specifically wanted the numpy scalar type, use `np.float64` here.\n",
      "Deprecated in NumPy 1.20; for more details and guidance: https://numpy.org/devdocs/release/1.20.0-notes.html#deprecations\n",
      "  eps=np.finfo(np.float).eps, copy_X=True, fit_path=True,\n",
      "C:\\Users\\chris\\Anaconda3\\lib\\site-packages\\sklearn\\linear_model\\least_angle.py:1101: DeprecationWarning: `np.float` is a deprecated alias for the builtin `float`. To silence this warning, use `float` by itself. Doing this will not modify any behavior and is safe. If you specifically wanted the numpy scalar type, use `np.float64` here.\n",
      "Deprecated in NumPy 1.20; for more details and guidance: https://numpy.org/devdocs/release/1.20.0-notes.html#deprecations\n",
      "  eps=np.finfo(np.float).eps, copy_X=True, fit_path=True,\n",
      "C:\\Users\\chris\\Anaconda3\\lib\\site-packages\\sklearn\\linear_model\\least_angle.py:1127: DeprecationWarning: `np.float` is a deprecated alias for the builtin `float`. To silence this warning, use `float` by itself. Doing this will not modify any behavior and is safe. If you specifically wanted the numpy scalar type, use `np.float64` here.\n",
      "Deprecated in NumPy 1.20; for more details and guidance: https://numpy.org/devdocs/release/1.20.0-notes.html#deprecations\n",
      "  eps=np.finfo(np.float).eps, positive=False):\n",
      "C:\\Users\\chris\\Anaconda3\\lib\\site-packages\\sklearn\\linear_model\\least_angle.py:1362: DeprecationWarning: `np.float` is a deprecated alias for the builtin `float`. To silence this warning, use `float` by itself. Doing this will not modify any behavior and is safe. If you specifically wanted the numpy scalar type, use `np.float64` here.\n",
      "Deprecated in NumPy 1.20; for more details and guidance: https://numpy.org/devdocs/release/1.20.0-notes.html#deprecations\n",
      "  max_n_alphas=1000, n_jobs=None, eps=np.finfo(np.float).eps,\n",
      "C:\\Users\\chris\\Anaconda3\\lib\\site-packages\\sklearn\\linear_model\\least_angle.py:1602: DeprecationWarning: `np.float` is a deprecated alias for the builtin `float`. To silence this warning, use `float` by itself. Doing this will not modify any behavior and is safe. If you specifically wanted the numpy scalar type, use `np.float64` here.\n",
      "Deprecated in NumPy 1.20; for more details and guidance: https://numpy.org/devdocs/release/1.20.0-notes.html#deprecations\n",
      "  max_n_alphas=1000, n_jobs=None, eps=np.finfo(np.float).eps,\n",
      "C:\\Users\\chris\\Anaconda3\\lib\\site-packages\\sklearn\\linear_model\\least_angle.py:1738: DeprecationWarning: `np.float` is a deprecated alias for the builtin `float`. To silence this warning, use `float` by itself. Doing this will not modify any behavior and is safe. If you specifically wanted the numpy scalar type, use `np.float64` here.\n",
      "Deprecated in NumPy 1.20; for more details and guidance: https://numpy.org/devdocs/release/1.20.0-notes.html#deprecations\n",
      "  eps=np.finfo(np.float).eps, copy_X=True, positive=False):\n",
      "C:\\Users\\chris\\Anaconda3\\lib\\site-packages\\sklearn\\decomposition\\online_lda.py:29: DeprecationWarning: `np.float` is a deprecated alias for the builtin `float`. To silence this warning, use `float` by itself. Doing this will not modify any behavior and is safe. If you specifically wanted the numpy scalar type, use `np.float64` here.\n",
      "Deprecated in NumPy 1.20; for more details and guidance: https://numpy.org/devdocs/release/1.20.0-notes.html#deprecations\n",
      "  EPS = np.finfo(np.float).eps\n"
     ]
    }
   ],
   "source": [
    "import importlib\n",
    "import pandas as pd\n",
    "import modules.data_processing\n",
    "import seaborn as sns\n",
    "import matplotlib.pyplot as plt\n",
    "import string\n",
    "from collections import Counter\n",
    "from collections import Counter\n",
    "from sklearn.feature_extraction.text import CountVectorizer\n",
    "from sklearn.decomposition import LatentDirichletAllocation\n",
    "from sklearn.feature_extraction.text import TfidfVectorizer\n",
    "from scipy.stats import ttest_ind"
   ]
  },
  {
   "cell_type": "code",
   "execution_count": 2,
   "metadata": {},
   "outputs": [],
   "source": [
    "importlib.reload(modules.data_processing)\n",
    "from modules.data_processing import *"
   ]
  },
  {
   "cell_type": "markdown",
   "metadata": {},
   "source": [
    "### Wiki data"
   ]
  },
  {
   "cell_type": "markdown",
   "metadata": {},
   "source": [
    "We extracted our wiki dataset for comparison with the other dataset."
   ]
  },
  {
   "cell_type": "code",
   "execution_count": 3,
   "metadata": {},
   "outputs": [],
   "source": [
    "DATA_PATH = './data/wiki-RfA.txt'\n",
    "wiki_df = extract_data(DATA_PATH)\n",
    "process_dataframe(wiki_df)"
   ]
  },
  {
   "cell_type": "code",
   "execution_count": 4,
   "metadata": {},
   "outputs": [
    {
     "data": {
      "text/html": [
       "<div>\n",
       "<style scoped>\n",
       "    .dataframe tbody tr th:only-of-type {\n",
       "        vertical-align: middle;\n",
       "    }\n",
       "\n",
       "    .dataframe tbody tr th {\n",
       "        vertical-align: top;\n",
       "    }\n",
       "\n",
       "    .dataframe thead th {\n",
       "        text-align: right;\n",
       "    }\n",
       "</style>\n",
       "<table border=\"1\" class=\"dataframe\">\n",
       "  <thead>\n",
       "    <tr style=\"text-align: right;\">\n",
       "      <th></th>\n",
       "      <th>SRC</th>\n",
       "      <th>TGT</th>\n",
       "      <th>VOT</th>\n",
       "      <th>RES</th>\n",
       "      <th>YEA</th>\n",
       "      <th>DAT</th>\n",
       "      <th>TXT</th>\n",
       "      <th>ELECTION_ID</th>\n",
       "    </tr>\n",
       "  </thead>\n",
       "  <tbody>\n",
       "    <tr>\n",
       "      <td>0</td>\n",
       "      <td>Steel1943</td>\n",
       "      <td>BDD</td>\n",
       "      <td>1</td>\n",
       "      <td>1</td>\n",
       "      <td>2013</td>\n",
       "      <td>NaT</td>\n",
       "      <td>'''Support''' as co-nom.</td>\n",
       "      <td>1</td>\n",
       "    </tr>\n",
       "    <tr>\n",
       "      <td>1</td>\n",
       "      <td>Cuchullain</td>\n",
       "      <td>BDD</td>\n",
       "      <td>1</td>\n",
       "      <td>1</td>\n",
       "      <td>2013</td>\n",
       "      <td>NaT</td>\n",
       "      <td>'''Support''' as nominator.--</td>\n",
       "      <td>1</td>\n",
       "    </tr>\n",
       "    <tr>\n",
       "      <td>2</td>\n",
       "      <td>INeverCry</td>\n",
       "      <td>BDD</td>\n",
       "      <td>1</td>\n",
       "      <td>1</td>\n",
       "      <td>2013</td>\n",
       "      <td>NaT</td>\n",
       "      <td>'''Support''' per noms.</td>\n",
       "      <td>1</td>\n",
       "    </tr>\n",
       "    <tr>\n",
       "      <td>3</td>\n",
       "      <td>Cncmaster</td>\n",
       "      <td>BDD</td>\n",
       "      <td>1</td>\n",
       "      <td>1</td>\n",
       "      <td>2013</td>\n",
       "      <td>NaT</td>\n",
       "      <td>'''Support''' per noms. BDD is a strong contri...</td>\n",
       "      <td>1</td>\n",
       "    </tr>\n",
       "    <tr>\n",
       "      <td>4</td>\n",
       "      <td>Miniapolis</td>\n",
       "      <td>BDD</td>\n",
       "      <td>1</td>\n",
       "      <td>1</td>\n",
       "      <td>2013</td>\n",
       "      <td>NaT</td>\n",
       "      <td>'''Support''', with great pleasure. I work wit...</td>\n",
       "      <td>1</td>\n",
       "    </tr>\n",
       "    <tr>\n",
       "      <td>5</td>\n",
       "      <td>Sven Manguard</td>\n",
       "      <td>BDD</td>\n",
       "      <td>1</td>\n",
       "      <td>1</td>\n",
       "      <td>2013</td>\n",
       "      <td>NaT</td>\n",
       "      <td>'''Support''' There are plenty of important ro...</td>\n",
       "      <td>1</td>\n",
       "    </tr>\n",
       "    <tr>\n",
       "      <td>6</td>\n",
       "      <td>Ramaksoud2000</td>\n",
       "      <td>BDD</td>\n",
       "      <td>1</td>\n",
       "      <td>1</td>\n",
       "      <td>2013</td>\n",
       "      <td>NaT</td>\n",
       "      <td>'''Support''' per noms. I don't see a reason n...</td>\n",
       "      <td>1</td>\n",
       "    </tr>\n",
       "    <tr>\n",
       "      <td>7</td>\n",
       "      <td>RockMagnetist</td>\n",
       "      <td>BDD</td>\n",
       "      <td>1</td>\n",
       "      <td>1</td>\n",
       "      <td>2013</td>\n",
       "      <td>NaT</td>\n",
       "      <td>'''Support'''  BDD already wields a broom pret...</td>\n",
       "      <td>1</td>\n",
       "    </tr>\n",
       "    <tr>\n",
       "      <td>8</td>\n",
       "      <td>Carrite</td>\n",
       "      <td>BDD</td>\n",
       "      <td>1</td>\n",
       "      <td>1</td>\n",
       "      <td>2013</td>\n",
       "      <td>NaT</td>\n",
       "      <td>'''Support''' barring a completely unexpected ...</td>\n",
       "      <td>1</td>\n",
       "    </tr>\n",
       "    <tr>\n",
       "      <td>9</td>\n",
       "      <td>Someguy1221</td>\n",
       "      <td>BDD</td>\n",
       "      <td>1</td>\n",
       "      <td>1</td>\n",
       "      <td>2013</td>\n",
       "      <td>NaT</td>\n",
       "      <td>'''Support''' because I see no good reason not...</td>\n",
       "      <td>1</td>\n",
       "    </tr>\n",
       "  </tbody>\n",
       "</table>\n",
       "</div>"
      ],
      "text/plain": [
       "             SRC  TGT  VOT  RES   YEA DAT  \\\n",
       "0      Steel1943  BDD    1    1  2013 NaT   \n",
       "1     Cuchullain  BDD    1    1  2013 NaT   \n",
       "2      INeverCry  BDD    1    1  2013 NaT   \n",
       "3      Cncmaster  BDD    1    1  2013 NaT   \n",
       "4     Miniapolis  BDD    1    1  2013 NaT   \n",
       "5  Sven Manguard  BDD    1    1  2013 NaT   \n",
       "6  Ramaksoud2000  BDD    1    1  2013 NaT   \n",
       "7  RockMagnetist  BDD    1    1  2013 NaT   \n",
       "8        Carrite  BDD    1    1  2013 NaT   \n",
       "9    Someguy1221  BDD    1    1  2013 NaT   \n",
       "\n",
       "                                                 TXT  ELECTION_ID  \n",
       "0                           '''Support''' as co-nom.            1  \n",
       "1                      '''Support''' as nominator.--            1  \n",
       "2                            '''Support''' per noms.            1  \n",
       "3  '''Support''' per noms. BDD is a strong contri...            1  \n",
       "4  '''Support''', with great pleasure. I work wit...            1  \n",
       "5  '''Support''' There are plenty of important ro...            1  \n",
       "6  '''Support''' per noms. I don't see a reason n...            1  \n",
       "7  '''Support'''  BDD already wields a broom pret...            1  \n",
       "8  '''Support''' barring a completely unexpected ...            1  \n",
       "9  '''Support''' because I see no good reason not...            1  "
      ]
     },
     "execution_count": 4,
     "metadata": {},
     "output_type": "execute_result"
    }
   ],
   "source": [
    "wiki_df.head(10)"
   ]
  },
  {
   "cell_type": "markdown",
   "metadata": {},
   "source": [
    "#### Text preprocessing"
   ]
  },
  {
   "cell_type": "code",
   "execution_count": 5,
   "metadata": {},
   "outputs": [],
   "source": [
    "from modules.data_processing import *\n",
    "importlib.reload(modules.data_processing)\n",
    "\n",
    "wiki_copy = wiki_df.copy()\n",
    "wiki_copy['TXT'] = wiki_copy['TXT'].astype(str)\n",
    "\n",
    "wiki_copy['CLE'] = wiki_copy['TXT'].apply(remove_wiki_markup)\n",
    "wiki_copy['CLE'] = wiki_copy['CLE'].apply(lambda x: '' if len(x) < 3 and x not in ['OK', 'No']  else x)\n"
   ]
  },
  {
   "cell_type": "code",
   "execution_count": 6,
   "metadata": {},
   "outputs": [
    {
     "data": {
      "text/html": [
       "<div>\n",
       "<style scoped>\n",
       "    .dataframe tbody tr th:only-of-type {\n",
       "        vertical-align: middle;\n",
       "    }\n",
       "\n",
       "    .dataframe tbody tr th {\n",
       "        vertical-align: top;\n",
       "    }\n",
       "\n",
       "    .dataframe thead th {\n",
       "        text-align: right;\n",
       "    }\n",
       "</style>\n",
       "<table border=\"1\" class=\"dataframe\">\n",
       "  <thead>\n",
       "    <tr style=\"text-align: right;\">\n",
       "      <th></th>\n",
       "      <th>SRC</th>\n",
       "      <th>TGT</th>\n",
       "      <th>VOT</th>\n",
       "      <th>RES</th>\n",
       "      <th>YEA</th>\n",
       "      <th>DAT</th>\n",
       "      <th>TXT</th>\n",
       "      <th>ELECTION_ID</th>\n",
       "      <th>CLE</th>\n",
       "    </tr>\n",
       "  </thead>\n",
       "  <tbody>\n",
       "    <tr>\n",
       "      <td>0</td>\n",
       "      <td>Steel1943</td>\n",
       "      <td>BDD</td>\n",
       "      <td>1</td>\n",
       "      <td>1</td>\n",
       "      <td>2013</td>\n",
       "      <td>NaT</td>\n",
       "      <td>'''Support''' as co-nom.</td>\n",
       "      <td>1</td>\n",
       "      <td>Support as co-nom.</td>\n",
       "    </tr>\n",
       "    <tr>\n",
       "      <td>1</td>\n",
       "      <td>Cuchullain</td>\n",
       "      <td>BDD</td>\n",
       "      <td>1</td>\n",
       "      <td>1</td>\n",
       "      <td>2013</td>\n",
       "      <td>NaT</td>\n",
       "      <td>'''Support''' as nominator.--</td>\n",
       "      <td>1</td>\n",
       "      <td>Support as nominator.</td>\n",
       "    </tr>\n",
       "    <tr>\n",
       "      <td>2</td>\n",
       "      <td>INeverCry</td>\n",
       "      <td>BDD</td>\n",
       "      <td>1</td>\n",
       "      <td>1</td>\n",
       "      <td>2013</td>\n",
       "      <td>NaT</td>\n",
       "      <td>'''Support''' per noms.</td>\n",
       "      <td>1</td>\n",
       "      <td>Support per noms.</td>\n",
       "    </tr>\n",
       "    <tr>\n",
       "      <td>3</td>\n",
       "      <td>Cncmaster</td>\n",
       "      <td>BDD</td>\n",
       "      <td>1</td>\n",
       "      <td>1</td>\n",
       "      <td>2013</td>\n",
       "      <td>NaT</td>\n",
       "      <td>'''Support''' per noms. BDD is a strong contri...</td>\n",
       "      <td>1</td>\n",
       "      <td>Support per noms. BDD is a strong contributor ...</td>\n",
       "    </tr>\n",
       "    <tr>\n",
       "      <td>4</td>\n",
       "      <td>Miniapolis</td>\n",
       "      <td>BDD</td>\n",
       "      <td>1</td>\n",
       "      <td>1</td>\n",
       "      <td>2013</td>\n",
       "      <td>NaT</td>\n",
       "      <td>'''Support''', with great pleasure. I work wit...</td>\n",
       "      <td>1</td>\n",
       "      <td>Support, with great pleasure. I work with BDD ...</td>\n",
       "    </tr>\n",
       "    <tr>\n",
       "      <td>5</td>\n",
       "      <td>Sven Manguard</td>\n",
       "      <td>BDD</td>\n",
       "      <td>1</td>\n",
       "      <td>1</td>\n",
       "      <td>2013</td>\n",
       "      <td>NaT</td>\n",
       "      <td>'''Support''' There are plenty of important ro...</td>\n",
       "      <td>1</td>\n",
       "      <td>Support There are plenty of important roles on...</td>\n",
       "    </tr>\n",
       "    <tr>\n",
       "      <td>6</td>\n",
       "      <td>Ramaksoud2000</td>\n",
       "      <td>BDD</td>\n",
       "      <td>1</td>\n",
       "      <td>1</td>\n",
       "      <td>2013</td>\n",
       "      <td>NaT</td>\n",
       "      <td>'''Support''' per noms. I don't see a reason n...</td>\n",
       "      <td>1</td>\n",
       "      <td>Support per noms. I don't see a reason not to.</td>\n",
       "    </tr>\n",
       "    <tr>\n",
       "      <td>7</td>\n",
       "      <td>RockMagnetist</td>\n",
       "      <td>BDD</td>\n",
       "      <td>1</td>\n",
       "      <td>1</td>\n",
       "      <td>2013</td>\n",
       "      <td>NaT</td>\n",
       "      <td>'''Support'''  BDD already wields a broom pret...</td>\n",
       "      <td>1</td>\n",
       "      <td>Support  BDD already wields a broom pretty wel...</td>\n",
       "    </tr>\n",
       "    <tr>\n",
       "      <td>8</td>\n",
       "      <td>Carrite</td>\n",
       "      <td>BDD</td>\n",
       "      <td>1</td>\n",
       "      <td>1</td>\n",
       "      <td>2013</td>\n",
       "      <td>NaT</td>\n",
       "      <td>'''Support''' barring a completely unexpected ...</td>\n",
       "      <td>1</td>\n",
       "      <td>Support barring a completely unexpected answer...</td>\n",
       "    </tr>\n",
       "    <tr>\n",
       "      <td>9</td>\n",
       "      <td>Someguy1221</td>\n",
       "      <td>BDD</td>\n",
       "      <td>1</td>\n",
       "      <td>1</td>\n",
       "      <td>2013</td>\n",
       "      <td>NaT</td>\n",
       "      <td>'''Support''' because I see no good reason not...</td>\n",
       "      <td>1</td>\n",
       "      <td>Support because I see no good reason not to.</td>\n",
       "    </tr>\n",
       "  </tbody>\n",
       "</table>\n",
       "</div>"
      ],
      "text/plain": [
       "             SRC  TGT  VOT  RES   YEA DAT  \\\n",
       "0      Steel1943  BDD    1    1  2013 NaT   \n",
       "1     Cuchullain  BDD    1    1  2013 NaT   \n",
       "2      INeverCry  BDD    1    1  2013 NaT   \n",
       "3      Cncmaster  BDD    1    1  2013 NaT   \n",
       "4     Miniapolis  BDD    1    1  2013 NaT   \n",
       "5  Sven Manguard  BDD    1    1  2013 NaT   \n",
       "6  Ramaksoud2000  BDD    1    1  2013 NaT   \n",
       "7  RockMagnetist  BDD    1    1  2013 NaT   \n",
       "8        Carrite  BDD    1    1  2013 NaT   \n",
       "9    Someguy1221  BDD    1    1  2013 NaT   \n",
       "\n",
       "                                                 TXT  ELECTION_ID  \\\n",
       "0                           '''Support''' as co-nom.            1   \n",
       "1                      '''Support''' as nominator.--            1   \n",
       "2                            '''Support''' per noms.            1   \n",
       "3  '''Support''' per noms. BDD is a strong contri...            1   \n",
       "4  '''Support''', with great pleasure. I work wit...            1   \n",
       "5  '''Support''' There are plenty of important ro...            1   \n",
       "6  '''Support''' per noms. I don't see a reason n...            1   \n",
       "7  '''Support'''  BDD already wields a broom pret...            1   \n",
       "8  '''Support''' barring a completely unexpected ...            1   \n",
       "9  '''Support''' because I see no good reason not...            1   \n",
       "\n",
       "                                                 CLE  \n",
       "0                                 Support as co-nom.  \n",
       "1                             Support as nominator.   \n",
       "2                                  Support per noms.  \n",
       "3  Support per noms. BDD is a strong contributor ...  \n",
       "4  Support, with great pleasure. I work with BDD ...  \n",
       "5  Support There are plenty of important roles on...  \n",
       "6     Support per noms. I don't see a reason not to.  \n",
       "7  Support  BDD already wields a broom pretty wel...  \n",
       "8  Support barring a completely unexpected answer...  \n",
       "9       Support because I see no good reason not to.  "
      ]
     },
     "execution_count": 6,
     "metadata": {},
     "output_type": "execute_result"
    }
   ],
   "source": [
    "wiki_copy.head(10)"
   ]
  },
  {
   "cell_type": "markdown",
   "metadata": {},
   "source": [
    "### Creators data"
   ]
  },
  {
   "cell_type": "markdown",
   "metadata": {},
   "source": [
    "Let's extract the creators dataset"
   ]
  },
  {
   "cell_type": "code",
   "execution_count": 7,
   "metadata": {},
   "outputs": [],
   "source": [
    "DATA_PATH = './data/top_creators.txt'\n",
    "\n",
    "# Ouvrir le fichier avec la fonction open\n",
    "with open(DATA_PATH, 'r', encoding='utf-8') as data_file:\n",
    "    lines = data_file.readlines()\n",
    "\n",
    "data_lines = [line.strip() for line in lines if not line.startswith('|-')]\n",
    "data_lines = [line[2:] for line in data_lines]\n",
    "\n",
    "data_dict = defaultdict(list)\n",
    "\n",
    "for i in range(3, len(data_lines), 3):\n",
    "    data_dict[data_lines[0]].append(data_lines[i])\n",
    "    data_dict[data_lines[1]].append(data_lines[i+1])\n",
    "    data_dict[data_lines[2]].append(data_lines[i+2])\n",
    "\n",
    "creators_df = pd.DataFrame(data_dict)\n",
    "creators_df['USER'] = creators_df.apply(lambda row: row['USER'].split('|')[1] if '|' in row['USER'] else row['USER'], axis=1)\n",
    "creators_df['USER'] = creators_df['USER'].str.rstrip(\"]]\")\n",
    "\n",
    "creators_df['NB_PAGES'] = creators_df['NB_PAGES'].astype(int)"
   ]
  },
  {
   "cell_type": "code",
   "execution_count": 8,
   "metadata": {},
   "outputs": [
    {
     "data": {
      "text/html": [
       "<div>\n",
       "<style scoped>\n",
       "    .dataframe tbody tr th:only-of-type {\n",
       "        vertical-align: middle;\n",
       "    }\n",
       "\n",
       "    .dataframe tbody tr th {\n",
       "        vertical-align: top;\n",
       "    }\n",
       "\n",
       "    .dataframe thead th {\n",
       "        text-align: right;\n",
       "    }\n",
       "</style>\n",
       "<table border=\"1\" class=\"dataframe\">\n",
       "  <thead>\n",
       "    <tr style=\"text-align: right;\">\n",
       "      <th></th>\n",
       "      <th>RANK</th>\n",
       "      <th>USER</th>\n",
       "      <th>NB_PAGES</th>\n",
       "    </tr>\n",
       "  </thead>\n",
       "  <tbody>\n",
       "    <tr>\n",
       "      <td>0</td>\n",
       "      <td>1</td>\n",
       "      <td>Kotbot</td>\n",
       "      <td>55605</td>\n",
       "    </tr>\n",
       "    <tr>\n",
       "      <td>1</td>\n",
       "      <td>2</td>\n",
       "      <td>Dr. Blofeld</td>\n",
       "      <td>49089</td>\n",
       "    </tr>\n",
       "    <tr>\n",
       "      <td>2</td>\n",
       "      <td>3</td>\n",
       "      <td>Polbot</td>\n",
       "      <td>40174</td>\n",
       "    </tr>\n",
       "    <tr>\n",
       "      <td>3</td>\n",
       "      <td>4</td>\n",
       "      <td>Ram-Man</td>\n",
       "      <td>35076</td>\n",
       "    </tr>\n",
       "    <tr>\n",
       "      <td>4</td>\n",
       "      <td>5</td>\n",
       "      <td>AlbertHerring</td>\n",
       "      <td>14692</td>\n",
       "    </tr>\n",
       "  </tbody>\n",
       "</table>\n",
       "</div>"
      ],
      "text/plain": [
       "  RANK           USER  NB_PAGES\n",
       "0    1         Kotbot     55605\n",
       "1    2    Dr. Blofeld     49089\n",
       "2    3         Polbot     40174\n",
       "3    4        Ram-Man     35076\n",
       "4    5  AlbertHerring     14692"
      ]
     },
     "execution_count": 8,
     "metadata": {},
     "output_type": "execute_result"
    }
   ],
   "source": [
    "creators_df.head(5)"
   ]
  },
  {
   "cell_type": "markdown",
   "metadata": {},
   "source": [
    "Let's incorporate the information we have regarding the number of pages created into our wiki dataset."
   ]
  },
  {
   "cell_type": "code",
   "execution_count": 9,
   "metadata": {},
   "outputs": [],
   "source": [
    "merged_df = pd.merge(creators_df, wiki_copy, left_on='USER', right_on='TGT', how='inner')"
   ]
  },
  {
   "cell_type": "code",
   "execution_count": 10,
   "metadata": {},
   "outputs": [
    {
     "data": {
      "text/html": [
       "<div>\n",
       "<style scoped>\n",
       "    .dataframe tbody tr th:only-of-type {\n",
       "        vertical-align: middle;\n",
       "    }\n",
       "\n",
       "    .dataframe tbody tr th {\n",
       "        vertical-align: top;\n",
       "    }\n",
       "\n",
       "    .dataframe thead th {\n",
       "        text-align: right;\n",
       "    }\n",
       "</style>\n",
       "<table border=\"1\" class=\"dataframe\">\n",
       "  <thead>\n",
       "    <tr style=\"text-align: right;\">\n",
       "      <th></th>\n",
       "      <th>RANK</th>\n",
       "      <th>USER</th>\n",
       "      <th>NB_PAGES</th>\n",
       "      <th>SRC</th>\n",
       "      <th>TGT</th>\n",
       "      <th>VOT</th>\n",
       "      <th>RES</th>\n",
       "      <th>YEA</th>\n",
       "      <th>DAT</th>\n",
       "      <th>TXT</th>\n",
       "      <th>ELECTION_ID</th>\n",
       "      <th>CLE</th>\n",
       "    </tr>\n",
       "  </thead>\n",
       "  <tbody>\n",
       "    <tr>\n",
       "      <td>0</td>\n",
       "      <td>5</td>\n",
       "      <td>AlbertHerring</td>\n",
       "      <td>14692</td>\n",
       "      <td>Maximillion Pegasus</td>\n",
       "      <td>AlbertHerring</td>\n",
       "      <td>1</td>\n",
       "      <td>0</td>\n",
       "      <td>2008</td>\n",
       "      <td>NaT</td>\n",
       "      <td>'''Support''' I would like to see a little mor...</td>\n",
       "      <td>1021</td>\n",
       "      <td>Support I would like to see a little more Wiki...</td>\n",
       "    </tr>\n",
       "    <tr>\n",
       "      <td>1</td>\n",
       "      <td>5</td>\n",
       "      <td>AlbertHerring</td>\n",
       "      <td>14692</td>\n",
       "      <td>Basketball110</td>\n",
       "      <td>AlbertHerring</td>\n",
       "      <td>1</td>\n",
       "      <td>0</td>\n",
       "      <td>2008</td>\n",
       "      <td>NaT</td>\n",
       "      <td>'''Support''' as nom (shouldn't I be first to ...</td>\n",
       "      <td>1021</td>\n",
       "      <td>Support as nom (shouldn't I be first to suppor...</td>\n",
       "    </tr>\n",
       "    <tr>\n",
       "      <td>2</td>\n",
       "      <td>5</td>\n",
       "      <td>AlbertHerring</td>\n",
       "      <td>14692</td>\n",
       "      <td>Wisdom89</td>\n",
       "      <td>AlbertHerring</td>\n",
       "      <td>-1</td>\n",
       "      <td>0</td>\n",
       "      <td>2008</td>\n",
       "      <td>NaT</td>\n",
       "      <td>'''Oppose''' - I essentially knew how I was go...</td>\n",
       "      <td>1021</td>\n",
       "      <td>Oppose - I essentially knew how I was going to...</td>\n",
       "    </tr>\n",
       "    <tr>\n",
       "      <td>3</td>\n",
       "      <td>5</td>\n",
       "      <td>AlbertHerring</td>\n",
       "      <td>14692</td>\n",
       "      <td>Alanbly</td>\n",
       "      <td>AlbertHerring</td>\n",
       "      <td>-1</td>\n",
       "      <td>0</td>\n",
       "      <td>2008</td>\n",
       "      <td>NaT</td>\n",
       "      <td>'''Oppose''' - Proportionately miniscule use o...</td>\n",
       "      <td>1021</td>\n",
       "      <td>Oppose - Proportionately miniscule use of talk...</td>\n",
       "    </tr>\n",
       "    <tr>\n",
       "      <td>4</td>\n",
       "      <td>5</td>\n",
       "      <td>AlbertHerring</td>\n",
       "      <td>14692</td>\n",
       "      <td>Siva1979</td>\n",
       "      <td>AlbertHerring</td>\n",
       "      <td>-1</td>\n",
       "      <td>0</td>\n",
       "      <td>2008</td>\n",
       "      <td>NaT</td>\n",
       "      <td>'''Oppose''' per the above comments. --&lt;font s...</td>\n",
       "      <td>1021</td>\n",
       "      <td>Oppose per the above comments.</td>\n",
       "    </tr>\n",
       "  </tbody>\n",
       "</table>\n",
       "</div>"
      ],
      "text/plain": [
       "  RANK           USER  NB_PAGES                  SRC            TGT  VOT  RES  \\\n",
       "0    5  AlbertHerring     14692  Maximillion Pegasus  AlbertHerring    1    0   \n",
       "1    5  AlbertHerring     14692        Basketball110  AlbertHerring    1    0   \n",
       "2    5  AlbertHerring     14692             Wisdom89  AlbertHerring   -1    0   \n",
       "3    5  AlbertHerring     14692              Alanbly  AlbertHerring   -1    0   \n",
       "4    5  AlbertHerring     14692             Siva1979  AlbertHerring   -1    0   \n",
       "\n",
       "    YEA DAT                                                TXT  ELECTION_ID  \\\n",
       "0  2008 NaT  '''Support''' I would like to see a little mor...         1021   \n",
       "1  2008 NaT  '''Support''' as nom (shouldn't I be first to ...         1021   \n",
       "2  2008 NaT  '''Oppose''' - I essentially knew how I was go...         1021   \n",
       "3  2008 NaT  '''Oppose''' - Proportionately miniscule use o...         1021   \n",
       "4  2008 NaT  '''Oppose''' per the above comments. --<font s...         1021   \n",
       "\n",
       "                                                 CLE  \n",
       "0  Support I would like to see a little more Wiki...  \n",
       "1  Support as nom (shouldn't I be first to suppor...  \n",
       "2  Oppose - I essentially knew how I was going to...  \n",
       "3  Oppose - Proportionately miniscule use of talk...  \n",
       "4                   Oppose per the above comments.    "
      ]
     },
     "execution_count": 10,
     "metadata": {},
     "output_type": "execute_result"
    }
   ],
   "source": [
    "merged_df.head(5)"
   ]
  },
  {
   "cell_type": "markdown",
   "metadata": {},
   "source": [
    "Let's see how many candidates we have information about the number of pages created."
   ]
  },
  {
   "cell_type": "code",
   "execution_count": 11,
   "metadata": {},
   "outputs": [
    {
     "name": "stdout",
     "output_type": "stream",
     "text": [
      "Percentage of the wiki dataset explain by the creators dataset 27.11 %\n"
     ]
    }
   ],
   "source": [
    "unique_candidate_df = wiki_copy.drop_duplicates(subset='TGT', keep='first')\n",
    "unique_common_candidate_df = merged_df.drop_duplicates(subset='USER', keep='first')\n",
    "print(f\"Percentage of the wiki dataset explain by the creators dataset {round(100*len(unique_common_candidate_df)/len(unique_candidate_df),2)} %\")"
   ]
  },
  {
   "cell_type": "markdown",
   "metadata": {},
   "source": [
    "Now, we can create a box plot representing the distribution of the number of pages created based on the election result."
   ]
  },
  {
   "cell_type": "code",
   "execution_count": 12,
   "metadata": {},
   "outputs": [
    {
     "data": {
      "image/png": "[encoded data removed]",
      "text/plain": [
       "<Figure size 432x288 with 1 Axes>"
      ]
     },
     "metadata": {
      "needs_background": "light"
     },
     "output_type": "display_data"
    }
   ],
   "source": [
    "res_nb_pages = unique_common_candidate_df[['NB_PAGES','RES']]\n",
    "plot = sns.boxplot(x=\"RES\", y=\"NB_PAGES\", data=res_nb_pages)\n",
    "plt.xlabel(\"Result\")\n",
    "plt.ylabel(\"Number of pages created\")\n",
    "plt.yscale('log')"
   ]
  },
  {
   "cell_type": "markdown",
   "metadata": {},
   "source": [
    "We can conduct a t-test to determine if there is a significant difference between the means of the rejected and accepted groups."
   ]
  },
  {
   "cell_type": "code",
   "execution_count": 13,
   "metadata": {},
   "outputs": [
    {
     "name": "stdout",
     "output_type": "stream",
     "text": [
      "P-value: 0.7588801182901398\n",
      "There is no significant difference.\n"
     ]
    }
   ],
   "source": [
    "rejected = res_nb_pages[res_nb_pages['RES'] == 0]['NB_PAGES']\n",
    "accepted = res_nb_pages[res_nb_pages['RES'] == 1]['NB_PAGES']\n",
    "\n",
    "# Perform independent two-sample t-test\n",
    "t_statistic, p_value = ttest_ind(rejected, accepted)\n",
    "\n",
    "print(f'P-value: {p_value}')\n",
    "\n",
    "alpha = 0.05\n",
    "if p_value < alpha:\n",
    "    print(\"There is a significant difference.\")\n",
    "else:\n",
    "    print(\"There is no significant difference.\")"
   ]
  },
  {
   "cell_type": "markdown",
   "metadata": {},
   "source": [
    "As indicated by the t-test, there is no significant difference. Therefore, we cannot conclude that creating more pages leads to a better chance of being elected."
   ]
  },
  {
   "cell_type": "markdown",
   "metadata": {},
   "source": [
    "### Editors data"
   ]
  },
  {
   "cell_type": "markdown",
   "metadata": {},
   "source": [
    "Let's extract the editors dataset"
   ]
  },
  {
   "cell_type": "code",
   "execution_count": 14,
   "metadata": {},
   "outputs": [],
   "source": [
    "DATA_PATH = './data/top_editors.txt'\n",
    "\n",
    "# Ouvrir le fichier avec la fonction open\n",
    "with open(DATA_PATH, 'r', encoding='utf-8') as data_file:\n",
    "    lines = data_file.readlines()\n",
    "\n",
    "data_lines = [line.strip() for line in lines if not line.startswith('|-')]\n",
    "data_lines = [line[2:] for line in data_lines]\n",
    "\n",
    "data_dict = defaultdict(list)\n",
    "\n",
    "data_lines.insert(4003, 'NaN') # missing data correction\n",
    "\n",
    "for i in range(4, len(data_lines), 4):\n",
    "    data_dict[data_lines[0]].append(data_lines[i])\n",
    "    data_dict[data_lines[1]].append(data_lines[i+1])\n",
    "    data_dict[data_lines[2]].append(data_lines[i+2])\n",
    "    data_dict[data_lines[3]].append(data_lines[i+3])\n",
    "\n",
    "\n",
    "editors_df = pd.DataFrame(data_dict)\n",
    "editors_df['USER'] = editors_df.apply(lambda row: row['USER'].split('|')[1] if '|' in row['USER'] else row['USER'], axis=1)\n",
    "editors_df['USER'] = editors_df['USER'].str.rstrip(\"]]\")\n",
    "\n",
    "editors_df['NB_EDITS'] = editors_df['NB_EDITS'].apply(lambda x: str(x).replace(\",\", \"\"))\n",
    "editors_df['NB_EDITS'] = editors_df['NB_EDITS'].astype(int)"
   ]
  },
  {
   "cell_type": "code",
   "execution_count": 15,
   "metadata": {},
   "outputs": [
    {
     "data": {
      "text/html": [
       "<div>\n",
       "<style scoped>\n",
       "    .dataframe tbody tr th:only-of-type {\n",
       "        vertical-align: middle;\n",
       "    }\n",
       "\n",
       "    .dataframe tbody tr th {\n",
       "        vertical-align: top;\n",
       "    }\n",
       "\n",
       "    .dataframe thead th {\n",
       "        text-align: right;\n",
       "    }\n",
       "</style>\n",
       "<table border=\"1\" class=\"dataframe\">\n",
       "  <thead>\n",
       "    <tr style=\"text-align: right;\">\n",
       "      <th></th>\n",
       "      <th>RANK</th>\n",
       "      <th>USER</th>\n",
       "      <th>NB_EDITS</th>\n",
       "      <th>CAT</th>\n",
       "    </tr>\n",
       "  </thead>\n",
       "  <tbody>\n",
       "    <tr>\n",
       "      <td>0</td>\n",
       "      <td>1</td>\n",
       "      <td>Ser Amantio di Nicolao</td>\n",
       "      <td>5705768</td>\n",
       "      <td>AP, Ad</td>\n",
       "    </tr>\n",
       "    <tr>\n",
       "      <td>1</td>\n",
       "      <td>2</td>\n",
       "      <td>BrownHairedGirl</td>\n",
       "      <td>2942733</td>\n",
       "      <td>AP, ECo, EM, F, N, Rv, Ro, TE</td>\n",
       "    </tr>\n",
       "    <tr>\n",
       "      <td>2</td>\n",
       "      <td>3</td>\n",
       "      <td>Jevansen</td>\n",
       "      <td>2408733</td>\n",
       "      <td>AP, ECo, EM, Rv, Ro</td>\n",
       "    </tr>\n",
       "    <tr>\n",
       "      <td>3</td>\n",
       "      <td>4</td>\n",
       "      <td>BD2412</td>\n",
       "      <td>2262281</td>\n",
       "      <td>AP, IP, Ad</td>\n",
       "    </tr>\n",
       "    <tr>\n",
       "      <td>4</td>\n",
       "      <td>5</td>\n",
       "      <td>Koavf</td>\n",
       "      <td>2153268</td>\n",
       "      <td>AP, ECo, EM, F, N, Rv, Ro, TE</td>\n",
       "    </tr>\n",
       "  </tbody>\n",
       "</table>\n",
       "</div>"
      ],
      "text/plain": [
       "  RANK                    USER  NB_EDITS                            CAT\n",
       "0    1  Ser Amantio di Nicolao   5705768                         AP, Ad\n",
       "1    2         BrownHairedGirl   2942733  AP, ECo, EM, F, N, Rv, Ro, TE\n",
       "2    3                Jevansen   2408733            AP, ECo, EM, Rv, Ro\n",
       "3    4                  BD2412   2262281                     AP, IP, Ad\n",
       "4    5                   Koavf   2153268  AP, ECo, EM, F, N, Rv, Ro, TE"
      ]
     },
     "execution_count": 15,
     "metadata": {},
     "output_type": "execute_result"
    }
   ],
   "source": [
    "editors_df.head(5)"
   ]
  },
  {
   "cell_type": "markdown",
   "metadata": {},
   "source": [
    "Let's incorporate the information we have regarding the number of edits made into our wiki dataset."
   ]
  },
  {
   "cell_type": "code",
   "execution_count": 16,
   "metadata": {},
   "outputs": [],
   "source": [
    "common_candidate_df = pd.merge(editors_df, wiki_copy, left_on='USER', right_on='TGT', how='inner')"
   ]
  },
  {
   "cell_type": "code",
   "execution_count": 17,
   "metadata": {},
   "outputs": [
    {
     "data": {
      "text/html": [
       "<div>\n",
       "<style scoped>\n",
       "    .dataframe tbody tr th:only-of-type {\n",
       "        vertical-align: middle;\n",
       "    }\n",
       "\n",
       "    .dataframe tbody tr th {\n",
       "        vertical-align: top;\n",
       "    }\n",
       "\n",
       "    .dataframe thead th {\n",
       "        text-align: right;\n",
       "    }\n",
       "</style>\n",
       "<table border=\"1\" class=\"dataframe\">\n",
       "  <thead>\n",
       "    <tr style=\"text-align: right;\">\n",
       "      <th></th>\n",
       "      <th>RANK</th>\n",
       "      <th>USER</th>\n",
       "      <th>NB_EDITS</th>\n",
       "      <th>CAT</th>\n",
       "      <th>SRC</th>\n",
       "      <th>TGT</th>\n",
       "      <th>VOT</th>\n",
       "      <th>RES</th>\n",
       "      <th>YEA</th>\n",
       "      <th>DAT</th>\n",
       "      <th>TXT</th>\n",
       "      <th>ELECTION_ID</th>\n",
       "      <th>CLE</th>\n",
       "    </tr>\n",
       "  </thead>\n",
       "  <tbody>\n",
       "    <tr>\n",
       "      <td>0</td>\n",
       "      <td>2</td>\n",
       "      <td>BrownHairedGirl</td>\n",
       "      <td>2942733</td>\n",
       "      <td>AP, ECo, EM, F, N, Rv, Ro, TE</td>\n",
       "      <td>D-Day</td>\n",
       "      <td>BrownHairedGirl</td>\n",
       "      <td>1</td>\n",
       "      <td>1</td>\n",
       "      <td>2006</td>\n",
       "      <td>NaT</td>\n",
       "      <td>'''Support on WHEELS!!!''' Looks good to me! -...</td>\n",
       "      <td>2231</td>\n",
       "      <td>Support on WHEELS!!! Looks good to me!  (</td>\n",
       "    </tr>\n",
       "    <tr>\n",
       "      <td>1</td>\n",
       "      <td>2</td>\n",
       "      <td>BrownHairedGirl</td>\n",
       "      <td>2942733</td>\n",
       "      <td>AP, ECo, EM, F, N, Rv, Ro, TE</td>\n",
       "      <td>Rama's Arrow</td>\n",
       "      <td>BrownHairedGirl</td>\n",
       "      <td>1</td>\n",
       "      <td>1</td>\n",
       "      <td>2006</td>\n",
       "      <td>NaT</td>\n",
       "      <td>'''Support''' I find nothing wrong in self-nom...</td>\n",
       "      <td>2231</td>\n",
       "      <td>Support I find nothing wrong in self-nominatin...</td>\n",
       "    </tr>\n",
       "    <tr>\n",
       "      <td>2</td>\n",
       "      <td>2</td>\n",
       "      <td>BrownHairedGirl</td>\n",
       "      <td>2942733</td>\n",
       "      <td>AP, ECo, EM, F, N, Rv, Ro, TE</td>\n",
       "      <td>Tone</td>\n",
       "      <td>BrownHairedGirl</td>\n",
       "      <td>1</td>\n",
       "      <td>1</td>\n",
       "      <td>2006</td>\n",
       "      <td>NaT</td>\n",
       "      <td>'''Support'''. Looks good to me also. --'''[[U...</td>\n",
       "      <td>2231</td>\n",
       "      <td>Support. Looks good to me also.</td>\n",
       "    </tr>\n",
       "    <tr>\n",
       "      <td>3</td>\n",
       "      <td>2</td>\n",
       "      <td>BrownHairedGirl</td>\n",
       "      <td>2942733</td>\n",
       "      <td>AP, ECo, EM, F, N, Rv, Ro, TE</td>\n",
       "      <td>Lethe</td>\n",
       "      <td>BrownHairedGirl</td>\n",
       "      <td>1</td>\n",
       "      <td>1</td>\n",
       "      <td>2006</td>\n",
       "      <td>NaT</td>\n",
       "      <td>'''Support'''.  I am a person who's not too ke...</td>\n",
       "      <td>2231</td>\n",
       "      <td>Support.  I am a person who's not too keen on ...</td>\n",
       "    </tr>\n",
       "    <tr>\n",
       "      <td>4</td>\n",
       "      <td>2</td>\n",
       "      <td>BrownHairedGirl</td>\n",
       "      <td>2942733</td>\n",
       "      <td>AP, ECo, EM, F, N, Rv, Ro, TE</td>\n",
       "      <td>Nephron</td>\n",
       "      <td>BrownHairedGirl</td>\n",
       "      <td>1</td>\n",
       "      <td>1</td>\n",
       "      <td>2006</td>\n",
       "      <td>NaT</td>\n",
       "      <td>'''Support'''. Looks alright. No sign that the...</td>\n",
       "      <td>2231</td>\n",
       "      <td>Support. Looks alright. No sign that they woul...</td>\n",
       "    </tr>\n",
       "  </tbody>\n",
       "</table>\n",
       "</div>"
      ],
      "text/plain": [
       "  RANK             USER  NB_EDITS                            CAT  \\\n",
       "0    2  BrownHairedGirl   2942733  AP, ECo, EM, F, N, Rv, Ro, TE   \n",
       "1    2  BrownHairedGirl   2942733  AP, ECo, EM, F, N, Rv, Ro, TE   \n",
       "2    2  BrownHairedGirl   2942733  AP, ECo, EM, F, N, Rv, Ro, TE   \n",
       "3    2  BrownHairedGirl   2942733  AP, ECo, EM, F, N, Rv, Ro, TE   \n",
       "4    2  BrownHairedGirl   2942733  AP, ECo, EM, F, N, Rv, Ro, TE   \n",
       "\n",
       "            SRC              TGT  VOT  RES   YEA DAT  \\\n",
       "0         D-Day  BrownHairedGirl    1    1  2006 NaT   \n",
       "1  Rama's Arrow  BrownHairedGirl    1    1  2006 NaT   \n",
       "2          Tone  BrownHairedGirl    1    1  2006 NaT   \n",
       "3         Lethe  BrownHairedGirl    1    1  2006 NaT   \n",
       "4       Nephron  BrownHairedGirl    1    1  2006 NaT   \n",
       "\n",
       "                                                 TXT  ELECTION_ID  \\\n",
       "0  '''Support on WHEELS!!!''' Looks good to me! -...         2231   \n",
       "1  '''Support''' I find nothing wrong in self-nom...         2231   \n",
       "2  '''Support'''. Looks good to me also. --'''[[U...         2231   \n",
       "3  '''Support'''.  I am a person who's not too ke...         2231   \n",
       "4  '''Support'''. Looks alright. No sign that the...         2231   \n",
       "\n",
       "                                                 CLE  \n",
       "0     Support on WHEELS!!! Looks good to me!  (       \n",
       "1  Support I find nothing wrong in self-nominatin...  \n",
       "2                 Support. Looks good to me also.     \n",
       "3  Support.  I am a person who's not too keen on ...  \n",
       "4  Support. Looks alright. No sign that they woul...  "
      ]
     },
     "execution_count": 17,
     "metadata": {},
     "output_type": "execute_result"
    }
   ],
   "source": [
    "common_candidate_df.head(5)"
   ]
  },
  {
   "cell_type": "markdown",
   "metadata": {},
   "source": [
    "Let's see how many candidates we have information about the number of edits made."
   ]
  },
  {
   "cell_type": "code",
   "execution_count": 18,
   "metadata": {},
   "outputs": [
    {
     "name": "stdout",
     "output_type": "stream",
     "text": [
      "Percentage of the wiki dataset explain by the editors dataset 44.07 %\n"
     ]
    }
   ],
   "source": [
    "unique_candidate_df = wiki_copy.drop_duplicates(subset='TGT', keep='first')\n",
    "unique_common_candidate_df = common_candidate_df.drop_duplicates(subset='USER', keep='first')\n",
    "print(f\"Percentage of the wiki dataset explain by the editors dataset {round(100*len(unique_common_candidate_df)/len(unique_candidate_df),2)} %\")"
   ]
  },
  {
   "cell_type": "markdown",
   "metadata": {},
   "source": [
    "Now, we can create a box plot representing the distribution of the number of edits made based on the election result."
   ]
  },
  {
   "cell_type": "code",
   "execution_count": 19,
   "metadata": {},
   "outputs": [
    {
     "data": {
      "image/png": "[encoded data removed]",
      "text/plain": [
       "<Figure size 432x288 with 1 Axes>"
      ]
     },
     "metadata": {
      "needs_background": "light"
     },
     "output_type": "display_data"
    }
   ],
   "source": [
    "res_nb_edits = unique_common_candidate_df[['NB_EDITS','RES']]\n",
    "plot = sns.boxplot(x=\"RES\", y=\"NB_EDITS\", data=res_nb_edits)\n",
    "plt.xlabel(\"Result\")\n",
    "plt.ylabel(\"Number of edits\")\n",
    "plt.yscale('log')"
   ]
  },
  {
   "cell_type": "markdown",
   "metadata": {},
   "source": [
    "We can conduct a t-test to determine if there is a significant difference between the means of the rejected and accepted groups."
   ]
  },
  {
   "cell_type": "code",
   "execution_count": 20,
   "metadata": {},
   "outputs": [
    {
     "name": "stdout",
     "output_type": "stream",
     "text": [
      "P-value: 0.021456774615374565\n",
      "There is a significant difference.\n"
     ]
    }
   ],
   "source": [
    "rejected = res_nb_edits[res_nb_edits['RES'] == 0]['NB_EDITS']\n",
    "accepted = res_nb_edits[res_nb_edits['RES'] == 1]['NB_EDITS']\n",
    "\n",
    "# Perform independent two-sample t-test\n",
    "t_statistic, p_value = ttest_ind(rejected, accepted)\n",
    "\n",
    "print(f'P-value: {p_value}')\n",
    "\n",
    "alpha = 0.05\n",
    "if p_value < alpha:\n",
    "    print(\"There is a significant difference.\")\n",
    "else:\n",
    "    print(\"There is no significant difference.\")"
   ]
  },
  {
   "cell_type": "markdown",
   "metadata": {},
   "source": [
    "As we can see, there is a significant difference, so we can conclude that making edits increases the chance of being elected."
   ]
  },
  {
   "cell_type": "markdown",
   "metadata": {},
   "source": [
    "### Authors data"
   ]
  },
  {
   "cell_type": "markdown",
   "metadata": {},
   "source": [
    "Let's extract the authors dataset"
   ]
  },
  {
   "cell_type": "code",
   "execution_count": 21,
   "metadata": {},
   "outputs": [],
   "source": [
    "DATA_PATH = './data/top_authors.txt'\n",
    "\n",
    "# Ouvrir le fichier avec la fonction open\n",
    "with open(DATA_PATH, 'r', encoding='utf-8') as data_file:\n",
    "    lines = data_file.readlines()\n",
    "\n",
    "data_lines = [line.strip() for line in lines if not line.startswith('|-')]\n",
    "data_lines = [line[2:] for line in data_lines]\n",
    "\n",
    "data_dict = defaultdict(list)\n",
    "\n",
    "for i in range(3, len(data_lines), 3):\n",
    "    data_dict[data_lines[0]].append(data_lines[i])\n",
    "    data_dict[data_lines[1]].append(data_lines[i+1])\n",
    "    data_dict[data_lines[2]].append(data_lines[i+2])\n",
    "\n",
    "authors_df = pd.DataFrame(data_dict)\n",
    "authors_df['USER'] = authors_df.apply(lambda row: row['USER'].split('|')[1] if '|' in row['USER'] else row['USER'], axis=1)\n",
    "authors_df['USER'] = authors_df['USER'].str.rstrip(\"]]\")\n",
    "\n",
    "authors_df['NB_ARTICLES'] = authors_df.apply(lambda row: row['NB_ARTICLES'].split('|')[1] if '|' in row['NB_ARTICLES'] else row['NB_ARTICLES'], axis=1)\n",
    "authors_df['NB_ARTICLES'] = authors_df['NB_ARTICLES'].str.rstrip(\"]}}\")\n",
    "authors_df['NB_ARTICLES'] = authors_df['NB_ARTICLES'].str.lstrip(\"[\")\n",
    "\n",
    "authors_df['RANK'] = authors_df['RANK'].apply(lambda x: str(x).replace(\"Top 100 Random Sort\", \"1\"))\n",
    "authors_df['NB_ARTICLES'] = authors_df['NB_ARTICLES'].apply(lambda x: str(x).replace(\"count protected\", \"4821\"))\n",
    "authors_df['NB_ARTICLES'] = authors_df['NB_ARTICLES'].apply(lambda x: str(x).replace(\",\", \"\"))\n",
    "authors_df['NB_ARTICLES'] = authors_df['NB_ARTICLES'].astype(int)"
   ]
  },
  {
   "cell_type": "code",
   "execution_count": 22,
   "metadata": {},
   "outputs": [
    {
     "data": {
      "text/html": [
       "<div>\n",
       "<style scoped>\n",
       "    .dataframe tbody tr th:only-of-type {\n",
       "        vertical-align: middle;\n",
       "    }\n",
       "\n",
       "    .dataframe tbody tr th {\n",
       "        vertical-align: top;\n",
       "    }\n",
       "\n",
       "    .dataframe thead th {\n",
       "        text-align: right;\n",
       "    }\n",
       "</style>\n",
       "<table border=\"1\" class=\"dataframe\">\n",
       "  <thead>\n",
       "    <tr style=\"text-align: right;\">\n",
       "      <th></th>\n",
       "      <th>RANK</th>\n",
       "      <th>USER</th>\n",
       "      <th>NB_ARTICLES</th>\n",
       "    </tr>\n",
       "  </thead>\n",
       "  <tbody>\n",
       "    <tr>\n",
       "      <td>0</td>\n",
       "      <td>1</td>\n",
       "      <td>Yankees10</td>\n",
       "      <td>4821</td>\n",
       "    </tr>\n",
       "    <tr>\n",
       "      <td>1</td>\n",
       "      <td>1</td>\n",
       "      <td>Davidlofgren1996</td>\n",
       "      <td>4821</td>\n",
       "    </tr>\n",
       "    <tr>\n",
       "      <td>2</td>\n",
       "      <td>1</td>\n",
       "      <td>Kwamikagami</td>\n",
       "      <td>4821</td>\n",
       "    </tr>\n",
       "    <tr>\n",
       "      <td>3</td>\n",
       "      <td>1</td>\n",
       "      <td>Number 57</td>\n",
       "      <td>4821</td>\n",
       "    </tr>\n",
       "    <tr>\n",
       "      <td>4</td>\n",
       "      <td>1</td>\n",
       "      <td>Philafrenzy</td>\n",
       "      <td>4821</td>\n",
       "    </tr>\n",
       "  </tbody>\n",
       "</table>\n",
       "</div>"
      ],
      "text/plain": [
       "  RANK              USER  NB_ARTICLES\n",
       "0    1         Yankees10         4821\n",
       "1    1  Davidlofgren1996         4821\n",
       "2    1       Kwamikagami         4821\n",
       "3    1         Number 57         4821\n",
       "4    1       Philafrenzy         4821"
      ]
     },
     "execution_count": 22,
     "metadata": {},
     "output_type": "execute_result"
    }
   ],
   "source": [
    "authors_df.head(5)"
   ]
  },
  {
   "cell_type": "markdown",
   "metadata": {},
   "source": [
    "Let's incorporate the information we have regarding the number of articles created into our wiki dataset."
   ]
  },
  {
   "cell_type": "code",
   "execution_count": 23,
   "metadata": {},
   "outputs": [],
   "source": [
    "merged_df = pd.merge(authors_df, wiki_copy, left_on='USER', right_on='TGT', how='inner')"
   ]
  },
  {
   "cell_type": "code",
   "execution_count": 24,
   "metadata": {},
   "outputs": [
    {
     "data": {
      "text/html": [
       "<div>\n",
       "<style scoped>\n",
       "    .dataframe tbody tr th:only-of-type {\n",
       "        vertical-align: middle;\n",
       "    }\n",
       "\n",
       "    .dataframe tbody tr th {\n",
       "        vertical-align: top;\n",
       "    }\n",
       "\n",
       "    .dataframe thead th {\n",
       "        text-align: right;\n",
       "    }\n",
       "</style>\n",
       "<table border=\"1\" class=\"dataframe\">\n",
       "  <thead>\n",
       "    <tr style=\"text-align: right;\">\n",
       "      <th></th>\n",
       "      <th>RANK</th>\n",
       "      <th>USER</th>\n",
       "      <th>NB_ARTICLES</th>\n",
       "      <th>SRC</th>\n",
       "      <th>TGT</th>\n",
       "      <th>VOT</th>\n",
       "      <th>RES</th>\n",
       "      <th>YEA</th>\n",
       "      <th>DAT</th>\n",
       "      <th>TXT</th>\n",
       "      <th>ELECTION_ID</th>\n",
       "      <th>CLE</th>\n",
       "    </tr>\n",
       "  </thead>\n",
       "  <tbody>\n",
       "    <tr>\n",
       "      <td>0</td>\n",
       "      <td>1</td>\n",
       "      <td>Kwamikagami</td>\n",
       "      <td>4821</td>\n",
       "      <td>The Singing Badger</td>\n",
       "      <td>Kwamikagami</td>\n",
       "      <td>1</td>\n",
       "      <td>1</td>\n",
       "      <td>2005</td>\n",
       "      <td>NaT</td>\n",
       "      <td></td>\n",
       "      <td>3209</td>\n",
       "      <td></td>\n",
       "    </tr>\n",
       "    <tr>\n",
       "      <td>1</td>\n",
       "      <td>1</td>\n",
       "      <td>Kwamikagami</td>\n",
       "      <td>4821</td>\n",
       "      <td>Astrotrain</td>\n",
       "      <td>Kwamikagami</td>\n",
       "      <td>1</td>\n",
       "      <td>1</td>\n",
       "      <td>2005</td>\n",
       "      <td>NaT</td>\n",
       "      <td>Support</td>\n",
       "      <td>3209</td>\n",
       "      <td>Support</td>\n",
       "    </tr>\n",
       "    <tr>\n",
       "      <td>2</td>\n",
       "      <td>1</td>\n",
       "      <td>Kwamikagami</td>\n",
       "      <td>4821</td>\n",
       "      <td>Private Butcher</td>\n",
       "      <td>Kwamikagami</td>\n",
       "      <td>1</td>\n",
       "      <td>1</td>\n",
       "      <td>2005</td>\n",
       "      <td>NaT</td>\n",
       "      <td>'''Support''', enough edits, and has been here...</td>\n",
       "      <td>3209</td>\n",
       "      <td>Support, enough edits, and has been here for a...</td>\n",
       "    </tr>\n",
       "    <tr>\n",
       "      <td>3</td>\n",
       "      <td>1</td>\n",
       "      <td>Kwamikagami</td>\n",
       "      <td>4821</td>\n",
       "      <td>JonMoore</td>\n",
       "      <td>Kwamikagami</td>\n",
       "      <td>1</td>\n",
       "      <td>1</td>\n",
       "      <td>2005</td>\n",
       "      <td>NaT</td>\n",
       "      <td>'''Support'''. Kwamikagami is a great editor, ...</td>\n",
       "      <td>3209</td>\n",
       "      <td>Support. Kwamikagami is a great editor, and th...</td>\n",
       "    </tr>\n",
       "    <tr>\n",
       "      <td>4</td>\n",
       "      <td>1</td>\n",
       "      <td>Kwamikagami</td>\n",
       "      <td>4821</td>\n",
       "      <td>Ish ishwar</td>\n",
       "      <td>Kwamikagami</td>\n",
       "      <td>1</td>\n",
       "      <td>1</td>\n",
       "      <td>2005</td>\n",
       "      <td>NaT</td>\n",
       "      <td>'''support''' - good phonetics, phonology, ext...</td>\n",
       "      <td>3209</td>\n",
       "      <td>support - good phonetics, phonology, extra.</td>\n",
       "    </tr>\n",
       "  </tbody>\n",
       "</table>\n",
       "</div>"
      ],
      "text/plain": [
       "  RANK         USER  NB_ARTICLES                 SRC          TGT  VOT  RES  \\\n",
       "0    1  Kwamikagami         4821  The Singing Badger  Kwamikagami    1    1   \n",
       "1    1  Kwamikagami         4821          Astrotrain  Kwamikagami    1    1   \n",
       "2    1  Kwamikagami         4821     Private Butcher  Kwamikagami    1    1   \n",
       "3    1  Kwamikagami         4821            JonMoore  Kwamikagami    1    1   \n",
       "4    1  Kwamikagami         4821          Ish ishwar  Kwamikagami    1    1   \n",
       "\n",
       "    YEA DAT                                                TXT  ELECTION_ID  \\\n",
       "0  2005 NaT                                                            3209   \n",
       "1  2005 NaT                                            Support         3209   \n",
       "2  2005 NaT  '''Support''', enough edits, and has been here...         3209   \n",
       "3  2005 NaT  '''Support'''. Kwamikagami is a great editor, ...         3209   \n",
       "4  2005 NaT  '''support''' - good phonetics, phonology, ext...         3209   \n",
       "\n",
       "                                                 CLE  \n",
       "0                                                     \n",
       "1                                            Support  \n",
       "2  Support, enough edits, and has been here for a...  \n",
       "3  Support. Kwamikagami is a great editor, and th...  \n",
       "4       support - good phonetics, phonology, extra.   "
      ]
     },
     "execution_count": 24,
     "metadata": {},
     "output_type": "execute_result"
    }
   ],
   "source": [
    "merged_df.head(5)"
   ]
  },
  {
   "cell_type": "markdown",
   "metadata": {},
   "source": [
    "Let's see how many candidates we have information about the number of articles created."
   ]
  },
  {
   "cell_type": "code",
   "execution_count": 25,
   "metadata": {},
   "outputs": [
    {
     "name": "stdout",
     "output_type": "stream",
     "text": [
      "Percentage of the wiki dataset explain by the editors dataset 29.6 %\n"
     ]
    }
   ],
   "source": [
    "unique_candidate_df = wiki_copy.drop_duplicates(subset='TGT', keep='first')\n",
    "unique_common_candidate_df = merged_df.drop_duplicates(subset='USER', keep='first')\n",
    "print(f\"Percentage of the wiki dataset explain by the editors dataset {round(100*len(unique_common_candidate_df)/len(unique_candidate_df),2)} %\")"
   ]
  },
  {
   "cell_type": "markdown",
   "metadata": {},
   "source": [
    "Now, we can create a box plot representing the distribution of the number of articles created based on the election result."
   ]
  },
  {
   "cell_type": "code",
   "execution_count": 26,
   "metadata": {},
   "outputs": [
    {
     "data": {
      "image/png": "[encoded data removed]",
      "text/plain": [
       "<Figure size 432x288 with 1 Axes>"
      ]
     },
     "metadata": {
      "needs_background": "light"
     },
     "output_type": "display_data"
    }
   ],
   "source": [
    "res_nb_articles = unique_common_candidate_df[['NB_ARTICLES','RES']]\n",
    "plot = sns.boxplot(x=\"RES\", y=\"NB_ARTICLES\", data=res_nb_articles)\n",
    "plt.xlabel(\"Result\")\n",
    "plt.ylabel(\"Number of articles created\")\n",
    "plt.yscale('log')"
   ]
  },
  {
   "cell_type": "markdown",
   "metadata": {},
   "source": [
    "We can conduct a t-test to determine if there is a significant difference between the means of the rejected and accepted groups."
   ]
  },
  {
   "cell_type": "code",
   "execution_count": 27,
   "metadata": {},
   "outputs": [
    {
     "name": "stdout",
     "output_type": "stream",
     "text": [
      "P-value: 0.20299662389187162\n",
      "There is no significant difference.\n"
     ]
    }
   ],
   "source": [
    "rejected = res_nb_articles[res_nb_articles['RES'] == 0]['NB_ARTICLES']\n",
    "accepted = res_nb_articles[res_nb_articles['RES'] == 1]['NB_ARTICLES']\n",
    "\n",
    "# Perform independent two-sample t-test\n",
    "t_statistic, p_value = ttest_ind(rejected, accepted)\n",
    "\n",
    "print(f'P-value: {p_value}')\n",
    "\n",
    "alpha = 0.05\n",
    "if p_value < alpha:\n",
    "    print(\"There is a significant difference.\")\n",
    "else:\n",
    "    print(\"There is no significant difference.\")"
   ]
  },
  {
   "cell_type": "markdown",
   "metadata": {},
   "source": [
    "As indicated by the t-test, there is no significant difference. Therefore, we cannot conclude that creating more articles leads to a better chance of being elected."
   ]
  }
 ],
 "metadata": {
  "kernelspec": {
   "display_name": "Python 3",
   "language": "python",
   "name": "python3"
  },
  "language_info": {
   "codemirror_mode": {
    "name": "ipython",
    "version": 3
   },
   "file_extension": ".py",
   "mimetype": "text/x-python",
   "name": "python",
   "nbconvert_exporter": "python",
   "pygments_lexer": "ipython3",
   "version": "3.7.4"
  }
 },
 "nbformat": 4,
 "nbformat_minor": 5
}
