{
 "cells": [
  {
   "cell_type": "markdown",
   "id": "d772aafa-4660-4cec-be1f-f94016ab6879",
   "metadata": {},
   "source": [
    "### Imports"
   ]
  },
  {
   "cell_type": "code",
   "execution_count": 2,
   "id": "0493c585-1da5-4f44-bd79-84203bdd779e",
   "metadata": {
    "tags": []
   },
   "outputs": [],
   "source": [
    "# Mettre ici tous les imports\n",
    "import importlib\n",
    "import pandas as pd\n",
    "import modules.data_processing"
   ]
  },
  {
   "cell_type": "code",
   "execution_count": 3,
   "id": "db8e8fab-abc8-46c1-ad82-01262171c5ed",
   "metadata": {
    "tags": []
   },
   "outputs": [],
   "source": [
    "## Reloading, relancer cette cell si vous modifiez les fonctions\n",
    "\n",
    "importlib.reload(modules.data_processing)\n",
    "from modules.data_processing import *"
   ]
  },
  {
   "cell_type": "code",
   "execution_count": 5,
   "id": "cd80595e-105c-4701-a24b-9beee164962b",
   "metadata": {
    "tags": []
   },
   "outputs": [],
   "source": [
    "DATA_PATH = './data/wiki-RfA.txt'\n",
    "EDITORS_PATH = './data/top_editors.txt'\n",
    "AUTHORS_PATH = './data/top_authors.txt'\n",
    "CREATORS_PATH = './data/top_creators.txt'"
   ]
  },
  {
   "cell_type": "markdown",
   "id": "6e73e40b-03f9-4bb1-bce6-1808847e7b02",
   "metadata": {},
   "source": [
    "### Preparing Data"
   ]
  },
  {
   "cell_type": "code",
   "execution_count": 6,
   "id": "1e692372-c589-4cd6-8d9e-0bba9fb1b84b",
   "metadata": {
    "tags": []
   },
   "outputs": [],
   "source": [
    "wiki_df = extract_data(DATA_PATH)\n",
    "process_dataframe(wiki_df)\n",
    "\n",
    "#elections_df = create_elections_df(wiki_df)\n",
    "#candidates_df = create_candidates_df(wiki_df)\n",
    "#voters_df = create_voters_df(wiki_df)\n",
    "\n",
    "\n",
    "#editors_df = parse_other_datasets(EDITORS_PATH)\n",
    "#authors_df = parse_other_datasets(AUTHORS_PATH)\n",
    "#creators_df = parse_other_datasets(CREATORS_PATH)\n",
    "\n",
    "#format_editors_df(editors_df)\n",
    "#format_authors_df(authors_df)\n",
    "#format_creators_df(creators_df)"
   ]
  }
 ],
 "metadata": {
  "kernelspec": {
   "display_name": "Python 3 (ipykernel)",
   "language": "python",
   "name": "python3"
  },
  "language_info": {
   "codemirror_mode": {
    "name": "ipython",
    "version": 3
   },
   "file_extension": ".py",
   "mimetype": "text/x-python",
   "name": "python",
   "nbconvert_exporter": "python",
   "pygments_lexer": "ipython3",
   "version": "3.11.5"
  }
 },
 "nbformat": 4,
 "nbformat_minor": 5
}
